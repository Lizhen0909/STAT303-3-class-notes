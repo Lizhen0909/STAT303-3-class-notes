{
 "cells": [
  {
   "cell_type": "raw",
   "id": "1902cbf7",
   "metadata": {},
   "source": [
    "---\n",
    "title: \"Gradient Boosting\"\n",
    "format: \n",
    "  html:\n",
    "    code-fold: false\n",
    "    toc-depth: 4\n",
    "    jupyter: python3\n",
    "---"
   ]
  },
  {
   "cell_type": "markdown",
   "id": "3cc40179",
   "metadata": {},
   "source": [
    "*Check the gradient boosting algorithm in section 10.10.2 of the book, [Elements of Statistical Learning](https://hastie.su.domains/ElemStatLearn/) before using these notes.*\n",
    "\n",
    "*Note that in this course, lecture notes are not sufficient, you must read the book for better understanding. Lecture notes are just implementing the concepts of the book on a dataset, but not explaining the concepts elaborately.*"
   ]
  },
  {
   "cell_type": "markdown",
   "id": "0b6569ab",
   "metadata": {},
   "source": [
    "## Hyperparameters\n",
    "There are 5 important parameters to tune in Gradient boosting:\n",
    "\n",
    "1. Number of trees \n",
    "\n",
    "2. Depth of each tree \n",
    "\n",
    "3. Learning rate  \n",
    "\n",
    "4. Subsample fraction\n",
    "\n",
    "5. Maximum features\n",
    "\n",
    "Let us visualize the accuracy of Gradient boosting when we independently tweak each of the above parameters."
   ]
  },
  {
   "cell_type": "code",
   "execution_count": 8,
   "id": "f819f995",
   "metadata": {},
   "outputs": [],
   "source": [
    "import pandas as pd\n",
    "import numpy as np\n",
    "import seaborn as sns\n",
    "import matplotlib.pyplot as plt\n",
    "from sklearn.metrics import mean_squared_error\n",
    "from sklearn.model_selection import cross_val_score,train_test_split, KFold, cross_val_predict\n",
    "from sklearn.metrics import mean_squared_error,r2_score,roc_curve,auc,precision_recall_curve, accuracy_score, \\\n",
    "recall_score, precision_score, confusion_matrix\n",
    "from sklearn.tree import DecisionTreeRegressor,DecisionTreeClassifier\n",
    "from sklearn.model_selection import GridSearchCV, ParameterGrid, StratifiedKFold\n",
    "from sklearn.ensemble import GradientBoostingRegressor,GradientBoostingClassifier, BaggingRegressor,BaggingClassifier,RandomForestRegressor,RandomForestClassifier,AdaBoostRegressor,AdaBoostClassifier\n",
    "from sklearn.linear_model import LinearRegression,LogisticRegression\n",
    "from sklearn.neighbors import KNeighborsRegressor\n",
    "import itertools as it\n",
    "import time as time\n",
    "\n",
    "from skopt import BayesSearchCV\n",
    "from skopt.space import Real, Categorical, Integer\n",
    "from skopt.plots import plot_objective, plot_histogram, plot_convergence\n",
    "import warnings\n",
    "from IPython import display"
   ]
  },
  {
   "cell_type": "code",
   "execution_count": 2,
   "id": "a9036ef3",
   "metadata": {},
   "outputs": [
    {
     "data": {
      "text/html": [
       "<div>\n",
       "<style scoped>\n",
       "    .dataframe tbody tr th:only-of-type {\n",
       "        vertical-align: middle;\n",
       "    }\n",
       "\n",
       "    .dataframe tbody tr th {\n",
       "        vertical-align: top;\n",
       "    }\n",
       "\n",
       "    .dataframe thead th {\n",
       "        text-align: right;\n",
       "    }\n",
       "</style>\n",
       "<table border=\"1\" class=\"dataframe\">\n",
       "  <thead>\n",
       "    <tr style=\"text-align: right;\">\n",
       "      <th></th>\n",
       "      <th>carID</th>\n",
       "      <th>brand</th>\n",
       "      <th>model</th>\n",
       "      <th>year</th>\n",
       "      <th>transmission</th>\n",
       "      <th>mileage</th>\n",
       "      <th>fuelType</th>\n",
       "      <th>tax</th>\n",
       "      <th>mpg</th>\n",
       "      <th>engineSize</th>\n",
       "      <th>price</th>\n",
       "    </tr>\n",
       "  </thead>\n",
       "  <tbody>\n",
       "    <tr>\n",
       "      <th>0</th>\n",
       "      <td>18473</td>\n",
       "      <td>bmw</td>\n",
       "      <td>6 Series</td>\n",
       "      <td>2020</td>\n",
       "      <td>Semi-Auto</td>\n",
       "      <td>11</td>\n",
       "      <td>Diesel</td>\n",
       "      <td>145</td>\n",
       "      <td>53.3282</td>\n",
       "      <td>3.0</td>\n",
       "      <td>37980</td>\n",
       "    </tr>\n",
       "    <tr>\n",
       "      <th>1</th>\n",
       "      <td>15064</td>\n",
       "      <td>bmw</td>\n",
       "      <td>6 Series</td>\n",
       "      <td>2019</td>\n",
       "      <td>Semi-Auto</td>\n",
       "      <td>10813</td>\n",
       "      <td>Diesel</td>\n",
       "      <td>145</td>\n",
       "      <td>53.0430</td>\n",
       "      <td>3.0</td>\n",
       "      <td>33980</td>\n",
       "    </tr>\n",
       "    <tr>\n",
       "      <th>2</th>\n",
       "      <td>18268</td>\n",
       "      <td>bmw</td>\n",
       "      <td>6 Series</td>\n",
       "      <td>2020</td>\n",
       "      <td>Semi-Auto</td>\n",
       "      <td>6</td>\n",
       "      <td>Diesel</td>\n",
       "      <td>145</td>\n",
       "      <td>53.4379</td>\n",
       "      <td>3.0</td>\n",
       "      <td>36850</td>\n",
       "    </tr>\n",
       "    <tr>\n",
       "      <th>3</th>\n",
       "      <td>18480</td>\n",
       "      <td>bmw</td>\n",
       "      <td>6 Series</td>\n",
       "      <td>2017</td>\n",
       "      <td>Semi-Auto</td>\n",
       "      <td>18895</td>\n",
       "      <td>Diesel</td>\n",
       "      <td>145</td>\n",
       "      <td>51.5140</td>\n",
       "      <td>3.0</td>\n",
       "      <td>25998</td>\n",
       "    </tr>\n",
       "    <tr>\n",
       "      <th>4</th>\n",
       "      <td>18492</td>\n",
       "      <td>bmw</td>\n",
       "      <td>6 Series</td>\n",
       "      <td>2015</td>\n",
       "      <td>Automatic</td>\n",
       "      <td>62953</td>\n",
       "      <td>Diesel</td>\n",
       "      <td>160</td>\n",
       "      <td>51.4903</td>\n",
       "      <td>3.0</td>\n",
       "      <td>18990</td>\n",
       "    </tr>\n",
       "  </tbody>\n",
       "</table>\n",
       "</div>"
      ],
      "text/plain": [
       "   carID brand      model  year transmission  mileage fuelType  tax      mpg  \\\n",
       "0  18473   bmw   6 Series  2020    Semi-Auto       11   Diesel  145  53.3282   \n",
       "1  15064   bmw   6 Series  2019    Semi-Auto    10813   Diesel  145  53.0430   \n",
       "2  18268   bmw   6 Series  2020    Semi-Auto        6   Diesel  145  53.4379   \n",
       "3  18480   bmw   6 Series  2017    Semi-Auto    18895   Diesel  145  51.5140   \n",
       "4  18492   bmw   6 Series  2015    Automatic    62953   Diesel  160  51.4903   \n",
       "\n",
       "   engineSize  price  \n",
       "0         3.0  37980  \n",
       "1         3.0  33980  \n",
       "2         3.0  36850  \n",
       "3         3.0  25998  \n",
       "4         3.0  18990  "
      ]
     },
     "execution_count": 2,
     "metadata": {},
     "output_type": "execute_result"
    }
   ],
   "source": [
    "#Using the same datasets as used for linear regression in STAT303-2, \n",
    "#so that we can compare the non-linear models with linear regression\n",
    "trainf = pd.read_csv('./Datasets/Car_features_train.csv')\n",
    "trainp = pd.read_csv('./Datasets/Car_prices_train.csv')\n",
    "testf = pd.read_csv('./Datasets/Car_features_test.csv')\n",
    "testp = pd.read_csv('./Datasets/Car_prices_test.csv')\n",
    "train = pd.merge(trainf,trainp)\n",
    "test = pd.merge(testf,testp)\n",
    "train.head()"
   ]
  },
  {
   "cell_type": "code",
   "execution_count": 3,
   "id": "db6b5f99",
   "metadata": {},
   "outputs": [],
   "source": [
    "X = train[['mileage','mpg','year','engineSize']]\n",
    "Xtest = test[['mileage','mpg','year','engineSize']]\n",
    "y = train['price']\n",
    "ytest = test['price']"
   ]
  },
  {
   "cell_type": "markdown",
   "id": "8a895b16",
   "metadata": {},
   "source": [
    "## Gradient boosting for regression"
   ]
  },
  {
   "cell_type": "markdown",
   "id": "a2e35f1a",
   "metadata": {},
   "source": [
    "### Number of trees vs cross validation error\n",
    "As per the [documentation](https://scikit-learn.org/stable/modules/generated/sklearn.ensemble.GradientBoostingRegressor.html#sklearn.ensemble.GradientBoostingRegressor), Gradient boosting is fairly robust to over-fitting (why?) so a large number usually results in better performance."
   ]
  },
  {
   "cell_type": "code",
   "execution_count": 37,
   "id": "452c9c3a",
   "metadata": {},
   "outputs": [
    {
     "name": "stdout",
     "output_type": "stream",
     "text": [
      ">2 14927.566 (179.475)\n",
      ">5 12743.148 (189.408)\n",
      ">10 10704.199 (226.234)\n",
      ">50 6869.066 (278.885)\n",
      ">100 6354.656 (270.097)\n",
      ">500 5515.622 (424.516)\n",
      ">1000 5515.251 (427.767)\n",
      ">2000 5600.041 (389.687)\n",
      ">5000 5854.168 (362.223)\n"
     ]
    },
    {
     "data": {
      "text/plain": [
       "Text(0.5, 0, 'Number of trees')"
      ]
     },
     "execution_count": 37,
     "metadata": {},
     "output_type": "execute_result"
    },
    {
     "data": {
      "image/png": "[encoded data removed]",
      "text/plain": [
       "<Figure size 432x288 with 1 Axes>"
      ]
     },
     "metadata": {
      "needs_background": "light"
     },
     "output_type": "display_data"
    }
   ],
   "source": [
    "def get_models():\n",
    "    models = dict()\n",
    "    # define number of trees to consider\n",
    "    n_trees = [2, 5, 10, 50, 100, 500, 1000, 2000, 5000]\n",
    "    for n in n_trees:\n",
    "        models[str(n)] = GradientBoostingRegressor(n_estimators=n,random_state=1,loss='huber')\n",
    "    return models\n",
    "\n",
    "# evaluate a given model using cross-validation\n",
    "def evaluate_model(model, X, y):\n",
    "    # define the evaluation procedure\n",
    "    cv = KFold(n_splits=5, shuffle=True, random_state=1)\n",
    "    # evaluate the model and collect the results\n",
    "    scores = np.sqrt(-cross_val_score(model, X, y, scoring='neg_mean_squared_error', cv=cv, n_jobs=-1))\n",
    "    return scores\n",
    "\n",
    "# get the models to evaluate\n",
    "models = get_models()\n",
    "# evaluate the models and store results\n",
    "results, names = list(), list()\n",
    "for name, model in models.items():\n",
    "    # evaluate the model\n",
    "    scores = evaluate_model(model, X, y)\n",
    "    # store the results\n",
    "    results.append(scores)\n",
    "    names.append(name)\n",
    "    # summarize the performance along the way\n",
    "    print('>%s %.3f (%.3f)' % (name, np.mean(scores), np.std(scores)))\n",
    "# plot model performance for comparison\n",
    "plt.boxplot(results, labels=names, showmeans=True)\n",
    "plt.ylabel('Cross validation error',fontsize=15)\n",
    "plt.xlabel('Number of trees',fontsize=15)"
   ]
  },
  {
   "cell_type": "markdown",
   "id": "dedc8bc2",
   "metadata": {},
   "source": [
    "### Depth of tree vs cross validation error\n",
    "As the depth of each weak learner (decision tree) increases, the complexity of the weak learner will increase. As the complexity increases, the prediction bias will decrease, while the prediction variance will increase. Thus, there will be an optimal depth of each weak learner that minimizes the prediction error."
   ]
  },
  {
   "cell_type": "code",
   "execution_count": 36,
   "id": "561bab67",
   "metadata": {},
   "outputs": [
    {
     "name": "stdout",
     "output_type": "stream",
     "text": [
      ">1 9693.731 (810.090)\n",
      ">2 7682.569 (489.841)\n",
      ">3 6844.225 (536.792)\n",
      ">4 5972.203 (538.693)\n",
      ">5 5664.563 (497.882)\n",
      ">6 5329.130 (404.330)\n",
      ">7 5210.934 (461.038)\n",
      ">8 5197.204 (494.957)\n",
      ">9 5227.975 (478.789)\n",
      ">10 5299.782 (446.509)\n",
      ">11 5433.822 (451.673)\n",
      ">12 5617.946 (509.797)\n",
      ">13 5876.424 (542.981)\n",
      ">14 6030.507 (560.447)\n",
      ">15 6125.914 (643.852)\n",
      ">16 6294.784 (672.646)\n",
      ">17 6342.327 (677.050)\n",
      ">18 6372.418 (791.068)\n",
      ">19 6456.471 (741.693)\n",
      ">20 6503.622 (759.193)\n"
     ]
    },
    {
     "data": {
      "text/plain": [
       "Text(0.5, 0, 'Depth of each tree')"
      ]
     },
     "execution_count": 36,
     "metadata": {},
     "output_type": "execute_result"
    },
    {
     "data": {
      "image/png": "[encoded data removed]",
      "text/plain": [
       "<Figure size 432x288 with 1 Axes>"
      ]
     },
     "metadata": {
      "needs_background": "light"
     },
     "output_type": "display_data"
    }
   ],
   "source": [
    "# get a list of models to evaluate\n",
    "def get_models():\n",
    "    models = dict()\n",
    "    # explore depths from 1 to 10\n",
    "    for i in range(1,21):\n",
    "        # define ensemble model\n",
    "        models[str(i)] = GradientBoostingRegressor(n_estimators=50,random_state=1,max_depth=i,loss='huber')\n",
    "    return models\n",
    "\n",
    "# evaluate a given model using cross-validation\n",
    "def evaluate_model(model, X, y):\n",
    "    # define the evaluation procedure\n",
    "    cv = KFold(n_splits=10, shuffle=True, random_state=1)\n",
    "    # evaluate the model and collect the results\n",
    "    scores = np.sqrt(-cross_val_score(model, X, y, scoring='neg_mean_squared_error', cv=cv, n_jobs=-1))\n",
    "    return scores\n",
    "\n",
    "# get the models to evaluate\n",
    "models = get_models()\n",
    "# evaluate the models and store results\n",
    "results, names = list(), list()\n",
    "for name, model in models.items():\n",
    "    # evaluate the model\n",
    "    scores = evaluate_model(model, X, y)\n",
    "    # store the results\n",
    "    results.append(scores)\n",
    "    names.append(name)\n",
    "    # summarize the performance along the way\n",
    "    print('>%s %.3f (%.3f)' % (name, np.mean(scores), np.std(scores)))\n",
    "plt.boxplot(results, labels=names, showmeans=True)\n",
    "plt.ylabel('Cross validation error',fontsize=15)\n",
    "plt.xlabel('Depth of each tree',fontsize=15)"
   ]
  },
  {
   "cell_type": "markdown",
   "id": "d70e66f3",
   "metadata": {},
   "source": [
    "### Learning rate vs cross validation error\n",
    "The optimal learning rate will depend on the number of trees, and vice-versa. If the learning rate is too low, it will take several trees to \"learn\" the response. If the learning rate is high, the response will be \"learned\" quickly (with fewer) trees.  Learning too quickly will be prone to overfitting, while learning too slowly will be computationally expensive. Thus, there will be an optimal learning rate to minimize the prediction error."
   ]
  },
  {
   "cell_type": "code",
   "execution_count": 34,
   "id": "af8ba680",
   "metadata": {},
   "outputs": [
    {
     "name": "stdout",
     "output_type": "stream",
     "text": [
      ">0.1 6329.8 (450.7)\n",
      ">0.2 5942.9 (454.8)\n",
      ">0.3 5618.4 (490.8)\n",
      ">0.4 5665.9 (577.3)\n",
      ">0.5 5783.5 (561.7)\n",
      ">0.6 5773.8 (500.3)\n",
      ">0.7 5875.5 (565.7)\n",
      ">0.8 5878.5 (540.5)\n",
      ">0.9 6214.4 (594.3)\n",
      ">1.0 5986.1 (601.5)\n",
      ">1.1 6216.5 (395.3)\n",
      ">1.2 6667.5 (657.2)\n",
      ">1.3 6717.4 (594.4)\n",
      ">1.4 7048.4 (531.7)\n",
      ">1.5 7265.0 (742.0)\n",
      ">1.6 7404.4 (868.2)\n",
      ">1.7 7425.8 (606.3)\n",
      ">1.8 8283.0 (1345.3)\n",
      ">1.9 8872.2 (1137.9)\n",
      ">2.0 17713.3 (865.3)\n"
     ]
    },
    {
     "data": {
      "text/plain": [
       "Text(0.5, 0, 'Learning rate')"
      ]
     },
     "execution_count": 34,
     "metadata": {},
     "output_type": "execute_result"
    },
    {
     "data": {
      "image/png": "[encoded data removed]",
      "text/plain": [
       "<Figure size 504x504 with 1 Axes>"
      ]
     },
     "metadata": {
      "needs_background": "light"
     },
     "output_type": "display_data"
    }
   ],
   "source": [
    "def get_models():\n",
    "    models = dict()\n",
    "    # explore learning rates from 0.1 to 2 in 0.1 increments\n",
    "    for i in np.arange(0.1, 2.1, 0.1):\n",
    "        key = '%.1f' % i\n",
    "        models[key] = GradientBoostingRegressor(learning_rate=i,random_state=1,loss='huber')\n",
    "    return models\n",
    "\n",
    "# evaluate a given model using cross-validation\n",
    "def evaluate_model(model, X, y):\n",
    "    # define the evaluation procedure\n",
    "    cv = KFold(n_splits=10, shuffle=True, random_state=1)\n",
    "    # evaluate the model and collect the results\n",
    "    scores = np.sqrt(-cross_val_score(model, X, y, scoring='neg_mean_squared_error', cv=cv, n_jobs=-1))\n",
    "    return scores\n",
    "\n",
    "# get the models to evaluate\n",
    "models = get_models()\n",
    "# evaluate the models and store results\n",
    "results, names = list(), list()\n",
    "for name, model in models.items():\n",
    "    # evaluate the model\n",
    "    scores = evaluate_model(model, X, y)\n",
    "    # store the results\n",
    "    results.append(scores)\n",
    "    names.append(name)\n",
    "    # summarize the performance along the way\n",
    "    print('>%s %.1f (%.1f)' % (name, np.mean(scores), np.std(scores)))\n",
    "# plot model performance for comparison\n",
    "plt.figure(figsize=(7, 7))\n",
    "plt.boxplot(results, labels=names, showmeans=True)\n",
    "plt.ylabel('Cross validation error',fontsize=15)\n",
    "plt.xlabel('Learning rate',fontsize=15)"
   ]
  },
  {
   "cell_type": "markdown",
   "id": "c5be962e",
   "metadata": {},
   "source": [
    "### Subsampling vs cross validation error"
   ]
  },
  {
   "cell_type": "code",
   "execution_count": 5,
   "id": "863a7829",
   "metadata": {},
   "outputs": [
    {
     "name": "stdout",
     "output_type": "stream",
     "text": [
      ">0.25 6219.59 (569.97)\n",
      ">0.50 6178.28 (501.87)\n",
      ">0.75 6141.96 (432.66)\n",
      ">1.00 6329.79 (450.72)\n"
     ]
    },
    {
     "data": {
      "text/plain": [
       "Text(0.5, 0, 'Subsample')"
      ]
     },
     "execution_count": 5,
     "metadata": {},
     "output_type": "execute_result"
    },
    {
     "data": {
      "image/png": "[encoded data removed]",
      "text/plain": [
       "<Figure size 504x504 with 1 Axes>"
      ]
     },
     "metadata": {
      "needs_background": "light"
     },
     "output_type": "display_data"
    }
   ],
   "source": [
    "def get_models():\n",
    "    models = dict()\n",
    "    # explore learning rates from 0.1 to 2 in 0.1 increments\n",
    "    for s in np.arange(0.25, 1.1, 0.25):\n",
    "        key = '%.2f' % s\n",
    "        models[key] = GradientBoostingRegressor(random_state=1,subsample=s,loss='huber')\n",
    "    return models\n",
    "\n",
    "# evaluate a given model using cross-validation\n",
    "def evaluate_model(model, X, y):\n",
    "    # define the evaluation procedure\n",
    "    cv = KFold(n_splits=10, shuffle=True, random_state=1)\n",
    "    # evaluate the model and collect the results\n",
    "    scores = np.sqrt(-cross_val_score(model, X, y, scoring='neg_mean_squared_error', cv=cv, n_jobs=-1))\n",
    "    return scores\n",
    "\n",
    "# get the models to evaluate\n",
    "models = get_models()\n",
    "# evaluate the models and store results\n",
    "results, names = list(), list()\n",
    "for name, model in models.items():\n",
    "    # evaluate the model\n",
    "    scores = evaluate_model(model, X, y)\n",
    "    # store the results\n",
    "    results.append(scores)\n",
    "    names.append(name)\n",
    "    # summarize the performance along the way\n",
    "    print('>%s %.2f (%.2f)' % (name, np.mean(scores), np.std(scores)))\n",
    "# plot model performance for comparison\n",
    "plt.figure(figsize=(7, 7))\n",
    "plt.boxplot(results, labels=names, showmeans=True)\n",
    "plt.ylabel('Cross validation error',fontsize=15)\n",
    "plt.xlabel('Subsample',fontsize=15)"
   ]
  },
  {
   "cell_type": "markdown",
   "id": "1200f8db",
   "metadata": {},
   "source": [
    "### Maximum features vs cross-validation error"
   ]
  },
  {
   "cell_type": "code",
   "execution_count": 5,
   "id": "c2c54312",
   "metadata": {},
   "outputs": [
    {
     "name": "stdout",
     "output_type": "stream",
     "text": [
      ">0.25 6654.27 (567.72)\n",
      ">0.50 6373.92 (538.53)\n",
      ">0.75 6325.55 (470.41)\n",
      ">1.00 6329.79 (450.72)\n"
     ]
    },
    {
     "data": {
      "text/plain": [
       "Text(0.5, 0, 'Maximum features')"
      ]
     },
     "execution_count": 5,
     "metadata": {},
     "output_type": "execute_result"
    },
    {
     "data": {
      "image/png": "[encoded data removed]",
      "text/plain": [
       "<Figure size 700x700 with 1 Axes>"
      ]
     },
     "metadata": {},
     "output_type": "display_data"
    }
   ],
   "source": [
    "def get_models():\n",
    "    models = dict()\n",
    "    # explore learning rates from 0.1 to 2 in 0.1 increments\n",
    "    for s in np.arange(0.25, 1.1, 0.25):\n",
    "        key = '%.2f' % s\n",
    "        models[key] = GradientBoostingRegressor(random_state=1,max_features=s,loss='huber')\n",
    "    return models\n",
    "\n",
    "# evaluate a given model using cross-validation\n",
    "def evaluate_model(model, X, y):\n",
    "    # define the evaluation procedure\n",
    "    cv = KFold(n_splits=10, shuffle=True, random_state=1)\n",
    "    # evaluate the model and collect the results\n",
    "    scores = np.sqrt(-cross_val_score(model, X, y, scoring='neg_mean_squared_error', cv=cv, n_jobs=-1))\n",
    "    return scores\n",
    "\n",
    "# get the models to evaluate\n",
    "models = get_models()\n",
    "# evaluate the models and store results\n",
    "results, names = list(), list()\n",
    "for name, model in models.items():\n",
    "    # evaluate the model\n",
    "    scores = evaluate_model(model, X, y)\n",
    "    # store the results\n",
    "    results.append(scores)\n",
    "    names.append(name)\n",
    "    # summarize the performance along the way\n",
    "    print('>%s %.2f (%.2f)' % (name, np.mean(scores), np.std(scores)))\n",
    "# plot model performance for comparison\n",
    "plt.figure(figsize=(7, 7))\n",
    "plt.boxplot(results, labels=names, showmeans=True)\n",
    "plt.ylabel('Cross validation error',fontsize=15)\n",
    "plt.xlabel('Maximum features',fontsize=15)"
   ]
  },
  {
   "cell_type": "markdown",
   "id": "fcf3d7a2",
   "metadata": {},
   "source": [
    "### Tuning Gradient boosting for regression\n",
    "As the optimal value of the parameters depend on each other, we need to optimize them simultaneously."
   ]
  },
  {
   "cell_type": "code",
   "execution_count": 69,
   "id": "15af4ce4",
   "metadata": {},
   "outputs": [
    {
     "name": "stdout",
     "output_type": "stream",
     "text": [
      "Best: 5190.765919 using {'learning_rate': 0.1, 'max_depth': 8, 'n_estimators': 100}\n",
      "Time taken =  46.925597019990285  minutes\n"
     ]
    }
   ],
   "source": [
    "start_time = time.time()\n",
    "model = GradientBoostingRegressor(random_state=1,loss='huber')\n",
    "grid = dict()\n",
    "grid['n_estimators'] = [10, 50, 100,200,500]\n",
    "grid['learning_rate'] = [0.0001, 0.001, 0.01,0.1, 1.0]\n",
    "grid['max_depth'] = [3,5,8,10,12,15]\n",
    "\n",
    "# define the evaluation procedure\n",
    "cv = KFold(n_splits=5, shuffle=True, random_state=1)\n",
    "# define the grid search procedure\n",
    "grid_search = GridSearchCV(estimator=model, param_grid=grid, n_jobs=-1, cv=cv, scoring='neg_mean_squared_error',\n",
    "                          verbose = True)\n",
    "# execute the grid search\n",
    "grid_result = grid_search.fit(X, y)\n",
    "# summarize the best score and configuration\n",
    "print(\"Best: %f using %s\" % (np.sqrt(-grid_result.best_score_), grid_result.best_params_))\n",
    "# summarize all scores that were evaluated\n",
    "means = grid_result.cv_results_['mean_test_score']\n",
    "stds = grid_result.cv_results_['std_test_score']\n",
    "params = grid_result.cv_results_['params']\n",
    "#for mean, stdev, param in zip(means, stds, params):\n",
    "#    print(\"%f (%f) with: %r\" % (mean, stdev, param)\n",
    "print(\"Time taken = \",(time.time()-start_time)/60,\" minutes\")"
   ]
  },
  {
   "cell_type": "markdown",
   "id": "86620218",
   "metadata": {},
   "source": [
    "Note that the code takes 46 minutes to run. In case of a lot of hyperparameters, [`RandomizedSearchCV`](https://scikit-learn.org/stable/modules/generated/sklearn.model_selection.RandomizedSearchCV.html) may be preferred to trade-off between optimality of the solution and computational cost."
   ]
  },
  {
   "cell_type": "code",
   "execution_count": 14,
   "id": "d038ce9a",
   "metadata": {},
   "outputs": [
    {
     "name": "stdout",
     "output_type": "stream",
     "text": [
      "['learning_rate', 'max_features', 'max_leaf_nodes', 'n_estimators', 'subsample'] = [0.23102084158310995, 0.315075948850183, 5000, 817, 1.0] 5360.92726695485\n",
      "Time so far =  21.0 minutes\n"
     ]
    },
    {
     "data": {
      "image/png": "[encoded data removed]",
      "text/plain": [
       "<Figure size 640x480 with 1 Axes>"
      ]
     },
     "metadata": {},
     "output_type": "display_data"
    },
    {
     "data": {
      "text/html": [
       "<style>#sk-container-id-1 {color: black;}#sk-container-id-1 pre{padding: 0;}#sk-container-id-1 div.sk-toggleable {background-color: white;}#sk-container-id-1 label.sk-toggleable__label {cursor: pointer;display: block;width: 100%;margin-bottom: 0;padding: 0.3em;box-sizing: border-box;text-align: center;}#sk-container-id-1 label.sk-toggleable__label-arrow:before {content: \"▸\";float: left;margin-right: 0.25em;color: #696969;}#sk-container-id-1 label.sk-toggleable__label-arrow:hover:before {color: black;}#sk-container-id-1 div.sk-estimator:hover label.sk-toggleable__label-arrow:before {color: black;}#sk-container-id-1 div.sk-toggleable__content {max-height: 0;max-width: 0;overflow: hidden;text-align: left;background-color: #f0f8ff;}#sk-container-id-1 div.sk-toggleable__content pre {margin: 0.2em;color: black;border-radius: 0.25em;background-color: #f0f8ff;}#sk-container-id-1 input.sk-toggleable__control:checked~div.sk-toggleable__content {max-height: 200px;max-width: 100%;overflow: auto;}#sk-container-id-1 input.sk-toggleable__control:checked~label.sk-toggleable__label-arrow:before {content: \"▾\";}#sk-container-id-1 div.sk-estimator input.sk-toggleable__control:checked~label.sk-toggleable__label {background-color: #d4ebff;}#sk-container-id-1 div.sk-label input.sk-toggleable__control:checked~label.sk-toggleable__label {background-color: #d4ebff;}#sk-container-id-1 input.sk-hidden--visually {border: 0;clip: rect(1px 1px 1px 1px);clip: rect(1px, 1px, 1px, 1px);height: 1px;margin: -1px;overflow: hidden;padding: 0;position: absolute;width: 1px;}#sk-container-id-1 div.sk-estimator {font-family: monospace;background-color: #f0f8ff;border: 1px dotted black;border-radius: 0.25em;box-sizing: border-box;margin-bottom: 0.5em;}#sk-container-id-1 div.sk-estimator:hover {background-color: #d4ebff;}#sk-container-id-1 div.sk-parallel-item::after {content: \"\";width: 100%;border-bottom: 1px solid gray;flex-grow: 1;}#sk-container-id-1 div.sk-label:hover label.sk-toggleable__label {background-color: #d4ebff;}#sk-container-id-1 div.sk-serial::before {content: \"\";position: absolute;border-left: 1px solid gray;box-sizing: border-box;top: 0;bottom: 0;left: 50%;z-index: 0;}#sk-container-id-1 div.sk-serial {display: flex;flex-direction: column;align-items: center;background-color: white;padding-right: 0.2em;padding-left: 0.2em;position: relative;}#sk-container-id-1 div.sk-item {position: relative;z-index: 1;}#sk-container-id-1 div.sk-parallel {display: flex;align-items: stretch;justify-content: center;background-color: white;position: relative;}#sk-container-id-1 div.sk-item::before, #sk-container-id-1 div.sk-parallel-item::before {content: \"\";position: absolute;border-left: 1px solid gray;box-sizing: border-box;top: 0;bottom: 0;left: 50%;z-index: -1;}#sk-container-id-1 div.sk-parallel-item {display: flex;flex-direction: column;z-index: 1;position: relative;background-color: white;}#sk-container-id-1 div.sk-parallel-item:first-child::after {align-self: flex-end;width: 50%;}#sk-container-id-1 div.sk-parallel-item:last-child::after {align-self: flex-start;width: 50%;}#sk-container-id-1 div.sk-parallel-item:only-child::after {width: 0;}#sk-container-id-1 div.sk-dashed-wrapped {border: 1px dashed gray;margin: 0 0.4em 0.5em 0.4em;box-sizing: border-box;padding-bottom: 0.4em;background-color: white;}#sk-container-id-1 div.sk-label label {font-family: monospace;font-weight: bold;display: inline-block;line-height: 1.2em;}#sk-container-id-1 div.sk-label-container {text-align: center;}#sk-container-id-1 div.sk-container {/* jupyter's `normalize.less` sets `[hidden] { display: none; }` but bootstrap.min.css set `[hidden] { display: none !important; }` so we also need the `!important` here to be able to override the default hidden behavior on the sphinx rendered scikit-learn.org. See: https://github.com/scikit-learn/scikit-learn/issues/21755 */display: inline-block !important;position: relative;}#sk-container-id-1 div.sk-text-repr-fallback {display: none;}</style><div id=\"sk-container-id-1\" class=\"sk-top-container\"><div class=\"sk-text-repr-fallback\"><pre>BayesSearchCV(cv=KFold(n_splits=5, random_state=1, shuffle=True),\n",
       "              estimator=GradientBoostingRegressor(loss=&#x27;huber&#x27;, random_state=1),\n",
       "              n_iter=100, n_jobs=-1, random_state=1,\n",
       "              scoring=&#x27;neg_root_mean_squared_error&#x27;,\n",
       "              search_spaces={&#x27;learning_rate&#x27;: Real(low=0.0001, high=1.0, prior=&#x27;uniform&#x27;, transform=&#x27;normalize&#x27;),\n",
       "                             &#x27;max_features&#x27;: Real(low=0.1, high=1, prior=&#x27;uniform&#x27;, transform=&#x27;normalize&#x27;),\n",
       "                             &#x27;max_leaf_nodes&#x27;: Integer(low=4, high=5000, prior=&#x27;uniform&#x27;, transform=&#x27;normalize&#x27;),\n",
       "                             &#x27;n_estimators&#x27;: Integer(low=2, high=1000, prior=&#x27;uniform&#x27;, transform=&#x27;normalize&#x27;),\n",
       "                             &#x27;subsample&#x27;: Real(low=0.1, high=1, prior=&#x27;uniform&#x27;, transform=&#x27;normalize&#x27;)})</pre><b>In a Jupyter environment, please rerun this cell to show the HTML representation or trust the notebook. <br />On GitHub, the HTML representation is unable to render, please try loading this page with nbviewer.org.</b></div><div class=\"sk-container\" hidden><div class=\"sk-item sk-dashed-wrapped\"><div class=\"sk-label-container\"><div class=\"sk-label sk-toggleable\"><input class=\"sk-toggleable__control sk-hidden--visually\" id=\"sk-estimator-id-1\" type=\"checkbox\" ><label for=\"sk-estimator-id-1\" class=\"sk-toggleable__label sk-toggleable__label-arrow\">BayesSearchCV</label><div class=\"sk-toggleable__content\"><pre>BayesSearchCV(cv=KFold(n_splits=5, random_state=1, shuffle=True),\n",
       "              estimator=GradientBoostingRegressor(loss=&#x27;huber&#x27;, random_state=1),\n",
       "              n_iter=100, n_jobs=-1, random_state=1,\n",
       "              scoring=&#x27;neg_root_mean_squared_error&#x27;,\n",
       "              search_spaces={&#x27;learning_rate&#x27;: Real(low=0.0001, high=1.0, prior=&#x27;uniform&#x27;, transform=&#x27;normalize&#x27;),\n",
       "                             &#x27;max_features&#x27;: Real(low=0.1, high=1, prior=&#x27;uniform&#x27;, transform=&#x27;normalize&#x27;),\n",
       "                             &#x27;max_leaf_nodes&#x27;: Integer(low=4, high=5000, prior=&#x27;uniform&#x27;, transform=&#x27;normalize&#x27;),\n",
       "                             &#x27;n_estimators&#x27;: Integer(low=2, high=1000, prior=&#x27;uniform&#x27;, transform=&#x27;normalize&#x27;),\n",
       "                             &#x27;subsample&#x27;: Real(low=0.1, high=1, prior=&#x27;uniform&#x27;, transform=&#x27;normalize&#x27;)})</pre></div></div></div><div class=\"sk-parallel\"><div class=\"sk-parallel-item\"><div class=\"sk-item\"><div class=\"sk-label-container\"><div class=\"sk-label sk-toggleable\"><input class=\"sk-toggleable__control sk-hidden--visually\" id=\"sk-estimator-id-2\" type=\"checkbox\" ><label for=\"sk-estimator-id-2\" class=\"sk-toggleable__label sk-toggleable__label-arrow\">estimator: GradientBoostingRegressor</label><div class=\"sk-toggleable__content\"><pre>GradientBoostingRegressor(loss=&#x27;huber&#x27;, random_state=1)</pre></div></div></div><div class=\"sk-serial\"><div class=\"sk-item\"><div class=\"sk-estimator sk-toggleable\"><input class=\"sk-toggleable__control sk-hidden--visually\" id=\"sk-estimator-id-3\" type=\"checkbox\" ><label for=\"sk-estimator-id-3\" class=\"sk-toggleable__label sk-toggleable__label-arrow\">GradientBoostingRegressor</label><div class=\"sk-toggleable__content\"><pre>GradientBoostingRegressor(loss=&#x27;huber&#x27;, random_state=1)</pre></div></div></div></div></div></div></div></div></div></div>"
      ],
      "text/plain": [
       "BayesSearchCV(cv=KFold(n_splits=5, random_state=1, shuffle=True),\n",
       "              estimator=GradientBoostingRegressor(loss='huber', random_state=1),\n",
       "              n_iter=100, n_jobs=-1, random_state=1,\n",
       "              scoring='neg_root_mean_squared_error',\n",
       "              search_spaces={'learning_rate': Real(low=0.0001, high=1.0, prior='uniform', transform='normalize'),\n",
       "                             'max_features': Real(low=0.1, high=1, prior='uniform', transform='normalize'),\n",
       "                             'max_leaf_nodes': Integer(low=4, high=5000, prior='uniform', transform='normalize'),\n",
       "                             'n_estimators': Integer(low=2, high=1000, prior='uniform', transform='normalize'),\n",
       "                             'subsample': Real(low=0.1, high=1, prior='uniform', transform='normalize')})"
      ]
     },
     "execution_count": 14,
     "metadata": {},
     "output_type": "execute_result"
    }
   ],
   "source": [
    "model = GradientBoostingRegressor(random_state=1, loss='huber') \n",
    "grid = dict()\n",
    "grid['n_estimators'] = Integer(2, 1000)\n",
    "grid['learning_rate'] = Real(0.0001, 1.0)\n",
    "grid['max_leaf_nodes'] = Integer(4, 5000)\n",
    "grid['subsample'] = Real(0.1, 1)\n",
    "grid['max_features'] = Real(0.1, 1)\n",
    "\n",
    "kfold = KFold(n_splits = 5, shuffle = True, random_state = 1)\n",
    "gcv = BayesSearchCV(model, search_spaces = grid, cv = kfold, n_iter = 100, random_state = 1,\n",
    "                         scoring = 'neg_root_mean_squared_error', n_jobs = -1)\n",
    "paras = list(gcv.search_spaces.keys())\n",
    "paras.sort()\n",
    "start_time = time.time()\n",
    "def monitor(optim_result):\n",
    "    cv_values = pd.Series(optim_result['func_vals']).cummin()\n",
    "    display.clear_output(wait = True)\n",
    "    min_ind = pd.Series(optim_result['func_vals']).argmin()\n",
    "    print(paras, \"=\", optim_result['x_iters'][min_ind], pd.Series(optim_result['func_vals']).min())\n",
    "    print(\"Time so far = \", np.round((time.time()-start_time)/60), \"minutes\")\n",
    "    sns.lineplot(cv_values)\n",
    "    plt.show()\n",
    "gcv.fit(X, y, callback = monitor)"
   ]
  },
  {
   "cell_type": "code",
   "execution_count": 17,
   "id": "176f0dbf",
   "metadata": {},
   "outputs": [],
   "source": [
    "#Model based on the optimal parameters\n",
    "model = GradientBoostingRegressor(max_depth=8,n_estimators=100,learning_rate=0.1,\n",
    "                         random_state=1,loss='huber').fit(X,y)"
   ]
  },
  {
   "cell_type": "code",
   "execution_count": 18,
   "id": "9b565834",
   "metadata": {},
   "outputs": [
    {
     "name": "stdout",
     "output_type": "stream",
     "text": [
      "Gradient boost RMSE =  5405.787029062213\n"
     ]
    }
   ],
   "source": [
    "#RMSE of the optimized model on test data\n",
    "print(\"Gradient boost RMSE = \",np.sqrt(mean_squared_error(model.predict(Xtest),ytest)))"
   ]
  },
  {
   "cell_type": "code",
   "execution_count": 15,
   "id": "2d5bcbe8",
   "metadata": {},
   "outputs": [],
   "source": [
    "#Model based on the optimal parameters\n",
    "model_bayes = GradientBoostingRegressor(max_leaf_nodes=5000,n_estimators=817,learning_rate=0.23, max_features=0.31,\n",
    "                         random_state=1,subsample=1.0,loss='huber').fit(X,y)"
   ]
  },
  {
   "cell_type": "code",
   "execution_count": 16,
   "id": "24b4565b",
   "metadata": {},
   "outputs": [
    {
     "name": "stdout",
     "output_type": "stream",
     "text": [
      "Gradient boost RMSE =  5734.200307094321\n"
     ]
    }
   ],
   "source": [
    "#RMSE of the optimized model on test data\n",
    "print(\"Gradient boost RMSE = \",np.sqrt(mean_squared_error(model_bayes.predict(Xtest),ytest)))"
   ]
  },
  {
   "cell_type": "code",
   "execution_count": 19,
   "id": "e936f8e7",
   "metadata": {},
   "outputs": [
    {
     "name": "stdout",
     "output_type": "stream",
     "text": [
      "AdaBoost RMSE =  5693.165811600585\n",
      "Random Forest RMSE =  5642.45839697972\n"
     ]
    }
   ],
   "source": [
    "#Let us combine the Gradient boost model with other models\n",
    "model2 = AdaBoostRegressor(base_estimator=DecisionTreeRegressor(max_depth=10),n_estimators=50,learning_rate=1.0,\n",
    "                         random_state=1).fit(X,y)\n",
    "print(\"AdaBoost RMSE = \",np.sqrt(mean_squared_error(model2.predict(Xtest),ytest)))\n",
    "model3 = RandomForestRegressor(n_estimators=300, random_state=1,\n",
    "                        n_jobs=-1, max_features=2).fit(X, y)\n",
    "print(\"Random Forest RMSE = \",np.sqrt(mean_squared_error(model3.predict(Xtest),ytest)))\n"
   ]
  },
  {
   "cell_type": "code",
   "execution_count": 20,
   "id": "b095f81e",
   "metadata": {},
   "outputs": [
    {
     "name": "stdout",
     "output_type": "stream",
     "text": [
      "Ensemble model RMSE =  5364.478227748279\n"
     ]
    }
   ],
   "source": [
    "#Ensemble model\n",
    "pred1=model.predict(Xtest)#Gradient boost\n",
    "pred2=model2.predict(Xtest)#Adaboost\n",
    "pred3=model3.predict(Xtest)#Random forest\n",
    "pred = 0.34*pred1+0.33*pred2+0.33*pred3 #Higher weight to the better model\n",
    "print(\"Ensemble model RMSE = \", np.sqrt(mean_squared_error(pred,ytest)))"
   ]
  },
  {
   "cell_type": "markdown",
   "id": "4f081e84",
   "metadata": {},
   "source": [
    "### Ensemble modeling (for regression models)"
   ]
  },
  {
   "cell_type": "code",
   "execution_count": 68,
   "id": "7ebbe08f",
   "metadata": {},
   "outputs": [
    {
     "name": "stdout",
     "output_type": "stream",
     "text": [
      "Ensemble model RMSE =  5323.119083375402\n"
     ]
    }
   ],
   "source": [
    "#Ensemble model\n",
    "pred1=model.predict(Xtest)#Gradient boost\n",
    "pred2=model2.predict(Xtest)#Adaboost\n",
    "pred3=model3.predict(Xtest)#Random forest\n",
    "pred = 0.6*pred1+0.2*pred2+0.2*pred3 #Higher weight to the better model\n",
    "print(\"Ensemble model RMSE = \", np.sqrt(mean_squared_error(pred,ytest)))"
   ]
  },
  {
   "cell_type": "markdown",
   "id": "6d2c97a7",
   "metadata": {},
   "source": [
    "Combined, the random forest model, gradient boost and the Adaboost model do better than each of the individual models.\n",
    "\n",
    "Note that ideally we should do K-fold cross validation to figure out the optimal weights. We'll learn about ensembling techniques later in the course."
   ]
  },
  {
   "cell_type": "markdown",
   "id": "60a0392a",
   "metadata": {},
   "source": [
    "## Gradient boosting for classification\n",
    "Below is the Gradient boost implementation on a classification problem. The takeaways are the same as that of the regression problem above."
   ]
  },
  {
   "cell_type": "code",
   "execution_count": 9,
   "id": "c9c80eb9",
   "metadata": {},
   "outputs": [],
   "source": [
    "train = pd.read_csv('./Datasets/diabetes_train.csv')\n",
    "test = pd.read_csv('./Datasets/diabetes_test.csv')"
   ]
  },
  {
   "cell_type": "code",
   "execution_count": 10,
   "id": "6af76e55",
   "metadata": {},
   "outputs": [],
   "source": [
    "X = train.drop(columns = 'Outcome')\n",
    "Xtest = test.drop(columns = 'Outcome')\n",
    "y = train['Outcome']\n",
    "ytest = test['Outcome']"
   ]
  },
  {
   "cell_type": "markdown",
   "id": "0b3f3660",
   "metadata": {},
   "source": [
    "### Number of trees vs cross validation accuracy"
   ]
  },
  {
   "cell_type": "code",
   "execution_count": 48,
   "id": "b579f6a9",
   "metadata": {},
   "outputs": [
    {
     "name": "stdout",
     "output_type": "stream",
     "text": [
      ">10 0.738 (0.031)\n",
      ">50 0.748 (0.054)\n",
      ">100 0.722 (0.075)\n",
      ">500 0.707 (0.066)\n",
      ">1000 0.712 (0.075)\n",
      ">5000 0.697 (0.061)\n"
     ]
    },
    {
     "data": {
      "text/plain": [
       "Text(0.5, 0, 'Number of trees')"
      ]
     },
     "execution_count": 48,
     "metadata": {},
     "output_type": "execute_result"
    },
    {
     "data": {
      "image/png": "[encoded data removed]",
      "text/plain": [
       "<Figure size 432x288 with 1 Axes>"
      ]
     },
     "metadata": {
      "needs_background": "light"
     },
     "output_type": "display_data"
    }
   ],
   "source": [
    "def get_models():\n",
    "    models = dict()\n",
    "    # define number of trees to consider\n",
    "    n_trees = [10, 50, 100, 500, 1000, 5000]\n",
    "    for n in n_trees:\n",
    "        models[str(n)] = GradientBoostingClassifier(n_estimators=n,random_state=1)\n",
    "    return models\n",
    "\n",
    "# evaluate a given model using cross-validation\n",
    "def evaluate_model(model, X, y):\n",
    "    # define the evaluation procedure\n",
    "    cv = StratifiedKFold(n_splits=10, shuffle=True, random_state=1)\n",
    "    # evaluate the model and collect the results\n",
    "    scores = cross_val_score(model, X, y, scoring='accuracy', cv=cv, n_jobs=-1)\n",
    "    return scores\n",
    "\n",
    "# get the models to evaluate\n",
    "models = get_models()\n",
    "# evaluate the models and store results\n",
    "results, names = list(), list()\n",
    "for name, model in models.items():\n",
    "    # evaluate the model\n",
    "    scores = evaluate_model(model, X, y)\n",
    "    # store the results\n",
    "    results.append(scores)\n",
    "    names.append(name)\n",
    "    # summarize the performance along the way\n",
    "    print('>%s %.3f (%.3f)' % (name, np.mean(scores), np.std(scores)))\n",
    "# plot model performance for comparison\n",
    "plt.boxplot(results, labels=names, showmeans=True)\n",
    "plt.ylabel('Cross validation error',fontsize=15)\n",
    "plt.xlabel('Number of trees',fontsize=15)"
   ]
  },
  {
   "cell_type": "markdown",
   "id": "69f09045",
   "metadata": {},
   "source": [
    "### Depth of each tree vs cross validation accuracy"
   ]
  },
  {
   "cell_type": "code",
   "execution_count": 50,
   "id": "33dfa996",
   "metadata": {},
   "outputs": [
    {
     "name": "stdout",
     "output_type": "stream",
     "text": [
      ">1 0.746 (0.040)\n",
      ">2 0.744 (0.046)\n",
      ">3 0.722 (0.075)\n",
      ">4 0.743 (0.049)\n",
      ">5 0.738 (0.046)\n",
      ">6 0.741 (0.047)\n",
      ">7 0.735 (0.057)\n",
      ">8 0.736 (0.051)\n",
      ">9 0.728 (0.055)\n",
      ">10 0.710 (0.050)\n",
      ">11 0.697 (0.061)\n",
      ">12 0.681 (0.056)\n",
      ">13 0.709 (0.047)\n",
      ">14 0.702 (0.048)\n",
      ">15 0.705 (0.048)\n",
      ">16 0.700 (0.042)\n",
      ">17 0.699 (0.048)\n",
      ">18 0.697 (0.050)\n",
      ">19 0.696 (0.042)\n",
      ">20 0.697 (0.048)\n"
     ]
    },
    {
     "data": {
      "text/plain": [
       "Text(0.5, 0, 'Depth of each tree')"
      ]
     },
     "execution_count": 50,
     "metadata": {},
     "output_type": "execute_result"
    },
    {
     "data": {
      "image/png": "[encoded data removed]",
      "text/plain": [
       "<Figure size 432x288 with 1 Axes>"
      ]
     },
     "metadata": {
      "needs_background": "light"
     },
     "output_type": "display_data"
    }
   ],
   "source": [
    "# get a list of models to evaluate\n",
    "def get_models():\n",
    "    models = dict()\n",
    "    # explore depths from 1 to 10\n",
    "    for i in range(1,21):\n",
    "        # define ensemble model\n",
    "        models[str(i)] = GradientBoostingClassifier(random_state=1,max_depth=i)\n",
    "    return models\n",
    "\n",
    "# evaluate a given model using cross-validation\n",
    "def evaluate_model(model, X, y):\n",
    "    # define the evaluation procedure\n",
    "    cv = StratifiedKFold(n_splits=10, shuffle=True, random_state=1)\n",
    "    # evaluate the model and collect the results\n",
    "    scores = cross_val_score(model, X, y, scoring='accuracy', cv=cv, n_jobs=-1)\n",
    "    return scores\n",
    "\n",
    "# get the models to evaluate\n",
    "models = get_models()\n",
    "# evaluate the models and store results\n",
    "results, names = list(), list()\n",
    "for name, model in models.items():\n",
    "    # evaluate the model\n",
    "    scores = evaluate_model(model, X, y)\n",
    "    # store the results\n",
    "    results.append(scores)\n",
    "    names.append(name)\n",
    "    # summarize the performance along the way\n",
    "    print('>%s %.3f (%.3f)' % (name, np.mean(scores), np.std(scores)))\n",
    "plt.boxplot(results, labels=names, showmeans=True)\n",
    "plt.ylabel('Accuracy',fontsize=15)\n",
    "plt.xlabel('Depth of each tree',fontsize=15)"
   ]
  },
  {
   "cell_type": "markdown",
   "id": "0ca36f6f",
   "metadata": {},
   "source": [
    "### Learning rate vs cross validation accuracy"
   ]
  },
  {
   "cell_type": "code",
   "execution_count": 51,
   "id": "8db5eed9",
   "metadata": {},
   "outputs": [
    {
     "name": "stdout",
     "output_type": "stream",
     "text": [
      ">0.1 0.747 (0.044)\n",
      ">0.2 0.736 (0.028)\n",
      ">0.3 0.726 (0.039)\n",
      ">0.4 0.730 (0.034)\n",
      ">0.5 0.726 (0.041)\n",
      ">0.6 0.722 (0.043)\n",
      ">0.7 0.717 (0.050)\n",
      ">0.8 0.713 (0.033)\n",
      ">0.9 0.694 (0.045)\n",
      ">1.0 0.695 (0.032)\n",
      ">1.1 0.718 (0.034)\n",
      ">1.2 0.692 (0.045)\n",
      ">1.3 0.708 (0.042)\n",
      ">1.4 0.704 (0.050)\n",
      ">1.5 0.702 (0.028)\n",
      ">1.6 0.700 (0.050)\n",
      ">1.7 0.694 (0.044)\n",
      ">1.8 0.650 (0.075)\n",
      ">1.9 0.551 (0.163)\n",
      ">2.0 0.484 (0.123)\n"
     ]
    },
    {
     "data": {
      "text/plain": [
       "Text(0.5, 0, 'Learning rate')"
      ]
     },
     "execution_count": 51,
     "metadata": {},
     "output_type": "execute_result"
    },
    {
     "data": {
      "image/png": "[encoded data removed]",
      "text/plain": [
       "<Figure size 504x504 with 1 Axes>"
      ]
     },
     "metadata": {
      "needs_background": "light"
     },
     "output_type": "display_data"
    }
   ],
   "source": [
    "def get_models():\n",
    "    models = dict()\n",
    "    # explore learning rates from 0.1 to 2 in 0.1 increments\n",
    "    for i in np.arange(0.1, 2.1, 0.1):\n",
    "        key = '%.1f' % i\n",
    "        models[key] = GradientBoostingClassifier(learning_rate=i,random_state=1)\n",
    "    return models\n",
    "\n",
    "# evaluate a given model using cross-validation\n",
    "def evaluate_model(model, X, y):\n",
    "    # define the evaluation procedure\n",
    "    cv = KFold(n_splits=10, shuffle=True, random_state=1)\n",
    "    # evaluate the model and collect the results\n",
    "    scores = cross_val_score(model, X, y, scoring='accuracy', cv=cv, n_jobs=-1)\n",
    "    return scores\n",
    "\n",
    "# get the models to evaluate\n",
    "models = get_models()\n",
    "# evaluate the models and store results\n",
    "results, names = list(), list()\n",
    "for name, model in models.items():\n",
    "    # evaluate the model\n",
    "    scores = evaluate_model(model, X, y)\n",
    "    # store the results\n",
    "    results.append(scores)\n",
    "    names.append(name)\n",
    "    # summarize the performance along the way\n",
    "    print('>%s %.3f (%.3f)' % (name, np.mean(scores), np.std(scores)))\n",
    "# plot model performance for comparison\n",
    "plt.figure(figsize=(7, 7))\n",
    "plt.boxplot(results, labels=names, showmeans=True)\n",
    "plt.ylabel('Accuracy',fontsize=15)\n",
    "plt.xlabel('Learning rate',fontsize=15)"
   ]
  },
  {
   "cell_type": "markdown",
   "id": "7d56a4e7",
   "metadata": {},
   "source": [
    "### Tuning Gradient boosting Classifier"
   ]
  },
  {
   "cell_type": "code",
   "execution_count": 17,
   "id": "cf76ce2b",
   "metadata": {},
   "outputs": [
    {
     "name": "stdout",
     "output_type": "stream",
     "text": [
      "Fitting 5 folds for each of 250 candidates, totalling 1250 fits\n",
      "Best: 0.701045 using {'learning_rate': 1.0, 'max_depth': 3, 'n_estimators': 200, 'subsample': 0.5}\n",
      "Time taken =  32.46394085884094\n"
     ]
    }
   ],
   "source": [
    "start_time = time.time()\n",
    "model = GradientBoostingClassifier(random_state=1)\n",
    "grid = dict()\n",
    "grid['n_estimators'] = [10, 50, 100,200,500]\n",
    "grid['learning_rate'] = [0.0001, 0.001, 0.01,0.1, 1.0]\n",
    "grid['max_depth'] = [1,2,3,4,5]\n",
    "grid['subsample'] = [0.5,1.0]\n",
    "# define the evaluation procedure\n",
    "cv = StratifiedKFold(n_splits=5, shuffle=True, random_state=1)\n",
    "# define the grid search procedure\n",
    "grid_search = GridSearchCV(estimator=model, param_grid=grid, n_jobs=-1, cv=cv, verbose = True, scoring = 'recall')\n",
    "# execute the grid search\n",
    "grid_result = grid_search.fit(X, y)\n",
    "# summarize the best score and configuration\n",
    "print(\"Best: %f using %s\" % (grid_result.best_score_, grid_result.best_params_))\n",
    "print(\"Time taken = \", time.time() - start_time, \"seconds\")"
   ]
  },
  {
   "cell_type": "code",
   "execution_count": 18,
   "id": "1e8d312a",
   "metadata": {},
   "outputs": [
    {
     "data": {
      "image/png": "[encoded data removed]",
      "text/plain": [
       "<Figure size 576x576 with 1 Axes>"
      ]
     },
     "metadata": {
      "needs_background": "light"
     },
     "output_type": "display_data"
    }
   ],
   "source": [
    "#Model based on the optimal parameters\n",
    "model = GradientBoostingClassifier(random_state=1,max_depth=3,learning_rate=0.1,subsample=0.5,\n",
    "                          n_estimators=200).fit(X,y)\n",
    "\n",
    "# Note that we are using the cross-validated predicted probabilities, instead of directly using the \n",
    "# predicted probabilities on train data, as the model may be overfitting on the train data, and \n",
    "# may lead to misleading results\n",
    "cross_val_ypred = cross_val_predict(GradientBoostingClassifier(random_state=1,max_depth=3,\n",
    "                                                               learning_rate=0.1,subsample=0.5,\n",
    "                          n_estimators=200), X, y, cv = 5, method = 'predict_proba')\n",
    "\n",
    "p, r, thresholds = precision_recall_curve(y, cross_val_ypred[:,1])\n",
    "def plot_precision_recall_vs_threshold(precisions, recalls, thresholds):\n",
    "    plt.figure(figsize=(8, 8))\n",
    "    plt.title(\"Precision and Recall Scores as a function of the decision threshold\")\n",
    "    plt.plot(thresholds, precisions[:-1], \"b--\", label=\"Precision\")\n",
    "    plt.plot(thresholds, recalls[:-1], \"g-\", label=\"Recall\")\n",
    "    plt.plot(thresholds, precisions[:-1], \"o\", color = 'blue')\n",
    "    plt.plot(thresholds, recalls[:-1], \"o\", color = 'green')\n",
    "    plt.ylabel(\"Score\")\n",
    "    plt.xlabel(\"Decision Threshold\")\n",
    "    plt.legend(loc='best')\n",
    "    plt.legend()\n",
    "plot_precision_recall_vs_threshold(p, r, thresholds)"
   ]
  },
  {
   "cell_type": "code",
   "execution_count": 19,
   "id": "40e00bd5",
   "metadata": {},
   "outputs": [
    {
     "data": {
      "text/plain": [
       "array([0.18497144, 0.53205128, 0.80193237])"
      ]
     },
     "execution_count": 19,
     "metadata": {},
     "output_type": "execute_result"
    }
   ],
   "source": [
    "# Thresholds with precision and recall\n",
    "all_thresholds = np.concatenate([thresholds.reshape(-1,1), p[:-1].reshape(-1,1), r[:-1].reshape(-1,1)], axis = 1)\n",
    "recall_more_than_80 = all_thresholds[all_thresholds[:,2]>0.8,:]\n",
    "# As the values in 'recall_more_than_80' are arranged in decreasing order of recall and increasing threshold,\n",
    "# the last value will provide the maximum threshold probability for the recall to be more than 80%\n",
    "# We wish to find the maximum threshold probability to obtain the maximum possible precision\n",
    "recall_more_than_80[recall_more_than_80.shape[0]-1]"
   ]
  },
  {
   "cell_type": "code",
   "execution_count": 20,
   "id": "57caaa26",
   "metadata": {},
   "outputs": [
    {
     "data": {
      "text/plain": [
       "0.18497143500912738"
      ]
     },
     "execution_count": 20,
     "metadata": {},
     "output_type": "execute_result"
    }
   ],
   "source": [
    "#Optimal decision threshold probability\n",
    "thres = recall_more_than_80[recall_more_than_80.shape[0]-1][0]\n",
    "thres"
   ]
  },
  {
   "cell_type": "code",
   "execution_count": 21,
   "id": "077c57d2",
   "metadata": {},
   "outputs": [
    {
     "name": "stdout",
     "output_type": "stream",
     "text": [
      "Accuracy:  77.92207792207793\n",
      "ROC-AUC:  0.8704389212057112\n",
      "Precision:  0.6626506024096386\n",
      "Recall:  0.9016393442622951\n"
     ]
    },
    {
     "data": {
      "image/png": "[encoded data removed]",
      "text/plain": [
       "<Figure size 432x288 with 2 Axes>"
      ]
     },
     "metadata": {
      "needs_background": "light"
     },
     "output_type": "display_data"
    }
   ],
   "source": [
    "# Performance metrics computation for the optimum decision threshold probability\n",
    "desired_threshold = thres\n",
    "\n",
    "y_pred_prob = model.predict_proba(Xtest)[:,1] \n",
    "\n",
    "# Classifying observations in the positive class (y = 1) if the predicted probability is greater\n",
    "# than the desired decision threshold probability\n",
    "y_pred = y_pred_prob > desired_threshold\n",
    "y_pred = y_pred.astype(int)\n",
    "\n",
    "#Computing the accuracy\n",
    "print(\"Accuracy: \",accuracy_score(y_pred, ytest)*100)  \n",
    "\n",
    "#Computing the ROC-AUC\n",
    "fpr, tpr, auc_thresholds = roc_curve(ytest, y_pred_prob)\n",
    "print(\"ROC-AUC: \",auc(fpr, tpr))# AUC of ROC\n",
    "\n",
    "#Computing the precision and recall\n",
    "print(\"Precision: \", precision_score(ytest, y_pred))\n",
    "print(\"Recall: \", recall_score(ytest, y_pred))\n",
    "\n",
    "#Confusion matrix\n",
    "cm = pd.DataFrame(confusion_matrix(ytest, y_pred), \n",
    "                  columns=['Predicted 0', 'Predicted 1'], index = ['Actual 0', 'Actual 1'])\n",
    "sns.heatmap(cm, annot=True, cmap='Blues', fmt='g');"
   ]
  },
  {
   "cell_type": "markdown",
   "id": "a2dce8ee",
   "metadata": {},
   "source": [
    "The model seems to be similar to the Adaboost model. However, gradient boosting algorithms with robust loss functions can perform better than Adaboost in the presence of outliers *(in terms of response)* in the data."
   ]
  },
  {
   "cell_type": "markdown",
   "id": "4f5bc648",
   "metadata": {},
   "source": [
    "## Faster algorithms and tuning tips"
   ]
  },
  {
   "cell_type": "markdown",
   "id": "62ce483e",
   "metadata": {},
   "source": [
    "Check out [`HistGradientBoostingRegressor()`](https://scikit-learn.org/stable/modules/generated/sklearn.ensemble.HistGradientBoostingRegressor.html) and [`HistGradientBoostingClassifier()`](https://scikit-learn.org/stable/modules/generated/sklearn.ensemble.HistGradientBoostingClassifier.html) for a faster gradient boosting algorithm for big datasets *(more than 10,000 observations)*.\n",
    "\n",
    "Check out tips for faster hyperparameter tuning, such as tuning `max_leaf_nodes` instead of `max_depth` [here](https://scikit-learn.org/stable/modules/ensemble.html#controlling-the-tree-size)."
   ]
  }
 ],
 "metadata": {
  "kernelspec": {
   "display_name": "Python 3 (ipykernel)",
   "language": "python",
   "name": "python3"
  },
  "language_info": {
   "codemirror_mode": {
    "name": "ipython",
    "version": 3
   },
   "file_extension": ".py",
   "mimetype": "text/x-python",
   "name": "python",
   "nbconvert_exporter": "python",
   "pygments_lexer": "ipython3",
   "version": "3.8.17"
  }
 },
 "nbformat": 4,
 "nbformat_minor": 5
}
