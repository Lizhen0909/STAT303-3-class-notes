{
 "cells": [
  {
   "cell_type": "raw",
   "id": "cfb58366",
   "metadata": {},
   "source": [
    "---\n",
    "title: \"Tuning a hyperparameter\"\n",
    "format: \n",
    "  html:\n",
    "    toc: true\n",
    "    toc-title: Contents\n",
    "    toc-depth: 4\n",
    "    code-fold: show\n",
    "    self-contained: true\n",
    "    html-math-method: mathml \n",
    "jupyter: python3\n",
    "---"
   ]
  },
  {
   "cell_type": "markdown",
   "id": "dc095faa",
   "metadata": {},
   "source": [
    "This notebook shows an example on how to tune the value of a hyperparameter. The example considered is Question [A.2.5](https://nustat.github.io/STAT303-3-class-notes/Assignment%20A.html#tuning-c) of Assignment A, where we need to tune the regularization parameter `C` for a logistic regression model. With this example, you should understand:\n",
    "\n",
    "1. How to think about the range of values to consider for tuning a hyperparameter.\n",
    "\n",
    "2. How should the values under consideration be distributed in the range identified in (1)."
   ]
  },
  {
   "cell_type": "code",
   "execution_count": 1,
   "id": "e20deaa0",
   "metadata": {},
   "outputs": [],
   "source": [
    "import time as tm\n",
    "import pandas as pd\n",
    "import numpy as np\n",
    "import seaborn as sns\n",
    "import matplotlib.pyplot as plt\n",
    "from sklearn.linear_model import LinearRegression\n",
    "from sklearn.preprocessing import PolynomialFeatures\n",
    "from sklearn.linear_model import LogisticRegression\n",
    "from sklearn.model_selection import train_test_split, cross_val_predict, cross_val_score, cross_validate\n",
    "from sklearn.preprocessing import StandardScaler\n",
    "from sklearn.metrics import accuracy_score, roc_curve, auc, precision_score, recall_score, confusion_matrix"
   ]
  },
  {
   "cell_type": "code",
   "execution_count": 2,
   "id": "9ffff1cf",
   "metadata": {},
   "outputs": [],
   "source": [
    "data = pd.read_csv('./Datasets/classification_data.csv')\n",
    "\n",
    "X = data.drop(columns= 'hi_int_prncp_pd')\n",
    "y = data['hi_int_prncp_pd']\n",
    "X_train, X_test, y_train, y_test = train_test_split(X, y, test_size = 0.25, random_state = 45, stratify=y)"
   ]
  },
  {
   "cell_type": "code",
   "execution_count": 3,
   "id": "463363cb",
   "metadata": {},
   "outputs": [],
   "source": [
    "scaler = StandardScaler().fit(X_train)\n",
    "X_train_scaled = scaler.transform(X_train)\n",
    "X_test_scaled = scaler.transform(X_test) "
   ]
  },
  {
   "cell_type": "markdown",
   "id": "e1316504",
   "metadata": {},
   "source": [
    "## Tuning `C` ([A.2.5](https://nustat.github.io/STAT303-3-class-notes/Assignment%20A.html#tuning-c))\n",
    "With the optimal degree identified in the previous question, find the optimal regularization parameter `C`. Again use the `cross_val_score` function.\n",
    "\n",
    "*(4 points)*"
   ]
  },
  {
   "cell_type": "markdown",
   "id": "1115b6f9",
   "metadata": {},
   "source": [
    "We are tuning `C` for the optimal degree of 5 identified in one of the previous questions."
   ]
  },
  {
   "cell_type": "code",
   "execution_count": 4,
   "id": "ee9cc1a1",
   "metadata": {},
   "outputs": [],
   "source": [
    "poly = PolynomialFeatures(degree = 5)\n",
    "X_train_poly = poly.fit_transform(X_train_scaled)"
   ]
  },
  {
   "cell_type": "markdown",
   "id": "bedf9ff4",
   "metadata": {},
   "source": [
    "## What should be the minimum value of `C` to consider?"
   ]
  },
  {
   "cell_type": "markdown",
   "id": "062e991b",
   "metadata": {},
   "source": [
    "- As `C` is the regularization parameter, it cannot be negative. \n",
    "- As `C` = 1/lambda, a value of `C` = 0 will mean infinite regularization, which corresponds to an intercept-only model. Also, as the `LogisticRegression()` function computes the value of lambda as `1/C`, it throws a *division by zero error* if `C = 0`. Thus, we should consider `C>0`.\n",
    "- Even if `C` is positive, but very small, the value of lambda will be too high, which gives rise to numerical errors. Thus, we need to find the minimum value of `C` that is large enough to avoid numerical errors when fitting the model to the given standardized dataset."
   ]
  },
  {
   "cell_type": "markdown",
   "id": "653a7d83",
   "metadata": {},
   "source": [
    "We start with an extremely low value of `C = 1e-10`, and check if the model converges. It doesn't converge! If it had converged, we will consider even lower values of `C`. However, in this case, it fails to converge indicating the possibility that this value of `C` is too small to avoid numerical errors. We keep increasing the order of `C` until we don't see convergence errors. With the code below, we find that for values of `C` starting from `1e-6`, the algorithm successfully converges. Thus, the minimum value of `C` that we consider will be `1e-6`. \n",
    "\n",
    "In the plot below, we also see that as we increase `C` starting from `C = 1e-6`, the model coefficients change, which may potentially change model fit and accuracy. Thus, we should consider increasing values of `C` starting from `C = 1e-6`."
   ]
  }
 ],
 "metadata": {
  "kernelspec": {
   "display_name": "Python 3",
   "language": "python",
   "name": "python3"
  },
  "language_info": {
   "codemirror_mode": {
    "name": "ipython",
    "version": 3
   },
   "file_extension": ".py",
   "mimetype": "text/x-python",
   "name": "python",
   "nbconvert_exporter": "python",
   "pygments_lexer": "ipython3",
   "version": "3.8.8"
  }
 },
 "nbformat": 4,
 "nbformat_minor": 5
}
