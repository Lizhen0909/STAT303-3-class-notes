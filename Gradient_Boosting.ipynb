{
 "cells": [
  {
   "cell_type": "raw",
   "id": "1902cbf7",
   "metadata": {},
   "source": [
    "---\n",
    "title: \"Gradient Boosting\"\n",
    "format: \n",
    "  html:\n",
    "    code-fold: false\n",
    "    toc-depth: 4\n",
    "    jupyter: python3\n",
    "---"
   ]
  },
  {
   "cell_type": "markdown",
   "id": "c030794c",
   "metadata": {},
   "source": [
    "\n",
    "*Note that in this course, lecture notes are not sufficient, you must read the book for better understanding. Lecture notes are just implementing the concepts of the book on a dataset, but not explaining the concepts elaborately.*"
   ]
  },
  {
   "cell_type": "markdown",
   "id": "6eface5a",
   "metadata": {},
   "source": [
    "## What is Gradient Boosting?\n",
    "\n",
    "Gradient Boosting is a **boosting technique** that builds an additive model in a forward stage-wise manner. Unlike AdaBoost, which adjusts weights on training instances, Gradient Boosting fits new models to the **residual errors** made by prior models using the gradient of a specified loss function.\n",
    "\n",
    "At each stage, a new weak learner is trained to minimize the loss function by correcting the errors of the current ensemble."
   ]
  },
  {
   "cell_type": "markdown",
   "id": "06161ff3",
   "metadata": {},
   "source": [
    "## Gradient Boosting Intuition\n",
    "\n",
    "Gradient Boosting can be understood as **functional gradient descent**:\n",
    "\n",
    "- We start with an initial prediction (e.g., the mean of the targets).\n",
    "- At each iteration, we fit a new model to the **negative gradient** of the loss function with respect to the current predictions.\n",
    "- This negative gradient plays a similar role to residuals in squared loss regression—it points in the direction that most reduces the loss.\n",
    "- The new model's predictions are then added to the current model, scaled by a learning rate.\n",
    "\n",
    "By sequentially adding models that reduce the remaining error, the ensemble gradually improves.\n"
   ]
  },
  {
   "cell_type": "markdown",
   "id": "e0a4cc65",
   "metadata": {},
   "source": [
    "## How Gradient Boosting Works (Regression Example)\n",
    "\n",
    "1. **Initialize** the model with a constant prediction:  \n",
    "   $$\n",
    "   \\hat{f}^{(0)}(x) = \\arg\\min_c \\sum_{i=1}^n L(y_i, c)\n",
    "   $$\n",
    "\n",
    "2. **For** $m = 1$ to $M$ (number of boosting rounds):\n",
    "\n",
    "   - Compute the **negative gradient** (pseudo-residuals):  \n",
    "     $$\n",
    "     r_i^{(m)} = - \\left[ \\frac{\\partial L(y_i, \\hat{f}(x_i))}{\\partial \\hat{f}(x_i)} \\right]_{\\hat{f}(x) = \\hat{f}^{(m-1)}(x)}\n",
    "     $$\n",
    "\n",
    "   - Fit a **base learner** $h^{(m)}(x)$ to the residuals $r_i^{(m)}$.\n",
    "\n",
    "   - Determine the **optimal step size** (line search):  \n",
    "     $$\n",
    "     \\gamma^{(m)} = \\arg\\min_\\gamma \\sum_{i=1}^n L\\left(y_i, \\hat{f}^{(m-1)}(x_i) + \\gamma \\cdot h^{(m)}(x_i)\\right)\n",
    "     $$\n",
    "\n",
    "   - **Update the model**:  \n",
    "     $$\n",
    "     \\hat{f}^{(m)}(x) = \\hat{f}^{(m-1)}(x) + \\eta \\cdot \\gamma^{(m)} h^{(m)}(x)\n",
    "     $$\n",
    "     where $\\eta$ is the learning rate.\n",
    "\n",
    "3. **Final prediction**:  \n",
    "   $$\n",
    "   \\hat{f}^{(M)}(x)\n",
    "   $$\n"
   ]
  },
  {
   "cell_type": "code",
   "execution_count": null,
   "id": "c17072e2",
   "metadata": {},
   "outputs": [],
   "source": [
    "import pandas as pd\n",
    "import numpy as np\n",
    "import seaborn as sns\n",
    "import matplotlib.pyplot as plt\n",
    "from sklearn.metrics import mean_squared_error\n",
    "from sklearn.model_selection import cross_val_score,train_test_split, KFold, cross_val_predict\n",
    "from sklearn.metrics import root_mean_squared_error, mean_squared_error,r2_score,roc_curve,auc,precision_recall_curve, accuracy_score, \\\n",
    "recall_score, precision_score, confusion_matrix\n",
    "from sklearn.tree import DecisionTreeRegressor,DecisionTreeClassifier\n",
    "from sklearn.model_selection import GridSearchCV, ParameterGrid, StratifiedKFold\n",
    "from sklearn.ensemble import GradientBoostingRegressor,GradientBoostingClassifier, BaggingRegressor,BaggingClassifier,RandomForestRegressor,RandomForestClassifier,AdaBoostRegressor,AdaBoostClassifier\n",
    "from sklearn.preprocessing import OneHotEncoder, FunctionTransformer\n",
    "import itertools as it\n",
    "import time as time\n",
    "\n",
    "import optuna\n",
    "from skopt import BayesSearchCV\n",
    "from skopt.space import Real, Categorical, Integer\n",
    "from skopt.plots import plot_objective, plot_histogram, plot_convergence\n",
    "import warnings\n",
    "from IPython import display"
   ]
  },
  {
   "cell_type": "markdown",
   "id": "ac94f62c",
   "metadata": {},
   "source": [
    "## Gradient Boosting in Scikit-Learn\n",
    "\n",
    "Scikit-learn offers a standard implementation of Gradient Boosting through two primary estimators:\n",
    "\n",
    "- [`GradientBoostingClassifier`](https://scikit-learn.org/stable/modules/generated/sklearn.ensemble.GradientBoostingClassifier.html) for classification tasks\n",
    "- [`GradientBoostingRegressor`](https://scikit-learn.org/stable/modules/generated/sklearn.ensemble.GradientBoostingRegressor.html) for regression tasks\n",
    "\n",
    "These estimators build an additive model in a forward stage-wise fashion, allowing for the optimization of arbitrary differentiable loss functions. They are suitable for small to medium-sized datasets and provide flexibility in model tuning.\n",
    "\n",
    "For larger datasets (typically with `n_samples >= 10,000`), consider using the histogram-based variants:\n",
    "\n",
    "- [`HistGradientBoostingClassifier`](https://scikit-learn.org/stable/modules/generated/sklearn.ensemble.HistGradientBoostingClassifier.html)\n",
    "- [`HistGradientBoostingRegressor`](https://scikit-learn.org/stable/modules/generated/sklearn.ensemble.HistGradientBoostingRegressor.html)\n"
   ]
  },
  {
   "cell_type": "markdown",
   "id": "0b6569ab",
   "metadata": {},
   "source": [
    "## Core Hyperparameters Categories\n",
    "\n",
    "The primary hyperparameters for `GradientBoostingClassifier` and `GradientBoostingRegressor` can be grouped into the following categories:\n",
    "\n",
    "1. **Number of Trees** (`n_estimators`)  \n",
    "   - Use **early stopping** (via `n_iter_no_change` and `validation_fraction` in scikit-learn) to avoid overfitting.  \n",
    "   - Start with a large value (e.g., 500–1000) and let early stopping prune unnecessary trees.\n",
    "\n",
    "2. **Early Stopping**\n",
    "   \n",
    "   - Prevents overfitting by halting training once the validation performance stops improving.  \n",
    "   - Controlled using:\n",
    "     - `n_iter_no_change`: Number of rounds with no improvement before stopping (e.g., 10).\n",
    "     - `validation_fraction`: Fraction of training data reserved as internal validation set (e.g., 0.1).\n",
    "     - `tol`: Minimum improvement to be considered significant (e.g., `1e-4`).\n",
    "   - Set a large `n_estimators`, and let early stopping determine the optimal number of boosting iterations.\n",
    "\n",
    "3. **Learning Rate** (`learning_rate`)  \n",
    "   - Shrinks the contribution of each tree to improve generalization.  \n",
    "   - *Typical range*: 0.01–0.2 (lower values require more trees).\n",
    "\n",
    "4. **Tree Complexity**\n",
    "   - `max_depth`: Depth of individual trees. Start shallow (3–6) to limit overfitting.  \n",
    "   - `min_samples_split`: Minimum samples required to split a node (e.g., 10–50).  \n",
    "   - `min_samples_leaf`: Minimum samples required in a leaf node (e.g., 5–20).\n",
    "\n",
    "5. **Stochastic Gradient Boosting**\n",
    "   - `subsample`: Fraction of training data sampled per tree (e.g., 0.5–1.0).  \n",
    "   - `max_features`: Fraction/absolute number of features used per split (e.g., `sqrt(n_features)` or `0.8`).\n",
    "\n",
    "6. **Loss Function** (`loss`)\n",
    "   \n",
    "   - Matches the problem type:\n",
    "     - Regression: `squared_error`, `absolute_error`\n",
    "     - Classification: `log_loss` (binary/multinomial deviance)\n",
    "\n",
    "\n"
   ]
  },
  {
   "cell_type": "markdown",
   "id": "826ad654",
   "metadata": {},
   "source": [
    "For a comprehensive list and detailed explanations of all hyperparameters, refer to the official Scikit-learn documentation:\n",
    "\n",
    "- [GradientBoostingClassifier Documentation](https://scikit-learn.org/stable/modules/generated/sklearn.ensemble.GradientBoostingClassifier.html)\n",
    "- [GradientBoostingRegressor Documentation](https://scikit-learn.org/stable/modules/generated/sklearn.ensemble.GradientBoostingRegressor.html)"
   ]
  },
  {
   "cell_type": "markdown",
   "id": "acf1e5e5",
   "metadata": {},
   "source": [
    "## Hyperparameter Tuning"
   ]
  },
  {
   "cell_type": "markdown",
   "id": "8e7d6aeb",
   "metadata": {},
   "source": [
    "Let’s reuse the car dataset to evaluate how different hyperparameter settings affect the performance of gradient boosting"
   ]
  },
  {
   "cell_type": "code",
   "execution_count": 32,
   "id": "a9036ef3",
   "metadata": {},
   "outputs": [
    {
     "data": {
      "text/html": [
       "<div>\n",
       "<style scoped>\n",
       "    .dataframe tbody tr th:only-of-type {\n",
       "        vertical-align: middle;\n",
       "    }\n",
       "\n",
       "    .dataframe tbody tr th {\n",
       "        vertical-align: top;\n",
       "    }\n",
       "\n",
       "    .dataframe thead th {\n",
       "        text-align: right;\n",
       "    }\n",
       "</style>\n",
       "<table border=\"1\" class=\"dataframe\">\n",
       "  <thead>\n",
       "    <tr style=\"text-align: right;\">\n",
       "      <th></th>\n",
       "      <th>brand</th>\n",
       "      <th>model</th>\n",
       "      <th>year</th>\n",
       "      <th>transmission</th>\n",
       "      <th>mileage</th>\n",
       "      <th>fuelType</th>\n",
       "      <th>tax</th>\n",
       "      <th>mpg</th>\n",
       "      <th>engineSize</th>\n",
       "      <th>price</th>\n",
       "    </tr>\n",
       "  </thead>\n",
       "  <tbody>\n",
       "    <tr>\n",
       "      <th>0</th>\n",
       "      <td>vw</td>\n",
       "      <td>Beetle</td>\n",
       "      <td>2014</td>\n",
       "      <td>Manual</td>\n",
       "      <td>55457</td>\n",
       "      <td>Diesel</td>\n",
       "      <td>30</td>\n",
       "      <td>65.3266</td>\n",
       "      <td>1.6</td>\n",
       "      <td>7490</td>\n",
       "    </tr>\n",
       "    <tr>\n",
       "      <th>1</th>\n",
       "      <td>vauxhall</td>\n",
       "      <td>GTC</td>\n",
       "      <td>2017</td>\n",
       "      <td>Manual</td>\n",
       "      <td>15630</td>\n",
       "      <td>Petrol</td>\n",
       "      <td>145</td>\n",
       "      <td>47.2049</td>\n",
       "      <td>1.4</td>\n",
       "      <td>10998</td>\n",
       "    </tr>\n",
       "    <tr>\n",
       "      <th>2</th>\n",
       "      <td>merc</td>\n",
       "      <td>G Class</td>\n",
       "      <td>2012</td>\n",
       "      <td>Automatic</td>\n",
       "      <td>43000</td>\n",
       "      <td>Diesel</td>\n",
       "      <td>570</td>\n",
       "      <td>25.1172</td>\n",
       "      <td>3.0</td>\n",
       "      <td>44990</td>\n",
       "    </tr>\n",
       "    <tr>\n",
       "      <th>3</th>\n",
       "      <td>audi</td>\n",
       "      <td>RS5</td>\n",
       "      <td>2019</td>\n",
       "      <td>Automatic</td>\n",
       "      <td>10</td>\n",
       "      <td>Petrol</td>\n",
       "      <td>145</td>\n",
       "      <td>30.5593</td>\n",
       "      <td>2.9</td>\n",
       "      <td>51990</td>\n",
       "    </tr>\n",
       "    <tr>\n",
       "      <th>4</th>\n",
       "      <td>merc</td>\n",
       "      <td>X-CLASS</td>\n",
       "      <td>2018</td>\n",
       "      <td>Automatic</td>\n",
       "      <td>14000</td>\n",
       "      <td>Diesel</td>\n",
       "      <td>240</td>\n",
       "      <td>35.7168</td>\n",
       "      <td>2.3</td>\n",
       "      <td>28990</td>\n",
       "    </tr>\n",
       "  </tbody>\n",
       "</table>\n",
       "</div>"
      ],
      "text/plain": [
       "      brand     model  year transmission  mileage fuelType  tax      mpg  \\\n",
       "0        vw    Beetle  2014       Manual    55457   Diesel   30  65.3266   \n",
       "1  vauxhall       GTC  2017       Manual    15630   Petrol  145  47.2049   \n",
       "2      merc   G Class  2012    Automatic    43000   Diesel  570  25.1172   \n",
       "3      audi       RS5  2019    Automatic       10   Petrol  145  30.5593   \n",
       "4      merc   X-CLASS  2018    Automatic    14000   Diesel  240  35.7168   \n",
       "\n",
       "   engineSize  price  \n",
       "0         1.6   7490  \n",
       "1         1.4  10998  \n",
       "2         3.0  44990  \n",
       "3         2.9  51990  \n",
       "4         2.3  28990  "
      ]
     },
     "execution_count": 32,
     "metadata": {},
     "output_type": "execute_result"
    }
   ],
   "source": [
    "# Load the dataset\n",
    "car = pd.read_csv('Datasets/car.csv')\n",
    "car.head()"
   ]
  },
  {
   "cell_type": "code",
   "execution_count": 33,
   "id": "db6b5f99",
   "metadata": {},
   "outputs": [],
   "source": [
    "X = car.drop(columns=['price'])\n",
    "y = car['price']\n",
    "\n",
    "X_train, X_test, y_train, y_test = train_test_split(X, y, test_size=0.2, random_state=42)\n",
    "\n",
    "# extract the categorical columns and put them in a list\n",
    "categorical_feature = X.select_dtypes(include=['object']).columns.tolist()\n",
    "\n",
    "# extract the numerical columns and put them in a list\n",
    "numerical_feature = X.select_dtypes(include=['int64', 'float64']).columns.tolist()"
   ]
  },
  {
   "cell_type": "code",
   "execution_count": 34,
   "id": "c7d5fb7e",
   "metadata": {},
   "outputs": [],
   "source": [
    "encoder = OneHotEncoder(handle_unknown='ignore', sparse_output=False)\n",
    "\n",
    "X_train_encoded = encoder.fit_transform(X_train[categorical_feature])\n",
    "X_test_encoded = encoder.transform(X_test[categorical_feature])\n",
    "\n",
    "# Convert the encoded features back to DataFrame\n",
    "X_train_encoded_df = pd.DataFrame(X_train_encoded, columns=encoder.get_feature_names_out(categorical_feature))\n",
    "X_test_encoded_df = pd.DataFrame(X_test_encoded, columns=encoder.get_feature_names_out(categorical_feature))\n",
    "\n",
    "# Concatenate the encoded features with the original numerical features\n",
    "X_train_final = pd.concat([X_train_encoded_df, X_train[numerical_feature].reset_index(drop=True)], axis=1)\n",
    "X_test_final = pd.concat([X_test_encoded_df, X_test[numerical_feature].reset_index(drop=True)], axis=1)"
   ]
  },
  {
   "cell_type": "markdown",
   "id": "a2e35f1a",
   "metadata": {},
   "source": [
    "### Individual Hyperparameter Impact Analysis\n",
    "\n",
    "#### Effect of Number of Trees on Cross-Validation Error\n",
    "\n",
    "Effect of Number of Trees on Cross-Validation Error\n",
    "In Gradient Boosting, the number of trees (`n_estimators`) controls how many boosting rounds the model performs. Adding more trees can reduce bias and improve training accuracy, but it also increases the risk of overfitting, especially with a high learning rate.\n",
    "\n",
    "The optimal number of trees is often found by balancing **model complexity** and **generalization performance** using cross-validation."
   ]
  },
  {
   "cell_type": "code",
   "execution_count": 35,
   "id": "452c9c3a",
   "metadata": {},
   "outputs": [
    {
     "name": "stdout",
     "output_type": "stream",
     "text": [
      ">50 6549.576 (722.462)\n",
      ">100 5232.949 (656.216)\n",
      ">500 3419.467 (262.753)\n",
      ">800 3202.489 (194.072)\n",
      ">1000 3106.002 (184.799)\n",
      ">1500 3039.520 (210.989)\n",
      ">2000 3194.874 (293.134)\n",
      "Best number of trees: 1500 with RMSE: 3039.520\n"
     ]
    },
    {
     "data": {
      "image/png": "[encoded data removed]",
      "text/plain": [
       "<Figure size 640x480 with 1 Axes>"
      ]
     },
     "metadata": {},
     "output_type": "display_data"
    }
   ],
   "source": [
    "def get_models():\n",
    "    models = dict()\n",
    "    # define number of trees to consider\n",
    "    n_trees = [50, 100, 500, 800, 1000, 1500, 2000]\n",
    "    for n in n_trees:\n",
    "        models[str(n)] = GradientBoostingRegressor(n_estimators=n,random_state=1,loss='huber')\n",
    "    return models\n",
    "\n",
    "# evaluate a given model using cross-validation\n",
    "def evaluate_model(model, X, y):\n",
    "    # define the evaluation procedure\n",
    "    cv = KFold(n_splits=5, shuffle=True, random_state=1)\n",
    "    # evaluate the model and collect the results\n",
    "    scores = np.sqrt(-cross_val_score(model, X, y, scoring='neg_mean_squared_error', cv=cv, n_jobs=-1))\n",
    "    return scores\n",
    "\n",
    "# get the models to evaluate\n",
    "models = get_models()\n",
    "# evaluate the models and store results\n",
    "results, names = list(), list()\n",
    "for name, model in models.items():\n",
    "    # evaluate the model\n",
    "    scores = evaluate_model(model, X_train_final, y_train)\n",
    "    # store the results\n",
    "    results.append(scores)\n",
    "    names.append(name)\n",
    "    # summarize the performance along the way\n",
    "    print('>%s %.3f (%.3f)' % (name, np.mean(scores), np.std(scores)))\n",
    "\n",
    "plt.boxplot(results, labels=names, showmeans=True)\n",
    "plt.ylabel('Cross validation error',fontsize=15)\n",
    "plt.xlabel('Number of trees',fontsize=15);\n",
    "\n",
    "# get the optimal number of trees\n",
    "best_index = np.argmin([np.mean(r) for r in results])\n",
    "best_n_trees = names[best_index]\n",
    "best_score = np.mean(results[best_index])\n",
    "\n",
    "\n",
    "# Highlight the best model on the plot\n",
    "plt.axvline(x=best_index+1, color='red', linestyle='--', alpha=0.7)\n",
    "plt.text(best_index + 1 - 0.4, best_score+700, \n",
    "         f'Best: {best_n_trees} (RMSE: {best_score:.1f})', \n",
    "         color='red', fontweight='bold')\n",
    "\n",
    "print(f\"Best number of trees: {best_n_trees} with RMSE: {best_score:.3f}\")"
   ]
  },
  {
   "cell_type": "markdown",
   "id": "9d9a4954",
   "metadata": {},
   "source": [
    "#### Early stopping in Gradient Boosting \n",
    "\n",
    "**Why Early Stopping Matters**\n",
    "\n",
    "Specifying a fixed number of trees means deciding in advance how many boosting rounds (i.e., trees) the model will train.\n",
    "\n",
    "This approach can be inefficient or risky:\n",
    "\n",
    "- If **too few** trees are used, the model may **underfit**.\n",
    "- If **too many**, the model may **overfit** or **waste computation**.\n",
    "\n",
    "That’s why **early stopping** is useful — it allows the model to **stop training once performance on a validation set no longer improves**, effectively selecting the optimal number of trees automatically.\n",
    "\n",
    "**How Early Stopping Works**\n",
    "\n",
    " Instead of specifying a fixed number of trees (`n_estimators`), the algorithm monitors performance on a **validation set** and stops adding new trees once the model's improvement has plateaued.\n",
    "\n",
    "In scikit-learn, early stopping can be enabled using:\n",
    "\n",
    "- `early_stopping=True`\n",
    "- `validation_fraction`: The fraction of training data used as a validation set\n",
    "- `n_iter_no_change`: Number of iterations to wait without improvement before stopping\n",
    "\n",
    "This approach not only improves generalization but also reduces training time by avoiding unnecessary trees."
   ]
  },
  {
   "cell_type": "code",
   "execution_count": 36,
   "id": "2231df15",
   "metadata": {},
   "outputs": [],
   "source": [
    "params = dict(n_estimators=2000, max_depth=5, learning_rate=0.1, random_state=42)\n",
    "\n",
    "gbm_full = GradientBoostingRegressor(**params)\n",
    "gbm_early_stopping = GradientBoostingRegressor(\n",
    "    **params,\n",
    "    validation_fraction=0.1,\n",
    "    n_iter_no_change=10,\n",
    ")\n",
    "\n",
    "start_time = time.time()\n",
    "gbm_full.fit(X_train_final, y_train)\n",
    "training_time_full = time.time() - start_time\n",
    "n_estimators_full = gbm_full.n_estimators_\n",
    "\n",
    "start_time = time.time()\n",
    "gbm_early_stopping.fit(X_train_final, y_train)\n",
    "training_time_early_stopping = time.time() - start_time\n",
    "estimators_early_stopping = gbm_early_stopping.n_estimators_"
   ]
  },
  {
   "cell_type": "markdown",
   "id": "2369d371",
   "metadata": {},
   "source": [
    "Let’s calculate the RMSE on both the training and test datasets for each model, which will be used for later visualization."
   ]
  },
  {
   "cell_type": "code",
   "execution_count": 37,
   "id": "cabba68f",
   "metadata": {},
   "outputs": [],
   "source": [
    "# import root mean squared error function\n",
    "from sklearn.metrics import root_mean_squared_error\n",
    "\n",
    "train_errors_without = []\n",
    "test_errors_without = []\n",
    "\n",
    "train_errors_with = []\n",
    "test_errors_with = []\n",
    "\n",
    "for i, (train_pred, test_pred) in enumerate(\n",
    "    zip(\n",
    "        gbm_full.staged_predict(X_train_final),\n",
    "        gbm_full.staged_predict(X_test_final),\n",
    "    )\n",
    "):\n",
    "    train_errors_without.append(root_mean_squared_error(y_train, train_pred))\n",
    "    test_errors_without.append(root_mean_squared_error(y_test, test_pred))\n",
    "\n",
    "for i, (train_pred, test_pred) in enumerate(\n",
    "    zip(\n",
    "        gbm_early_stopping.staged_predict(X_train_final),\n",
    "        gbm_early_stopping.staged_predict(X_test_final),\n",
    "    )\n",
    "):\n",
    "    train_errors_with.append(root_mean_squared_error(y_train, train_pred))\n",
    "    test_errors_with.append(root_mean_squared_error(y_test, test_pred))"
   ]
  },
  {
   "cell_type": "markdown",
   "id": "b0a69f21",
   "metadata": {},
   "source": [
    "Let's visulize Comparison. It includes three subplots:\n",
    "\n",
    "1. Plotting training errors of both models over boosting iterations.\n",
    "2. Plotting test errors of both models over boosting iterations.\n",
    "3. Creating a bar chart to compare the training times and the number of estimators used by the models with and without early stopping."
   ]
  },
  {
   "cell_type": "code",
   "execution_count": 38,
   "id": "784add04",
   "metadata": {},
   "outputs": [
    {
     "data": {
      "image/png": "[encoded data removed]",
      "text/plain": [
       "<Figure size 1200x400 with 3 Axes>"
      ]
     },
     "metadata": {},
     "output_type": "display_data"
    }
   ],
   "source": [
    "fig, axes = plt.subplots(ncols=3, figsize=(12, 4))\n",
    "\n",
    "axes[0].plot(train_errors_without, label=\"gbm_full\")\n",
    "axes[0].plot(train_errors_with, label=\"gbm_early_stopping\")\n",
    "axes[0].set_xlabel(\"Boosting Iterations\")\n",
    "axes[0].set_ylabel(\"RMSE (Training)\")\n",
    "axes[0].set_yscale(\"log\")\n",
    "axes[0].legend()\n",
    "axes[0].set_title(\"Training Error\")\n",
    "\n",
    "axes[1].plot(test_errors_without, label=\"gbm_full\")\n",
    "axes[1].plot(test_errors_with, label=\"gbm_early_stopping\")\n",
    "axes[1].set_xlabel(\"Boosting Iterations\")\n",
    "axes[1].set_ylabel(\"RMSE (Test)\")\n",
    "axes[1].set_yscale(\"log\")\n",
    "axes[1].legend()\n",
    "axes[1].set_title(\"Test Error\")\n",
    "\n",
    "training_times = [training_time_full, training_time_early_stopping]\n",
    "labels = [\"gbm_full\", \"gbm_early_stopping\"]\n",
    "bars = axes[2].bar(labels, training_times)\n",
    "axes[2].set_ylabel(\"Training Time (s)\")\n",
    "\n",
    "for bar, n_estimators in zip(bars, [n_estimators_full, estimators_early_stopping]):\n",
    "    height = bar.get_height()\n",
    "    axes[2].text(\n",
    "        bar.get_x() + bar.get_width() / 2,\n",
    "        height + 0.001,\n",
    "        f\"Estimators: {n_estimators}\",\n",
    "        ha=\"center\",\n",
    "        va=\"bottom\",\n",
    "    )\n",
    "\n",
    "plt.tight_layout()\n",
    "plt.show()"
   ]
  },
  {
   "cell_type": "markdown",
   "id": "ce10fd94",
   "metadata": {},
   "source": [
    "The difference in training error between the `gbm_full` and the `gbm_early_stopping` stems from the fact that  \n",
    "`gbm_early_stopping` sets aside `validation_fraction` of the training data as an internal validation set.  \n",
    "\n",
    "Early stopping is decided based on this internal validation score.\n"
   ]
  },
  {
   "cell_type": "markdown",
   "id": "9a156dd2",
   "metadata": {},
   "source": [
    "**Benefits of Using Early Stopping in Boosting:**\n",
    "\n",
    "- **Preventing Overfitting**  \n",
    "  Early stopping helps avoid overfitting by monitoring the test error.  \n",
    "  When the error stabilizes or starts increasing, training stops — resulting in better generalization to unseen data.\n",
    "\n",
    "- **Improving Training Efficiency**  \n",
    "  Models with early stopping often require **fewer estimators** while achieving similar accuracy.  \n",
    "  This reduces training time significantly compared to training without early stopping."
   ]
  },
  {
   "cell_type": "markdown",
   "id": "4d832e44",
   "metadata": {},
   "source": [
    "#### Effect of Learning Rate on Cross-Validation Error\n",
    "\n",
    "The learning rate (`learning_rate`) determines how much each new tree contributes to the overall model. A **smaller learning rate** results in slower learning and often requires more trees to achieve good performance. A **larger learning rate** speeds up learning but increases the risk of overfitting.\n",
    "\n",
    "Finding the optimal learning rate involves balancing:\n",
    "- **High learning rate** → faster convergence, but higher risk of overfitting  \n",
    "- **Low learning rate** → better generalization, but requires more trees and longer training time\n",
    "\n",
    "Cross-validation helps identify the learning rate that minimizes prediction error while ensuring model stability."
   ]
  },
  {
   "cell_type": "code",
   "execution_count": 39,
   "id": "3553d5cc",
   "metadata": {},
   "outputs": [
    {
     "name": "stdout",
     "output_type": "stream",
     "text": [
      ">0.20 4193.7 (301.2)\n",
      ">0.30 3740.3 (306.3)\n",
      ">0.40 3630.0 (212.2)\n",
      ">0.50 3529.6 (181.5)\n",
      ">0.60 3650.2 (169.0)\n",
      ">0.70 3644.7 (142.5)\n",
      ">0.80 3908.9 (260.6)\n",
      ">0.90 3968.7 (201.1)\n",
      ">1.00 4208.3 (368.5)\n"
     ]
    },
    {
     "data": {
      "image/png": "[encoded data removed]",
      "text/plain": [
       "<Figure size 1000x700 with 1 Axes>"
      ]
     },
     "metadata": {},
     "output_type": "display_data"
    },
    {
     "name": "stdout",
     "output_type": "stream",
     "text": [
      "\n",
      "Best model: 0.50 with RMSE: 3529.563\n"
     ]
    }
   ],
   "source": [
    "def get_models():\n",
    "    models = dict()\n",
    "    # create 9 evenly spaced values between 0.2 and 1.0\n",
    "    learning_rates = np.linspace(0.2, 1.0, 9)\n",
    "    for learning_rate in learning_rates:\n",
    "        # Round to 2 decimal places for clean keys\n",
    "        lr_rounded = round(learning_rate, 2)\n",
    "        key = f\"{lr_rounded:.2f}\"\n",
    "        models[key] = GradientBoostingRegressor(learning_rate=lr_rounded, random_state=1, loss='huber')\n",
    "    return models\n",
    "\n",
    "# evaluate a given model using cross-validation\n",
    "def evaluate_model(model, X, y):\n",
    "    # define the evaluation procedure\n",
    "    cv = KFold(n_splits=5, shuffle=True, random_state=1)\n",
    "    # evaluate the model and collect the results\n",
    "    scores = np.sqrt(-cross_val_score(model, X, y, scoring='neg_mean_squared_error', cv=cv, n_jobs=-1))\n",
    "    return scores\n",
    "\n",
    "# get the models to evaluate\n",
    "models = get_models()\n",
    "\n",
    "# evaluate the models and store results\n",
    "results, names = list(), list()\n",
    "mean_scores = []  # Track mean scores separately\n",
    "\n",
    "for name, model in models.items():\n",
    "    # evaluate the model\n",
    "    scores = evaluate_model(model, X_train_final, y_train)\n",
    "    # store the results\n",
    "    results.append(scores)\n",
    "    names.append(name)\n",
    "    # Calculate and store mean score\n",
    "    mean_score = np.mean(scores)\n",
    "    mean_scores.append(mean_score)\n",
    "    # summarize the performance along the way\n",
    "    print('>%s %.1f (%.1f)' % (name, mean_score, np.std(scores)))\n",
    "\n",
    "# plot model performance for comparison\n",
    "plt.figure(figsize=(10, 7))\n",
    "plt.boxplot(results, labels=names, showmeans=True)\n",
    "plt.ylabel('Cross validation error', fontsize=15)\n",
    "plt.xlabel('Learning rate', fontsize=15)\n",
    "plt.title('Model Performance by Learning Rate', fontsize=16)\n",
    "plt.grid(True, linestyle='--', alpha=0.7)\n",
    "\n",
    "# Find the best model using the saved mean scores\n",
    "best_index = np.argmin(mean_scores)\n",
    "best_lr = names[best_index]\n",
    "best_score = mean_scores[best_index]\n",
    "\n",
    "# Highlight the best model on the plot\n",
    "plt.axvline(x=best_index+1, color='red', linestyle='--', alpha=0.7)\n",
    "plt.text(best_index+1.2, min(mean_scores)*0.95, \n",
    "         f'Best: {best_lr} (RMSE: {best_score:.1f})', \n",
    "         color='red', fontweight='bold')\n",
    "\n",
    "plt.show()\n",
    "\n",
    "# Print the best model information\n",
    "print(f\"\\nBest model: {best_lr} with RMSE: {best_score:.3f}\")\n"
   ]
  },
  {
   "cell_type": "markdown",
   "id": "de478d28",
   "metadata": {},
   "source": [
    "####  Learning Rate and Number of Trees Are Closely Linked\n",
    "\n",
    "The **learning rate** and **number of trees** (`n_estimators`) are tightly coupled hyperparameters in gradient boosting. Their balance plays a key role in model performance and overfitting control.\n",
    "\n",
    "- A **lower learning rate** slows the learning process, requiring **more trees** to achieve strong performance.\n",
    "- A **higher learning rate** speeds up training but may cause the model to **overfit** if not regularized properly.\n",
    "\n",
    "⚠️ A high learning rate with too few trees can lead to poor generalization, while a very low learning rate with too many trees may improve accuracy but increase training time significantly.\n",
    "\n",
    "**Best practice:** Use a low to moderate learning rate (e.g., `0.01`–`0.1`) combined with **early stopping** to find the optimal number of trees.\n",
    "\n",
    "\n",
    "\n"
   ]
  },
  {
   "cell_type": "markdown",
   "id": "c5be962e",
   "metadata": {},
   "source": [
    "#### Effect of Stochastic Gradient Boosting on Cross-Validation Error\n",
    "\n",
    "**Stochastic Gradient Boosting** enhances generalization by introducing randomness into the model-building process. Two key hyperparameters that control this are `subsample` and `max_features`, and they operate on **different dimensions** of the data:\n",
    "\n",
    "| Parameter      | Applies To            | Purpose                                                                 |\n",
    "|----------------|-----------------------|-------------------------------------------------------------------------|\n",
    "| `subsample`    | Rows (data points)    | Randomly samples a fraction of the training data for each tree          |\n",
    "| `max_features` | Columns (features)    | Randomly samples a fraction of the features for each tree or split      |\n",
    "\n",
    "By tuning these parameters, we can reduce overfitting and increase model robustness. However, setting them too low may lead to underfitting due to insufficient information per tree.\n",
    "\n"
   ]
  },
  {
   "cell_type": "code",
   "execution_count": 40,
   "id": "e06e6340",
   "metadata": {},
   "outputs": [
    {
     "name": "stdout",
     "output_type": "stream",
     "text": [
      "Fitting 5 folds for each of 81 candidates, totalling 405 fits\n"
     ]
    }
   ],
   "source": [
    "from sklearn.metrics import make_scorer, mean_squared_error\n",
    "\n",
    "# Define model\n",
    "model = GradientBoostingRegressor(n_estimators=100, max_depth=4, learning_rate=0.1, random_state=1)\n",
    "\n",
    "# Define param grid\n",
    "param_grid = {\n",
    "    'subsample': np.linspace(0.2, 1.0, 9),\n",
    "    'max_features': np.linspace(0.2, 1.0, 9)\n",
    "}\n",
    "\n",
    "# RMSE scoring\n",
    "scorer = make_scorer(mean_squared_error, greater_is_better=False)\n",
    "\n",
    "# Grid search\n",
    "grid = GridSearchCV(estimator=model, param_grid=param_grid,\n",
    "                    scoring=scorer, cv=5, n_jobs=-1, verbose=1)\n",
    "grid.fit(X_train_final, y_train)\n",
    "\n",
    "# Create DataFrame from results\n",
    "results_df = pd.DataFrame(grid.cv_results_)\n",
    "results_df['mean_rmse'] = np.sqrt(-results_df['mean_test_score'])\n"
   ]
  },
  {
   "cell_type": "code",
   "execution_count": 41,
   "id": "9cd37cec",
   "metadata": {},
   "outputs": [
    {
     "data": {
      "image/png": "[encoded data removed]",
      "text/plain": [
       "<Figure size 1200x900 with 2 Axes>"
      ]
     },
     "metadata": {},
     "output_type": "display_data"
    },
    {
     "name": "stdout",
     "output_type": "stream",
     "text": [
      "Best RMSE: 3748.534 at subsample = 0.5, max_features = 0.7\n"
     ]
    }
   ],
   "source": [
    "# Round subsample and max_features to 2 decimal places for display\n",
    "results_df['subsample'] = results_df['param_subsample'].astype(float).round(2)\n",
    "results_df['max_features'] = results_df['param_max_features'].astype(float).round(2)\n",
    "\n",
    "# Then pivot using the rounded values\n",
    "heatmap_data = results_df.pivot(index='subsample', columns='max_features', values='mean_rmse')\n",
    "\n",
    "# Plot heatmap\n",
    "plt.figure(figsize=(12, 9))\n",
    "sns.heatmap(heatmap_data, annot=True, fmt=\".3f\", cmap=\"YlGnBu\", cbar_kws={'label': 'CV RMSE'})\n",
    "plt.title('Grid Search: CV RMSE by Subsample and Max Features')\n",
    "plt.ylabel('Subsample')\n",
    "plt.xlabel('Max Features')\n",
    "plt.tight_layout()\n",
    "plt.show()\n",
    "\n",
    "# Find the location (subsample, max_features) of the minimum RMSE\n",
    "min_rmse = heatmap_data.min().min()\n",
    "best_location = heatmap_data.stack().idxmin()  # returns a tuple: (subsample, max_features)\n",
    "\n",
    "print(f\"Best RMSE: {min_rmse:.3f} at subsample = {best_location[0]}, max_features = {best_location[1]}\")\n"
   ]
  },
  {
   "cell_type": "markdown",
   "id": "a7e6a828",
   "metadata": {},
   "source": [
    "#### Effect of Tree Complexity on Cross-Validation Error (Not Tuned Here)\n",
    "\n",
    "**Tree complexity** controls how expressive and flexible each individual tree in the gradient boosting ensemble can be. While deeper and more complex trees can capture intricate patterns in the data, they are also more prone to overfitting, especially when combined with many trees.\n",
    "\n",
    "Key parameters include:\n",
    "\n",
    "- `max_depth`: Limits the depth of each tree. Shallower trees (e.g., depth 3–6) are preferred for reducing overfitting.\n",
    "- `min_samples_split`: Specifies the minimum number of samples required to split an internal node. Higher values make the tree more conservative.\n",
    "- `min_samples_leaf`: Sets the minimum number of samples required to be at a leaf node. This also helps smooth the model and avoid capturing noise.\n",
    "\n",
    "These parameters influence the bias-variance trade-off by adjusting how expressive each tree can be.\n",
    "\n",
    "Since we have already discussed and tuned these parameters in earlier lessons (decision trees and random forests), we will **not tune them again here**. "
   ]
  },
  {
   "cell_type": "markdown",
   "id": "8baccae7",
   "metadata": {},
   "source": [
    "#### Loss Function (`loss`)\n",
    "\n",
    "In gradient boosting, the loss function determines how the model measures prediction errors and guides the optimization process during training. Here’s a breakdown of common loss functions for regression and classification tasks:\n",
    "\n",
    "- **Regression**:\n",
    "  - `squared_error`: Penalizes larger errors more heavily; sensitive to outliers. *(Default for regression)*\n",
    "  - `absolute_error`: Penalizes all errors equally; more robust to outliers.\n",
    "  - `huber`: Combines squared and absolute error; less sensitive to outliers than `squared_error` and smoother than `absolute_error`.\n",
    "\n",
    "- **Classification**:\n",
    "  - `log_loss`: Also known as logistic loss or deviance; commonly used for binary and multiclass classification.\n",
    "  - `exponential`: Used by AdaBoost; heavily penalizes misclassified points, making it more sensitive to outliers.\n",
    "\n",
    "\n",
    "Choosing an appropriate loss function ensures the model is optimized for the specific structure and goals of the problem."
   ]
  },
  {
   "cell_type": "markdown",
   "id": "fcf3d7a2",
   "metadata": {},
   "source": [
    "### Joint Hyperparameter Optimization\n",
    "\n",
    "Since the optimal values of hyperparameters are often interdependent, they should be tuned **together** rather than in isolation to achieve the best performance.Next we will simultaneously tune multiple core hyperparameters to find the best combination for overall model performance.\n",
    "\n",
    "#### Using `BayesSearchCV` for Hyperparameter Tuning\n",
    "\n",
    "We can use `BayesSearchCV` with early stopping to **simultaneously tune multiple hyperparameters** in a more efficient and automated way."
   ]
  },
  {
   "cell_type": "code",
   "execution_count": 42,
   "id": "65054b73",
   "metadata": {},
   "outputs": [
    {
     "name": "stdout",
     "output_type": "stream",
     "text": [
      "Fitting 5 folds for each of 1 candidates, totalling 5 fits\n",
      "Fitting 5 folds for each of 1 candidates, totalling 5 fits\n",
      "Fitting 5 folds for each of 1 candidates, totalling 5 fits\n",
      "Fitting 5 folds for each of 1 candidates, totalling 5 fits\n",
      "Fitting 5 folds for each of 1 candidates, totalling 5 fits\n",
      "Fitting 5 folds for each of 1 candidates, totalling 5 fits\n",
      "Fitting 5 folds for each of 1 candidates, totalling 5 fits\n",
      "Fitting 5 folds for each of 1 candidates, totalling 5 fits\n",
      "Fitting 5 folds for each of 1 candidates, totalling 5 fits\n",
      "Fitting 5 folds for each of 1 candidates, totalling 5 fits\n",
      "Fitting 5 folds for each of 1 candidates, totalling 5 fits\n",
      "Fitting 5 folds for each of 1 candidates, totalling 5 fits\n",
      "Fitting 5 folds for each of 1 candidates, totalling 5 fits\n",
      "Fitting 5 folds for each of 1 candidates, totalling 5 fits\n",
      "Fitting 5 folds for each of 1 candidates, totalling 5 fits\n",
      "Fitting 5 folds for each of 1 candidates, totalling 5 fits\n",
      "Fitting 5 folds for each of 1 candidates, totalling 5 fits\n",
      "Fitting 5 folds for each of 1 candidates, totalling 5 fits\n",
      "Fitting 5 folds for each of 1 candidates, totalling 5 fits\n",
      "Fitting 5 folds for each of 1 candidates, totalling 5 fits\n",
      "Fitting 5 folds for each of 1 candidates, totalling 5 fits\n",
      "Fitting 5 folds for each of 1 candidates, totalling 5 fits\n",
      "Fitting 5 folds for each of 1 candidates, totalling 5 fits\n",
      "Fitting 5 folds for each of 1 candidates, totalling 5 fits\n",
      "Fitting 5 folds for each of 1 candidates, totalling 5 fits\n",
      "Fitting 5 folds for each of 1 candidates, totalling 5 fits\n",
      "Fitting 5 folds for each of 1 candidates, totalling 5 fits\n",
      "Fitting 5 folds for each of 1 candidates, totalling 5 fits\n",
      "Fitting 5 folds for each of 1 candidates, totalling 5 fits\n",
      "Fitting 5 folds for each of 1 candidates, totalling 5 fits\n",
      "Fitting 5 folds for each of 1 candidates, totalling 5 fits\n",
      "Fitting 5 folds for each of 1 candidates, totalling 5 fits\n",
      "Fitting 5 folds for each of 1 candidates, totalling 5 fits\n",
      "Fitting 5 folds for each of 1 candidates, totalling 5 fits\n",
      "Fitting 5 folds for each of 1 candidates, totalling 5 fits\n",
      "Fitting 5 folds for each of 1 candidates, totalling 5 fits\n",
      "Fitting 5 folds for each of 1 candidates, totalling 5 fits\n",
      "Fitting 5 folds for each of 1 candidates, totalling 5 fits\n",
      "Fitting 5 folds for each of 1 candidates, totalling 5 fits\n",
      "Fitting 5 folds for each of 1 candidates, totalling 5 fits\n",
      "Fitting 5 folds for each of 1 candidates, totalling 5 fits\n",
      "Fitting 5 folds for each of 1 candidates, totalling 5 fits\n",
      "Fitting 5 folds for each of 1 candidates, totalling 5 fits\n",
      "Fitting 5 folds for each of 1 candidates, totalling 5 fits\n",
      "Fitting 5 folds for each of 1 candidates, totalling 5 fits\n",
      "Fitting 5 folds for each of 1 candidates, totalling 5 fits\n",
      "Fitting 5 folds for each of 1 candidates, totalling 5 fits\n",
      "Fitting 5 folds for each of 1 candidates, totalling 5 fits\n",
      "Fitting 5 folds for each of 1 candidates, totalling 5 fits\n",
      "Fitting 5 folds for each of 1 candidates, totalling 5 fits\n",
      "Elapsed time for Bayesian optimization with early stopping: 10.00 minutes\n",
      "Best Parameters: OrderedDict({'learning_rate': 0.01, 'max_depth': 32, 'max_features': 0.6, 'min_samples_leaf': 1, 'min_samples_split': 2, 'subsample': 0.302790110221997})\n",
      "Best CV RMSE: 3142.483\n"
     ]
    }
   ],
   "source": [
    "# time the search\n",
    "start = time.time()\n",
    "# Define the search space\n",
    "search_space = {\n",
    "    'learning_rate': Real(0.01, 0.8, prior='log-uniform'),  # Prefer lower rates\n",
    "    'max_depth': Integer(4, 32),          # Shallow trees to prevent overfitting\n",
    "    'min_samples_split': Integer(2, 100), # Regularize splits\n",
    "    'min_samples_leaf': Integer(1, 30),  # Regularize leaves\n",
    "    'subsample': Real(0.1, 1.0),         # Stochastic sampling\n",
    "    'max_features': Categorical([\n",
    "        'sqrt', 'log2', None,  # String options\n",
    "        0.1, 0.2, 0.3, 0.4, 0.5, 0.6, 0.7, 0.8, 0.9  # Fractional options (discrete)\n",
    "    ])  # Feature sampling\n",
    "}\n",
    "\n",
    "# Define the model\n",
    "model_with_early_stopping = GradientBoostingRegressor(\n",
    "    n_estimators=10000,  # Start with a large number of trees\n",
    "    validation_fraction=0.1,  # Reserve 10% of training data for validation\n",
    "    n_iter_no_change=10,      # Stop after 20 rounds of no improvement\n",
    "    tol=0.001,           # Tolerance for early stopping\n",
    "    random_state=42\n",
    ")\n",
    "# Define the search\n",
    "bayes_cv  = BayesSearchCV(\n",
    "    model_with_early_stopping,\n",
    "    search_space,\n",
    "    n_iter=50,  # Number of iterations\n",
    "    scoring='neg_mean_squared_error',\n",
    "    cv=5,  # Cross-validation folds\n",
    "    n_jobs=-1,  # Use all available cores\n",
    "    verbose=1,  # Verbosity level\n",
    "    random_state=42  # For reproducibility\n",
    ")\n",
    "# Fit the model\n",
    "bayes_cv.fit(X_train_final, y_train)\n",
    "# Stop the timer\n",
    "end = time.time()\n",
    "# Calculate elapsed time\n",
    "elapsed_time = (end - start)/60  # Convert to minutes\n",
    "# Print elapsed time\n",
    "print(f\"Elapsed time for Bayesian optimization with early stopping: {elapsed_time:.2f} minutes\")\n",
    "\n",
    "# Extract the best parameters and score\n",
    "best_params = bayes_cv.best_params_\n",
    "best_score = np.sqrt(-bayes_cv.best_score_)\n",
    "\n",
    "print(f\"Best Parameters: {best_params}\")\n",
    "print(f\"Best CV RMSE: {best_score:.3f}\")"
   ]
  },
  {
   "cell_type": "code",
   "execution_count": 43,
   "id": "a7695e37",
   "metadata": {},
   "outputs": [
    {
     "data": {
      "image/png": "[encoded data removed]",
      "text/plain": [
       "<Figure size 640x480 with 1 Axes>"
      ]
     },
     "metadata": {},
     "output_type": "display_data"
    }
   ],
   "source": [
    "# Plot the optimization results\n",
    "plot_convergence(bayes_cv.optimizer_results_);"
   ]
  },
  {
   "cell_type": "code",
   "execution_count": 44,
   "id": "6c1d110e",
   "metadata": {},
   "outputs": [
    {
     "data": {
      "image/png": "[encoded data removed]",
      "text/plain": [
       "<Figure size 1200x1200 with 37 Axes>"
      ]
     },
     "metadata": {},
     "output_type": "display_data"
    }
   ],
   "source": [
    "# Plot the objective function\n",
    "plot_objective(bayes_cv.optimizer_results_[0])\n",
    "plt.title('Bayesian Optimization: Objective Function')\n",
    "plt.xlabel('Parameter Value')\n",
    "plt.ylabel('Objective Value (RMSE)')\n",
    "plt.show()\n"
   ]
  },
  {
   "cell_type": "markdown",
   "id": "b247ab70",
   "metadata": {},
   "source": [
    "#### Hyperparameter Optimization with Optuna"
   ]
  },
  {
   "cell_type": "code",
   "execution_count": 45,
   "id": "681af397",
   "metadata": {},
   "outputs": [],
   "source": [
    "def objective(trial):\n",
    "    # Define hyperparameters to optimize\n",
    "    params = {\n",
    "        'learning_rate': trial.suggest_float('learning_rate', 0.01, 0.8, log=True),\n",
    "        'max_depth': trial.suggest_int('max_depth', 4, 32),\n",
    "        'min_samples_split': trial.suggest_int('min_samples_split', 2, 100),\n",
    "        'min_samples_leaf': trial.suggest_int('min_samples_leaf', 1, 30),\n",
    "        'subsample': trial.suggest_float('subsample', 0.1, 1.0),\n",
    "        'max_features': trial.suggest_categorical(\n",
    "            'max_features', \n",
    "            ['sqrt', 'log2', None, 0.1, 0.2, 0.3, 0.4, 0.5, 0.6, 0.7, 0.8, 0.9]\n",
    "        ),\n",
    "        'n_iter_no_change': 10,  # Stop if no improvement in 50 rounds\n",
    "        'validation_fraction': 0.1,  # 10% of training data for validation\n",
    "        'tol': 0.001,  # Tolerance for early stopping\n",
    "        'n_estimators': 10000,  # Start with a large number of trees\n",
    "        'random_state': 42\n",
    "    }\n",
    "\n",
    "    # Initialize the model with the parameters, adding early stopping\n",
    "    model = GradientBoostingRegressor(\n",
    "        **params\n",
    "    )\n",
    "    model = GradientBoostingRegressor(**params)\n",
    "    # Define the evaluation procedure\n",
    "    cv = KFold(n_splits=5, shuffle=True, random_state=1)\n",
    "    # Perform cross-validation\n",
    "    scores = cross_val_score(model, X_train_final, y_train, cv=cv, scoring='neg_mean_squared_error', n_jobs=-1)\n",
    "    return np.mean(np.sqrt(-scores)) \n"
   ]
  },
  {
   "cell_type": "code",
   "execution_count": null,
   "id": "0fb4bec0",
   "metadata": {},
   "outputs": [
    {
     "name": "stderr",
     "output_type": "stream",
     "text": [
      "[I 2025-05-08 11:07:29,094] A new study created in memory with name: no-name-84a8f2a9-1577-4460-b0fa-ddf16779a99d\n",
      "[I 2025-05-08 11:07:30,013] Trial 0 finished with value: 6402.677876019744 and parameters: {'learning_rate': 0.035073388881695464, 'max_depth': 30, 'min_samples_split': 46, 'min_samples_leaf': 26, 'subsample': 0.1177589817042714, 'max_features': 0.8}. Best is trial 0 with value: 6402.677876019744.\n",
      "[I 2025-05-08 11:07:31,621] Trial 1 finished with value: 5817.716936023959 and parameters: {'learning_rate': 0.01478220034105809, 'max_depth': 10, 'min_samples_split': 36, 'min_samples_leaf': 21, 'subsample': 0.15640172328228477, 'max_features': 0.2}. Best is trial 1 with value: 5817.716936023959.\n",
      "[I 2025-05-08 11:07:33,048] Trial 2 finished with value: 4639.695965157119 and parameters: {'learning_rate': 0.03787502889529579, 'max_depth': 7, 'min_samples_split': 42, 'min_samples_leaf': 16, 'subsample': 0.4581205314481861, 'max_features': 'log2'}. Best is trial 2 with value: 4639.695965157119.\n",
      "[I 2025-05-08 11:07:33,778] Trial 3 finished with value: 3888.640108615851 and parameters: {'learning_rate': 0.18174509299300778, 'max_depth': 17, 'min_samples_split': 78, 'min_samples_leaf': 14, 'subsample': 0.5795668347371169, 'max_features': 0.1}. Best is trial 3 with value: 3888.640108615851.\n",
      "[I 2025-05-08 11:07:34,527] Trial 4 finished with value: 5637.440291328167 and parameters: {'learning_rate': 0.1380752210199847, 'max_depth': 19, 'min_samples_split': 90, 'min_samples_leaf': 28, 'subsample': 0.23325390500017087, 'max_features': 0.7}. Best is trial 3 with value: 3888.640108615851.\n",
      "[I 2025-05-08 11:08:15,193] Trial 5 finished with value: 4349.349334283657 and parameters: {'learning_rate': 0.012573622109971098, 'max_depth': 11, 'min_samples_split': 59, 'min_samples_leaf': 29, 'subsample': 0.8662915238008442, 'max_features': None}. Best is trial 3 with value: 3888.640108615851.\n",
      "[I 2025-05-08 11:08:16,690] Trial 6 finished with value: 3538.201600150815 and parameters: {'learning_rate': 0.20506627729566493, 'max_depth': 22, 'min_samples_split': 29, 'min_samples_leaf': 1, 'subsample': 0.7644887945675666, 'max_features': 0.4}. Best is trial 6 with value: 3538.201600150815.\n",
      "[I 2025-05-08 11:08:40,300] Trial 7 finished with value: 4222.0969339973235 and parameters: {'learning_rate': 0.013692887049401567, 'max_depth': 12, 'min_samples_split': 6, 'min_samples_leaf': 29, 'subsample': 0.7647042705751687, 'max_features': 0.7}. Best is trial 6 with value: 3538.201600150815.\n",
      "[I 2025-05-08 11:08:40,844] Trial 8 finished with value: 5987.876440565123 and parameters: {'learning_rate': 0.07695507379792597, 'max_depth': 4, 'min_samples_split': 47, 'min_samples_leaf': 30, 'subsample': 0.2875628082638476, 'max_features': 0.1}. Best is trial 6 with value: 3538.201600150815.\n",
      "[I 2025-05-08 11:08:41,963] Trial 9 finished with value: 5930.236597113848 and parameters: {'learning_rate': 0.03751759109605761, 'max_depth': 23, 'min_samples_split': 89, 'min_samples_leaf': 14, 'subsample': 0.12412065494979885, 'max_features': 0.4}. Best is trial 6 with value: 3538.201600150815.\n",
      "[I 2025-05-08 11:08:43,184] Trial 10 finished with value: 4249.647691193036 and parameters: {'learning_rate': 0.7095372554176897, 'max_depth': 29, 'min_samples_split': 11, 'min_samples_leaf': 2, 'subsample': 0.9605533508261285, 'max_features': 0.4}. Best is trial 6 with value: 3538.201600150815.\n",
      "[I 2025-05-08 11:08:43,792] Trial 11 finished with value: 3721.412018003831 and parameters: {'learning_rate': 0.30049152507822724, 'max_depth': 18, 'min_samples_split': 70, 'min_samples_leaf': 4, 'subsample': 0.6346922402417411, 'max_features': 0.1}. Best is trial 6 with value: 3538.201600150815.\n",
      "[I 2025-05-08 11:08:44,200] Trial 12 finished with value: 3992.3681134868325 and parameters: {'learning_rate': 0.3980500012172675, 'max_depth': 25, 'min_samples_split': 24, 'min_samples_leaf': 1, 'subsample': 0.673568941345692, 'max_features': 'sqrt'}. Best is trial 6 with value: 3538.201600150815.\n",
      "[I 2025-05-08 11:08:45,596] Trial 13 finished with value: 3745.0231375714984 and parameters: {'learning_rate': 0.2685874728814681, 'max_depth': 18, 'min_samples_split': 64, 'min_samples_leaf': 7, 'subsample': 0.46246048029745535, 'max_features': 0.6}. Best is trial 6 with value: 3538.201600150815.\n",
      "[I 2025-05-08 11:08:46,415] Trial 14 finished with value: 4496.274561417728 and parameters: {'learning_rate': 0.5835585949486959, 'max_depth': 23, 'min_samples_split': 73, 'min_samples_leaf': 7, 'subsample': 0.6950785249386102, 'max_features': 0.5}. Best is trial 6 with value: 3538.201600150815.\n",
      "[I 2025-05-08 11:08:50,798] Trial 15 finished with value: 3532.351997763184 and parameters: {'learning_rate': 0.09745878730555008, 'max_depth': 15, 'min_samples_split': 25, 'min_samples_leaf': 6, 'subsample': 0.8242687895348413, 'max_features': 0.9}. Best is trial 15 with value: 3532.351997763184.\n",
      "[I 2025-05-08 11:08:57,644] Trial 16 finished with value: 3712.683820416855 and parameters: {'learning_rate': 0.08381685480205123, 'max_depth': 14, 'min_samples_split': 24, 'min_samples_leaf': 9, 'subsample': 0.8376225281110229, 'max_features': 0.9}. Best is trial 15 with value: 3532.351997763184.\n",
      "[I 2025-05-08 11:09:08,351] Trial 17 finished with value: 3878.4225603020363 and parameters: {'learning_rate': 0.13671338236610117, 'max_depth': 26, 'min_samples_split': 25, 'min_samples_leaf': 10, 'subsample': 0.9981438257438544, 'max_features': 0.9}. Best is trial 15 with value: 3532.351997763184.\n",
      "[I 2025-05-08 11:09:12,426] Trial 18 finished with value: 3258.6536376666345 and parameters: {'learning_rate': 0.054298295833061686, 'max_depth': 15, 'min_samples_split': 32, 'min_samples_leaf': 5, 'subsample': 0.8705317335073132, 'max_features': 0.3}. Best is trial 18 with value: 3258.6536376666345.\n",
      "[I 2025-05-08 11:09:14,871] Trial 19 finished with value: 3299.8057419420575 and parameters: {'learning_rate': 0.05307237898099509, 'max_depth': 15, 'min_samples_split': 15, 'min_samples_leaf': 5, 'subsample': 0.8923755963839227, 'max_features': 0.3}. Best is trial 18 with value: 3258.6536376666345.\n",
      "[I 2025-05-08 11:09:22,909] Trial 20 finished with value: 3558.1548802314146 and parameters: {'learning_rate': 0.024374699406738868, 'max_depth': 8, 'min_samples_split': 13, 'min_samples_leaf': 11, 'subsample': 0.9312911241232275, 'max_features': 0.3}. Best is trial 18 with value: 3258.6536376666345.\n",
      "[I 2025-05-08 11:09:24,627] Trial 21 finished with value: 3344.1360986274194 and parameters: {'learning_rate': 0.05641174821037, 'max_depth': 15, 'min_samples_split': 2, 'min_samples_leaf': 5, 'subsample': 0.8413643277096872, 'max_features': 0.3}. Best is trial 18 with value: 3258.6536376666345.\n",
      "[I 2025-05-08 11:09:26,856] Trial 22 finished with value: 3346.290872146259 and parameters: {'learning_rate': 0.05576222901451701, 'max_depth': 14, 'min_samples_split': 2, 'min_samples_leaf': 4, 'subsample': 0.8899852988884344, 'max_features': 0.3}. Best is trial 18 with value: 3258.6536376666345.\n",
      "[I 2025-05-08 11:09:30,886] Trial 23 finished with value: 3682.572188125887 and parameters: {'learning_rate': 0.053636711663155555, 'max_depth': 20, 'min_samples_split': 12, 'min_samples_leaf': 18, 'subsample': 0.7533492065291382, 'max_features': 0.3}. Best is trial 18 with value: 3258.6536376666345.\n",
      "[I 2025-05-08 11:09:36,517] Trial 24 finished with value: 3324.1356706329725 and parameters: {'learning_rate': 0.023446567191311374, 'max_depth': 16, 'min_samples_split': 17, 'min_samples_leaf': 5, 'subsample': 0.8976166400827316, 'max_features': 0.3}. Best is trial 18 with value: 3258.6536376666345.\n",
      "[I 2025-05-08 11:09:48,021] Trial 25 finished with value: 3477.877832840085 and parameters: {'learning_rate': 0.02114726465183569, 'max_depth': 12, 'min_samples_split': 33, 'min_samples_leaf': 11, 'subsample': 0.925317351270135, 'max_features': 0.3}. Best is trial 18 with value: 3258.6536376666345.\n",
      "[I 2025-05-08 11:09:51,103] Trial 26 finished with value: 3543.4521345710564 and parameters: {'learning_rate': 0.022722851512216705, 'max_depth': 16, 'min_samples_split': 16, 'min_samples_leaf': 8, 'subsample': 0.4238807472210913, 'max_features': 0.3}. Best is trial 18 with value: 3258.6536376666345.\n",
      "[I 2025-05-08 11:09:54,116] Trial 27 finished with value: 3234.0013427023514 and parameters: {'learning_rate': 0.0283832867263049, 'max_depth': 21, 'min_samples_split': 18, 'min_samples_leaf': 3, 'subsample': 0.5528086908100067, 'max_features': 0.3}. Best is trial 27 with value: 3234.0013427023514.\n",
      "[I 2025-05-08 11:10:00,202] Trial 28 finished with value: 3508.54835466015 and parameters: {'learning_rate': 0.046930229833580556, 'max_depth': 27, 'min_samples_split': 38, 'min_samples_leaf': 3, 'subsample': 0.5371065252040612, 'max_features': None}. Best is trial 27 with value: 3234.0013427023514.\n",
      "[I 2025-05-08 11:10:02,298] Trial 29 finished with value: 5004.42107047821 and parameters: {'learning_rate': 0.031927515240275074, 'max_depth': 20, 'min_samples_split': 52, 'min_samples_leaf': 21, 'subsample': 0.39582140307352154, 'max_features': 'log2'}. Best is trial 27 with value: 3234.0013427023514.\n",
      "[I 2025-05-08 11:10:03,666] Trial 30 finished with value: 4324.686970916422 and parameters: {'learning_rate': 0.07372182576303132, 'max_depth': 21, 'min_samples_split': 54, 'min_samples_leaf': 12, 'subsample': 0.3360673538685467, 'max_features': 0.5}. Best is trial 27 with value: 3234.0013427023514.\n",
      "[I 2025-05-08 11:10:11,068] Trial 31 finished with value: 3484.424151386007 and parameters: {'learning_rate': 0.028420783094759556, 'max_depth': 13, 'min_samples_split': 18, 'min_samples_leaf': 5, 'subsample': 0.7793810894071969, 'max_features': 0.8}. Best is trial 27 with value: 3234.0013427023514.\n",
      "[I 2025-05-08 11:10:18,699] Trial 32 finished with value: 3291.106187349627 and parameters: {'learning_rate': 0.015581688189605165, 'max_depth': 17, 'min_samples_split': 19, 'min_samples_leaf': 3, 'subsample': 0.7003002093460347, 'max_features': 0.3}. Best is trial 27 with value: 3234.0013427023514.\n",
      "[I 2025-05-08 11:10:22,168] Trial 33 finished with value: 3325.6927625938033 and parameters: {'learning_rate': 0.01749834216320663, 'max_depth': 9, 'min_samples_split': 34, 'min_samples_leaf': 2, 'subsample': 0.5707418196808265, 'max_features': 0.2}. Best is trial 27 with value: 3234.0013427023514.\n",
      "[I 2025-05-08 11:10:27,550] Trial 34 finished with value: 3243.0601177315375 and parameters: {'learning_rate': 0.01860910283944705, 'max_depth': 32, 'min_samples_split': 40, 'min_samples_leaf': 3, 'subsample': 0.519199766539664, 'max_features': 0.3}. Best is trial 27 with value: 3234.0013427023514.\n",
      "[I 2025-05-08 11:10:36,064] Trial 35 finished with value: 3258.8499173154833 and parameters: {'learning_rate': 0.010243612859981979, 'max_depth': 30, 'min_samples_split': 43, 'min_samples_leaf': 1, 'subsample': 0.623847104984506, 'max_features': 0.3}. Best is trial 27 with value: 3234.0013427023514.\n",
      "[I 2025-05-08 11:10:40,944] Trial 36 finished with value: 4733.54257152398 and parameters: {'learning_rate': 0.010552375239783827, 'max_depth': 31, 'min_samples_split': 44, 'min_samples_leaf': 24, 'subsample': 0.4832981433471137, 'max_features': 'sqrt'}. Best is trial 27 with value: 3234.0013427023514.\n",
      "[I 2025-05-08 11:10:55,316] Trial 37 finished with value: 3330.1658474531714 and parameters: {'learning_rate': 0.011303182659432521, 'max_depth': 32, 'min_samples_split': 40, 'min_samples_leaf': 1, 'subsample': 0.6192904496322136, 'max_features': 0.6}. Best is trial 27 with value: 3234.0013427023514.\n",
      "[I 2025-05-08 11:11:08,984] Trial 38 finished with value: 3657.4081420035955 and parameters: {'learning_rate': 0.01817928172328691, 'max_depth': 29, 'min_samples_split': 47, 'min_samples_leaf': 8, 'subsample': 0.5215847207874392, 'max_features': 0.8}. Best is trial 27 with value: 3234.0013427023514.\n",
      "[I 2025-05-08 11:11:11,528] Trial 39 finished with value: 3246.3324692045935 and parameters: {'learning_rate': 0.03864849232157439, 'max_depth': 28, 'min_samples_split': 58, 'min_samples_leaf': 2, 'subsample': 0.600994007175315, 'max_features': 0.2}. Best is trial 27 with value: 3234.0013427023514.\n",
      "[I 2025-05-08 11:11:14,072] Trial 40 finished with value: 3223.908916424979 and parameters: {'learning_rate': 0.04161574178039716, 'max_depth': 27, 'min_samples_split': 61, 'min_samples_leaf': 3, 'subsample': 0.38840542153155744, 'max_features': 0.2}. Best is trial 40 with value: 3223.908916424979.\n",
      "[I 2025-05-08 11:11:16,764] Trial 41 finished with value: 3262.2664150628366 and parameters: {'learning_rate': 0.040900390028730825, 'max_depth': 28, 'min_samples_split': 57, 'min_samples_leaf': 3, 'subsample': 0.39000153769914736, 'max_features': 0.2}. Best is trial 40 with value: 3223.908916424979.\n",
      "[I 2025-05-08 11:11:18,027] Trial 42 finished with value: 3536.1048831110393 and parameters: {'learning_rate': 0.0373869523765574, 'max_depth': 25, 'min_samples_split': 63, 'min_samples_leaf': 3, 'subsample': 0.22414441067489127, 'max_features': 0.2}. Best is trial 40 with value: 3223.908916424979.\n",
      "[I 2025-05-08 11:11:20,006] Trial 43 finished with value: 3725.757422297686 and parameters: {'learning_rate': 0.028313793871723975, 'max_depth': 31, 'min_samples_split': 79, 'min_samples_leaf': 6, 'subsample': 0.33977679725241394, 'max_features': 0.2}. Best is trial 40 with value: 3223.908916424979.\n",
      "[I 2025-05-08 11:11:21,612] Trial 44 finished with value: 3401.5545066433783 and parameters: {'learning_rate': 0.06669527321370879, 'max_depth': 24, 'min_samples_split': 48, 'min_samples_leaf': 4, 'subsample': 0.48718984715872016, 'max_features': 0.2}. Best is trial 40 with value: 3223.908916424979.\n",
      "[I 2025-05-08 11:11:25,264] Trial 45 finished with value: 3635.4930797564184 and parameters: {'learning_rate': 0.0961058290284304, 'max_depth': 27, 'min_samples_split': 30, 'min_samples_leaf': 7, 'subsample': 0.5935867492892174, 'max_features': 0.7}. Best is trial 40 with value: 3223.908916424979.\n",
      "[I 2025-05-08 11:11:26,855] Trial 46 finished with value: 3297.8485341280875 and parameters: {'learning_rate': 0.04204785692165129, 'max_depth': 32, 'min_samples_split': 61, 'min_samples_leaf': 2, 'subsample': 0.5167714519960092, 'max_features': 'log2'}. Best is trial 40 with value: 3223.908916424979.\n",
      "[I 2025-05-08 11:11:28,066] Trial 47 finished with value: 3484.8710748592084 and parameters: {'learning_rate': 0.031490405131204394, 'max_depth': 29, 'min_samples_split': 68, 'min_samples_leaf': 1, 'subsample': 0.20255680688589325, 'max_features': 0.2}. Best is trial 40 with value: 3223.908916424979.\n",
      "[I 2025-05-08 11:11:29,916] Trial 48 finished with value: 5067.6932650619365 and parameters: {'learning_rate': 0.13316769809796983, 'max_depth': 22, 'min_samples_split': 81, 'min_samples_leaf': 18, 'subsample': 0.31148972269250275, 'max_features': None}. Best is trial 40 with value: 3223.908916424979.\n",
      "[I 2025-05-08 11:11:33,570] Trial 49 finished with value: 3519.5312534022605 and parameters: {'learning_rate': 0.020121256369718885, 'max_depth': 27, 'min_samples_split': 37, 'min_samples_leaf': 6, 'subsample': 0.43073583851342867, 'max_features': 0.1}. Best is trial 40 with value: 3223.908916424979.\n",
      "[I 2025-05-08 11:11:38,292] Trial 50 finished with value: 4947.269431523515 and parameters: {'learning_rate': 0.01401704983937264, 'max_depth': 30, 'min_samples_split': 56, 'min_samples_leaf': 13, 'subsample': 0.2680374684875922, 'max_features': 0.4}. Best is trial 40 with value: 3223.908916424979.\n",
      "[I 2025-05-08 11:11:42,794] Trial 51 finished with value: 3223.184387572671 and parameters: {'learning_rate': 0.026412005607226167, 'max_depth': 30, 'min_samples_split': 42, 'min_samples_leaf': 2, 'subsample': 0.65936728502067, 'max_features': 0.3}. Best is trial 51 with value: 3223.184387572671.\n",
      "[I 2025-05-08 11:11:47,351] Trial 52 finished with value: 3215.28175313329 and parameters: {'learning_rate': 0.026909377347601734, 'max_depth': 31, 'min_samples_split': 30, 'min_samples_leaf': 2, 'subsample': 0.6638539074973421, 'max_features': 0.3}. Best is trial 52 with value: 3215.28175313329.\n",
      "[I 2025-05-08 11:11:51,995] Trial 53 finished with value: 3251.8248895524334 and parameters: {'learning_rate': 0.029697182156018534, 'max_depth': 31, 'min_samples_split': 51, 'min_samples_leaf': 2, 'subsample': 0.6712307703997793, 'max_features': 0.2}. Best is trial 52 with value: 3215.28175313329.\n",
      "[I 2025-05-08 11:12:03,513] Trial 54 finished with value: 3397.6799413335893 and parameters: {'learning_rate': 0.01643638758357564, 'max_depth': 28, 'min_samples_split': 67, 'min_samples_leaf': 3, 'subsample': 0.5673934972094804, 'max_features': 0.7}. Best is trial 52 with value: 3215.28175313329.\n",
      "[I 2025-05-08 11:12:10,304] Trial 55 finished with value: 3260.8279178294406 and parameters: {'learning_rate': 0.026362863130942972, 'max_depth': 30, 'min_samples_split': 27, 'min_samples_leaf': 4, 'subsample': 0.7153814770338778, 'max_features': 0.3}. Best is trial 52 with value: 3215.28175313329.\n",
      "[I 2025-05-08 11:12:12,294] Trial 56 finished with value: 3192.9791005502093 and parameters: {'learning_rate': 0.03446122898299111, 'max_depth': 25, 'min_samples_split': 22, 'min_samples_leaf': 1, 'subsample': 0.6677588032576087, 'max_features': 'sqrt'}. Best is trial 56 with value: 3192.9791005502093.\n",
      "[I 2025-05-08 11:12:13,927] Trial 57 finished with value: 3269.998258903558 and parameters: {'learning_rate': 0.033447603873263364, 'max_depth': 26, 'min_samples_split': 21, 'min_samples_leaf': 1, 'subsample': 0.669383626299888, 'max_features': 'sqrt'}. Best is trial 56 with value: 3192.9791005502093.\n",
      "[I 2025-05-08 11:12:17,716] Trial 58 finished with value: 3457.122430183835 and parameters: {'learning_rate': 0.019680446694802907, 'max_depth': 24, 'min_samples_split': 8, 'min_samples_leaf': 8, 'subsample': 0.6399247722507589, 'max_features': 'sqrt'}. Best is trial 56 with value: 3192.9791005502093.\n",
      "[I 2025-05-08 11:12:20,307] Trial 59 finished with value: 3247.949537776105 and parameters: {'learning_rate': 0.04792784341369982, 'max_depth': 32, 'min_samples_split': 29, 'min_samples_leaf': 4, 'subsample': 0.7314524099096733, 'max_features': 'sqrt'}. Best is trial 56 with value: 3192.9791005502093.\n",
      "[I 2025-05-08 11:12:51,502] Trial 60 finished with value: 4050.280737550346 and parameters: {'learning_rate': 0.013362536181651579, 'max_depth': 25, 'min_samples_split': 21, 'min_samples_leaf': 26, 'subsample': 0.7856311694762674, 'max_features': 0.6}. Best is trial 56 with value: 3192.9791005502093.\n",
      "[I 2025-05-08 11:12:56,091] Trial 61 finished with value: 3249.9684847878243 and parameters: {'learning_rate': 0.025286437646103447, 'max_depth': 28, 'min_samples_split': 35, 'min_samples_leaf': 2, 'subsample': 0.5916004227404528, 'max_features': 0.3}. Best is trial 56 with value: 3192.9791005502093.\n",
      "[I 2025-05-08 11:13:01,774] Trial 62 finished with value: 3328.4822044271473 and parameters: {'learning_rate': 0.037252636958638265, 'max_depth': 29, 'min_samples_split': 60, 'min_samples_leaf': 2, 'subsample': 0.5509938512062063, 'max_features': 0.5}. Best is trial 56 with value: 3192.9791005502093.\n",
      "[I 2025-05-08 11:13:12,800] Trial 63 finished with value: 3490.4301182885783 and parameters: {'learning_rate': 0.04480753984980458, 'max_depth': 26, 'min_samples_split': 40, 'min_samples_leaf': 6, 'subsample': 0.6501238052668078, 'max_features': 0.9}. Best is trial 56 with value: 3192.9791005502093.\n",
      "[I 2025-05-08 11:13:15,262] Trial 64 finished with value: 3540.8369062274187 and parameters: {'learning_rate': 0.0651918522339886, 'max_depth': 5, 'min_samples_split': 50, 'min_samples_leaf': 1, 'subsample': 0.6047519410402453, 'max_features': 0.3}. Best is trial 56 with value: 3192.9791005502093.\n",
      "[I 2025-05-08 11:13:20,471] Trial 65 finished with value: 3294.353628295925 and parameters: {'learning_rate': 0.02196859905859851, 'max_depth': 23, 'min_samples_split': 98, 'min_samples_leaf': 3, 'subsample': 0.5103851076291236, 'max_features': 0.3}. Best is trial 56 with value: 3192.9791005502093.\n",
      "[I 2025-05-08 11:13:29,893] Trial 66 finished with value: 3326.4094166662317 and parameters: {'learning_rate': 0.03527083345645445, 'max_depth': 31, 'min_samples_split': 23, 'min_samples_leaf': 4, 'subsample': 0.687510121444283, 'max_features': 0.4}. Best is trial 56 with value: 3192.9791005502093.\n",
      "[I 2025-05-08 11:13:44,533] Trial 67 finished with value: 3548.591414006273 and parameters: {'learning_rate': 0.026050250772540858, 'max_depth': 29, 'min_samples_split': 74, 'min_samples_leaf': 16, 'subsample': 0.8079428723552805, 'max_features': 0.3}. Best is trial 56 with value: 3192.9791005502093.\n",
      "[I 2025-05-08 11:13:51,439] Trial 68 finished with value: 3228.1005724210245 and parameters: {'learning_rate': 0.018440524791042332, 'max_depth': 28, 'min_samples_split': 45, 'min_samples_leaf': 5, 'subsample': 0.7401907036295743, 'max_features': 0.1}. Best is trial 56 with value: 3192.9791005502093.\n",
      "[I 2025-05-08 11:13:58,247] Trial 69 finished with value: 3264.495066558836 and parameters: {'learning_rate': 0.015627930519455754, 'max_depth': 19, 'min_samples_split': 31, 'min_samples_leaf': 5, 'subsample': 0.6551335248065494, 'max_features': 0.1}. Best is trial 56 with value: 3192.9791005502093.\n"
     ]
    },
    {
     "name": "stdout",
     "output_type": "stream",
     "text": [
      "Elapsed time for Optuna optimization: 6.49 minutes\n",
      "Best Parameters: {'learning_rate': 0.03446122898299111, 'max_depth': 25, 'min_samples_split': 22, 'min_samples_leaf': 1, 'subsample': 0.6677588032576087, 'max_features': 'sqrt'}\n",
      "Best CV RMSE: 3192.979\n"
     ]
    }
   ],
   "source": [
    "\n",
    "start = time.time()\n",
    "# Create a study object\n",
    "study = optuna.create_study(direction=\"minimize\")\n",
    "study.optimize(objective, n_trials=70, timeout=600)  # 50 trials or 10 min\n",
    "# Stop the timer\n",
    "end = time.time()\n",
    "# Calculate elapsed time\n",
    "elapsed_time = (end - start)/60  # Convert to minutes\n",
    "print(f\"Elapsed time for Optuna optimization: {elapsed_time:.2f} minutes\")\n",
    "# Extract the best parameters and score\n",
    "best_params_optuna = study.best_params\n",
    "best_score_optuna = study.best_value\n",
    "print(f\"Best Parameters: {best_params_optuna}\")\n",
    "print(f\"Best CV RMSE: {best_score_optuna:.3f}\")"
   ]
  },
  {
   "cell_type": "code",
   "execution_count": 47,
   "id": "e9ad2bb2",
   "metadata": {},
   "outputs": [
    {
     "data": {
      "application/vnd.plotly.v1+json": {
       "config": {
        "plotlyServerURL": "https://plot.ly"
       },
       "data": [
        {
         "mode": "markers",
         "name": "Objective Value",
         "type": "scatter",
         "x": [
          0,
          1,
          2,
          3,
          4,
          5,
          6,
          7,
          8,
          9,
          10,
          11,
          12,
          13,
          14,
          15,
          16,
          17,
          18,
          19,
          20,
          21,
          22,
          23,
          24,
          25,
          26,
          27,
          28,
          29,
          30,
          31,
          32,
          33,
          34,
          35,
          36,
          37,
          38,
          39,
          40,
          41,
          42,
          43,
          44,
          45,
          46,
          47,
          48,
          49,
          50,
          51,
          52,
          53,
          54,
          55,
          56,
          57,
          58,
          59,
          60,
          61,
          62,
          63,
          64,
          65,
          66,
          67,
          68,
          69
         ],
         "y": [
          6402.677876019744,
          5817.716936023959,
          4639.695965157119,
          3888.640108615851,
          5637.440291328167,
          4349.349334283657,
          3538.201600150815,
          4222.0969339973235,
          5987.876440565123,
          5930.236597113848,
          4249.647691193036,
          3721.412018003831,
          3992.3681134868325,
          3745.0231375714984,
          4496.274561417728,
          3532.351997763184,
          3712.683820416855,
          3878.4225603020363,
          3258.6536376666345,
          3299.8057419420575,
          3558.1548802314146,
          3344.1360986274194,
          3346.290872146259,
          3682.572188125887,
          3324.1356706329725,
          3477.877832840085,
          3543.4521345710564,
          3234.0013427023514,
          3508.54835466015,
          5004.42107047821,
          4324.686970916422,
          3484.424151386007,
          3291.106187349627,
          3325.6927625938033,
          3243.0601177315375,
          3258.8499173154833,
          4733.54257152398,
          3330.1658474531714,
          3657.4081420035955,
          3246.3324692045935,
          3223.908916424979,
          3262.2664150628366,
          3536.1048831110393,
          3725.757422297686,
          3401.5545066433783,
          3635.4930797564184,
          3297.8485341280875,
          3484.8710748592084,
          5067.6932650619365,
          3519.5312534022605,
          4947.269431523515,
          3223.184387572671,
          3215.28175313329,
          3251.8248895524334,
          3397.6799413335893,
          3260.8279178294406,
          3192.9791005502093,
          3269.998258903558,
          3457.122430183835,
          3247.949537776105,
          4050.280737550346,
          3249.9684847878243,
          3328.4822044271473,
          3490.4301182885783,
          3540.8369062274187,
          3294.353628295925,
          3326.4094166662317,
          3548.591414006273,
          3228.1005724210245,
          3264.495066558836
         ]
        },
        {
         "mode": "lines",
         "name": "Best Value",
         "type": "scatter",
         "x": [
          0,
          1,
          2,
          3,
          4,
          5,
          6,
          7,
          8,
          9,
          10,
          11,
          12,
          13,
          14,
          15,
          16,
          17,
          18,
          19,
          20,
          21,
          22,
          23,
          24,
          25,
          26,
          27,
          28,
          29,
          30,
          31,
          32,
          33,
          34,
          35,
          36,
          37,
          38,
          39,
          40,
          41,
          42,
          43,
          44,
          45,
          46,
          47,
          48,
          49,
          50,
          51,
          52,
          53,
          54,
          55,
          56,
          57,
          58,
          59,
          60,
          61,
          62,
          63,
          64,
          65,
          66,
          67,
          68,
          69
         ],
         "y": [
          6402.677876019744,
          5817.716936023959,
          4639.695965157119,
          3888.640108615851,
          3888.640108615851,
          3888.640108615851,
          3538.201600150815,
          3538.201600150815,
          3538.201600150815,
          3538.201600150815,
          3538.201600150815,
          3538.201600150815,
          3538.201600150815,
          3538.201600150815,
          3538.201600150815,
          3532.351997763184,
          3532.351997763184,
          3532.351997763184,
          3258.6536376666345,
          3258.6536376666345,
          3258.6536376666345,
          3258.6536376666345,
          3258.6536376666345,
          3258.6536376666345,
          3258.6536376666345,
          3258.6536376666345,
          3258.6536376666345,
          3234.0013427023514,
          3234.0013427023514,
          3234.0013427023514,
          3234.0013427023514,
          3234.0013427023514,
          3234.0013427023514,
          3234.0013427023514,
          3234.0013427023514,
          3234.0013427023514,
          3234.0013427023514,
          3234.0013427023514,
          3234.0013427023514,
          3234.0013427023514,
          3223.908916424979,
          3223.908916424979,
          3223.908916424979,
          3223.908916424979,
          3223.908916424979,
          3223.908916424979,
          3223.908916424979,
          3223.908916424979,
          3223.908916424979,
          3223.908916424979,
          3223.908916424979,
          3223.184387572671,
          3215.28175313329,
          3215.28175313329,
          3215.28175313329,
          3215.28175313329,
          3192.9791005502093,
          3192.9791005502093,
          3192.9791005502093,
          3192.9791005502093,
          3192.9791005502093,
          3192.9791005502093,
          3192.9791005502093,
          3192.9791005502093,
          3192.9791005502093,
          3192.9791005502093,
          3192.9791005502093,
          3192.9791005502093,
          3192.9791005502093,
          3192.9791005502093
         ]
        },
        {
         "marker": {
          "color": "#cccccc"
         },
         "mode": "markers",
         "name": "Infeasible Trial",
         "showlegend": false,
         "type": "scatter",
         "x": [],
         "y": []
        }
       ],
       "layout": {
        "template": {
         "data": {
          "bar": [
           {
            "error_x": {
             "color": "#2a3f5f"
            },
            "error_y": {
             "color": "#2a3f5f"
            },
            "marker": {
             "line": {
              "color": "#E5ECF6",
              "width": 0.5
             },
             "pattern": {
              "fillmode": "overlay",
              "size": 10,
              "solidity": 0.2
             }
            },
            "type": "bar"
           }
          ],
          "barpolar": [
           {
            "marker": {
             "line": {
              "color": "#E5ECF6",
              "width": 0.5
             },
             "pattern": {
              "fillmode": "overlay",
              "size": 10,
              "solidity": 0.2
             }
            },
            "type": "barpolar"
           }
          ],
          "carpet": [
           {
            "aaxis": {
             "endlinecolor": "#2a3f5f",
             "gridcolor": "white",
             "linecolor": "white",
             "minorgridcolor": "white",
             "startlinecolor": "#2a3f5f"
            },
            "baxis": {
             "endlinecolor": "#2a3f5f",
             "gridcolor": "white",
             "linecolor": "white",
             "minorgridcolor": "white",
             "startlinecolor": "#2a3f5f"
            },
            "type": "carpet"
           }
          ],
          "choropleth": [
           {
            "colorbar": {
             "outlinewidth": 0,
             "ticks": ""
            },
            "type": "choropleth"
           }
          ],
          "contour": [
           {
            "colorbar": {
             "outlinewidth": 0,
             "ticks": ""
            },
            "colorscale": [
             [
              0,
              "#0d0887"
             ],
             [
              0.1111111111111111,
              "#46039f"
             ],
             [
              0.2222222222222222,
              "#7201a8"
             ],
             [
              0.3333333333333333,
              "#9c179e"
             ],
             [
              0.4444444444444444,
              "#bd3786"
             ],
             [
              0.5555555555555556,
              "#d8576b"
             ],
             [
              0.6666666666666666,
              "#ed7953"
             ],
             [
              0.7777777777777778,
              "#fb9f3a"
             ],
             [
              0.8888888888888888,
              "#fdca26"
             ],
             [
              1,
              "#f0f921"
             ]
            ],
            "type": "contour"
           }
          ],
          "contourcarpet": [
           {
            "colorbar": {
             "outlinewidth": 0,
             "ticks": ""
            },
            "type": "contourcarpet"
           }
          ],
          "heatmap": [
           {
            "colorbar": {
             "outlinewidth": 0,
             "ticks": ""
            },
            "colorscale": [
             [
              0,
              "#0d0887"
             ],
             [
              0.1111111111111111,
              "#46039f"
             ],
             [
              0.2222222222222222,
              "#7201a8"
             ],
             [
              0.3333333333333333,
              "#9c179e"
             ],
             [
              0.4444444444444444,
              "#bd3786"
             ],
             [
              0.5555555555555556,
              "#d8576b"
             ],
             [
              0.6666666666666666,
              "#ed7953"
             ],
             [
              0.7777777777777778,
              "#fb9f3a"
             ],
             [
              0.8888888888888888,
              "#fdca26"
             ],
             [
              1,
              "#f0f921"
             ]
            ],
            "type": "heatmap"
           }
          ],
          "heatmapgl": [
           {
            "colorbar": {
             "outlinewidth": 0,
             "ticks": ""
            },
            "colorscale": [
             [
              0,
              "#0d0887"
             ],
             [
              0.1111111111111111,
              "#46039f"
             ],
             [
              0.2222222222222222,
              "#7201a8"
             ],
             [
              0.3333333333333333,
              "#9c179e"
             ],
             [
              0.4444444444444444,
              "#bd3786"
             ],
             [
              0.5555555555555556,
              "#d8576b"
             ],
             [
              0.6666666666666666,
              "#ed7953"
             ],
             [
              0.7777777777777778,
              "#fb9f3a"
             ],
             [
              0.8888888888888888,
              "#fdca26"
             ],
             [
              1,
              "#f0f921"
             ]
            ],
            "type": "heatmapgl"
           }
          ],
          "histogram": [
           {
            "marker": {
             "pattern": {
              "fillmode": "overlay",
              "size": 10,
              "solidity": 0.2
             }
            },
            "type": "histogram"
           }
          ],
          "histogram2d": [
           {
            "colorbar": {
             "outlinewidth": 0,
             "ticks": ""
            },
            "colorscale": [
             [
              0,
              "#0d0887"
             ],
             [
              0.1111111111111111,
              "#46039f"
             ],
             [
              0.2222222222222222,
              "#7201a8"
             ],
             [
              0.3333333333333333,
              "#9c179e"
             ],
             [
              0.4444444444444444,
              "#bd3786"
             ],
             [
              0.5555555555555556,
              "#d8576b"
             ],
             [
              0.6666666666666666,
              "#ed7953"
             ],
             [
              0.7777777777777778,
              "#fb9f3a"
             ],
             [
              0.8888888888888888,
              "#fdca26"
             ],
             [
              1,
              "#f0f921"
             ]
            ],
            "type": "histogram2d"
           }
          ],
          "histogram2dcontour": [
           {
            "colorbar": {
             "outlinewidth": 0,
             "ticks": ""
            },
            "colorscale": [
             [
              0,
              "#0d0887"
             ],
             [
              0.1111111111111111,
              "#46039f"
             ],
             [
              0.2222222222222222,
              "#7201a8"
             ],
             [
              0.3333333333333333,
              "#9c179e"
             ],
             [
              0.4444444444444444,
              "#bd3786"
             ],
             [
              0.5555555555555556,
              "#d8576b"
             ],
             [
              0.6666666666666666,
              "#ed7953"
             ],
             [
              0.7777777777777778,
              "#fb9f3a"
             ],
             [
              0.8888888888888888,
              "#fdca26"
             ],
             [
              1,
              "#f0f921"
             ]
            ],
            "type": "histogram2dcontour"
           }
          ],
          "mesh3d": [
           {
            "colorbar": {
             "outlinewidth": 0,
             "ticks": ""
            },
            "type": "mesh3d"
           }
          ],
          "parcoords": [
           {
            "line": {
             "colorbar": {
              "outlinewidth": 0,
              "ticks": ""
             }
            },
            "type": "parcoords"
           }
          ],
          "pie": [
           {
            "automargin": true,
            "type": "pie"
           }
          ],
          "scatter": [
           {
            "fillpattern": {
             "fillmode": "overlay",
             "size": 10,
             "solidity": 0.2
            },
            "type": "scatter"
           }
          ],
          "scatter3d": [
           {
            "line": {
             "colorbar": {
              "outlinewidth": 0,
              "ticks": ""
             }
            },
            "marker": {
             "colorbar": {
              "outlinewidth": 0,
              "ticks": ""
             }
            },
            "type": "scatter3d"
           }
          ],
          "scattercarpet": [
           {
            "marker": {
             "colorbar": {
              "outlinewidth": 0,
              "ticks": ""
             }
            },
            "type": "scattercarpet"
           }
          ],
          "scattergeo": [
           {
            "marker": {
             "colorbar": {
              "outlinewidth": 0,
              "ticks": ""
             }
            },
            "type": "scattergeo"
           }
          ],
          "scattergl": [
           {
            "marker": {
             "colorbar": {
              "outlinewidth": 0,
              "ticks": ""
             }
            },
            "type": "scattergl"
           }
          ],
          "scattermapbox": [
           {
            "marker": {
             "colorbar": {
              "outlinewidth": 0,
              "ticks": ""
             }
            },
            "type": "scattermapbox"
           }
          ],
          "scatterpolar": [
           {
            "marker": {
             "colorbar": {
              "outlinewidth": 0,
              "ticks": ""
             }
            },
            "type": "scatterpolar"
           }
          ],
          "scatterpolargl": [
           {
            "marker": {
             "colorbar": {
              "outlinewidth": 0,
              "ticks": ""
             }
            },
            "type": "scatterpolargl"
           }
          ],
          "scatterternary": [
           {
            "marker": {
             "colorbar": {
              "outlinewidth": 0,
              "ticks": ""
             }
            },
            "type": "scatterternary"
           }
          ],
          "surface": [
           {
            "colorbar": {
             "outlinewidth": 0,
             "ticks": ""
            },
            "colorscale": [
             [
              0,
              "#0d0887"
             ],
             [
              0.1111111111111111,
              "#46039f"
             ],
             [
              0.2222222222222222,
              "#7201a8"
             ],
             [
              0.3333333333333333,
              "#9c179e"
             ],
             [
              0.4444444444444444,
              "#bd3786"
             ],
             [
              0.5555555555555556,
              "#d8576b"
             ],
             [
              0.6666666666666666,
              "#ed7953"
             ],
             [
              0.7777777777777778,
              "#fb9f3a"
             ],
             [
              0.8888888888888888,
              "#fdca26"
             ],
             [
              1,
              "#f0f921"
             ]
            ],
            "type": "surface"
           }
          ],
          "table": [
           {
            "cells": {
             "fill": {
              "color": "#EBF0F8"
             },
             "line": {
              "color": "white"
             }
            },
            "header": {
             "fill": {
              "color": "#C8D4E3"
             },
             "line": {
              "color": "white"
             }
            },
            "type": "table"
           }
          ]
         },
         "layout": {
          "annotationdefaults": {
           "arrowcolor": "#2a3f5f",
           "arrowhead": 0,
           "arrowwidth": 1
          },
          "autotypenumbers": "strict",
          "coloraxis": {
           "colorbar": {
            "outlinewidth": 0,
            "ticks": ""
           }
          },
          "colorscale": {
           "diverging": [
            [
             0,
             "#8e0152"
            ],
            [
             0.1,
             "#c51b7d"
            ],
            [
             0.2,
             "#de77ae"
            ],
            [
             0.3,
             "#f1b6da"
            ],
            [
             0.4,
             "#fde0ef"
            ],
            [
             0.5,
             "#f7f7f7"
            ],
            [
             0.6,
             "#e6f5d0"
            ],
            [
             0.7,
             "#b8e186"
            ],
            [
             0.8,
             "#7fbc41"
            ],
            [
             0.9,
             "#4d9221"
            ],
            [
             1,
             "#276419"
            ]
           ],
           "sequential": [
            [
             0,
             "#0d0887"
            ],
            [
             0.1111111111111111,
             "#46039f"
            ],
            [
             0.2222222222222222,
             "#7201a8"
            ],
            [
             0.3333333333333333,
             "#9c179e"
            ],
            [
             0.4444444444444444,
             "#bd3786"
            ],
            [
             0.5555555555555556,
             "#d8576b"
            ],
            [
             0.6666666666666666,
             "#ed7953"
            ],
            [
             0.7777777777777778,
             "#fb9f3a"
            ],
            [
             0.8888888888888888,
             "#fdca26"
            ],
            [
             1,
             "#f0f921"
            ]
           ],
           "sequentialminus": [
            [
             0,
             "#0d0887"
            ],
            [
             0.1111111111111111,
             "#46039f"
            ],
            [
             0.2222222222222222,
             "#7201a8"
            ],
            [
             0.3333333333333333,
             "#9c179e"
            ],
            [
             0.4444444444444444,
             "#bd3786"
            ],
            [
             0.5555555555555556,
             "#d8576b"
            ],
            [
             0.6666666666666666,
             "#ed7953"
            ],
            [
             0.7777777777777778,
             "#fb9f3a"
            ],
            [
             0.8888888888888888,
             "#fdca26"
            ],
            [
             1,
             "#f0f921"
            ]
           ]
          },
          "colorway": [
           "#636efa",
           "#EF553B",
           "#00cc96",
           "#ab63fa",
           "#FFA15A",
           "#19d3f3",
           "#FF6692",
           "#B6E880",
           "#FF97FF",
           "#FECB52"
          ],
          "font": {
           "color": "#2a3f5f"
          },
          "geo": {
           "bgcolor": "white",
           "lakecolor": "white",
           "landcolor": "#E5ECF6",
           "showlakes": true,
           "showland": true,
           "subunitcolor": "white"
          },
          "hoverlabel": {
           "align": "left"
          },
          "hovermode": "closest",
          "mapbox": {
           "style": "light"
          },
          "paper_bgcolor": "white",
          "plot_bgcolor": "#E5ECF6",
          "polar": {
           "angularaxis": {
            "gridcolor": "white",
            "linecolor": "white",
            "ticks": ""
           },
           "bgcolor": "#E5ECF6",
           "radialaxis": {
            "gridcolor": "white",
            "linecolor": "white",
            "ticks": ""
           }
          },
          "scene": {
           "xaxis": {
            "backgroundcolor": "#E5ECF6",
            "gridcolor": "white",
            "gridwidth": 2,
            "linecolor": "white",
            "showbackground": true,
            "ticks": "",
            "zerolinecolor": "white"
           },
           "yaxis": {
            "backgroundcolor": "#E5ECF6",
            "gridcolor": "white",
            "gridwidth": 2,
            "linecolor": "white",
            "showbackground": true,
            "ticks": "",
            "zerolinecolor": "white"
           },
           "zaxis": {
            "backgroundcolor": "#E5ECF6",
            "gridcolor": "white",
            "gridwidth": 2,
            "linecolor": "white",
            "showbackground": true,
            "ticks": "",
            "zerolinecolor": "white"
           }
          },
          "shapedefaults": {
           "line": {
            "color": "#2a3f5f"
           }
          },
          "ternary": {
           "aaxis": {
            "gridcolor": "white",
            "linecolor": "white",
            "ticks": ""
           },
           "baxis": {
            "gridcolor": "white",
            "linecolor": "white",
            "ticks": ""
           },
           "bgcolor": "#E5ECF6",
           "caxis": {
            "gridcolor": "white",
            "linecolor": "white",
            "ticks": ""
           }
          },
          "title": {
           "x": 0.05
          },
          "xaxis": {
           "automargin": true,
           "gridcolor": "white",
           "linecolor": "white",
           "ticks": "",
           "title": {
            "standoff": 15
           },
           "zerolinecolor": "white",
           "zerolinewidth": 2
          },
          "yaxis": {
           "automargin": true,
           "gridcolor": "white",
           "linecolor": "white",
           "ticks": "",
           "title": {
            "standoff": 15
           },
           "zerolinecolor": "white",
           "zerolinewidth": 2
          }
         }
        },
        "title": {
         "text": "Optimization History Plot"
        },
        "xaxis": {
         "title": {
          "text": "Trial"
         }
        },
        "yaxis": {
         "title": {
          "text": "Objective Value"
         }
        }
       }
      }
     },
     "metadata": {},
     "output_type": "display_data"
    }
   ],
   "source": [
    "optuna.visualization.plot_optimization_history(study).show()"
   ]
  },
  {
   "cell_type": "code",
   "execution_count": 48,
   "id": "567e894a",
   "metadata": {},
   "outputs": [
    {
     "data": {
      "application/vnd.plotly.v1+json": {
       "config": {
        "plotlyServerURL": "https://plot.ly"
       },
       "data": [
        {
         "cliponaxis": false,
         "hovertemplate": [
          "max_depth (IntDistribution): 0.008502482618012864<extra></extra>",
          "min_samples_split (IntDistribution): 0.010759891897991609<extra></extra>",
          "learning_rate (FloatDistribution): 0.029680574238733392<extra></extra>",
          "max_features (CategoricalDistribution): 0.03589801608603993<extra></extra>",
          "min_samples_leaf (IntDistribution): 0.32655166319099466<extra></extra>",
          "subsample (FloatDistribution): 0.5886073719682275<extra></extra>"
         ],
         "name": "Objective Value",
         "orientation": "h",
         "text": [
          "<0.01",
          "0.01",
          "0.03",
          "0.04",
          "0.33",
          "0.59"
         ],
         "textposition": "outside",
         "type": "bar",
         "x": [
          0.008502482618012864,
          0.010759891897991609,
          0.029680574238733392,
          0.03589801608603993,
          0.32655166319099466,
          0.5886073719682275
         ],
         "y": [
          "max_depth",
          "min_samples_split",
          "learning_rate",
          "max_features",
          "min_samples_leaf",
          "subsample"
         ]
        }
       ],
       "layout": {
        "template": {
         "data": {
          "bar": [
           {
            "error_x": {
             "color": "#2a3f5f"
            },
            "error_y": {
             "color": "#2a3f5f"
            },
            "marker": {
             "line": {
              "color": "#E5ECF6",
              "width": 0.5
             },
             "pattern": {
              "fillmode": "overlay",
              "size": 10,
              "solidity": 0.2
             }
            },
            "type": "bar"
           }
          ],
          "barpolar": [
           {
            "marker": {
             "line": {
              "color": "#E5ECF6",
              "width": 0.5
             },
             "pattern": {
              "fillmode": "overlay",
              "size": 10,
              "solidity": 0.2
             }
            },
            "type": "barpolar"
           }
          ],
          "carpet": [
           {
            "aaxis": {
             "endlinecolor": "#2a3f5f",
             "gridcolor": "white",
             "linecolor": "white",
             "minorgridcolor": "white",
             "startlinecolor": "#2a3f5f"
            },
            "baxis": {
             "endlinecolor": "#2a3f5f",
             "gridcolor": "white",
             "linecolor": "white",
             "minorgridcolor": "white",
             "startlinecolor": "#2a3f5f"
            },
            "type": "carpet"
           }
          ],
          "choropleth": [
           {
            "colorbar": {
             "outlinewidth": 0,
             "ticks": ""
            },
            "type": "choropleth"
           }
          ],
          "contour": [
           {
            "colorbar": {
             "outlinewidth": 0,
             "ticks": ""
            },
            "colorscale": [
             [
              0,
              "#0d0887"
             ],
             [
              0.1111111111111111,
              "#46039f"
             ],
             [
              0.2222222222222222,
              "#7201a8"
             ],
             [
              0.3333333333333333,
              "#9c179e"
             ],
             [
              0.4444444444444444,
              "#bd3786"
             ],
             [
              0.5555555555555556,
              "#d8576b"
             ],
             [
              0.6666666666666666,
              "#ed7953"
             ],
             [
              0.7777777777777778,
              "#fb9f3a"
             ],
             [
              0.8888888888888888,
              "#fdca26"
             ],
             [
              1,
              "#f0f921"
             ]
            ],
            "type": "contour"
           }
          ],
          "contourcarpet": [
           {
            "colorbar": {
             "outlinewidth": 0,
             "ticks": ""
            },
            "type": "contourcarpet"
           }
          ],
          "heatmap": [
           {
            "colorbar": {
             "outlinewidth": 0,
             "ticks": ""
            },
            "colorscale": [
             [
              0,
              "#0d0887"
             ],
             [
              0.1111111111111111,
              "#46039f"
             ],
             [
              0.2222222222222222,
              "#7201a8"
             ],
             [
              0.3333333333333333,
              "#9c179e"
             ],
             [
              0.4444444444444444,
              "#bd3786"
             ],
             [
              0.5555555555555556,
              "#d8576b"
             ],
             [
              0.6666666666666666,
              "#ed7953"
             ],
             [
              0.7777777777777778,
              "#fb9f3a"
             ],
             [
              0.8888888888888888,
              "#fdca26"
             ],
             [
              1,
              "#f0f921"
             ]
            ],
            "type": "heatmap"
           }
          ],
          "heatmapgl": [
           {
            "colorbar": {
             "outlinewidth": 0,
             "ticks": ""
            },
            "colorscale": [
             [
              0,
              "#0d0887"
             ],
             [
              0.1111111111111111,
              "#46039f"
             ],
             [
              0.2222222222222222,
              "#7201a8"
             ],
             [
              0.3333333333333333,
              "#9c179e"
             ],
             [
              0.4444444444444444,
              "#bd3786"
             ],
             [
              0.5555555555555556,
              "#d8576b"
             ],
             [
              0.6666666666666666,
              "#ed7953"
             ],
             [
              0.7777777777777778,
              "#fb9f3a"
             ],
             [
              0.8888888888888888,
              "#fdca26"
             ],
             [
              1,
              "#f0f921"
             ]
            ],
            "type": "heatmapgl"
           }
          ],
          "histogram": [
           {
            "marker": {
             "pattern": {
              "fillmode": "overlay",
              "size": 10,
              "solidity": 0.2
             }
            },
            "type": "histogram"
           }
          ],
          "histogram2d": [
           {
            "colorbar": {
             "outlinewidth": 0,
             "ticks": ""
            },
            "colorscale": [
             [
              0,
              "#0d0887"
             ],
             [
              0.1111111111111111,
              "#46039f"
             ],
             [
              0.2222222222222222,
              "#7201a8"
             ],
             [
              0.3333333333333333,
              "#9c179e"
             ],
             [
              0.4444444444444444,
              "#bd3786"
             ],
             [
              0.5555555555555556,
              "#d8576b"
             ],
             [
              0.6666666666666666,
              "#ed7953"
             ],
             [
              0.7777777777777778,
              "#fb9f3a"
             ],
             [
              0.8888888888888888,
              "#fdca26"
             ],
             [
              1,
              "#f0f921"
             ]
            ],
            "type": "histogram2d"
           }
          ],
          "histogram2dcontour": [
           {
            "colorbar": {
             "outlinewidth": 0,
             "ticks": ""
            },
            "colorscale": [
             [
              0,
              "#0d0887"
             ],
             [
              0.1111111111111111,
              "#46039f"
             ],
             [
              0.2222222222222222,
              "#7201a8"
             ],
             [
              0.3333333333333333,
              "#9c179e"
             ],
             [
              0.4444444444444444,
              "#bd3786"
             ],
             [
              0.5555555555555556,
              "#d8576b"
             ],
             [
              0.6666666666666666,
              "#ed7953"
             ],
             [
              0.7777777777777778,
              "#fb9f3a"
             ],
             [
              0.8888888888888888,
              "#fdca26"
             ],
             [
              1,
              "#f0f921"
             ]
            ],
            "type": "histogram2dcontour"
           }
          ],
          "mesh3d": [
           {
            "colorbar": {
             "outlinewidth": 0,
             "ticks": ""
            },
            "type": "mesh3d"
           }
          ],
          "parcoords": [
           {
            "line": {
             "colorbar": {
              "outlinewidth": 0,
              "ticks": ""
             }
            },
            "type": "parcoords"
           }
          ],
          "pie": [
           {
            "automargin": true,
            "type": "pie"
           }
          ],
          "scatter": [
           {
            "fillpattern": {
             "fillmode": "overlay",
             "size": 10,
             "solidity": 0.2
            },
            "type": "scatter"
           }
          ],
          "scatter3d": [
           {
            "line": {
             "colorbar": {
              "outlinewidth": 0,
              "ticks": ""
             }
            },
            "marker": {
             "colorbar": {
              "outlinewidth": 0,
              "ticks": ""
             }
            },
            "type": "scatter3d"
           }
          ],
          "scattercarpet": [
           {
            "marker": {
             "colorbar": {
              "outlinewidth": 0,
              "ticks": ""
             }
            },
            "type": "scattercarpet"
           }
          ],
          "scattergeo": [
           {
            "marker": {
             "colorbar": {
              "outlinewidth": 0,
              "ticks": ""
             }
            },
            "type": "scattergeo"
           }
          ],
          "scattergl": [
           {
            "marker": {
             "colorbar": {
              "outlinewidth": 0,
              "ticks": ""
             }
            },
            "type": "scattergl"
           }
          ],
          "scattermapbox": [
           {
            "marker": {
             "colorbar": {
              "outlinewidth": 0,
              "ticks": ""
             }
            },
            "type": "scattermapbox"
           }
          ],
          "scatterpolar": [
           {
            "marker": {
             "colorbar": {
              "outlinewidth": 0,
              "ticks": ""
             }
            },
            "type": "scatterpolar"
           }
          ],
          "scatterpolargl": [
           {
            "marker": {
             "colorbar": {
              "outlinewidth": 0,
              "ticks": ""
             }
            },
            "type": "scatterpolargl"
           }
          ],
          "scatterternary": [
           {
            "marker": {
             "colorbar": {
              "outlinewidth": 0,
              "ticks": ""
             }
            },
            "type": "scatterternary"
           }
          ],
          "surface": [
           {
            "colorbar": {
             "outlinewidth": 0,
             "ticks": ""
            },
            "colorscale": [
             [
              0,
              "#0d0887"
             ],
             [
              0.1111111111111111,
              "#46039f"
             ],
             [
              0.2222222222222222,
              "#7201a8"
             ],
             [
              0.3333333333333333,
              "#9c179e"
             ],
             [
              0.4444444444444444,
              "#bd3786"
             ],
             [
              0.5555555555555556,
              "#d8576b"
             ],
             [
              0.6666666666666666,
              "#ed7953"
             ],
             [
              0.7777777777777778,
              "#fb9f3a"
             ],
             [
              0.8888888888888888,
              "#fdca26"
             ],
             [
              1,
              "#f0f921"
             ]
            ],
            "type": "surface"
           }
          ],
          "table": [
           {
            "cells": {
             "fill": {
              "color": "#EBF0F8"
             },
             "line": {
              "color": "white"
             }
            },
            "header": {
             "fill": {
              "color": "#C8D4E3"
             },
             "line": {
              "color": "white"
             }
            },
            "type": "table"
           }
          ]
         },
         "layout": {
          "annotationdefaults": {
           "arrowcolor": "#2a3f5f",
           "arrowhead": 0,
           "arrowwidth": 1
          },
          "autotypenumbers": "strict",
          "coloraxis": {
           "colorbar": {
            "outlinewidth": 0,
            "ticks": ""
           }
          },
          "colorscale": {
           "diverging": [
            [
             0,
             "#8e0152"
            ],
            [
             0.1,
             "#c51b7d"
            ],
            [
             0.2,
             "#de77ae"
            ],
            [
             0.3,
             "#f1b6da"
            ],
            [
             0.4,
             "#fde0ef"
            ],
            [
             0.5,
             "#f7f7f7"
            ],
            [
             0.6,
             "#e6f5d0"
            ],
            [
             0.7,
             "#b8e186"
            ],
            [
             0.8,
             "#7fbc41"
            ],
            [
             0.9,
             "#4d9221"
            ],
            [
             1,
             "#276419"
            ]
           ],
           "sequential": [
            [
             0,
             "#0d0887"
            ],
            [
             0.1111111111111111,
             "#46039f"
            ],
            [
             0.2222222222222222,
             "#7201a8"
            ],
            [
             0.3333333333333333,
             "#9c179e"
            ],
            [
             0.4444444444444444,
             "#bd3786"
            ],
            [
             0.5555555555555556,
             "#d8576b"
            ],
            [
             0.6666666666666666,
             "#ed7953"
            ],
            [
             0.7777777777777778,
             "#fb9f3a"
            ],
            [
             0.8888888888888888,
             "#fdca26"
            ],
            [
             1,
             "#f0f921"
            ]
           ],
           "sequentialminus": [
            [
             0,
             "#0d0887"
            ],
            [
             0.1111111111111111,
             "#46039f"
            ],
            [
             0.2222222222222222,
             "#7201a8"
            ],
            [
             0.3333333333333333,
             "#9c179e"
            ],
            [
             0.4444444444444444,
             "#bd3786"
            ],
            [
             0.5555555555555556,
             "#d8576b"
            ],
            [
             0.6666666666666666,
             "#ed7953"
            ],
            [
             0.7777777777777778,
             "#fb9f3a"
            ],
            [
             0.8888888888888888,
             "#fdca26"
            ],
            [
             1,
             "#f0f921"
            ]
           ]
          },
          "colorway": [
           "#636efa",
           "#EF553B",
           "#00cc96",
           "#ab63fa",
           "#FFA15A",
           "#19d3f3",
           "#FF6692",
           "#B6E880",
           "#FF97FF",
           "#FECB52"
          ],
          "font": {
           "color": "#2a3f5f"
          },
          "geo": {
           "bgcolor": "white",
           "lakecolor": "white",
           "landcolor": "#E5ECF6",
           "showlakes": true,
           "showland": true,
           "subunitcolor": "white"
          },
          "hoverlabel": {
           "align": "left"
          },
          "hovermode": "closest",
          "mapbox": {
           "style": "light"
          },
          "paper_bgcolor": "white",
          "plot_bgcolor": "#E5ECF6",
          "polar": {
           "angularaxis": {
            "gridcolor": "white",
            "linecolor": "white",
            "ticks": ""
           },
           "bgcolor": "#E5ECF6",
           "radialaxis": {
            "gridcolor": "white",
            "linecolor": "white",
            "ticks": ""
           }
          },
          "scene": {
           "xaxis": {
            "backgroundcolor": "#E5ECF6",
            "gridcolor": "white",
            "gridwidth": 2,
            "linecolor": "white",
            "showbackground": true,
            "ticks": "",
            "zerolinecolor": "white"
           },
           "yaxis": {
            "backgroundcolor": "#E5ECF6",
            "gridcolor": "white",
            "gridwidth": 2,
            "linecolor": "white",
            "showbackground": true,
            "ticks": "",
            "zerolinecolor": "white"
           },
           "zaxis": {
            "backgroundcolor": "#E5ECF6",
            "gridcolor": "white",
            "gridwidth": 2,
            "linecolor": "white",
            "showbackground": true,
            "ticks": "",
            "zerolinecolor": "white"
           }
          },
          "shapedefaults": {
           "line": {
            "color": "#2a3f5f"
           }
          },
          "ternary": {
           "aaxis": {
            "gridcolor": "white",
            "linecolor": "white",
            "ticks": ""
           },
           "baxis": {
            "gridcolor": "white",
            "linecolor": "white",
            "ticks": ""
           },
           "bgcolor": "#E5ECF6",
           "caxis": {
            "gridcolor": "white",
            "linecolor": "white",
            "ticks": ""
           }
          },
          "title": {
           "x": 0.05
          },
          "xaxis": {
           "automargin": true,
           "gridcolor": "white",
           "linecolor": "white",
           "ticks": "",
           "title": {
            "standoff": 15
           },
           "zerolinecolor": "white",
           "zerolinewidth": 2
          },
          "yaxis": {
           "automargin": true,
           "gridcolor": "white",
           "linecolor": "white",
           "ticks": "",
           "title": {
            "standoff": 15
           },
           "zerolinecolor": "white",
           "zerolinewidth": 2
          }
         }
        },
        "title": {
         "text": "Hyperparameter Importances"
        },
        "xaxis": {
         "title": {
          "text": "Hyperparameter Importance"
         }
        },
        "yaxis": {
         "title": {
          "text": "Hyperparameter"
         }
        }
       }
      }
     },
     "metadata": {},
     "output_type": "display_data"
    }
   ],
   "source": [
    "optuna.visualization.plot_param_importances(study).show()"
   ]
  },
  {
   "cell_type": "code",
   "execution_count": 49,
   "id": "d452edcb",
   "metadata": {},
   "outputs": [
    {
     "data": {
      "application/vnd.plotly.v1+json": {
       "config": {
        "plotlyServerURL": "https://plot.ly"
       },
       "data": [
        {
         "dimensions": [
          {
           "label": "Objective Value",
           "range": [
            3192.9791005502093,
            6402.677876019744
           ],
           "values": [
            6402.677876019744,
            5817.716936023959,
            4639.695965157119,
            3888.640108615851,
            5637.440291328167,
            4349.349334283657,
            3538.201600150815,
            4222.0969339973235,
            5987.876440565123,
            5930.236597113848,
            4249.647691193036,
            3721.412018003831,
            3992.3681134868325,
            3745.0231375714984,
            4496.274561417728,
            3532.351997763184,
            3712.683820416855,
            3878.4225603020363,
            3258.6536376666345,
            3299.8057419420575,
            3558.1548802314146,
            3344.1360986274194,
            3346.290872146259,
            3682.572188125887,
            3324.1356706329725,
            3477.877832840085,
            3543.4521345710564,
            3234.0013427023514,
            3508.54835466015,
            5004.42107047821,
            4324.686970916422,
            3484.424151386007,
            3291.106187349627,
            3325.6927625938033,
            3243.0601177315375,
            3258.8499173154833,
            4733.54257152398,
            3330.1658474531714,
            3657.4081420035955,
            3246.3324692045935,
            3223.908916424979,
            3262.2664150628366,
            3536.1048831110393,
            3725.757422297686,
            3401.5545066433783,
            3635.4930797564184,
            3297.8485341280875,
            3484.8710748592084,
            5067.6932650619365,
            3519.5312534022605,
            4947.269431523515,
            3223.184387572671,
            3215.28175313329,
            3251.8248895524334,
            3397.6799413335893,
            3260.8279178294406,
            3192.9791005502093,
            3269.998258903558,
            3457.122430183835,
            3247.949537776105,
            4050.280737550346,
            3249.9684847878243,
            3328.4822044271473,
            3490.4301182885783,
            3540.8369062274187,
            3294.353628295925,
            3326.4094166662317,
            3548.591414006273,
            3228.1005724210245,
            3264.495066558836
           ]
          },
          {
           "label": "learning_rate",
           "range": [
            -1.9895468433186663,
            -0.1490247962635302
           ],
           "ticktext": [
            "0.0102",
            "0.1",
            "0.71"
           ],
           "tickvals": [
            -1.9895468433186663,
            -1,
            -0.1490247962635302
           ],
           "values": [
            -1.4550222694331645,
            -1.830260916086272,
            -1.4216470271612498,
            -0.7405373059975525,
            -0.8598842529191835,
            -1.9005395961586065,
            -0.6881057525451337,
            -1.8635049742594219,
            -1.1137627410073083,
            -1.4257650542821763,
            -0.1490247962635302,
            -0.5221677721260107,
            -0.40006237041675097,
            -0.5709142470110268,
            -0.23391553004661944,
            -1.0111789969131124,
            -1.0766686399438539,
            -0.8641889718748171,
            -1.2652138006489377,
            -1.275131444589153,
            -1.6130607313955614,
            -1.2486304412008196,
            -1.2536598742687919,
            -1.2705378555468028,
            -1.629920733290183,
            -1.6747457996099582,
            -1.6435371695141086,
            -1.546937315557574,
            -1.3285473188918868,
            -1.4958348791250546,
            -1.132403917769416,
            -1.5463639598692305,
            -1.8073854907128148,
            -1.75700309551239,
            -1.7302745640680304,
            -1.9895468433186663,
            -1.9766497737856124,
            -1.9467992541435666,
            -1.7404232800675967,
            -1.4128674432512702,
            -1.3807423598737059,
            -1.388272550513002,
            -1.4272799352198986,
            -1.548001933984882,
            -1.1759049440436413,
            -1.0172502706237576,
            -1.3762561342494029,
            -1.5018217520305022,
            -0.8756011072910139,
            -1.6963449054550217,
            -1.8533433824679697,
            -1.5781986191989998,
            -1.5700963512005424,
            -1.5272847571524724,
            -1.7841936262673375,
            -1.5790074250930037,
            -1.4626692384662277,
            -1.4756349888645592,
            -1.7059650484409392,
            -1.3194121123101383,
            -1.8741111058452533,
            -1.5971123497624846,
            -1.428842979934424,
            -1.348648900295503,
            -1.185806679589161,
            -1.6581976372314826,
            -1.4525842777506452,
            -1.584188091611808,
            -1.7342267237047997,
            -1.8060985282819118
           ]
          },
          {
           "label": "max_depth",
           "range": [
            4,
            32
           ],
           "values": [
            30,
            10,
            7,
            17,
            19,
            11,
            22,
            12,
            4,
            23,
            29,
            18,
            25,
            18,
            23,
            15,
            14,
            26,
            15,
            15,
            8,
            15,
            14,
            20,
            16,
            12,
            16,
            21,
            27,
            20,
            21,
            13,
            17,
            9,
            32,
            30,
            31,
            32,
            29,
            28,
            27,
            28,
            25,
            31,
            24,
            27,
            32,
            29,
            22,
            27,
            30,
            30,
            31,
            31,
            28,
            30,
            25,
            26,
            24,
            32,
            25,
            28,
            29,
            26,
            5,
            23,
            31,
            29,
            28,
            19
           ]
          },
          {
           "label": "max_features",
           "range": [
            0,
            11
           ],
           "ticktext": [
            "0.8",
            "0.2",
            "log2",
            "0.1",
            "0.7",
            "None",
            "0.4",
            "sqrt",
            "0.6",
            "0.5",
            "0.9",
            "0.3"
           ],
           "tickvals": [
            0,
            1,
            2,
            3,
            4,
            5,
            6,
            7,
            8,
            9,
            10,
            11
           ],
           "values": [
            0,
            1,
            2,
            3,
            4,
            5,
            6,
            4,
            3,
            6,
            6,
            3,
            7,
            8,
            9,
            10,
            10,
            10,
            11,
            11,
            11,
            11,
            11,
            11,
            11,
            11,
            11,
            11,
            5,
            2,
            9,
            0,
            11,
            1,
            11,
            11,
            7,
            8,
            0,
            1,
            1,
            1,
            1,
            1,
            1,
            4,
            2,
            1,
            5,
            3,
            6,
            11,
            11,
            1,
            4,
            11,
            7,
            7,
            7,
            7,
            8,
            11,
            9,
            10,
            11,
            11,
            6,
            11,
            3,
            3
           ]
          },
          {
           "label": "min_samples_leaf",
           "range": [
            1,
            30
           ],
           "values": [
            26,
            21,
            16,
            14,
            28,
            29,
            1,
            29,
            30,
            14,
            2,
            4,
            1,
            7,
            7,
            6,
            9,
            10,
            5,
            5,
            11,
            5,
            4,
            18,
            5,
            11,
            8,
            3,
            3,
            21,
            12,
            5,
            3,
            2,
            3,
            1,
            24,
            1,
            8,
            2,
            3,
            3,
            3,
            6,
            4,
            7,
            2,
            1,
            18,
            6,
            13,
            2,
            2,
            2,
            3,
            4,
            1,
            1,
            8,
            4,
            26,
            2,
            2,
            6,
            1,
            3,
            4,
            16,
            5,
            5
           ]
          },
          {
           "label": "min_samples_split",
           "range": [
            2,
            98
           ],
           "values": [
            46,
            36,
            42,
            78,
            90,
            59,
            29,
            6,
            47,
            89,
            11,
            70,
            24,
            64,
            73,
            25,
            24,
            25,
            32,
            15,
            13,
            2,
            2,
            12,
            17,
            33,
            16,
            18,
            38,
            52,
            54,
            18,
            19,
            34,
            40,
            43,
            44,
            40,
            47,
            58,
            61,
            57,
            63,
            79,
            48,
            30,
            61,
            68,
            81,
            37,
            56,
            42,
            30,
            51,
            67,
            27,
            22,
            21,
            8,
            29,
            21,
            35,
            60,
            40,
            50,
            98,
            23,
            74,
            45,
            31
           ]
          },
          {
           "label": "subsample",
           "range": [
            0.1177589817042714,
            0.9981438257438544
           ],
           "values": [
            0.1177589817042714,
            0.15640172328228477,
            0.4581205314481861,
            0.5795668347371169,
            0.23325390500017087,
            0.8662915238008442,
            0.7644887945675666,
            0.7647042705751687,
            0.2875628082638476,
            0.12412065494979885,
            0.9605533508261285,
            0.6346922402417411,
            0.673568941345692,
            0.46246048029745535,
            0.6950785249386102,
            0.8242687895348413,
            0.8376225281110229,
            0.9981438257438544,
            0.8705317335073132,
            0.8923755963839227,
            0.9312911241232275,
            0.8413643277096872,
            0.8899852988884344,
            0.7533492065291382,
            0.8976166400827316,
            0.925317351270135,
            0.4238807472210913,
            0.5528086908100067,
            0.5371065252040612,
            0.39582140307352154,
            0.3360673538685467,
            0.7793810894071969,
            0.7003002093460347,
            0.5707418196808265,
            0.519199766539664,
            0.623847104984506,
            0.4832981433471137,
            0.6192904496322136,
            0.5215847207874392,
            0.600994007175315,
            0.38840542153155744,
            0.39000153769914736,
            0.22414441067489127,
            0.33977679725241394,
            0.48718984715872016,
            0.5935867492892174,
            0.5167714519960092,
            0.20255680688589325,
            0.31148972269250275,
            0.43073583851342867,
            0.2680374684875922,
            0.65936728502067,
            0.6638539074973421,
            0.6712307703997793,
            0.5673934972094804,
            0.7153814770338778,
            0.6677588032576087,
            0.669383626299888,
            0.6399247722507589,
            0.7314524099096733,
            0.7856311694762674,
            0.5916004227404528,
            0.5509938512062063,
            0.6501238052668078,
            0.6047519410402453,
            0.5103851076291236,
            0.687510121444283,
            0.8079428723552805,
            0.7401907036295743,
            0.6551335248065494
           ]
          }
         ],
         "labelangle": 30,
         "labelside": "bottom",
         "line": {
          "color": [
           6402.677876019744,
           5817.716936023959,
           4639.695965157119,
           3888.640108615851,
           5637.440291328167,
           4349.349334283657,
           3538.201600150815,
           4222.0969339973235,
           5987.876440565123,
           5930.236597113848,
           4249.647691193036,
           3721.412018003831,
           3992.3681134868325,
           3745.0231375714984,
           4496.274561417728,
           3532.351997763184,
           3712.683820416855,
           3878.4225603020363,
           3258.6536376666345,
           3299.8057419420575,
           3558.1548802314146,
           3344.1360986274194,
           3346.290872146259,
           3682.572188125887,
           3324.1356706329725,
           3477.877832840085,
           3543.4521345710564,
           3234.0013427023514,
           3508.54835466015,
           5004.42107047821,
           4324.686970916422,
           3484.424151386007,
           3291.106187349627,
           3325.6927625938033,
           3243.0601177315375,
           3258.8499173154833,
           4733.54257152398,
           3330.1658474531714,
           3657.4081420035955,
           3246.3324692045935,
           3223.908916424979,
           3262.2664150628366,
           3536.1048831110393,
           3725.757422297686,
           3401.5545066433783,
           3635.4930797564184,
           3297.8485341280875,
           3484.8710748592084,
           5067.6932650619365,
           3519.5312534022605,
           4947.269431523515,
           3223.184387572671,
           3215.28175313329,
           3251.8248895524334,
           3397.6799413335893,
           3260.8279178294406,
           3192.9791005502093,
           3269.998258903558,
           3457.122430183835,
           3247.949537776105,
           4050.280737550346,
           3249.9684847878243,
           3328.4822044271473,
           3490.4301182885783,
           3540.8369062274187,
           3294.353628295925,
           3326.4094166662317,
           3548.591414006273,
           3228.1005724210245,
           3264.495066558836
          ],
          "colorbar": {
           "title": {
            "text": "Objective Value"
           }
          },
          "colorscale": [
           [
            0,
            "rgb(247,251,255)"
           ],
           [
            0.125,
            "rgb(222,235,247)"
           ],
           [
            0.25,
            "rgb(198,219,239)"
           ],
           [
            0.375,
            "rgb(158,202,225)"
           ],
           [
            0.5,
            "rgb(107,174,214)"
           ],
           [
            0.625,
            "rgb(66,146,198)"
           ],
           [
            0.75,
            "rgb(33,113,181)"
           ],
           [
            0.875,
            "rgb(8,81,156)"
           ],
           [
            1,
            "rgb(8,48,107)"
           ]
          ],
          "reversescale": true,
          "showscale": true
         },
         "type": "parcoords"
        }
       ],
       "layout": {
        "template": {
         "data": {
          "bar": [
           {
            "error_x": {
             "color": "#2a3f5f"
            },
            "error_y": {
             "color": "#2a3f5f"
            },
            "marker": {
             "line": {
              "color": "#E5ECF6",
              "width": 0.5
             },
             "pattern": {
              "fillmode": "overlay",
              "size": 10,
              "solidity": 0.2
             }
            },
            "type": "bar"
           }
          ],
          "barpolar": [
           {
            "marker": {
             "line": {
              "color": "#E5ECF6",
              "width": 0.5
             },
             "pattern": {
              "fillmode": "overlay",
              "size": 10,
              "solidity": 0.2
             }
            },
            "type": "barpolar"
           }
          ],
          "carpet": [
           {
            "aaxis": {
             "endlinecolor": "#2a3f5f",
             "gridcolor": "white",
             "linecolor": "white",
             "minorgridcolor": "white",
             "startlinecolor": "#2a3f5f"
            },
            "baxis": {
             "endlinecolor": "#2a3f5f",
             "gridcolor": "white",
             "linecolor": "white",
             "minorgridcolor": "white",
             "startlinecolor": "#2a3f5f"
            },
            "type": "carpet"
           }
          ],
          "choropleth": [
           {
            "colorbar": {
             "outlinewidth": 0,
             "ticks": ""
            },
            "type": "choropleth"
           }
          ],
          "contour": [
           {
            "colorbar": {
             "outlinewidth": 0,
             "ticks": ""
            },
            "colorscale": [
             [
              0,
              "#0d0887"
             ],
             [
              0.1111111111111111,
              "#46039f"
             ],
             [
              0.2222222222222222,
              "#7201a8"
             ],
             [
              0.3333333333333333,
              "#9c179e"
             ],
             [
              0.4444444444444444,
              "#bd3786"
             ],
             [
              0.5555555555555556,
              "#d8576b"
             ],
             [
              0.6666666666666666,
              "#ed7953"
             ],
             [
              0.7777777777777778,
              "#fb9f3a"
             ],
             [
              0.8888888888888888,
              "#fdca26"
             ],
             [
              1,
              "#f0f921"
             ]
            ],
            "type": "contour"
           }
          ],
          "contourcarpet": [
           {
            "colorbar": {
             "outlinewidth": 0,
             "ticks": ""
            },
            "type": "contourcarpet"
           }
          ],
          "heatmap": [
           {
            "colorbar": {
             "outlinewidth": 0,
             "ticks": ""
            },
            "colorscale": [
             [
              0,
              "#0d0887"
             ],
             [
              0.1111111111111111,
              "#46039f"
             ],
             [
              0.2222222222222222,
              "#7201a8"
             ],
             [
              0.3333333333333333,
              "#9c179e"
             ],
             [
              0.4444444444444444,
              "#bd3786"
             ],
             [
              0.5555555555555556,
              "#d8576b"
             ],
             [
              0.6666666666666666,
              "#ed7953"
             ],
             [
              0.7777777777777778,
              "#fb9f3a"
             ],
             [
              0.8888888888888888,
              "#fdca26"
             ],
             [
              1,
              "#f0f921"
             ]
            ],
            "type": "heatmap"
           }
          ],
          "heatmapgl": [
           {
            "colorbar": {
             "outlinewidth": 0,
             "ticks": ""
            },
            "colorscale": [
             [
              0,
              "#0d0887"
             ],
             [
              0.1111111111111111,
              "#46039f"
             ],
             [
              0.2222222222222222,
              "#7201a8"
             ],
             [
              0.3333333333333333,
              "#9c179e"
             ],
             [
              0.4444444444444444,
              "#bd3786"
             ],
             [
              0.5555555555555556,
              "#d8576b"
             ],
             [
              0.6666666666666666,
              "#ed7953"
             ],
             [
              0.7777777777777778,
              "#fb9f3a"
             ],
             [
              0.8888888888888888,
              "#fdca26"
             ],
             [
              1,
              "#f0f921"
             ]
            ],
            "type": "heatmapgl"
           }
          ],
          "histogram": [
           {
            "marker": {
             "pattern": {
              "fillmode": "overlay",
              "size": 10,
              "solidity": 0.2
             }
            },
            "type": "histogram"
           }
          ],
          "histogram2d": [
           {
            "colorbar": {
             "outlinewidth": 0,
             "ticks": ""
            },
            "colorscale": [
             [
              0,
              "#0d0887"
             ],
             [
              0.1111111111111111,
              "#46039f"
             ],
             [
              0.2222222222222222,
              "#7201a8"
             ],
             [
              0.3333333333333333,
              "#9c179e"
             ],
             [
              0.4444444444444444,
              "#bd3786"
             ],
             [
              0.5555555555555556,
              "#d8576b"
             ],
             [
              0.6666666666666666,
              "#ed7953"
             ],
             [
              0.7777777777777778,
              "#fb9f3a"
             ],
             [
              0.8888888888888888,
              "#fdca26"
             ],
             [
              1,
              "#f0f921"
             ]
            ],
            "type": "histogram2d"
           }
          ],
          "histogram2dcontour": [
           {
            "colorbar": {
             "outlinewidth": 0,
             "ticks": ""
            },
            "colorscale": [
             [
              0,
              "#0d0887"
             ],
             [
              0.1111111111111111,
              "#46039f"
             ],
             [
              0.2222222222222222,
              "#7201a8"
             ],
             [
              0.3333333333333333,
              "#9c179e"
             ],
             [
              0.4444444444444444,
              "#bd3786"
             ],
             [
              0.5555555555555556,
              "#d8576b"
             ],
             [
              0.6666666666666666,
              "#ed7953"
             ],
             [
              0.7777777777777778,
              "#fb9f3a"
             ],
             [
              0.8888888888888888,
              "#fdca26"
             ],
             [
              1,
              "#f0f921"
             ]
            ],
            "type": "histogram2dcontour"
           }
          ],
          "mesh3d": [
           {
            "colorbar": {
             "outlinewidth": 0,
             "ticks": ""
            },
            "type": "mesh3d"
           }
          ],
          "parcoords": [
           {
            "line": {
             "colorbar": {
              "outlinewidth": 0,
              "ticks": ""
             }
            },
            "type": "parcoords"
           }
          ],
          "pie": [
           {
            "automargin": true,
            "type": "pie"
           }
          ],
          "scatter": [
           {
            "fillpattern": {
             "fillmode": "overlay",
             "size": 10,
             "solidity": 0.2
            },
            "type": "scatter"
           }
          ],
          "scatter3d": [
           {
            "line": {
             "colorbar": {
              "outlinewidth": 0,
              "ticks": ""
             }
            },
            "marker": {
             "colorbar": {
              "outlinewidth": 0,
              "ticks": ""
             }
            },
            "type": "scatter3d"
           }
          ],
          "scattercarpet": [
           {
            "marker": {
             "colorbar": {
              "outlinewidth": 0,
              "ticks": ""
             }
            },
            "type": "scattercarpet"
           }
          ],
          "scattergeo": [
           {
            "marker": {
             "colorbar": {
              "outlinewidth": 0,
              "ticks": ""
             }
            },
            "type": "scattergeo"
           }
          ],
          "scattergl": [
           {
            "marker": {
             "colorbar": {
              "outlinewidth": 0,
              "ticks": ""
             }
            },
            "type": "scattergl"
           }
          ],
          "scattermapbox": [
           {
            "marker": {
             "colorbar": {
              "outlinewidth": 0,
              "ticks": ""
             }
            },
            "type": "scattermapbox"
           }
          ],
          "scatterpolar": [
           {
            "marker": {
             "colorbar": {
              "outlinewidth": 0,
              "ticks": ""
             }
            },
            "type": "scatterpolar"
           }
          ],
          "scatterpolargl": [
           {
            "marker": {
             "colorbar": {
              "outlinewidth": 0,
              "ticks": ""
             }
            },
            "type": "scatterpolargl"
           }
          ],
          "scatterternary": [
           {
            "marker": {
             "colorbar": {
              "outlinewidth": 0,
              "ticks": ""
             }
            },
            "type": "scatterternary"
           }
          ],
          "surface": [
           {
            "colorbar": {
             "outlinewidth": 0,
             "ticks": ""
            },
            "colorscale": [
             [
              0,
              "#0d0887"
             ],
             [
              0.1111111111111111,
              "#46039f"
             ],
             [
              0.2222222222222222,
              "#7201a8"
             ],
             [
              0.3333333333333333,
              "#9c179e"
             ],
             [
              0.4444444444444444,
              "#bd3786"
             ],
             [
              0.5555555555555556,
              "#d8576b"
             ],
             [
              0.6666666666666666,
              "#ed7953"
             ],
             [
              0.7777777777777778,
              "#fb9f3a"
             ],
             [
              0.8888888888888888,
              "#fdca26"
             ],
             [
              1,
              "#f0f921"
             ]
            ],
            "type": "surface"
           }
          ],
          "table": [
           {
            "cells": {
             "fill": {
              "color": "#EBF0F8"
             },
             "line": {
              "color": "white"
             }
            },
            "header": {
             "fill": {
              "color": "#C8D4E3"
             },
             "line": {
              "color": "white"
             }
            },
            "type": "table"
           }
          ]
         },
         "layout": {
          "annotationdefaults": {
           "arrowcolor": "#2a3f5f",
           "arrowhead": 0,
           "arrowwidth": 1
          },
          "autotypenumbers": "strict",
          "coloraxis": {
           "colorbar": {
            "outlinewidth": 0,
            "ticks": ""
           }
          },
          "colorscale": {
           "diverging": [
            [
             0,
             "#8e0152"
            ],
            [
             0.1,
             "#c51b7d"
            ],
            [
             0.2,
             "#de77ae"
            ],
            [
             0.3,
             "#f1b6da"
            ],
            [
             0.4,
             "#fde0ef"
            ],
            [
             0.5,
             "#f7f7f7"
            ],
            [
             0.6,
             "#e6f5d0"
            ],
            [
             0.7,
             "#b8e186"
            ],
            [
             0.8,
             "#7fbc41"
            ],
            [
             0.9,
             "#4d9221"
            ],
            [
             1,
             "#276419"
            ]
           ],
           "sequential": [
            [
             0,
             "#0d0887"
            ],
            [
             0.1111111111111111,
             "#46039f"
            ],
            [
             0.2222222222222222,
             "#7201a8"
            ],
            [
             0.3333333333333333,
             "#9c179e"
            ],
            [
             0.4444444444444444,
             "#bd3786"
            ],
            [
             0.5555555555555556,
             "#d8576b"
            ],
            [
             0.6666666666666666,
             "#ed7953"
            ],
            [
             0.7777777777777778,
             "#fb9f3a"
            ],
            [
             0.8888888888888888,
             "#fdca26"
            ],
            [
             1,
             "#f0f921"
            ]
           ],
           "sequentialminus": [
            [
             0,
             "#0d0887"
            ],
            [
             0.1111111111111111,
             "#46039f"
            ],
            [
             0.2222222222222222,
             "#7201a8"
            ],
            [
             0.3333333333333333,
             "#9c179e"
            ],
            [
             0.4444444444444444,
             "#bd3786"
            ],
            [
             0.5555555555555556,
             "#d8576b"
            ],
            [
             0.6666666666666666,
             "#ed7953"
            ],
            [
             0.7777777777777778,
             "#fb9f3a"
            ],
            [
             0.8888888888888888,
             "#fdca26"
            ],
            [
             1,
             "#f0f921"
            ]
           ]
          },
          "colorway": [
           "#636efa",
           "#EF553B",
           "#00cc96",
           "#ab63fa",
           "#FFA15A",
           "#19d3f3",
           "#FF6692",
           "#B6E880",
           "#FF97FF",
           "#FECB52"
          ],
          "font": {
           "color": "#2a3f5f"
          },
          "geo": {
           "bgcolor": "white",
           "lakecolor": "white",
           "landcolor": "#E5ECF6",
           "showlakes": true,
           "showland": true,
           "subunitcolor": "white"
          },
          "hoverlabel": {
           "align": "left"
          },
          "hovermode": "closest",
          "mapbox": {
           "style": "light"
          },
          "paper_bgcolor": "white",
          "plot_bgcolor": "#E5ECF6",
          "polar": {
           "angularaxis": {
            "gridcolor": "white",
            "linecolor": "white",
            "ticks": ""
           },
           "bgcolor": "#E5ECF6",
           "radialaxis": {
            "gridcolor": "white",
            "linecolor": "white",
            "ticks": ""
           }
          },
          "scene": {
           "xaxis": {
            "backgroundcolor": "#E5ECF6",
            "gridcolor": "white",
            "gridwidth": 2,
            "linecolor": "white",
            "showbackground": true,
            "ticks": "",
            "zerolinecolor": "white"
           },
           "yaxis": {
            "backgroundcolor": "#E5ECF6",
            "gridcolor": "white",
            "gridwidth": 2,
            "linecolor": "white",
            "showbackground": true,
            "ticks": "",
            "zerolinecolor": "white"
           },
           "zaxis": {
            "backgroundcolor": "#E5ECF6",
            "gridcolor": "white",
            "gridwidth": 2,
            "linecolor": "white",
            "showbackground": true,
            "ticks": "",
            "zerolinecolor": "white"
           }
          },
          "shapedefaults": {
           "line": {
            "color": "#2a3f5f"
           }
          },
          "ternary": {
           "aaxis": {
            "gridcolor": "white",
            "linecolor": "white",
            "ticks": ""
           },
           "baxis": {
            "gridcolor": "white",
            "linecolor": "white",
            "ticks": ""
           },
           "bgcolor": "#E5ECF6",
           "caxis": {
            "gridcolor": "white",
            "linecolor": "white",
            "ticks": ""
           }
          },
          "title": {
           "x": 0.05
          },
          "xaxis": {
           "automargin": true,
           "gridcolor": "white",
           "linecolor": "white",
           "ticks": "",
           "title": {
            "standoff": 15
           },
           "zerolinecolor": "white",
           "zerolinewidth": 2
          },
          "yaxis": {
           "automargin": true,
           "gridcolor": "white",
           "linecolor": "white",
           "ticks": "",
           "title": {
            "standoff": 15
           },
           "zerolinecolor": "white",
           "zerolinewidth": 2
          }
         }
        },
        "title": {
         "text": "Parallel Coordinate Plot"
        }
       }
      }
     },
     "metadata": {},
     "output_type": "display_data"
    }
   ],
   "source": [
    "optuna.visualization.plot_parallel_coordinate(study).show()"
   ]
  },
  {
   "cell_type": "markdown",
   "id": "62ce483e",
   "metadata": {},
   "source": [
    "##  Independent Study\n",
    "\n",
    "In this notebook, we used the car dataset for a guided regression task to illustrate the core hyperparameters in gradient boosting and how to tune them to balance bias and variance.\n",
    "\n",
    "For your practice, please work with the **diabetes dataset** and complete the following:\n",
    "\n",
    "- Fit a baseline gradient boosting classifier.\n",
    "- Tune key hyperparameters: `learning_rate`, `n_estimators`, `max_depth`, and `subsample`.\n",
    "- Use **early stopping** to determine the optimal number of trees.\n",
    "- Compare training and test `roc_auc` before and after tuning.\n",
    "- Visualize the learning curve (training vs test error across iterations).\n",
    "- Summarize what combination of hyperparameters yielded the best performance and how they impacted bias and variance.\n",
    "\n",
    "Feel free to use `GridSearchCV`, `BayesSearchCV`, or other tuning as you prefer.\n"
   ]
  },
  {
   "cell_type": "code",
   "execution_count": 50,
   "id": "7b50e2fd",
   "metadata": {},
   "outputs": [],
   "source": [
    "train = pd.read_csv('./Datasets/diabetes_train.csv')\n",
    "test = pd.read_csv('./Datasets/diabetes_test.csv')"
   ]
  },
  {
   "cell_type": "code",
   "execution_count": 51,
   "id": "41f5f44f",
   "metadata": {},
   "outputs": [
    {
     "name": "stdout",
     "output_type": "stream",
     "text": [
      "(614, 9) (154, 9)\n"
     ]
    },
    {
     "data": {
      "text/html": [
       "<div>\n",
       "<style scoped>\n",
       "    .dataframe tbody tr th:only-of-type {\n",
       "        vertical-align: middle;\n",
       "    }\n",
       "\n",
       "    .dataframe tbody tr th {\n",
       "        vertical-align: top;\n",
       "    }\n",
       "\n",
       "    .dataframe thead th {\n",
       "        text-align: right;\n",
       "    }\n",
       "</style>\n",
       "<table border=\"1\" class=\"dataframe\">\n",
       "  <thead>\n",
       "    <tr style=\"text-align: right;\">\n",
       "      <th></th>\n",
       "      <th>Pregnancies</th>\n",
       "      <th>Glucose</th>\n",
       "      <th>BloodPressure</th>\n",
       "      <th>SkinThickness</th>\n",
       "      <th>Insulin</th>\n",
       "      <th>BMI</th>\n",
       "      <th>DiabetesPedigreeFunction</th>\n",
       "      <th>Age</th>\n",
       "      <th>Outcome</th>\n",
       "    </tr>\n",
       "  </thead>\n",
       "  <tbody>\n",
       "    <tr>\n",
       "      <th>0</th>\n",
       "      <td>2</td>\n",
       "      <td>88</td>\n",
       "      <td>74</td>\n",
       "      <td>19</td>\n",
       "      <td>53</td>\n",
       "      <td>29.0</td>\n",
       "      <td>0.229</td>\n",
       "      <td>22</td>\n",
       "      <td>0</td>\n",
       "    </tr>\n",
       "    <tr>\n",
       "      <th>1</th>\n",
       "      <td>2</td>\n",
       "      <td>129</td>\n",
       "      <td>84</td>\n",
       "      <td>0</td>\n",
       "      <td>0</td>\n",
       "      <td>28.0</td>\n",
       "      <td>0.284</td>\n",
       "      <td>27</td>\n",
       "      <td>0</td>\n",
       "    </tr>\n",
       "    <tr>\n",
       "      <th>2</th>\n",
       "      <td>0</td>\n",
       "      <td>102</td>\n",
       "      <td>78</td>\n",
       "      <td>40</td>\n",
       "      <td>90</td>\n",
       "      <td>34.5</td>\n",
       "      <td>0.238</td>\n",
       "      <td>24</td>\n",
       "      <td>0</td>\n",
       "    </tr>\n",
       "    <tr>\n",
       "      <th>3</th>\n",
       "      <td>0</td>\n",
       "      <td>123</td>\n",
       "      <td>72</td>\n",
       "      <td>0</td>\n",
       "      <td>0</td>\n",
       "      <td>36.3</td>\n",
       "      <td>0.258</td>\n",
       "      <td>52</td>\n",
       "      <td>1</td>\n",
       "    </tr>\n",
       "    <tr>\n",
       "      <th>4</th>\n",
       "      <td>1</td>\n",
       "      <td>144</td>\n",
       "      <td>82</td>\n",
       "      <td>46</td>\n",
       "      <td>180</td>\n",
       "      <td>46.1</td>\n",
       "      <td>0.335</td>\n",
       "      <td>46</td>\n",
       "      <td>1</td>\n",
       "    </tr>\n",
       "  </tbody>\n",
       "</table>\n",
       "</div>"
      ],
      "text/plain": [
       "   Pregnancies  Glucose  BloodPressure  SkinThickness  Insulin   BMI  \\\n",
       "0            2       88             74             19       53  29.0   \n",
       "1            2      129             84              0        0  28.0   \n",
       "2            0      102             78             40       90  34.5   \n",
       "3            0      123             72              0        0  36.3   \n",
       "4            1      144             82             46      180  46.1   \n",
       "\n",
       "   DiabetesPedigreeFunction  Age  Outcome  \n",
       "0                     0.229   22        0  \n",
       "1                     0.284   27        0  \n",
       "2                     0.238   24        0  \n",
       "3                     0.258   52        1  \n",
       "4                     0.335   46        1  "
      ]
     },
     "execution_count": 51,
     "metadata": {},
     "output_type": "execute_result"
    }
   ],
   "source": [
    "print(train.shape, test.shape)\n",
    "train.head()"
   ]
  },
  {
   "cell_type": "code",
   "execution_count": 52,
   "id": "68b1eac9",
   "metadata": {},
   "outputs": [
    {
     "data": {
      "text/plain": [
       "Outcome\n",
       "0    0.662866\n",
       "1    0.337134\n",
       "Name: proportion, dtype: float64"
      ]
     },
     "execution_count": 52,
     "metadata": {},
     "output_type": "execute_result"
    }
   ],
   "source": [
    "# check the distribution of the target variable\n",
    "train['Outcome'].value_counts(normalize=True)\n"
   ]
  },
  {
   "cell_type": "code",
   "execution_count": 53,
   "id": "646083d6",
   "metadata": {},
   "outputs": [],
   "source": [
    "# define the features and target variable\n",
    "X_train = train.drop(columns=['Outcome'])\n",
    "y_train = train['Outcome']\n",
    "X_test = test.drop(columns=['Outcome'])\n",
    "y_test = test['Outcome']"
   ]
  },
  {
   "cell_type": "markdown",
   "id": "6c553ffa",
   "metadata": {},
   "source": [
    "## Foundational Paper\n",
    "\n",
    "The foundational paper introducing \"vanilla\" Gradient Boosting is:\n",
    "\n",
    "**Greedy Function Approximation: A Gradient Boosting Machine**  \n",
    "*Author*: Jerome H. Friedman  \n",
    "*Published in*: *The Annals of Statistics*, 2001, Vol. 29, No. 5, pp. 1189–1232  \n",
    "*DOI*: [10.1214/aos/1013203451](https://doi.org/10.1214/aos/1013203451)"
   ]
  }
 ],
 "metadata": {
  "kernelspec": {
   "display_name": "base",
   "language": "python",
   "name": "python3"
  },
  "language_info": {
   "codemirror_mode": {
    "name": "ipython",
    "version": 3
   },
   "file_extension": ".py",
   "mimetype": "text/x-python",
   "name": "python",
   "nbconvert_exporter": "python",
   "pygments_lexer": "ipython3",
   "version": "3.12.4"
  }
 },
 "nbformat": 4,
 "nbformat_minor": 5
}
