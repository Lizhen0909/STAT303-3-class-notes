{
 "cells": [
  {
   "cell_type": "raw",
   "id": "577166cb",
   "metadata": {},
   "source": [
    "---\n",
    "title: \"Introduction to scikit-learn\"\n",
    "format: \n",
    "  html:\n",
    "    code-fold: false\n",
    "    toc-depth: 4\n",
    "    jupyter: python3\n",
    "---"
   ]
  },
  {
   "cell_type": "markdown",
   "id": "69c792d6",
   "metadata": {},
   "source": [
    "In this chapter, we'll learn some functions from the library `sklearn` that will be useful in:\n",
    "\n",
    "1. Splitting the data into `train` and `test`\n",
    "\n",
    "2. Scaling data\n",
    "\n",
    "3. Fitting a model\n",
    "\n",
    "4. Computing model performance metrics\n",
    "\n",
    "4. Tuning model hyperparameters* to optimize the desired performance metric\n",
    "\n",
    "\\**In machine learning, a model hyperparameter is a parameter that cannot be learned from training data and must be set before training the model. Hyperparameters control aspects of the model's behavior and can greatly impact its performance. For example, the regularization parameter $\\lambda$, in linear regression is a hyperparameter. You need to specify it before fitting the model. On the other hand, the beta coefficients in linear regression are parameters, as you learn them while training the model, and don't need to specify their values beforehand.*\n",
    "\n",
    "\n",
    "We'll use a classification problem to illustrate the functions. However, similar functions can be used for regression problems, i.e., prediction problems with a continuous response."
   ]
  },
  {
   "cell_type": "code",
   "execution_count": 214,
   "id": "bdb5a335",
   "metadata": {},
   "outputs": [],
   "source": [
    "# Importing necessary libraries\n",
    "import pandas as pd\n",
    "import numpy as np\n",
    "import matplotlib.pyplot as plt\n",
    "import seaborn as sns\n",
    "sns.set(font_scale=1.35)"
   ]
  },
  {
   "cell_type": "markdown",
   "id": "9a22d52c",
   "metadata": {},
   "source": [
    "Let us import the `sklearn` modules useful in developing statistical models."
   ]
  },
  {
   "cell_type": "code",
   "execution_count": 215,
   "id": "b3ebb681",
   "metadata": {},
   "outputs": [],
   "source": [
    "# sklearn has 100s of models - grouped in sublibraries, such as linear_model\n",
    "from sklearn.linear_model import LogisticRegression, LinearRegression\n",
    "\n",
    "# sklearn has many tools for cleaning/processing data, also grouped in sublibraries\n",
    "# splitting one dataset into train and test, computing cross validation score, cross validated prediction\n",
    "from sklearn.model_selection import train_test_split, cross_val_predict, cross_val_score\n",
    "\n",
    "#sklearn module for scaling data\n",
    "from sklearn.preprocessing import StandardScaler\n",
    "\n",
    "#sklearn modules for computing the performance metrics\n",
    "from sklearn.metrics import accuracy_score, mean_absolute_error, mean_squared_error, r2_score, \\\n",
    "roc_curve, auc, precision_score, recall_score, confusion_matrix"
   ]
  },
  {
   "cell_type": "code",
   "execution_count": 216,
   "id": "c1312e1a",
   "metadata": {},
   "outputs": [],
   "source": [
    "#Reading data\n",
    "data = pd.read_csv('./Datasets/diabetes.csv')"
   ]
  },
  {
   "cell_type": "markdown",
   "id": "e80e4eac",
   "metadata": {},
   "source": [
    "Scikit-learn doesn't support the formula-like syntax of specifying the response and the predictors as in the `statsmodels` library. We need to create separate objects for predictors and response, which should be *array-like*. A Pandas DataFrame / Series or a Numpy array are *array-like* objects."
   ]
  },
  {
   "cell_type": "markdown",
   "id": "0cbee04a",
   "metadata": {},
   "source": [
    "Let us reference our predictors as object `X`, and the response as object `y`."
   ]
  },
  {
   "cell_type": "code",
   "execution_count": 217,
   "id": "54976ef7",
   "metadata": {},
   "outputs": [],
   "source": [
    "# Separating the predictors and response - THIS IS HOW ALL SKLEARN OBJECTS ACCEPT DATA (different from statsmodels)\n",
    "y = data.Outcome\n",
    "X = data.drop(\"Outcome\", axis = 1)"
   ]
  },
  {
   "cell_type": "markdown",
   "id": "de8a01aa",
   "metadata": {},
   "source": [
    "## Splitting data into `train` and `test`"
   ]
  },
  {
   "cell_type": "markdown",
   "id": "d2b49e86",
   "metadata": {},
   "source": [
    "Let us create train and test datasets for developing a model to predict if a person has diabetes."
   ]
  },
  {
   "cell_type": "code",
   "execution_count": 218,
   "id": "37f52dd1",
   "metadata": {},
   "outputs": [],
   "source": [
    "# Creating training and test data\n",
    "    # 80-20 split, which is usual - 70-30 split is also fine, 90-10 is fine if the dataset is large\n",
    "    # random_state to set a random seed for the splitting - reproducible results\n",
    "X_train, X_test, y_train, y_test = train_test_split(X, y, test_size = 0.2, random_state = 45)"
   ]
  },
  {
   "cell_type": "markdown",
   "id": "d006d1de",
   "metadata": {},
   "source": [
    "Let us find the proportion of classes (*'having diabetes' ($y = 1$) or 'not having diabetes' ($y = 0$)*) in the complete dataset."
   ]
  },
  {
   "cell_type": "code",
   "execution_count": 219,
   "id": "dd450eaa",
   "metadata": {},
   "outputs": [
    {
     "data": {
      "text/plain": [
       "0    0.651042\n",
       "1    0.348958\n",
       "Name: Outcome, dtype: float64"
      ]
     },
     "execution_count": 219,
     "metadata": {},
     "output_type": "execute_result"
    }
   ],
   "source": [
    "#Proportion of 0s and 1s in the complete data\n",
    "y.value_counts()/y.shape"
   ]
  },
  {
   "cell_type": "markdown",
   "id": "16b71156",
   "metadata": {},
   "source": [
    "Let us find the proportion of classes (*'having diabetes' ($y = 1$) or 'not having diabetes' ($y = 0$)*) in the train dataset."
   ]
  },
  {
   "cell_type": "code",
   "execution_count": 220,
   "id": "fc9d6558",
   "metadata": {},
   "outputs": [
    {
     "data": {
      "text/plain": [
       "0    0.644951\n",
       "1    0.355049\n",
       "Name: Outcome, dtype: float64"
      ]
     },
     "execution_count": 220,
     "metadata": {},
     "output_type": "execute_result"
    }
   ],
   "source": [
    "#Proportion of 0s and 1s in train data\n",
    "y_train.value_counts()/y_train.shape"
   ]
  },
  {
   "cell_type": "code",
   "execution_count": 221,
   "id": "54e31217",
   "metadata": {},
   "outputs": [
    {
     "data": {
      "text/plain": [
       "0    0.675325\n",
       "1    0.324675\n",
       "Name: Outcome, dtype: float64"
      ]
     },
     "execution_count": 221,
     "metadata": {},
     "output_type": "execute_result"
    }
   ],
   "source": [
    "#Proportion of 0s and 1s in test data\n",
    "y_test.value_counts()/y_test.shape"
   ]
  },
  {
   "cell_type": "markdown",
   "id": "b8e6d029",
   "metadata": {},
   "source": [
    "We observe that the proportion of 0s and 1s in the `train` and `test` dataset are slightly different from that in the complete `data`. In order for these datasets to be more representative of the population, they should have a proportion of 0s and 1s similar to that in the complete dataset. This is especially critical in case of imbalanced datasets, where one class is represented by a significantly smaller number of instances than the other(s).\n",
    "\n",
    "When training a classification model on an imbalanced dataset, the model might not learn enough about the minority class, which can lead to poor generalization performance on new data. This happens because the model is biased towards the majority class, and it might even predict all instances as belonging to the majority class."
   ]
  },
  {
   "cell_type": "markdown",
   "id": "4d09c1d9",
   "metadata": {},
   "source": [
    "### Stratified splitting"
   ]
  },
  {
   "cell_type": "markdown",
   "id": "0cdb2de4",
   "metadata": {},
   "source": [
    "We will use the argument `stratify` to obtain a proportion of 0s and 1s in the `train` and `test` datasets that is similar to the proportion in the complete `data."
   ]
  },
  {
   "cell_type": "code",
   "execution_count": 222,
   "id": "5ffde2d3",
   "metadata": {},
   "outputs": [],
   "source": [
    "#Stratified train-test split\n",
    "X_train_stratified, X_test_stratified, y_train_stratified,\\\n",
    "y_test_stratified = train_test_split(X, y, test_size = 0.2, random_state = 45, stratify=y)"
   ]
  },
  {
   "cell_type": "code",
   "execution_count": 223,
   "id": "0c3d624c",
   "metadata": {},
   "outputs": [
    {
     "data": {
      "text/plain": [
       "0    0.651466\n",
       "1    0.348534\n",
       "Name: Outcome, dtype: float64"
      ]
     },
     "execution_count": 223,
     "metadata": {},
     "output_type": "execute_result"
    }
   ],
   "source": [
    "#Proportion of 0s and 1s in train data with stratified split\n",
    "y_train_stratified.value_counts()/y_train.shape"
   ]
  },
  {
   "cell_type": "code",
   "execution_count": 224,
   "id": "5bed2fe7",
   "metadata": {},
   "outputs": [
    {
     "data": {
      "text/plain": [
       "0    0.649351\n",
       "1    0.350649\n",
       "Name: Outcome, dtype: float64"
      ]
     },
     "execution_count": 224,
     "metadata": {},
     "output_type": "execute_result"
    }
   ],
   "source": [
    "#Proportion of 0s and 1s in test data with stratified split\n",
    "y_test_stratified.value_counts()/y_test.shape"
   ]
  },
  {
   "cell_type": "markdown",
   "id": "7e9638bc",
   "metadata": {},
   "source": [
    "The proportion of the classes in the stratified split mimics the proportion in the complete dataset more closely."
   ]
  },
  {
   "cell_type": "markdown",
   "id": "d71ef826",
   "metadata": {},
   "source": [
    "By using stratified splitting, we ensure that both the `train` and `test` data sets have the same proportion of instances from each class, which means that the model will see enough instances from the minority class during training. This, in turn, helps the model learn to distinguish between the classes better, leading to better performance on new data.\n",
    "\n",
    "Thus, stratified splitting helps to ensure that the model sees enough instances from each class during training, which can improve the model's ability to generalize to new data, particularly in cases where one class is underrepresented in the dataset."
   ]
  },
  {
   "cell_type": "markdown",
   "id": "a347776d",
   "metadata": {},
   "source": [
    "Let us develop a logistic regression model for predicting if a person has diabetes."
   ]
  },
  {
   "cell_type": "markdown",
   "id": "7ff64088",
   "metadata": {},
   "source": [
    "## Scaling data"
   ]
  },
  {
   "cell_type": "markdown",
   "id": "de92b878",
   "metadata": {},
   "source": [
    "In certain models, it may be important to scale data for various reasons. In a logistic regression model, scaling can help with model convergence. Scikit-learn uses a method known as gradient-descent *(not in scope of the syllabus of this course)* to obtain a solution. In case the predictors have different orders of magnitude, the algorithm may fail to converge. In such cases, it is useful to standardize the predictors so that all of them are at the same scale."
   ]
  },
  {
   "cell_type": "code",
   "execution_count": 225,
   "id": "608e8269",
   "metadata": {},
   "outputs": [],
   "source": [
    "# With linear/logistic regression in scikit-learn, especially when the predictors have different orders \n",
    "# of magn., scaling is necessary. This is to enable the training algo. which we did not cover. (Gradient Descent)\n",
    "scaler = StandardScaler().fit(X_train)\n",
    "X_train_scaled = scaler.transform(X_train)\n",
    "X_test_scaled = scaler.transform(X_test) # Do NOT refit the scaler with the test data, just transform it."
   ]
  },
  {
   "cell_type": "markdown",
   "id": "7b0440db",
   "metadata": {},
   "source": [
    "## Fitting a model"
   ]
  },
  {
   "cell_type": "markdown",
   "id": "9fb02454",
   "metadata": {},
   "source": [
    "Let us fit a logistic regression model for predicting if a person has diabetes. Let us try fitting a model with the un-scaled data."
   ]
  },
  {
   "cell_type": "code",
   "execution_count": 226,
   "id": "33a0c14f",
   "metadata": {},
   "outputs": [
    {
     "name": "stderr",
     "output_type": "stream",
     "text": [
      "C:\\Users\\akl0407\\Anaconda3\\lib\\site-packages\\sklearn\\linear_model\\_logistic.py:763: ConvergenceWarning: lbfgs failed to converge (status=1):\n",
      "STOP: TOTAL NO. of ITERATIONS REACHED LIMIT.\n",
      "\n",
      "Increase the number of iterations (max_iter) or scale the data as shown in:\n",
      "    https://scikit-learn.org/stable/modules/preprocessing.html\n",
      "Please also refer to the documentation for alternative solver options:\n",
      "    https://scikit-learn.org/stable/modules/linear_model.html#logistic-regression\n",
      "  n_iter_i = _check_optimize_result(\n"
     ]
    },
    {
     "data": {
      "text/plain": [
       "LogisticRegression()"
      ]
     },
     "execution_count": 226,
     "metadata": {},
     "output_type": "execute_result"
    }
   ],
   "source": [
    "# Create a model object - not trained yet\n",
    "logreg = LogisticRegression()\n",
    "\n",
    "# Train the model\n",
    "logreg.fit(X_train, y_train)"
   ]
  },
  {
   "cell_type": "markdown",
   "id": "952beda2",
   "metadata": {},
   "source": [
    "Note that the model with the un-scaled predictors fails to converge. Check out the data `X_train` to see that this may be probably due to the predictors have different orders of magnitude. For example, the predictor `DiabetesPedigreeFunction` has values in \\[0.078, 2.42\\], while the predictor `Insulin` has values in \\[0, 800\\]."
   ]
  },
  {
   "cell_type": "markdown",
   "id": "4b37b86f",
   "metadata": {},
   "source": [
    "Let us fit the model to the scaled data."
   ]
  },
  {
   "cell_type": "code",
   "execution_count": 227,
   "id": "da94a876",
   "metadata": {},
   "outputs": [
    {
     "data": {
      "text/plain": [
       "LogisticRegression()"
      ]
     },
     "execution_count": 227,
     "metadata": {},
     "output_type": "execute_result"
    }
   ],
   "source": [
    "# Create a model - not trained yet\n",
    "logreg = LogisticRegression()\n",
    "\n",
    "# Train the model\n",
    "logreg.fit(X_train_scaled, y_train)"
   ]
  },
  {
   "cell_type": "markdown",
   "id": "e4faa93c",
   "metadata": {},
   "source": [
    "The model converges to a solution with the scaled data!"
   ]
  },
  {
   "cell_type": "markdown",
   "id": "7a38326b",
   "metadata": {},
   "source": [
    "The coefficients of the model can be returned with the `coef_` attribute of the `LogisticRegression()` object. However, the output is not as well formatted as in the case of the `statsmodels` library since `sklearn` is developed primarily for the purpose of prediction, and not inference."
   ]
  },
  {
   "cell_type": "code",
   "execution_count": 228,
   "id": "095efb22",
   "metadata": {},
   "outputs": [
    {
     "name": "stdout",
     "output_type": "stream",
     "text": [
      "[[ 0.32572891  1.20110566 -0.32046591  0.06849882 -0.21727131  0.72619528\n",
      "   0.40088897  0.29698818]]\n"
     ]
    }
   ],
   "source": [
    "# Use coef_ to return the coefficients - only log reg inference you can do with sklearn\n",
    "print(logreg.coef_) "
   ]
  },
  {
   "cell_type": "markdown",
   "id": "d80db553",
   "metadata": {},
   "source": [
    "## Computing performance metrics"
   ]
  },
  {
   "cell_type": "markdown",
   "id": "f37673d3",
   "metadata": {},
   "source": [
    "### Accuracy"
   ]
  },
  {
   "cell_type": "markdown",
   "id": "1b5df2a8",
   "metadata": {},
   "source": [
    "Let us test the model prediction accuracy on the test data. We'll demonstrate two different functions that can be used to compute model accuracy - `accuracy_score()`, and `score()`.\n",
    "\n",
    "The `accuracy_score()` function from the `metrics` module of the `sklearn` library is general, and can be used for any classification model. We'll use it along with the `predict()` method of the `LogisticRegression()` object, which returns the predicted class based on a threshold probability of 0.5."
   ]
  },
  {
   "cell_type": "code",
   "execution_count": 229,
   "id": "575c692e",
   "metadata": {},
   "outputs": [
    {
     "name": "stdout",
     "output_type": "stream",
     "text": [
      "73.37662337662337\n"
     ]
    }
   ],
   "source": [
    "# Get the predicted classes first\n",
    "y_pred = logreg.predict(X_test_scaled)\n",
    "\n",
    "# Use the predicted and true classes for accuracy\n",
    "print(accuracy_score(y_pred, y_test)*100) "
   ]
  },
  {
   "cell_type": "markdown",
   "id": "13cae758",
   "metadata": {},
   "source": [
    "The `score()` method of the `LogisticRegression()` object can be used to compute the accuracy only for a logistic regression model. Note that for a `LinearRegression()` object, the `score()` method will return the model $R$-squared."
   ]
  },
  {
   "cell_type": "code",
   "execution_count": 230,
   "id": "fac6e6d0",
   "metadata": {},
   "outputs": [
    {
     "name": "stdout",
     "output_type": "stream",
     "text": [
      "73.37662337662337\n"
     ]
    }
   ],
   "source": [
    "# Use .score with test predictors and response to get the accuracy\n",
    "# Implements the same thing under the hood\n",
    "print(logreg.score(X_test_scaled, y_test)*100)  "
   ]
  },
  {
   "cell_type": "markdown",
   "id": "641c2e08",
   "metadata": {},
   "source": [
    "### ROC-AUC"
   ]
  },
  {
   "cell_type": "markdown",
   "id": "09918462",
   "metadata": {},
   "source": [
    "The `roc_curve()` and `auc()` functions from the `metrics` module of the `sklearn` library can be used to compute the ROC-AUC, or the area under the ROC curve. Note that for computing ROC-AUC, we need the predicted probability, instead of the predicted class. Thus, we'll use the `predict_proba()` method of the `LogisticRegression()` object, which returns the predicted probability for the observation to belong to each of the classes, instead of using the `predict()` method, which returns the predicted class based on threshold probability of 0.5. "
   ]
  },
  {
   "cell_type": "code",
   "execution_count": 231,
   "id": "f2f14d2e",
   "metadata": {},
   "outputs": [
    {
     "name": "stdout",
     "output_type": "stream",
     "text": [
      "0.7923076923076922\n"
     ]
    }
   ],
   "source": [
    "#Computing the predicted probability for the observation to belong to the positive class (y=1);\n",
    "#The 2nd column in the output of predict_proba() consists of the probability of the observation to \n",
    "#belong to the positive class (y=1)\n",
    "y_pred_prob = logreg.predict_proba(X_test_scaled)[:,1] \n",
    "\n",
    "#Using the predicted probability computed above to find ROC-AUC\n",
    "fpr, tpr, auc_thresholds = roc_curve(y_test, y_pred_prob)\n",
    "print(auc(fpr, tpr))# AUC of ROC"
   ]
  },
  {
   "cell_type": "markdown",
   "id": "924230a0",
   "metadata": {},
   "source": [
    "### Confusion matrix & precision-recall"
   ]
  },
  {
   "cell_type": "markdown",
   "id": "dca6c40f",
   "metadata": {},
   "source": [
    "The `confusion_matrix()`, `precision_score()`, and `recall_score()` functions from the `metrics` module of the `sklearn` library can be used to compute the confusion matrix, precision, and recall respectively."
   ]
  },
  {
   "cell_type": "code",
   "execution_count": 232,
   "id": "ab54e161",
   "metadata": {},
   "outputs": [
    {
     "data": {
      "image/png": "[encoded data removed]",
      "text/plain": [
       "<Figure size 576x360 with 2 Axes>"
      ]
     },
     "metadata": {},
     "output_type": "display_data"
    }
   ],
   "source": [
    "#Confusion matrix\n",
    "cm = pd.DataFrame(confusion_matrix(y_test, y_pred), columns=['Predicted 0', 'Predicted 1'], \n",
    "            index = ['Actual 0', 'Actual 1'])\n",
    "sns.heatmap(cm, annot=True, cmap='Blues', fmt='g');"
   ]
  },
  {
   "cell_type": "code",
   "execution_count": 233,
   "id": "072c2779",
   "metadata": {},
   "outputs": [
    {
     "name": "stdout",
     "output_type": "stream",
     "text": [
      "Precision:  0.6046511627906976\n",
      "Recall:  0.52\n"
     ]
    }
   ],
   "source": [
    "print(\"Precision: \", precision_score(y_test, y_pred))\n",
    "print(\"Recall: \", recall_score(y_test, y_pred))"
   ]
  },
  {
   "cell_type": "markdown",
   "id": "40da4f26",
   "metadata": {},
   "source": [
    "Let us compute the performance metrics if we develop the model using stratified splitting."
   ]
  },
  {
   "cell_type": "code",
   "execution_count": 234,
   "id": "31a6f20c",
   "metadata": {},
   "outputs": [
    {
     "name": "stdout",
     "output_type": "stream",
     "text": [
      "Accuracy:  78.57142857142857\n",
      "ROC-AUC:  0.8505555555555556\n",
      "Precision:  0.7692307692307693\n",
      "Recall:  0.5555555555555556\n"
     ]
    },
    {
     "data": {
      "image/png": "[encoded data removed]",
      "text/plain": [
       "<Figure size 576x360 with 2 Axes>"
      ]
     },
     "metadata": {},
     "output_type": "display_data"
    }
   ],
   "source": [
    "# Developing the model with stratified splitting\n",
    "\n",
    "#Scaling data\n",
    "scaler = StandardScaler().fit(X_train_stratified)\n",
    "X_train_stratified_scaled = scaler.transform(X_train_stratified)\n",
    "X_test_stratified_scaled = scaler.transform(X_test_stratified) \n",
    "\n",
    "# Training the model\n",
    "logreg.fit(X_train_stratified_scaled, y_train_stratified)\n",
    "\n",
    "#Computing the accuracy\n",
    "y_pred_stratified = logreg.predict(X_test_stratified_scaled)\n",
    "print(\"Accuracy: \",accuracy_score(y_pred_stratified, y_test_stratified)*100)  \n",
    "\n",
    "#Computing the ROC-AUC\n",
    "y_pred_stratified_prob = logreg.predict_proba(X_test_stratified_scaled)[:,1]\n",
    "fpr, tpr, auc_thresholds = roc_curve(y_test_stratified, y_pred_stratified_prob)\n",
    "print(\"ROC-AUC: \",auc(fpr, tpr))# AUC of ROC\n",
    "\n",
    "#Computing the precision and recall\n",
    "print(\"Precision: \", precision_score(y_test_stratified, y_pred_stratified))\n",
    "print(\"Recall: \", recall_score(y_test_stratified, y_pred_stratified))\n",
    "\n",
    "#Confusion matrix\n",
    "cm = pd.DataFrame(confusion_matrix(y_test_stratified, y_pred_stratified), columns=['Predicted 0', 'Predicted 1'], \n",
    "            index = ['Actual 0', 'Actual 1'])\n",
    "sns.heatmap(cm, annot=True, cmap='Blues', fmt='g');"
   ]
  },
  {
   "cell_type": "markdown",
   "id": "26852be8",
   "metadata": {},
   "source": [
    "The model with the stratified train-test split has a better performance as compared to the other model on all the performance metrics!"
   ]
  },
  {
   "cell_type": "markdown",
   "id": "580970ea",
   "metadata": {},
   "source": [
    "## Tuning the model hyperparameters"
   ]
  },
  {
   "cell_type": "markdown",
   "id": "dfb768e3",
   "metadata": {},
   "source": [
    "A hyperparameter (among others) that can be trained in a logistic regression model is the regularization parameter."
   ]
  },
  {
   "cell_type": "markdown",
   "id": "b970bf79",
   "metadata": {},
   "source": [
    "We may also wish to tune the decision threhsold probability. Note that the decision threshold probability is not considered a hyperparameter of the model. Hyperparameters are model parameters that are set prior to training and cannot be directly adjusted by the model during training. Examples of hyperparameters in a logistic regression model include the regularization parameter, and the type of shrinkage penalty - lasso / ridge. These hyperparameters are typically optimized through a separate tuning process, such as cross-validation or grid search, before training the final model."
   ]
  },
  {
   "cell_type": "markdown",
   "id": "15f05faf",
   "metadata": {},
   "source": [
    "The performance metrics can be computed using a desired value of the threshold probability. Let us compute the performance metrics for a desired threshold probability of 0.3."
   ]
  },
  {
   "cell_type": "code",
   "execution_count": 235,
   "id": "35b92389",
   "metadata": {},
   "outputs": [
    {
     "name": "stdout",
     "output_type": "stream",
     "text": [
      "Accuracy:  75.32467532467533\n",
      "ROC-AUC:  0.8505555555555556\n",
      "Precision:  0.6111111111111112\n",
      "Recall:  0.8148148148148148\n"
     ]
    },
    {
     "data": {
      "image/png": "[encoded data removed]",
      "text/plain": [
       "<Figure size 576x360 with 2 Axes>"
      ]
     },
     "metadata": {},
     "output_type": "display_data"
    }
   ],
   "source": [
    "# Performance metrics computation for a desired threshold probability of 0.3\n",
    "desired_threshold = 0.3\n",
    "\n",
    "# Classifying observations in the positive class (y = 1) if the predicted probability is greater\n",
    "# than the desired decision threshold probability\n",
    "y_pred_desired_threshold = y_pred_stratified_prob > desired_threshold\n",
    "y_pred_desired_threshold = y_pred_desired_threshold.astype(int)\n",
    "\n",
    "#Computing the accuracy\n",
    "print(\"Accuracy: \",accuracy_score(y_pred_desired_threshold, y_test_stratified)*100)  \n",
    "\n",
    "#Computing the ROC-AUC\n",
    "fpr, tpr, auc_thresholds = roc_curve(y_test_stratified, y_pred_stratified_prob)\n",
    "print(\"ROC-AUC: \",auc(fpr, tpr))# AUC of ROC\n",
    "\n",
    "#Computing the precision and recall\n",
    "print(\"Precision: \", precision_score(y_test_stratified, y_pred_desired_threshold))\n",
    "print(\"Recall: \", recall_score(y_test_stratified, y_pred_desired_threshold))\n",
    "\n",
    "#Confusion matrix\n",
    "cm = pd.DataFrame(confusion_matrix(y_test_stratified, y_pred_desired_threshold), \n",
    "                  columns=['Predicted 0', 'Predicted 1'], index = ['Actual 0', 'Actual 1'])\n",
    "sns.heatmap(cm, annot=True, cmap='Blues', fmt='g');"
   ]
  },
  {
   "cell_type": "markdown",
   "id": "f529834a",
   "metadata": {},
   "source": [
    "### Tuning decision threshold probability"
   ]
  },
  {
   "cell_type": "markdown",
   "id": "44894711",
   "metadata": {},
   "source": [
    "Suppose we wish to find the optimal decision threshold probability to maximize accuracy. Note that we cannot use the test dataset to optimize model hyperparameters, as that may lead to overfitting on the test data. We'll use $K$-fold cross validation on train data to find the optimal decision threshold probability."
   ]
  },
  {
   "cell_type": "markdown",
   "id": "c8123d3e",
   "metadata": {},
   "source": [
    "We'll use the `cross_val_predict()` function from the `model_selection` module of `sklearn` to compute the $K$-fold cross validated predicted probabilities. Note that this function simplifies the task of manually creating the $K$-folds, training the model $K$-times, and computing the predicted probabilities on each of the $K$-folds. Thereafter, the predicted probabilities will be used to find the one the optimal threshold probability that maximizes the classification accuracy."
   ]
  },
  {
   "cell_type": "code",
   "execution_count": 236,
   "id": "a47f36d4",
   "metadata": {},
   "outputs": [],
   "source": [
    "hyperparam_vals = np.arange(0,1.01,0.01)\n",
    "accuracy_iter = []\n",
    "\n",
    "predicted_probability = cross_val_predict(LogisticRegression(), X_train_stratified_scaled, \n",
    "                                              y_train_stratified, cv = 5, method = 'predict_proba')\n",
    "\n",
    "for threshold_prob in hyperparam_vals:\n",
    "    predicted_class = predicted_probability[:,1] > threshold_prob\n",
    "    predicted_class = predicted_class.astype(int)\n",
    "\n",
    "    #Computing the accuracy\n",
    "    accuracy = accuracy_score(predicted_class, y_train_stratified)*100\n",
    "    accuracy_iter.append(accuracy)"
   ]
  },
  {
   "cell_type": "markdown",
   "id": "6e2a2ca8",
   "metadata": {},
   "source": [
    "Let us visualize the accuracy with change in decision threshold probability."
   ]
  },
  {
   "cell_type": "code",
   "execution_count": 237,
   "id": "3117e69e",
   "metadata": {},
   "outputs": [
    {
     "data": {
      "image/png": "[encoded data removed]",
      "text/plain": [
       "<Figure size 576x360 with 1 Axes>"
      ]
     },
     "metadata": {},
     "output_type": "display_data"
    }
   ],
   "source": [
    "# Accuracy vs decision threshold probability\n",
    "sns.scatterplot(x = hyperparam_vals, y = accuracy_iter)\n",
    "plt.xlabel('Decision threshold probability')\n",
    "plt.ylabel('Average 5-fold CV accuracy');"
   ]
  },
  {
   "cell_type": "markdown",
   "id": "4d4029f7",
   "metadata": {},
   "source": [
    "The optimal decision threshold probability is the one that maximizes the $K$-fold cross validation accuracy."
   ]
  },
  {
   "cell_type": "code",
   "execution_count": 238,
   "id": "429fcd87",
   "metadata": {},
   "outputs": [
    {
     "data": {
      "text/plain": [
       "0.46"
      ]
     },
     "execution_count": 238,
     "metadata": {},
     "output_type": "execute_result"
    }
   ],
   "source": [
    "# Optimal decision threshold probability\n",
    "hyperparam_vals[accuracy_iter.index(max(accuracy_iter))]"
   ]
  },
  {
   "cell_type": "code",
   "execution_count": 239,
   "id": "acf78847",
   "metadata": {},
   "outputs": [
    {
     "name": "stdout",
     "output_type": "stream",
     "text": [
      "Accuracy:  79.87012987012987\n",
      "ROC-AUC:  0.8505555555555556\n",
      "Precision:  0.7804878048780488\n",
      "Recall:  0.5925925925925926\n"
     ]
    },
    {
     "data": {
      "image/png": "[encoded data removed]",
      "text/plain": [
       "<Figure size 576x360 with 2 Axes>"
      ]
     },
     "metadata": {},
     "output_type": "display_data"
    }
   ],
   "source": [
    "# Performance metrics computation for the optimum decision threshold probability\n",
    "desired_threshold = 0.46\n",
    "\n",
    "# Classifying observations in the positive class (y = 1) if the predicted probability is greater\n",
    "# than the desired decision threshold probability\n",
    "y_pred_desired_threshold = y_pred_stratified_prob > desired_threshold\n",
    "y_pred_desired_threshold = y_pred_desired_threshold.astype(int)\n",
    "\n",
    "#Computing the accuracy\n",
    "print(\"Accuracy: \",accuracy_score(y_pred_desired_threshold, y_test_stratified)*100)  \n",
    "\n",
    "#Computing the ROC-AUC\n",
    "fpr, tpr, auc_thresholds = roc_curve(y_test_stratified, y_pred_stratified_prob)\n",
    "print(\"ROC-AUC: \",auc(fpr, tpr))# AUC of ROC\n",
    "\n",
    "#Computing the precision and recall\n",
    "print(\"Precision: \", precision_score(y_test_stratified, y_pred_desired_threshold))\n",
    "print(\"Recall: \", recall_score(y_test_stratified, y_pred_desired_threshold))\n",
    "\n",
    "#Confusion matrix\n",
    "cm = pd.DataFrame(confusion_matrix(y_test_stratified, y_pred_desired_threshold), \n",
    "                  columns=['Predicted 0', 'Predicted 1'], index = ['Actual 0', 'Actual 1'])\n",
    "sns.heatmap(cm, annot=True, cmap='Blues', fmt='g');"
   ]
  },
  {
   "cell_type": "markdown",
   "id": "851568b1",
   "metadata": {},
   "source": [
    "Model performance on test data has improved with the optimal decision threshold probability."
   ]
  },
  {
   "cell_type": "markdown",
   "id": "6869e03f",
   "metadata": {},
   "source": [
    "### Tuning the regularization parameter"
   ]
  },
  {
   "cell_type": "markdown",
   "id": "48f8b90e",
   "metadata": {},
   "source": [
    "The `LogisticRegression()` method has a default *L2* regularization penalty, which means ridge regression.`C` is $1/\\lambda$, where $\\lambda$ is the hyperparameter that is multiplied with the ridge penalty. `C` is 1 by default."
   ]
  },
  {
   "cell_type": "code",
   "execution_count": 240,
   "id": "740426a8",
   "metadata": {},
   "outputs": [],
   "source": [
    "accuracy_iter = []\n",
    "hyperparam_vals = 10**np.linspace(-3.5, 1)\n",
    "\n",
    "for c_val in hyperparam_vals: # For each possible C value in your grid\n",
    "    logreg_model = LogisticRegression(C=c_val) # Create a model with the C value\n",
    "    \n",
    "    accuracy_iter.append(cross_val_score(logreg_model, X_train_stratified_scaled, y_train_stratified,\n",
    "                                      scoring='accuracy', cv=5)) # Find the cv results"
   ]
  },
  {
   "cell_type": "code",
   "execution_count": 241,
   "id": "d7fbfba8",
   "metadata": {},
   "outputs": [
    {
     "data": {
      "image/png": "[encoded data removed]",
      "text/plain": [
       "<Figure size 576x360 with 1 Axes>"
      ]
     },
     "metadata": {},
     "output_type": "display_data"
    }
   ],
   "source": [
    "plt.plot(hyperparam_vals, np.mean(np.array(accuracy_iter), axis=1))\n",
    "plt.xlabel('C')\n",
    "plt.ylabel('Average 5-fold CV accuracy')\n",
    "plt.xscale('log')\n",
    "plt.show()"
   ]
  },
  {
   "cell_type": "code",
   "execution_count": 242,
   "id": "277a4823",
   "metadata": {},
   "outputs": [
    {
     "data": {
      "text/plain": [
       "0.11787686347935879"
      ]
     },
     "execution_count": 242,
     "metadata": {},
     "output_type": "execute_result"
    }
   ],
   "source": [
    "# Optimal value of the regularization parameter 'C'\n",
    "optimal_C = hyperparam_vals[np.argmax(np.array(accuracy_iter).mean(axis=1))]\n",
    "optimal_C"
   ]
  },
  {
   "cell_type": "code",
   "execution_count": 243,
   "id": "85b214e0",
   "metadata": {},
   "outputs": [
    {
     "name": "stdout",
     "output_type": "stream",
     "text": [
      "Accuracy:  78.57142857142857\n",
      "ROC-AUC:  0.8516666666666666\n",
      "Precision:  0.7837837837837838\n",
      "Recall:  0.5370370370370371\n"
     ]
    },
    {
     "data": {
      "image/png": "[encoded data removed]",
      "text/plain": [
       "<Figure size 576x360 with 2 Axes>"
      ]
     },
     "metadata": {},
     "output_type": "display_data"
    }
   ],
   "source": [
    "# Developing the model with stratified splitting and optimal 'C'\n",
    "\n",
    "#Scaling data\n",
    "scaler = StandardScaler().fit(X_train_stratified)\n",
    "X_train_stratified_scaled = scaler.transform(X_train_stratified)\n",
    "X_test_stratified_scaled = scaler.transform(X_test_stratified) \n",
    "\n",
    "# Training the model\n",
    "logreg = LogisticRegression(C = optimal_C)\n",
    "logreg.fit(X_train_stratified_scaled, y_train_stratified)\n",
    "\n",
    "#Computing the accuracy\n",
    "y_pred_stratified = logreg.predict(X_test_stratified_scaled)\n",
    "print(\"Accuracy: \",accuracy_score(y_pred_stratified, y_test_stratified)*100)  \n",
    "\n",
    "#Computing the ROC-AUC\n",
    "y_pred_stratified_prob = logreg.predict_proba(X_test_stratified_scaled)[:,1]\n",
    "fpr, tpr, auc_thresholds = roc_curve(y_test_stratified, y_pred_stratified_prob)\n",
    "print(\"ROC-AUC: \",auc(fpr, tpr))# AUC of ROC\n",
    "\n",
    "#Computing the precision and recall\n",
    "print(\"Precision: \", precision_score(y_test_stratified, y_pred_stratified))\n",
    "print(\"Recall: \", recall_score(y_test_stratified, y_pred_stratified))\n",
    "\n",
    "#Confusion matrix\n",
    "cm = pd.DataFrame(confusion_matrix(y_test_stratified, y_pred_stratified), columns=['Predicted 0', 'Predicted 1'], \n",
    "            index = ['Actual 0', 'Actual 1'])\n",
    "sns.heatmap(cm, annot=True, cmap='Blues', fmt='g');"
   ]
  },
  {
   "cell_type": "markdown",
   "id": "c2ed00d7",
   "metadata": {},
   "source": [
    "### Tuning the decision threshold probability and the regularization parameter simultaneously"
   ]
  },
  {
   "cell_type": "code",
   "execution_count": 244,
   "id": "3e18ffe9",
   "metadata": {},
   "outputs": [],
   "source": [
    "threshold_hyperparam_vals = np.arange(0,1.01,0.01)\n",
    "C_hyperparam_vals = 10**np.linspace(-3.5, 1)\n",
    "accuracy_iter = []\n",
    "\n",
    "for c_val in C_hyperparam_vals:\n",
    "    predicted_probability = cross_val_predict(LogisticRegression(C = c_val), X_train_stratified_scaled, \n",
    "                                                  y_train_stratified, cv = 5, method = 'predict_proba')\n",
    "\n",
    "    for threshold_prob in threshold_hyperparam_vals:\n",
    "        predicted_class = predicted_probability[:,1] > threshold_prob\n",
    "        predicted_class = predicted_class.astype(int)\n",
    "\n",
    "        #Computing the accuracy\n",
    "        accuracy = accuracy_score(predicted_class, y_train_stratified)*100\n",
    "        accuracy_iter.append(accuracy)"
   ]
  },
  {
   "cell_type": "code",
   "execution_count": 245,
   "id": "6dfdc49a",
   "metadata": {},
   "outputs": [
    {
     "name": "stdout",
     "output_type": "stream",
     "text": [
      "Optimal decision threshold =  0.46\n",
      "Optimal C =  2.2758459260747887\n"
     ]
    }
   ],
   "source": [
    "max_acc_iter = np.argmax(accuracy_iter)\n",
    "\n",
    "#Optimal decision threshold probability\n",
    "optimal_threshold = threshold_hyperparam_vals[max_acc_iter%len(threshold_hyperparam_vals)]\n",
    "print(\"Optimal decision threshold = \", optimal_threshold)\n",
    "\n",
    "#Optimal C\n",
    "optimal_C = C_hyperparam_vals[int(max_acc_iter/len(threshold_hyperparam_vals))]\n",
    "print(\"Optimal C = \", optimal_C)"
   ]
  },
  {
   "cell_type": "code",
   "execution_count": 246,
   "id": "b095362b",
   "metadata": {},
   "outputs": [
    {
     "name": "stdout",
     "output_type": "stream",
     "text": [
      "Accuracy:  79.87012987012987\n",
      "ROC-AUC:  0.8507407407407408\n",
      "Precision:  0.7804878048780488\n",
      "Recall:  0.5925925925925926\n"
     ]
    },
    {
     "data": {
      "image/png": "[encoded data removed]",
      "text/plain": [
       "<Figure size 576x360 with 2 Axes>"
      ]
     },
     "metadata": {},
     "output_type": "display_data"
    }
   ],
   "source": [
    "# Developing the model with stratified splitting, optimal decision threshold probability, and optimal 'C'\n",
    "\n",
    "#Scaling data\n",
    "scaler = StandardScaler().fit(X_train_stratified)\n",
    "X_train_stratified_scaled = scaler.transform(X_train_stratified)\n",
    "X_test_stratified_scaled = scaler.transform(X_test_stratified) \n",
    "\n",
    "# Training the model\n",
    "logreg = LogisticRegression(C = optimal_C)\n",
    "logreg.fit(X_train_stratified_scaled, y_train_stratified)\n",
    "\n",
    "# Performance metrics computation for the optimal threshold probability\n",
    "y_pred_stratified_prob = logreg.predict_proba(X_test_stratified_scaled)[:,1]\n",
    "\n",
    "# Classifying observations in the positive class (y = 1) if the predicted probability is greater\n",
    "# than the desired decision threshold probability\n",
    "y_pred_desired_threshold = y_pred_stratified_prob > optimal_threshold\n",
    "y_pred_desired_threshold = y_pred_desired_threshold.astype(int)\n",
    "\n",
    "#Computing the accuracy\n",
    "print(\"Accuracy: \",accuracy_score(y_pred_desired_threshold, y_test_stratified)*100)  \n",
    "\n",
    "#Computing the ROC-AUC\n",
    "fpr, tpr, auc_thresholds = roc_curve(y_test_stratified, y_pred_stratified_prob)\n",
    "print(\"ROC-AUC: \",auc(fpr, tpr))# AUC of ROC\n",
    "\n",
    "#Computing the precision and recall\n",
    "print(\"Precision: \", precision_score(y_test_stratified, y_pred_desired_threshold))\n",
    "print(\"Recall: \", recall_score(y_test_stratified, y_pred_desired_threshold))\n",
    "\n",
    "#Confusion matrix\n",
    "cm = pd.DataFrame(confusion_matrix(y_test_stratified, y_pred_desired_threshold), columns=['Predicted 0', 'Predicted 1'], \n",
    "            index = ['Actual 0', 'Actual 1'])\n",
    "sns.heatmap(cm, annot=True, cmap='Blues', fmt='g');"
   ]
  },
  {
   "cell_type": "markdown",
   "id": "5df4341b",
   "metadata": {},
   "source": [
    "Later in the course, we'll see the `sklearn` function `GridSearchCV`, which is used to optimize several model hyperparameters simultaneously with $K$-fold cross validation, while avoiding `for` loops."
   ]
  }
 ],
 "metadata": {
  "kernelspec": {
   "display_name": "Python 3",
   "language": "python",
   "name": "python3"
  },
  "language_info": {
   "codemirror_mode": {
    "name": "ipython",
    "version": 3
   },
   "file_extension": ".py",
   "mimetype": "text/x-python",
   "name": "python",
   "nbconvert_exporter": "python",
   "pygments_lexer": "ipython3",
   "version": "3.8.8"
  }
 },
 "nbformat": 4,
 "nbformat_minor": 5
}
