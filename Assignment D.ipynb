{
 "cells": [
  {
   "cell_type": "raw",
   "id": "0bccef91",
   "metadata": {},
   "source": [
    "---\n",
    "title: \"Assignment D\"\n",
    "format: \n",
    "  html:\n",
    "    toc: true\n",
    "    toc-title: Contents\n",
    "    toc-depth: 4\n",
    "    code-fold: show\n",
    "    self-contained: true\n",
    "    html-math-method: mathml \n",
    "jupyter: python3\n",
    "---"
   ]
  },
  {
   "cell_type": "markdown",
   "id": "43350378",
   "metadata": {},
   "source": [
    "## Instructions {-}\n",
    "\n",
    "1. You may talk to a friend, discuss the questions and potential directions for solving them. However, you need to write your own solutions and code separately, and not as a group activity. \n",
    "\n",
    "2. Do not write your name on the assignment.\n",
    "\n",
    "3. Write your code in the *Code* cells and your answer in the *Markdown* cells of the Jupyter notebook. Ensure that the solution is written neatly enough to understand and grade.\n",
    "\n",
    "4. Use [Quarto](https://quarto.org/docs/output-formats/html-basics.html) to print the *.ipynb* file as HTML. You will need to open the command prompt, navigate to the directory containing the file, and use the command: `quarto render filename.ipynb --to html`. Submit the HTML file.\n",
    "\n",
    "5. The assignment is worth 100 points, and is due on **Tuesday, 21st February 2023 at 11:59 pm**. \n",
    "\n",
    "6. **Five points are properly formatting the assignment**. The breakdown is as follows:\n",
    "- Must be an HTML file rendered using Quarto (1 pt). *If you have a Quarto issue, you must mention the issue & quote the error you get when rendering using Quarto in the comments section of Canvas, and submit the ipynb file.* \n",
    "- No name can be written on the assignment, nor can there be any indicator of the student’s identity—e.g. printouts of the working directory should not be included in the final submission  (1 pt)\n",
    "- There aren’t excessively long outputs of extraneous information (e.g. no printouts of entire data frames without good reason, there aren’t long printouts of which iteration a loop is on, there aren’t long sections of commented-out code, etc.) (1 pt)\n",
    "- Final answers of each question are written in Markdown cells (1 pt).\n",
    "- There is no piece of unnecessary / redundant code, and no unnecessary / redundant text (1 pt)"
   ]
  },
  {
   "cell_type": "markdown",
   "id": "7e3e5be7",
   "metadata": {},
   "source": [
    "## Data description {-}\n",
    "The data is related with direct marketing campaigns of a Portuguese banking institution. The marketing campaigns were based on phone calls, where bank clients were called to subscribe for a term deposit. \n",
    "\n",
    "There is one train data - *train.csv*, which you will use to develop a model. There are two test datasets - *test1.csv* and *test2.csv*, which you will use to test your model. Each dataset has the following attributes about the clients called in the marketing campaign:\n",
    "\n",
    "1. `age`: Age of the client\n",
    "\n",
    "2. `education`: Education level of the client \n",
    "\n",
    "3. `day`: Day of the month the call is made\n",
    "\n",
    "4. `month`: Month of the call \n",
    "\n",
    "5. `y`: did the client subscribe to a term deposit? \n",
    "\n",
    "6. `duration`: Call duration, in seconds. This attribute highly affects the output target (e.g., if duration=0 then y='no'). Yet, the `duration` is not known before a call is performed. Also, after the end of the call `y` is obviously known. Thus, this input should only be included for inference purposes and should be discarded if the intention is to have a realistic predictive model.\n",
    "\n",
    "(Raw data source: [Source](https://archive.ics.uci.edu/ml/datasets/bank+marketing). Do not use the raw data source for this assingment. It is just for reference.)\n",
    "\n",
    "## Instructions / suggestions for answering questions{-} \n",
    "\n",
    "(1) **Instruction:** Use *train.csv* for all questions, unless otherwise stated.\n",
    "\n",
    "(2) **Suggestion 1:** You may use the functions in the class notes for printing the confusion matrix and the overall classification accuracy based on test / train data. \n",
    "\n",
    "(3) **Suggestion 2:**: If you make variable transformations, you will need to do it for all the three datasets. Your code will be a bit concise if you make a function containing all the transformations, and then call it for the training and the two test datasets. You can put this function in the beginning of the code and keep adding transformations to it as you proceed with the assignment. You may need transformations in questions (1) and (13)."
   ]
  },
  {
   "cell_type": "markdown",
   "id": "fda43267",
   "metadata": {},
   "source": [
    "## Probability of response vs call duration\n",
    "Read the datasets. Make an appropriate visualization to visualize how the proportion of clients subscribing to a term deposit change with increasing call duration.\n",
    "\n",
    "*(4 points)*\n",
    "\n",
    "**Hints**: \n",
    "\n",
    "1.  Bin `duration` to create `duration_binned`. Group the data to find the fraction of clients responding positively to the marketing campaign for each bin in `duration_binned`. Make a lineplot of percentage of clients subscribing to a term deposit vs `duration_binned`, where the bins in `duration_binned` are arranged in increasing order of duration. \n",
    "\n",
    "2. You may choose an appropriate number of bins & type of binning that helps you visualize well. \n",
    "\n",
    "3. You may also think of other ways of visualization. You don't need to stick with this one."
   ]
  },
  {
   "cell_type": "markdown",
   "id": "2c9df185",
   "metadata": {},
   "source": [
    "## Predictor `duration`\n",
    "Based on the plot in D.1, comment whether `duration` seems to be a useful variable to predict if the client will subscribe to a term deposit.\n",
    "\n",
    "*(1 point)*"
   ]
  },
  {
   "cell_type": "markdown",
   "id": "3023b928",
   "metadata": {},
   "source": [
    "## Model based on `duration`\n",
    "Develop a logistic regression model to predict if the client subscribed to a term deposit based on call `duration`. Use the model to make a lineplot showing the probability of the client subscribing to a term deposit based on call `duration`.\n",
    "\n",
    "*(3 points)*"
   ]
  },
  {
   "cell_type": "markdown",
   "id": "9861dff4",
   "metadata": {},
   "source": [
    "## Note {-} \n",
    "Answer questions D.4 to D.11 based on the regression model developed in D.3."
   ]
  },
  {
   "cell_type": "markdown",
   "id": "109d49aa",
   "metadata": {},
   "source": [
    "## Model significance\n",
    "Is the regression model in statistically significant? Justify your answer.\n",
    "\n",
    "*(1 point for code, 1 point for answer)*"
   ]
  },
  {
   "cell_type": "markdown",
   "id": "b9b8c686",
   "metadata": {},
   "source": [
    "## Subscription probability in 5 minutes\n",
    "What is the probability that the client subscribes to a term deposit with a 5-minute marketing call? Note that the call `duration` in data is given in *seconds*.\n",
    "\n",
    "*(2 points)*"
   ]
  },
  {
   "cell_type": "markdown",
   "id": "e5cb7106",
   "metadata": {},
   "source": [
    "## Call duration for subscription\n",
    "What is the minimum call duration (in minutes) for which a client has a 95% or higher chance of subscribing to a term deposit?\n",
    "\n",
    "*(4 points)*"
   ]
  },
  {
   "cell_type": "markdown",
   "id": "ba30e2fb",
   "metadata": {},
   "source": [
    "## Maximum call duration\n",
    "What is the maximum call duration (in minutes) in which a client refused to subscribe to a term deposit? What was the probability of the client subscribing to the term deposit in that call?\n",
    "\n",
    "*(4 points)*"
   ]
  },
  {
   "cell_type": "markdown",
   "id": "1fa1dc4f",
   "metadata": {},
   "source": [
    "## Percent increase in odds\n",
    "What is the percentage increase in the odds of a client subscribing to a term deposit when the call `duration` increases by a minute?\n",
    "\n",
    "*(4 points)*"
   ]
  },
  {
   "cell_type": "markdown",
   "id": "fbb11727",
   "metadata": {},
   "source": [
    "## Doubling the subscription odds\n",
    "How much must the call `duration` increase (in minutes) so that it doubles the odds of the client subscribing to a term deposit.\n",
    "\n",
    "*(3 points)*"
   ]
  },
  {
   "cell_type": "markdown",
   "id": "ee632338",
   "metadata": {},
   "source": [
    "## Classification accuracy\n",
    "What is minimum overall classification accuracy of the model among the classification accuracies on *train.csv*, *test1.csv* and *test2.csv*? Consider a threshold of 30% when classifying observations.\n",
    "\n",
    "*(2 + 1 + 1 points)*"
   ]
  },
  {
   "cell_type": "markdown",
   "id": "c508c38d",
   "metadata": {},
   "source": [
    "## Recall\n",
    "What is the minimum *Recall* of the model among the *Recall* performance on *train.csv*, *test1.csv* and *test2.csv*? Consider a decision threshold probability of 30% when classifying observations. \n",
    "\n",
    "Here, *Recall* is the proportion of clients predicted to subscribe to a term deposit among those who actually subscribed.\n",
    "\n",
    "*(3 points)*"
   ]
  },
  {
   "cell_type": "markdown",
   "id": "f9e3f7ac",
   "metadata": {},
   "source": [
    "## Subscription probability based on `age` and `education`\n",
    "Develop a logistic regression model to predict the probability of a client subscribing to a term deposit based on `age`, `education` and the two-factor interaction between `age` and `education`. Based on the model, answer:\n",
    "\n",
    "a. People with which type of `education` *(primary / secondary / tertiary / unknown)* have the highest percentage increase in odds of subscribing to a term deposit with a unit increase in `age`? Justify your answer. \n",
    "\n",
    "b. What is the percentage increase in odds of a person subscribing to a term deposit for a unit increase in `age`, if the person has *tertiary* `education`. \n",
    "\n",
    "c. What is the percentage increase in odds of a person subscribing to a term deposit for a unit increase in `age`, if the person has *primary* `education`.\n",
    "\n",
    "*(1 point for developing the model, 3 points for (a), 3 points for (b), 3 points for (c))*"
   ]
  },
  {
   "cell_type": "markdown",
   "id": "d7ca9694",
   "metadata": {},
   "source": [
    "## Model development\n",
    "Develop a logistic regression model *(using train.csv)* to predict the probability of a client subscribing to a term deposit based on `age`, `education`, `day` and `month`. The model must have: \n",
    "\n",
    "a.  Minimum overall classification accuracy of 75% among the classification accuracies on *train.csv*, *test1.csv* and *test2.csv*. \n",
    "\n",
    "b. Minimum recall of 50% among the recall performance on *train.csv*, *test1.csv* and *test2.csv*. \n",
    "\n",
    "For all the three datasets - *train.csv*, *test1.csv* and *test2.csv*, print the: \n",
    "\n",
    "1. Model summary (only for *train.csv*), \n",
    "\n",
    "2. Confusion matrices,\n",
    "\n",
    "3. Overall classification accuracies, and\n",
    "\n",
    "4. Recall\n",
    "\n",
    "\n",
    "\n",
    "Note that: \n",
    "\n",
    "1. You cannot use `duration` as a predictor because its value is determined after the marketing call ends. However, after the call ends, we already know whether the client responded positively or negatively. That is why we have used `duration` only for inference in the previous questions. It helped us understand the effect of the length of the call on marketing success. \n",
    "\n",
    "2. It is possible to develop the model satisfying constrains (a) and (b) with just appropriate transformation(s) of the predictor(s). However, you may consider interactions if you wish. Justify the transformations, if any, with visualizations.\n",
    "\n",
    "3. You are free to choose any value of the decision threshold probability for classifying observations. However, you must use the same threshold on all the three datasets.\n",
    "\n",
    "*(15 points)*"
   ]
  },
  {
   "cell_type": "markdown",
   "id": "16946828",
   "metadata": {},
   "source": [
    "## ROC-AUC\n",
    "Report the probability that the model will predict a higher probability of response for a customer who signs up for the\n",
    "term deposit as compared to the customer who does not sign up, i.e., the ROC-AUC of the developed model in D.13.\n",
    "\n",
    "*Hint:* Use the functions `roc_curve`, and `auc` from the `sklearn.metrics` module\n",
    "\n",
    "*(3 points)*"
   ]
  },
  {
   "cell_type": "markdown",
   "id": "ed2b3d15",
   "metadata": {},
   "source": [
    "## Net-profit\n",
    "Suppose that the model developed in D.13 is used to predict the clients in *test1.csv* and *test2.csv* who will respond positively to the campaign. Only those clients who are predicted to respond positively are called during the marketing campaign. Assume that:\n",
    "\n",
    "1. A profit of \\\\$100 is associated with a client who responds positively to the campaign,\n",
    "\n",
    "2. A loss of \\\\$10 is associated with a client who responds negatively to the campaign\n",
    "\n",
    "What is the net profit from the campaign? Use the confusion matrices printed in D.13.\n",
    "\n",
    "*(4 points)*"
   ]
  },
  {
   "cell_type": "markdown",
   "id": "c967974d",
   "metadata": {},
   "source": [
    "## Decision threshold probability\n",
    "Based on the profit and loss associated with client responses specified in D.15, and the model developed in D.13, find the decision threshold probability of classification, such that the net profit is maximized. Use *train.csv*\n",
    "\n",
    "Proceed as follows:\n",
    "\n",
    "1. You would have obtained FPR and TPR for all potential decision threshold probabilities in D.14. \n",
    "\n",
    "2. Formulate an expression quantifying the net profit per client, in terms of FPR, TPR, and the overall response rate, i.e., proportion of people actually subscribing to the term deposit.\n",
    "\n",
    "3. Find the decision threshold probability that maximizes the expression in (2).\n",
    "\n",
    "*(5 points)*"
   ]
  },
  {
   "cell_type": "markdown",
   "id": "855d61d9",
   "metadata": {},
   "source": [
    "## Net profit based on new decision threshold probability\n",
    "Using the new decision threshold probability obtained in D.16, answer D.15, i.e., what is the net-profit associated with the clients in *test1.csv* and *test2.csv* if a marketing campaign is performed. Again, only those clients who are predicted to respond positively, based on the new decision threshold probability, are called during the marketing campaign\n",
    "\n",
    "Also, print the confusion matrices for predictions on *test1.csv* and *test2.csv* with the new threshold probability.\n",
    "\n",
    "*(4 points)*"
   ]
  },
  {
   "cell_type": "markdown",
   "id": "320106b6",
   "metadata": {},
   "source": [
    "## Model preference\n",
    "Was the classification accuracy of the model in D.13 higher than that of the model in D.17? If yes, then should you prefer the model in D.13 for the marketing campaign? Why or why not?\n",
    "\n",
    "*Note: The model in D.17 is the same as in D.13, except with a different decision threshold probability*\n",
    "\n",
    "*(3 points)*"
   ]
  },
  {
   "cell_type": "markdown",
   "id": "e1037e0e",
   "metadata": {},
   "source": [
    "## ROC curve\n",
    "Plot the ROC curve for the model developed in D.13. Mark the point on the curve corresponding to the decision threshold probability identified in D.16.\n",
    "\n",
    "*Note that the ROC curve is independent of the decision threshold probability used by the model for prediction*\n",
    "\n",
    "*(3 points)*"
   ]
  },
  {
   "cell_type": "markdown",
   "id": "57b56f05",
   "metadata": {},
   "source": [
    "## Profit with TPR / FPR\n",
    "\n",
    "Make a scatterplot of TPR vs FPR, and color the points based on net profit per client.\n",
    "\n",
    "You can use the following code to make the plot if you have the relevant metrics in `tpr`, `fpr`, and `net_profit`\n",
    "\n",
    "*(1 point)*"
   ]
  },
  {
   "cell_type": "code",
   "execution_count": null,
   "id": "7308196d",
   "metadata": {},
   "outputs": [],
   "source": [
    "#| eval: false\n",
    "import matplotlib.pyplot as plt\n",
    "import seaborn as sns\n",
    "sns.set(font_scale=1.5)\n",
    "plt.rcParams[\"figure.figsize\"] = (9,6)\n",
    "plt.rcParams[\"figure.autolayout\"] = True\n",
    "f, ax = plt.subplots()\n",
    "points = ax.scatter(fpr, tpr, c = net_profit, s=50, cmap=\"Blues\")\n",
    "f.colorbar(points, label = \"Net profit ($) \\n(per client)\")\n",
    "plt.xlabel(\"False positive rate\")\n",
    "plt.ylabel(\"True positive rate\")\n",
    "plt.show()"
   ]
  },
  {
   "cell_type": "markdown",
   "id": "76cd37ef",
   "metadata": {},
   "source": [
    "## Precision-recall\n",
    "Compare the precision and recall of the models in D.13 and D.17 on *train.csv*.\n",
    "\n",
    "*Note: The model in D.17 is the same as in D.13, except with a different decision threshold probability*\n",
    "\n",
    "*(4 points)*"
   ]
  },
  {
   "cell_type": "markdown",
   "id": "4c64cf57",
   "metadata": {},
   "source": [
    "## Precision-recall: important metric\n",
    "Based on the above comparison, which metric among precision and recall turns out to be more important for maximizing the net profit in the marketing campaign?"
   ]
  },
  {
   "cell_type": "markdown",
   "id": "b31a17e6",
   "metadata": {},
   "source": [
    "*(1 point)*"
   ]
  },
  {
   "cell_type": "markdown",
   "id": "c0df90b7",
   "metadata": {},
   "source": [
    "## Precision-recall curve\n",
    "Plot the precision-recall curve vs decision threshold probability for the model developed in D.13. Mark the points on the curve corresponding to the decision threshold probability identified in D.16.\n",
    "\n",
    "*(3 points)*"
   ]
  },
  {
   "cell_type": "markdown",
   "id": "6bce154f",
   "metadata": {},
   "source": [
    "## Precision-recall vs FPR-TPR\n",
    "\n",
    "Instead of using the FPR and TPR metrics to find the optimum decision threshold probability in D.16, use the precision-recall metrics to find the same.\n",
    "\n",
    "*(5 points)*"
   ]
  }
 ],
 "metadata": {
  "kernelspec": {
   "display_name": "Python 3",
   "language": "python",
   "name": "python3"
  },
  "language_info": {
   "codemirror_mode": {
    "name": "ipython",
    "version": 3
   },
   "file_extension": ".py",
   "mimetype": "text/x-python",
   "name": "python",
   "nbconvert_exporter": "python",
   "pygments_lexer": "ipython3",
   "version": "3.8.8"
  }
 },
 "nbformat": 4,
 "nbformat_minor": 5
}
