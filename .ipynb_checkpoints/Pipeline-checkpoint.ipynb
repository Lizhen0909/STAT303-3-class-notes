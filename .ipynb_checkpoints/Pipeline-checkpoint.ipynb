{
 "cells": [
  {
   "cell_type": "raw",
   "id": "6c947150",
   "metadata": {},
   "source": [
    "---\n",
    "title: \"Best Kaggle submission (Spring 2023)\"\n",
    "author: Jack O' Keefe\n",
    "format: \n",
    "  html:\n",
    "    toc: true\n",
    "    toc-title: Contents\n",
    "    toc-depth: 4\n",
    "    self-contained: true\n",
    "    html-math-method: mathml \n",
    "jupyter: python3\n",
    "---"
   ]
  },
  {
   "cell_type": "code",
   "execution_count": 1,
   "id": "9e36d282",
   "metadata": {},
   "outputs": [],
   "source": [
    "import pandas as pd\n",
    "import numpy as np\n",
    "import statsmodels.formula.api as smf\n",
    "import statsmodels.api as sm\n",
    "import seaborn as sns\n",
    "import matplotlib.pyplot as plt\n",
    "from patsy import dmatrix\n",
    "from sklearn.metrics import mean_squared_error\n",
    "from sklearn.linear_model import LinearRegression\n",
    "from sklearn.model_selection import train_test_split, cross_val_predict, cross_val_score\n",
    "from sklearn.impute import KNNImputer\n",
    "from sklearn.model_selection import KFold, train_test_split\n",
    "from sklearn.tree import DecisionTreeRegressor\n",
    "from sklearn.tree import export_graphviz \n",
    "from six import StringIO\n",
    "from IPython.display import Image  \n",
    "import pydotplus\n",
    "import time as tm\n",
    "from sklearn.metrics import mean_absolute_error\n",
    "from sklearn.model_selection import KFold\n",
    "from sklearn.model_selection import GridSearchCV, ParameterGrid\n",
    "from sklearn.ensemble import BaggingRegressor,BaggingClassifier\n",
    "import warnings\n",
    "from sklearn.ensemble import RandomForestRegressor\n",
    "from sklearn.tree import DecisionTreeClassifier\n",
    "from sklearn.metrics import roc_curve, precision_recall_curve, auc, make_scorer, recall_score, accuracy_score, precision_score, confusion_matrix\n",
    "from sklearn.ensemble import BaggingRegressor,BaggingClassifier,RandomForestRegressor,RandomForestClassifier\n",
    "from sklearn.ensemble import RandomForestRegressor, GradientBoostingRegressor, StackingRegressor\n",
    "from sklearn.linear_model import Ridge\n",
    "from xgboost import XGBRegressor\n",
    "from sklearn.model_selection import KFold, GridSearchCV\n",
    "from sklearn.neighbors import KNeighborsRegressor\n",
    "from sklearn.experimental import enable_iterative_imputer  \n",
    "from sklearn.impute import IterativeImputer"
   ]
  },
  {
   "cell_type": "markdown",
   "id": "2afcc92d",
   "metadata": {},
   "source": [
    "# How this model works"
   ]
  },
  {
   "cell_type": "markdown",
   "id": "f16ad31b",
   "metadata": {},
   "source": [
    "This model was created in order to introduce bias to the base models of the stacked model. Each of these models individually will not offer a great solution, but a stacked model with these as the base will allow the overall model to work off the strengths of the individual models. \n",
    "\n",
    "Four feature sets were used: \n",
    "The top predictors from a random forest model, with the number of features being decided by a forward step-wise 5-fold cv process (not in this code), where the most significant model was added first and the RMSE on the train data was calculated from there. \n",
    "\n",
    "The top predictors from a MARS model:\n",
    "These were the significant predictors in a MARS model where X predicts log_y (no cv and the code is not present as I could only get it to work on Google Collab). \n",
    "\n",
    "Top 40 predictors from kbest:\n",
    "I wanted to add another predictor subset, but was sttuggling to think of other ways. K-best is a function from sklearn, and provided different features from the MARS and RF best predictors so I decided to use it. \n",
    "\n",
    "The entire predictor set:\n",
    "This was used to train a catboost regressor on the entire dataset, which is relatively quick and provided higher accuracy for the meta model to learn from. \n",
    "\n",
    "## How to use the pipeline "
   ]
  },
  {
   "cell_type": "code",
   "execution_count": 166,
   "id": "2906d0e8",
   "metadata": {},
   "outputs": [],
   "source": [
    "rf_pipe = Pipeline([\n",
    "    ('column_transformer', ColumnTransformer([('rf_transform', 'passthrough', X_top_kbest.columns)], remainder='drop')),\n",
    "    ('rf', rf_model)\n",
    "])"
   ]
  },
  {
   "cell_type": "markdown",
   "id": "9fee770c",
   "metadata": {},
   "source": [
    "The above code is used in the actual model, and is used as an example here. Pipeline is also a feature from sklearn that allows multiple functions to be executed in order. This can be used to streamline many processes. \n",
    "\n",
    "In this case, there are two functions. The first is the 'column_transformer,' which looking back, I probably should have created a unique name for every transformation. This works by using ColumnTransformer, which takes the subset of columns specified, in this case X_top_kbest.columns. The 'passthrough' indicates that these are the columns to be worked on, with the remainder being dropped. 'rf' is the name in the pipeline I gave the rf_model. I gave unique names to every model depending on what subset they were working on. e.g. 'rf1' corresponds with the MARS predictors. "
   ]
  },
  {
   "cell_type": "markdown",
   "id": "8895a285",
   "metadata": {},
   "source": [
    "# What the model does overall"
   ]
  },
  {
   "cell_type": "markdown",
   "id": "9fcd96f3",
   "metadata": {},
   "source": [
    "As mentioned, the purpose of the model is to introduce bias to the base models, which will be overcome by the meta model. A good way to introduct bias is by using different predictors, and different models, which is what I did. I suspect that using other, more different models could work well, but I was not succesful in my attempts. This is a stacking regressor, which is different from a voting one. The difference is that there is a 'meta model' that corrects the error for the base models, by learning from the RMSE (or another specified loss function) on the base models. The meta model regressor I used was catboost, as it is the most accurate (I tried many other ways, and I thought that maybe ridge regression would work well, but it did not). \n",
    "\n",
    "The specifics of the model are as follows: (Note, I have lightboost set up to be used in the model, but removing it actually made the model better. I suspect this is because catboost is a very similar model, but provides a lower RMSE)\n",
    "\n",
    "The same, untuned models are run on each predictor subset. The models are random forest, catboost, and adaboost. These are all ran on the MARS subset, the rf subset, and the kbest subset. The catboost model is the only model ran on the entire dataset. 15 fold cross validation is used, which takes around 20-30 minutes to run. This model is not too slow because most of the models are run only on 20-40 predictors. It seems that the higher the k-fold, the better the models, but this is not true as the model gets worse after 15-fold cv. I suspect this is because the model will be testing on very little data for each split, which will not help RMSE, after a point. \n",
    "\n",
    "The exact same model was also ran on a 13-fold cv. The purpose of this was to once again introduce bias. This introduces bias because this will create two different models, each with innacuracies of their own. By themselves, these models are still extremely useful. \n",
    "\n",
    "These models were then combined by simply averaging the output, giving a low RMSE. "
   ]
  },
  {
   "cell_type": "markdown",
   "id": "3fe39ac5",
   "metadata": {},
   "source": [
    "# These models are not precisely reproducable "
   ]
  },
  {
   "cell_type": "markdown",
   "id": "e60ca216",
   "metadata": {},
   "source": [
    "Because these models are untuned, they will give slightly different output every time they are run. To combat this, the models could be tuned for reproducibility, but that could take a very long time. On my first try I got my best RMSE, so it does not take very long. In my case, I saved the model by using pickle, a library to save models. The exact model I used can be uploaded at the very bottom of this under the 'upload' section. "
   ]
  },
  {
   "cell_type": "markdown",
   "id": "c265fd19",
   "metadata": {},
   "source": [
    "# Train Data Cleaning"
   ]
  },
  {
   "cell_type": "code",
   "execution_count": 2,
   "id": "779ed848",
   "metadata": {},
   "outputs": [],
   "source": [
    "train = pd.read_csv('train.csv')"
   ]
  },
  {
   "cell_type": "code",
   "execution_count": 3,
   "id": "7b6c9129",
   "metadata": {},
   "outputs": [],
   "source": [
    "y = train.y\n",
    "x = train.drop(\"y\", axis=1)\n",
    "x = x.drop(\"id\", axis=1)"
   ]
  },
  {
   "cell_type": "code",
   "execution_count": 4,
   "id": "700de67f",
   "metadata": {},
   "outputs": [],
   "source": [
    "x = x.apply(pd.to_numeric, errors='coerce')"
   ]
  },
  {
   "cell_type": "code",
   "execution_count": 5,
   "id": "ffe05b74",
   "metadata": {},
   "outputs": [],
   "source": [
    "y = y.apply(pd.to_numeric, errors='coerce')"
   ]
  },
  {
   "cell_type": "code",
   "execution_count": 6,
   "id": "92c08e3a",
   "metadata": {},
   "outputs": [],
   "source": [
    "from sklearn.preprocessing import StandardScaler\n",
    "scaler = StandardScaler()\n",
    "X_scaled = pd.DataFrame(scaler.fit_transform(x), columns=x.columns)"
   ]
  },
  {
   "cell_type": "code",
   "execution_count": 7,
   "id": "ea6be12b",
   "metadata": {},
   "outputs": [],
   "source": [
    "imputer = KNNImputer(n_neighbors=7)"
   ]
  },
  {
   "cell_type": "code",
   "execution_count": 8,
   "id": "436fb28b",
   "metadata": {},
   "outputs": [],
   "source": [
    "X = pd.DataFrame(imputer.fit_transform(X_scaled), columns=x.columns)"
   ]
  },
  {
   "cell_type": "code",
   "execution_count": 9,
   "id": "0680c355",
   "metadata": {},
   "outputs": [],
   "source": [
    "log_y = np.log(y)"
   ]
  },
  {
   "cell_type": "markdown",
   "id": "7013b416",
   "metadata": {},
   "source": [
    "# Get top predictors from untuned random forest"
   ]
  },
  {
   "cell_type": "code",
   "execution_count": 10,
   "id": "bcf6750f",
   "metadata": {},
   "outputs": [
    {
     "data": {
      "text/html": [
       "<style>#sk-container-id-1 {color: black;background-color: white;}#sk-container-id-1 pre{padding: 0;}#sk-container-id-1 div.sk-toggleable {background-color: white;}#sk-container-id-1 label.sk-toggleable__label {cursor: pointer;display: block;width: 100%;margin-bottom: 0;padding: 0.3em;box-sizing: border-box;text-align: center;}#sk-container-id-1 label.sk-toggleable__label-arrow:before {content: \"▸\";float: left;margin-right: 0.25em;color: #696969;}#sk-container-id-1 label.sk-toggleable__label-arrow:hover:before {color: black;}#sk-container-id-1 div.sk-estimator:hover label.sk-toggleable__label-arrow:before {color: black;}#sk-container-id-1 div.sk-toggleable__content {max-height: 0;max-width: 0;overflow: hidden;text-align: left;background-color: #f0f8ff;}#sk-container-id-1 div.sk-toggleable__content pre {margin: 0.2em;color: black;border-radius: 0.25em;background-color: #f0f8ff;}#sk-container-id-1 input.sk-toggleable__control:checked~div.sk-toggleable__content {max-height: 200px;max-width: 100%;overflow: auto;}#sk-container-id-1 input.sk-toggleable__control:checked~label.sk-toggleable__label-arrow:before {content: \"▾\";}#sk-container-id-1 div.sk-estimator input.sk-toggleable__control:checked~label.sk-toggleable__label {background-color: #d4ebff;}#sk-container-id-1 div.sk-label input.sk-toggleable__control:checked~label.sk-toggleable__label {background-color: #d4ebff;}#sk-container-id-1 input.sk-hidden--visually {border: 0;clip: rect(1px 1px 1px 1px);clip: rect(1px, 1px, 1px, 1px);height: 1px;margin: -1px;overflow: hidden;padding: 0;position: absolute;width: 1px;}#sk-container-id-1 div.sk-estimator {font-family: monospace;background-color: #f0f8ff;border: 1px dotted black;border-radius: 0.25em;box-sizing: border-box;margin-bottom: 0.5em;}#sk-container-id-1 div.sk-estimator:hover {background-color: #d4ebff;}#sk-container-id-1 div.sk-parallel-item::after {content: \"\";width: 100%;border-bottom: 1px solid gray;flex-grow: 1;}#sk-container-id-1 div.sk-label:hover label.sk-toggleable__label {background-color: #d4ebff;}#sk-container-id-1 div.sk-serial::before {content: \"\";position: absolute;border-left: 1px solid gray;box-sizing: border-box;top: 0;bottom: 0;left: 50%;z-index: 0;}#sk-container-id-1 div.sk-serial {display: flex;flex-direction: column;align-items: center;background-color: white;padding-right: 0.2em;padding-left: 0.2em;position: relative;}#sk-container-id-1 div.sk-item {position: relative;z-index: 1;}#sk-container-id-1 div.sk-parallel {display: flex;align-items: stretch;justify-content: center;background-color: white;position: relative;}#sk-container-id-1 div.sk-item::before, #sk-container-id-1 div.sk-parallel-item::before {content: \"\";position: absolute;border-left: 1px solid gray;box-sizing: border-box;top: 0;bottom: 0;left: 50%;z-index: -1;}#sk-container-id-1 div.sk-parallel-item {display: flex;flex-direction: column;z-index: 1;position: relative;background-color: white;}#sk-container-id-1 div.sk-parallel-item:first-child::after {align-self: flex-end;width: 50%;}#sk-container-id-1 div.sk-parallel-item:last-child::after {align-self: flex-start;width: 50%;}#sk-container-id-1 div.sk-parallel-item:only-child::after {width: 0;}#sk-container-id-1 div.sk-dashed-wrapped {border: 1px dashed gray;margin: 0 0.4em 0.5em 0.4em;box-sizing: border-box;padding-bottom: 0.4em;background-color: white;}#sk-container-id-1 div.sk-label label {font-family: monospace;font-weight: bold;display: inline-block;line-height: 1.2em;}#sk-container-id-1 div.sk-label-container {text-align: center;}#sk-container-id-1 div.sk-container {/* jupyter's `normalize.less` sets `[hidden] { display: none; }` but bootstrap.min.css set `[hidden] { display: none !important; }` so we also need the `!important` here to be able to override the default hidden behavior on the sphinx rendered scikit-learn.org. See: https://github.com/scikit-learn/scikit-learn/issues/21755 */display: inline-block !important;position: relative;}#sk-container-id-1 div.sk-text-repr-fallback {display: none;}</style><div id=\"sk-container-id-1\" class=\"sk-top-container\"><div class=\"sk-text-repr-fallback\"><pre>RandomForestRegressor()</pre><b>In a Jupyter environment, please rerun this cell to show the HTML representation or trust the notebook. <br />On GitHub, the HTML representation is unable to render, please try loading this page with nbviewer.org.</b></div><div class=\"sk-container\" hidden><div class=\"sk-item\"><div class=\"sk-estimator sk-toggleable\"><input class=\"sk-toggleable__control sk-hidden--visually\" id=\"sk-estimator-id-1\" type=\"checkbox\" checked><label for=\"sk-estimator-id-1\" class=\"sk-toggleable__label sk-toggleable__label-arrow\">RandomForestRegressor</label><div class=\"sk-toggleable__content\"><pre>RandomForestRegressor()</pre></div></div></div></div></div>"
      ],
      "text/plain": [
       "RandomForestRegressor()"
      ]
     },
     "execution_count": 10,
     "metadata": {},
     "output_type": "execute_result"
    }
   ],
   "source": [
    "model = RandomForestRegressor(n_estimators = 100)\n",
    "model.fit(X,log_y)"
   ]
  },
  {
   "cell_type": "code",
   "execution_count": 11,
   "id": "d5df89e2",
   "metadata": {},
   "outputs": [],
   "source": [
    "top_50_rf = model.feature_importances_.argsort()[-50:][::-1]"
   ]
  },
  {
   "cell_type": "code",
   "execution_count": 12,
   "id": "9cf04333",
   "metadata": {},
   "outputs": [],
   "source": [
    "top_50_rf = pd.DataFrame(top_50_rf)"
   ]
  },
  {
   "cell_type": "code",
   "execution_count": 13,
   "id": "8710df00",
   "metadata": {},
   "outputs": [],
   "source": [
    "top_50_rf.columns = ['predictor']"
   ]
  },
  {
   "cell_type": "markdown",
   "id": "d4e77f60",
   "metadata": {},
   "source": [
    "## I computed the best MARS features on google collab and am importing it as a csv"
   ]
  },
  {
   "cell_type": "code",
   "execution_count": 14,
   "id": "fc5953c6",
   "metadata": {},
   "outputs": [],
   "source": [
    "MARS_features = pd.read_csv('features.csv')"
   ]
  },
  {
   "cell_type": "code",
   "execution_count": 15,
   "id": "76ae7932",
   "metadata": {},
   "outputs": [],
   "source": [
    "filtered_features = top_50_rf[~top_50_rf['predictor'].isin(MARS_features)]\n",
    "new_df = filtered_features[['predictor']]"
   ]
  },
  {
   "cell_type": "markdown",
   "id": "757da39b",
   "metadata": {},
   "source": [
    "## Above code should only take predictors from the random forest subset that are not present in MARS, I am not sure if it worked, however, so there might be some overlap"
   ]
  },
  {
   "cell_type": "code",
   "execution_count": 16,
   "id": "c71413d9",
   "metadata": {},
   "outputs": [],
   "source": [
    "rf_top_30 = new_df[-30:][::-1]"
   ]
  },
  {
   "cell_type": "code",
   "execution_count": 17,
   "id": "2bec45a2",
   "metadata": {},
   "outputs": [],
   "source": [
    "top_predictors = rf_top_30['predictor']\n",
    "X_top_rf = X.iloc[:,top_predictors]"
   ]
  },
  {
   "cell_type": "code",
   "execution_count": 18,
   "id": "31b3c5a5",
   "metadata": {},
   "outputs": [],
   "source": [
    "top_predictors_MARS = MARS_features['predictor']\n",
    "X_top_MARS = X[top_predictors_MARS]"
   ]
  },
  {
   "cell_type": "markdown",
   "id": "3f1a6159",
   "metadata": {},
   "source": [
    "# Get further subset of features by selecting kbest"
   ]
  },
  {
   "cell_type": "code",
   "execution_count": 24,
   "id": "2a98953c",
   "metadata": {},
   "outputs": [],
   "source": [
    "from sklearn.feature_selection import SelectKBest, f_regression\n",
    "\n",
    "# Assuming X is your feature set and log_y is your target variable\n",
    "selector = SelectKBest(f_regression, k=40)\n",
    "X_new = selector.fit_transform(X, log_y)\n",
    "\n",
    "# Get the indices sorted by most important to least important\n",
    "indices = np.argsort(selector.scores_)[::-1]\n",
    "\n",
    "# Get the names of the top 40 features\n",
    "X_top_kbest = []\n",
    "for i in range(40):\n",
    "    X_top_kbest.append(X.columns[indices[i]])"
   ]
  },
  {
   "cell_type": "code",
   "execution_count": 26,
   "id": "81e6ddb5",
   "metadata": {},
   "outputs": [],
   "source": [
    "X_top_kbest = X[X_top_kbest]"
   ]
  },
  {
   "cell_type": "markdown",
   "id": "15fc9464",
   "metadata": {},
   "source": [
    "## Test Cleaning"
   ]
  },
  {
   "cell_type": "code",
   "execution_count": 19,
   "id": "e5833399",
   "metadata": {},
   "outputs": [],
   "source": [
    "test = pd.read_csv('test.csv')"
   ]
  },
  {
   "cell_type": "code",
   "execution_count": 20,
   "id": "1b4da107",
   "metadata": {},
   "outputs": [],
   "source": [
    "test_x = test.drop(\"id\", axis=1)\n",
    "test_x = test_x.apply(pd.to_numeric, errors='coerce')"
   ]
  },
  {
   "cell_type": "code",
   "execution_count": 21,
   "id": "9e08dcb9",
   "metadata": {},
   "outputs": [],
   "source": [
    "scaler = StandardScaler()\n",
    "test_X_scaled = pd.DataFrame(scaler.fit_transform(test_x), columns=test_x.columns)"
   ]
  },
  {
   "cell_type": "code",
   "execution_count": 22,
   "id": "50366496",
   "metadata": {},
   "outputs": [],
   "source": [
    "imputer_KNN = KNNImputer(n_neighbors=7)\n",
    "test_x = pd.DataFrame(imputer_KNN.fit_transform(test_X_scaled), columns=test_x.columns)"
   ]
  },
  {
   "cell_type": "markdown",
   "id": "47b02a0b",
   "metadata": {},
   "source": [
    "# Create Base Models"
   ]
  },
  {
   "cell_type": "code",
   "execution_count": 41,
   "id": "ea1184cb",
   "metadata": {},
   "outputs": [],
   "source": [
    "from catboost import CatBoostRegressor\n",
    "cat = CatBoostRegressor(verbose=False, random_seed=403)"
   ]
  },
  {
   "cell_type": "code",
   "execution_count": 38,
   "id": "ac1ac339",
   "metadata": {},
   "outputs": [],
   "source": [
    "rf_model = RandomForestRegressor()"
   ]
  },
  {
   "cell_type": "code",
   "execution_count": 39,
   "id": "322f238b",
   "metadata": {},
   "outputs": [],
   "source": [
    "from lightgbm import LGBMRegressor\n",
    "light_model = LGBMRegressor(verbose=-1)"
   ]
  },
  {
   "cell_type": "code",
   "execution_count": 40,
   "id": "1dbb2408",
   "metadata": {},
   "outputs": [],
   "source": [
    "from sklearn.ensemble import BaggingRegressor,BaggingClassifier,AdaBoostRegressor,AdaBoostClassifier\n",
    "ada_model = AdaBoostRegressor()"
   ]
  },
  {
   "cell_type": "markdown",
   "id": "53461883",
   "metadata": {},
   "source": [
    "# First Model"
   ]
  },
  {
   "cell_type": "code",
   "execution_count": 98,
   "id": "de1b0cac",
   "metadata": {},
   "outputs": [],
   "source": [
    "X_train, X_test, y_train_log, y_test_log = train_test_split(X, log_y, test_size = 0.2, random_state = 8)\n",
    "\n",
    "from sklearn.compose import ColumnTransformer\n",
    "from sklearn.pipeline import Pipeline\n",
    "from sklearn.ensemble import StackingRegressor\n",
    "from sklearn.linear_model import LinearRegression\n",
    "from sklearn.model_selection import KFold\n",
    "from sklearn.metrics import mean_squared_error\n",
    "import numpy as np\n",
    "\n",
    "#kbest\n",
    "cat_pipe = Pipeline([\n",
    "    ('column_transformer', ColumnTransformer([('cat_transform', 'passthrough', X_top_kbest.columns)], remainder='drop')),\n",
    "    ('cat', cat)\n",
    "])\n",
    "\n",
    "rf_pipe = Pipeline([\n",
    "    ('column_transformer', ColumnTransformer([('rf_transform', 'passthrough', X_top_kbest.columns)], remainder='drop')),\n",
    "    ('rf', rf_model)\n",
    "])\n",
    "\n",
    "ada_pipe = Pipeline([\n",
    "    ('column_transformer', ColumnTransformer([('ada_transform', 'passthrough', X_top_kbest.columns)], remainder='drop')),\n",
    "    ('ada', ada_model)\n",
    "])\n",
    "\n",
    "light_pipe = Pipeline([\n",
    "    ('column_transformer', ColumnTransformer([('light_transform', 'passthrough', X_top_kbest.columns)], remainder='drop')),\n",
    "    ('light', light_model)\n",
    "])\n",
    "\n",
    "cat_pipe1 = Pipeline([\n",
    "    ('column_transformer', ColumnTransformer([('cat_transform1', 'passthrough', X_top_MARS.columns)], remainder='drop')),\n",
    "    ('cat1', cat)\n",
    "])\n",
    "\n",
    "rf_pipe1 = Pipeline([\n",
    "    ('column_transformer', ColumnTransformer([('rf_transform1', 'passthrough', X_top_MARS.columns)], remainder='drop')),\n",
    "    ('rf1', rf_model)\n",
    "])\n",
    "\n",
    "ada_pipe1 = Pipeline([\n",
    "    ('column_transformer', ColumnTransformer([('ada_transform1', 'passthrough', X_top_MARS.columns)], remainder='drop')),\n",
    "    ('ada1', ada_model)\n",
    "])\n",
    "\n",
    "light_pipe1 = Pipeline([\n",
    "    ('column_transformer', ColumnTransformer([('light_transform1', 'passthrough', X_top_MARS.columns)], remainder='drop')),\n",
    "    ('light1', light_model)\n",
    "])\n",
    "\n",
    "cat_pipe2 = Pipeline([\n",
    "    ('column_transformer', ColumnTransformer([('cat_transform2', 'passthrough', X_top_rf.columns)], remainder='drop')),\n",
    "    ('cat2', cat)\n",
    "])\n",
    "\n",
    "rf_pipe2 = Pipeline([\n",
    "    ('column_transformer', ColumnTransformer([('rf_transform2', 'passthrough', X_top_rf.columns)], remainder='drop')),\n",
    "    ('rf2', rf_model)\n",
    "])\n",
    "\n",
    "ada_pipe2 = Pipeline([\n",
    "    ('column_transformer', ColumnTransformer([('ada_transform2', 'passthrough', X_top_rf.columns)], remainder='drop')),\n",
    "    ('ada2', ada_model)\n",
    "])\n",
    "\n",
    "light_pipe2 = Pipeline([\n",
    "    ('column_transformer', ColumnTransformer([('light_transform2', 'passthrough', X_top_rf.columns)], remainder='drop')),\n",
    "    ('light2', light_model)\n",
    "])\n",
    "\n",
    "cat_pipe3 = Pipeline([\n",
    "    ('column_transformer', ColumnTransformer([('cat_transform3', 'passthrough', X.columns)], remainder='drop')),\n",
    "    ('cat3', cat)\n",
    "])\n",
    "\n",
    "en_new = StackingRegressor(estimators = [('cat', cat_pipe),('rf', rf_pipe),('ada', ada_pipe), \n",
    "                                     ('cat1', cat_pipe1),('rf1', rf_pipe1),('ada1', ada_pipe1),\n",
    "                                     ('cat2', cat_pipe2),('rf2', rf_pipe2),('ada2', ada_pipe2),\n",
    "                                     ('cat3', cat_pipe3)],\n",
    "                     final_estimator=CatBoostRegressor(),                                          \n",
    "                    cv = KFold(n_splits = 15, shuffle = True, random_state=1))"
   ]
  },
  {
   "cell_type": "code",
   "execution_count": null,
   "id": "a6cd7a87",
   "metadata": {},
   "outputs": [],
   "source": [
    "en_new.fit(X_train, y_train_log)"
   ]
  },
  {
   "cell_type": "markdown",
   "id": "79c0e7c8",
   "metadata": {},
   "source": [
    "## Add intercept because model underestimates"
   ]
  },
  {
   "cell_type": "code",
   "execution_count": 100,
   "id": "d427adc3",
   "metadata": {},
   "outputs": [],
   "source": [
    "new_intercept = np.mean(np.exp(y_test_log) - np.exp(en_new.predict(X_test)))"
   ]
  },
  {
   "cell_type": "code",
   "execution_count": 101,
   "id": "1bb54bb5",
   "metadata": {},
   "outputs": [
    {
     "data": {
      "text/plain": [
       "1.5521085436351363"
      ]
     },
     "execution_count": 101,
     "metadata": {},
     "output_type": "execute_result"
    }
   ],
   "source": [
    "new_intercept"
   ]
  },
  {
   "cell_type": "code",
   "execution_count": null,
   "id": "d5312a68",
   "metadata": {},
   "outputs": [],
   "source": [
    "en_new.fit(X, log_y)"
   ]
  },
  {
   "cell_type": "code",
   "execution_count": 111,
   "id": "9975c4e0",
   "metadata": {},
   "outputs": [],
   "source": [
    "s = pd.DataFrame({'id':test.iloc[:, 0], \"y\":np.exp(en_new.predict(test_x)) + new_intercept})"
   ]
  },
  {
   "cell_type": "markdown",
   "id": "3421fd82",
   "metadata": {},
   "source": [
    "# Second Model"
   ]
  },
  {
   "cell_type": "code",
   "execution_count": 135,
   "id": "28152cb4",
   "metadata": {},
   "outputs": [],
   "source": [
    "X_train, X_test, y_train_log, y_test_log = train_test_split(X, log_y, test_size = 0.2, random_state = 8)\n",
    "\n",
    "from sklearn.compose import ColumnTransformer\n",
    "from sklearn.pipeline import Pipeline\n",
    "from sklearn.ensemble import StackingRegressor\n",
    "from sklearn.linear_model import LinearRegression\n",
    "from sklearn.model_selection import KFold\n",
    "from sklearn.metrics import mean_squared_error\n",
    "import numpy as np\n",
    "\n",
    "#kbest\n",
    "cat_pipe = Pipeline([\n",
    "    ('column_transformer', ColumnTransformer([('cat_transform', 'passthrough', X_top_kbest.columns)], remainder='drop')),\n",
    "    ('cat', cat)\n",
    "])\n",
    "\n",
    "rf_pipe = Pipeline([\n",
    "    ('column_transformer', ColumnTransformer([('rf_transform', 'passthrough', X_top_kbest.columns)], remainder='drop')),\n",
    "    ('rf', rf_model)\n",
    "])\n",
    "\n",
    "ada_pipe = Pipeline([\n",
    "    ('column_transformer', ColumnTransformer([('ada_transform', 'passthrough', X_top_kbest.columns)], remainder='drop')),\n",
    "    ('ada', ada_model)\n",
    "])\n",
    "\n",
    "light_pipe = Pipeline([\n",
    "    ('column_transformer', ColumnTransformer([('light_transform', 'passthrough', X_top_kbest.columns)], remainder='drop')),\n",
    "    ('light', light_model)\n",
    "])\n",
    "\n",
    "cat_pipe1 = Pipeline([\n",
    "    ('column_transformer', ColumnTransformer([('cat_transform1', 'passthrough', X_top_MARS.columns)], remainder='drop')),\n",
    "    ('cat1', cat)\n",
    "])\n",
    "\n",
    "rf_pipe1 = Pipeline([\n",
    "    ('column_transformer', ColumnTransformer([('rf_transform1', 'passthrough', X_top_MARS.columns)], remainder='drop')),\n",
    "    ('rf1', rf_model)\n",
    "])\n",
    "\n",
    "ada_pipe1 = Pipeline([\n",
    "    ('column_transformer', ColumnTransformer([('ada_transform1', 'passthrough', X_top_MARS.columns)], remainder='drop')),\n",
    "    ('ada1', ada_model)\n",
    "])\n",
    "\n",
    "light_pipe1 = Pipeline([\n",
    "    ('column_transformer', ColumnTransformer([('light_transform1', 'passthrough', X_top_MARS.columns)], remainder='drop')),\n",
    "    ('light1', light_model)\n",
    "])\n",
    "\n",
    "cat_pipe2 = Pipeline([\n",
    "    ('column_transformer', ColumnTransformer([('cat_transform2', 'passthrough', X_top_rf.columns)], remainder='drop')),\n",
    "    ('cat2', cat)\n",
    "])\n",
    "\n",
    "rf_pipe2 = Pipeline([\n",
    "    ('column_transformer', ColumnTransformer([('rf_transform2', 'passthrough', X_top_rf.columns)], remainder='drop')),\n",
    "    ('rf2', rf_model)\n",
    "])\n",
    "\n",
    "ada_pipe2 = Pipeline([\n",
    "    ('column_transformer', ColumnTransformer([('ada_transform2', 'passthrough', X_top_rf.columns)], remainder='drop')),\n",
    "    ('ada2', ada_model)\n",
    "])\n",
    "\n",
    "light_pipe2 = Pipeline([\n",
    "    ('column_transformer', ColumnTransformer([('light_transform2', 'passthrough', X_top_rf.columns)], remainder='drop')),\n",
    "    ('light2', light_model)\n",
    "])\n",
    "\n",
    "cat_pipe3 = Pipeline([\n",
    "    ('column_transformer', ColumnTransformer([('cat_transform3', 'passthrough', X.columns)], remainder='drop')),\n",
    "    ('cat3', cat)\n",
    "])\n",
    "\n",
    "winner = StackingRegressor(estimators = [('cat', cat_pipe),('rf', rf_pipe),('ada', ada_pipe), \n",
    "                                     ('cat1', cat_pipe1),('rf1', rf_pipe1),('ada1', ada_pipe1),\n",
    "                                     ('cat2', cat_pipe2),('rf2', rf_pipe2),('ada2', ada_pipe2),\n",
    "                                     ('cat3', cat_pipe3)],\n",
    "                     final_estimator=CatBoostRegressor(),                                          \n",
    "                    cv = KFold(n_splits = 13, shuffle = True, random_state=1))"
   ]
  },
  {
   "cell_type": "code",
   "execution_count": null,
   "id": "f0fc8481",
   "metadata": {},
   "outputs": [],
   "source": [
    "winner.fit(X_train, y_train_log)"
   ]
  },
  {
   "cell_type": "code",
   "execution_count": 137,
   "id": "b55610d5",
   "metadata": {},
   "outputs": [],
   "source": [
    "winner_intercept = np.mean(np.exp(y_test_log) - np.exp(winner.predict(X_test)))"
   ]
  },
  {
   "cell_type": "code",
   "execution_count": 138,
   "id": "508373f2",
   "metadata": {},
   "outputs": [
    {
     "data": {
      "text/plain": [
       "1.5335550664780593"
      ]
     },
     "execution_count": 138,
     "metadata": {},
     "output_type": "execute_result"
    }
   ],
   "source": [
    "winner_intercept"
   ]
  },
  {
   "cell_type": "code",
   "execution_count": null,
   "id": "7626ec8a",
   "metadata": {},
   "outputs": [],
   "source": [
    "winner.fit(X, log_y)"
   ]
  },
  {
   "cell_type": "code",
   "execution_count": 141,
   "id": "570b898f",
   "metadata": {},
   "outputs": [],
   "source": [
    "game = pd.DataFrame({'id':test.iloc[:, 0], \"y\":np.exp(winner.predict(test_x)) + winner_intercept})"
   ]
  },
  {
   "cell_type": "markdown",
   "id": "e2648685",
   "metadata": {},
   "source": [
    "# Create en ensemble by combining the models "
   ]
  },
  {
   "cell_type": "code",
   "execution_count": 142,
   "id": "9693cb51",
   "metadata": {},
   "outputs": [],
   "source": [
    "x = game.copy()\n",
    "x.y = s.y*.5 + game.y*.5"
   ]
  },
  {
   "cell_type": "code",
   "execution_count": 143,
   "id": "3a6c572a",
   "metadata": {},
   "outputs": [],
   "source": [
    "x.to_csv('xgame1.csv', index=False)"
   ]
  },
  {
   "cell_type": "markdown",
   "id": "72f7a9d9",
   "metadata": {},
   "source": [
    "# Parameters for Reproducibility"
   ]
  },
  {
   "cell_type": "code",
   "execution_count": null,
   "id": "5efa9abc",
   "metadata": {},
   "outputs": [],
   "source": [
    "winner.get_params()"
   ]
  },
  {
   "cell_type": "code",
   "execution_count": null,
   "id": "876f9f01",
   "metadata": {},
   "outputs": [],
   "source": [
    "!pip3 install pickle-mixin"
   ]
  },
  {
   "cell_type": "markdown",
   "id": "c204f553",
   "metadata": {},
   "source": [
    "# The below code uploads my model. Because there is no hyperparameter tuning, the exact model is not reproducible unless my specific hyperparameters are uploaded. That could be done manually, but saving the entire model with pickle is much easier. "
   ]
  },
  {
   "cell_type": "markdown",
   "id": "6f222c2a",
   "metadata": {},
   "source": [
    "# Upload winner model"
   ]
  },
  {
   "cell_type": "code",
   "execution_count": 155,
   "id": "e8127d19",
   "metadata": {},
   "outputs": [],
   "source": [
    "# Load from file\n",
    "pkl_filename = \"winner.pkl\"\n",
    "with open(pkl_filename, 'rb') as file:\n",
    "    pickle_winner = pickle.load(file)\n",
    "\n",
    "# Now you can use this model to make predictions, for instance\n",
    "# y_pred = winner.predict(X_test)"
   ]
  },
  {
   "cell_type": "markdown",
   "id": "c2ad4f35",
   "metadata": {},
   "source": [
    "# Upload en_new model"
   ]
  },
  {
   "cell_type": "code",
   "execution_count": 156,
   "id": "095faab0",
   "metadata": {},
   "outputs": [],
   "source": [
    "pkl_filename = \"en_new.pkl\"\n",
    "with open(pkl_filename, 'rb') as file:\n",
    "    pickle_en_new = pickle.load(file)"
   ]
  },
  {
   "cell_type": "code",
   "execution_count": 157,
   "id": "946ce7df",
   "metadata": {},
   "outputs": [],
   "source": [
    "pickle_game = pd.DataFrame({'id':test.iloc[:, 0], \"y\":np.exp(winner.predict(test_x)) + winner_intercept})"
   ]
  },
  {
   "cell_type": "code",
   "execution_count": 158,
   "id": "a42ef486",
   "metadata": {},
   "outputs": [],
   "source": [
    "pickle_s = pd.DataFrame({'id':test.iloc[:, 0], \"y\":np.exp(en_new.predict(test_x)) + new_intercept})"
   ]
  },
  {
   "cell_type": "code",
   "execution_count": 160,
   "id": "b865d333",
   "metadata": {},
   "outputs": [],
   "source": [
    "pickle_x = pickle_game.copy()\n",
    "pickle_x.y = pickle_s.y*.5 + pickle_game.y*.5"
   ]
  },
  {
   "cell_type": "code",
   "execution_count": 165,
   "id": "b8efcca2",
   "metadata": {},
   "outputs": [],
   "source": [
    "pickle_x.to_csv('pickle.csv', index=False)"
   ]
  }
 ],
 "metadata": {
  "kernelspec": {
   "display_name": "Python 3 (ipykernel)",
   "language": "python",
   "name": "python3"
  },
  "language_info": {
   "codemirror_mode": {
    "name": "ipython",
    "version": 3
   },
   "file_extension": ".py",
   "mimetype": "text/x-python",
   "name": "python",
   "nbconvert_exporter": "python",
   "pygments_lexer": "ipython3",
   "version": "3.8.17"
  }
 },
 "nbformat": 4,
 "nbformat_minor": 5
}
