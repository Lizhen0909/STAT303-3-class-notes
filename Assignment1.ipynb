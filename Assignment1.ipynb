{
 "cells": [
  {
   "cell_type": "raw",
   "id": "7fc45304",
   "metadata": {},
   "source": [
    "---\n",
    "title: \"Assignment 1\"\n",
    "format: \n",
    "  html:\n",
    "    toc: true\n",
    "    toc-title: Contents\n",
    "    toc-depth: 4\n",
    "    code-fold: show\n",
    "    self-contained: true\n",
    "    number-sections: false\n",
    "jupyter: python3\n",
    "---"
   ]
  },
  {
   "cell_type": "markdown",
   "id": "672791b9",
   "metadata": {},
   "source": [
    "## Instructions {-}\n",
    "\n",
    "1. You may talk to a friend, discuss the questions and potential directions for solving them. However, you need to write your own solutions and code separately, and not as a group activity. \n",
    "\n",
    "2. Write your code in the **Code cells** and your answers in the **Markdown cells** of the Jupyter notebook. Ensure that the solution is written neatly enough to for the graders to understand and follow.\n",
    "\n",
    "3. Use [Quarto](https://quarto.org/docs/output-formats/html-basics.html) to render the **.ipynb** file as HTML. You will need to open the command prompt, navigate to the directory containing the file, and use the command: `quarto render filename.ipynb --to html`. Submit the HTML file.\n",
    "\n",
    "4. The assignment is worth 100 points, and is due on **Thursday, 11th April 2024 at 11:59 pm**. \n",
    "\n",
    "5. **Five points are properly formatting the assignment**. The breakdown is as follows:\n",
    "    - Must be an HTML file rendered using Quarto **(1 point)**. *If you have a Quarto issue, you must mention the issue & quote the error you get when rendering using Quarto in the comments section of Canvas, and submit the ipynb file.* \n",
    "    - No name can be written on the assignment, nor can there be any indicator of the student’s identity—e.g. printouts of the working directory should not be included in the final submission.  **(1 point)**\n",
    "    - There aren’t excessively long outputs of extraneous information (e.g. no printouts of entire data frames without good reason, there aren’t long printouts of which iteration a loop is on, there aren’t long sections of commented-out code, etc.) **(1 point)**\n",
    "    - Final answers to each question are written in the Markdown cells. **(1 point)**\n",
    "    - There is no piece of unnecessary / redundant code, and no unnecessary / redundant text. **(1 point)**"
   ]
  },
  {
   "cell_type": "code",
   "execution_count": null,
   "id": "14f5680e",
   "metadata": {},
   "outputs": [],
   "source": [
    "#| echo: false\n",
    "import numpy as np\n",
    "import pandas as pd\n",
    "import seaborn as sns\n",
    "import matplotlib.pyplot as plt\n",
    "from sklearn.linear_model import LinearRegression, RidgeCV\n",
    "from sklearn.preprocessing import PolynomialFeatures\n",
    "from sklearn.neighbors import KNeighborsClassifier\n",
    "from sklearn.metrics import accuracy_score, mean_squared_error"
   ]
  },
  {
   "cell_type": "markdown",
   "id": "3cae5120",
   "metadata": {},
   "source": [
    "## 1) Bias-Variance Trade-off for Regression **(32 points)**"
   ]
  },
  {
   "cell_type": "markdown",
   "id": "988fbe55",
   "metadata": {},
   "source": [
    "The main goal of this question is to understand and visualize the bias-variance trade-off in a regression model by performing repetitive simulations.\n",
    "\n",
    "The conceptual clarity about bias and variance will help with the main logic behind creating many models that will come up later in the course."
   ]
  },
  {
   "cell_type": "markdown",
   "id": "62dce7cd",
   "metadata": {},
   "source": [
    "### a)\n",
    "\n",
    "First, you need to implement the underlying function of the population you want to sample data from. Assume that the function is the [Bukin function](https://www.sfu.ca/~ssurjano/bukin6.html). Implement it as a user-defined function and run it with the test cases below to make sure it is implemented correctly. **(3 points)**\n",
    "\n",
    "**Note:** It would be more useful to have only one input to the function. You can treat the input as an array of two elements."
   ]
  },
  {
   "cell_type": "code",
   "execution_count": null,
   "id": "0572db14",
   "metadata": {},
   "outputs": [],
   "source": [
    "#| eval: false\n",
    "\n",
    "print(Bukin(np.array([1,2]))) # The output should be 141.177\n",
    "print(Bukin(np.array([6,-4]))) # The output should be 208.966\n",
    "print(Bukin(np.array([0,1]))) # The output should be 100.1"
   ]
  },
  {
   "cell_type": "markdown",
   "id": "099bf25c",
   "metadata": {},
   "source": [
    "### b)\n",
    "\n",
    "Using the following assumptions, sample a test dataset with 100 observations from the underlying function. Remember how the test dataset is supposed to be sampled for bias-variance calculations. **No loops are allowed for this question - .apply should be very useful and actually simpler to use.** **(4 points)**\n",
    "\n",
    "Assumptions:\n",
    "\n",
    "- The first predictor, $x_1$, comes from a uniform distribution between -15 and 5. ($U[-15, -5]$)\n",
    "- The second predictor, $x_2$, comes from a uniform distribution between -3 and 3. ($U[-3, 3]$)\n",
    "- Use `np.random.seed(100)` for reproducibility."
   ]
  },
  {
   "cell_type": "markdown",
   "id": "07670584",
   "metadata": {},
   "source": [
    "### c)\n",
    "\n",
    "Create an empty DataFrame with columns named **degree**, **bias_sq** and **var**. This will be useful to store the analysis results in this question. **(1 point)**"
   ]
  },
  {
   "cell_type": "markdown",
   "id": "235129a9",
   "metadata": {},
   "source": [
    "### d)\n",
    "\n",
    "Sample 100 training datasets to calculate the bias and the variance of a Linear Regression model that predicts data coming from the underlying Bukin function. You need to repeat this process with polynomial transformations from degree 1 (which is the original predictors) to degree 7. For each degree, store the degree, bias-squared and variance values in the DataFrame. **(15 points)**\n",
    "\n",
    "**Note:**\n",
    "\n",
    "- For a linear regression model, bias refers to squared bias\n",
    "- Assume that the noise in the population is a zero-mean Gaussian with a standard deviation of 10. ($N(0,10)$)\n",
    "- Keep the training data size the same as the test data size.\n",
    "- You need both the interactions and the higher-order transformations in your polynomial predictors.\n",
    "- For $i^{th}$ training dataset, you can consider using `np.random.seed(i)` for reproducibility."
   ]
  },
  {
   "cell_type": "markdown",
   "id": "97aa921c",
   "metadata": {},
   "source": [
    "### e)\n",
    "\n",
    "Using the results stored in the DataFrame, plot the (1) expected mean squared error, (2) expected squared bias, (3) expected variance, and (4) the expected sum of squared bias, variance and noise variance *(i.e., summation of 2, 3, and noise variance)*, against the degree of the predictors in the model. **(5 points)** \n",
    "\n",
    "Make sure you add a legend to label the three lineplots. **(1 point)**"
   ]
  },
  {
   "cell_type": "markdown",
   "id": "8e7a6716",
   "metadata": {},
   "source": [
    "### f)\n",
    "\n",
    "What is the degree of the optimal model? **(1 point)** What are the squared bias, variance and mean squared error for that degree? **(2 points)**"
   ]
  },
  {
   "cell_type": "markdown",
   "id": "eadfeaf3",
   "metadata": {},
   "source": [
    "## 2) Low-Bias-Low-Variance Model via Regularization (25 points)"
   ]
  },
  {
   "cell_type": "markdown",
   "id": "a6b5efe5",
   "metadata": {},
   "source": [
    "The main goal of this question is to further reduce the total error by regularization - in other words, to implement the low-bias-low-variance model for the underlying function and the data coming from it."
   ]
  },
  {
   "cell_type": "markdown",
   "id": "7358665d",
   "metadata": {},
   "source": [
    "### a)\n",
    "\n",
    "First of all, explain why it is not guaranteed for the optimal model (with the optimal degree) in Question 1 to be the low-bias-low-variance model. **(2 points)** Why would regularization be necessary to achieve that model? **(2 points)**"
   ]
  },
  {
   "cell_type": "markdown",
   "id": "bac93ce1",
   "metadata": {},
   "source": [
    "### b)\n",
    "\n",
    "Before repeating the process in Question 1, you should see from the figure in 1e and the results in 1f that there is no point in trying some degrees again with regularization. Find out these degrees and explain why you should not use them for this question, **considering how regularization affects the bias and the variance of a model.** **(3 points)**"
   ]
  },
  {
   "cell_type": "markdown",
   "id": "4ef62211",
   "metadata": {},
   "source": [
    "### c)\n",
    "\n",
    "Repeat 1c and 1d with Ridge regularization. **Exclude the degrees you found in 2b and also degree 7**. Use Leave-One-Out (LOO) cross-validation (CV) to tune the model hyperparameter and use `neg_root_mean_squared_error` as the scoring metric. **(7 points)**\n",
    "\n",
    "Consider hyperparamter values in the range \\[1, 100\\]."
   ]
  },
  {
   "cell_type": "markdown",
   "id": "c27831de",
   "metadata": {},
   "source": [
    "### d)\n",
    "\n",
    "Repeat part 1e with Ridge regularization, using the results from 2c. **(2 points)**"
   ]
  },
  {
   "cell_type": "markdown",
   "id": "50095e50",
   "metadata": {},
   "source": [
    "### e) \n",
    "\n",
    "What is the degree of the optimal Ridge Regression model? **(1 point)** What are the bias-squared, variance and total error values for that degree? **(1 point)** How do they compare to the Linear Regression model results? **(2 points)**"
   ]
  },
  {
   "cell_type": "markdown",
   "id": "6fe7d0a6",
   "metadata": {},
   "source": [
    "### f)\n",
    "\n",
    "Is the regularization successful in reducing the total error of the regression model? **(2 points)** Explain the results in 2e in terms of how bias and variance change with regularization. **(3 points)**"
   ]
  },
  {
   "cell_type": "markdown",
   "id": "f48775cc",
   "metadata": {},
   "source": [
    "## 3) Bias-Variance Trade-off for Classification (38 points)"
   ]
  },
  {
   "cell_type": "markdown",
   "id": "4a42972c",
   "metadata": {},
   "source": [
    "Now, it is time to understand and visualize the bias-variance trade-off in a classification model. As we covered in class, the error calculations for classification are different than regression, so it is necessary to understand the bias-variance analysis for classification as well."
   ]
  },
  {
   "cell_type": "markdown",
   "id": "04b74944",
   "metadata": {},
   "source": [
    "First of all, you need to visualize the underlying boundary between the classes in the population. Run the given code that implements the following:\n",
    "\n",
    "- 2000 test observations are sampled from a population with two predictors.\n",
    "- Each predictor is uniformly distributed between -15 and 15. ($U[-15, 15]$)\n",
    "- The underlying boundary between the classes is a circle with radius 10.\n",
    "- The noise in the population is a 30% chance that the observation is misclassified."
   ]
  },
  {
   "cell_type": "code",
   "execution_count": 5,
   "id": "3069da90",
   "metadata": {},
   "outputs": [],
   "source": [
    "#| eval: false\n",
    "\n",
    "# Number of observations\n",
    "n = 2000\n",
    "\n",
    "np.random.seed(111)\n",
    "\n",
    "# Test predictors\n",
    "x1 = np.random.uniform(-15, 15, n)\n",
    "x2 = np.random.uniform(-15, 15, n)\n",
    "X_test = pd.DataFrame({'x1': x1, 'x2': x2})\n",
    "\n",
    "# Underlying boundary\n",
    "boundary = (x1**2) + (x2**2)\n",
    "\n",
    "# Test response (no noise!)\n",
    "y_test_wo_noise = (boundary < 100).astype(int)\n",
    "\n",
    "# Test response with noise (for comparison)\n",
    "noise_prob = 0.3\n",
    "num_noisy_obs = int(noise_prob*n)\n",
    "\n",
    "y_test_w_noise = y_test_wo_noise.copy()\n",
    "noise_indices = np.random.choice(range(len(y_test_w_noise)), num_noisy_obs, replace = False)\n",
    "y_test_w_noise[noise_indices] = 1 - y_test_wo_noise[noise_indices]"
   ]
  },
  {
   "cell_type": "code",
   "execution_count": null,
   "id": "0e1e1a92",
   "metadata": {},
   "outputs": [],
   "source": [
    "#| eval: false\n",
    "\n",
    "sns.scatterplot(x = x1, y = x2, hue=y_test_wo_noise)\n",
    "plt.title('Sample without the noise')\n",
    "plt.show()"
   ]
  },
  {
   "cell_type": "code",
   "execution_count": 1,
   "id": "552e17bc",
   "metadata": {},
   "outputs": [
    {
     "data": {
      "text/html": [
       "<img src=\"./Datasets/s1.jpg\"/>"
      ],
      "text/plain": [
       "<IPython.core.display.Image object>"
      ]
     },
     "execution_count": 1,
     "metadata": {},
     "output_type": "execute_result"
    }
   ],
   "source": [
    "#| echo: false\n",
    "\n",
    "# import image module\n",
    "from IPython.display import Image\n",
    "\n",
    "# get the image\n",
    "Image(url=\"./Datasets/s1.jpg\")"
   ]
  },
  {
   "cell_type": "code",
   "execution_count": null,
   "id": "9eab100e",
   "metadata": {},
   "outputs": [],
   "source": [
    "#| eval: false\n",
    "\n",
    "sns.scatterplot(x = x1, y = x2, hue=y_test_w_noise)\n",
    "plt.title('Sample with the noise')\n",
    "plt.show()"
   ]
  },
  {
   "cell_type": "code",
   "execution_count": 2,
   "id": "2cc82622",
   "metadata": {},
   "outputs": [
    {
     "data": {
      "text/html": [
       "<img src=\"./Datasets/s2.jpg\"/>"
      ],
      "text/plain": [
       "<IPython.core.display.Image object>"
      ]
     },
     "execution_count": 2,
     "metadata": {},
     "output_type": "execute_result"
    }
   ],
   "source": [
    "#| echo: false\n",
    "\n",
    "# import image module\n",
    "from IPython.display import Image\n",
    "\n",
    "# get the image\n",
    "Image(url=\"./Datasets/s2.jpg\")"
   ]
  },
  {
   "cell_type": "markdown",
   "id": "df458c5a",
   "metadata": {},
   "source": [
    "### a)\n",
    "\n",
    "Create an empty DataFrame with columns named **K**, **bias**, **var** and **noise**. This will be useful to store the analysis results in this question. **(1 point)**"
   ]
  },
  {
   "cell_type": "markdown",
   "id": "376d6f45",
   "metadata": {},
   "source": [
    "### b)\n",
    "\n",
    "Sample 100 training datasets to calculate the bias and the variance of a K-Nearest Neighbors (KNN) Classifier that predicts data coming from the population with the circular underlying boundary. You need to repeat this process with a K value **from 10 to 150, with a stepsize of 10**. For each K, store the following values in the DataFrame:\n",
    "\n",
    "(1) K, \n",
    "\n",
    "(2) bias, \n",
    "\n",
    "(3) variance, \n",
    "\n",
    "(4) expected loss computed directly using the true response and predictions, \n",
    "\n",
    "(5) expected loss computed as (expected Bias) + ($c_2$ expected variance) + ($c_1$ expected noise)\n",
    "\n",
    "**(20 points)**\n",
    "\n",
    "Note:\n",
    "\n",
    "- Keep the training data size the same as the test data size.\n",
    "- The given code should help you both with sampling the training data and adding noise to the training responses.\n",
    "- For $i^{th}$ training dataset, you can consider using `np.random.seed(i)` for reproducibility.\n",
    "- To check the progress of the code while running, a simple but efficient method is to add a `print(K)` line in the loop."
   ]
  },
  {
   "cell_type": "markdown",
   "id": "ba38e95f",
   "metadata": {},
   "source": [
    "### c)\n",
    "\n",
    "Using the results stored in the DataFrame, plot the bias and the variance against the K value on one figure, and the expected loss (computed directly) & expected loss computed as (expected Bias) + ($c_2$expected variance) + ($c_1$expected noise) against the K value **on a separate figure**. **(5 points)** Make sure you add a legend to label the lineplots in the first figure. **(1 point)**"
   ]
  },
  {
   "cell_type": "markdown",
   "id": "11f813ce",
   "metadata": {},
   "source": [
    "### d)\n",
    "\n",
    "What is the K of the optimal model? **(1 point)** What are the bias, variance and expected loss (computed either way) for that K? **(2 points)**"
   ]
  },
  {
   "cell_type": "markdown",
   "id": "3de24a39",
   "metadata": {},
   "source": [
    "### e) \n",
    "\n",
    "In part c, you should see the variance leveling off after a certain K value. Explain why this is the case, considering the effect of the K value on a KNN model. **(2 points)** "
   ]
  },
  {
   "cell_type": "markdown",
   "id": "511497f1",
   "metadata": {},
   "source": [
    "The level of complexity of the KNN model decreases as K increases. After a certain K value, the model cannot get any simpler, as it becomes the equivalent of an intercept-only model, which just returns the majority class in the dataset for a classification task. Since the level of complexity is constant and the noise is constant, the variance of the model change negligibly (due to the randomness of training datasets) but mostly levels off."
   ]
  },
  {
   "cell_type": "markdown",
   "id": "ce3cb3d0",
   "metadata": {},
   "source": [
    "### f)\n",
    "\n",
    "Lastly, visualize the decision boundary of a KNN Classifier with **high-bias-low-variance (option 1)** and **low-bias-high-variance (option 2)**, using data from the same population.\n",
    "\n",
    "- For each option, pick a K value (1 and 90 would be good numbers.) **You are expected to know which number belongs to which option.**\n",
    "- Sample a training dataset. (Use `np.random.seed(1)`.)\n",
    "- Using the training dataset, train a KNN model with the K value you picked.\n",
    "- The rest of the code is given below for you.\n",
    "\n",
    "Note that you need to produce two figures. **(2x2 = 4 points)** Put titles on the figures to describe which figure is which option. **(2 points)**"
   ]
  },
  {
   "cell_type": "code",
   "execution_count": null,
   "id": "92dcb265",
   "metadata": {},
   "outputs": [],
   "source": [
    "#| eval: false\n",
    "\n",
    "# Develop and save the model as the 'model' object before using the code\n",
    "xx, yy = np.meshgrid(np.linspace(-15, 15, 100), np.linspace(-15, 15, 100))\n",
    "Z = model.predict(np.c_[xx.ravel(), yy.ravel()])\n",
    "Z = Z.reshape(xx.shape)\n",
    "sns.scatterplot(x = x1, y = x2, hue=y_train, legend=False);\n",
    "plt.contour(xx, yy, Z, levels=[0.5], linewidths=2)\n",
    "\n",
    "plt.title('____-bias-____-variance Model')"
   ]
  }
 ],
 "metadata": {
  "kernelspec": {
   "display_name": "Python 3 (ipykernel)",
   "language": "python",
   "name": "python3"
  },
  "language_info": {
   "codemirror_mode": {
    "name": "ipython",
    "version": 3
   },
   "file_extension": ".py",
   "mimetype": "text/x-python",
   "name": "python",
   "nbconvert_exporter": "python",
   "pygments_lexer": "ipython3",
   "version": "3.8.17"
  }
 },
 "nbformat": 4,
 "nbformat_minor": 5
}
