{
 "cells": [
  {
   "cell_type": "raw",
   "id": "4b9feeda",
   "metadata": {},
   "source": [
    "---\n",
    "title: \"XGBoost\"\n",
    "format: \n",
    "  html:\n",
    "    code-fold: false\n",
    "    toc-depth: 4\n",
    "    jupyter: python3\n",
    "---"
   ]
  },
  {
   "cell_type": "markdown",
   "id": "c61c10c7",
   "metadata": {},
   "source": [
    "## What is XGBoost?\n",
    "\n",
    "**XGBoost** (Extreme Gradient Boosting) is a scalable and efficient implementation of gradient boosting developed by Tianqi Chen and Carlos Guestrin in 2016. It has become one of the most popular machine learning algorithms for structured/tabular data, widely used in Kaggle competitions and production environments.\n",
    "\n",
    "Compared to vanilla Gradient Boosting, XGBoost includes additional system-level and algorithmic optimizations such as:\n",
    "\n",
    "- Regularization (to reduce overfitting)\n",
    "- Tree pruning\n",
    "- Parallelized tree construction\n",
    "- Missing value handling\n",
    "- Out-of-core computation for large datasets"
   ]
  },
  {
   "cell_type": "markdown",
   "id": "bf9723c3",
   "metadata": {},
   "source": [
    "## XGBoost Intuition\n",
    "\n",
    "XGBoost extends vanilla gradient boosting with:\n",
    "\n",
    "- **Regularization**: Penalizes complex models via L1/L2 terms in the loss function.\n",
    "- **Second-order optimization**: Uses both gradients and hessians for faster convergence and more accurate splits.\n",
    "- **Split constraints**: Prevents splits with insufficient gain (via `gamma`) during tree growth, avoiding the need for post-pruning.\n"
   ]
  },
  {
   "cell_type": "markdown",
   "id": "29f81d1d",
   "metadata": {},
   "source": [
    "## How XGBoost Works (Regression Example)\n",
    "\n",
    "XGBoost minimizes the following **regularized objective** at each boosting round $t$:\n",
    "\n",
    "$$\n",
    "\\mathcal{L}^{(t)} = \\sum_{i=1}^n l(y_i, \\hat{y}_i^{(t-1)} + f_t(x_i)) + \\Omega(f_t)\n",
    "$$\n",
    "\n",
    "Where:\n",
    "- $l$ is a differentiable convex loss function (e.g., squared error)\n",
    "- $f_t$ is the prediction function at iteration $t$ (a tree)\n",
    "- $\\Omega(f_t) = \\gamma T + \\frac{1}{2} \\lambda \\sum w_j^2$ is the regularization term (penalizes the number of leaves $T$ and leaf weights $w_j$)\n",
    "\n",
    "\n",
    "To simplify optimization, XGBoost applies a **second-order Taylor approximation** of the loss function:\n",
    "\n",
    "$$\n",
    "\\mathcal{L}^{(t)} \\approx \\sum_{i=1}^n \\left[ g_i f_t(x_i) + \\frac{1}{2} h_i f_t(x_i)^2 \\right] + \\Omega(f_t)\n",
    "$$\n",
    "\n",
    "Where:\n",
    "- $g_i = \\frac{\\partial l(y_i, \\hat{y}_i)}{\\partial \\hat{y}_i}$ is the first-order derivative (gradient)\n",
    "- $h_i = \\frac{\\partial^2 l(y_i, \\hat{y}_i)}{\\partial \\hat{y}_i^2}$ is the second-order derivative (hessian)\n",
    "\n",
    "\n",
    "XGBoost then chooses the **tree structure and leaf values** that minimize this approximate objective.\n",
    "\n"
   ]
  },
  {
   "cell_type": "markdown",
   "id": "7224f197",
   "metadata": {},
   "source": [
    "## Using XGBoost\n",
    "\n",
    "Although **XGBoost is not part of Scikit-learn**, it provides a **Scikit-learn-compatible API** through the `xgboost.sklearn` module. This allows you to use XGBoost models seamlessly with Scikit-learn tools such as `Pipeline`, `GridSearchCV`, and `cross_val_score`.\n",
    "\n",
    "The main classes are:\n",
    "\n",
    "- [`XGBRegressor`](https://xgboost.readthedocs.io/en/stable/python/python_api/xgboost.XGBRegressor.html): for regression tasks  \n",
    "- [`XGBClassifier`](https://xgboost.readthedocs.io/en/stable/python/python_api/xgboost.XGBClassifier.html): for classification tasks\n",
    "\n",
    "To install the package:\n",
    "```bash\n",
    "pip install xgboost\n",
    "```\n",
    "> **Note:** XGBoost is a separate library, not part of Scikit-learn, but it provides a **Scikit-learn-compatible API** via `XGBClassifier` and `XGBRegressor`.  \n",
    "> This makes it easy to integrate XGBoost models into Scikit-learn workflows such as `Pipeline`, `GridSearchCV`, and `cross_val_score`."
   ]
  },
  {
   "cell_type": "markdown",
   "id": "0b6569ab",
   "metadata": {},
   "source": [
    "## Core Hyperparameter Categories\n",
    "\n",
    "###  Model Complexity\n",
    "- `n_estimators`: Number of boosting rounds  \n",
    "- `max_depth`: Maximum depth of a tree  \n",
    "- `min_child_weight`: Minimum sum of instance weight needed in a child  \n",
    "\n",
    "###  Learning and Regularization\n",
    "- `learning_rate` (`eta`): Shrinkage rate to scale each tree’s contribution  \n",
    "- `subsample`: Fraction of rows used per boosting round  \n",
    "- `colsample_bytree`: Fraction of features used per tree  \n",
    "- `colsample_bylevel`, `colsample_bynode`: Further control over feature subsampling  \n",
    "\n",
    "###  Regularization\n",
    "- `gamma`: Minimum loss reduction required to make a further partition  \n",
    "- `reg_alpha`: L1 regularization term on weights (Lasso)  \n",
    "- `reg_lambda`: L2 regularization term on weights (Ridge)  \n",
    "\n",
    "###  Optimization Control\n",
    "- `objective`: Loss function (e.g., `'reg:squarederror'`, `'binary:logistic'`)  \n",
    "- `tree_method`: Tree construction algorithm (`'auto'`, `'hist'`, `'gpu_hist'`)  \n",
    "- `early_stopping_rounds`: Stop if validation score doesn’t improve after N rounds  \n",
    "\n",
    "However, there are other hyperparameters that can be tuned as well. Check out the list of all hyperparameters in the XGBoost [documentation](https://xgboost.readthedocs.io/en/stable/python/python_api.html#)."
   ]
  },
  {
   "cell_type": "code",
   "execution_count": 1,
   "id": "f819f995",
   "metadata": {},
   "outputs": [],
   "source": [
    "import pandas as pd\n",
    "import numpy as np\n",
    "import matplotlib.pyplot as plt\n",
    "from sklearn.model_selection import train_test_split, GridSearchCV\n",
    "from sklearn.preprocessing import OneHotEncoder, StandardScaler\n",
    "from sklearn.compose import ColumnTransformer\n",
    "from sklearn.pipeline import Pipeline\n",
    "from sklearn.metrics import root_mean_squared_error, r2_score, accuracy_score, precision_score, recall_score, f1_score, precision_recall_curve\n",
    "from xgboost import XGBRegressor, XGBClassifier\n",
    "import seaborn as sns\n",
    "\n",
    "from skopt import BayesSearchCV\n",
    "from skopt.space import Real, Categorical, Integer\n",
    "from skopt.plots import plot_objective, plot_histogram, plot_convergence\n",
    "import warnings\n",
    "from IPython import display"
   ]
  },
  {
   "cell_type": "code",
   "execution_count": 2,
   "id": "a9036ef3",
   "metadata": {},
   "outputs": [
    {
     "data": {
      "text/html": [
       "<div>\n",
       "<style scoped>\n",
       "    .dataframe tbody tr th:only-of-type {\n",
       "        vertical-align: middle;\n",
       "    }\n",
       "\n",
       "    .dataframe tbody tr th {\n",
       "        vertical-align: top;\n",
       "    }\n",
       "\n",
       "    .dataframe thead th {\n",
       "        text-align: right;\n",
       "    }\n",
       "</style>\n",
       "<table border=\"1\" class=\"dataframe\">\n",
       "  <thead>\n",
       "    <tr style=\"text-align: right;\">\n",
       "      <th></th>\n",
       "      <th>brand</th>\n",
       "      <th>model</th>\n",
       "      <th>year</th>\n",
       "      <th>transmission</th>\n",
       "      <th>mileage</th>\n",
       "      <th>fuelType</th>\n",
       "      <th>tax</th>\n",
       "      <th>mpg</th>\n",
       "      <th>engineSize</th>\n",
       "      <th>price</th>\n",
       "    </tr>\n",
       "  </thead>\n",
       "  <tbody>\n",
       "    <tr>\n",
       "      <th>0</th>\n",
       "      <td>vw</td>\n",
       "      <td>Beetle</td>\n",
       "      <td>2014</td>\n",
       "      <td>Manual</td>\n",
       "      <td>55457</td>\n",
       "      <td>Diesel</td>\n",
       "      <td>30</td>\n",
       "      <td>65.3266</td>\n",
       "      <td>1.6</td>\n",
       "      <td>7490</td>\n",
       "    </tr>\n",
       "    <tr>\n",
       "      <th>1</th>\n",
       "      <td>vauxhall</td>\n",
       "      <td>GTC</td>\n",
       "      <td>2017</td>\n",
       "      <td>Manual</td>\n",
       "      <td>15630</td>\n",
       "      <td>Petrol</td>\n",
       "      <td>145</td>\n",
       "      <td>47.2049</td>\n",
       "      <td>1.4</td>\n",
       "      <td>10998</td>\n",
       "    </tr>\n",
       "    <tr>\n",
       "      <th>2</th>\n",
       "      <td>merc</td>\n",
       "      <td>G Class</td>\n",
       "      <td>2012</td>\n",
       "      <td>Automatic</td>\n",
       "      <td>43000</td>\n",
       "      <td>Diesel</td>\n",
       "      <td>570</td>\n",
       "      <td>25.1172</td>\n",
       "      <td>3.0</td>\n",
       "      <td>44990</td>\n",
       "    </tr>\n",
       "    <tr>\n",
       "      <th>3</th>\n",
       "      <td>audi</td>\n",
       "      <td>RS5</td>\n",
       "      <td>2019</td>\n",
       "      <td>Automatic</td>\n",
       "      <td>10</td>\n",
       "      <td>Petrol</td>\n",
       "      <td>145</td>\n",
       "      <td>30.5593</td>\n",
       "      <td>2.9</td>\n",
       "      <td>51990</td>\n",
       "    </tr>\n",
       "    <tr>\n",
       "      <th>4</th>\n",
       "      <td>merc</td>\n",
       "      <td>X-CLASS</td>\n",
       "      <td>2018</td>\n",
       "      <td>Automatic</td>\n",
       "      <td>14000</td>\n",
       "      <td>Diesel</td>\n",
       "      <td>240</td>\n",
       "      <td>35.7168</td>\n",
       "      <td>2.3</td>\n",
       "      <td>28990</td>\n",
       "    </tr>\n",
       "  </tbody>\n",
       "</table>\n",
       "</div>"
      ],
      "text/plain": [
       "      brand     model  year transmission  mileage fuelType  tax      mpg  \\\n",
       "0        vw    Beetle  2014       Manual    55457   Diesel   30  65.3266   \n",
       "1  vauxhall       GTC  2017       Manual    15630   Petrol  145  47.2049   \n",
       "2      merc   G Class  2012    Automatic    43000   Diesel  570  25.1172   \n",
       "3      audi       RS5  2019    Automatic       10   Petrol  145  30.5593   \n",
       "4      merc   X-CLASS  2018    Automatic    14000   Diesel  240  35.7168   \n",
       "\n",
       "   engineSize  price  \n",
       "0         1.6   7490  \n",
       "1         1.4  10998  \n",
       "2         3.0  44990  \n",
       "3         2.9  51990  \n",
       "4         2.3  28990  "
      ]
     },
     "execution_count": 2,
     "metadata": {},
     "output_type": "execute_result"
    }
   ],
   "source": [
    "# Load the dataset\n",
    "car = pd.read_csv('Datasets/car.csv')\n",
    "car.head()"
   ]
  },
  {
   "cell_type": "code",
   "execution_count": 3,
   "id": "db6b5f99",
   "metadata": {},
   "outputs": [],
   "source": [
    "X = car.drop(columns=['price'])\n",
    "y = car['price']\n",
    "\n",
    "\n",
    "# Identify categorical and numerical columns\n",
    "categorical_cols = X.select_dtypes(include=['object']).columns.tolist()\n",
    "numerical_cols = X.select_dtypes(exclude=['object']).columns.tolist()\n",
    "\n",
    "X_train, X_test, y_train, y_test = train_test_split(X, y, test_size=0.2, random_state=42)"
   ]
  },
  {
   "cell_type": "markdown",
   "id": "bc00a2e8",
   "metadata": {},
   "source": [
    "Let's define some helper functions before building any models."
   ]
  },
  {
   "cell_type": "code",
   "execution_count": 4,
   "id": "342fefd3",
   "metadata": {},
   "outputs": [],
   "source": [
    "# Create preprocessing for numerical and categorical features\n",
    "preprocessor = ColumnTransformer(\n",
    "    transformers=[\n",
    "        ('num', 'passthrough', numerical_cols),\n",
    "        ('cat', OneHotEncoder(handle_unknown='ignore'), categorical_cols)\n",
    "    ]\n",
    ")\n",
    "\n",
    "# Function to evaluate model\n",
    "def evaluate_model(model, X_test, y_test):\n",
    "    y_pred = model.predict(X_test)\n",
    "    rmse = root_mean_squared_error(y_test, y_pred)\n",
    "    r2 = r2_score(y_test, y_pred)\n",
    "    \n",
    "    print(f\"Root Mean Squared Error: {rmse:.2f}\")\n",
    "    print(f\"R² Score: {r2:.4f}\")\n",
    "    \n",
    "    return rmse,  r2\n",
    "\n",
    "# Function to plot feature importance\n",
    "def plot_feature_importance(model, preprocessor, X):\n",
    "    if hasattr(model, 'feature_importances_'):\n",
    "        # Get feature names after one-hot encoding\n",
    "        cat_features = preprocessor.named_transformers_['cat'].get_feature_names_out(categorical_cols)\n",
    "        all_features = np.append(numerical_cols, cat_features)\n",
    "        \n",
    "        # Get feature importances\n",
    "        importances = model.feature_importances_\n",
    "        \n",
    "        # Sort feature importances in descending order\n",
    "        indices = np.argsort(importances)[::-1]\n",
    "        \n",
    "        # Create a DataFrame for easier visualization\n",
    "        importance_df = pd.DataFrame({\n",
    "            'Feature': all_features[indices][:20],  # Top 20 features\n",
    "            'Importance': importances[indices][:20]\n",
    "        })\n",
    "        importance_df = importance_df.sort_values(by='Importance', ascending=False)\n",
    "        return importance_df"
   ]
  },
  {
   "cell_type": "markdown",
   "id": "3d1d90c7",
   "metadata": {},
   "source": [
    "### Baseline Model"
   ]
  },
  {
   "cell_type": "code",
   "execution_count": 6,
   "id": "fb031a85",
   "metadata": {},
   "outputs": [
    {
     "name": "stdout",
     "output_type": "stream",
     "text": [
      "\n",
      "===== Baseline XGBoost Model =====\n",
      "\n",
      "Baseline Model Evaluation:\n",
      "Root Mean Squared Error: 3354.16\n",
      "R² Score: 0.9617\n"
     ]
    }
   ],
   "source": [
    "# ===== 1. Baseline Model =====\n",
    "print(\"\\n===== Baseline XGBoost Model =====\")\n",
    "baseline_pipeline = Pipeline([\n",
    "    ('preprocessor', preprocessor),\n",
    "    ('regressor', XGBRegressor(random_state=42))\n",
    "])\n",
    "\n",
    "baseline_pipeline.fit(X_train, y_train)\n",
    "print(\"\\nBaseline Model Evaluation:\")\n",
    "baseline_metrics = evaluate_model(baseline_pipeline, X_test, y_test)\n",
    "\n",
    "# Plot feature importance for baseline model\n",
    "baseline_importance = plot_feature_importance(baseline_pipeline.named_steps['regressor'], \n",
    "                                             baseline_pipeline.named_steps['preprocessor'], \n",
    "                                             X)"
   ]
  },
  {
   "cell_type": "markdown",
   "id": "b57e0829",
   "metadata": {},
   "source": [
    "###  Early Stopping in XGBoost\n",
    "\n",
    "**Early stopping** is a technique that stops training when the model’s performance on a validation set stops improving, helping to prevent overfitting and reduce training time.\n",
    "\n",
    "\n",
    "#### How It Works\n",
    "\n",
    "At each boosting round, XGBoost tracks a performance metric (e.g., RMSE or log loss) on a **validation set**. If the metric doesn't improve for a specified number of rounds (`early_stopping_rounds`), training is halted.\n",
    "\n",
    "- Saves computation by avoiding unnecessary boosting rounds.\n",
    "- Returns the model from the best iteration (with the lowest validation error).\n",
    "\n",
    "\n",
    "#### Requirements\n",
    "\n",
    "- You must provide an **`eval_set`** containing a validation set.\n",
    "- The evaluation metric must be one that XGBoost can track (`eval_metric` is optional but recommended)."
   ]
  },
  {
   "cell_type": "code",
   "execution_count": 8,
   "id": "53be44ec",
   "metadata": {},
   "outputs": [
    {
     "name": "stdout",
     "output_type": "stream",
     "text": [
      "\n",
      "===== XGBoost with Early Stopping =====\n"
     ]
    },
    {
     "data": {
      "text/html": [
       "<style>#sk-container-id-1 {\n",
       "  /* Definition of color scheme common for light and dark mode */\n",
       "  --sklearn-color-text: #000;\n",
       "  --sklearn-color-text-muted: #666;\n",
       "  --sklearn-color-line: gray;\n",
       "  /* Definition of color scheme for unfitted estimators */\n",
       "  --sklearn-color-unfitted-level-0: #fff5e6;\n",
       "  --sklearn-color-unfitted-level-1: #f6e4d2;\n",
       "  --sklearn-color-unfitted-level-2: #ffe0b3;\n",
       "  --sklearn-color-unfitted-level-3: chocolate;\n",
       "  /* Definition of color scheme for fitted estimators */\n",
       "  --sklearn-color-fitted-level-0: #f0f8ff;\n",
       "  --sklearn-color-fitted-level-1: #d4ebff;\n",
       "  --sklearn-color-fitted-level-2: #b3dbfd;\n",
       "  --sklearn-color-fitted-level-3: cornflowerblue;\n",
       "\n",
       "  /* Specific color for light theme */\n",
       "  --sklearn-color-text-on-default-background: var(--sg-text-color, var(--theme-code-foreground, var(--jp-content-font-color1, black)));\n",
       "  --sklearn-color-background: var(--sg-background-color, var(--theme-background, var(--jp-layout-color0, white)));\n",
       "  --sklearn-color-border-box: var(--sg-text-color, var(--theme-code-foreground, var(--jp-content-font-color1, black)));\n",
       "  --sklearn-color-icon: #696969;\n",
       "\n",
       "  @media (prefers-color-scheme: dark) {\n",
       "    /* Redefinition of color scheme for dark theme */\n",
       "    --sklearn-color-text-on-default-background: var(--sg-text-color, var(--theme-code-foreground, var(--jp-content-font-color1, white)));\n",
       "    --sklearn-color-background: var(--sg-background-color, var(--theme-background, var(--jp-layout-color0, #111)));\n",
       "    --sklearn-color-border-box: var(--sg-text-color, var(--theme-code-foreground, var(--jp-content-font-color1, white)));\n",
       "    --sklearn-color-icon: #878787;\n",
       "  }\n",
       "}\n",
       "\n",
       "#sk-container-id-1 {\n",
       "  color: var(--sklearn-color-text);\n",
       "}\n",
       "\n",
       "#sk-container-id-1 pre {\n",
       "  padding: 0;\n",
       "}\n",
       "\n",
       "#sk-container-id-1 input.sk-hidden--visually {\n",
       "  border: 0;\n",
       "  clip: rect(1px 1px 1px 1px);\n",
       "  clip: rect(1px, 1px, 1px, 1px);\n",
       "  height: 1px;\n",
       "  margin: -1px;\n",
       "  overflow: hidden;\n",
       "  padding: 0;\n",
       "  position: absolute;\n",
       "  width: 1px;\n",
       "}\n",
       "\n",
       "#sk-container-id-1 div.sk-dashed-wrapped {\n",
       "  border: 1px dashed var(--sklearn-color-line);\n",
       "  margin: 0 0.4em 0.5em 0.4em;\n",
       "  box-sizing: border-box;\n",
       "  padding-bottom: 0.4em;\n",
       "  background-color: var(--sklearn-color-background);\n",
       "}\n",
       "\n",
       "#sk-container-id-1 div.sk-container {\n",
       "  /* jupyter's `normalize.less` sets `[hidden] { display: none; }`\n",
       "     but bootstrap.min.css set `[hidden] { display: none !important; }`\n",
       "     so we also need the `!important` here to be able to override the\n",
       "     default hidden behavior on the sphinx rendered scikit-learn.org.\n",
       "     See: https://github.com/scikit-learn/scikit-learn/issues/21755 */\n",
       "  display: inline-block !important;\n",
       "  position: relative;\n",
       "}\n",
       "\n",
       "#sk-container-id-1 div.sk-text-repr-fallback {\n",
       "  display: none;\n",
       "}\n",
       "\n",
       "div.sk-parallel-item,\n",
       "div.sk-serial,\n",
       "div.sk-item {\n",
       "  /* draw centered vertical line to link estimators */\n",
       "  background-image: linear-gradient(var(--sklearn-color-text-on-default-background), var(--sklearn-color-text-on-default-background));\n",
       "  background-size: 2px 100%;\n",
       "  background-repeat: no-repeat;\n",
       "  background-position: center center;\n",
       "}\n",
       "\n",
       "/* Parallel-specific style estimator block */\n",
       "\n",
       "#sk-container-id-1 div.sk-parallel-item::after {\n",
       "  content: \"\";\n",
       "  width: 100%;\n",
       "  border-bottom: 2px solid var(--sklearn-color-text-on-default-background);\n",
       "  flex-grow: 1;\n",
       "}\n",
       "\n",
       "#sk-container-id-1 div.sk-parallel {\n",
       "  display: flex;\n",
       "  align-items: stretch;\n",
       "  justify-content: center;\n",
       "  background-color: var(--sklearn-color-background);\n",
       "  position: relative;\n",
       "}\n",
       "\n",
       "#sk-container-id-1 div.sk-parallel-item {\n",
       "  display: flex;\n",
       "  flex-direction: column;\n",
       "}\n",
       "\n",
       "#sk-container-id-1 div.sk-parallel-item:first-child::after {\n",
       "  align-self: flex-end;\n",
       "  width: 50%;\n",
       "}\n",
       "\n",
       "#sk-container-id-1 div.sk-parallel-item:last-child::after {\n",
       "  align-self: flex-start;\n",
       "  width: 50%;\n",
       "}\n",
       "\n",
       "#sk-container-id-1 div.sk-parallel-item:only-child::after {\n",
       "  width: 0;\n",
       "}\n",
       "\n",
       "/* Serial-specific style estimator block */\n",
       "\n",
       "#sk-container-id-1 div.sk-serial {\n",
       "  display: flex;\n",
       "  flex-direction: column;\n",
       "  align-items: center;\n",
       "  background-color: var(--sklearn-color-background);\n",
       "  padding-right: 1em;\n",
       "  padding-left: 1em;\n",
       "}\n",
       "\n",
       "\n",
       "/* Toggleable style: style used for estimator/Pipeline/ColumnTransformer box that is\n",
       "clickable and can be expanded/collapsed.\n",
       "- Pipeline and ColumnTransformer use this feature and define the default style\n",
       "- Estimators will overwrite some part of the style using the `sk-estimator` class\n",
       "*/\n",
       "\n",
       "/* Pipeline and ColumnTransformer style (default) */\n",
       "\n",
       "#sk-container-id-1 div.sk-toggleable {\n",
       "  /* Default theme specific background. It is overwritten whether we have a\n",
       "  specific estimator or a Pipeline/ColumnTransformer */\n",
       "  background-color: var(--sklearn-color-background);\n",
       "}\n",
       "\n",
       "/* Toggleable label */\n",
       "#sk-container-id-1 label.sk-toggleable__label {\n",
       "  cursor: pointer;\n",
       "  display: flex;\n",
       "  width: 100%;\n",
       "  margin-bottom: 0;\n",
       "  padding: 0.5em;\n",
       "  box-sizing: border-box;\n",
       "  text-align: center;\n",
       "  align-items: start;\n",
       "  justify-content: space-between;\n",
       "  gap: 0.5em;\n",
       "}\n",
       "\n",
       "#sk-container-id-1 label.sk-toggleable__label .caption {\n",
       "  font-size: 0.6rem;\n",
       "  font-weight: lighter;\n",
       "  color: var(--sklearn-color-text-muted);\n",
       "}\n",
       "\n",
       "#sk-container-id-1 label.sk-toggleable__label-arrow:before {\n",
       "  /* Arrow on the left of the label */\n",
       "  content: \"▸\";\n",
       "  float: left;\n",
       "  margin-right: 0.25em;\n",
       "  color: var(--sklearn-color-icon);\n",
       "}\n",
       "\n",
       "#sk-container-id-1 label.sk-toggleable__label-arrow:hover:before {\n",
       "  color: var(--sklearn-color-text);\n",
       "}\n",
       "\n",
       "/* Toggleable content - dropdown */\n",
       "\n",
       "#sk-container-id-1 div.sk-toggleable__content {\n",
       "  max-height: 0;\n",
       "  max-width: 0;\n",
       "  overflow: hidden;\n",
       "  text-align: left;\n",
       "  /* unfitted */\n",
       "  background-color: var(--sklearn-color-unfitted-level-0);\n",
       "}\n",
       "\n",
       "#sk-container-id-1 div.sk-toggleable__content.fitted {\n",
       "  /* fitted */\n",
       "  background-color: var(--sklearn-color-fitted-level-0);\n",
       "}\n",
       "\n",
       "#sk-container-id-1 div.sk-toggleable__content pre {\n",
       "  margin: 0.2em;\n",
       "  border-radius: 0.25em;\n",
       "  color: var(--sklearn-color-text);\n",
       "  /* unfitted */\n",
       "  background-color: var(--sklearn-color-unfitted-level-0);\n",
       "}\n",
       "\n",
       "#sk-container-id-1 div.sk-toggleable__content.fitted pre {\n",
       "  /* unfitted */\n",
       "  background-color: var(--sklearn-color-fitted-level-0);\n",
       "}\n",
       "\n",
       "#sk-container-id-1 input.sk-toggleable__control:checked~div.sk-toggleable__content {\n",
       "  /* Expand drop-down */\n",
       "  max-height: 200px;\n",
       "  max-width: 100%;\n",
       "  overflow: auto;\n",
       "}\n",
       "\n",
       "#sk-container-id-1 input.sk-toggleable__control:checked~label.sk-toggleable__label-arrow:before {\n",
       "  content: \"▾\";\n",
       "}\n",
       "\n",
       "/* Pipeline/ColumnTransformer-specific style */\n",
       "\n",
       "#sk-container-id-1 div.sk-label input.sk-toggleable__control:checked~label.sk-toggleable__label {\n",
       "  color: var(--sklearn-color-text);\n",
       "  background-color: var(--sklearn-color-unfitted-level-2);\n",
       "}\n",
       "\n",
       "#sk-container-id-1 div.sk-label.fitted input.sk-toggleable__control:checked~label.sk-toggleable__label {\n",
       "  background-color: var(--sklearn-color-fitted-level-2);\n",
       "}\n",
       "\n",
       "/* Estimator-specific style */\n",
       "\n",
       "/* Colorize estimator box */\n",
       "#sk-container-id-1 div.sk-estimator input.sk-toggleable__control:checked~label.sk-toggleable__label {\n",
       "  /* unfitted */\n",
       "  background-color: var(--sklearn-color-unfitted-level-2);\n",
       "}\n",
       "\n",
       "#sk-container-id-1 div.sk-estimator.fitted input.sk-toggleable__control:checked~label.sk-toggleable__label {\n",
       "  /* fitted */\n",
       "  background-color: var(--sklearn-color-fitted-level-2);\n",
       "}\n",
       "\n",
       "#sk-container-id-1 div.sk-label label.sk-toggleable__label,\n",
       "#sk-container-id-1 div.sk-label label {\n",
       "  /* The background is the default theme color */\n",
       "  color: var(--sklearn-color-text-on-default-background);\n",
       "}\n",
       "\n",
       "/* On hover, darken the color of the background */\n",
       "#sk-container-id-1 div.sk-label:hover label.sk-toggleable__label {\n",
       "  color: var(--sklearn-color-text);\n",
       "  background-color: var(--sklearn-color-unfitted-level-2);\n",
       "}\n",
       "\n",
       "/* Label box, darken color on hover, fitted */\n",
       "#sk-container-id-1 div.sk-label.fitted:hover label.sk-toggleable__label.fitted {\n",
       "  color: var(--sklearn-color-text);\n",
       "  background-color: var(--sklearn-color-fitted-level-2);\n",
       "}\n",
       "\n",
       "/* Estimator label */\n",
       "\n",
       "#sk-container-id-1 div.sk-label label {\n",
       "  font-family: monospace;\n",
       "  font-weight: bold;\n",
       "  display: inline-block;\n",
       "  line-height: 1.2em;\n",
       "}\n",
       "\n",
       "#sk-container-id-1 div.sk-label-container {\n",
       "  text-align: center;\n",
       "}\n",
       "\n",
       "/* Estimator-specific */\n",
       "#sk-container-id-1 div.sk-estimator {\n",
       "  font-family: monospace;\n",
       "  border: 1px dotted var(--sklearn-color-border-box);\n",
       "  border-radius: 0.25em;\n",
       "  box-sizing: border-box;\n",
       "  margin-bottom: 0.5em;\n",
       "  /* unfitted */\n",
       "  background-color: var(--sklearn-color-unfitted-level-0);\n",
       "}\n",
       "\n",
       "#sk-container-id-1 div.sk-estimator.fitted {\n",
       "  /* fitted */\n",
       "  background-color: var(--sklearn-color-fitted-level-0);\n",
       "}\n",
       "\n",
       "/* on hover */\n",
       "#sk-container-id-1 div.sk-estimator:hover {\n",
       "  /* unfitted */\n",
       "  background-color: var(--sklearn-color-unfitted-level-2);\n",
       "}\n",
       "\n",
       "#sk-container-id-1 div.sk-estimator.fitted:hover {\n",
       "  /* fitted */\n",
       "  background-color: var(--sklearn-color-fitted-level-2);\n",
       "}\n",
       "\n",
       "/* Specification for estimator info (e.g. \"i\" and \"?\") */\n",
       "\n",
       "/* Common style for \"i\" and \"?\" */\n",
       "\n",
       ".sk-estimator-doc-link,\n",
       "a:link.sk-estimator-doc-link,\n",
       "a:visited.sk-estimator-doc-link {\n",
       "  float: right;\n",
       "  font-size: smaller;\n",
       "  line-height: 1em;\n",
       "  font-family: monospace;\n",
       "  background-color: var(--sklearn-color-background);\n",
       "  border-radius: 1em;\n",
       "  height: 1em;\n",
       "  width: 1em;\n",
       "  text-decoration: none !important;\n",
       "  margin-left: 0.5em;\n",
       "  text-align: center;\n",
       "  /* unfitted */\n",
       "  border: var(--sklearn-color-unfitted-level-1) 1pt solid;\n",
       "  color: var(--sklearn-color-unfitted-level-1);\n",
       "}\n",
       "\n",
       ".sk-estimator-doc-link.fitted,\n",
       "a:link.sk-estimator-doc-link.fitted,\n",
       "a:visited.sk-estimator-doc-link.fitted {\n",
       "  /* fitted */\n",
       "  border: var(--sklearn-color-fitted-level-1) 1pt solid;\n",
       "  color: var(--sklearn-color-fitted-level-1);\n",
       "}\n",
       "\n",
       "/* On hover */\n",
       "div.sk-estimator:hover .sk-estimator-doc-link:hover,\n",
       ".sk-estimator-doc-link:hover,\n",
       "div.sk-label-container:hover .sk-estimator-doc-link:hover,\n",
       ".sk-estimator-doc-link:hover {\n",
       "  /* unfitted */\n",
       "  background-color: var(--sklearn-color-unfitted-level-3);\n",
       "  color: var(--sklearn-color-background);\n",
       "  text-decoration: none;\n",
       "}\n",
       "\n",
       "div.sk-estimator.fitted:hover .sk-estimator-doc-link.fitted:hover,\n",
       ".sk-estimator-doc-link.fitted:hover,\n",
       "div.sk-label-container:hover .sk-estimator-doc-link.fitted:hover,\n",
       ".sk-estimator-doc-link.fitted:hover {\n",
       "  /* fitted */\n",
       "  background-color: var(--sklearn-color-fitted-level-3);\n",
       "  color: var(--sklearn-color-background);\n",
       "  text-decoration: none;\n",
       "}\n",
       "\n",
       "/* Span, style for the box shown on hovering the info icon */\n",
       ".sk-estimator-doc-link span {\n",
       "  display: none;\n",
       "  z-index: 9999;\n",
       "  position: relative;\n",
       "  font-weight: normal;\n",
       "  right: .2ex;\n",
       "  padding: .5ex;\n",
       "  margin: .5ex;\n",
       "  width: min-content;\n",
       "  min-width: 20ex;\n",
       "  max-width: 50ex;\n",
       "  color: var(--sklearn-color-text);\n",
       "  box-shadow: 2pt 2pt 4pt #999;\n",
       "  /* unfitted */\n",
       "  background: var(--sklearn-color-unfitted-level-0);\n",
       "  border: .5pt solid var(--sklearn-color-unfitted-level-3);\n",
       "}\n",
       "\n",
       ".sk-estimator-doc-link.fitted span {\n",
       "  /* fitted */\n",
       "  background: var(--sklearn-color-fitted-level-0);\n",
       "  border: var(--sklearn-color-fitted-level-3);\n",
       "}\n",
       "\n",
       ".sk-estimator-doc-link:hover span {\n",
       "  display: block;\n",
       "}\n",
       "\n",
       "/* \"?\"-specific style due to the `<a>` HTML tag */\n",
       "\n",
       "#sk-container-id-1 a.estimator_doc_link {\n",
       "  float: right;\n",
       "  font-size: 1rem;\n",
       "  line-height: 1em;\n",
       "  font-family: monospace;\n",
       "  background-color: var(--sklearn-color-background);\n",
       "  border-radius: 1rem;\n",
       "  height: 1rem;\n",
       "  width: 1rem;\n",
       "  text-decoration: none;\n",
       "  /* unfitted */\n",
       "  color: var(--sklearn-color-unfitted-level-1);\n",
       "  border: var(--sklearn-color-unfitted-level-1) 1pt solid;\n",
       "}\n",
       "\n",
       "#sk-container-id-1 a.estimator_doc_link.fitted {\n",
       "  /* fitted */\n",
       "  border: var(--sklearn-color-fitted-level-1) 1pt solid;\n",
       "  color: var(--sklearn-color-fitted-level-1);\n",
       "}\n",
       "\n",
       "/* On hover */\n",
       "#sk-container-id-1 a.estimator_doc_link:hover {\n",
       "  /* unfitted */\n",
       "  background-color: var(--sklearn-color-unfitted-level-3);\n",
       "  color: var(--sklearn-color-background);\n",
       "  text-decoration: none;\n",
       "}\n",
       "\n",
       "#sk-container-id-1 a.estimator_doc_link.fitted:hover {\n",
       "  /* fitted */\n",
       "  background-color: var(--sklearn-color-fitted-level-3);\n",
       "}\n",
       "</style><div id=\"sk-container-id-1\" class=\"sk-top-container\"><div class=\"sk-text-repr-fallback\"><pre>XGBRegressor(base_score=None, booster=None, callbacks=None,\n",
       "             colsample_bylevel=None, colsample_bynode=None,\n",
       "             colsample_bytree=None, device=None, early_stopping_rounds=20,\n",
       "             enable_categorical=False, eval_metric=None, feature_types=None,\n",
       "             feature_weights=None, gamma=None, grow_policy=None,\n",
       "             importance_type=None, interaction_constraints=None,\n",
       "             learning_rate=None, max_bin=None, max_cat_threshold=None,\n",
       "             max_cat_to_onehot=None, max_delta_step=None, max_depth=None,\n",
       "             max_leaves=None, min_child_weight=None, missing=nan,\n",
       "             monotone_constraints=None, multi_strategy=None, n_estimators=1000,\n",
       "             n_jobs=None, num_parallel_tree=None, ...)</pre><b>In a Jupyter environment, please rerun this cell to show the HTML representation or trust the notebook. <br />On GitHub, the HTML representation is unable to render, please try loading this page with nbviewer.org.</b></div><div class=\"sk-container\" hidden><div class=\"sk-item\"><div class=\"sk-estimator fitted sk-toggleable\"><input class=\"sk-toggleable__control sk-hidden--visually\" id=\"sk-estimator-id-1\" type=\"checkbox\" checked><label for=\"sk-estimator-id-1\" class=\"sk-toggleable__label fitted sk-toggleable__label-arrow\"><div><div>XGBRegressor</div></div><div><a class=\"sk-estimator-doc-link fitted\" rel=\"noreferrer\" target=\"_blank\" href=\"https://xgboost.readthedocs.io/en/release_3.0.0/python/python_api.html#xgboost.XGBRegressor\">?<span>Documentation for XGBRegressor</span></a><span class=\"sk-estimator-doc-link fitted\">i<span>Fitted</span></span></div></label><div class=\"sk-toggleable__content fitted\"><pre>XGBRegressor(base_score=None, booster=None, callbacks=None,\n",
       "             colsample_bylevel=None, colsample_bynode=None,\n",
       "             colsample_bytree=None, device=None, early_stopping_rounds=20,\n",
       "             enable_categorical=False, eval_metric=None, feature_types=None,\n",
       "             feature_weights=None, gamma=None, grow_policy=None,\n",
       "             importance_type=None, interaction_constraints=None,\n",
       "             learning_rate=None, max_bin=None, max_cat_threshold=None,\n",
       "             max_cat_to_onehot=None, max_delta_step=None, max_depth=None,\n",
       "             max_leaves=None, min_child_weight=None, missing=nan,\n",
       "             monotone_constraints=None, multi_strategy=None, n_estimators=1000,\n",
       "             n_jobs=None, num_parallel_tree=None, ...)</pre></div> </div></div></div></div>"
      ],
      "text/plain": [
       "XGBRegressor(base_score=None, booster=None, callbacks=None,\n",
       "             colsample_bylevel=None, colsample_bynode=None,\n",
       "             colsample_bytree=None, device=None, early_stopping_rounds=20,\n",
       "             enable_categorical=False, eval_metric=None, feature_types=None,\n",
       "             feature_weights=None, gamma=None, grow_policy=None,\n",
       "             importance_type=None, interaction_constraints=None,\n",
       "             learning_rate=None, max_bin=None, max_cat_threshold=None,\n",
       "             max_cat_to_onehot=None, max_delta_step=None, max_depth=None,\n",
       "             max_leaves=None, min_child_weight=None, missing=nan,\n",
       "             monotone_constraints=None, multi_strategy=None, n_estimators=1000,\n",
       "             n_jobs=None, num_parallel_tree=None, ...)"
      ]
     },
     "execution_count": 8,
     "metadata": {},
     "output_type": "execute_result"
    }
   ],
   "source": [
    "# ===== 2. Early Stopping =====\n",
    "print(\"\\n===== XGBoost with Early Stopping =====\")\n",
    "# Create validation set for early stopping\n",
    "X_train_es, X_val, y_train_es, y_val = train_test_split(X_train, y_train, test_size=0.1, random_state=42)\n",
    "\n",
    "# Preprocess the validation set\n",
    "preprocessor_fit = preprocessor.fit(X_train_es)\n",
    "X_train_es_transformed = preprocessor_fit.transform(X_train_es)\n",
    "X_val_transformed = preprocessor_fit.transform(X_val)\n",
    "\n",
    "\n",
    "# Train with early stopping\n",
    "early_stop_model = XGBRegressor(\n",
    "    random_state=42,\n",
    "    n_estimators=1000,\n",
    "    early_stopping_rounds=20\n",
    ")\n",
    "early_stop_model.fit(\n",
    "    X_train_es_transformed, y_train_es,\n",
    "    eval_set=[(X_val_transformed, y_val)],\n",
    "    verbose=False\n",
    ")"
   ]
  },
  {
   "cell_type": "code",
   "execution_count": 9,
   "id": "86c006fd",
   "metadata": {},
   "outputs": [
    {
     "name": "stdout",
     "output_type": "stream",
     "text": [
      "\n",
      "Early Stopping Model Evaluation:\n",
      "Root Mean Squared Error: 3332.03\n",
      "R² Score: 0.9622\n",
      "Best number of iterations: 193\n"
     ]
    }
   ],
   "source": [
    "# Update the pipeline with the best model\n",
    "early_stop_pipeline = Pipeline([\n",
    "    ('preprocessor', preprocessor),\n",
    "    ('regressor', XGBRegressor(\n",
    "        random_state=42,\n",
    "        n_estimators=early_stop_model.best_iteration,  # Use the best number of iterations\n",
    "    ))\n",
    "])\n",
    "\n",
    "early_stop_pipeline.fit(X_train, y_train)\n",
    "print(\"\\nEarly Stopping Model Evaluation:\")\n",
    "early_stop_metrics = evaluate_model(early_stop_pipeline, X_test, y_test)\n",
    "print(f\"Best number of iterations: {early_stop_model.best_iteration}\")"
   ]
  },
  {
   "cell_type": "markdown",
   "id": "95ef4114",
   "metadata": {},
   "source": [
    "###  `gamma` in XGBoost\n",
    "\n",
    "**Definition**:  \n",
    "`gamma` (also called `min_split_loss`) specifies the **minimum loss reduction required** to make a further partition (split) on a leaf node of the tree.\n",
    "\n",
    "\n",
    "**How it works**:\n",
    "\n",
    "- During tree construction, XGBoost evaluates whether splitting a node reduces the overall training loss.\n",
    "- If the **reduction in loss is less than `gamma`**, the split is **discarded**, and the node becomes a leaf.\n",
    "- Higher values of `gamma` make the algorithm more **conservative**, leading to **simpler trees**.\n",
    "\n",
    "\n",
    "**Formula**:  \n",
    "At each split, XGBoost calculates the gain (reduction in regularized loss):\n",
    "\n",
    "$$\n",
    "\\text{Gain} = \\frac{1}{2} \\left( \\frac{G_L^2}{H_L + \\lambda} + \\frac{G_R^2}{H_R + \\lambda} - \\frac{(G_L + G_R)^2}{H_L + H_R + \\lambda} \\right) - \\gamma\n",
    "$$\n",
    "\n",
    "Where:\n",
    "- $G_L$, $H_L$: gradient and hessian sums for the **left child**\n",
    "- $G_R$, $H_R$: gradient and hessian sums for the **right child**\n",
    "- $\\lambda$: L2 regularization term\n",
    "- $\\gamma$: minimum loss reduction required to make a split\n",
    "\n",
    "\n",
    "\n",
    "**Effect of `gamma`**:\n",
    "\n",
    "| `gamma` Value | Behavior                     | Risk                   |\n",
    "|---------------|------------------------------|------------------------|\n",
    "| 0 (default)   | Most splits are allowed      | Overfitting possible   |\n",
    "| Moderate      | Small-gain splits are blocked| More robust trees      |\n",
    "| High          | Very few splits allowed      | Underfitting possible  |\n",
    "\n",
    "\n",
    "**Use case**:\n",
    "- Tune `gamma` to **prune noisy or unnecessary splits**.\n",
    "- Helpful when the model is **overfitting**, especially on small datasets.\n",
    "\n",
    "\n",
    "**Example**:\n",
    "```python\n",
    "XGBRegressor(gamma=1.0)\n",
    "```\n",
    "\n"
   ]
  },
  {
   "cell_type": "code",
   "execution_count": 14,
   "id": "c05ea353",
   "metadata": {},
   "outputs": [
    {
     "name": "stdout",
     "output_type": "stream",
     "text": [
      "\n",
      "===== XGBoost with Regularization: Varying Gamma =====\n",
      "\n",
      "Best Parameters from Regularization Tuning (γ - gamma)::\n",
      "{'regressor__gamma': 100}\n",
      "Best Cross-Validation RMSE: 3428.44\n",
      "\n",
      "Test Set Evaluation for Best Model from Gamma Regularization Tuning:\n",
      "Root Mean Squared Error: 3332.02\n",
      "R² Score: 0.9622\n"
     ]
    }
   ],
   "source": [
    "# ===== 3. Regularization Experiments: varying gamma =====\n",
    "\n",
    "print(\"\\n===== XGBoost with Regularization: Varying Gamma =====\")\n",
    "# Define the parameter grid for gamma\n",
    "param_grid = {\n",
    "    'regressor__gamma': [0, 0.1, 0.5, 1, 5, 10, 100],\n",
    "}\n",
    "# Create a new pipeline for the regularization experiment\n",
    "regularization_gamma_pipeline = Pipeline([\n",
    "    ('preprocessor', preprocessor),\n",
    "    ('regressor', XGBRegressor(random_state=42, n_estimators=early_stop_model.best_iteration))\n",
    "])\n",
    "\n",
    "# Perform grid search with cross-validation\n",
    "grid_search_gamma = GridSearchCV(\n",
    "    regularization_gamma_pipeline,\n",
    "    param_grid,\n",
    "    scoring='neg_mean_squared_error',\n",
    "    n_jobs=-1\n",
    ")\n",
    "\n",
    "grid_search_gamma.fit(X_train, y_train)\n",
    "print(\"\\nBest Parameters from Regularization Tuning (γ - gamma)::\")\n",
    "print(grid_search_gamma.best_params_)\n",
    "print(\"Best Cross-Validation RMSE: {:.2f}\".format(np.sqrt(-grid_search_gamma.best_score_)))\n",
    "\n",
    "# Evaluate the best model from grid search\n",
    "best_gamma_model = grid_search_gamma.best_estimator_\n",
    "print(\"\\nTest Set Evaluation for Best Model from Gamma Regularization Tuning:\")\n",
    "regularization_metrics = evaluate_model(best_gamma_model, X_test, y_test)"
   ]
  },
  {
   "cell_type": "code",
   "execution_count": 15,
   "id": "304e0501",
   "metadata": {},
   "outputs": [
    {
     "data": {
      "image/png": "[encoded data removed]",
      "text/plain": [
       "<Figure size 800x500 with 1 Axes>"
      ]
     },
     "metadata": {},
     "output_type": "display_data"
    }
   ],
   "source": [
    "# Extract gamma values and corresponding mean CV RMSE\n",
    "gamma_values = grid_search_gamma.cv_results_['param_regressor__gamma'].data\n",
    "\n",
    "# Convert mean test scores to RMSE, rounding to 2 decimal places\n",
    "mean_rmse_scores = np.sqrt(-grid_search_gamma.cv_results_['mean_test_score'])\n",
    "# Round the RMSE scores to 2 decimal places\n",
    "mean_rmse_scores = np.round(mean_rmse_scores, 4)\n",
    "\n",
    "# Plot gamma vs RMSE with plain y-axis tick labels\n",
    "plt.figure(figsize=(8, 5))\n",
    "plt.plot(gamma_values, mean_rmse_scores, marker='o')\n",
    "plt.xlabel('Gamma (min_split_loss)', fontsize=12)\n",
    "plt.ylabel('CV RMSE', fontsize=12)\n",
    "plt.title('Effect of gamma on XGBoost Performance', fontsize=14)\n",
    "plt.grid(True)\n",
    "\n",
    "plt.tight_layout()\n",
    "plt.show()\n"
   ]
  },
  {
   "cell_type": "markdown",
   "id": "e2efa388",
   "metadata": {},
   "source": [
    "**Effect of `gamma` on XGBoost Performance**\n",
    "\n",
    "As `gamma` increases, XGBoost becomes more selective about making splits.  \n",
    "\n",
    "- **Low gamma (0–5)**: Trees grow freely → higher RMSE due to possible overfitting.\n",
    "- **Moderate to high gamma (10–100)**: Blocks weak splits → simpler trees with better validation performance.\n",
    "\n",
    "In this dataset, higher `gamma` values improved generalization by preventing unnecessary splits."
   ]
  },
  {
   "cell_type": "markdown",
   "id": "7f8481cd",
   "metadata": {},
   "source": [
    "###  `reg_lambda` and `reg_alpha` in XGBoost\n",
    "\n",
    "XGBoost includes **regularization** to help prevent overfitting by penalizing complex trees.\n",
    "\n",
    "- `reg_lambda` (L2 regularization):\n",
    "  - Penalizes large leaf weights using a squared penalty.\n",
    "  - Encourages smaller, smoother weight values (like Ridge regression).\n",
    "  - Helps when many features contribute weakly.\n",
    "\n",
    "- `reg_alpha` (L1 regularization):\n",
    "  - Penalizes absolute values of leaf weights.\n",
    "  - Can shrink some weights to zero, effectively performing feature selection (like Lasso).\n",
    "  - Useful when you expect only a few strong features.\n",
    "\n",
    "**Objective function with regularization**:\n",
    "$$\n",
    "\\mathcal{L} = \\text{Loss} + \\gamma T + \\frac{1}{2} \\lambda \\sum_j w_j^2 + \\alpha \\sum_j |w_j|\n",
    "$$\n",
    "\n",
    "Where:\n",
    "- $\\text{Loss}$: training loss (e.g., squared error or log loss)\n",
    "- $T$: number of leaves in the tree\n",
    "- $w_j$: weight of the $j$-th leaf\n",
    "- $\\lambda$: L2 regularization (Ridge penalty)\n",
    "- $\\alpha$: L1 regularization (Lasso penalty)\n",
    "- $\\gamma$: cost for adding a new leaf (controls tree growth)"
   ]
  },
  {
   "cell_type": "markdown",
   "id": "5bbaa4b2",
   "metadata": {},
   "source": [
    "**Understanding them via Ridge, Lasso, and ElasticNet you learned in STAT303-2**\n",
    "\n",
    "Just like Ridge/Lasso regularization helps linear models generalize better, `reg_lambda` and `reg_alpha` help XGBoost prevent overfitting by controlling how complex the trees become through leaf weight penalties.\n",
    "\n",
    "- `reg_alpha` = 0 → **No L1 penalty**, behaves like Ridge (only L2 used)\n",
    "- `reg_lambda` = 0 → **No L2 penalty**, behaves like Lasso (only L1 used)\n",
    "- `reg_alpha > 0` and `reg_lambda > 0` → behaves like **ElasticNet**\n",
    "\n",
    "This analogy helps understand how XGBoost controls model complexity:\n",
    "\n",
    "| Setting                  | Behavior                                 |\n",
    "|--------------------------|------------------------------------------|\n",
    "| `reg_alpha=0`, `reg_lambda>0` | Like **Ridge** → smooth leaf weights, all included |\n",
    "| `reg_alpha>0`, `reg_lambda=0` | Like **Lasso** → some leaf weights may shrink to zero |\n",
    "| Both > 0                 | Like **ElasticNet** → balance shrinkage and sparsity |\n",
    "| Both = 0 (default)       | No regularization → may overfit on small/noisy data |"
   ]
  },
  {
   "cell_type": "code",
   "execution_count": 17,
   "id": "7ad7f33e",
   "metadata": {},
   "outputs": [
    {
     "name": "stdout",
     "output_type": "stream",
     "text": [
      "\n",
      "===== Exploring Regularization Parameters: reg_lambda and reg_alpha =====\n",
      "\n",
      "Best Parameters from Lambda and Alpha Regularization Tuning:\n",
      "{'regressor__reg_alpha': 1, 'regressor__reg_lambda': 0}\n",
      "Best Cross-Validation RMSE: 3361.75\n",
      "\n",
      "Test Set Evaluation for Best Regularization Model (λ and α):\n",
      "Root Mean Squared Error: 3551.09\n",
      "R² Score: 0.9570\n"
     ]
    }
   ],
   "source": [
    "# ===== 3. Regularization Experiments: tuning reg_lambda and reg_alpha =====\n",
    "print(\"\\n===== Exploring Regularization Parameters: reg_lambda and reg_alpha =====\")\n",
    "\n",
    "# Define the parameter grid for reg_lambda and reg_alpha\n",
    "param_grid_reg = {\n",
    "    'regressor__reg_lambda': [0, 0.1, 0.5, 1, 5, 10, 100],\n",
    "    'regressor__reg_alpha': [0, 0.1, 0.5, 1, 5, 10, 100],\n",
    "}\n",
    "\n",
    "# Create a new pipeline for the regularization experiment\n",
    "regularization_lambda_alpha_pipeline = Pipeline([\n",
    "    ('preprocessor', preprocessor),\n",
    "    ('regressor', XGBRegressor(random_state=42, n_estimators=early_stop_model.best_iteration))\n",
    "])\n",
    "\n",
    "# Perform grid search with cross-validation\n",
    "grid_search_lambda_alpha_reg = GridSearchCV(\n",
    "    regularization_lambda_alpha_pipeline,\n",
    "    param_grid_reg,\n",
    "    scoring='neg_mean_squared_error',\n",
    "    n_jobs=-1\n",
    ")\n",
    "grid_search_lambda_alpha_reg.fit(X_train, y_train)\n",
    "print(\"\\nBest Parameters from Lambda and Alpha Regularization Tuning:\")\n",
    "print(grid_search_lambda_alpha_reg.best_params_)\n",
    "print(\"Best Cross-Validation RMSE: {:.2f}\".format(np.sqrt(-grid_search_lambda_alpha_reg.best_score_)))\n",
    "\n",
    "# Evaluate the best model from grid search\n",
    "best_lambda_alpha_model = grid_search_lambda_alpha_reg.best_estimator_\n",
    "print(\"\\nTest Set Evaluation for Best Regularization Model (λ and α):\")\n",
    "regularization_metrics_reg = evaluate_model(best_lambda_alpha_model, X_test, y_test)"
   ]
  },
  {
   "cell_type": "code",
   "execution_count": 18,
   "id": "059b4242",
   "metadata": {},
   "outputs": [
    {
     "data": {
      "image/png": "[encoded data removed]",
      "text/plain": [
       "<Figure size 1000x600 with 2 Axes>"
      ]
     },
     "metadata": {},
     "output_type": "display_data"
    }
   ],
   "source": [
    "# Extract reg_lambda and reg_alpha values and corresponding mean CV RMSE\n",
    "reg_lambda_values = grid_search_lambda_alpha_reg.cv_results_['param_regressor__reg_lambda'].data\n",
    "reg_alpha_values = grid_search_lambda_alpha_reg.cv_results_['param_regressor__reg_alpha'].data\n",
    "\n",
    "# Convert mean test scores to RMSE, rounding to 2 decimal places\n",
    "mean_rmse_scores_reg = np.sqrt(-grid_search_lambda_alpha_reg.cv_results_['mean_test_score'])\n",
    "# Round the RMSE scores to 2 decimal places\n",
    "mean_rmse_scores_reg = np.round(mean_rmse_scores_reg, 4)\n",
    "\n",
    "# Create a DataFrame for easier plotting\n",
    "reg_lambda_alpha_results_df = pd.DataFrame({\n",
    "    'reg_lambda': reg_lambda_values,\n",
    "    'reg_alpha': reg_alpha_values,\n",
    "    'mean_rmse': mean_rmse_scores_reg\n",
    "})\n",
    "\n",
    "# Pivot the DataFrame for heatmap\n",
    "regreg_lambda_alpha_results_df_pivot_df = reg_lambda_alpha_results_df.pivot(index='reg_lambda', columns='reg_alpha', values='mean_rmse')\n",
    "\n",
    "# Plotting the heatmap\n",
    "plt.figure(figsize=(10, 6))\n",
    "sns.heatmap(regreg_lambda_alpha_results_df_pivot_df, annot=True, fmt=\".2f\", cmap='viridis', cbar_kws={'label': 'CV RMSE'})\n",
    "plt.title('Effect of reg_lambda and reg_alpha on XGBoost Performance', fontsize=14)\n",
    "plt.xlabel('reg_alpha', fontsize=12)\n",
    "plt.ylabel('reg_lambda', fontsize=12)\n",
    "plt.tight_layout();"
   ]
  },
  {
   "cell_type": "markdown",
   "id": "fbfc23c3",
   "metadata": {},
   "source": [
    "### Exploring Regularization Hyperparameters Simultaneously\n",
    "\n",
    "In addition to `gamma`, `reg_lambda`, and `reg_alpha`, the parameters `max_depth` and `min_child_weight` also control the complexity of XGBoost models. These parameters behave similarly to how they work in other tree-based models.\n",
    "\n",
    "Rather than tuning them in isolation, it’s important to recognize that these parameters **interact** with one another. In the next step, we will tune them **simultaneously** to better capture their combined effect on model performance.\n"
   ]
  },
  {
   "cell_type": "code",
   "execution_count": 19,
   "id": "886b8c9d",
   "metadata": {},
   "outputs": [
    {
     "name": "stdout",
     "output_type": "stream",
     "text": [
      "\n",
      "===== Exploring Regularization Parameters Simultaneously =====\n",
      "\n",
      "Regularization Test 1:\n",
      "{'regressor__max_depth': 3, 'regressor__min_child_weight': 1, 'regressor__gamma': 0, 'regressor__reg_alpha': 0, 'regressor__reg_lambda': 1}\n",
      "\n",
      "Model Evaluation:\n",
      "Root Mean Squared Error: 3774.48\n",
      "R² Score: 0.9514\n",
      "\n",
      "Regularization Test 2:\n",
      "{'regressor__max_depth': 3, 'regressor__min_child_weight': 1, 'regressor__gamma': 0, 'regressor__reg_alpha': 1, 'regressor__reg_lambda': 1}\n",
      "\n",
      "Model Evaluation:\n",
      "Root Mean Squared Error: 3774.48\n",
      "R² Score: 0.9514\n",
      "\n",
      "Regularization Test 3:\n",
      "{'regressor__max_depth': 5, 'regressor__min_child_weight': 3, 'regressor__gamma': 0.1, 'regressor__reg_alpha': 0, 'regressor__reg_lambda': 1}\n",
      "\n",
      "Model Evaluation:\n",
      "Root Mean Squared Error: 3334.18\n",
      "R² Score: 0.9621\n",
      "\n",
      "Regularization Test 4:\n",
      "{'regressor__max_depth': 5, 'regressor__min_child_weight': 3, 'regressor__gamma': 0.1, 'regressor__reg_alpha': 1, 'regressor__reg_lambda': 5}\n",
      "\n",
      "Model Evaluation:\n",
      "Root Mean Squared Error: 3298.88\n",
      "R² Score: 0.9629\n",
      "\n",
      "Regularization Test 5:\n",
      "{'regressor__max_depth': 7, 'regressor__min_child_weight': 1, 'regressor__gamma': 0.2, 'regressor__reg_alpha': 5, 'regressor__reg_lambda': 10}\n",
      "\n",
      "Model Evaluation:\n",
      "Root Mean Squared Error: 3222.51\n",
      "R² Score: 0.9646\n",
      "\n",
      "Best Regularization Parameters:\n",
      "{'regressor__max_depth': 7, 'regressor__min_child_weight': 1, 'regressor__gamma': 0.2, 'regressor__reg_alpha': 5, 'regressor__reg_lambda': 10}\n",
      "Best RMSE: 3222.51\n"
     ]
    }
   ],
   "source": [
    "\n",
    "# ===== 3. Regularization Experiments: Simultaneous Exploration  =====\n",
    "print(\"\\n===== Exploring Regularization Parameters Simultaneously =====\")\n",
    "# Define regularization parameters to test\n",
    "reg_params = [\n",
    "    {'regressor__max_depth': 3, 'regressor__min_child_weight': 1, 'regressor__gamma': 0, \n",
    "     'regressor__reg_alpha': 0, 'regressor__reg_lambda': 1},\n",
    "    {'regressor__max_depth': 3, 'regressor__min_child_weight': 1, 'regressor__gamma': 0, \n",
    "     'regressor__reg_alpha': 1, 'regressor__reg_lambda': 1},\n",
    "    {'regressor__max_depth': 5, 'regressor__min_child_weight': 3, 'regressor__gamma': 0.1, \n",
    "     'regressor__reg_alpha': 0, 'regressor__reg_lambda': 1},\n",
    "    {'regressor__max_depth': 5, 'regressor__min_child_weight': 3, 'regressor__gamma': 0.1, \n",
    "     'regressor__reg_alpha': 1, 'regressor__reg_lambda': 5},\n",
    "    {'regressor__max_depth': 7, 'regressor__min_child_weight': 1, 'regressor__gamma': 0.2, \n",
    "     'regressor__reg_alpha': 5, 'regressor__reg_lambda': 10}\n",
    "]\n",
    "\n",
    "# Store results for comparison\n",
    "reg_results = []\n",
    "\n",
    "for i, params in enumerate(reg_params):\n",
    "    print(f\"\\nRegularization Test {i+1}:\")\n",
    "    print(params)\n",
    "    \n",
    "    # Create pipeline with these parameters\n",
    "    reg_pipeline = Pipeline([\n",
    "        ('preprocessor', preprocessor),\n",
    "        ('regressor', XGBRegressor(\n",
    "            random_state=42,\n",
    "            n_estimators=early_stop_model.best_iteration,\n",
    "            **{k.replace('regressor__', ''): v for k, v in params.items()}\n",
    "        ))\n",
    "    ])\n",
    "    \n",
    "    # Train and evaluate\n",
    "    reg_pipeline.fit(X_train, y_train)\n",
    "    print(\"\\nModel Evaluation:\")\n",
    "    metrics = evaluate_model(reg_pipeline, X_test, y_test)\n",
    "    rmse, r2 = metrics\n",
    "\n",
    "    # Store results\n",
    "    reg_results.append({\n",
    "        'test': i+1,\n",
    "        'params': params,\n",
    "        'rmse': rmse,\n",
    "        'r2': r2\n",
    "    })\n",
    "\n",
    "# Find best regularization parameters\n",
    "reg_df = pd.DataFrame(reg_results)\n",
    "best_reg_idx = reg_df['rmse'].idxmin()\n",
    "best_reg_params = reg_df.loc[best_reg_idx, 'params']\n",
    "print(\"\\nBest Regularization Parameters:\")\n",
    "print(best_reg_params)\n",
    "print(\"Best RMSE: {:.2f}\".format(reg_df['rmse'].min()))"
   ]
  },
  {
   "cell_type": "markdown",
   "id": "a5925e79",
   "metadata": {},
   "source": [
    "### Comprehensive Hyperparameter Tuning\n",
    "\n",
    "In this step, we expand our search to include a broader set of influential hyperparameters that govern both **model complexity** and **regularization strength** in XGBoost. These include:\n",
    "\n",
    "- **`learning_rate`**: Controls the contribution of each tree in the ensemble.\n",
    "- **`max_depth`** and **`min_child_weight`**: Control tree complexity and can help prevent overfitting.\n",
    "- **`gamma`**: Adds regularization by requiring a minimum loss reduction for a split.\n",
    "- **`subsample`** and **`colsample_bytree`**: Introduce stochasticity to reduce overfitting by sampling rows and features, respectively.\n",
    "- **`reg_alpha`** (L1 regularization) and **`reg_lambda`** (L2 regularization): Add penalties to leaf weights to shrink overly complex trees.\n",
    "\n",
    "Rather than optimizing these parameters independently, we will **tune them together** using a grid search to capture the complex interactions between them. This comprehensive search aims to identify a well-balanced model that generalizes well to unseen data.\n",
    "\n",
    "This comprehensive tuning process helps us identify the most effective combination of hyperparameters for maximizing predictive performance while minimizing overfitting.\n"
   ]
  },
  {
   "cell_type": "markdown",
   "id": "11b2df8e",
   "metadata": {},
   "source": [
    "#### Why `GridSearchCV` Is Not a Practical Option\n",
    "\n",
    "While `GridSearchCV` is a straightforward and exhaustive approach, it can be **extremely time-consuming**, especially when tuning many hyperparameters over multiple values. In our case, the parameter grid includes:\n",
    "\n",
    "- 3 values for `learning_rate`\n",
    "- 3 values for `max_depth`\n",
    "- 3 values for `min_child_weight`\n",
    "- 3 values for `gamma`\n",
    "- 3 values each for `subsample` and `colsample_bytree`\n",
    "- 3 values for `reg_alpha`\n",
    "- 3 values for `reg_lambda`\n",
    "\n",
    "This results in a **total of 3⁸ = 6,561 combinations**. With 3-fold cross-validation, this would involve training and evaluating **over 19,000 models**, making it **computationally expensive and inefficient**.\n",
    "\n",
    "The code is included below if you're curious to try it out — just **uncomment the `.fit()` line** to experience how long it takes.\n"
   ]
  },
  {
   "cell_type": "code",
   "execution_count": null,
   "id": "e1c4ac31",
   "metadata": {},
   "outputs": [
    {
     "name": "stdout",
     "output_type": "stream",
     "text": [
      "\n",
      "===== Comprehensive Hyperparameter Tuning =====\n"
     ]
    }
   ],
   "source": [
    "# ===== 4. Comprehensive Hyperparameter Tuning =====\n",
    "print(\"\\n===== Comprehensive Hyperparameter Tuning Using GridSearchCV=====\")\n",
    "# Define hyperparameter grid\n",
    "param_grid = {\n",
    "    'regressor__learning_rate': [0.01, 0.05, 0.1],\n",
    "    'regressor__max_depth': [3, 5, 7],\n",
    "    'regressor__min_child_weight': [1, 3, 5],\n",
    "    'regressor__gamma': [0, 0.1, 0.2],\n",
    "    'regressor__subsample': [0.8, 0.9, 1.0],\n",
    "    'regressor__colsample_bytree': [0.8, 0.9, 1.0],\n",
    "    'regressor__reg_alpha': [0, 1, 5],\n",
    "    'regressor__reg_lambda': [1, 5, 10]\n",
    "}\n",
    "\n",
    "# Create a pipeline for grid search\n",
    "tune_pipeline = Pipeline([\n",
    "    ('preprocessor', preprocessor),\n",
    "    ('regressor', XGBRegressor(\n",
    "        random_state=42,\n",
    "        n_estimators=early_stop_model.best_iteration\n",
    "    ))\n",
    "])\n",
    "\n",
    "# Set up grid search with cross-validation\n",
    "grid_search = GridSearchCV(\n",
    "    tune_pipeline,\n",
    "    param_grid,\n",
    "    cv=3,\n",
    "    scoring='neg_root_mean_squared_error',\n",
    "    n_jobs=-1,\n",
    "    verbose=1\n",
    ")\n",
    "\n",
    "# uncomment the line below to run the grid search (it may take a long time)\n",
    "#grid_search.fit(X_train, y_train)"
   ]
  },
  {
   "cell_type": "markdown",
   "id": "917fe9c8",
   "metadata": {},
   "source": [
    "#### Smarter Tuning with Optuna or BayesSearchCV\n",
    "\n",
    "Instead of exhaustively evaluating every combination like `GridSearchCV`, we can use smarter search strategies like:\n",
    "\n",
    "- **Optuna**: A powerful hyperparameter optimization framework that uses **Tree-structured Parzen Estimators (TPE)** to efficiently explore the search space. It dynamically chooses the next set of hyperparameters to try based on past performance.\n",
    "\n",
    "- **BayesSearchCV** (from `scikit-optimize`): Implements **Bayesian optimization**, which builds a probabilistic model of the objective function and selects the most promising hyperparameters to try next.\n",
    "\n",
    "These methods are:\n",
    "\n",
    "- **More efficient**: They converge to good solutions with far fewer iterations.\n",
    "- **Flexible**: They support conditional hyperparameter tuning.\n",
    "- **Scalable**: Much better suited for high-dimensional or expensive-to-evaluate models.\n",
    "\n",
    "In summary, we commented out the grid search due to its high cost and instead favor more **intelligent, efficient** hyperparameter search methods like `Optuna` or `BayesSearchCV` for practical use."
   ]
  },
  {
   "cell_type": "markdown",
   "id": "00869457",
   "metadata": {},
   "source": [
    "##### `BayesSearchCV` (from `skopt`)\n",
    "\n",
    "You define the search space using a dictionary where:\n",
    "\n",
    "- For pipelines and scikit-learn integration, `BayesSearchCV` is simpler\n",
    "- Keys are hyperparameter names (matching pipeline step names like `'regressor__max_depth'`)\n",
    "- Values are distributions or discrete ranges from `skopt.space`\n",
    "\n",
    "> 🔹 **Key Tip**: Use `Real(..., prior='log-uniform')` for parameters like `learning_rate`, which benefit from exploring small values on a **logarithmic scale**.  \n",
    "> This helps the search algorithm better identify optimal values in ranges where performance is sensitive to small changes (e.g., between 0.01 and 0.1).\n",
    "\n"
   ]
  },
  {
   "cell_type": "code",
   "execution_count": null,
   "id": "050d7a0d",
   "metadata": {},
   "outputs": [
    {
     "name": "stdout",
     "output_type": "stream",
     "text": [
      "Fitting 3 folds for each of 1 candidates, totalling 3 fits\n",
      "Fitting 3 folds for each of 1 candidates, totalling 3 fits\n",
      "Fitting 3 folds for each of 1 candidates, totalling 3 fits\n",
      "Fitting 3 folds for each of 1 candidates, totalling 3 fits\n",
      "Fitting 3 folds for each of 1 candidates, totalling 3 fits\n",
      "Fitting 3 folds for each of 1 candidates, totalling 3 fits\n",
      "Fitting 3 folds for each of 1 candidates, totalling 3 fits\n",
      "Fitting 3 folds for each of 1 candidates, totalling 3 fits\n",
      "Fitting 3 folds for each of 1 candidates, totalling 3 fits\n",
      "Fitting 3 folds for each of 1 candidates, totalling 3 fits\n",
      "Fitting 3 folds for each of 1 candidates, totalling 3 fits\n",
      "Fitting 3 folds for each of 1 candidates, totalling 3 fits\n",
      "Fitting 3 folds for each of 1 candidates, totalling 3 fits\n",
      "Fitting 3 folds for each of 1 candidates, totalling 3 fits\n",
      "Fitting 3 folds for each of 1 candidates, totalling 3 fits\n",
      "Fitting 3 folds for each of 1 candidates, totalling 3 fits\n",
      "Fitting 3 folds for each of 1 candidates, totalling 3 fits\n",
      "Fitting 3 folds for each of 1 candidates, totalling 3 fits\n",
      "Fitting 3 folds for each of 1 candidates, totalling 3 fits\n",
      "Fitting 3 folds for each of 1 candidates, totalling 3 fits\n",
      "Fitting 3 folds for each of 1 candidates, totalling 3 fits\n",
      "Fitting 3 folds for each of 1 candidates, totalling 3 fits\n",
      "Fitting 3 folds for each of 1 candidates, totalling 3 fits\n",
      "Fitting 3 folds for each of 1 candidates, totalling 3 fits\n",
      "Fitting 3 folds for each of 1 candidates, totalling 3 fits\n",
      "Fitting 3 folds for each of 1 candidates, totalling 3 fits\n",
      "Fitting 3 folds for each of 1 candidates, totalling 3 fits\n",
      "Fitting 3 folds for each of 1 candidates, totalling 3 fits\n",
      "Fitting 3 folds for each of 1 candidates, totalling 3 fits\n",
      "Fitting 3 folds for each of 1 candidates, totalling 3 fits\n",
      "Fitting 3 folds for each of 1 candidates, totalling 3 fits\n",
      "Fitting 3 folds for each of 1 candidates, totalling 3 fits\n",
      "Fitting 3 folds for each of 1 candidates, totalling 3 fits\n",
      "Fitting 3 folds for each of 1 candidates, totalling 3 fits\n",
      "Fitting 3 folds for each of 1 candidates, totalling 3 fits\n",
      "Fitting 3 folds for each of 1 candidates, totalling 3 fits\n",
      "Fitting 3 folds for each of 1 candidates, totalling 3 fits\n",
      "Fitting 3 folds for each of 1 candidates, totalling 3 fits\n",
      "Fitting 3 folds for each of 1 candidates, totalling 3 fits\n",
      "Fitting 3 folds for each of 1 candidates, totalling 3 fits\n",
      "Fitting 3 folds for each of 1 candidates, totalling 3 fits\n",
      "Fitting 3 folds for each of 1 candidates, totalling 3 fits\n",
      "Fitting 3 folds for each of 1 candidates, totalling 3 fits\n",
      "Fitting 3 folds for each of 1 candidates, totalling 3 fits\n",
      "Fitting 3 folds for each of 1 candidates, totalling 3 fits\n",
      "Fitting 3 folds for each of 1 candidates, totalling 3 fits\n",
      "Fitting 3 folds for each of 1 candidates, totalling 3 fits\n",
      "Fitting 3 folds for each of 1 candidates, totalling 3 fits\n",
      "Fitting 3 folds for each of 1 candidates, totalling 3 fits\n",
      "Fitting 3 folds for each of 1 candidates, totalling 3 fits\n",
      "\n",
      "Best Parameters from Bayesian Optimization:\n",
      "OrderedDict({'regressor__colsample_bytree': 0.6350099974437949, 'regressor__gamma': 0.0, 'regressor__learning_rate': 0.15012576802968475, 'regressor__max_depth': 7, 'regressor__min_child_weight': 1, 'regressor__reg_alpha': 5.0, 'regressor__reg_lambda': 9.330007518126198, 'regressor__subsample': 0.77576084288087})\n",
      "Best Cross-Validation RMSE: 3212.04\n",
      "\n",
      "Bayesian Optimization Model Evaluation:\n",
      "Root Mean Squared Error: 3083.10\n",
      "R² Score: 0.9676\n"
     ]
    }
   ],
   "source": [
    "# define the search space for Bayesian optimization\n",
    "\n",
    "search_space = {\n",
    "    'regressor__learning_rate': Real(0.01, 0.5, prior='uniform'),\n",
    "    'regressor__max_depth': Integer(3, 7),\n",
    "    'regressor__min_child_weight': Integer(1, 5),\n",
    "    'regressor__gamma': Real(0, 0.2),\n",
    "    'regressor__subsample': Real(0.5, 1.0),\n",
    "    'regressor__colsample_bytree': Real(0.5, 1.0),\n",
    "    'regressor__reg_alpha': Real(0, 5),\n",
    "    'regressor__reg_lambda': Real(1, 10)\n",
    "}\n",
    "\n",
    "# Create a pipeline for Bayesian optimization\n",
    "bayes_pipeline = Pipeline([\n",
    "    ('preprocessor', preprocessor),\n",
    "    ('regressor', XGBRegressor(\n",
    "        random_state=42,\n",
    "        n_estimators=early_stop_model.best_iteration\n",
    "    ))\n",
    "])\n",
    "# Set up Bayesian optimization with cross-validation\n",
    "bayes_search = BayesSearchCV(\n",
    "    bayes_pipeline,\n",
    "    search_space,\n",
    "    cv=3,\n",
    "    n_iter=50,  # Number of iterations for Bayesian optimization\n",
    "    scoring='neg_root_mean_squared_error',\n",
    "    n_jobs=-1,\n",
    "    verbose=0\n",
    ")\n",
    "# Perform Bayesian optimization\n",
    "bayes_search.fit(X_train, y_train)\n",
    "\n",
    "# Print the best parameters and score\n",
    "print(\"\\nBest Parameters from Bayesian Optimization:\")\n",
    "print(bayes_search.best_params_)\n",
    "print(\"Best Cross-Validation RMSE: {:.2f}\".format(-bayes_search.best_score_))\n",
    "# Evaluate the best model from Bayesian optimization\n",
    "best_bayes_model = bayes_search.best_estimator_\n",
    "print(\"\\nBayesian Optimization Model Evaluation:\")\n",
    "bayes_metrics = evaluate_model(best_bayes_model, X_test, y_test)\n"
   ]
  },
  {
   "cell_type": "markdown",
   "id": "8753ebb7",
   "metadata": {},
   "source": [
    "Let's visualize the search results"
   ]
  },
  {
   "cell_type": "code",
   "execution_count": 22,
   "id": "3ac66ba5",
   "metadata": {},
   "outputs": [
    {
     "data": {
      "image/png": "[encoded data removed]",
      "text/plain": [
       "<Figure size 640x480 with 1 Axes>"
      ]
     },
     "metadata": {},
     "output_type": "display_data"
    }
   ],
   "source": [
    "# plot convergence\n",
    "plot_convergence(bayes_search.optimizer_results_);"
   ]
  },
  {
   "cell_type": "code",
   "execution_count": 23,
   "id": "205aaa63",
   "metadata": {},
   "outputs": [
    {
     "data": {
      "image/png": "[encoded data removed]",
      "text/plain": [
       "<Figure size 1600x1600 with 65 Axes>"
      ]
     },
     "metadata": {},
     "output_type": "display_data"
    }
   ],
   "source": [
    "# Plot the objective function\n",
    "plot_objective(bayes_search.optimizer_results_[0])\n",
    "plt.title('Bayesian Optimization: Objective Function')\n",
    "plt.xlabel('Parameter Value')\n",
    "plt.ylabel('Objective Value (RMSE)')\n",
    "plt.show()"
   ]
  },
  {
   "cell_type": "code",
   "execution_count": 32,
   "id": "f4e91ec1",
   "metadata": {},
   "outputs": [
    {
     "name": "stdout",
     "output_type": "stream",
     "text": [
      "\n",
      "===== Final Model with Best Hyperparameters =====\n",
      "\n",
      "Final Model Evaluation:\n",
      "Root Mean Squared Error: 3083.10\n",
      "R² Score: 0.9676\n"
     ]
    }
   ],
   "source": [
    "# Create the final model with the best hyperparameters\n",
    "print(\"\\n===== Final Model with Best Hyperparameters =====\")\n",
    "final_pipeline = Pipeline([\n",
    "    ('preprocessor', preprocessor),\n",
    "    ('regressor', XGBRegressor(\n",
    "        random_state=42,\n",
    "        n_estimators=early_stop_model.best_iteration,\n",
    "        **{k.replace('regressor__', ''): v for k, v in bayes_search.best_params_.items()}\n",
    "    ))\n",
    "])\n",
    "\n",
    "# Train the final model\n",
    "final_pipeline.fit(X_train, y_train)\n",
    "\n",
    "# Evaluate final model\n",
    "print(\"\\nFinal Model Evaluation:\")\n",
    "final_metrics = evaluate_model(final_pipeline, X_test, y_test)"
   ]
  },
  {
   "cell_type": "code",
   "execution_count": 24,
   "id": "45892e6e",
   "metadata": {},
   "outputs": [
    {
     "data": {
      "image/png": "[encoded data removed]",
      "text/plain": [
       "<Figure size 1000x600 with 1 Axes>"
      ]
     },
     "metadata": {},
     "output_type": "display_data"
    }
   ],
   "source": [
    "# Display actual vs predicted values for the final model\n",
    "y_pred = final_pipeline.predict(X_test)\n",
    "plt.figure(figsize=(10, 6))\n",
    "plt.scatter(y_test, y_pred, alpha=0.5)\n",
    "plt.plot([y_test.min(), y_test.max()], [y_test.min(), y_test.max()], 'r--')\n",
    "plt.xlabel('Actual')\n",
    "plt.ylabel('Predicted')\n",
    "plt.title('Actual vs Predicted Values (Final Model)')\n",
    "plt.tight_layout()\n",
    "plt.show()"
   ]
  },
  {
   "cell_type": "code",
   "execution_count": 25,
   "id": "4a4b5c1e",
   "metadata": {},
   "outputs": [
    {
     "data": {
      "text/html": [
       "<div>\n",
       "<style scoped>\n",
       "    .dataframe tbody tr th:only-of-type {\n",
       "        vertical-align: middle;\n",
       "    }\n",
       "\n",
       "    .dataframe tbody tr th {\n",
       "        vertical-align: top;\n",
       "    }\n",
       "\n",
       "    .dataframe thead th {\n",
       "        text-align: right;\n",
       "    }\n",
       "</style>\n",
       "<table border=\"1\" class=\"dataframe\">\n",
       "  <thead>\n",
       "    <tr style=\"text-align: right;\">\n",
       "      <th></th>\n",
       "      <th>Feature</th>\n",
       "      <th>Importance</th>\n",
       "    </tr>\n",
       "  </thead>\n",
       "  <tbody>\n",
       "    <tr>\n",
       "      <th>0</th>\n",
       "      <td>model_ I800</td>\n",
       "      <td>0.109385</td>\n",
       "    </tr>\n",
       "    <tr>\n",
       "      <th>1</th>\n",
       "      <td>engineSize</td>\n",
       "      <td>0.085000</td>\n",
       "    </tr>\n",
       "    <tr>\n",
       "      <th>2</th>\n",
       "      <td>transmission_Manual</td>\n",
       "      <td>0.080872</td>\n",
       "    </tr>\n",
       "    <tr>\n",
       "      <th>3</th>\n",
       "      <td>brand_hyundi</td>\n",
       "      <td>0.045237</td>\n",
       "    </tr>\n",
       "    <tr>\n",
       "      <th>4</th>\n",
       "      <td>brand_vw</td>\n",
       "      <td>0.041919</td>\n",
       "    </tr>\n",
       "    <tr>\n",
       "      <th>5</th>\n",
       "      <td>brand_ford</td>\n",
       "      <td>0.038523</td>\n",
       "    </tr>\n",
       "    <tr>\n",
       "      <th>6</th>\n",
       "      <td>model_ Mustang</td>\n",
       "      <td>0.031646</td>\n",
       "    </tr>\n",
       "    <tr>\n",
       "      <th>7</th>\n",
       "      <td>model_ i8</td>\n",
       "      <td>0.030787</td>\n",
       "    </tr>\n",
       "    <tr>\n",
       "      <th>8</th>\n",
       "      <td>brand_bmw</td>\n",
       "      <td>0.029788</td>\n",
       "    </tr>\n",
       "    <tr>\n",
       "      <th>9</th>\n",
       "      <td>year</td>\n",
       "      <td>0.025983</td>\n",
       "    </tr>\n",
       "    <tr>\n",
       "      <th>10</th>\n",
       "      <td>brand_merc</td>\n",
       "      <td>0.024978</td>\n",
       "    </tr>\n",
       "    <tr>\n",
       "      <th>11</th>\n",
       "      <td>model_ R8</td>\n",
       "      <td>0.024132</td>\n",
       "    </tr>\n",
       "    <tr>\n",
       "      <th>12</th>\n",
       "      <td>model_ S Class</td>\n",
       "      <td>0.024024</td>\n",
       "    </tr>\n",
       "    <tr>\n",
       "      <th>13</th>\n",
       "      <td>brand_audi</td>\n",
       "      <td>0.019605</td>\n",
       "    </tr>\n",
       "    <tr>\n",
       "      <th>14</th>\n",
       "      <td>model_ X7</td>\n",
       "      <td>0.019070</td>\n",
       "    </tr>\n",
       "    <tr>\n",
       "      <th>15</th>\n",
       "      <td>model_ V Class</td>\n",
       "      <td>0.014943</td>\n",
       "    </tr>\n",
       "    <tr>\n",
       "      <th>16</th>\n",
       "      <td>model_ X-CLASS</td>\n",
       "      <td>0.013910</td>\n",
       "    </tr>\n",
       "    <tr>\n",
       "      <th>17</th>\n",
       "      <td>brand_toyota</td>\n",
       "      <td>0.013511</td>\n",
       "    </tr>\n",
       "    <tr>\n",
       "      <th>18</th>\n",
       "      <td>mpg</td>\n",
       "      <td>0.012854</td>\n",
       "    </tr>\n",
       "    <tr>\n",
       "      <th>19</th>\n",
       "      <td>model_ X4</td>\n",
       "      <td>0.011403</td>\n",
       "    </tr>\n",
       "  </tbody>\n",
       "</table>\n",
       "</div>"
      ],
      "text/plain": [
       "                Feature  Importance\n",
       "0           model_ I800    0.109385\n",
       "1            engineSize    0.085000\n",
       "2   transmission_Manual    0.080872\n",
       "3          brand_hyundi    0.045237\n",
       "4              brand_vw    0.041919\n",
       "5            brand_ford    0.038523\n",
       "6        model_ Mustang    0.031646\n",
       "7             model_ i8    0.030787\n",
       "8             brand_bmw    0.029788\n",
       "9                  year    0.025983\n",
       "10           brand_merc    0.024978\n",
       "11            model_ R8    0.024132\n",
       "12       model_ S Class    0.024024\n",
       "13           brand_audi    0.019605\n",
       "14            model_ X7    0.019070\n",
       "15       model_ V Class    0.014943\n",
       "16       model_ X-CLASS    0.013910\n",
       "17         brand_toyota    0.013511\n",
       "18                  mpg    0.012854\n",
       "19            model_ X4    0.011403"
      ]
     },
     "execution_count": 25,
     "metadata": {},
     "output_type": "execute_result"
    }
   ],
   "source": [
    "# output the feature importance for the final model\n",
    "final_importance = plot_feature_importance(final_pipeline.named_steps['regressor'], \n",
    "                                             final_pipeline.named_steps['preprocessor'], \n",
    "                                             X)\n",
    "final_importance"
   ]
  },
  {
   "cell_type": "markdown",
   "id": "347ddea2",
   "metadata": {},
   "source": [
    "##### Tuning with Optuna\n",
    "\n",
    "With Optuna, you define the search space inside an objective function using trial suggestions:"
   ]
  },
  {
   "cell_type": "code",
   "execution_count": 5,
   "id": "0887d5d0",
   "metadata": {},
   "outputs": [
    {
     "name": "stderr",
     "output_type": "stream",
     "text": [
      "[I 2025-05-14 04:47:06,217] A new study created in memory with name: no-name-59242cf6-161a-4605-a35c-8961a98f403e\n",
      "[I 2025-05-14 04:47:07,258] Trial 0 finished with value: -3162.7913411458335 and parameters: {'learning_rate': 0.1641733170152142, 'max_depth': 4, 'min_child_weight': 3, 'gamma': 0.15950428057497823, 'subsample': 0.8687525001570833, 'colsample_bytree': 0.5001903459871172, 'reg_alpha': 2.767789824640966, 'reg_lambda': 8.129162242032194}. Best is trial 0 with value: -3162.7913411458335.\n",
      "[I 2025-05-14 04:47:09,975] Trial 1 finished with value: -3368.8380533854165 and parameters: {'learning_rate': 0.15178125229556488, 'max_depth': 7, 'min_child_weight': 1, 'gamma': 0.050258482002987326, 'subsample': 0.5898378683092566, 'colsample_bytree': 0.9917924243351735, 'reg_alpha': 0.23111115691692774, 'reg_lambda': 2.0125181234384675}. Best is trial 0 with value: -3162.7913411458335.\n",
      "[I 2025-05-14 04:47:10,925] Trial 2 finished with value: -3432.02392578125 and parameters: {'learning_rate': 0.42391219724854534, 'max_depth': 3, 'min_child_weight': 5, 'gamma': 0.13708107402474898, 'subsample': 0.6148247399767317, 'colsample_bytree': 0.7362060869492091, 'reg_alpha': 2.489679115528034, 'reg_lambda': 2.1233179056863065}. Best is trial 0 with value: -3162.7913411458335.\n",
      "[I 2025-05-14 04:47:12,191] Trial 3 finished with value: -3344.6248372395835 and parameters: {'learning_rate': 0.265690187570691, 'max_depth': 4, 'min_child_weight': 2, 'gamma': 0.16133880047200677, 'subsample': 0.6611070905675426, 'colsample_bytree': 0.6704715035156631, 'reg_alpha': 4.144973354445489, 'reg_lambda': 3.9063999949186705}. Best is trial 0 with value: -3162.7913411458335.\n",
      "[I 2025-05-14 04:47:13,975] Trial 4 finished with value: -3270.3804524739585 and parameters: {'learning_rate': 0.028752592609356385, 'max_depth': 5, 'min_child_weight': 2, 'gamma': 0.03302184395133658, 'subsample': 0.721688869095855, 'colsample_bytree': 0.632919922307615, 'reg_alpha': 3.0139736364453245, 'reg_lambda': 8.336475479937352}. Best is trial 0 with value: -3162.7913411458335.\n",
      "[I 2025-05-14 04:47:16,075] Trial 5 finished with value: -3520.0126953125 and parameters: {'learning_rate': 0.3795040467605126, 'max_depth': 5, 'min_child_weight': 4, 'gamma': 0.0923172410962489, 'subsample': 0.6576538128571611, 'colsample_bytree': 0.5874178737107301, 'reg_alpha': 4.327790643794075, 'reg_lambda': 5.539914427905474}. Best is trial 0 with value: -3162.7913411458335.\n",
      "[I 2025-05-14 04:47:18,141] Trial 6 finished with value: -3230.2576497395835 and parameters: {'learning_rate': 0.01887765935706954, 'max_depth': 7, 'min_child_weight': 4, 'gamma': 0.08395864006045435, 'subsample': 0.9650583569644329, 'colsample_bytree': 0.5068836778426125, 'reg_alpha': 4.319194027803546, 'reg_lambda': 2.4577201842849408}. Best is trial 0 with value: -3162.7913411458335.\n",
      "[I 2025-05-14 04:47:20,158] Trial 7 finished with value: -3265.4407552083335 and parameters: {'learning_rate': 0.10762455895584233, 'max_depth': 5, 'min_child_weight': 1, 'gamma': 0.18945099975997307, 'subsample': 0.6082738049159904, 'colsample_bytree': 0.8839951047303432, 'reg_alpha': 1.7804602782057595, 'reg_lambda': 4.01856427883501}. Best is trial 0 with value: -3162.7913411458335.\n",
      "[I 2025-05-14 04:47:22,225] Trial 8 finished with value: -3521.05517578125 and parameters: {'learning_rate': 0.41352773552997424, 'max_depth': 5, 'min_child_weight': 2, 'gamma': 0.12690667210056658, 'subsample': 0.5821082070503734, 'colsample_bytree': 0.5074336963373632, 'reg_alpha': 3.7306140414159943, 'reg_lambda': 3.3055935850297096}. Best is trial 0 with value: -3162.7913411458335.\n",
      "[I 2025-05-14 04:47:23,242] Trial 9 finished with value: -3271.8055013020835 and parameters: {'learning_rate': 0.08043112986012362, 'max_depth': 3, 'min_child_weight': 4, 'gamma': 0.18113380178376634, 'subsample': 0.972342410237745, 'colsample_bytree': 0.9814376966070582, 'reg_alpha': 4.5010583121903815, 'reg_lambda': 8.046775880725079}. Best is trial 0 with value: -3162.7913411458335.\n",
      "[I 2025-05-14 04:47:25,226] Trial 10 finished with value: -3261.6067708333335 and parameters: {'learning_rate': 0.22708806215964497, 'max_depth': 4, 'min_child_weight': 3, 'gamma': 0.0009135391068176013, 'subsample': 0.8494117211823278, 'colsample_bytree': 0.8257696123522402, 'reg_alpha': 1.0416025541499645, 'reg_lambda': 6.671020134916106}. Best is trial 0 with value: -3162.7913411458335.\n",
      "[I 2025-05-14 04:47:27,859] Trial 11 finished with value: -3377.5233561197915 and parameters: {'learning_rate': 0.20808419263829792, 'max_depth': 7, 'min_child_weight': 4, 'gamma': 0.09467108637827251, 'subsample': 0.9298835740565166, 'colsample_bytree': 0.5010865276579407, 'reg_alpha': 4.982274512288781, 'reg_lambda': 6.398529741869817}. Best is trial 0 with value: -3162.7913411458335.\n",
      "[I 2025-05-14 04:47:30,092] Trial 12 finished with value: -3359.8211263020835 and parameters: {'learning_rate': 0.01826323043937967, 'max_depth': 6, 'min_child_weight': 3, 'gamma': 0.07224880626353157, 'subsample': 0.8525172381777258, 'colsample_bytree': 0.566498265995001, 'reg_alpha': 3.0087037386707145, 'reg_lambda': 9.999053425477364}. Best is trial 0 with value: -3162.7913411458335.\n",
      "[I 2025-05-14 04:47:32,225] Trial 13 finished with value: -3389.99609375 and parameters: {'learning_rate': 0.13857618173924105, 'max_depth': 6, 'min_child_weight': 5, 'gamma': 0.1293470109573417, 'subsample': 0.8631896630954577, 'colsample_bytree': 0.7029461161450377, 'reg_alpha': 3.4076274113715366, 'reg_lambda': 1.1597707357570677}. Best is trial 0 with value: -3162.7913411458335.\n",
      "[I 2025-05-14 04:47:33,783] Trial 14 finished with value: -3303.03955078125 and parameters: {'learning_rate': 0.3047205728875082, 'max_depth': 4, 'min_child_weight': 4, 'gamma': 0.14361295278041297, 'subsample': 0.7937194720693732, 'colsample_bytree': 0.5727779194914605, 'reg_alpha': 2.129378952206828, 'reg_lambda': 9.80217028801741}. Best is trial 0 with value: -3162.7913411458335.\n",
      "[I 2025-05-14 04:47:36,609] Trial 15 finished with value: -3350.712158203125 and parameters: {'learning_rate': 0.17656556325674955, 'max_depth': 6, 'min_child_weight': 3, 'gamma': 0.10914046017834621, 'subsample': 0.9996361890269867, 'colsample_bytree': 0.821830315105234, 'reg_alpha': 1.4844593608366676, 'reg_lambda': 8.251897448342861}. Best is trial 0 with value: -3162.7913411458335.\n",
      "[I 2025-05-14 04:47:39,729] Trial 16 finished with value: -3751.3375651041665 and parameters: {'learning_rate': 0.49732527342995736, 'max_depth': 7, 'min_child_weight': 5, 'gamma': 0.06646629587180926, 'subsample': 0.9191757507198699, 'colsample_bytree': 0.6417276413491501, 'reg_alpha': 3.7131164539205996, 'reg_lambda': 4.691801429872557}. Best is trial 0 with value: -3162.7913411458335.\n",
      "[I 2025-05-14 04:47:41,442] Trial 17 finished with value: -3220.991943359375 and parameters: {'learning_rate': 0.06349399117329421, 'max_depth': 4, 'min_child_weight': 4, 'gamma': 0.16152083780312498, 'subsample': 0.5193007623949828, 'colsample_bytree': 0.5378275423151795, 'reg_alpha': 4.957968250711724, 'reg_lambda': 6.887432633162225}. Best is trial 0 with value: -3162.7913411458335.\n",
      "[I 2025-05-14 04:47:42,826] Trial 18 finished with value: -3196.406494140625 and parameters: {'learning_rate': 0.09062768738247484, 'max_depth': 4, 'min_child_weight': 3, 'gamma': 0.16932220309933962, 'subsample': 0.5102446555382051, 'colsample_bytree': 0.567680668921065, 'reg_alpha': 0.05899287011786036, 'reg_lambda': 7.095135377059309}. Best is trial 0 with value: -3162.7913411458335.\n",
      "[I 2025-05-14 04:47:43,876] Trial 19 finished with value: -3185.7190755208335 and parameters: {'learning_rate': 0.26626727039895703, 'max_depth': 3, 'min_child_weight': 2, 'gamma': 0.19772641560218734, 'subsample': 0.770138637973236, 'colsample_bytree': 0.6097234828156883, 'reg_alpha': 0.4836011903906194, 'reg_lambda': 9.025056369210269}. Best is trial 0 with value: -3162.7913411458335.\n",
      "[I 2025-05-14 04:47:45,326] Trial 20 finished with value: -3203.70068359375 and parameters: {'learning_rate': 0.26090742668861305, 'max_depth': 3, 'min_child_weight': 2, 'gamma': 0.19121127716686365, 'subsample': 0.7677836477495147, 'colsample_bytree': 0.6255725064175632, 'reg_alpha': 0.9445649986769805, 'reg_lambda': 9.184359429957107}. Best is trial 0 with value: -3162.7913411458335.\n",
      "[I 2025-05-14 04:47:46,993] Trial 21 finished with value: -3228.9916178385415 and parameters: {'learning_rate': 0.31856834300340886, 'max_depth': 3, 'min_child_weight': 3, 'gamma': 0.167803945880308, 'subsample': 0.7143519606311484, 'colsample_bytree': 0.5838931745172615, 'reg_alpha': 0.12405952462738234, 'reg_lambda': 7.282731249021393}. Best is trial 0 with value: -3162.7913411458335.\n",
      "[I 2025-05-14 04:47:48,459] Trial 22 finished with value: -3219.378662109375 and parameters: {'learning_rate': 0.19033406785822546, 'max_depth': 4, 'min_child_weight': 2, 'gamma': 0.1736546025660118, 'subsample': 0.7757362268856869, 'colsample_bytree': 0.5444873799616068, 'reg_alpha': 0.522783087786272, 'reg_lambda': 8.840854511279815}. Best is trial 0 with value: -3162.7913411458335.\n",
      "[I 2025-05-14 04:47:49,809] Trial 23 finished with value: -3211.786865234375 and parameters: {'learning_rate': 0.12106773616337452, 'max_depth': 3, 'min_child_weight': 3, 'gamma': 0.15243869650940434, 'subsample': 0.5134972988786516, 'colsample_bytree': 0.622819927934837, 'reg_alpha': 0.9827289505727954, 'reg_lambda': 7.603828126201174}. Best is trial 0 with value: -3162.7913411458335.\n",
      "[I 2025-05-14 04:47:51,676] Trial 24 finished with value: -3334.4794921875 and parameters: {'learning_rate': 0.3147366533286231, 'max_depth': 4, 'min_child_weight': 3, 'gamma': 0.1991269835131424, 'subsample': 0.8079082775226714, 'colsample_bytree': 0.6818057638014908, 'reg_alpha': 1.552038632861544, 'reg_lambda': 6.041540266193317}. Best is trial 0 with value: -3162.7913411458335.\n",
      "[I 2025-05-14 04:47:53,576] Trial 25 finished with value: -3267.5618489583335 and parameters: {'learning_rate': 0.23472812275507773, 'max_depth': 4, 'min_child_weight': 1, 'gamma': 0.11335743801729878, 'subsample': 0.8916931874251384, 'colsample_bytree': 0.7531828256664181, 'reg_alpha': 0.5869522985399849, 'reg_lambda': 9.145754803235887}. Best is trial 0 with value: -3162.7913411458335.\n",
      "[I 2025-05-14 04:47:54,926] Trial 26 finished with value: -3202.6060384114585 and parameters: {'learning_rate': 0.08193443679035439, 'max_depth': 3, 'min_child_weight': 2, 'gamma': 0.1774109969796935, 'subsample': 0.8212131624598183, 'colsample_bytree': 0.54479642033082, 'reg_alpha': 2.4562856136420543, 'reg_lambda': 7.804051665963241}. Best is trial 0 with value: -3162.7913411458335.\n",
      "[I 2025-05-14 04:47:56,627] Trial 27 finished with value: -3199.9505208333335 and parameters: {'learning_rate': 0.1648392550100305, 'max_depth': 4, 'min_child_weight': 3, 'gamma': 0.1995055644785968, 'subsample': 0.7369161561012435, 'colsample_bytree': 0.603109126467272, 'reg_alpha': 1.9696422807593317, 'reg_lambda': 8.794238617217513}. Best is trial 0 with value: -3162.7913411458335.\n",
      "[I 2025-05-14 04:47:58,059] Trial 28 finished with value: -3233.1486002604165 and parameters: {'learning_rate': 0.2816142969893795, 'max_depth': 3, 'min_child_weight': 2, 'gamma': 0.14825724873193188, 'subsample': 0.6758392394896388, 'colsample_bytree': 0.5464275473497652, 'reg_alpha': 0.5537122249305592, 'reg_lambda': 7.1212918481316265}. Best is trial 0 with value: -3162.7913411458335.\n",
      "[I 2025-05-14 04:47:59,893] Trial 29 finished with value: -3205.3538411458335 and parameters: {'learning_rate': 0.1469906386117053, 'max_depth': 4, 'min_child_weight': 1, 'gamma': 0.11925438218317995, 'subsample': 0.8909004703392734, 'colsample_bytree': 0.7322050029057333, 'reg_alpha': 0.037746661579750096, 'reg_lambda': 5.289887258623613}. Best is trial 0 with value: -3162.7913411458335.\n",
      "[I 2025-05-14 04:48:01,494] Trial 30 finished with value: -3383.5137532552085 and parameters: {'learning_rate': 0.37120330910823546, 'max_depth': 3, 'min_child_weight': 3, 'gamma': 0.1833492386708398, 'subsample': 0.5602887881874641, 'colsample_bytree': 0.6518986122343293, 'reg_alpha': 3.0231284972065575, 'reg_lambda': 9.61973061024477}. Best is trial 0 with value: -3162.7913411458335.\n",
      "[I 2025-05-14 04:48:03,243] Trial 31 finished with value: -3167.3258463541665 and parameters: {'learning_rate': 0.1863689590113835, 'max_depth': 4, 'min_child_weight': 3, 'gamma': 0.19908264163989292, 'subsample': 0.7278685694121224, 'colsample_bytree': 0.5861480239301309, 'reg_alpha': 2.026116015039801, 'reg_lambda': 8.699297071780851}. Best is trial 0 with value: -3162.7913411458335.\n",
      "[I 2025-05-14 04:48:05,445] Trial 32 finished with value: -3281.510986328125 and parameters: {'learning_rate': 0.20151346925924155, 'max_depth': 5, 'min_child_weight': 3, 'gamma': 0.16458591948116905, 'subsample': 0.6958914280325602, 'colsample_bytree': 0.6042564555277344, 'reg_alpha': 1.3700762573158425, 'reg_lambda': 8.518791773797872}. Best is trial 0 with value: -3162.7913411458335.\n",
      "[I 2025-05-14 04:48:07,111] Trial 33 finished with value: -3204.1426595052085 and parameters: {'learning_rate': 0.12026108279051516, 'max_depth': 4, 'min_child_weight': 2, 'gamma': 0.15438462102064923, 'subsample': 0.6242819620230452, 'colsample_bytree': 0.5342892669503979, 'reg_alpha': 0.4963669112142102, 'reg_lambda': 7.666852561159716}. Best is trial 0 with value: -3162.7913411458335.\n",
      "[I 2025-05-14 04:48:08,476] Trial 34 finished with value: -3220.5049641927085 and parameters: {'learning_rate': 0.2337807893313772, 'max_depth': 3, 'min_child_weight': 3, 'gamma': 0.188224524248803, 'subsample': 0.7519391438650187, 'colsample_bytree': 0.6734690653266131, 'reg_alpha': 2.366857352866043, 'reg_lambda': 9.337266831653581}. Best is trial 0 with value: -3162.7913411458335.\n",
      "[I 2025-05-14 04:48:10,219] Trial 35 finished with value: -3141.7112630208335 and parameters: {'learning_rate': 0.05427916910483564, 'max_depth': 5, 'min_child_weight': 2, 'gamma': 0.17217342372478064, 'subsample': 0.6486895737288911, 'colsample_bytree': 0.5748420678684818, 'reg_alpha': 2.823104446765354, 'reg_lambda': 6.123835171658451}. Best is trial 35 with value: -3141.7112630208335.\n",
      "[I 2025-05-14 04:48:12,727] Trial 36 finished with value: -3424.205810546875 and parameters: {'learning_rate': 0.3434536736887878, 'max_depth': 5, 'min_child_weight': 1, 'gamma': 0.19798037524773468, 'subsample': 0.6462109533575047, 'colsample_bytree': 0.6013661462288122, 'reg_alpha': 2.8058983646067652, 'reg_lambda': 5.836376792997449}. Best is trial 35 with value: -3141.7112630208335.\n",
      "[I 2025-05-14 04:48:14,696] Trial 37 finished with value: -3118.7006022135415 and parameters: {'learning_rate': 0.050933621089207015, 'max_depth': 5, 'min_child_weight': 2, 'gamma': 0.17859904779145075, 'subsample': 0.687046200984366, 'colsample_bytree': 0.5234986611495844, 'reg_alpha': 2.814493606788762, 'reg_lambda': 4.8395816535714555}. Best is trial 37 with value: -3118.7006022135415.\n",
      "[I 2025-05-14 04:48:16,481] Trial 38 finished with value: -3122.8831380208335 and parameters: {'learning_rate': 0.06168478840447832, 'max_depth': 5, 'min_child_weight': 2, 'gamma': 0.13797722131867746, 'subsample': 0.6960007534848832, 'colsample_bytree': 0.5182244063678463, 'reg_alpha': 2.731920033783212, 'reg_lambda': 4.550908916595087}. Best is trial 37 with value: -3118.7006022135415.\n",
      "[I 2025-05-14 04:48:18,515] Trial 39 finished with value: -3139.6028645833335 and parameters: {'learning_rate': 0.05316829440470475, 'max_depth': 5, 'min_child_weight': 1, 'gamma': 0.13489818880210416, 'subsample': 0.6912991523076674, 'colsample_bytree': 0.517984422252086, 'reg_alpha': 3.408188018857992, 'reg_lambda': 4.62131346940151}. Best is trial 37 with value: -3118.7006022135415.\n",
      "[I 2025-05-14 04:48:21,326] Trial 40 finished with value: -3165.2281901041665 and parameters: {'learning_rate': 0.040909566934035954, 'max_depth': 6, 'min_child_weight': 1, 'gamma': 0.13647271109557557, 'subsample': 0.6868429049917079, 'colsample_bytree': 0.5098868980895536, 'reg_alpha': 3.3309798162772895, 'reg_lambda': 4.842339064732724}. Best is trial 37 with value: -3118.7006022135415.\n",
      "[I 2025-05-14 04:48:22,927] Trial 41 finished with value: -3153.988525390625 and parameters: {'learning_rate': 0.04764134215278892, 'max_depth': 5, 'min_child_weight': 1, 'gamma': 0.13734423615317123, 'subsample': 0.6396914085172828, 'colsample_bytree': 0.5222333533007302, 'reg_alpha': 2.7683392736744907, 'reg_lambda': 3.4848817151425147}. Best is trial 37 with value: -3118.7006022135415.\n",
      "[I 2025-05-14 04:48:25,194] Trial 42 finished with value: -3138.40869140625 and parameters: {'learning_rate': 0.04665794491311853, 'max_depth': 5, 'min_child_weight': 1, 'gamma': 0.14050710663623797, 'subsample': 0.6466622773319057, 'colsample_bytree': 0.5243207754378303, 'reg_alpha': 2.742598397314503, 'reg_lambda': 3.4532539995737297}. Best is trial 37 with value: -3118.7006022135415.\n",
      "[I 2025-05-14 04:48:27,181] Trial 43 finished with value: -3634.5953776041665 and parameters: {'learning_rate': 0.010559089516967338, 'max_depth': 5, 'min_child_weight': 1, 'gamma': 0.10464776864762987, 'subsample': 0.590380693415102, 'colsample_bytree': 0.5527271103337551, 'reg_alpha': 3.3406191855405254, 'reg_lambda': 4.270515611372069}. Best is trial 37 with value: -3118.7006022135415.\n",
      "[I 2025-05-14 04:48:28,967] Trial 44 finished with value: -3160.775146484375 and parameters: {'learning_rate': 0.060736025914241036, 'max_depth': 5, 'min_child_weight': 1, 'gamma': 0.12354110870609715, 'subsample': 0.7089501071182204, 'colsample_bytree': 0.5237902329649554, 'reg_alpha': 3.7441364304748164, 'reg_lambda': 2.9387955530200216}. Best is trial 37 with value: -3118.7006022135415.\n",
      "[I 2025-05-14 04:48:31,730] Trial 45 finished with value: -3168.1395670572915 and parameters: {'learning_rate': 0.037531801199779405, 'max_depth': 6, 'min_child_weight': 2, 'gamma': 0.14149686953692464, 'subsample': 0.6665114574999642, 'colsample_bytree': 0.5033999882927995, 'reg_alpha': 3.0970914358769033, 'reg_lambda': 4.899606528403381}. Best is trial 37 with value: -3118.7006022135415.\n",
      "[I 2025-05-14 04:48:34,529] Trial 46 finished with value: -3193.5437825520835 and parameters: {'learning_rate': 0.09959112301640272, 'max_depth': 5, 'min_child_weight': 1, 'gamma': 0.15729275651842772, 'subsample': 0.622910390210815, 'colsample_bytree': 0.5659218113820054, 'reg_alpha': 2.5987048583369248, 'reg_lambda': 4.437051597406045}. Best is trial 37 with value: -3118.7006022135415.\n",
      "[I 2025-05-14 04:48:37,245] Trial 47 finished with value: -3228.6897786458335 and parameters: {'learning_rate': 0.07037240171555721, 'max_depth': 5, 'min_child_weight': 2, 'gamma': 0.1344051098663805, 'subsample': 0.565145406031194, 'colsample_bytree': 0.9281697283786465, 'reg_alpha': 2.2287279424305964, 'reg_lambda': 3.764118180558043}. Best is trial 37 with value: -3118.7006022135415.\n",
      "[I 2025-05-14 04:48:40,511] Trial 48 finished with value: -3211.089111328125 and parameters: {'learning_rate': 0.10995519780575633, 'max_depth': 6, 'min_child_weight': 2, 'gamma': 0.09688240640580331, 'subsample': 0.6949408506367961, 'colsample_bytree': 0.5247184310894689, 'reg_alpha': 3.9418544972703486, 'reg_lambda': 5.287998554183364}. Best is trial 37 with value: -3118.7006022135415.\n",
      "[I 2025-05-14 04:48:42,711] Trial 49 finished with value: -3200.5746256510415 and parameters: {'learning_rate': 0.028839725004554832, 'max_depth': 5, 'min_child_weight': 1, 'gamma': 0.024679179556514927, 'subsample': 0.6593982063331032, 'colsample_bytree': 0.5591427707331742, 'reg_alpha': 2.638934979392886, 'reg_lambda': 2.9603331872221825}. Best is trial 37 with value: -3118.7006022135415.\n"
     ]
    },
    {
     "name": "stdout",
     "output_type": "stream",
     "text": [
      "Best trial:\n",
      "  RMSE (CV): 3118.7006\n",
      "  Best hyperparameters:\n",
      "    learning_rate: 0.050933621089207015\n",
      "    max_depth: 5\n",
      "    min_child_weight: 2\n",
      "    gamma: 0.17859904779145075\n",
      "    subsample: 0.687046200984366\n",
      "    colsample_bytree: 0.5234986611495844\n",
      "    reg_alpha: 2.814493606788762\n",
      "    reg_lambda: 4.8395816535714555\n"
     ]
    }
   ],
   "source": [
    "import optuna\n",
    "from sklearn.model_selection import cross_val_score\n",
    "# Define the objective function for Optuna\n",
    "def objective(trial):\n",
    "    # Suggest hyperparameters\n",
    "    params = {\n",
    "        'learning_rate': trial.suggest_float('learning_rate', 0.01, 0.5),\n",
    "        'max_depth': trial.suggest_int('max_depth', 3, 7),\n",
    "        'min_child_weight': trial.suggest_int('min_child_weight', 1, 5),\n",
    "        'gamma': trial.suggest_float('gamma', 0, 0.2),\n",
    "        'subsample': trial.suggest_float('subsample', 0.5, 1.0),\n",
    "        'colsample_bytree': trial.suggest_float('colsample_bytree', 0.5, 1.0),\n",
    "        'reg_alpha': trial.suggest_float('reg_alpha', 0, 5),\n",
    "        'reg_lambda': trial.suggest_float('reg_lambda', 1, 10),\n",
    "        'random_state': 42,\n",
    "        'n_estimators': 1000\n",
    "    }\n",
    "\n",
    "    # Define the model\n",
    "    model = XGBRegressor(**params)\n",
    "\n",
    "    # Optionally: wrap in pipeline if preprocessing is needed\n",
    "    pipeline = Pipeline([\n",
    "        ('preprocessor', preprocessor),  # assumed to be defined earlier\n",
    "        ('regressor', model)\n",
    "    ])\n",
    "\n",
    "    # Evaluate with cross-validation\n",
    "    score = cross_val_score(pipeline, X_train, y_train, cv=3, scoring='neg_root_mean_squared_error').mean()\n",
    "    return score  # Maximize negative RMSE (i.e., minimize RMSE)\n",
    "\n",
    "# Run the Optuna study\n",
    "study = optuna.create_study(direction='maximize')  # maximizing negative RMSE\n",
    "study.optimize(objective, n_trials=50, timeout=600)\n",
    "\n",
    "# Display the best result\n",
    "print(\"Best trial:\")\n",
    "print(f\"  RMSE (CV): {-study.best_value:.4f}\")\n",
    "print(\"  Best hyperparameters:\")\n",
    "for key, value in study.best_params.items():\n",
    "    print(f\"    {key}: {value}\")\n"
   ]
  },
  {
   "cell_type": "markdown",
   "id": "5a70b616",
   "metadata": {},
   "source": [
    "Let's visualize the result"
   ]
  },
  {
   "cell_type": "code",
   "execution_count": 6,
   "id": "fd419394",
   "metadata": {},
   "outputs": [
    {
     "data": {
      "application/vnd.plotly.v1+json": {
       "config": {
        "plotlyServerURL": "https://plot.ly"
       },
       "data": [
        {
         "mode": "markers",
         "name": "Objective Value",
         "type": "scatter",
         "x": [
          0,
          1,
          2,
          3,
          4,
          5,
          6,
          7,
          8,
          9,
          10,
          11,
          12,
          13,
          14,
          15,
          16,
          17,
          18,
          19,
          20,
          21,
          22,
          23,
          24,
          25,
          26,
          27,
          28,
          29,
          30,
          31,
          32,
          33,
          34,
          35,
          36,
          37,
          38,
          39,
          40,
          41,
          42,
          43,
          44,
          45,
          46,
          47,
          48,
          49
         ],
         "y": [
          -3162.7913411458335,
          -3368.8380533854165,
          -3432.02392578125,
          -3344.6248372395835,
          -3270.3804524739585,
          -3520.0126953125,
          -3230.2576497395835,
          -3265.4407552083335,
          -3521.05517578125,
          -3271.8055013020835,
          -3261.6067708333335,
          -3377.5233561197915,
          -3359.8211263020835,
          -3389.99609375,
          -3303.03955078125,
          -3350.712158203125,
          -3751.3375651041665,
          -3220.991943359375,
          -3196.406494140625,
          -3185.7190755208335,
          -3203.70068359375,
          -3228.9916178385415,
          -3219.378662109375,
          -3211.786865234375,
          -3334.4794921875,
          -3267.5618489583335,
          -3202.6060384114585,
          -3199.9505208333335,
          -3233.1486002604165,
          -3205.3538411458335,
          -3383.5137532552085,
          -3167.3258463541665,
          -3281.510986328125,
          -3204.1426595052085,
          -3220.5049641927085,
          -3141.7112630208335,
          -3424.205810546875,
          -3118.7006022135415,
          -3122.8831380208335,
          -3139.6028645833335,
          -3165.2281901041665,
          -3153.988525390625,
          -3138.40869140625,
          -3634.5953776041665,
          -3160.775146484375,
          -3168.1395670572915,
          -3193.5437825520835,
          -3228.6897786458335,
          -3211.089111328125,
          -3200.5746256510415
         ]
        },
        {
         "mode": "lines",
         "name": "Best Value",
         "type": "scatter",
         "x": [
          0,
          1,
          2,
          3,
          4,
          5,
          6,
          7,
          8,
          9,
          10,
          11,
          12,
          13,
          14,
          15,
          16,
          17,
          18,
          19,
          20,
          21,
          22,
          23,
          24,
          25,
          26,
          27,
          28,
          29,
          30,
          31,
          32,
          33,
          34,
          35,
          36,
          37,
          38,
          39,
          40,
          41,
          42,
          43,
          44,
          45,
          46,
          47,
          48,
          49
         ],
         "y": [
          -3162.7913411458335,
          -3162.7913411458335,
          -3162.7913411458335,
          -3162.7913411458335,
          -3162.7913411458335,
          -3162.7913411458335,
          -3162.7913411458335,
          -3162.7913411458335,
          -3162.7913411458335,
          -3162.7913411458335,
          -3162.7913411458335,
          -3162.7913411458335,
          -3162.7913411458335,
          -3162.7913411458335,
          -3162.7913411458335,
          -3162.7913411458335,
          -3162.7913411458335,
          -3162.7913411458335,
          -3162.7913411458335,
          -3162.7913411458335,
          -3162.7913411458335,
          -3162.7913411458335,
          -3162.7913411458335,
          -3162.7913411458335,
          -3162.7913411458335,
          -3162.7913411458335,
          -3162.7913411458335,
          -3162.7913411458335,
          -3162.7913411458335,
          -3162.7913411458335,
          -3162.7913411458335,
          -3162.7913411458335,
          -3162.7913411458335,
          -3162.7913411458335,
          -3162.7913411458335,
          -3141.7112630208335,
          -3141.7112630208335,
          -3118.7006022135415,
          -3118.7006022135415,
          -3118.7006022135415,
          -3118.7006022135415,
          -3118.7006022135415,
          -3118.7006022135415,
          -3118.7006022135415,
          -3118.7006022135415,
          -3118.7006022135415,
          -3118.7006022135415,
          -3118.7006022135415,
          -3118.7006022135415,
          -3118.7006022135415
         ]
        },
        {
         "marker": {
          "color": "#cccccc"
         },
         "mode": "markers",
         "name": "Infeasible Trial",
         "showlegend": false,
         "type": "scatter",
         "x": [],
         "y": []
        }
       ],
       "layout": {
        "template": {
         "data": {
          "bar": [
           {
            "error_x": {
             "color": "#2a3f5f"
            },
            "error_y": {
             "color": "#2a3f5f"
            },
            "marker": {
             "line": {
              "color": "#E5ECF6",
              "width": 0.5
             },
             "pattern": {
              "fillmode": "overlay",
              "size": 10,
              "solidity": 0.2
             }
            },
            "type": "bar"
           }
          ],
          "barpolar": [
           {
            "marker": {
             "line": {
              "color": "#E5ECF6",
              "width": 0.5
             },
             "pattern": {
              "fillmode": "overlay",
              "size": 10,
              "solidity": 0.2
             }
            },
            "type": "barpolar"
           }
          ],
          "carpet": [
           {
            "aaxis": {
             "endlinecolor": "#2a3f5f",
             "gridcolor": "white",
             "linecolor": "white",
             "minorgridcolor": "white",
             "startlinecolor": "#2a3f5f"
            },
            "baxis": {
             "endlinecolor": "#2a3f5f",
             "gridcolor": "white",
             "linecolor": "white",
             "minorgridcolor": "white",
             "startlinecolor": "#2a3f5f"
            },
            "type": "carpet"
           }
          ],
          "choropleth": [
           {
            "colorbar": {
             "outlinewidth": 0,
             "ticks": ""
            },
            "type": "choropleth"
           }
          ],
          "contour": [
           {
            "colorbar": {
             "outlinewidth": 0,
             "ticks": ""
            },
            "colorscale": [
             [
              0,
              "#0d0887"
             ],
             [
              0.1111111111111111,
              "#46039f"
             ],
             [
              0.2222222222222222,
              "#7201a8"
             ],
             [
              0.3333333333333333,
              "#9c179e"
             ],
             [
              0.4444444444444444,
              "#bd3786"
             ],
             [
              0.5555555555555556,
              "#d8576b"
             ],
             [
              0.6666666666666666,
              "#ed7953"
             ],
             [
              0.7777777777777778,
              "#fb9f3a"
             ],
             [
              0.8888888888888888,
              "#fdca26"
             ],
             [
              1,
              "#f0f921"
             ]
            ],
            "type": "contour"
           }
          ],
          "contourcarpet": [
           {
            "colorbar": {
             "outlinewidth": 0,
             "ticks": ""
            },
            "type": "contourcarpet"
           }
          ],
          "heatmap": [
           {
            "colorbar": {
             "outlinewidth": 0,
             "ticks": ""
            },
            "colorscale": [
             [
              0,
              "#0d0887"
             ],
             [
              0.1111111111111111,
              "#46039f"
             ],
             [
              0.2222222222222222,
              "#7201a8"
             ],
             [
              0.3333333333333333,
              "#9c179e"
             ],
             [
              0.4444444444444444,
              "#bd3786"
             ],
             [
              0.5555555555555556,
              "#d8576b"
             ],
             [
              0.6666666666666666,
              "#ed7953"
             ],
             [
              0.7777777777777778,
              "#fb9f3a"
             ],
             [
              0.8888888888888888,
              "#fdca26"
             ],
             [
              1,
              "#f0f921"
             ]
            ],
            "type": "heatmap"
           }
          ],
          "heatmapgl": [
           {
            "colorbar": {
             "outlinewidth": 0,
             "ticks": ""
            },
            "colorscale": [
             [
              0,
              "#0d0887"
             ],
             [
              0.1111111111111111,
              "#46039f"
             ],
             [
              0.2222222222222222,
              "#7201a8"
             ],
             [
              0.3333333333333333,
              "#9c179e"
             ],
             [
              0.4444444444444444,
              "#bd3786"
             ],
             [
              0.5555555555555556,
              "#d8576b"
             ],
             [
              0.6666666666666666,
              "#ed7953"
             ],
             [
              0.7777777777777778,
              "#fb9f3a"
             ],
             [
              0.8888888888888888,
              "#fdca26"
             ],
             [
              1,
              "#f0f921"
             ]
            ],
            "type": "heatmapgl"
           }
          ],
          "histogram": [
           {
            "marker": {
             "pattern": {
              "fillmode": "overlay",
              "size": 10,
              "solidity": 0.2
             }
            },
            "type": "histogram"
           }
          ],
          "histogram2d": [
           {
            "colorbar": {
             "outlinewidth": 0,
             "ticks": ""
            },
            "colorscale": [
             [
              0,
              "#0d0887"
             ],
             [
              0.1111111111111111,
              "#46039f"
             ],
             [
              0.2222222222222222,
              "#7201a8"
             ],
             [
              0.3333333333333333,
              "#9c179e"
             ],
             [
              0.4444444444444444,
              "#bd3786"
             ],
             [
              0.5555555555555556,
              "#d8576b"
             ],
             [
              0.6666666666666666,
              "#ed7953"
             ],
             [
              0.7777777777777778,
              "#fb9f3a"
             ],
             [
              0.8888888888888888,
              "#fdca26"
             ],
             [
              1,
              "#f0f921"
             ]
            ],
            "type": "histogram2d"
           }
          ],
          "histogram2dcontour": [
           {
            "colorbar": {
             "outlinewidth": 0,
             "ticks": ""
            },
            "colorscale": [
             [
              0,
              "#0d0887"
             ],
             [
              0.1111111111111111,
              "#46039f"
             ],
             [
              0.2222222222222222,
              "#7201a8"
             ],
             [
              0.3333333333333333,
              "#9c179e"
             ],
             [
              0.4444444444444444,
              "#bd3786"
             ],
             [
              0.5555555555555556,
              "#d8576b"
             ],
             [
              0.6666666666666666,
              "#ed7953"
             ],
             [
              0.7777777777777778,
              "#fb9f3a"
             ],
             [
              0.8888888888888888,
              "#fdca26"
             ],
             [
              1,
              "#f0f921"
             ]
            ],
            "type": "histogram2dcontour"
           }
          ],
          "mesh3d": [
           {
            "colorbar": {
             "outlinewidth": 0,
             "ticks": ""
            },
            "type": "mesh3d"
           }
          ],
          "parcoords": [
           {
            "line": {
             "colorbar": {
              "outlinewidth": 0,
              "ticks": ""
             }
            },
            "type": "parcoords"
           }
          ],
          "pie": [
           {
            "automargin": true,
            "type": "pie"
           }
          ],
          "scatter": [
           {
            "fillpattern": {
             "fillmode": "overlay",
             "size": 10,
             "solidity": 0.2
            },
            "type": "scatter"
           }
          ],
          "scatter3d": [
           {
            "line": {
             "colorbar": {
              "outlinewidth": 0,
              "ticks": ""
             }
            },
            "marker": {
             "colorbar": {
              "outlinewidth": 0,
              "ticks": ""
             }
            },
            "type": "scatter3d"
           }
          ],
          "scattercarpet": [
           {
            "marker": {
             "colorbar": {
              "outlinewidth": 0,
              "ticks": ""
             }
            },
            "type": "scattercarpet"
           }
          ],
          "scattergeo": [
           {
            "marker": {
             "colorbar": {
              "outlinewidth": 0,
              "ticks": ""
             }
            },
            "type": "scattergeo"
           }
          ],
          "scattergl": [
           {
            "marker": {
             "colorbar": {
              "outlinewidth": 0,
              "ticks": ""
             }
            },
            "type": "scattergl"
           }
          ],
          "scattermapbox": [
           {
            "marker": {
             "colorbar": {
              "outlinewidth": 0,
              "ticks": ""
             }
            },
            "type": "scattermapbox"
           }
          ],
          "scatterpolar": [
           {
            "marker": {
             "colorbar": {
              "outlinewidth": 0,
              "ticks": ""
             }
            },
            "type": "scatterpolar"
           }
          ],
          "scatterpolargl": [
           {
            "marker": {
             "colorbar": {
              "outlinewidth": 0,
              "ticks": ""
             }
            },
            "type": "scatterpolargl"
           }
          ],
          "scatterternary": [
           {
            "marker": {
             "colorbar": {
              "outlinewidth": 0,
              "ticks": ""
             }
            },
            "type": "scatterternary"
           }
          ],
          "surface": [
           {
            "colorbar": {
             "outlinewidth": 0,
             "ticks": ""
            },
            "colorscale": [
             [
              0,
              "#0d0887"
             ],
             [
              0.1111111111111111,
              "#46039f"
             ],
             [
              0.2222222222222222,
              "#7201a8"
             ],
             [
              0.3333333333333333,
              "#9c179e"
             ],
             [
              0.4444444444444444,
              "#bd3786"
             ],
             [
              0.5555555555555556,
              "#d8576b"
             ],
             [
              0.6666666666666666,
              "#ed7953"
             ],
             [
              0.7777777777777778,
              "#fb9f3a"
             ],
             [
              0.8888888888888888,
              "#fdca26"
             ],
             [
              1,
              "#f0f921"
             ]
            ],
            "type": "surface"
           }
          ],
          "table": [
           {
            "cells": {
             "fill": {
              "color": "#EBF0F8"
             },
             "line": {
              "color": "white"
             }
            },
            "header": {
             "fill": {
              "color": "#C8D4E3"
             },
             "line": {
              "color": "white"
             }
            },
            "type": "table"
           }
          ]
         },
         "layout": {
          "annotationdefaults": {
           "arrowcolor": "#2a3f5f",
           "arrowhead": 0,
           "arrowwidth": 1
          },
          "autotypenumbers": "strict",
          "coloraxis": {
           "colorbar": {
            "outlinewidth": 0,
            "ticks": ""
           }
          },
          "colorscale": {
           "diverging": [
            [
             0,
             "#8e0152"
            ],
            [
             0.1,
             "#c51b7d"
            ],
            [
             0.2,
             "#de77ae"
            ],
            [
             0.3,
             "#f1b6da"
            ],
            [
             0.4,
             "#fde0ef"
            ],
            [
             0.5,
             "#f7f7f7"
            ],
            [
             0.6,
             "#e6f5d0"
            ],
            [
             0.7,
             "#b8e186"
            ],
            [
             0.8,
             "#7fbc41"
            ],
            [
             0.9,
             "#4d9221"
            ],
            [
             1,
             "#276419"
            ]
           ],
           "sequential": [
            [
             0,
             "#0d0887"
            ],
            [
             0.1111111111111111,
             "#46039f"
            ],
            [
             0.2222222222222222,
             "#7201a8"
            ],
            [
             0.3333333333333333,
             "#9c179e"
            ],
            [
             0.4444444444444444,
             "#bd3786"
            ],
            [
             0.5555555555555556,
             "#d8576b"
            ],
            [
             0.6666666666666666,
             "#ed7953"
            ],
            [
             0.7777777777777778,
             "#fb9f3a"
            ],
            [
             0.8888888888888888,
             "#fdca26"
            ],
            [
             1,
             "#f0f921"
            ]
           ],
           "sequentialminus": [
            [
             0,
             "#0d0887"
            ],
            [
             0.1111111111111111,
             "#46039f"
            ],
            [
             0.2222222222222222,
             "#7201a8"
            ],
            [
             0.3333333333333333,
             "#9c179e"
            ],
            [
             0.4444444444444444,
             "#bd3786"
            ],
            [
             0.5555555555555556,
             "#d8576b"
            ],
            [
             0.6666666666666666,
             "#ed7953"
            ],
            [
             0.7777777777777778,
             "#fb9f3a"
            ],
            [
             0.8888888888888888,
             "#fdca26"
            ],
            [
             1,
             "#f0f921"
            ]
           ]
          },
          "colorway": [
           "#636efa",
           "#EF553B",
           "#00cc96",
           "#ab63fa",
           "#FFA15A",
           "#19d3f3",
           "#FF6692",
           "#B6E880",
           "#FF97FF",
           "#FECB52"
          ],
          "font": {
           "color": "#2a3f5f"
          },
          "geo": {
           "bgcolor": "white",
           "lakecolor": "white",
           "landcolor": "#E5ECF6",
           "showlakes": true,
           "showland": true,
           "subunitcolor": "white"
          },
          "hoverlabel": {
           "align": "left"
          },
          "hovermode": "closest",
          "mapbox": {
           "style": "light"
          },
          "paper_bgcolor": "white",
          "plot_bgcolor": "#E5ECF6",
          "polar": {
           "angularaxis": {
            "gridcolor": "white",
            "linecolor": "white",
            "ticks": ""
           },
           "bgcolor": "#E5ECF6",
           "radialaxis": {
            "gridcolor": "white",
            "linecolor": "white",
            "ticks": ""
           }
          },
          "scene": {
           "xaxis": {
            "backgroundcolor": "#E5ECF6",
            "gridcolor": "white",
            "gridwidth": 2,
            "linecolor": "white",
            "showbackground": true,
            "ticks": "",
            "zerolinecolor": "white"
           },
           "yaxis": {
            "backgroundcolor": "#E5ECF6",
            "gridcolor": "white",
            "gridwidth": 2,
            "linecolor": "white",
            "showbackground": true,
            "ticks": "",
            "zerolinecolor": "white"
           },
           "zaxis": {
            "backgroundcolor": "#E5ECF6",
            "gridcolor": "white",
            "gridwidth": 2,
            "linecolor": "white",
            "showbackground": true,
            "ticks": "",
            "zerolinecolor": "white"
           }
          },
          "shapedefaults": {
           "line": {
            "color": "#2a3f5f"
           }
          },
          "ternary": {
           "aaxis": {
            "gridcolor": "white",
            "linecolor": "white",
            "ticks": ""
           },
           "baxis": {
            "gridcolor": "white",
            "linecolor": "white",
            "ticks": ""
           },
           "bgcolor": "#E5ECF6",
           "caxis": {
            "gridcolor": "white",
            "linecolor": "white",
            "ticks": ""
           }
          },
          "title": {
           "x": 0.05
          },
          "xaxis": {
           "automargin": true,
           "gridcolor": "white",
           "linecolor": "white",
           "ticks": "",
           "title": {
            "standoff": 15
           },
           "zerolinecolor": "white",
           "zerolinewidth": 2
          },
          "yaxis": {
           "automargin": true,
           "gridcolor": "white",
           "linecolor": "white",
           "ticks": "",
           "title": {
            "standoff": 15
           },
           "zerolinecolor": "white",
           "zerolinewidth": 2
          }
         }
        },
        "title": {
         "text": "Optimization History Plot"
        },
        "xaxis": {
         "title": {
          "text": "Trial"
         }
        },
        "yaxis": {
         "title": {
          "text": "Objective Value"
         }
        }
       }
      }
     },
     "metadata": {},
     "output_type": "display_data"
    },
    {
     "data": {
      "application/vnd.plotly.v1+json": {
       "config": {
        "plotlyServerURL": "https://plot.ly"
       },
       "data": [
        {
         "cliponaxis": false,
         "hovertemplate": [
          "reg_lambda (FloatDistribution): 0.017681902221645972<extra></extra>",
          "min_child_weight (IntDistribution): 0.01803929511742904<extra></extra>",
          "colsample_bytree (FloatDistribution): 0.02200953978559932<extra></extra>",
          "max_depth (IntDistribution): 0.03412260062009787<extra></extra>",
          "subsample (FloatDistribution): 0.038277908855960524<extra></extra>",
          "reg_alpha (FloatDistribution): 0.04215424571272351<extra></extra>",
          "gamma (FloatDistribution): 0.043060286550240384<extra></extra>",
          "learning_rate (FloatDistribution): 0.7846542211363036<extra></extra>"
         ],
         "name": "Objective Value",
         "orientation": "h",
         "text": [
          "0.02",
          "0.02",
          "0.02",
          "0.03",
          "0.04",
          "0.04",
          "0.04",
          "0.78"
         ],
         "textposition": "outside",
         "type": "bar",
         "x": [
          0.017681902221645972,
          0.01803929511742904,
          0.02200953978559932,
          0.03412260062009787,
          0.038277908855960524,
          0.04215424571272351,
          0.043060286550240384,
          0.7846542211363036
         ],
         "y": [
          "reg_lambda",
          "min_child_weight",
          "colsample_bytree",
          "max_depth",
          "subsample",
          "reg_alpha",
          "gamma",
          "learning_rate"
         ]
        }
       ],
       "layout": {
        "template": {
         "data": {
          "bar": [
           {
            "error_x": {
             "color": "#2a3f5f"
            },
            "error_y": {
             "color": "#2a3f5f"
            },
            "marker": {
             "line": {
              "color": "#E5ECF6",
              "width": 0.5
             },
             "pattern": {
              "fillmode": "overlay",
              "size": 10,
              "solidity": 0.2
             }
            },
            "type": "bar"
           }
          ],
          "barpolar": [
           {
            "marker": {
             "line": {
              "color": "#E5ECF6",
              "width": 0.5
             },
             "pattern": {
              "fillmode": "overlay",
              "size": 10,
              "solidity": 0.2
             }
            },
            "type": "barpolar"
           }
          ],
          "carpet": [
           {
            "aaxis": {
             "endlinecolor": "#2a3f5f",
             "gridcolor": "white",
             "linecolor": "white",
             "minorgridcolor": "white",
             "startlinecolor": "#2a3f5f"
            },
            "baxis": {
             "endlinecolor": "#2a3f5f",
             "gridcolor": "white",
             "linecolor": "white",
             "minorgridcolor": "white",
             "startlinecolor": "#2a3f5f"
            },
            "type": "carpet"
           }
          ],
          "choropleth": [
           {
            "colorbar": {
             "outlinewidth": 0,
             "ticks": ""
            },
            "type": "choropleth"
           }
          ],
          "contour": [
           {
            "colorbar": {
             "outlinewidth": 0,
             "ticks": ""
            },
            "colorscale": [
             [
              0,
              "#0d0887"
             ],
             [
              0.1111111111111111,
              "#46039f"
             ],
             [
              0.2222222222222222,
              "#7201a8"
             ],
             [
              0.3333333333333333,
              "#9c179e"
             ],
             [
              0.4444444444444444,
              "#bd3786"
             ],
             [
              0.5555555555555556,
              "#d8576b"
             ],
             [
              0.6666666666666666,
              "#ed7953"
             ],
             [
              0.7777777777777778,
              "#fb9f3a"
             ],
             [
              0.8888888888888888,
              "#fdca26"
             ],
             [
              1,
              "#f0f921"
             ]
            ],
            "type": "contour"
           }
          ],
          "contourcarpet": [
           {
            "colorbar": {
             "outlinewidth": 0,
             "ticks": ""
            },
            "type": "contourcarpet"
           }
          ],
          "heatmap": [
           {
            "colorbar": {
             "outlinewidth": 0,
             "ticks": ""
            },
            "colorscale": [
             [
              0,
              "#0d0887"
             ],
             [
              0.1111111111111111,
              "#46039f"
             ],
             [
              0.2222222222222222,
              "#7201a8"
             ],
             [
              0.3333333333333333,
              "#9c179e"
             ],
             [
              0.4444444444444444,
              "#bd3786"
             ],
             [
              0.5555555555555556,
              "#d8576b"
             ],
             [
              0.6666666666666666,
              "#ed7953"
             ],
             [
              0.7777777777777778,
              "#fb9f3a"
             ],
             [
              0.8888888888888888,
              "#fdca26"
             ],
             [
              1,
              "#f0f921"
             ]
            ],
            "type": "heatmap"
           }
          ],
          "heatmapgl": [
           {
            "colorbar": {
             "outlinewidth": 0,
             "ticks": ""
            },
            "colorscale": [
             [
              0,
              "#0d0887"
             ],
             [
              0.1111111111111111,
              "#46039f"
             ],
             [
              0.2222222222222222,
              "#7201a8"
             ],
             [
              0.3333333333333333,
              "#9c179e"
             ],
             [
              0.4444444444444444,
              "#bd3786"
             ],
             [
              0.5555555555555556,
              "#d8576b"
             ],
             [
              0.6666666666666666,
              "#ed7953"
             ],
             [
              0.7777777777777778,
              "#fb9f3a"
             ],
             [
              0.8888888888888888,
              "#fdca26"
             ],
             [
              1,
              "#f0f921"
             ]
            ],
            "type": "heatmapgl"
           }
          ],
          "histogram": [
           {
            "marker": {
             "pattern": {
              "fillmode": "overlay",
              "size": 10,
              "solidity": 0.2
             }
            },
            "type": "histogram"
           }
          ],
          "histogram2d": [
           {
            "colorbar": {
             "outlinewidth": 0,
             "ticks": ""
            },
            "colorscale": [
             [
              0,
              "#0d0887"
             ],
             [
              0.1111111111111111,
              "#46039f"
             ],
             [
              0.2222222222222222,
              "#7201a8"
             ],
             [
              0.3333333333333333,
              "#9c179e"
             ],
             [
              0.4444444444444444,
              "#bd3786"
             ],
             [
              0.5555555555555556,
              "#d8576b"
             ],
             [
              0.6666666666666666,
              "#ed7953"
             ],
             [
              0.7777777777777778,
              "#fb9f3a"
             ],
             [
              0.8888888888888888,
              "#fdca26"
             ],
             [
              1,
              "#f0f921"
             ]
            ],
            "type": "histogram2d"
           }
          ],
          "histogram2dcontour": [
           {
            "colorbar": {
             "outlinewidth": 0,
             "ticks": ""
            },
            "colorscale": [
             [
              0,
              "#0d0887"
             ],
             [
              0.1111111111111111,
              "#46039f"
             ],
             [
              0.2222222222222222,
              "#7201a8"
             ],
             [
              0.3333333333333333,
              "#9c179e"
             ],
             [
              0.4444444444444444,
              "#bd3786"
             ],
             [
              0.5555555555555556,
              "#d8576b"
             ],
             [
              0.6666666666666666,
              "#ed7953"
             ],
             [
              0.7777777777777778,
              "#fb9f3a"
             ],
             [
              0.8888888888888888,
              "#fdca26"
             ],
             [
              1,
              "#f0f921"
             ]
            ],
            "type": "histogram2dcontour"
           }
          ],
          "mesh3d": [
           {
            "colorbar": {
             "outlinewidth": 0,
             "ticks": ""
            },
            "type": "mesh3d"
           }
          ],
          "parcoords": [
           {
            "line": {
             "colorbar": {
              "outlinewidth": 0,
              "ticks": ""
             }
            },
            "type": "parcoords"
           }
          ],
          "pie": [
           {
            "automargin": true,
            "type": "pie"
           }
          ],
          "scatter": [
           {
            "fillpattern": {
             "fillmode": "overlay",
             "size": 10,
             "solidity": 0.2
            },
            "type": "scatter"
           }
          ],
          "scatter3d": [
           {
            "line": {
             "colorbar": {
              "outlinewidth": 0,
              "ticks": ""
             }
            },
            "marker": {
             "colorbar": {
              "outlinewidth": 0,
              "ticks": ""
             }
            },
            "type": "scatter3d"
           }
          ],
          "scattercarpet": [
           {
            "marker": {
             "colorbar": {
              "outlinewidth": 0,
              "ticks": ""
             }
            },
            "type": "scattercarpet"
           }
          ],
          "scattergeo": [
           {
            "marker": {
             "colorbar": {
              "outlinewidth": 0,
              "ticks": ""
             }
            },
            "type": "scattergeo"
           }
          ],
          "scattergl": [
           {
            "marker": {
             "colorbar": {
              "outlinewidth": 0,
              "ticks": ""
             }
            },
            "type": "scattergl"
           }
          ],
          "scattermapbox": [
           {
            "marker": {
             "colorbar": {
              "outlinewidth": 0,
              "ticks": ""
             }
            },
            "type": "scattermapbox"
           }
          ],
          "scatterpolar": [
           {
            "marker": {
             "colorbar": {
              "outlinewidth": 0,
              "ticks": ""
             }
            },
            "type": "scatterpolar"
           }
          ],
          "scatterpolargl": [
           {
            "marker": {
             "colorbar": {
              "outlinewidth": 0,
              "ticks": ""
             }
            },
            "type": "scatterpolargl"
           }
          ],
          "scatterternary": [
           {
            "marker": {
             "colorbar": {
              "outlinewidth": 0,
              "ticks": ""
             }
            },
            "type": "scatterternary"
           }
          ],
          "surface": [
           {
            "colorbar": {
             "outlinewidth": 0,
             "ticks": ""
            },
            "colorscale": [
             [
              0,
              "#0d0887"
             ],
             [
              0.1111111111111111,
              "#46039f"
             ],
             [
              0.2222222222222222,
              "#7201a8"
             ],
             [
              0.3333333333333333,
              "#9c179e"
             ],
             [
              0.4444444444444444,
              "#bd3786"
             ],
             [
              0.5555555555555556,
              "#d8576b"
             ],
             [
              0.6666666666666666,
              "#ed7953"
             ],
             [
              0.7777777777777778,
              "#fb9f3a"
             ],
             [
              0.8888888888888888,
              "#fdca26"
             ],
             [
              1,
              "#f0f921"
             ]
            ],
            "type": "surface"
           }
          ],
          "table": [
           {
            "cells": {
             "fill": {
              "color": "#EBF0F8"
             },
             "line": {
              "color": "white"
             }
            },
            "header": {
             "fill": {
              "color": "#C8D4E3"
             },
             "line": {
              "color": "white"
             }
            },
            "type": "table"
           }
          ]
         },
         "layout": {
          "annotationdefaults": {
           "arrowcolor": "#2a3f5f",
           "arrowhead": 0,
           "arrowwidth": 1
          },
          "autotypenumbers": "strict",
          "coloraxis": {
           "colorbar": {
            "outlinewidth": 0,
            "ticks": ""
           }
          },
          "colorscale": {
           "diverging": [
            [
             0,
             "#8e0152"
            ],
            [
             0.1,
             "#c51b7d"
            ],
            [
             0.2,
             "#de77ae"
            ],
            [
             0.3,
             "#f1b6da"
            ],
            [
             0.4,
             "#fde0ef"
            ],
            [
             0.5,
             "#f7f7f7"
            ],
            [
             0.6,
             "#e6f5d0"
            ],
            [
             0.7,
             "#b8e186"
            ],
            [
             0.8,
             "#7fbc41"
            ],
            [
             0.9,
             "#4d9221"
            ],
            [
             1,
             "#276419"
            ]
           ],
           "sequential": [
            [
             0,
             "#0d0887"
            ],
            [
             0.1111111111111111,
             "#46039f"
            ],
            [
             0.2222222222222222,
             "#7201a8"
            ],
            [
             0.3333333333333333,
             "#9c179e"
            ],
            [
             0.4444444444444444,
             "#bd3786"
            ],
            [
             0.5555555555555556,
             "#d8576b"
            ],
            [
             0.6666666666666666,
             "#ed7953"
            ],
            [
             0.7777777777777778,
             "#fb9f3a"
            ],
            [
             0.8888888888888888,
             "#fdca26"
            ],
            [
             1,
             "#f0f921"
            ]
           ],
           "sequentialminus": [
            [
             0,
             "#0d0887"
            ],
            [
             0.1111111111111111,
             "#46039f"
            ],
            [
             0.2222222222222222,
             "#7201a8"
            ],
            [
             0.3333333333333333,
             "#9c179e"
            ],
            [
             0.4444444444444444,
             "#bd3786"
            ],
            [
             0.5555555555555556,
             "#d8576b"
            ],
            [
             0.6666666666666666,
             "#ed7953"
            ],
            [
             0.7777777777777778,
             "#fb9f3a"
            ],
            [
             0.8888888888888888,
             "#fdca26"
            ],
            [
             1,
             "#f0f921"
            ]
           ]
          },
          "colorway": [
           "#636efa",
           "#EF553B",
           "#00cc96",
           "#ab63fa",
           "#FFA15A",
           "#19d3f3",
           "#FF6692",
           "#B6E880",
           "#FF97FF",
           "#FECB52"
          ],
          "font": {
           "color": "#2a3f5f"
          },
          "geo": {
           "bgcolor": "white",
           "lakecolor": "white",
           "landcolor": "#E5ECF6",
           "showlakes": true,
           "showland": true,
           "subunitcolor": "white"
          },
          "hoverlabel": {
           "align": "left"
          },
          "hovermode": "closest",
          "mapbox": {
           "style": "light"
          },
          "paper_bgcolor": "white",
          "plot_bgcolor": "#E5ECF6",
          "polar": {
           "angularaxis": {
            "gridcolor": "white",
            "linecolor": "white",
            "ticks": ""
           },
           "bgcolor": "#E5ECF6",
           "radialaxis": {
            "gridcolor": "white",
            "linecolor": "white",
            "ticks": ""
           }
          },
          "scene": {
           "xaxis": {
            "backgroundcolor": "#E5ECF6",
            "gridcolor": "white",
            "gridwidth": 2,
            "linecolor": "white",
            "showbackground": true,
            "ticks": "",
            "zerolinecolor": "white"
           },
           "yaxis": {
            "backgroundcolor": "#E5ECF6",
            "gridcolor": "white",
            "gridwidth": 2,
            "linecolor": "white",
            "showbackground": true,
            "ticks": "",
            "zerolinecolor": "white"
           },
           "zaxis": {
            "backgroundcolor": "#E5ECF6",
            "gridcolor": "white",
            "gridwidth": 2,
            "linecolor": "white",
            "showbackground": true,
            "ticks": "",
            "zerolinecolor": "white"
           }
          },
          "shapedefaults": {
           "line": {
            "color": "#2a3f5f"
           }
          },
          "ternary": {
           "aaxis": {
            "gridcolor": "white",
            "linecolor": "white",
            "ticks": ""
           },
           "baxis": {
            "gridcolor": "white",
            "linecolor": "white",
            "ticks": ""
           },
           "bgcolor": "#E5ECF6",
           "caxis": {
            "gridcolor": "white",
            "linecolor": "white",
            "ticks": ""
           }
          },
          "title": {
           "x": 0.05
          },
          "xaxis": {
           "automargin": true,
           "gridcolor": "white",
           "linecolor": "white",
           "ticks": "",
           "title": {
            "standoff": 15
           },
           "zerolinecolor": "white",
           "zerolinewidth": 2
          },
          "yaxis": {
           "automargin": true,
           "gridcolor": "white",
           "linecolor": "white",
           "ticks": "",
           "title": {
            "standoff": 15
           },
           "zerolinecolor": "white",
           "zerolinewidth": 2
          }
         }
        },
        "title": {
         "text": "Hyperparameter Importances"
        },
        "xaxis": {
         "title": {
          "text": "Hyperparameter Importance"
         }
        },
        "yaxis": {
         "title": {
          "text": "Hyperparameter"
         }
        }
       }
      }
     },
     "metadata": {},
     "output_type": "display_data"
    },
    {
     "data": {
      "application/vnd.plotly.v1+json": {
       "config": {
        "plotlyServerURL": "https://plot.ly"
       },
       "data": [
        {
         "marker": {
          "color": [
           0,
           1,
           2,
           3,
           4,
           5,
           6,
           7,
           8,
           9,
           10,
           11,
           12,
           13,
           14,
           15,
           16,
           17,
           18,
           19,
           20,
           21,
           22,
           23,
           24,
           25,
           26,
           27,
           28,
           29,
           30,
           31,
           32,
           33,
           34,
           35,
           36,
           37,
           38,
           39,
           40,
           41,
           42,
           43,
           44,
           45,
           46,
           47,
           48,
           49
          ],
          "colorbar": {
           "title": {
            "text": "Trial"
           },
           "x": 1,
           "xpad": 40
          },
          "colorscale": [
           [
            0,
            "rgb(247,251,255)"
           ],
           [
            0.125,
            "rgb(222,235,247)"
           ],
           [
            0.25,
            "rgb(198,219,239)"
           ],
           [
            0.375,
            "rgb(158,202,225)"
           ],
           [
            0.5,
            "rgb(107,174,214)"
           ],
           [
            0.625,
            "rgb(66,146,198)"
           ],
           [
            0.75,
            "rgb(33,113,181)"
           ],
           [
            0.875,
            "rgb(8,81,156)"
           ],
           [
            1,
            "rgb(8,48,107)"
           ]
          ],
          "line": {
           "color": "Grey",
           "width": 0.5
          },
          "showscale": true
         },
         "mode": "markers",
         "name": "Feasible Trial",
         "showlegend": false,
         "type": "scatter",
         "x": [
          0.5001903459871172,
          0.9917924243351735,
          0.7362060869492091,
          0.6704715035156631,
          0.632919922307615,
          0.5874178737107301,
          0.5068836778426125,
          0.8839951047303432,
          0.5074336963373632,
          0.9814376966070582,
          0.8257696123522402,
          0.5010865276579407,
          0.566498265995001,
          0.7029461161450377,
          0.5727779194914605,
          0.821830315105234,
          0.6417276413491501,
          0.5378275423151795,
          0.567680668921065,
          0.6097234828156883,
          0.6255725064175632,
          0.5838931745172615,
          0.5444873799616068,
          0.622819927934837,
          0.6818057638014908,
          0.7531828256664181,
          0.54479642033082,
          0.603109126467272,
          0.5464275473497652,
          0.7322050029057333,
          0.6518986122343293,
          0.5861480239301309,
          0.6042564555277344,
          0.5342892669503979,
          0.6734690653266131,
          0.5748420678684818,
          0.6013661462288122,
          0.5234986611495844,
          0.5182244063678463,
          0.517984422252086,
          0.5098868980895536,
          0.5222333533007302,
          0.5243207754378303,
          0.5527271103337551,
          0.5237902329649554,
          0.5033999882927995,
          0.5659218113820054,
          0.9281697283786465,
          0.5247184310894689,
          0.5591427707331742
         ],
         "xaxis": "x",
         "y": [
          -3162.7913411458335,
          -3368.8380533854165,
          -3432.02392578125,
          -3344.6248372395835,
          -3270.3804524739585,
          -3520.0126953125,
          -3230.2576497395835,
          -3265.4407552083335,
          -3521.05517578125,
          -3271.8055013020835,
          -3261.6067708333335,
          -3377.5233561197915,
          -3359.8211263020835,
          -3389.99609375,
          -3303.03955078125,
          -3350.712158203125,
          -3751.3375651041665,
          -3220.991943359375,
          -3196.406494140625,
          -3185.7190755208335,
          -3203.70068359375,
          -3228.9916178385415,
          -3219.378662109375,
          -3211.786865234375,
          -3334.4794921875,
          -3267.5618489583335,
          -3202.6060384114585,
          -3199.9505208333335,
          -3233.1486002604165,
          -3205.3538411458335,
          -3383.5137532552085,
          -3167.3258463541665,
          -3281.510986328125,
          -3204.1426595052085,
          -3220.5049641927085,
          -3141.7112630208335,
          -3424.205810546875,
          -3118.7006022135415,
          -3122.8831380208335,
          -3139.6028645833335,
          -3165.2281901041665,
          -3153.988525390625,
          -3138.40869140625,
          -3634.5953776041665,
          -3160.775146484375,
          -3168.1395670572915,
          -3193.5437825520835,
          -3228.6897786458335,
          -3211.089111328125,
          -3200.5746256510415
         ],
         "yaxis": "y"
        },
        {
         "marker": {
          "color": [
           0,
           1,
           2,
           3,
           4,
           5,
           6,
           7,
           8,
           9,
           10,
           11,
           12,
           13,
           14,
           15,
           16,
           17,
           18,
           19,
           20,
           21,
           22,
           23,
           24,
           25,
           26,
           27,
           28,
           29,
           30,
           31,
           32,
           33,
           34,
           35,
           36,
           37,
           38,
           39,
           40,
           41,
           42,
           43,
           44,
           45,
           46,
           47,
           48,
           49
          ],
          "colorbar": {
           "title": {
            "text": "Trial"
           },
           "x": 1,
           "xpad": 40
          },
          "colorscale": [
           [
            0,
            "rgb(247,251,255)"
           ],
           [
            0.125,
            "rgb(222,235,247)"
           ],
           [
            0.25,
            "rgb(198,219,239)"
           ],
           [
            0.375,
            "rgb(158,202,225)"
           ],
           [
            0.5,
            "rgb(107,174,214)"
           ],
           [
            0.625,
            "rgb(66,146,198)"
           ],
           [
            0.75,
            "rgb(33,113,181)"
           ],
           [
            0.875,
            "rgb(8,81,156)"
           ],
           [
            1,
            "rgb(8,48,107)"
           ]
          ],
          "line": {
           "color": "Grey",
           "width": 0.5
          },
          "showscale": false
         },
         "mode": "markers",
         "name": "Feasible Trial",
         "showlegend": false,
         "type": "scatter",
         "x": [
          0.15950428057497823,
          0.050258482002987326,
          0.13708107402474898,
          0.16133880047200677,
          0.03302184395133658,
          0.0923172410962489,
          0.08395864006045435,
          0.18945099975997307,
          0.12690667210056658,
          0.18113380178376634,
          0.0009135391068176013,
          0.09467108637827251,
          0.07224880626353157,
          0.1293470109573417,
          0.14361295278041297,
          0.10914046017834621,
          0.06646629587180926,
          0.16152083780312498,
          0.16932220309933962,
          0.19772641560218734,
          0.19121127716686365,
          0.167803945880308,
          0.1736546025660118,
          0.15243869650940434,
          0.1991269835131424,
          0.11335743801729878,
          0.1774109969796935,
          0.1995055644785968,
          0.14825724873193188,
          0.11925438218317995,
          0.1833492386708398,
          0.19908264163989292,
          0.16458591948116905,
          0.15438462102064923,
          0.188224524248803,
          0.17217342372478064,
          0.19798037524773468,
          0.17859904779145075,
          0.13797722131867746,
          0.13489818880210416,
          0.13647271109557557,
          0.13734423615317123,
          0.14050710663623797,
          0.10464776864762987,
          0.12354110870609715,
          0.14149686953692464,
          0.15729275651842772,
          0.1344051098663805,
          0.09688240640580331,
          0.024679179556514927
         ],
         "xaxis": "x2",
         "y": [
          -3162.7913411458335,
          -3368.8380533854165,
          -3432.02392578125,
          -3344.6248372395835,
          -3270.3804524739585,
          -3520.0126953125,
          -3230.2576497395835,
          -3265.4407552083335,
          -3521.05517578125,
          -3271.8055013020835,
          -3261.6067708333335,
          -3377.5233561197915,
          -3359.8211263020835,
          -3389.99609375,
          -3303.03955078125,
          -3350.712158203125,
          -3751.3375651041665,
          -3220.991943359375,
          -3196.406494140625,
          -3185.7190755208335,
          -3203.70068359375,
          -3228.9916178385415,
          -3219.378662109375,
          -3211.786865234375,
          -3334.4794921875,
          -3267.5618489583335,
          -3202.6060384114585,
          -3199.9505208333335,
          -3233.1486002604165,
          -3205.3538411458335,
          -3383.5137532552085,
          -3167.3258463541665,
          -3281.510986328125,
          -3204.1426595052085,
          -3220.5049641927085,
          -3141.7112630208335,
          -3424.205810546875,
          -3118.7006022135415,
          -3122.8831380208335,
          -3139.6028645833335,
          -3165.2281901041665,
          -3153.988525390625,
          -3138.40869140625,
          -3634.5953776041665,
          -3160.775146484375,
          -3168.1395670572915,
          -3193.5437825520835,
          -3228.6897786458335,
          -3211.089111328125,
          -3200.5746256510415
         ],
         "yaxis": "y2"
        },
        {
         "marker": {
          "color": [
           0,
           1,
           2,
           3,
           4,
           5,
           6,
           7,
           8,
           9,
           10,
           11,
           12,
           13,
           14,
           15,
           16,
           17,
           18,
           19,
           20,
           21,
           22,
           23,
           24,
           25,
           26,
           27,
           28,
           29,
           30,
           31,
           32,
           33,
           34,
           35,
           36,
           37,
           38,
           39,
           40,
           41,
           42,
           43,
           44,
           45,
           46,
           47,
           48,
           49
          ],
          "colorbar": {
           "title": {
            "text": "Trial"
           },
           "x": 1,
           "xpad": 40
          },
          "colorscale": [
           [
            0,
            "rgb(247,251,255)"
           ],
           [
            0.125,
            "rgb(222,235,247)"
           ],
           [
            0.25,
            "rgb(198,219,239)"
           ],
           [
            0.375,
            "rgb(158,202,225)"
           ],
           [
            0.5,
            "rgb(107,174,214)"
           ],
           [
            0.625,
            "rgb(66,146,198)"
           ],
           [
            0.75,
            "rgb(33,113,181)"
           ],
           [
            0.875,
            "rgb(8,81,156)"
           ],
           [
            1,
            "rgb(8,48,107)"
           ]
          ],
          "line": {
           "color": "Grey",
           "width": 0.5
          },
          "showscale": false
         },
         "mode": "markers",
         "name": "Feasible Trial",
         "showlegend": false,
         "type": "scatter",
         "x": [
          0.1641733170152142,
          0.15178125229556488,
          0.42391219724854534,
          0.265690187570691,
          0.028752592609356385,
          0.3795040467605126,
          0.01887765935706954,
          0.10762455895584233,
          0.41352773552997424,
          0.08043112986012362,
          0.22708806215964497,
          0.20808419263829792,
          0.01826323043937967,
          0.13857618173924105,
          0.3047205728875082,
          0.17656556325674955,
          0.49732527342995736,
          0.06349399117329421,
          0.09062768738247484,
          0.26626727039895703,
          0.26090742668861305,
          0.31856834300340886,
          0.19033406785822546,
          0.12106773616337452,
          0.3147366533286231,
          0.23472812275507773,
          0.08193443679035439,
          0.1648392550100305,
          0.2816142969893795,
          0.1469906386117053,
          0.37120330910823546,
          0.1863689590113835,
          0.20151346925924155,
          0.12026108279051516,
          0.2337807893313772,
          0.05427916910483564,
          0.3434536736887878,
          0.050933621089207015,
          0.06168478840447832,
          0.05316829440470475,
          0.040909566934035954,
          0.04764134215278892,
          0.04665794491311853,
          0.010559089516967338,
          0.060736025914241036,
          0.037531801199779405,
          0.09959112301640272,
          0.07037240171555721,
          0.10995519780575633,
          0.028839725004554832
         ],
         "xaxis": "x3",
         "y": [
          -3162.7913411458335,
          -3368.8380533854165,
          -3432.02392578125,
          -3344.6248372395835,
          -3270.3804524739585,
          -3520.0126953125,
          -3230.2576497395835,
          -3265.4407552083335,
          -3521.05517578125,
          -3271.8055013020835,
          -3261.6067708333335,
          -3377.5233561197915,
          -3359.8211263020835,
          -3389.99609375,
          -3303.03955078125,
          -3350.712158203125,
          -3751.3375651041665,
          -3220.991943359375,
          -3196.406494140625,
          -3185.7190755208335,
          -3203.70068359375,
          -3228.9916178385415,
          -3219.378662109375,
          -3211.786865234375,
          -3334.4794921875,
          -3267.5618489583335,
          -3202.6060384114585,
          -3199.9505208333335,
          -3233.1486002604165,
          -3205.3538411458335,
          -3383.5137532552085,
          -3167.3258463541665,
          -3281.510986328125,
          -3204.1426595052085,
          -3220.5049641927085,
          -3141.7112630208335,
          -3424.205810546875,
          -3118.7006022135415,
          -3122.8831380208335,
          -3139.6028645833335,
          -3165.2281901041665,
          -3153.988525390625,
          -3138.40869140625,
          -3634.5953776041665,
          -3160.775146484375,
          -3168.1395670572915,
          -3193.5437825520835,
          -3228.6897786458335,
          -3211.089111328125,
          -3200.5746256510415
         ],
         "yaxis": "y3"
        },
        {
         "marker": {
          "color": [
           0,
           1,
           2,
           3,
           4,
           5,
           6,
           7,
           8,
           9,
           10,
           11,
           12,
           13,
           14,
           15,
           16,
           17,
           18,
           19,
           20,
           21,
           22,
           23,
           24,
           25,
           26,
           27,
           28,
           29,
           30,
           31,
           32,
           33,
           34,
           35,
           36,
           37,
           38,
           39,
           40,
           41,
           42,
           43,
           44,
           45,
           46,
           47,
           48,
           49
          ],
          "colorbar": {
           "title": {
            "text": "Trial"
           },
           "x": 1,
           "xpad": 40
          },
          "colorscale": [
           [
            0,
            "rgb(247,251,255)"
           ],
           [
            0.125,
            "rgb(222,235,247)"
           ],
           [
            0.25,
            "rgb(198,219,239)"
           ],
           [
            0.375,
            "rgb(158,202,225)"
           ],
           [
            0.5,
            "rgb(107,174,214)"
           ],
           [
            0.625,
            "rgb(66,146,198)"
           ],
           [
            0.75,
            "rgb(33,113,181)"
           ],
           [
            0.875,
            "rgb(8,81,156)"
           ],
           [
            1,
            "rgb(8,48,107)"
           ]
          ],
          "line": {
           "color": "Grey",
           "width": 0.5
          },
          "showscale": false
         },
         "mode": "markers",
         "name": "Feasible Trial",
         "showlegend": false,
         "type": "scatter",
         "x": [
          4,
          7,
          3,
          4,
          5,
          5,
          7,
          5,
          5,
          3,
          4,
          7,
          6,
          6,
          4,
          6,
          7,
          4,
          4,
          3,
          3,
          3,
          4,
          3,
          4,
          4,
          3,
          4,
          3,
          4,
          3,
          4,
          5,
          4,
          3,
          5,
          5,
          5,
          5,
          5,
          6,
          5,
          5,
          5,
          5,
          6,
          5,
          5,
          6,
          5
         ],
         "xaxis": "x4",
         "y": [
          -3162.7913411458335,
          -3368.8380533854165,
          -3432.02392578125,
          -3344.6248372395835,
          -3270.3804524739585,
          -3520.0126953125,
          -3230.2576497395835,
          -3265.4407552083335,
          -3521.05517578125,
          -3271.8055013020835,
          -3261.6067708333335,
          -3377.5233561197915,
          -3359.8211263020835,
          -3389.99609375,
          -3303.03955078125,
          -3350.712158203125,
          -3751.3375651041665,
          -3220.991943359375,
          -3196.406494140625,
          -3185.7190755208335,
          -3203.70068359375,
          -3228.9916178385415,
          -3219.378662109375,
          -3211.786865234375,
          -3334.4794921875,
          -3267.5618489583335,
          -3202.6060384114585,
          -3199.9505208333335,
          -3233.1486002604165,
          -3205.3538411458335,
          -3383.5137532552085,
          -3167.3258463541665,
          -3281.510986328125,
          -3204.1426595052085,
          -3220.5049641927085,
          -3141.7112630208335,
          -3424.205810546875,
          -3118.7006022135415,
          -3122.8831380208335,
          -3139.6028645833335,
          -3165.2281901041665,
          -3153.988525390625,
          -3138.40869140625,
          -3634.5953776041665,
          -3160.775146484375,
          -3168.1395670572915,
          -3193.5437825520835,
          -3228.6897786458335,
          -3211.089111328125,
          -3200.5746256510415
         ],
         "yaxis": "y4"
        },
        {
         "marker": {
          "color": [
           0,
           1,
           2,
           3,
           4,
           5,
           6,
           7,
           8,
           9,
           10,
           11,
           12,
           13,
           14,
           15,
           16,
           17,
           18,
           19,
           20,
           21,
           22,
           23,
           24,
           25,
           26,
           27,
           28,
           29,
           30,
           31,
           32,
           33,
           34,
           35,
           36,
           37,
           38,
           39,
           40,
           41,
           42,
           43,
           44,
           45,
           46,
           47,
           48,
           49
          ],
          "colorbar": {
           "title": {
            "text": "Trial"
           },
           "x": 1,
           "xpad": 40
          },
          "colorscale": [
           [
            0,
            "rgb(247,251,255)"
           ],
           [
            0.125,
            "rgb(222,235,247)"
           ],
           [
            0.25,
            "rgb(198,219,239)"
           ],
           [
            0.375,
            "rgb(158,202,225)"
           ],
           [
            0.5,
            "rgb(107,174,214)"
           ],
           [
            0.625,
            "rgb(66,146,198)"
           ],
           [
            0.75,
            "rgb(33,113,181)"
           ],
           [
            0.875,
            "rgb(8,81,156)"
           ],
           [
            1,
            "rgb(8,48,107)"
           ]
          ],
          "line": {
           "color": "Grey",
           "width": 0.5
          },
          "showscale": false
         },
         "mode": "markers",
         "name": "Feasible Trial",
         "showlegend": false,
         "type": "scatter",
         "x": [
          3,
          1,
          5,
          2,
          2,
          4,
          4,
          1,
          2,
          4,
          3,
          4,
          3,
          5,
          4,
          3,
          5,
          4,
          3,
          2,
          2,
          3,
          2,
          3,
          3,
          1,
          2,
          3,
          2,
          1,
          3,
          3,
          3,
          2,
          3,
          2,
          1,
          2,
          2,
          1,
          1,
          1,
          1,
          1,
          1,
          2,
          1,
          2,
          2,
          1
         ],
         "xaxis": "x5",
         "y": [
          -3162.7913411458335,
          -3368.8380533854165,
          -3432.02392578125,
          -3344.6248372395835,
          -3270.3804524739585,
          -3520.0126953125,
          -3230.2576497395835,
          -3265.4407552083335,
          -3521.05517578125,
          -3271.8055013020835,
          -3261.6067708333335,
          -3377.5233561197915,
          -3359.8211263020835,
          -3389.99609375,
          -3303.03955078125,
          -3350.712158203125,
          -3751.3375651041665,
          -3220.991943359375,
          -3196.406494140625,
          -3185.7190755208335,
          -3203.70068359375,
          -3228.9916178385415,
          -3219.378662109375,
          -3211.786865234375,
          -3334.4794921875,
          -3267.5618489583335,
          -3202.6060384114585,
          -3199.9505208333335,
          -3233.1486002604165,
          -3205.3538411458335,
          -3383.5137532552085,
          -3167.3258463541665,
          -3281.510986328125,
          -3204.1426595052085,
          -3220.5049641927085,
          -3141.7112630208335,
          -3424.205810546875,
          -3118.7006022135415,
          -3122.8831380208335,
          -3139.6028645833335,
          -3165.2281901041665,
          -3153.988525390625,
          -3138.40869140625,
          -3634.5953776041665,
          -3160.775146484375,
          -3168.1395670572915,
          -3193.5437825520835,
          -3228.6897786458335,
          -3211.089111328125,
          -3200.5746256510415
         ],
         "yaxis": "y5"
        },
        {
         "marker": {
          "color": [
           0,
           1,
           2,
           3,
           4,
           5,
           6,
           7,
           8,
           9,
           10,
           11,
           12,
           13,
           14,
           15,
           16,
           17,
           18,
           19,
           20,
           21,
           22,
           23,
           24,
           25,
           26,
           27,
           28,
           29,
           30,
           31,
           32,
           33,
           34,
           35,
           36,
           37,
           38,
           39,
           40,
           41,
           42,
           43,
           44,
           45,
           46,
           47,
           48,
           49
          ],
          "colorbar": {
           "title": {
            "text": "Trial"
           },
           "x": 1,
           "xpad": 40
          },
          "colorscale": [
           [
            0,
            "rgb(247,251,255)"
           ],
           [
            0.125,
            "rgb(222,235,247)"
           ],
           [
            0.25,
            "rgb(198,219,239)"
           ],
           [
            0.375,
            "rgb(158,202,225)"
           ],
           [
            0.5,
            "rgb(107,174,214)"
           ],
           [
            0.625,
            "rgb(66,146,198)"
           ],
           [
            0.75,
            "rgb(33,113,181)"
           ],
           [
            0.875,
            "rgb(8,81,156)"
           ],
           [
            1,
            "rgb(8,48,107)"
           ]
          ],
          "line": {
           "color": "Grey",
           "width": 0.5
          },
          "showscale": false
         },
         "mode": "markers",
         "name": "Feasible Trial",
         "showlegend": false,
         "type": "scatter",
         "x": [
          2.767789824640966,
          0.23111115691692774,
          2.489679115528034,
          4.144973354445489,
          3.0139736364453245,
          4.327790643794075,
          4.319194027803546,
          1.7804602782057595,
          3.7306140414159943,
          4.5010583121903815,
          1.0416025541499645,
          4.982274512288781,
          3.0087037386707145,
          3.4076274113715366,
          2.129378952206828,
          1.4844593608366676,
          3.7131164539205996,
          4.957968250711724,
          0.05899287011786036,
          0.4836011903906194,
          0.9445649986769805,
          0.12405952462738234,
          0.522783087786272,
          0.9827289505727954,
          1.552038632861544,
          0.5869522985399849,
          2.4562856136420543,
          1.9696422807593317,
          0.5537122249305592,
          0.037746661579750096,
          3.0231284972065575,
          2.026116015039801,
          1.3700762573158425,
          0.4963669112142102,
          2.366857352866043,
          2.823104446765354,
          2.8058983646067652,
          2.814493606788762,
          2.731920033783212,
          3.408188018857992,
          3.3309798162772895,
          2.7683392736744907,
          2.742598397314503,
          3.3406191855405254,
          3.7441364304748164,
          3.0970914358769033,
          2.5987048583369248,
          2.2287279424305964,
          3.9418544972703486,
          2.638934979392886
         ],
         "xaxis": "x6",
         "y": [
          -3162.7913411458335,
          -3368.8380533854165,
          -3432.02392578125,
          -3344.6248372395835,
          -3270.3804524739585,
          -3520.0126953125,
          -3230.2576497395835,
          -3265.4407552083335,
          -3521.05517578125,
          -3271.8055013020835,
          -3261.6067708333335,
          -3377.5233561197915,
          -3359.8211263020835,
          -3389.99609375,
          -3303.03955078125,
          -3350.712158203125,
          -3751.3375651041665,
          -3220.991943359375,
          -3196.406494140625,
          -3185.7190755208335,
          -3203.70068359375,
          -3228.9916178385415,
          -3219.378662109375,
          -3211.786865234375,
          -3334.4794921875,
          -3267.5618489583335,
          -3202.6060384114585,
          -3199.9505208333335,
          -3233.1486002604165,
          -3205.3538411458335,
          -3383.5137532552085,
          -3167.3258463541665,
          -3281.510986328125,
          -3204.1426595052085,
          -3220.5049641927085,
          -3141.7112630208335,
          -3424.205810546875,
          -3118.7006022135415,
          -3122.8831380208335,
          -3139.6028645833335,
          -3165.2281901041665,
          -3153.988525390625,
          -3138.40869140625,
          -3634.5953776041665,
          -3160.775146484375,
          -3168.1395670572915,
          -3193.5437825520835,
          -3228.6897786458335,
          -3211.089111328125,
          -3200.5746256510415
         ],
         "yaxis": "y6"
        },
        {
         "marker": {
          "color": [
           0,
           1,
           2,
           3,
           4,
           5,
           6,
           7,
           8,
           9,
           10,
           11,
           12,
           13,
           14,
           15,
           16,
           17,
           18,
           19,
           20,
           21,
           22,
           23,
           24,
           25,
           26,
           27,
           28,
           29,
           30,
           31,
           32,
           33,
           34,
           35,
           36,
           37,
           38,
           39,
           40,
           41,
           42,
           43,
           44,
           45,
           46,
           47,
           48,
           49
          ],
          "colorbar": {
           "title": {
            "text": "Trial"
           },
           "x": 1,
           "xpad": 40
          },
          "colorscale": [
           [
            0,
            "rgb(247,251,255)"
           ],
           [
            0.125,
            "rgb(222,235,247)"
           ],
           [
            0.25,
            "rgb(198,219,239)"
           ],
           [
            0.375,
            "rgb(158,202,225)"
           ],
           [
            0.5,
            "rgb(107,174,214)"
           ],
           [
            0.625,
            "rgb(66,146,198)"
           ],
           [
            0.75,
            "rgb(33,113,181)"
           ],
           [
            0.875,
            "rgb(8,81,156)"
           ],
           [
            1,
            "rgb(8,48,107)"
           ]
          ],
          "line": {
           "color": "Grey",
           "width": 0.5
          },
          "showscale": false
         },
         "mode": "markers",
         "name": "Feasible Trial",
         "showlegend": false,
         "type": "scatter",
         "x": [
          8.129162242032194,
          2.0125181234384675,
          2.1233179056863065,
          3.9063999949186705,
          8.336475479937352,
          5.539914427905474,
          2.4577201842849408,
          4.01856427883501,
          3.3055935850297096,
          8.046775880725079,
          6.671020134916106,
          6.398529741869817,
          9.999053425477364,
          1.1597707357570677,
          9.80217028801741,
          8.251897448342861,
          4.691801429872557,
          6.887432633162225,
          7.095135377059309,
          9.025056369210269,
          9.184359429957107,
          7.282731249021393,
          8.840854511279815,
          7.603828126201174,
          6.041540266193317,
          9.145754803235887,
          7.804051665963241,
          8.794238617217513,
          7.1212918481316265,
          5.289887258623613,
          9.61973061024477,
          8.699297071780851,
          8.518791773797872,
          7.666852561159716,
          9.337266831653581,
          6.123835171658451,
          5.836376792997449,
          4.8395816535714555,
          4.550908916595087,
          4.62131346940151,
          4.842339064732724,
          3.4848817151425147,
          3.4532539995737297,
          4.270515611372069,
          2.9387955530200216,
          4.899606528403381,
          4.437051597406045,
          3.764118180558043,
          5.287998554183364,
          2.9603331872221825
         ],
         "xaxis": "x7",
         "y": [
          -3162.7913411458335,
          -3368.8380533854165,
          -3432.02392578125,
          -3344.6248372395835,
          -3270.3804524739585,
          -3520.0126953125,
          -3230.2576497395835,
          -3265.4407552083335,
          -3521.05517578125,
          -3271.8055013020835,
          -3261.6067708333335,
          -3377.5233561197915,
          -3359.8211263020835,
          -3389.99609375,
          -3303.03955078125,
          -3350.712158203125,
          -3751.3375651041665,
          -3220.991943359375,
          -3196.406494140625,
          -3185.7190755208335,
          -3203.70068359375,
          -3228.9916178385415,
          -3219.378662109375,
          -3211.786865234375,
          -3334.4794921875,
          -3267.5618489583335,
          -3202.6060384114585,
          -3199.9505208333335,
          -3233.1486002604165,
          -3205.3538411458335,
          -3383.5137532552085,
          -3167.3258463541665,
          -3281.510986328125,
          -3204.1426595052085,
          -3220.5049641927085,
          -3141.7112630208335,
          -3424.205810546875,
          -3118.7006022135415,
          -3122.8831380208335,
          -3139.6028645833335,
          -3165.2281901041665,
          -3153.988525390625,
          -3138.40869140625,
          -3634.5953776041665,
          -3160.775146484375,
          -3168.1395670572915,
          -3193.5437825520835,
          -3228.6897786458335,
          -3211.089111328125,
          -3200.5746256510415
         ],
         "yaxis": "y7"
        },
        {
         "marker": {
          "color": [
           0,
           1,
           2,
           3,
           4,
           5,
           6,
           7,
           8,
           9,
           10,
           11,
           12,
           13,
           14,
           15,
           16,
           17,
           18,
           19,
           20,
           21,
           22,
           23,
           24,
           25,
           26,
           27,
           28,
           29,
           30,
           31,
           32,
           33,
           34,
           35,
           36,
           37,
           38,
           39,
           40,
           41,
           42,
           43,
           44,
           45,
           46,
           47,
           48,
           49
          ],
          "colorbar": {
           "title": {
            "text": "Trial"
           },
           "x": 1,
           "xpad": 40
          },
          "colorscale": [
           [
            0,
            "rgb(247,251,255)"
           ],
           [
            0.125,
            "rgb(222,235,247)"
           ],
           [
            0.25,
            "rgb(198,219,239)"
           ],
           [
            0.375,
            "rgb(158,202,225)"
           ],
           [
            0.5,
            "rgb(107,174,214)"
           ],
           [
            0.625,
            "rgb(66,146,198)"
           ],
           [
            0.75,
            "rgb(33,113,181)"
           ],
           [
            0.875,
            "rgb(8,81,156)"
           ],
           [
            1,
            "rgb(8,48,107)"
           ]
          ],
          "line": {
           "color": "Grey",
           "width": 0.5
          },
          "showscale": false
         },
         "mode": "markers",
         "name": "Feasible Trial",
         "showlegend": false,
         "type": "scatter",
         "x": [
          0.8687525001570833,
          0.5898378683092566,
          0.6148247399767317,
          0.6611070905675426,
          0.721688869095855,
          0.6576538128571611,
          0.9650583569644329,
          0.6082738049159904,
          0.5821082070503734,
          0.972342410237745,
          0.8494117211823278,
          0.9298835740565166,
          0.8525172381777258,
          0.8631896630954577,
          0.7937194720693732,
          0.9996361890269867,
          0.9191757507198699,
          0.5193007623949828,
          0.5102446555382051,
          0.770138637973236,
          0.7677836477495147,
          0.7143519606311484,
          0.7757362268856869,
          0.5134972988786516,
          0.8079082775226714,
          0.8916931874251384,
          0.8212131624598183,
          0.7369161561012435,
          0.6758392394896388,
          0.8909004703392734,
          0.5602887881874641,
          0.7278685694121224,
          0.6958914280325602,
          0.6242819620230452,
          0.7519391438650187,
          0.6486895737288911,
          0.6462109533575047,
          0.687046200984366,
          0.6960007534848832,
          0.6912991523076674,
          0.6868429049917079,
          0.6396914085172828,
          0.6466622773319057,
          0.590380693415102,
          0.7089501071182204,
          0.6665114574999642,
          0.622910390210815,
          0.565145406031194,
          0.6949408506367961,
          0.6593982063331032
         ],
         "xaxis": "x8",
         "y": [
          -3162.7913411458335,
          -3368.8380533854165,
          -3432.02392578125,
          -3344.6248372395835,
          -3270.3804524739585,
          -3520.0126953125,
          -3230.2576497395835,
          -3265.4407552083335,
          -3521.05517578125,
          -3271.8055013020835,
          -3261.6067708333335,
          -3377.5233561197915,
          -3359.8211263020835,
          -3389.99609375,
          -3303.03955078125,
          -3350.712158203125,
          -3751.3375651041665,
          -3220.991943359375,
          -3196.406494140625,
          -3185.7190755208335,
          -3203.70068359375,
          -3228.9916178385415,
          -3219.378662109375,
          -3211.786865234375,
          -3334.4794921875,
          -3267.5618489583335,
          -3202.6060384114585,
          -3199.9505208333335,
          -3233.1486002604165,
          -3205.3538411458335,
          -3383.5137532552085,
          -3167.3258463541665,
          -3281.510986328125,
          -3204.1426595052085,
          -3220.5049641927085,
          -3141.7112630208335,
          -3424.205810546875,
          -3118.7006022135415,
          -3122.8831380208335,
          -3139.6028645833335,
          -3165.2281901041665,
          -3153.988525390625,
          -3138.40869140625,
          -3634.5953776041665,
          -3160.775146484375,
          -3168.1395670572915,
          -3193.5437825520835,
          -3228.6897786458335,
          -3211.089111328125,
          -3200.5746256510415
         ],
         "yaxis": "y8"
        }
       ],
       "layout": {
        "template": {
         "data": {
          "bar": [
           {
            "error_x": {
             "color": "#2a3f5f"
            },
            "error_y": {
             "color": "#2a3f5f"
            },
            "marker": {
             "line": {
              "color": "#E5ECF6",
              "width": 0.5
             },
             "pattern": {
              "fillmode": "overlay",
              "size": 10,
              "solidity": 0.2
             }
            },
            "type": "bar"
           }
          ],
          "barpolar": [
           {
            "marker": {
             "line": {
              "color": "#E5ECF6",
              "width": 0.5
             },
             "pattern": {
              "fillmode": "overlay",
              "size": 10,
              "solidity": 0.2
             }
            },
            "type": "barpolar"
           }
          ],
          "carpet": [
           {
            "aaxis": {
             "endlinecolor": "#2a3f5f",
             "gridcolor": "white",
             "linecolor": "white",
             "minorgridcolor": "white",
             "startlinecolor": "#2a3f5f"
            },
            "baxis": {
             "endlinecolor": "#2a3f5f",
             "gridcolor": "white",
             "linecolor": "white",
             "minorgridcolor": "white",
             "startlinecolor": "#2a3f5f"
            },
            "type": "carpet"
           }
          ],
          "choropleth": [
           {
            "colorbar": {
             "outlinewidth": 0,
             "ticks": ""
            },
            "type": "choropleth"
           }
          ],
          "contour": [
           {
            "colorbar": {
             "outlinewidth": 0,
             "ticks": ""
            },
            "colorscale": [
             [
              0,
              "#0d0887"
             ],
             [
              0.1111111111111111,
              "#46039f"
             ],
             [
              0.2222222222222222,
              "#7201a8"
             ],
             [
              0.3333333333333333,
              "#9c179e"
             ],
             [
              0.4444444444444444,
              "#bd3786"
             ],
             [
              0.5555555555555556,
              "#d8576b"
             ],
             [
              0.6666666666666666,
              "#ed7953"
             ],
             [
              0.7777777777777778,
              "#fb9f3a"
             ],
             [
              0.8888888888888888,
              "#fdca26"
             ],
             [
              1,
              "#f0f921"
             ]
            ],
            "type": "contour"
           }
          ],
          "contourcarpet": [
           {
            "colorbar": {
             "outlinewidth": 0,
             "ticks": ""
            },
            "type": "contourcarpet"
           }
          ],
          "heatmap": [
           {
            "colorbar": {
             "outlinewidth": 0,
             "ticks": ""
            },
            "colorscale": [
             [
              0,
              "#0d0887"
             ],
             [
              0.1111111111111111,
              "#46039f"
             ],
             [
              0.2222222222222222,
              "#7201a8"
             ],
             [
              0.3333333333333333,
              "#9c179e"
             ],
             [
              0.4444444444444444,
              "#bd3786"
             ],
             [
              0.5555555555555556,
              "#d8576b"
             ],
             [
              0.6666666666666666,
              "#ed7953"
             ],
             [
              0.7777777777777778,
              "#fb9f3a"
             ],
             [
              0.8888888888888888,
              "#fdca26"
             ],
             [
              1,
              "#f0f921"
             ]
            ],
            "type": "heatmap"
           }
          ],
          "heatmapgl": [
           {
            "colorbar": {
             "outlinewidth": 0,
             "ticks": ""
            },
            "colorscale": [
             [
              0,
              "#0d0887"
             ],
             [
              0.1111111111111111,
              "#46039f"
             ],
             [
              0.2222222222222222,
              "#7201a8"
             ],
             [
              0.3333333333333333,
              "#9c179e"
             ],
             [
              0.4444444444444444,
              "#bd3786"
             ],
             [
              0.5555555555555556,
              "#d8576b"
             ],
             [
              0.6666666666666666,
              "#ed7953"
             ],
             [
              0.7777777777777778,
              "#fb9f3a"
             ],
             [
              0.8888888888888888,
              "#fdca26"
             ],
             [
              1,
              "#f0f921"
             ]
            ],
            "type": "heatmapgl"
           }
          ],
          "histogram": [
           {
            "marker": {
             "pattern": {
              "fillmode": "overlay",
              "size": 10,
              "solidity": 0.2
             }
            },
            "type": "histogram"
           }
          ],
          "histogram2d": [
           {
            "colorbar": {
             "outlinewidth": 0,
             "ticks": ""
            },
            "colorscale": [
             [
              0,
              "#0d0887"
             ],
             [
              0.1111111111111111,
              "#46039f"
             ],
             [
              0.2222222222222222,
              "#7201a8"
             ],
             [
              0.3333333333333333,
              "#9c179e"
             ],
             [
              0.4444444444444444,
              "#bd3786"
             ],
             [
              0.5555555555555556,
              "#d8576b"
             ],
             [
              0.6666666666666666,
              "#ed7953"
             ],
             [
              0.7777777777777778,
              "#fb9f3a"
             ],
             [
              0.8888888888888888,
              "#fdca26"
             ],
             [
              1,
              "#f0f921"
             ]
            ],
            "type": "histogram2d"
           }
          ],
          "histogram2dcontour": [
           {
            "colorbar": {
             "outlinewidth": 0,
             "ticks": ""
            },
            "colorscale": [
             [
              0,
              "#0d0887"
             ],
             [
              0.1111111111111111,
              "#46039f"
             ],
             [
              0.2222222222222222,
              "#7201a8"
             ],
             [
              0.3333333333333333,
              "#9c179e"
             ],
             [
              0.4444444444444444,
              "#bd3786"
             ],
             [
              0.5555555555555556,
              "#d8576b"
             ],
             [
              0.6666666666666666,
              "#ed7953"
             ],
             [
              0.7777777777777778,
              "#fb9f3a"
             ],
             [
              0.8888888888888888,
              "#fdca26"
             ],
             [
              1,
              "#f0f921"
             ]
            ],
            "type": "histogram2dcontour"
           }
          ],
          "mesh3d": [
           {
            "colorbar": {
             "outlinewidth": 0,
             "ticks": ""
            },
            "type": "mesh3d"
           }
          ],
          "parcoords": [
           {
            "line": {
             "colorbar": {
              "outlinewidth": 0,
              "ticks": ""
             }
            },
            "type": "parcoords"
           }
          ],
          "pie": [
           {
            "automargin": true,
            "type": "pie"
           }
          ],
          "scatter": [
           {
            "fillpattern": {
             "fillmode": "overlay",
             "size": 10,
             "solidity": 0.2
            },
            "type": "scatter"
           }
          ],
          "scatter3d": [
           {
            "line": {
             "colorbar": {
              "outlinewidth": 0,
              "ticks": ""
             }
            },
            "marker": {
             "colorbar": {
              "outlinewidth": 0,
              "ticks": ""
             }
            },
            "type": "scatter3d"
           }
          ],
          "scattercarpet": [
           {
            "marker": {
             "colorbar": {
              "outlinewidth": 0,
              "ticks": ""
             }
            },
            "type": "scattercarpet"
           }
          ],
          "scattergeo": [
           {
            "marker": {
             "colorbar": {
              "outlinewidth": 0,
              "ticks": ""
             }
            },
            "type": "scattergeo"
           }
          ],
          "scattergl": [
           {
            "marker": {
             "colorbar": {
              "outlinewidth": 0,
              "ticks": ""
             }
            },
            "type": "scattergl"
           }
          ],
          "scattermapbox": [
           {
            "marker": {
             "colorbar": {
              "outlinewidth": 0,
              "ticks": ""
             }
            },
            "type": "scattermapbox"
           }
          ],
          "scatterpolar": [
           {
            "marker": {
             "colorbar": {
              "outlinewidth": 0,
              "ticks": ""
             }
            },
            "type": "scatterpolar"
           }
          ],
          "scatterpolargl": [
           {
            "marker": {
             "colorbar": {
              "outlinewidth": 0,
              "ticks": ""
             }
            },
            "type": "scatterpolargl"
           }
          ],
          "scatterternary": [
           {
            "marker": {
             "colorbar": {
              "outlinewidth": 0,
              "ticks": ""
             }
            },
            "type": "scatterternary"
           }
          ],
          "surface": [
           {
            "colorbar": {
             "outlinewidth": 0,
             "ticks": ""
            },
            "colorscale": [
             [
              0,
              "#0d0887"
             ],
             [
              0.1111111111111111,
              "#46039f"
             ],
             [
              0.2222222222222222,
              "#7201a8"
             ],
             [
              0.3333333333333333,
              "#9c179e"
             ],
             [
              0.4444444444444444,
              "#bd3786"
             ],
             [
              0.5555555555555556,
              "#d8576b"
             ],
             [
              0.6666666666666666,
              "#ed7953"
             ],
             [
              0.7777777777777778,
              "#fb9f3a"
             ],
             [
              0.8888888888888888,
              "#fdca26"
             ],
             [
              1,
              "#f0f921"
             ]
            ],
            "type": "surface"
           }
          ],
          "table": [
           {
            "cells": {
             "fill": {
              "color": "#EBF0F8"
             },
             "line": {
              "color": "white"
             }
            },
            "header": {
             "fill": {
              "color": "#C8D4E3"
             },
             "line": {
              "color": "white"
             }
            },
            "type": "table"
           }
          ]
         },
         "layout": {
          "annotationdefaults": {
           "arrowcolor": "#2a3f5f",
           "arrowhead": 0,
           "arrowwidth": 1
          },
          "autotypenumbers": "strict",
          "coloraxis": {
           "colorbar": {
            "outlinewidth": 0,
            "ticks": ""
           }
          },
          "colorscale": {
           "diverging": [
            [
             0,
             "#8e0152"
            ],
            [
             0.1,
             "#c51b7d"
            ],
            [
             0.2,
             "#de77ae"
            ],
            [
             0.3,
             "#f1b6da"
            ],
            [
             0.4,
             "#fde0ef"
            ],
            [
             0.5,
             "#f7f7f7"
            ],
            [
             0.6,
             "#e6f5d0"
            ],
            [
             0.7,
             "#b8e186"
            ],
            [
             0.8,
             "#7fbc41"
            ],
            [
             0.9,
             "#4d9221"
            ],
            [
             1,
             "#276419"
            ]
           ],
           "sequential": [
            [
             0,
             "#0d0887"
            ],
            [
             0.1111111111111111,
             "#46039f"
            ],
            [
             0.2222222222222222,
             "#7201a8"
            ],
            [
             0.3333333333333333,
             "#9c179e"
            ],
            [
             0.4444444444444444,
             "#bd3786"
            ],
            [
             0.5555555555555556,
             "#d8576b"
            ],
            [
             0.6666666666666666,
             "#ed7953"
            ],
            [
             0.7777777777777778,
             "#fb9f3a"
            ],
            [
             0.8888888888888888,
             "#fdca26"
            ],
            [
             1,
             "#f0f921"
            ]
           ],
           "sequentialminus": [
            [
             0,
             "#0d0887"
            ],
            [
             0.1111111111111111,
             "#46039f"
            ],
            [
             0.2222222222222222,
             "#7201a8"
            ],
            [
             0.3333333333333333,
             "#9c179e"
            ],
            [
             0.4444444444444444,
             "#bd3786"
            ],
            [
             0.5555555555555556,
             "#d8576b"
            ],
            [
             0.6666666666666666,
             "#ed7953"
            ],
            [
             0.7777777777777778,
             "#fb9f3a"
            ],
            [
             0.8888888888888888,
             "#fdca26"
            ],
            [
             1,
             "#f0f921"
            ]
           ]
          },
          "colorway": [
           "#636efa",
           "#EF553B",
           "#00cc96",
           "#ab63fa",
           "#FFA15A",
           "#19d3f3",
           "#FF6692",
           "#B6E880",
           "#FF97FF",
           "#FECB52"
          ],
          "font": {
           "color": "#2a3f5f"
          },
          "geo": {
           "bgcolor": "white",
           "lakecolor": "white",
           "landcolor": "#E5ECF6",
           "showlakes": true,
           "showland": true,
           "subunitcolor": "white"
          },
          "hoverlabel": {
           "align": "left"
          },
          "hovermode": "closest",
          "mapbox": {
           "style": "light"
          },
          "paper_bgcolor": "white",
          "plot_bgcolor": "#E5ECF6",
          "polar": {
           "angularaxis": {
            "gridcolor": "white",
            "linecolor": "white",
            "ticks": ""
           },
           "bgcolor": "#E5ECF6",
           "radialaxis": {
            "gridcolor": "white",
            "linecolor": "white",
            "ticks": ""
           }
          },
          "scene": {
           "xaxis": {
            "backgroundcolor": "#E5ECF6",
            "gridcolor": "white",
            "gridwidth": 2,
            "linecolor": "white",
            "showbackground": true,
            "ticks": "",
            "zerolinecolor": "white"
           },
           "yaxis": {
            "backgroundcolor": "#E5ECF6",
            "gridcolor": "white",
            "gridwidth": 2,
            "linecolor": "white",
            "showbackground": true,
            "ticks": "",
            "zerolinecolor": "white"
           },
           "zaxis": {
            "backgroundcolor": "#E5ECF6",
            "gridcolor": "white",
            "gridwidth": 2,
            "linecolor": "white",
            "showbackground": true,
            "ticks": "",
            "zerolinecolor": "white"
           }
          },
          "shapedefaults": {
           "line": {
            "color": "#2a3f5f"
           }
          },
          "ternary": {
           "aaxis": {
            "gridcolor": "white",
            "linecolor": "white",
            "ticks": ""
           },
           "baxis": {
            "gridcolor": "white",
            "linecolor": "white",
            "ticks": ""
           },
           "bgcolor": "#E5ECF6",
           "caxis": {
            "gridcolor": "white",
            "linecolor": "white",
            "ticks": ""
           }
          },
          "title": {
           "x": 0.05
          },
          "xaxis": {
           "automargin": true,
           "gridcolor": "white",
           "linecolor": "white",
           "ticks": "",
           "title": {
            "standoff": 15
           },
           "zerolinecolor": "white",
           "zerolinewidth": 2
          },
          "yaxis": {
           "automargin": true,
           "gridcolor": "white",
           "linecolor": "white",
           "ticks": "",
           "title": {
            "standoff": 15
           },
           "zerolinecolor": "white",
           "zerolinewidth": 2
          }
         }
        },
        "title": {
         "text": "Slice Plot"
        },
        "width": 2400,
        "xaxis": {
         "anchor": "y",
         "domain": [
          0,
          0.103125
         ],
         "title": {
          "text": "colsample_bytree"
         }
        },
        "xaxis2": {
         "anchor": "y2",
         "domain": [
          0.128125,
          0.23124999999999998
         ],
         "title": {
          "text": "gamma"
         }
        },
        "xaxis3": {
         "anchor": "y3",
         "domain": [
          0.25625,
          0.359375
         ],
         "title": {
          "text": "learning_rate"
         }
        },
        "xaxis4": {
         "anchor": "y4",
         "domain": [
          0.38437499999999997,
          0.48749999999999993
         ],
         "title": {
          "text": "max_depth"
         }
        },
        "xaxis5": {
         "anchor": "y5",
         "domain": [
          0.5125,
          0.615625
         ],
         "title": {
          "text": "min_child_weight"
         }
        },
        "xaxis6": {
         "anchor": "y6",
         "domain": [
          0.640625,
          0.74375
         ],
         "title": {
          "text": "reg_alpha"
         }
        },
        "xaxis7": {
         "anchor": "y7",
         "domain": [
          0.7687499999999999,
          0.871875
         ],
         "title": {
          "text": "reg_lambda"
         }
        },
        "xaxis8": {
         "anchor": "y8",
         "domain": [
          0.896875,
          1
         ],
         "title": {
          "text": "subsample"
         }
        },
        "yaxis": {
         "anchor": "x",
         "domain": [
          0,
          1
         ],
         "title": {
          "text": "Objective Value"
         }
        },
        "yaxis2": {
         "anchor": "x2",
         "domain": [
          0,
          1
         ],
         "matches": "y",
         "showticklabels": false
        },
        "yaxis3": {
         "anchor": "x3",
         "domain": [
          0,
          1
         ],
         "matches": "y",
         "showticklabels": false
        },
        "yaxis4": {
         "anchor": "x4",
         "domain": [
          0,
          1
         ],
         "matches": "y",
         "showticklabels": false
        },
        "yaxis5": {
         "anchor": "x5",
         "domain": [
          0,
          1
         ],
         "matches": "y",
         "showticklabels": false
        },
        "yaxis6": {
         "anchor": "x6",
         "domain": [
          0,
          1
         ],
         "matches": "y",
         "showticklabels": false
        },
        "yaxis7": {
         "anchor": "x7",
         "domain": [
          0,
          1
         ],
         "matches": "y",
         "showticklabels": false
        },
        "yaxis8": {
         "anchor": "x8",
         "domain": [
          0,
          1
         ],
         "matches": "y",
         "showticklabels": false
        }
       }
      }
     },
     "metadata": {},
     "output_type": "display_data"
    }
   ],
   "source": [
    "import optuna.visualization as vis\n",
    "\n",
    "fig1 = vis.plot_optimization_history(study)\n",
    "fig1.show()\n",
    "    \n",
    "fig2 = vis.plot_param_importances(study)\n",
    "fig2.show()\n",
    "\n",
    "fig3 = vis.plot_slice(study)\n",
    "fig3.show()\n",
    "    "
   ]
  },
  {
   "cell_type": "markdown",
   "id": "aa0def06",
   "metadata": {},
   "source": [
    "#### After Training: Analyze and Refine\n",
    "\n",
    "Once the tuning is complete, **don't forget to visualize the search results** to understand how different hyperparameters affected performance. This helps you:\n",
    "\n",
    "- Identify which parameters had the most impact.\n",
    "- Spot trends (e.g., performance plateaus or sharp drop-offs).\n",
    "- Detect boundary effects (e.g., best values lie at the edge of the current search space).\n",
    "\n",
    "> 🔹 **Key Tip**: If the best values are near the boundary of your current search space, consider **fine-tuning the search space** and re-running the optimization.\n",
    "\n",
    "You can visualize results using:\n",
    "\n",
    "- `Optuna`'s built-in plots like `plot_optimization_history()` and `plot_param_importances()`.\n",
    "- `BayesSearchCV`'s `cv_results_` attribute to create custom plots using `pandas` or `seaborn`.\n",
    "\n",
    "Effective tuning is often **iterative** — let the data guide you!\n"
   ]
  },
  {
   "cell_type": "markdown",
   "id": "60a0392a",
   "metadata": {},
   "source": [
    "## XGBoost for Imbalanced Classification"
   ]
  },
  {
   "cell_type": "markdown",
   "id": "d3646873",
   "metadata": {},
   "source": [
    "###  Handling Class Imbalance with `scale_pos_weight`\n",
    "\n",
    "In binary classification tasks, when one class is much rarer than the other (e.g., fraud detection, disease diagnosis), XGBoost models can become biased toward the majority class.\n",
    "\n",
    "To address this, XGBoost provides the `scale_pos_weight` parameter:\n",
    "\n",
    "\n",
    "###  What it does\n",
    "\n",
    "`scale_pos_weight` changes the **relative importance** of positive examples during training by multiplying the gradients and Hessians of the **positive class** (label = 1).\n",
    "\n",
    "- A higher value **increases the penalty** for misclassifying positive samples.\n",
    "- This encourages the model to focus more on correctly predicting rare (positive) cases.\n",
    "\n",
    "\n",
    "\n",
    "###  When to use it\n",
    "\n",
    "Use `scale_pos_weight > 1` when:\n",
    "\n",
    "- Your data is **heavily imbalanced**, and\n",
    "- You want to improve **recall** or **F1-score** on the minority (positive) class.\n",
    "\n",
    "\n",
    "\n",
    "###  How to set it\n",
    "\n",
    "A common heuristic:\n",
    "\n",
    "$$\n",
    "\\text{scale\\_pos\\_weight} = \\frac{\\text{number of negative samples}}{\\text{number of positive samples}}\n",
    "$$\n",
    "\n",
    "This helps the model give more attention to the minority (positive) class by scaling its gradient and Hessian contributions during training.\n",
    "\n",
    "Use this as a **starting point**, and then fine-tune through cross-validation for best performance."
   ]
  },
  {
   "cell_type": "code",
   "execution_count": 61,
   "id": "82a64bd9",
   "metadata": {},
   "outputs": [],
   "source": [
    "diabetes_train = pd.read_csv('./Datasets/diabetes_train.csv')\n",
    "diabetes_test = pd.read_csv('./Datasets/diabetes_test.csv')"
   ]
  },
  {
   "cell_type": "code",
   "execution_count": 62,
   "id": "5209b9e8",
   "metadata": {},
   "outputs": [
    {
     "name": "stdout",
     "output_type": "stream",
     "text": [
      "(614, 9) (154, 9)\n"
     ]
    },
    {
     "data": {
      "text/html": [
       "<div>\n",
       "<style scoped>\n",
       "    .dataframe tbody tr th:only-of-type {\n",
       "        vertical-align: middle;\n",
       "    }\n",
       "\n",
       "    .dataframe tbody tr th {\n",
       "        vertical-align: top;\n",
       "    }\n",
       "\n",
       "    .dataframe thead th {\n",
       "        text-align: right;\n",
       "    }\n",
       "</style>\n",
       "<table border=\"1\" class=\"dataframe\">\n",
       "  <thead>\n",
       "    <tr style=\"text-align: right;\">\n",
       "      <th></th>\n",
       "      <th>Pregnancies</th>\n",
       "      <th>Glucose</th>\n",
       "      <th>BloodPressure</th>\n",
       "      <th>SkinThickness</th>\n",
       "      <th>Insulin</th>\n",
       "      <th>BMI</th>\n",
       "      <th>DiabetesPedigreeFunction</th>\n",
       "      <th>Age</th>\n",
       "      <th>Outcome</th>\n",
       "    </tr>\n",
       "  </thead>\n",
       "  <tbody>\n",
       "    <tr>\n",
       "      <th>0</th>\n",
       "      <td>2</td>\n",
       "      <td>88</td>\n",
       "      <td>74</td>\n",
       "      <td>19</td>\n",
       "      <td>53</td>\n",
       "      <td>29.0</td>\n",
       "      <td>0.229</td>\n",
       "      <td>22</td>\n",
       "      <td>0</td>\n",
       "    </tr>\n",
       "    <tr>\n",
       "      <th>1</th>\n",
       "      <td>2</td>\n",
       "      <td>129</td>\n",
       "      <td>84</td>\n",
       "      <td>0</td>\n",
       "      <td>0</td>\n",
       "      <td>28.0</td>\n",
       "      <td>0.284</td>\n",
       "      <td>27</td>\n",
       "      <td>0</td>\n",
       "    </tr>\n",
       "    <tr>\n",
       "      <th>2</th>\n",
       "      <td>0</td>\n",
       "      <td>102</td>\n",
       "      <td>78</td>\n",
       "      <td>40</td>\n",
       "      <td>90</td>\n",
       "      <td>34.5</td>\n",
       "      <td>0.238</td>\n",
       "      <td>24</td>\n",
       "      <td>0</td>\n",
       "    </tr>\n",
       "    <tr>\n",
       "      <th>3</th>\n",
       "      <td>0</td>\n",
       "      <td>123</td>\n",
       "      <td>72</td>\n",
       "      <td>0</td>\n",
       "      <td>0</td>\n",
       "      <td>36.3</td>\n",
       "      <td>0.258</td>\n",
       "      <td>52</td>\n",
       "      <td>1</td>\n",
       "    </tr>\n",
       "    <tr>\n",
       "      <th>4</th>\n",
       "      <td>1</td>\n",
       "      <td>144</td>\n",
       "      <td>82</td>\n",
       "      <td>46</td>\n",
       "      <td>180</td>\n",
       "      <td>46.1</td>\n",
       "      <td>0.335</td>\n",
       "      <td>46</td>\n",
       "      <td>1</td>\n",
       "    </tr>\n",
       "  </tbody>\n",
       "</table>\n",
       "</div>"
      ],
      "text/plain": [
       "   Pregnancies  Glucose  BloodPressure  SkinThickness  Insulin   BMI  \\\n",
       "0            2       88             74             19       53  29.0   \n",
       "1            2      129             84              0        0  28.0   \n",
       "2            0      102             78             40       90  34.5   \n",
       "3            0      123             72              0        0  36.3   \n",
       "4            1      144             82             46      180  46.1   \n",
       "\n",
       "   DiabetesPedigreeFunction  Age  Outcome  \n",
       "0                     0.229   22        0  \n",
       "1                     0.284   27        0  \n",
       "2                     0.238   24        0  \n",
       "3                     0.258   52        1  \n",
       "4                     0.335   46        1  "
      ]
     },
     "execution_count": 62,
     "metadata": {},
     "output_type": "execute_result"
    }
   ],
   "source": [
    "print(diabetes_train.shape, diabetes_test.shape)\n",
    "diabetes_train.head()"
   ]
  },
  {
   "cell_type": "code",
   "execution_count": 63,
   "id": "261f1bc8",
   "metadata": {},
   "outputs": [
    {
     "name": "stdout",
     "output_type": "stream",
     "text": [
      "Outcome\n",
      "0    0.662866\n",
      "1    0.337134\n",
      "Name: proportion, dtype: float64\n",
      "Outcome\n",
      "0    0.603896\n",
      "1    0.396104\n",
      "Name: proportion, dtype: float64\n"
     ]
    }
   ],
   "source": [
    "# check the outcome of the distribution in the training set and test set\n",
    "print(diabetes_train['Outcome'].value_counts(normalize=True))\n",
    "print(diabetes_test['Outcome'].value_counts(normalize=True))"
   ]
  },
  {
   "cell_type": "code",
   "execution_count": null,
   "id": "c3b00dc0",
   "metadata": {},
   "outputs": [
    {
     "data": {
      "text/html": [
       "<style>#sk-container-id-3 {\n",
       "  /* Definition of color scheme common for light and dark mode */\n",
       "  --sklearn-color-text: #000;\n",
       "  --sklearn-color-text-muted: #666;\n",
       "  --sklearn-color-line: gray;\n",
       "  /* Definition of color scheme for unfitted estimators */\n",
       "  --sklearn-color-unfitted-level-0: #fff5e6;\n",
       "  --sklearn-color-unfitted-level-1: #f6e4d2;\n",
       "  --sklearn-color-unfitted-level-2: #ffe0b3;\n",
       "  --sklearn-color-unfitted-level-3: chocolate;\n",
       "  /* Definition of color scheme for fitted estimators */\n",
       "  --sklearn-color-fitted-level-0: #f0f8ff;\n",
       "  --sklearn-color-fitted-level-1: #d4ebff;\n",
       "  --sklearn-color-fitted-level-2: #b3dbfd;\n",
       "  --sklearn-color-fitted-level-3: cornflowerblue;\n",
       "\n",
       "  /* Specific color for light theme */\n",
       "  --sklearn-color-text-on-default-background: var(--sg-text-color, var(--theme-code-foreground, var(--jp-content-font-color1, black)));\n",
       "  --sklearn-color-background: var(--sg-background-color, var(--theme-background, var(--jp-layout-color0, white)));\n",
       "  --sklearn-color-border-box: var(--sg-text-color, var(--theme-code-foreground, var(--jp-content-font-color1, black)));\n",
       "  --sklearn-color-icon: #696969;\n",
       "\n",
       "  @media (prefers-color-scheme: dark) {\n",
       "    /* Redefinition of color scheme for dark theme */\n",
       "    --sklearn-color-text-on-default-background: var(--sg-text-color, var(--theme-code-foreground, var(--jp-content-font-color1, white)));\n",
       "    --sklearn-color-background: var(--sg-background-color, var(--theme-background, var(--jp-layout-color0, #111)));\n",
       "    --sklearn-color-border-box: var(--sg-text-color, var(--theme-code-foreground, var(--jp-content-font-color1, white)));\n",
       "    --sklearn-color-icon: #878787;\n",
       "  }\n",
       "}\n",
       "\n",
       "#sk-container-id-3 {\n",
       "  color: var(--sklearn-color-text);\n",
       "}\n",
       "\n",
       "#sk-container-id-3 pre {\n",
       "  padding: 0;\n",
       "}\n",
       "\n",
       "#sk-container-id-3 input.sk-hidden--visually {\n",
       "  border: 0;\n",
       "  clip: rect(1px 1px 1px 1px);\n",
       "  clip: rect(1px, 1px, 1px, 1px);\n",
       "  height: 1px;\n",
       "  margin: -1px;\n",
       "  overflow: hidden;\n",
       "  padding: 0;\n",
       "  position: absolute;\n",
       "  width: 1px;\n",
       "}\n",
       "\n",
       "#sk-container-id-3 div.sk-dashed-wrapped {\n",
       "  border: 1px dashed var(--sklearn-color-line);\n",
       "  margin: 0 0.4em 0.5em 0.4em;\n",
       "  box-sizing: border-box;\n",
       "  padding-bottom: 0.4em;\n",
       "  background-color: var(--sklearn-color-background);\n",
       "}\n",
       "\n",
       "#sk-container-id-3 div.sk-container {\n",
       "  /* jupyter's `normalize.less` sets `[hidden] { display: none; }`\n",
       "     but bootstrap.min.css set `[hidden] { display: none !important; }`\n",
       "     so we also need the `!important` here to be able to override the\n",
       "     default hidden behavior on the sphinx rendered scikit-learn.org.\n",
       "     See: https://github.com/scikit-learn/scikit-learn/issues/21755 */\n",
       "  display: inline-block !important;\n",
       "  position: relative;\n",
       "}\n",
       "\n",
       "#sk-container-id-3 div.sk-text-repr-fallback {\n",
       "  display: none;\n",
       "}\n",
       "\n",
       "div.sk-parallel-item,\n",
       "div.sk-serial,\n",
       "div.sk-item {\n",
       "  /* draw centered vertical line to link estimators */\n",
       "  background-image: linear-gradient(var(--sklearn-color-text-on-default-background), var(--sklearn-color-text-on-default-background));\n",
       "  background-size: 2px 100%;\n",
       "  background-repeat: no-repeat;\n",
       "  background-position: center center;\n",
       "}\n",
       "\n",
       "/* Parallel-specific style estimator block */\n",
       "\n",
       "#sk-container-id-3 div.sk-parallel-item::after {\n",
       "  content: \"\";\n",
       "  width: 100%;\n",
       "  border-bottom: 2px solid var(--sklearn-color-text-on-default-background);\n",
       "  flex-grow: 1;\n",
       "}\n",
       "\n",
       "#sk-container-id-3 div.sk-parallel {\n",
       "  display: flex;\n",
       "  align-items: stretch;\n",
       "  justify-content: center;\n",
       "  background-color: var(--sklearn-color-background);\n",
       "  position: relative;\n",
       "}\n",
       "\n",
       "#sk-container-id-3 div.sk-parallel-item {\n",
       "  display: flex;\n",
       "  flex-direction: column;\n",
       "}\n",
       "\n",
       "#sk-container-id-3 div.sk-parallel-item:first-child::after {\n",
       "  align-self: flex-end;\n",
       "  width: 50%;\n",
       "}\n",
       "\n",
       "#sk-container-id-3 div.sk-parallel-item:last-child::after {\n",
       "  align-self: flex-start;\n",
       "  width: 50%;\n",
       "}\n",
       "\n",
       "#sk-container-id-3 div.sk-parallel-item:only-child::after {\n",
       "  width: 0;\n",
       "}\n",
       "\n",
       "/* Serial-specific style estimator block */\n",
       "\n",
       "#sk-container-id-3 div.sk-serial {\n",
       "  display: flex;\n",
       "  flex-direction: column;\n",
       "  align-items: center;\n",
       "  background-color: var(--sklearn-color-background);\n",
       "  padding-right: 1em;\n",
       "  padding-left: 1em;\n",
       "}\n",
       "\n",
       "\n",
       "/* Toggleable style: style used for estimator/Pipeline/ColumnTransformer box that is\n",
       "clickable and can be expanded/collapsed.\n",
       "- Pipeline and ColumnTransformer use this feature and define the default style\n",
       "- Estimators will overwrite some part of the style using the `sk-estimator` class\n",
       "*/\n",
       "\n",
       "/* Pipeline and ColumnTransformer style (default) */\n",
       "\n",
       "#sk-container-id-3 div.sk-toggleable {\n",
       "  /* Default theme specific background. It is overwritten whether we have a\n",
       "  specific estimator or a Pipeline/ColumnTransformer */\n",
       "  background-color: var(--sklearn-color-background);\n",
       "}\n",
       "\n",
       "/* Toggleable label */\n",
       "#sk-container-id-3 label.sk-toggleable__label {\n",
       "  cursor: pointer;\n",
       "  display: flex;\n",
       "  width: 100%;\n",
       "  margin-bottom: 0;\n",
       "  padding: 0.5em;\n",
       "  box-sizing: border-box;\n",
       "  text-align: center;\n",
       "  align-items: start;\n",
       "  justify-content: space-between;\n",
       "  gap: 0.5em;\n",
       "}\n",
       "\n",
       "#sk-container-id-3 label.sk-toggleable__label .caption {\n",
       "  font-size: 0.6rem;\n",
       "  font-weight: lighter;\n",
       "  color: var(--sklearn-color-text-muted);\n",
       "}\n",
       "\n",
       "#sk-container-id-3 label.sk-toggleable__label-arrow:before {\n",
       "  /* Arrow on the left of the label */\n",
       "  content: \"▸\";\n",
       "  float: left;\n",
       "  margin-right: 0.25em;\n",
       "  color: var(--sklearn-color-icon);\n",
       "}\n",
       "\n",
       "#sk-container-id-3 label.sk-toggleable__label-arrow:hover:before {\n",
       "  color: var(--sklearn-color-text);\n",
       "}\n",
       "\n",
       "/* Toggleable content - dropdown */\n",
       "\n",
       "#sk-container-id-3 div.sk-toggleable__content {\n",
       "  max-height: 0;\n",
       "  max-width: 0;\n",
       "  overflow: hidden;\n",
       "  text-align: left;\n",
       "  /* unfitted */\n",
       "  background-color: var(--sklearn-color-unfitted-level-0);\n",
       "}\n",
       "\n",
       "#sk-container-id-3 div.sk-toggleable__content.fitted {\n",
       "  /* fitted */\n",
       "  background-color: var(--sklearn-color-fitted-level-0);\n",
       "}\n",
       "\n",
       "#sk-container-id-3 div.sk-toggleable__content pre {\n",
       "  margin: 0.2em;\n",
       "  border-radius: 0.25em;\n",
       "  color: var(--sklearn-color-text);\n",
       "  /* unfitted */\n",
       "  background-color: var(--sklearn-color-unfitted-level-0);\n",
       "}\n",
       "\n",
       "#sk-container-id-3 div.sk-toggleable__content.fitted pre {\n",
       "  /* unfitted */\n",
       "  background-color: var(--sklearn-color-fitted-level-0);\n",
       "}\n",
       "\n",
       "#sk-container-id-3 input.sk-toggleable__control:checked~div.sk-toggleable__content {\n",
       "  /* Expand drop-down */\n",
       "  max-height: 200px;\n",
       "  max-width: 100%;\n",
       "  overflow: auto;\n",
       "}\n",
       "\n",
       "#sk-container-id-3 input.sk-toggleable__control:checked~label.sk-toggleable__label-arrow:before {\n",
       "  content: \"▾\";\n",
       "}\n",
       "\n",
       "/* Pipeline/ColumnTransformer-specific style */\n",
       "\n",
       "#sk-container-id-3 div.sk-label input.sk-toggleable__control:checked~label.sk-toggleable__label {\n",
       "  color: var(--sklearn-color-text);\n",
       "  background-color: var(--sklearn-color-unfitted-level-2);\n",
       "}\n",
       "\n",
       "#sk-container-id-3 div.sk-label.fitted input.sk-toggleable__control:checked~label.sk-toggleable__label {\n",
       "  background-color: var(--sklearn-color-fitted-level-2);\n",
       "}\n",
       "\n",
       "/* Estimator-specific style */\n",
       "\n",
       "/* Colorize estimator box */\n",
       "#sk-container-id-3 div.sk-estimator input.sk-toggleable__control:checked~label.sk-toggleable__label {\n",
       "  /* unfitted */\n",
       "  background-color: var(--sklearn-color-unfitted-level-2);\n",
       "}\n",
       "\n",
       "#sk-container-id-3 div.sk-estimator.fitted input.sk-toggleable__control:checked~label.sk-toggleable__label {\n",
       "  /* fitted */\n",
       "  background-color: var(--sklearn-color-fitted-level-2);\n",
       "}\n",
       "\n",
       "#sk-container-id-3 div.sk-label label.sk-toggleable__label,\n",
       "#sk-container-id-3 div.sk-label label {\n",
       "  /* The background is the default theme color */\n",
       "  color: var(--sklearn-color-text-on-default-background);\n",
       "}\n",
       "\n",
       "/* On hover, darken the color of the background */\n",
       "#sk-container-id-3 div.sk-label:hover label.sk-toggleable__label {\n",
       "  color: var(--sklearn-color-text);\n",
       "  background-color: var(--sklearn-color-unfitted-level-2);\n",
       "}\n",
       "\n",
       "/* Label box, darken color on hover, fitted */\n",
       "#sk-container-id-3 div.sk-label.fitted:hover label.sk-toggleable__label.fitted {\n",
       "  color: var(--sklearn-color-text);\n",
       "  background-color: var(--sklearn-color-fitted-level-2);\n",
       "}\n",
       "\n",
       "/* Estimator label */\n",
       "\n",
       "#sk-container-id-3 div.sk-label label {\n",
       "  font-family: monospace;\n",
       "  font-weight: bold;\n",
       "  display: inline-block;\n",
       "  line-height: 1.2em;\n",
       "}\n",
       "\n",
       "#sk-container-id-3 div.sk-label-container {\n",
       "  text-align: center;\n",
       "}\n",
       "\n",
       "/* Estimator-specific */\n",
       "#sk-container-id-3 div.sk-estimator {\n",
       "  font-family: monospace;\n",
       "  border: 1px dotted var(--sklearn-color-border-box);\n",
       "  border-radius: 0.25em;\n",
       "  box-sizing: border-box;\n",
       "  margin-bottom: 0.5em;\n",
       "  /* unfitted */\n",
       "  background-color: var(--sklearn-color-unfitted-level-0);\n",
       "}\n",
       "\n",
       "#sk-container-id-3 div.sk-estimator.fitted {\n",
       "  /* fitted */\n",
       "  background-color: var(--sklearn-color-fitted-level-0);\n",
       "}\n",
       "\n",
       "/* on hover */\n",
       "#sk-container-id-3 div.sk-estimator:hover {\n",
       "  /* unfitted */\n",
       "  background-color: var(--sklearn-color-unfitted-level-2);\n",
       "}\n",
       "\n",
       "#sk-container-id-3 div.sk-estimator.fitted:hover {\n",
       "  /* fitted */\n",
       "  background-color: var(--sklearn-color-fitted-level-2);\n",
       "}\n",
       "\n",
       "/* Specification for estimator info (e.g. \"i\" and \"?\") */\n",
       "\n",
       "/* Common style for \"i\" and \"?\" */\n",
       "\n",
       ".sk-estimator-doc-link,\n",
       "a:link.sk-estimator-doc-link,\n",
       "a:visited.sk-estimator-doc-link {\n",
       "  float: right;\n",
       "  font-size: smaller;\n",
       "  line-height: 1em;\n",
       "  font-family: monospace;\n",
       "  background-color: var(--sklearn-color-background);\n",
       "  border-radius: 1em;\n",
       "  height: 1em;\n",
       "  width: 1em;\n",
       "  text-decoration: none !important;\n",
       "  margin-left: 0.5em;\n",
       "  text-align: center;\n",
       "  /* unfitted */\n",
       "  border: var(--sklearn-color-unfitted-level-1) 1pt solid;\n",
       "  color: var(--sklearn-color-unfitted-level-1);\n",
       "}\n",
       "\n",
       ".sk-estimator-doc-link.fitted,\n",
       "a:link.sk-estimator-doc-link.fitted,\n",
       "a:visited.sk-estimator-doc-link.fitted {\n",
       "  /* fitted */\n",
       "  border: var(--sklearn-color-fitted-level-1) 1pt solid;\n",
       "  color: var(--sklearn-color-fitted-level-1);\n",
       "}\n",
       "\n",
       "/* On hover */\n",
       "div.sk-estimator:hover .sk-estimator-doc-link:hover,\n",
       ".sk-estimator-doc-link:hover,\n",
       "div.sk-label-container:hover .sk-estimator-doc-link:hover,\n",
       ".sk-estimator-doc-link:hover {\n",
       "  /* unfitted */\n",
       "  background-color: var(--sklearn-color-unfitted-level-3);\n",
       "  color: var(--sklearn-color-background);\n",
       "  text-decoration: none;\n",
       "}\n",
       "\n",
       "div.sk-estimator.fitted:hover .sk-estimator-doc-link.fitted:hover,\n",
       ".sk-estimator-doc-link.fitted:hover,\n",
       "div.sk-label-container:hover .sk-estimator-doc-link.fitted:hover,\n",
       ".sk-estimator-doc-link.fitted:hover {\n",
       "  /* fitted */\n",
       "  background-color: var(--sklearn-color-fitted-level-3);\n",
       "  color: var(--sklearn-color-background);\n",
       "  text-decoration: none;\n",
       "}\n",
       "\n",
       "/* Span, style for the box shown on hovering the info icon */\n",
       ".sk-estimator-doc-link span {\n",
       "  display: none;\n",
       "  z-index: 9999;\n",
       "  position: relative;\n",
       "  font-weight: normal;\n",
       "  right: .2ex;\n",
       "  padding: .5ex;\n",
       "  margin: .5ex;\n",
       "  width: min-content;\n",
       "  min-width: 20ex;\n",
       "  max-width: 50ex;\n",
       "  color: var(--sklearn-color-text);\n",
       "  box-shadow: 2pt 2pt 4pt #999;\n",
       "  /* unfitted */\n",
       "  background: var(--sklearn-color-unfitted-level-0);\n",
       "  border: .5pt solid var(--sklearn-color-unfitted-level-3);\n",
       "}\n",
       "\n",
       ".sk-estimator-doc-link.fitted span {\n",
       "  /* fitted */\n",
       "  background: var(--sklearn-color-fitted-level-0);\n",
       "  border: var(--sklearn-color-fitted-level-3);\n",
       "}\n",
       "\n",
       ".sk-estimator-doc-link:hover span {\n",
       "  display: block;\n",
       "}\n",
       "\n",
       "/* \"?\"-specific style due to the `<a>` HTML tag */\n",
       "\n",
       "#sk-container-id-3 a.estimator_doc_link {\n",
       "  float: right;\n",
       "  font-size: 1rem;\n",
       "  line-height: 1em;\n",
       "  font-family: monospace;\n",
       "  background-color: var(--sklearn-color-background);\n",
       "  border-radius: 1rem;\n",
       "  height: 1rem;\n",
       "  width: 1rem;\n",
       "  text-decoration: none;\n",
       "  /* unfitted */\n",
       "  color: var(--sklearn-color-unfitted-level-1);\n",
       "  border: var(--sklearn-color-unfitted-level-1) 1pt solid;\n",
       "}\n",
       "\n",
       "#sk-container-id-3 a.estimator_doc_link.fitted {\n",
       "  /* fitted */\n",
       "  border: var(--sklearn-color-fitted-level-1) 1pt solid;\n",
       "  color: var(--sklearn-color-fitted-level-1);\n",
       "}\n",
       "\n",
       "/* On hover */\n",
       "#sk-container-id-3 a.estimator_doc_link:hover {\n",
       "  /* unfitted */\n",
       "  background-color: var(--sklearn-color-unfitted-level-3);\n",
       "  color: var(--sklearn-color-background);\n",
       "  text-decoration: none;\n",
       "}\n",
       "\n",
       "#sk-container-id-3 a.estimator_doc_link.fitted:hover {\n",
       "  /* fitted */\n",
       "  background-color: var(--sklearn-color-fitted-level-3);\n",
       "}\n",
       "</style><div id=\"sk-container-id-3\" class=\"sk-top-container\"><div class=\"sk-text-repr-fallback\"><pre>Pipeline(steps=[(&#x27;preprocessor&#x27;,\n",
       "                 ColumnTransformer(transformers=[(&#x27;num&#x27;, &#x27;passthrough&#x27;,\n",
       "                                                  [&#x27;Pregnancies&#x27;, &#x27;Glucose&#x27;,\n",
       "                                                   &#x27;BloodPressure&#x27;,\n",
       "                                                   &#x27;SkinThickness&#x27;, &#x27;Insulin&#x27;,\n",
       "                                                   &#x27;BMI&#x27;,\n",
       "                                                   &#x27;DiabetesPedigreeFunction&#x27;,\n",
       "                                                   &#x27;Age&#x27;]),\n",
       "                                                 (&#x27;cat&#x27;,\n",
       "                                                  OneHotEncoder(handle_unknown=&#x27;ignore&#x27;),\n",
       "                                                  [])])),\n",
       "                (&#x27;regressor&#x27;,\n",
       "                 XGBClassifier(base_score=None, booster=None, callbacks=None,\n",
       "                               colsample_bylevel=None, colsample_...\n",
       "                               feature_types=None, feature_weights=None,\n",
       "                               gamma=None, grow_policy=None,\n",
       "                               importance_type=None,\n",
       "                               interaction_constraints=None, learning_rate=None,\n",
       "                               max_bin=None, max_cat_threshold=None,\n",
       "                               max_cat_to_onehot=None, max_delta_step=None,\n",
       "                               max_depth=None, max_leaves=None,\n",
       "                               min_child_weight=None, missing=nan,\n",
       "                               monotone_constraints=None, multi_strategy=None,\n",
       "                               n_estimators=None, n_jobs=None,\n",
       "                               num_parallel_tree=None, ...))])</pre><b>In a Jupyter environment, please rerun this cell to show the HTML representation or trust the notebook. <br />On GitHub, the HTML representation is unable to render, please try loading this page with nbviewer.org.</b></div><div class=\"sk-container\" hidden><div class=\"sk-item sk-dashed-wrapped\"><div class=\"sk-label-container\"><div class=\"sk-label fitted sk-toggleable\"><input class=\"sk-toggleable__control sk-hidden--visually\" id=\"sk-estimator-id-9\" type=\"checkbox\" ><label for=\"sk-estimator-id-9\" class=\"sk-toggleable__label fitted sk-toggleable__label-arrow\"><div><div>Pipeline</div></div><div><a class=\"sk-estimator-doc-link fitted\" rel=\"noreferrer\" target=\"_blank\" href=\"https://scikit-learn.org/1.6/modules/generated/sklearn.pipeline.Pipeline.html\">?<span>Documentation for Pipeline</span></a><span class=\"sk-estimator-doc-link fitted\">i<span>Fitted</span></span></div></label><div class=\"sk-toggleable__content fitted\"><pre>Pipeline(steps=[(&#x27;preprocessor&#x27;,\n",
       "                 ColumnTransformer(transformers=[(&#x27;num&#x27;, &#x27;passthrough&#x27;,\n",
       "                                                  [&#x27;Pregnancies&#x27;, &#x27;Glucose&#x27;,\n",
       "                                                   &#x27;BloodPressure&#x27;,\n",
       "                                                   &#x27;SkinThickness&#x27;, &#x27;Insulin&#x27;,\n",
       "                                                   &#x27;BMI&#x27;,\n",
       "                                                   &#x27;DiabetesPedigreeFunction&#x27;,\n",
       "                                                   &#x27;Age&#x27;]),\n",
       "                                                 (&#x27;cat&#x27;,\n",
       "                                                  OneHotEncoder(handle_unknown=&#x27;ignore&#x27;),\n",
       "                                                  [])])),\n",
       "                (&#x27;regressor&#x27;,\n",
       "                 XGBClassifier(base_score=None, booster=None, callbacks=None,\n",
       "                               colsample_bylevel=None, colsample_...\n",
       "                               feature_types=None, feature_weights=None,\n",
       "                               gamma=None, grow_policy=None,\n",
       "                               importance_type=None,\n",
       "                               interaction_constraints=None, learning_rate=None,\n",
       "                               max_bin=None, max_cat_threshold=None,\n",
       "                               max_cat_to_onehot=None, max_delta_step=None,\n",
       "                               max_depth=None, max_leaves=None,\n",
       "                               min_child_weight=None, missing=nan,\n",
       "                               monotone_constraints=None, multi_strategy=None,\n",
       "                               n_estimators=None, n_jobs=None,\n",
       "                               num_parallel_tree=None, ...))])</pre></div> </div></div><div class=\"sk-serial\"><div class=\"sk-item sk-dashed-wrapped\"><div class=\"sk-label-container\"><div class=\"sk-label fitted sk-toggleable\"><input class=\"sk-toggleable__control sk-hidden--visually\" id=\"sk-estimator-id-10\" type=\"checkbox\" ><label for=\"sk-estimator-id-10\" class=\"sk-toggleable__label fitted sk-toggleable__label-arrow\"><div><div>preprocessor: ColumnTransformer</div></div><div><a class=\"sk-estimator-doc-link fitted\" rel=\"noreferrer\" target=\"_blank\" href=\"https://scikit-learn.org/1.6/modules/generated/sklearn.compose.ColumnTransformer.html\">?<span>Documentation for preprocessor: ColumnTransformer</span></a></div></label><div class=\"sk-toggleable__content fitted\"><pre>ColumnTransformer(transformers=[(&#x27;num&#x27;, &#x27;passthrough&#x27;,\n",
       "                                 [&#x27;Pregnancies&#x27;, &#x27;Glucose&#x27;, &#x27;BloodPressure&#x27;,\n",
       "                                  &#x27;SkinThickness&#x27;, &#x27;Insulin&#x27;, &#x27;BMI&#x27;,\n",
       "                                  &#x27;DiabetesPedigreeFunction&#x27;, &#x27;Age&#x27;]),\n",
       "                                (&#x27;cat&#x27;, OneHotEncoder(handle_unknown=&#x27;ignore&#x27;),\n",
       "                                 [])])</pre></div> </div></div><div class=\"sk-parallel\"><div class=\"sk-parallel-item\"><div class=\"sk-item\"><div class=\"sk-label-container\"><div class=\"sk-label fitted sk-toggleable\"><input class=\"sk-toggleable__control sk-hidden--visually\" id=\"sk-estimator-id-11\" type=\"checkbox\" ><label for=\"sk-estimator-id-11\" class=\"sk-toggleable__label fitted sk-toggleable__label-arrow\"><div><div>num</div></div></label><div class=\"sk-toggleable__content fitted\"><pre>[&#x27;Pregnancies&#x27;, &#x27;Glucose&#x27;, &#x27;BloodPressure&#x27;, &#x27;SkinThickness&#x27;, &#x27;Insulin&#x27;, &#x27;BMI&#x27;, &#x27;DiabetesPedigreeFunction&#x27;, &#x27;Age&#x27;]</pre></div> </div></div><div class=\"sk-serial\"><div class=\"sk-item\"><div class=\"sk-estimator fitted sk-toggleable\"><input class=\"sk-toggleable__control sk-hidden--visually\" id=\"sk-estimator-id-12\" type=\"checkbox\" ><label for=\"sk-estimator-id-12\" class=\"sk-toggleable__label fitted sk-toggleable__label-arrow\"><div><div>passthrough</div></div></label><div class=\"sk-toggleable__content fitted\"><pre>passthrough</pre></div> </div></div></div></div></div><div class=\"sk-parallel-item\"><div class=\"sk-item\"><div class=\"sk-label-container\"><div class=\"sk-label fitted sk-toggleable\"><input class=\"sk-toggleable__control sk-hidden--visually\" id=\"sk-estimator-id-13\" type=\"checkbox\" ><label for=\"sk-estimator-id-13\" class=\"sk-toggleable__label fitted sk-toggleable__label-arrow\"><div><div>cat</div></div></label><div class=\"sk-toggleable__content fitted\"><pre>[]</pre></div> </div></div><div class=\"sk-serial\"><div class=\"sk-item\"><div class=\"sk-estimator fitted sk-toggleable\"><input class=\"sk-toggleable__control sk-hidden--visually\" id=\"sk-estimator-id-14\" type=\"checkbox\" ><label for=\"sk-estimator-id-14\" class=\"sk-toggleable__label fitted sk-toggleable__label-arrow\"><div><div>OneHotEncoder</div></div><div><a class=\"sk-estimator-doc-link fitted\" rel=\"noreferrer\" target=\"_blank\" href=\"https://scikit-learn.org/1.6/modules/generated/sklearn.preprocessing.OneHotEncoder.html\">?<span>Documentation for OneHotEncoder</span></a></div></label><div class=\"sk-toggleable__content fitted\"><pre>OneHotEncoder(handle_unknown=&#x27;ignore&#x27;)</pre></div> </div></div></div></div></div></div></div><div class=\"sk-item\"><div class=\"sk-estimator fitted sk-toggleable\"><input class=\"sk-toggleable__control sk-hidden--visually\" id=\"sk-estimator-id-15\" type=\"checkbox\" ><label for=\"sk-estimator-id-15\" class=\"sk-toggleable__label fitted sk-toggleable__label-arrow\"><div><div>XGBClassifier</div></div><div><a class=\"sk-estimator-doc-link fitted\" rel=\"noreferrer\" target=\"_blank\" href=\"https://xgboost.readthedocs.io/en/release_3.0.0/python/python_api.html#xgboost.XGBClassifier\">?<span>Documentation for XGBClassifier</span></a></div></label><div class=\"sk-toggleable__content fitted\"><pre>XGBClassifier(base_score=None, booster=None, callbacks=None,\n",
       "              colsample_bylevel=None, colsample_bynode=None,\n",
       "              colsample_bytree=None, device=None, early_stopping_rounds=None,\n",
       "              enable_categorical=False, eval_metric=None, feature_types=None,\n",
       "              feature_weights=None, gamma=None, grow_policy=None,\n",
       "              importance_type=None, interaction_constraints=None,\n",
       "              learning_rate=None, max_bin=None, max_cat_threshold=None,\n",
       "              max_cat_to_onehot=None, max_delta_step=None, max_depth=None,\n",
       "              max_leaves=None, min_child_weight=None, missing=nan,\n",
       "              monotone_constraints=None, multi_strategy=None, n_estimators=None,\n",
       "              n_jobs=None, num_parallel_tree=None, ...)</pre></div> </div></div></div></div></div></div>"
      ],
      "text/plain": [
       "Pipeline(steps=[('preprocessor',\n",
       "                 ColumnTransformer(transformers=[('num', 'passthrough',\n",
       "                                                  ['Pregnancies', 'Glucose',\n",
       "                                                   'BloodPressure',\n",
       "                                                   'SkinThickness', 'Insulin',\n",
       "                                                   'BMI',\n",
       "                                                   'DiabetesPedigreeFunction',\n",
       "                                                   'Age']),\n",
       "                                                 ('cat',\n",
       "                                                  OneHotEncoder(handle_unknown='ignore'),\n",
       "                                                  [])])),\n",
       "                ('regressor',\n",
       "                 XGBClassifier(base_score=None, booster=None, callbacks=None,\n",
       "                               colsample_bylevel=None, colsample_...\n",
       "                               feature_types=None, feature_weights=None,\n",
       "                               gamma=None, grow_policy=None,\n",
       "                               importance_type=None,\n",
       "                               interaction_constraints=None, learning_rate=None,\n",
       "                               max_bin=None, max_cat_threshold=None,\n",
       "                               max_cat_to_onehot=None, max_delta_step=None,\n",
       "                               max_depth=None, max_leaves=None,\n",
       "                               min_child_weight=None, missing=nan,\n",
       "                               monotone_constraints=None, multi_strategy=None,\n",
       "                               n_estimators=None, n_jobs=None,\n",
       "                               num_parallel_tree=None, ...))])"
      ]
     },
     "execution_count": 67,
     "metadata": {},
     "output_type": "execute_result"
    }
   ],
   "source": [
    "# Data Preprocessing\n",
    "X_diabetes = diabetes_train.drop(columns=['Outcome'])\n",
    "y_diabetes = diabetes_train['Outcome']\n",
    "X_diabetes_test = diabetes_test.drop(columns=['Outcome'])\n",
    "y_diabetes_test = diabetes_test['Outcome']\n",
    "\n",
    "# define categorical and numerical columns\n",
    "categorical_cols_diabetes = X_diabetes.select_dtypes(include=['object']).columns.tolist()\n",
    "numerical_cols_diabetes = X_diabetes.select_dtypes(exclude=['object']).columns.tolist()\n",
    "\n",
    "# define the preprocessor, passing the numerical and categorical columns\n",
    "preprocessor_diabetes = ColumnTransformer(\n",
    "    transformers=[\n",
    "        ('num', 'passthrough', numerical_cols_diabetes),  # no scaling\n",
    "        ('cat', OneHotEncoder(handle_unknown='ignore'), categorical_cols_diabetes)\n",
    "    ]\n",
    ")\n",
    "\n",
    "# Create a pipeline for the diabetes dataset\n",
    "diabetes_pipeline = Pipeline([\n",
    "    ('preprocessor', preprocessor_diabetes),\n",
    "    ('regressor', XGBClassifier(random_state=42))\n",
    "])\n",
    "\n",
    "# Train the pipeline on the diabetes dataset\n",
    "diabetes_pipeline.fit(X_diabetes, y_diabetes)"
   ]
  },
  {
   "cell_type": "code",
   "execution_count": 69,
   "id": "3677a990",
   "metadata": {},
   "outputs": [
    {
     "name": "stdout",
     "output_type": "stream",
     "text": [
      "\n",
      "===== Test Performance with Default Setting =====\n",
      "Accuracy on Diabetes Test Set: 0.73\n",
      "Precision on Diabetes Test Set: 0.68\n",
      "Recall on Diabetes Test Set: 0.59\n",
      "F1 Score on Diabetes Test Set: 0.63\n"
     ]
    }
   ],
   "source": [
    "# make predictions on the test set\n",
    "\n",
    "print(\"\\n===== Test Performance with Default Setting =====\")\n",
    "y_diabetes_pred = diabetes_pipeline.predict(X_diabetes_test)\n",
    "# evaluate the model in terms of accuracy, precision, recall, and f1-score\n",
    "accuracy = np.mean(y_diabetes_pred == y_diabetes_test)\n",
    "print(f\"Accuracy on Diabetes Test Set: {accuracy:.2f}\")\n",
    "precision = precision_score(y_diabetes_test, y_diabetes_pred)\n",
    "print(f\"Precision on Diabetes Test Set: {precision:.2f}\")\n",
    "recall = recall_score(y_diabetes_test, y_diabetes_pred)\n",
    "print(f\"Recall on Diabetes Test Set: {recall:.2f}\")\n",
    "f1 = f1_score(y_diabetes_test, y_diabetes_pred)\n",
    "print(f\"F1 Score on Diabetes Test Set: {f1:.2f}\")"
   ]
  },
  {
   "cell_type": "markdown",
   "id": "7bcf8a05",
   "metadata": {},
   "source": [
    "### Using `scale_pos_weight `"
   ]
  },
  {
   "cell_type": "code",
   "execution_count": null,
   "id": "9292c568",
   "metadata": {},
   "outputs": [
    {
     "name": "stdout",
     "output_type": "stream",
     "text": [
      "\n",
      "Scale Pos Weight Test 1:\n",
      "scale_pos_weight = 1\n",
      "\n",
      "Scale Pos Weight Test 2:\n",
      "scale_pos_weight = 2\n",
      "\n",
      "Scale Pos Weight Test 3:\n",
      "scale_pos_weight = 3\n",
      "\n",
      "Scale Pos Weight Test 4:\n",
      "scale_pos_weight = 5\n",
      "\n",
      "Scale Pos Weight Test 5:\n",
      "scale_pos_weight = 10\n",
      "\n",
      "Best Scale Pos Weight:\n",
      "3\n",
      "Best F1 Score: 0.69\n",
      "Best Accuracy: 0.76\n",
      "Best Precision: 0.71\n",
      "Best Recall: 0.67\n"
     ]
    }
   ],
   "source": [
    "neg = (diabetes_train['Outcome'] == 0).sum()\n",
    "pos = (diabetes_train['Outcome'] == 1).sum()\n",
    "baseline_ratio = neg / pos\n",
    "\n",
    "# set a small grid for scale_pos_weight\n",
    "scale_pos_weight = [1, 2, 3, 5, 10]\n",
    "\n",
    "# Create a new pipeline for the diabetes dataset\n",
    "diabetes_pipeline_scale = Pipeline([\n",
    "    ('preprocessor', preprocessor_diabetes),\n",
    "    ('regressor', XGBClassifier(random_state=42))\n",
    "])\n",
    "\n",
    "# Store results for comparison\n",
    "diabetes_results = []\n",
    "for i, weight in enumerate(scale_pos_weight):\n",
    "    print(f\"\\nScale Pos Weight Test {i+1}:\")\n",
    "    print(f\"scale_pos_weight = {weight}\")\n",
    "    \n",
    "    # Update the pipeline with the scale_pos_weight parameter\n",
    "    diabetes_pipeline_scale.set_params(regressor__scale_pos_weight=weight)\n",
    "    \n",
    "    # Train and evaluate\n",
    "    diabetes_pipeline_scale.fit(X_diabetes, y_diabetes)\n",
    "    y_diabetes_pred = diabetes_pipeline_scale.predict(X_diabetes_test)\n",
    "    \n",
    "    # Evaluate the model\n",
    "    accuracy = np.mean(y_diabetes_pred == y_diabetes_test)\n",
    "    precision = precision_score(y_diabetes_test, y_diabetes_pred)\n",
    "    recall = recall_score(y_diabetes_test, y_diabetes_pred)\n",
    "    f1 = f1_score(y_diabetes_test, y_diabetes_pred)\n",
    "    \n",
    "    # Store results\n",
    "    diabetes_results.append({\n",
    "        'test': i+1,\n",
    "        'scale_pos_weight': weight,\n",
    "        'accuracy': accuracy,\n",
    "        'precision': precision,\n",
    "        'recall': recall,\n",
    "        'f1': f1\n",
    "    })\n",
    "# Create a DataFrame for the results\n",
    "diabetes_results_df = pd.DataFrame(diabetes_results)   \n",
    "\n",
    "# Find the best scale_pos_weight based on F1 score\n",
    "best_f1_idx = diabetes_results_df['f1'].idxmax()\n",
    "best_scale_pos_weight = diabetes_results_df.loc[best_f1_idx, 'scale_pos_weight']\n",
    "print(\"\\n===== Test Performance with Best Scale Pos Weight: =====\")\n",
    "print(best_scale_pos_weight)\n",
    "print(\"Best F1 Score: {:.2f}\".format(diabetes_results_df['f1'].max()))\n",
    "# find the accuracy, precision, and recall for the best scale_pos_weight\n",
    "best_accuracy = diabetes_results_df.loc[best_f1_idx, 'accuracy']\n",
    "best_precision = diabetes_results_df.loc[best_f1_idx, 'precision']\n",
    "best_recall = diabetes_results_df.loc[best_f1_idx, 'recall']\n",
    "print(f\"Best Accuracy: {best_accuracy:.2f}\")\n",
    "print(f\"Best Precision: {best_precision:.2f}\")\n",
    "print(f\"Best Recall: {best_recall:.2f}\")"
   ]
  },
  {
   "cell_type": "code",
   "execution_count": 75,
   "id": "828d54fd",
   "metadata": {},
   "outputs": [
    {
     "data": {
      "image/png": "[encoded data removed]",
      "text/plain": [
       "<Figure size 1000x600 with 1 Axes>"
      ]
     },
     "metadata": {},
     "output_type": "display_data"
    }
   ],
   "source": [
    "# Plot the results for accuracy, precision, and recall with different colors\n",
    "plt.figure(figsize=(10, 6))\n",
    "plt.plot(diabetes_results_df['scale_pos_weight'], diabetes_results_df['accuracy'], marker='o', color='blue', label='Accuracy')\n",
    "plt.plot(diabetes_results_df['scale_pos_weight'], diabetes_results_df['precision'], marker='o', color='orange', label='Precision')\n",
    "plt.plot(diabetes_results_df['scale_pos_weight'], diabetes_results_df['recall'], marker='o', color='green', label='Recall')\n",
    "plt.xlabel('Scale Pos Weight', fontsize=12)\n",
    "plt.ylabel('Score', fontsize=12)\n",
    "plt.title('Effect of Scale Pos Weight on Accuracy, Precision, and Recall', fontsize=14)\n",
    "plt.grid(True)\n",
    "plt.xticks(scale_pos_weight)\n",
    "plt.legend()\n",
    "plt.tight_layout()\n",
    "plt.show()"
   ]
  },
  {
   "cell_type": "markdown",
   "id": "6739a472",
   "metadata": {},
   "source": [
    "Tuning `scale_pos_weight` changes the **model's internal learning dynamics**, not just the decision threshold. This allows the model to adjust how it learns from imbalanced data.\n",
    "\n",
    "\n",
    "In this case, as `scale_pos_weight` increases from 1 to 3:\n",
    "\n",
    "- XGBoost starts giving **more importance to the minority (positive) class**.\n",
    "- The model becomes better at identifying **true positives** → ✅ **Recall increases**\n",
    "- Simultaneously, it avoids more **false positives** → ✅ **Precision increases**\n",
    "\n",
    "\n",
    "✅ This indicates the model was previously **underperforming on the positive class**, and that moderate rebalancing (e.g., `scale_pos_weight = 3`) helped improve **both recall and precision** — something that can happen when the model is initially biased toward the majority class.\n",
    "\n"
   ]
  },
  {
   "cell_type": "markdown",
   "id": "25e7deb2",
   "metadata": {},
   "source": [
    "### Threshold adjustment"
   ]
  },
  {
   "cell_type": "code",
   "execution_count": null,
   "id": "50d25e90",
   "metadata": {},
   "outputs": [
    {
     "name": "stdout",
     "output_type": "stream",
     "text": [
      "Best Threshold for F1 Score: 0.19\n",
      "Accuracy with Adjusted Threshold: 0.78\n",
      "Precision with Adjusted Threshold: 0.68\n",
      "Recall with Adjusted Threshold: 0.82\n"
     ]
    },
    {
     "data": {
      "image/png": "[encoded data removed]",
      "text/plain": [
       "<Figure size 1000x600 with 1 Axes>"
      ]
     },
     "metadata": {},
     "output_type": "display_data"
    }
   ],
   "source": [
    "# get prediction probabilities\n",
    "y_diabetes_pred_proba = diabetes_pipeline.predict_proba(X_diabetes_test)[:, 1]\n",
    "\n",
    "# plot the precision-recall curve\n",
    "precision, recall, thresholds = precision_recall_curve(y_diabetes_test, y_diabetes_pred_proba)\n",
    "\n",
    "# final threshold\n",
    "f1_scores = 2 * (precision * recall) / (precision + recall + 1e-9) # avoid division by zero\n",
    "best_f1_threshold = thresholds[np.argmax(f1_scores)]\n",
    "best_threshold = np.round(best_f1_threshold, 2)\n",
    "print(f\"Best Threshold for F1 Score: {best_threshold:.2f}\")\n",
    "\n",
    "# adjust the threshold for the predictions\n",
    "y_diabetes_pred_adjusted = (y_diabetes_pred_proba >= best_f1_threshold).astype(int)\n",
    "# evaluate the model with the adjusted threshold\n",
    "accuracy_adjusted = np.mean(y_diabetes_pred_adjusted == y_diabetes_test)\n",
    "print(f\"Accuracy with Adjusted Threshold: {accuracy_adjusted:.2f}\")\n",
    "precision_adjusted = precision_score(y_diabetes_test, y_diabetes_pred_adjusted)\n",
    "print(f\"Precision with Adjusted Threshold: {precision_adjusted:.2f}\")\n",
    "recall_adjusted = recall_score(y_diabetes_test, y_diabetes_pred_adjusted)\n",
    "print(f\"Recall with Adjusted Threshold: {recall_adjusted:.2f}\")\n",
    "# plot the precision-recall curve\n",
    "plt.figure(figsize=(10, 6))\n",
    "plt.plot(recall, precision, marker='o')\n",
    "plt.xlabel('Recall', fontsize=12)\n",
    "plt.ylabel('Precision', fontsize=12)\n",
    "plt.title('Precision-Recall Curve', fontsize=14)\n",
    "plt.grid(True)\n",
    "plt.axvline(x=recall[np.argmax(f1_scores)], color='red', linestyle='--', label='Best Threshold')\n",
    "plt.legend()\n",
    "plt.tight_layout()\n",
    "plt.show()"
   ]
  },
  {
   "cell_type": "markdown",
   "id": "3d0192ba",
   "metadata": {},
   "source": [
    "## Resources for Learning XGBoost\n",
    "\n",
    "The foundational paper is:\n",
    "\n",
    "**XGBoost: A Scalable Tree Boosting System**  \n",
    "*Authors*: Tianqi Chen and Carlos Guestrin  \n",
    "*Conference*: KDD 2016  \n",
    "[Link to paper (PDF)](https://arxiv.org/abs/1603.02754)  \n",
    "[DOI: 10.1145/2939672.2939785](https://doi.org/10.1145/2939672.2939785)\n",
    "\n",
    "XGBoost is a relatively recent algorithm (2016), and thus not yet included in many standard textbooks. Below are helpful learning resources:\n",
    "\n",
    "-  [Documentation](https://xgboost.readthedocs.io/en/stable/python/python_api.html)\n",
    "-  [Slides by Tianqi Chen](https://files.speakerdeck.com/presentations/5c6dab45648344208185d2b1ab4fdc95/XGBoost-Newest.pdf)\n",
    "-  [Reference Paper](https://dl.acm.org/doi/pdf/10.1145/2939672.2939785)\n",
    "-  [Video by Tianqi Chen (author)](https://www.youtube.com/watch?v=Vly8xGnNiWs)\n",
    "-  [StatQuest Video Explanation](https://www.youtube.com/watch?v=OtD8wVaFm6E)"
   ]
  }
 ],
 "metadata": {
  "kernelspec": {
   "display_name": "base",
   "language": "python",
   "name": "python3"
  },
  "language_info": {
   "codemirror_mode": {
    "name": "ipython",
    "version": 3
   },
   "file_extension": ".py",
   "mimetype": "text/x-python",
   "name": "python",
   "nbconvert_exporter": "python",
   "pygments_lexer": "ipython3",
   "version": "3.12.4"
  }
 },
 "nbformat": 4,
 "nbformat_minor": 5
}
