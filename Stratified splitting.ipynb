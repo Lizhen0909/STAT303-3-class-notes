{
 "cells": [
  {
   "cell_type": "markdown",
   "id": "09add5be",
   "metadata": {},
   "source": [
    "# Stratified splitting (classification problem)"
   ]
  },
  {
   "cell_type": "markdown",
   "id": "a73a57f8",
   "metadata": {},
   "source": [
    "## Stratified splitting with respect to response\n",
    "**Q: When splitting data into train and test for developing and assessing a classification model, it is recommended to stratify the split with respect to the response. Why?**"
   ]
  },
  {
   "cell_type": "markdown",
   "id": "417990e6",
   "metadata": {},
   "source": [
    "**A:** The main advantage of stratified splitting is that it can help ensure that the training and testing sets have similar distributions of the target variable, which can lead to more accurate and reliable model performance estimates.\n",
    "\n",
    "In many real-world datasets, the target variable may be imbalanced, meaning that one class is more prevalent than the other(s). For example, in a medical dataset, the majority of patients may not have a particular disease, while only a small fraction may have the disease. If a random split is used to divide the dataset into training and testing sets, there is a risk that the testing set may not have enough samples from the minority class, which can lead to biased model performance estimates.\n",
    "\n",
    "Stratified splitting addresses this issue by ensuring that both the training and testing sets have similar proportions of the target variable. This can lead to more accurate model performance estimates, especially for imbalanced datasets, by ensuring that the testing set contains enough samples from each class to make reliable predictions.\n",
    "\n",
    "Another advantage of stratified splitting is that it can help ensure that the model is not overfitting to a particular class. If a random split is used and one class is overrepresented in the training set, the model may learn to predict that class well but perform poorly on the other class(es). Stratified splitting can help ensure that the model is exposed to a representative sample of all classes during training, which can improve its generalization performance on new, unseen data.\n",
    "\n",
    "In summary, the advantages of stratified splitting are that it can lead to more accurate and reliable model performance estimates, especially for imbalanced datasets, and can help prevent overfitting to a particular class."
   ]
  },
  {
   "cell_type": "markdown",
   "id": "9919a1de",
   "metadata": {},
   "source": [
    "## Stratified splitting with respect to response and categorical predictors"
   ]
  },
  {
   "cell_type": "markdown",
   "id": "1bd791dc",
   "metadata": {},
   "source": [
    "**Q: Will it be better to stratify the split with respect to the response as well as categorical predictors, instead of only the response? In that case, the train and test datasets will be even more representative of the complete data.**"
   ]
  },
  {
   "cell_type": "markdown",
   "id": "9cdd9121",
   "metadata": {},
   "source": [
    "**A:** It is not recommended to stratify with respect to both the response and categorical predictors simultaneously, while splitting a dataset into train and test, because doing so may result in the test data being very similar to train data, thereby defeating the purpose of assessing the model on unseen data. This kind of a stratified splitting will tend to make the relationships between the response and predictors in train data also appear in test data, which will result in the performance on test data being very similar to that in train data. Thus, in this case, the ability of the model to generalize to new, unseen data won't be assessed by test data. \n",
    "\n",
    "Therefore, it is generally recommended to only stratify the response variable when splitting the data for model training, and to use random sampling for the predictor variables. This helps to ensure that the model is able to capture the underlying relationships between the predictor variables and the response variable, while still being able to generalize well to new, unseen data."
   ]
  },
  {
   "cell_type": "markdown",
   "id": "47ba053f",
   "metadata": {},
   "source": [
    "In the extreme scenario, when there are no continuous predictors, and there are enough observations for stratification with respect to the response and the categorical predictors, the train and test datasets may turn out to be exactly the same. Example 1 below illustrates this scenario."
   ]
  },
  {
   "cell_type": "markdown",
   "id": "64909958",
   "metadata": {},
   "source": [
    "## Example 1\n",
    "The example below shows that the train and test data can be exactly the same if we stratify the split with respect to response and the categorical predictors."
   ]
  },
  {
   "cell_type": "code",
   "execution_count": 166,
   "id": "bf58ee84",
   "metadata": {},
   "outputs": [],
   "source": [
    "# Importing necessary libraries\n",
    "import pandas as pd\n",
    "import numpy as np\n",
    "import matplotlib.pyplot as plt\n",
    "import seaborn as sns\n",
    "from sklearn.linear_model import LogisticRegression\n",
    "from sklearn.model_selection import train_test_split, cross_val_predict, cross_val_score\n",
    "from sklearn.metrics import accuracy_score\n",
    "from itertools import product\n",
    "sns.set(font_scale=1.35)"
   ]
  },
  {
   "cell_type": "markdown",
   "id": "e757808e",
   "metadata": {},
   "source": [
    "Let us simulate a dataset with 8 observations, two categorical predictors `x1` and `x2` and the the binary response `y`."
   ]
  },
  {
   "cell_type": "code",
   "execution_count": 167,
   "id": "4029cf2c",
   "metadata": {},
   "outputs": [],
   "source": [
    "#Setting a seed for reproducible results\n",
    "np.random.seed(9)\n",
    "\n",
    "# 8 observations\n",
    "n = 8\n",
    "\n",
    "#Simulating the categorical predictors\n",
    "x1 = pd.Series(np.random.randint(0,2,n), name = 'x1')\n",
    "x2 = pd.Series(np.random.randint(0,2,n), name = 'x2')\n",
    "\n",
    "#Simulating the response\n",
    "pr = (x1==1)*0.7+(x2==0)*0.3# + (x3*0.1>0.1)*0.1\n",
    "y = pd.Series(1*(np.random.uniform(size = n) < pr), name = 'y')\n",
    "\n",
    "#Defining the predictor object 'X'\n",
    "X = pd.concat([x1, x2], axis = 1)\n",
    "\n",
    "#Stratified splitting with respect to the response and predictors to create 50% train and test datasets\n",
    "X_train_stratified, X_test_stratified, y_train_stratified,\\\n",
    "y_test_stratified = train_test_split(X, y, test_size = 0.5, random_state = 45, stratify=data[['x1', 'x2', 'y']])\n",
    "\n",
    "#Train and test data resulting from the above stratified splitting\n",
    "data_train = pd.concat([X_train_stratified, y_train_stratified], axis = 1)\n",
    "data_test = pd.concat([X_test_stratified, y_test_stratified], axis = 1)"
   ]
  },
  {
   "cell_type": "markdown",
   "id": "9c13afbe",
   "metadata": {},
   "source": [
    "Let us check the train and test datasets created with stratified splitting with respect to both the predictors and the response."
   ]
  },
  {
   "cell_type": "code",
   "execution_count": 168,
   "id": "e22a81d4",
   "metadata": {},
   "outputs": [
    {
     "data": {
      "text/html": [
       "<div>\n",
       "<style scoped>\n",
       "    .dataframe tbody tr th:only-of-type {\n",
       "        vertical-align: middle;\n",
       "    }\n",
       "\n",
       "    .dataframe tbody tr th {\n",
       "        vertical-align: top;\n",
       "    }\n",
       "\n",
       "    .dataframe thead th {\n",
       "        text-align: right;\n",
       "    }\n",
       "</style>\n",
       "<table border=\"1\" class=\"dataframe\">\n",
       "  <thead>\n",
       "    <tr style=\"text-align: right;\">\n",
       "      <th></th>\n",
       "      <th>x1</th>\n",
       "      <th>x2</th>\n",
       "      <th>y</th>\n",
       "    </tr>\n",
       "  </thead>\n",
       "  <tbody>\n",
       "    <tr>\n",
       "      <th>2</th>\n",
       "      <td>0</td>\n",
       "      <td>0</td>\n",
       "      <td>1</td>\n",
       "    </tr>\n",
       "    <tr>\n",
       "      <th>7</th>\n",
       "      <td>0</td>\n",
       "      <td>1</td>\n",
       "      <td>0</td>\n",
       "    </tr>\n",
       "    <tr>\n",
       "      <th>3</th>\n",
       "      <td>1</td>\n",
       "      <td>0</td>\n",
       "      <td>1</td>\n",
       "    </tr>\n",
       "    <tr>\n",
       "      <th>1</th>\n",
       "      <td>0</td>\n",
       "      <td>1</td>\n",
       "      <td>0</td>\n",
       "    </tr>\n",
       "  </tbody>\n",
       "</table>\n",
       "</div>"
      ],
      "text/plain": [
       "   x1  x2  y\n",
       "2   0   0  1\n",
       "7   0   1  0\n",
       "3   1   0  1\n",
       "1   0   1  0"
      ]
     },
     "execution_count": 168,
     "metadata": {},
     "output_type": "execute_result"
    }
   ],
   "source": [
    "data_train"
   ]
  },
  {
   "cell_type": "code",
   "execution_count": 169,
   "id": "28522ad4",
   "metadata": {},
   "outputs": [
    {
     "data": {
      "text/html": [
       "<div>\n",
       "<style scoped>\n",
       "    .dataframe tbody tr th:only-of-type {\n",
       "        vertical-align: middle;\n",
       "    }\n",
       "\n",
       "    .dataframe tbody tr th {\n",
       "        vertical-align: top;\n",
       "    }\n",
       "\n",
       "    .dataframe thead th {\n",
       "        text-align: right;\n",
       "    }\n",
       "</style>\n",
       "<table border=\"1\" class=\"dataframe\">\n",
       "  <thead>\n",
       "    <tr style=\"text-align: right;\">\n",
       "      <th></th>\n",
       "      <th>x1</th>\n",
       "      <th>x2</th>\n",
       "      <th>y</th>\n",
       "    </tr>\n",
       "  </thead>\n",
       "  <tbody>\n",
       "    <tr>\n",
       "      <th>4</th>\n",
       "      <td>0</td>\n",
       "      <td>1</td>\n",
       "      <td>0</td>\n",
       "    </tr>\n",
       "    <tr>\n",
       "      <th>6</th>\n",
       "      <td>1</td>\n",
       "      <td>0</td>\n",
       "      <td>1</td>\n",
       "    </tr>\n",
       "    <tr>\n",
       "      <th>0</th>\n",
       "      <td>0</td>\n",
       "      <td>1</td>\n",
       "      <td>0</td>\n",
       "    </tr>\n",
       "    <tr>\n",
       "      <th>5</th>\n",
       "      <td>0</td>\n",
       "      <td>0</td>\n",
       "      <td>1</td>\n",
       "    </tr>\n",
       "  </tbody>\n",
       "</table>\n",
       "</div>"
      ],
      "text/plain": [
       "   x1  x2  y\n",
       "4   0   1  0\n",
       "6   1   0  1\n",
       "0   0   1  0\n",
       "5   0   0  1"
      ]
     },
     "execution_count": 169,
     "metadata": {},
     "output_type": "execute_result"
    }
   ],
   "source": [
    "data_test"
   ]
  },
  {
   "cell_type": "markdown",
   "id": "80789f99",
   "metadata": {},
   "source": [
    "Note that the train and test datasets are exactly the same! Stratified splitting tends to have the same proportion of observations corresponding to each strata in both the train and test datasets, where each strata is a unique combination of values of `x1`, `x2`, and `y`. This will tend to make the train and test datasets quite similar!"
   ]
  },
  {
   "cell_type": "markdown",
   "id": "cd1f1134",
   "metadata": {},
   "source": [
    "## Example 2: Simulation results"
   ]
  },
  {
   "cell_type": "markdown",
   "id": "aa09161b",
   "metadata": {},
   "source": [
    "The example below shows that train and test set performance will tend to be quite similar if we stratify the datasets with respect to the predictors and the response."
   ]
  },
  {
   "cell_type": "markdown",
   "id": "388c9052",
   "metadata": {},
   "source": [
    "We'll simulate a dataset consisting of 1000 observations, 2 categorical predictors `x1` and `x2`, a continuous predictor `x3`, and a binary response `y`."
   ]
  },
  {
   "cell_type": "code",
   "execution_count": 204,
   "id": "6bd6cba9",
   "metadata": {},
   "outputs": [],
   "source": [
    "#Setting a seed for reproducible results\n",
    "np.random.seed(99)\n",
    "\n",
    "# 1000 Observations\n",
    "n = 1000\n",
    "\n",
    "#Simulating categorical predictors x1 and x2\n",
    "x1 = pd.Series(np.random.randint(0,2,n), name = 'x1')\n",
    "x2 = pd.Series(np.random.randint(0,2,n), name = 'x2')\n",
    "\n",
    "#Simulating continuous predictor x3\n",
    "x3 = pd.Series(np.random.normal(0,1,n), name = 'x3')\n",
    "\n",
    "#Simulating the response\n",
    "pr = (x1==1)*0.7+(x2==0)*0.3 + (x3*0.1>0.1)*0.1\n",
    "y = pd.Series(1*(np.random.uniform(size = n) < pr), name = 'y')\n",
    "\n",
    "#Defining the predictor object 'X'\n",
    "X = pd.concat([x1, x2, x3], axis = 1)"
   ]
  },
  {
   "cell_type": "markdown",
   "id": "322c8cc8",
   "metadata": {},
   "source": [
    "We'll comparing model performance metrics when the data is split into train and test by performing stratified splitting\n",
    "\n",
    "1. Only with respect to the response\n",
    "\n",
    "2. With respect to the response and categorical predictors\n",
    "\n",
    "We'll perform 1000 simulations, where the data is split using a different seed in each simulation."
   ]
  },
  {
   "cell_type": "code",
   "execution_count": 205,
   "id": "25ed1fb4",
   "metadata": {},
   "outputs": [],
   "source": [
    "#Creating an empty dataframe to store simulation results of 1000 simulations\n",
    "accuracy_iter = pd.DataFrame(columns = {'train_y_stratified','test_y_stratified',\n",
    "                                        'train_y_CatPredictors_stratified','test_y_CatPredictors_stratified'})"
   ]
  },
  {
   "cell_type": "code",
   "execution_count": 206,
   "id": "8c0504cf",
   "metadata": {},
   "outputs": [],
   "source": [
    "# Comparing model performance metrics when the data is split into train and test by performing stratified splitting\n",
    "# (1) only with respect to the response\n",
    "# (2) with respect to the response and categorical predictors\n",
    "\n",
    "# Stratified splitting is performed 1000 times and the results are compared\n",
    "for i in np.arange(1,1000):\n",
    " \n",
    "    #--------Case 1-------------------#\n",
    "    # Stratified splitting with respect to response only to create train and test data\n",
    "    X_train, X_test, y_train, y_test = train_test_split(X, y, test_size = 0.2, random_state = i, stratify=y)\n",
    "    model = LogisticRegression()\n",
    "    model.fit(X_train, y_train)\n",
    "    \n",
    "    # Model accuracy on train and test data, with stratification only on response while splitting \n",
    "    # the complete data into train and test\n",
    "    accuracy_iter.loc[(i-1), 'train_y_stratified'] = model.score(X_train, y_train)\n",
    "    accuracy_iter.loc[(i-1), 'test_y_stratified'] = model.score(X_test, y_test)\n",
    "        \n",
    "    #--------Case 2-------------------#\n",
    "    # Stratified splitting with respect to response and categorical predictors to create train \n",
    "    # and test data\n",
    "    X_train, X_test, y_train, y_test = train_test_split(X, y, test_size = 0.2, random_state = i, \n",
    "                                                        stratify=pd.concat([x1, x2, y], axis = 1))\n",
    "    model.fit(X_train, y_train)\n",
    "\n",
    "    # Model accuracy on train and test data, with stratification on response and predictors while \n",
    "    # splitting the complete data into train and test\n",
    "    accuracy_iter.loc[(i-1), 'train_y_CatPredictors_stratified'] = model.score(X_train, y_train)\n",
    "    accuracy_iter.loc[(i-1), 'test_y_CatPredictors_stratified'] = model.score(X_test, y_test)\n",
    "    \n",
    "# Converting accuracy to numeric\n",
    "accuracy_iter = accuracy_iter.apply(lambda x:x.astype(float), axis = 1)"
   ]
  },
  {
   "cell_type": "markdown",
   "id": "d17b0926",
   "metadata": {},
   "source": [
    "### Distribution of train and test accuracies {-}"
   ]
  },
  {
   "cell_type": "markdown",
   "id": "7325de40",
   "metadata": {},
   "source": [
    "The table below shows the distribution of train and test accuracies when the data is split into train and test by performing stratified splitting:\n",
    "\n",
    "1. Only with respect to the response (see `train_y_stratified` and `test_y_stratified`)\n",
    "\n",
    "2. With respect to the response and categorical predictors (see `train_y_CatPredictors_stratified` and `test_y_CatPredictors_stratified`)"
   ]
  },
  {
   "cell_type": "code",
   "execution_count": 200,
   "id": "6b0eeaed",
   "metadata": {},
   "outputs": [
    {
     "data": {
      "text/html": [
       "<div>\n",
       "<style scoped>\n",
       "    .dataframe tbody tr th:only-of-type {\n",
       "        vertical-align: middle;\n",
       "    }\n",
       "\n",
       "    .dataframe tbody tr th {\n",
       "        vertical-align: top;\n",
       "    }\n",
       "\n",
       "    .dataframe thead th {\n",
       "        text-align: right;\n",
       "    }\n",
       "</style>\n",
       "<table border=\"1\" class=\"dataframe\">\n",
       "  <thead>\n",
       "    <tr style=\"text-align: right;\">\n",
       "      <th></th>\n",
       "      <th>train_y_stratified</th>\n",
       "      <th>test_y_stratified</th>\n",
       "      <th>train_y_CatPredictors_stratified</th>\n",
       "      <th>test_y_CatPredictors_stratified</th>\n",
       "    </tr>\n",
       "  </thead>\n",
       "  <tbody>\n",
       "    <tr>\n",
       "      <th>count</th>\n",
       "      <td>999.000000</td>\n",
       "      <td>999.000000</td>\n",
       "      <td>9.990000e+02</td>\n",
       "      <td>9.990000e+02</td>\n",
       "    </tr>\n",
       "    <tr>\n",
       "      <th>mean</th>\n",
       "      <td>0.834962</td>\n",
       "      <td>0.835150</td>\n",
       "      <td>8.350000e-01</td>\n",
       "      <td>8.350000e-01</td>\n",
       "    </tr>\n",
       "    <tr>\n",
       "      <th>std</th>\n",
       "      <td>0.005833</td>\n",
       "      <td>0.023333</td>\n",
       "      <td>8.552999e-15</td>\n",
       "      <td>8.552999e-15</td>\n",
       "    </tr>\n",
       "    <tr>\n",
       "      <th>min</th>\n",
       "      <td>0.812500</td>\n",
       "      <td>0.755000</td>\n",
       "      <td>8.350000e-01</td>\n",
       "      <td>8.350000e-01</td>\n",
       "    </tr>\n",
       "    <tr>\n",
       "      <th>25%</th>\n",
       "      <td>0.831250</td>\n",
       "      <td>0.820000</td>\n",
       "      <td>8.350000e-01</td>\n",
       "      <td>8.350000e-01</td>\n",
       "    </tr>\n",
       "    <tr>\n",
       "      <th>50%</th>\n",
       "      <td>0.835000</td>\n",
       "      <td>0.835000</td>\n",
       "      <td>8.350000e-01</td>\n",
       "      <td>8.350000e-01</td>\n",
       "    </tr>\n",
       "    <tr>\n",
       "      <th>75%</th>\n",
       "      <td>0.838750</td>\n",
       "      <td>0.850000</td>\n",
       "      <td>8.350000e-01</td>\n",
       "      <td>8.350000e-01</td>\n",
       "    </tr>\n",
       "    <tr>\n",
       "      <th>max</th>\n",
       "      <td>0.855000</td>\n",
       "      <td>0.925000</td>\n",
       "      <td>8.350000e-01</td>\n",
       "      <td>8.350000e-01</td>\n",
       "    </tr>\n",
       "  </tbody>\n",
       "</table>\n",
       "</div>"
      ],
      "text/plain": [
       "       train_y_stratified  test_y_stratified  \\\n",
       "count          999.000000         999.000000   \n",
       "mean             0.834962           0.835150   \n",
       "std              0.005833           0.023333   \n",
       "min              0.812500           0.755000   \n",
       "25%              0.831250           0.820000   \n",
       "50%              0.835000           0.835000   \n",
       "75%              0.838750           0.850000   \n",
       "max              0.855000           0.925000   \n",
       "\n",
       "       train_y_CatPredictors_stratified  test_y_CatPredictors_stratified  \n",
       "count                      9.990000e+02                     9.990000e+02  \n",
       "mean                       8.350000e-01                     8.350000e-01  \n",
       "std                        8.552999e-15                     8.552999e-15  \n",
       "min                        8.350000e-01                     8.350000e-01  \n",
       "25%                        8.350000e-01                     8.350000e-01  \n",
       "50%                        8.350000e-01                     8.350000e-01  \n",
       "75%                        8.350000e-01                     8.350000e-01  \n",
       "max                        8.350000e-01                     8.350000e-01  "
      ]
     },
     "execution_count": 200,
     "metadata": {},
     "output_type": "execute_result"
    }
   ],
   "source": [
    "accuracy_iter.describe()"
   ]
  },
  {
   "cell_type": "markdown",
   "id": "0e5769e7",
   "metadata": {},
   "source": [
    "Let us visualize the distribution of these accuracies."
   ]
  },
  {
   "cell_type": "markdown",
   "id": "8a135edc",
   "metadata": {},
   "source": [
    "### Stratified splitting only with respect to the response"
   ]
  },
  {
   "cell_type": "code",
   "execution_count": 198,
   "id": "2b124dbb",
   "metadata": {},
   "outputs": [
    {
     "data": {
      "text/plain": [
       "Text(0.5, 0, 'Accuracy')"
      ]
     },
     "execution_count": 198,
     "metadata": {},
     "output_type": "execute_result"
    },
    {
     "data": {
      "image/png": "[encoded data removed]",
      "text/plain": [
       "<Figure size 432x288 with 1 Axes>"
      ]
     },
     "metadata": {},
     "output_type": "display_data"
    }
   ],
   "source": [
    "sns.histplot(data=accuracy_iter, x=\"train_y_stratified\", color=\"red\", label=\"Train accuracy\", kde=True)\n",
    "sns.histplot(data=accuracy_iter, x=\"test_y_stratified\", color=\"skyblue\", label=\"Test accuracy\", kde=True);\n",
    "plt.legend()\n",
    "plt.xlabel('Accuracy')"
   ]
  },
  {
   "cell_type": "markdown",
   "id": "2d687a3b",
   "metadata": {},
   "source": [
    "Note the variability in train and test accuracies when the data is stratified only with respect to the response. The train accuracy varies between 81.2% and 85.5%, while the test accuracy varies between 75.5% and 92.5%."
   ]
  },
  {
   "cell_type": "markdown",
   "id": "3c17e1b2",
   "metadata": {},
   "source": [
    "### Stratified splitting with respect to the response and categorical predictors"
   ]
  },
  {
   "cell_type": "code",
   "execution_count": 207,
   "id": "445a3541",
   "metadata": {},
   "outputs": [
    {
     "data": {
      "text/plain": [
       "Text(0.5, 0, 'Accuracy')"
      ]
     },
     "execution_count": 207,
     "metadata": {},
     "output_type": "execute_result"
    },
    {
     "data": {
      "image/png": "[encoded data removed]",
      "text/plain": [
       "<Figure size 432x288 with 1 Axes>"
      ]
     },
     "metadata": {},
     "output_type": "display_data"
    }
   ],
   "source": [
    "sns.histplot(data=accuracy_iter, x=\"train_y_CatPredictors_stratified\", color=\"red\", label=\"Train accuracy\", kde=True)\n",
    "sns.histplot(data=accuracy_iter, x=\"test_y_CatPredictors_stratified\", color=\"skyblue\", label=\"Test accuracy\", kde=True);\n",
    "plt.legend()\n",
    "plt.xlabel('Accuracy')"
   ]
  },
  {
   "cell_type": "markdown",
   "id": "60d0f342",
   "metadata": {},
   "source": [
    "The train and test accuracies are between 85% and 85.5% for all the simulations. As a results of stratifying the splitting with respect to both the response and the categorical predictors, the train and test datasets are almost the same because the datasets are engineered to be quite similar, thereby making the test dataset inappropriate for assessing accuracy on unseen data. Thus, it is recommended to stratify the splitting only with respect to the response."
   ]
  }
 ],
 "metadata": {
  "kernelspec": {
   "display_name": "Python 3 (ipykernel)",
   "language": "python",
   "name": "python3"
  },
  "language_info": {
   "codemirror_mode": {
    "name": "ipython",
    "version": 3
   },
   "file_extension": ".py",
   "mimetype": "text/x-python",
   "name": "python",
   "nbconvert_exporter": "python",
   "pygments_lexer": "ipython3",
   "version": "3.8.17"
  }
 },
 "nbformat": 4,
 "nbformat_minor": 5
}
