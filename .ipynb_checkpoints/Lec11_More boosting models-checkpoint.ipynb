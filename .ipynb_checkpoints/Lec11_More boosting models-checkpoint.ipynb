{
 "cells": [
  {
   "cell_type": "raw",
   "id": "4b9feeda",
   "metadata": {},
   "source": [
    "---\n",
    "title: \"LightGBM and CatBoost\"\n",
    "format: \n",
    "  html:\n",
    "    code-fold: false\n",
    "    toc-depth: 4\n",
    "    jupyter: python3\n",
    "---"
   ]
  },
  {
   "cell_type": "code",
   "execution_count": 124,
   "id": "f819f995",
   "metadata": {},
   "outputs": [],
   "source": [
    "import pandas as pd\n",
    "import numpy as np\n",
    "import seaborn as sns\n",
    "import matplotlib.pyplot as plt\n",
    "from sklearn.metrics import mean_squared_error\n",
    "from sklearn.model_selection import cross_val_score,train_test_split, KFold, cross_val_predict\n",
    "from sklearn.metrics import mean_squared_error,r2_score,roc_curve,auc,precision_recall_curve, accuracy_score, \\\n",
    "recall_score, precision_score, confusion_matrix\n",
    "from sklearn.tree import DecisionTreeRegressor,DecisionTreeClassifier\n",
    "from sklearn.model_selection import GridSearchCV, ParameterGrid, StratifiedKFold, RandomizedSearchCV\n",
    "from sklearn.ensemble import VotingRegressor, VotingClassifier, StackingRegressor, StackingClassifier, GradientBoostingRegressor,GradientBoostingClassifier, BaggingRegressor,BaggingClassifier,RandomForestRegressor,RandomForestClassifier,AdaBoostRegressor,AdaBoostClassifier\n",
    "from sklearn.linear_model import LinearRegression,LogisticRegression, LassoCV, RidgeCV, ElasticNetCV\n",
    "from sklearn.neighbors import KNeighborsRegressor\n",
    "import itertools as it\n",
    "import time as time\n",
    "import xgboost as xgb\n",
    "from lightgbm import LGBMRegressor\n",
    "from catboost import CatBoostRegressor\n",
    "from skopt import BayesSearchCV\n",
    "from skopt.space import Real, Categorical, Integer\n",
    "from skopt.plots import plot_objective, plot_histogram, plot_convergence\n",
    "import warnings\n",
    "from IPython import display"
   ]
  },
  {
   "cell_type": "markdown",
   "id": "b3c74843",
   "metadata": {},
   "source": [
    "We'll continue to use the same datasets that we have been using throughout the course."
   ]
  },
  {
   "cell_type": "code",
   "execution_count": 29,
   "id": "a9036ef3",
   "metadata": {},
   "outputs": [
    {
     "data": {
      "text/html": [
       "<div>\n",
       "<style scoped>\n",
       "    .dataframe tbody tr th:only-of-type {\n",
       "        vertical-align: middle;\n",
       "    }\n",
       "\n",
       "    .dataframe tbody tr th {\n",
       "        vertical-align: top;\n",
       "    }\n",
       "\n",
       "    .dataframe thead th {\n",
       "        text-align: right;\n",
       "    }\n",
       "</style>\n",
       "<table border=\"1\" class=\"dataframe\">\n",
       "  <thead>\n",
       "    <tr style=\"text-align: right;\">\n",
       "      <th></th>\n",
       "      <th>carID</th>\n",
       "      <th>brand</th>\n",
       "      <th>model</th>\n",
       "      <th>year</th>\n",
       "      <th>transmission</th>\n",
       "      <th>mileage</th>\n",
       "      <th>fuelType</th>\n",
       "      <th>tax</th>\n",
       "      <th>mpg</th>\n",
       "      <th>engineSize</th>\n",
       "      <th>price</th>\n",
       "    </tr>\n",
       "  </thead>\n",
       "  <tbody>\n",
       "    <tr>\n",
       "      <th>0</th>\n",
       "      <td>18473</td>\n",
       "      <td>bmw</td>\n",
       "      <td>6 Series</td>\n",
       "      <td>2020</td>\n",
       "      <td>Semi-Auto</td>\n",
       "      <td>11</td>\n",
       "      <td>Diesel</td>\n",
       "      <td>145</td>\n",
       "      <td>53.3282</td>\n",
       "      <td>3.0</td>\n",
       "      <td>37980</td>\n",
       "    </tr>\n",
       "    <tr>\n",
       "      <th>1</th>\n",
       "      <td>15064</td>\n",
       "      <td>bmw</td>\n",
       "      <td>6 Series</td>\n",
       "      <td>2019</td>\n",
       "      <td>Semi-Auto</td>\n",
       "      <td>10813</td>\n",
       "      <td>Diesel</td>\n",
       "      <td>145</td>\n",
       "      <td>53.0430</td>\n",
       "      <td>3.0</td>\n",
       "      <td>33980</td>\n",
       "    </tr>\n",
       "    <tr>\n",
       "      <th>2</th>\n",
       "      <td>18268</td>\n",
       "      <td>bmw</td>\n",
       "      <td>6 Series</td>\n",
       "      <td>2020</td>\n",
       "      <td>Semi-Auto</td>\n",
       "      <td>6</td>\n",
       "      <td>Diesel</td>\n",
       "      <td>145</td>\n",
       "      <td>53.4379</td>\n",
       "      <td>3.0</td>\n",
       "      <td>36850</td>\n",
       "    </tr>\n",
       "    <tr>\n",
       "      <th>3</th>\n",
       "      <td>18480</td>\n",
       "      <td>bmw</td>\n",
       "      <td>6 Series</td>\n",
       "      <td>2017</td>\n",
       "      <td>Semi-Auto</td>\n",
       "      <td>18895</td>\n",
       "      <td>Diesel</td>\n",
       "      <td>145</td>\n",
       "      <td>51.5140</td>\n",
       "      <td>3.0</td>\n",
       "      <td>25998</td>\n",
       "    </tr>\n",
       "    <tr>\n",
       "      <th>4</th>\n",
       "      <td>18492</td>\n",
       "      <td>bmw</td>\n",
       "      <td>6 Series</td>\n",
       "      <td>2015</td>\n",
       "      <td>Automatic</td>\n",
       "      <td>62953</td>\n",
       "      <td>Diesel</td>\n",
       "      <td>160</td>\n",
       "      <td>51.4903</td>\n",
       "      <td>3.0</td>\n",
       "      <td>18990</td>\n",
       "    </tr>\n",
       "  </tbody>\n",
       "</table>\n",
       "</div>"
      ],
      "text/plain": [
       "   carID brand      model  year transmission  mileage fuelType  tax      mpg  \\\n",
       "0  18473   bmw   6 Series  2020    Semi-Auto       11   Diesel  145  53.3282   \n",
       "1  15064   bmw   6 Series  2019    Semi-Auto    10813   Diesel  145  53.0430   \n",
       "2  18268   bmw   6 Series  2020    Semi-Auto        6   Diesel  145  53.4379   \n",
       "3  18480   bmw   6 Series  2017    Semi-Auto    18895   Diesel  145  51.5140   \n",
       "4  18492   bmw   6 Series  2015    Automatic    62953   Diesel  160  51.4903   \n",
       "\n",
       "   engineSize  price  \n",
       "0         3.0  37980  \n",
       "1         3.0  33980  \n",
       "2         3.0  36850  \n",
       "3         3.0  25998  \n",
       "4         3.0  18990  "
      ]
     },
     "execution_count": 29,
     "metadata": {},
     "output_type": "execute_result"
    }
   ],
   "source": [
    "#Using the same datasets as used for linear regression in STAT303-2, \n",
    "#so that we can compare the non-linear models with linear regression\n",
    "trainf = pd.read_csv('./Datasets/Car_features_train.csv')\n",
    "trainp = pd.read_csv('./Datasets/Car_prices_train.csv')\n",
    "testf = pd.read_csv('./Datasets/Car_features_test.csv')\n",
    "testp = pd.read_csv('./Datasets/Car_prices_test.csv')\n",
    "train = pd.merge(trainf,trainp)\n",
    "test = pd.merge(testf,testp)\n",
    "train.head()"
   ]
  },
  {
   "cell_type": "code",
   "execution_count": 30,
   "id": "db6b5f99",
   "metadata": {},
   "outputs": [],
   "source": [
    "X = train[['mileage','mpg','year','engineSize']]\n",
    "Xtest = test[['mileage','mpg','year','engineSize']]\n",
    "y = train['price']\n",
    "ytest = test['price']"
   ]
  },
  {
   "cell_type": "markdown",
   "id": "8a895b16",
   "metadata": {},
   "source": [
    "## LightGBM"
   ]
  },
  {
   "cell_type": "markdown",
   "id": "282de73d",
   "metadata": {},
   "source": [
    "LightGBM is a gradient boosting decision tree algorithm developed by Microsoft in 2017. LightGBM outperforms XGBoost in terms of compuational speed, and provides comparable accuracy in general. The following two key features in LightGBM that make it faster than XGBoost: \n",
    "\n",
    "**1. Gradient-based One-Side Sampling** (GOSS): Recall, in gradient boosting, we fit trees on the gradient of the loss function *(refer the gradient boosting algorithm in section 10.10.2 of the book, [Elements of Statistical Learning](https://hastie.su.domains/ElemStatLearn/)):*\n",
    "\n",
    "$$r_m = -\\bigg[ \\frac{\\partial L(y_i, f(x_i))}{\\partial f(x_i)}  \\bigg]_{f = f_{m-1}}. $$\n",
    "\n",
    "Observations that correspond to relatively larger gradients contribute more to minimizing the loss function as compared to observations with smaller gradients. The algorithm down-samples the observations with small gradients, while selecting all the observations with large gradients. As observations with large gradients contribute the most to the reduction in loss function when considering a split, the accuracy of loss reduction estimate is maintained even with a reduced sample size. This leads to similar performance in terms of prediction accuracy while reducing computation speed due to reduction in sample size to fit trees.\n",
    "\n",
    "**2. Exclusive feature bundling** (EFB): This is useful when there are a lot of predictors, but the predictor space is sparse, i.e., most of the values are zero for several predictors, and the predictors rarely take non-zero values simultaneously. This can typically happen in case of a lot of dummy variables in the data. In such a case, the predictors are bundled to create a single predictor. \n",
    "\n",
    "In the example below you can see that feature1 and feature2 are mutually exclusive. In order to achieve non overlapping buckets we add bundle size of feature1 to feature2. This makes sure that non zero data points of bundled features (feature1 and feature2) reside in different buckets. In feature_bundle buckets 1 to 4 contains non zero instances of feature1 and buckets 5,6 contain non zero instances of feature2 *([Reference](https://towardsdatascience.com/what-makes-lightgbm-lightning-fast-a27cf0d9785e))*. \n",
    "\n",
    "| feature1 | feature2 | feature_bundle |\n",
    "| --- | --- | --- |\n",
    "| 0 | 2 | 6 |\n",
    "| 0 | 1 | 5 |\n",
    "| 0 | 2 | 6 |\n",
    "| 1 | 0 | 1 |\n",
    "| 2 | 0 | 2 |\n",
    "| 3 | 0 | 3 |\n",
    "| 4 | 0 | 4 |\n",
    "\n",
    "Read the [LightGBM paper](https://proceedings.neurips.cc/paper/2017/file/6449f44a102fde848669bdd9eb6b76fa-Paper.pdf) for more details."
   ]
  },
  {
   "cell_type": "markdown",
   "id": "9380a289",
   "metadata": {},
   "source": [
    "### LightGBM for regression\n",
    "Let us tune a lightGBM model for regression for our problem of predicting car price. We'll use the function [`LGBMRegressor`](https://lightgbm.readthedocs.io/en/latest/pythonapi/lightgbm.LGBMRegressor.html). For classification problems, [`LGBMClassifier`](https://lightgbm.readthedocs.io/en/latest/pythonapi/lightgbm.LGBMClassifier.html) can be used. Note that we are using the GOSS algorithm to downsample observations with smaller gradients. "
   ]
  },
  {
   "cell_type": "code",
   "execution_count": 31,
   "id": "4787ccf3",
   "metadata": {},
   "outputs": [
    {
     "name": "stdout",
     "output_type": "stream",
     "text": [
      "Fitting 5 folds for each of 200 candidates, totalling 1000 fits\n",
      "Optimal parameter values = {'subsample': 1.0, 'reg_lambda': 10, 'reg_alpha': 0, 'num_leaves': 20, 'n_estimators': 1000, 'learning_rate': 0.1, 'colsample_bytree': 1.0}\n",
      "Optimal cross validation R-squared =  -5670.309021679375\n",
      "Time taken =  1  minutes\n"
     ]
    }
   ],
   "source": [
    "#K-fold cross validation to find optimal parameters for LightGBM regressor\n",
    "start_time = time.time()\n",
    "param_grid = {'num_leaves': [20, 31, 40],\n",
    "              'learning_rate': [0.01, 0.05, 0.1],\n",
    "               'reg_lambda':[0, 10, 100],\n",
    "                'n_estimators':[100, 500, 1000],\n",
    "                'reg_alpha': [0, 10, 100],\n",
    "                'subsample': [0.5, 0.75, 1.0],\n",
    "                'colsample_bytree': [0.5, 0.75, 1.0]}\n",
    "\n",
    "cv = KFold(n_splits=5,shuffle=True,random_state=1)\n",
    "optimal_params = RandomizedSearchCV(estimator=LGBMRegressor(boosting_type = 'goss'),                                                       \n",
    "                             param_distributions = param_grid, n_iter = 200,\n",
    "                             verbose = 1, scoring='neg_root_mean_squared_error',\n",
    "                             n_jobs=-1,random_state=1,\n",
    "                             cv = cv)\n",
    "optimal_params.fit(X,y)\n",
    "print(\"Optimal parameter values =\", optimal_params.best_params_)\n",
    "print(\"Optimal cross validation RMSE = \",optimal_params.best_score_)\n",
    "print(\"Time taken = \", round((time.time()-start_time)/60), \" minutes\")"
   ]
  },
  {
   "cell_type": "code",
   "execution_count": 32,
   "id": "fabd5eec",
   "metadata": {},
   "outputs": [
    {
     "data": {
      "text/plain": [
       "5614.374498193448"
      ]
     },
     "execution_count": 32,
     "metadata": {},
     "output_type": "execute_result"
    }
   ],
   "source": [
    "#RMSE based on the optimal parameter values of a LighGBM Regressor model\n",
    "np.sqrt(mean_squared_error(optimal_params.best_estimator_.predict(Xtest),ytest))"
   ]
  },
  {
   "cell_type": "markdown",
   "id": "12b5768a",
   "metadata": {},
   "source": [
    "Note that downsampling of small-gradient observations leads to faster execution time, but potentially by compromising some accuracy. We can expect to improve the accuracy by increasing the `top_rate` or the `other_rate` hyperparameters, but at an increased computational cost. In the cross-validation below, we have increased the `top_rate` to 0.5 from the default value of 0.2."
   ]
  },
  {
   "cell_type": "code",
   "execution_count": 33,
   "id": "35f60979",
   "metadata": {},
   "outputs": [
    {
     "name": "stdout",
     "output_type": "stream",
     "text": [
      "Fitting 5 folds for each of 200 candidates, totalling 1000 fits\n",
      "Optimal parameter values = {'subsample': 0.5, 'reg_lambda': 0, 'reg_alpha': 100, 'num_leaves': 31, 'n_estimators': 500, 'learning_rate': 0.05, 'colsample_bytree': 1.0}\n",
      "Optimal cross validation R-squared =  -5436.062435616846\n",
      "Time taken =  1  minutes\n"
     ]
    }
   ],
   "source": [
    "#K-fold cross validation to find optimal parameters for LightGBM regressor\n",
    "start_time = time.time()\n",
    "param_grid = {'num_leaves': [20, 31, 40],\n",
    "              'learning_rate': [0.01, 0.05, 0.1],\n",
    "               'reg_lambda':[0, 10, 100],\n",
    "                'n_estimators':[100, 500, 1000],\n",
    "                'reg_alpha': [0, 10, 100],\n",
    "                'subsample': [0.5, 0.75, 1.0],\n",
    "                'colsample_bytree': [0.5, 0.75, 1.0]}\n",
    "\n",
    "cv = KFold(n_splits=5,shuffle=True,random_state=1)\n",
    "optimal_params = RandomizedSearchCV(estimator=LGBMRegressor(boosting_type = 'goss', top_rate = 0.5),                                                       \n",
    "                             param_distributions = param_grid, n_iter = 200,\n",
    "                             verbose = 1, scoring='neg_root_mean_squared_error',\n",
    "                             n_jobs=-1,random_state=1,\n",
    "                             cv = cv)\n",
    "optimal_params.fit(X,y)\n",
    "print(\"Optimal parameter values =\", optimal_params.best_params_)\n",
    "print(\"Optimal cross validation RMSE = \",optimal_params.best_score_)\n",
    "print(\"Time taken = \", round((time.time()-start_time)/60), \" minutes\")"
   ]
  },
  {
   "cell_type": "code",
   "execution_count": 34,
   "id": "b8f16539",
   "metadata": {},
   "outputs": [
    {
     "data": {
      "text/plain": [
       "5355.964600884197"
      ]
     },
     "execution_count": 34,
     "metadata": {},
     "output_type": "execute_result"
    }
   ],
   "source": [
    "#RMSE based on the optimal parameter values of a LighGBM Regressor model\n",
    "np.sqrt(mean_squared_error(optimal_params.best_estimator_.predict(Xtest),ytest))"
   ]
  },
  {
   "cell_type": "markdown",
   "id": "cd0d733f",
   "metadata": {},
   "source": [
    "Note that the cross-validated RMSE has reduced. However, this is at an increased computational expense. In the simulations below, we compare the time taken to train models with increasing values of the `top_rate` hyperparameter."
   ]
  },
  {
   "cell_type": "code",
   "execution_count": 92,
   "id": "556a7536",
   "metadata": {},
   "outputs": [],
   "source": [
    "time_list = []\n",
    "for i in range(50):\n",
    "    start_time = time.time()\n",
    "    model = LGBMRegressor(boosting_type = 'goss', top_rate = 0.2, n_jobs=-1).fit(X, y)\n",
    "    time_list.append(time.time()-start_time)"
   ]
  },
  {
   "cell_type": "code",
   "execution_count": 93,
   "id": "7ac6d4d5",
   "metadata": {},
   "outputs": [],
   "source": [
    "time_list2 = []\n",
    "for i in range(50):\n",
    "    start_time = time.time()\n",
    "    model = LGBMRegressor(boosting_type = 'goss', top_rate = 0.5, n_jobs=-1).fit(X, y)\n",
    "    time_list2.append(time.time()-start_time)"
   ]
  },
  {
   "cell_type": "code",
   "execution_count": 94,
   "id": "e1e67d22",
   "metadata": {},
   "outputs": [],
   "source": [
    "time_list3 = []\n",
    "for i in range(50):\n",
    "    start_time = time.time()\n",
    "    model = LGBMRegressor(boosting_type = 'goss', top_rate = 0.8, n_jobs=-1).fit(X, y)\n",
    "    time_list3.append(time.time()-start_time)"
   ]
  },
  {
   "cell_type": "code",
   "execution_count": 85,
   "id": "4f5bd8ba",
   "metadata": {},
   "outputs": [
    {
     "data": {
      "image/png": "[encoded data removed]",
      "text/plain": [
       "<Figure size 640x480 with 1 Axes>"
      ]
     },
     "metadata": {},
     "output_type": "display_data"
    }
   ],
   "source": [
    "ax = sns.boxplot([time_list, time_list2, time_list3]);\n",
    "ax.set_xticklabels([0.2, 0.5, 0.75]);\n",
    "plt.ylabel('Time');\n",
    "plt.xlabel('top_rate');\n",
    "plt.xticks(rotation = 45);"
   ]
  },
  {
   "cell_type": "markdown",
   "id": "e79ef811",
   "metadata": {},
   "source": [
    "### LightGBM vs XGBoost\n",
    "\n",
    "LightGBM model took 2 minutes for a random search with 1000 fits as compared to 7 minutes for an XGBoost model with 1000 fits on the same data (as shown below). In terms of prediction accuracy, we observe that the accuracy of LightGBM on test *(unseen)* data is comparable to that of XGBoost."
   ]
  },
  {
   "cell_type": "code",
   "execution_count": 14,
   "id": "336194fc",
   "metadata": {},
   "outputs": [
    {
     "name": "stdout",
     "output_type": "stream",
     "text": [
      "Fitting 5 folds for each of 200 candidates, totalling 1000 fits\n",
      "Optimal parameter values = {'subsample': 0.75, 'reg_lambda': 1, 'n_estimators': 1000, 'max_depth': 8, 'learning_rate': 0.01, 'gamma': 100, 'colsample_bytree': 1.0}\n",
      "Optimal cross validation R-squared =  -5178.8689594137295\n",
      "Time taken =  7  minutes\n"
     ]
    }
   ],
   "source": [
    "#K-fold cross validation to find optimal parameters for XGBoost\n",
    "start_time = time.time()\n",
    "param_grid = {'max_depth': [4,6,8],\n",
    "              'learning_rate': [0.01, 0.05, 0.1],\n",
    "               'reg_lambda':[0, 1, 10],\n",
    "                'n_estimators':[100, 500, 1000],\n",
    "                'gamma': [0, 10, 100],\n",
    "                'subsample': [0.5, 0.75, 1.0],\n",
    "                'colsample_bytree': [0.5, 0.75, 1.0]}\n",
    "\n",
    "cv = KFold(n_splits=5,shuffle=True,random_state=1)\n",
    "optimal_params = RandomizedSearchCV(estimator=xgb.XGBRegressor(),                                                       \n",
    "                             param_distributions = param_grid, n_iter = 200,\n",
    "                             verbose = 1, scoring = 'neg_root_mean_squared_error',\n",
    "                             n_jobs=-1,random_state = 1,\n",
    "                             cv = cv)\n",
    "optimal_params.fit(X,y)\n",
    "print(\"Optimal parameter values =\", optimal_params.best_params_)\n",
    "print(\"Optimal cross validation R-squared = \",optimal_params.best_score_)\n",
    "print(\"Time taken = \", round((time.time()-start_time)/60), \" minutes\")"
   ]
  },
  {
   "cell_type": "code",
   "execution_count": 15,
   "id": "7ebe7659",
   "metadata": {},
   "outputs": [
    {
     "data": {
      "text/plain": [
       "5420.661056398766"
      ]
     },
     "execution_count": 15,
     "metadata": {},
     "output_type": "execute_result"
    }
   ],
   "source": [
    "#RMSE based on the optimal parameter values\n",
    "np.sqrt(mean_squared_error(optimal_params.best_estimator_.predict(Xtest),ytest))"
   ]
  },
  {
   "cell_type": "markdown",
   "id": "c4b16144",
   "metadata": {},
   "source": [
    "## CatBoost\n",
    "\n",
    "CatBoost is a gradient boosting algorithm developed by Yandex *(Russian Google)* in 2017. Like LightGBM, CatBoost is also faster than XGBoost in training. However, unlike LightGBM, the authors have claimed that it outperforms both LightGBM and XGBoost in terms of prediction accuracy as well. \n",
    "\n",
    "The key feature of CatBoost that address the issue with the gradient boosting procedure is the idea of ordered boosting. Classic boosting algorithms are prone to overfitting on small/noisy datasets due to a problem known as prediction shift. Recall, in gradient boosting, we fit trees on the gradient of the loss function *(refer the gradient boosting algorithm in section 10.10.2 of the book, [Elements of Statistical Learning](https://hastie.su.domains/ElemStatLearn/)):*\n",
    "\n",
    "$$r_m = -\\bigg[ \\frac{\\partial L(y_i, f(x_i))}{\\partial f(x_i)}  \\bigg]_{f = f_{m-1}}. $$\n",
    "\n",
    "When calculating the gradient estimate of an observation, these algorithms use the same observations that the model was built with, thus having no chances of experiencing unseen data. CatBoost, on the other hand, uses the concept of ordered boosting, a permutation-driven approach to train model on a subset of data while calculating residuals on another subset, thus preventing \"target leakage\" and overfitting. The residuals of an observation are computed based on a model developed on the previous observations, where the observations are randomly shuffled at each iteration, i.e., for each tree.\n",
    "\n",
    "Thus, the gradient of the loss function is based on test *(unseen)* data, instead of the data on which the model has been trained, which improves the generalizability of the model, and avoids overfitting on train data.\n",
    "\n",
    "The authors have also shown that CatBoost performs better than XGBoost and LightGBM without tuning, i.e., with default hyperparameter settings.\n",
    "\n",
    "Read the [CatBoost paper](https://proceedings.neurips.cc/paper_files/paper/2018/file/14491b756b3a51daac41c24863285549-Paper.pdf) for more details.\n",
    "\n",
    "Here is a good [blog](https://neptune.ai/blog/when-to-choose-catboost-over-xgboost-or-lightgbm) listing the key features of CatBoost."
   ]
  },
  {
   "cell_type": "markdown",
   "id": "06c009a2",
   "metadata": {},
   "source": [
    "### CatBoost for regression"
   ]
  },
  {
   "cell_type": "markdown",
   "id": "5d987907",
   "metadata": {},
   "source": [
    "We'll use the function [CatBoostRegressor](https://catboost.ai/en/docs/concepts/python-reference_catboostregressor) for regression. For classification problems [CatBoostClassifier](https://catboost.ai/en/docs/concepts/python-reference_catboostclassifier) can be used.\n",
    "\n",
    "Let us check the performance of `CatBoostRegressor()` without tuning, i.e., with default hyperparameter settings."
   ]
  },
  {
   "cell_type": "code",
   "execution_count": 97,
   "id": "17cf8748",
   "metadata": {},
   "outputs": [],
   "source": [
    "model_cat = CatBoostRegressor(verbose=0).fit(X, y)"
   ]
  },
  {
   "cell_type": "code",
   "execution_count": 103,
   "id": "5e5a92fa",
   "metadata": {},
   "outputs": [
    {
     "data": {
      "text/plain": [
       "5035.972129299527"
      ]
     },
     "execution_count": 103,
     "metadata": {},
     "output_type": "execute_result"
    }
   ],
   "source": [
    "cv = KFold(n_splits=5,shuffle=True,random_state=1)\n",
    "np.mean(-cross_val_score(CatBoostRegressor(verbose=0), X, y, cv = cv, n_jobs = -1, \n",
    "                scoring='neg_root_mean_squared_error'))"
   ]
  },
  {
   "cell_type": "code",
   "execution_count": 99,
   "id": "ce4b9894",
   "metadata": {},
   "outputs": [
    {
     "data": {
      "text/plain": [
       "5288.82153844634"
      ]
     },
     "execution_count": 99,
     "metadata": {},
     "output_type": "execute_result"
    }
   ],
   "source": [
    "np.sqrt(mean_squared_error(model_cat.predict(Xtest),ytest))"
   ]
  },
  {
   "cell_type": "markdown",
   "id": "2895c618",
   "metadata": {},
   "source": [
    "Even with default hyperparameter settings, CatBoost has outperformed both XGBoost and LightGBM in terms of cross-validated RMSE, and RMSE on test data for our example of predicting car prices."
   ]
  },
  {
   "cell_type": "markdown",
   "id": "f317248f",
   "metadata": {},
   "source": [
    "### CatBoost vs XGBoost"
   ]
  },
  {
   "cell_type": "markdown",
   "id": "59f5e92a",
   "metadata": {},
   "source": [
    "Let us see the performance of XGBoost with default hyperparameter settings."
   ]
  },
  {
   "cell_type": "code",
   "execution_count": 106,
   "id": "a4cfa0f1",
   "metadata": {},
   "outputs": [
    {
     "data": {
      "text/plain": [
       "6273.043859096154"
      ]
     },
     "execution_count": 106,
     "metadata": {},
     "output_type": "execute_result"
    }
   ],
   "source": [
    "model_xgb = xgb.XGBRFRegressor().fit(X, y)\n",
    "np.mean(-cross_val_score(xgb.XGBRFRegressor(), X, y, cv = cv, n_jobs = -1, \n",
    "                scoring='neg_root_mean_squared_error'))"
   ]
  },
  {
   "cell_type": "code",
   "execution_count": 107,
   "id": "20241c2b",
   "metadata": {},
   "outputs": [
    {
     "data": {
      "text/plain": [
       "6821.745153860935"
      ]
     },
     "execution_count": 107,
     "metadata": {},
     "output_type": "execute_result"
    }
   ],
   "source": [
    "np.sqrt(mean_squared_error(model_xgb.predict(Xtest),ytest))"
   ]
  },
  {
   "cell_type": "markdown",
   "id": "0c63ec5a",
   "metadata": {},
   "source": [
    "XGBoost performance deteriorates showing that hyperparameter tuning is more important in XGBoost."
   ]
  },
  {
   "cell_type": "markdown",
   "id": "129ddf45",
   "metadata": {},
   "source": [
    "Let us see the performance of LightGBM with default hyperparameter settings."
   ]
  },
  {
   "cell_type": "code",
   "execution_count": 112,
   "id": "9031b444",
   "metadata": {},
   "outputs": [
    {
     "data": {
      "text/plain": [
       "5562.149251902867"
      ]
     },
     "execution_count": 112,
     "metadata": {},
     "output_type": "execute_result"
    }
   ],
   "source": [
    "model_lgbm = LGBMRegressor().fit(X, y)\n",
    "np.mean(-cross_val_score(LGBMRegressor(), X, y, cv = cv, n_jobs = -1, \n",
    "                scoring='neg_root_mean_squared_error'))"
   ]
  },
  {
   "cell_type": "code",
   "execution_count": 113,
   "id": "c70cd67d",
   "metadata": {},
   "outputs": [
    {
     "data": {
      "text/plain": [
       "5494.0777923513515"
      ]
     },
     "execution_count": 113,
     "metadata": {},
     "output_type": "execute_result"
    }
   ],
   "source": [
    "np.sqrt(mean_squared_error(model_lgbm.predict(Xtest),ytest))"
   ]
  },
  {
   "cell_type": "markdown",
   "id": "02d72501",
   "metadata": {},
   "source": [
    "LightGBM's default hyperparameter settings also seem to be more robust as compared to those of XGBoost."
   ]
  },
  {
   "cell_type": "markdown",
   "id": "6c009cc0",
   "metadata": {},
   "source": [
    "### Tuning `CatBoostRegressor`\n",
    "\n",
    "The CatBoost hyperparameters can be tuned just like the XGBoost hyperparameters. However, there is some difference in the hyperparameters of both the packages. For example, `reg_alpha` *(the L1 penalization on weights of leaves)* and `colsample_bytree` *(subsample ratio of columns when constructing each tree)* hyperparameters are not there in CatBoost."
   ]
  },
  {
   "cell_type": "code",
   "execution_count": 121,
   "id": "a6403528",
   "metadata": {},
   "outputs": [
    {
     "name": "stdout",
     "output_type": "stream",
     "text": [
      "Fitting 5 folds for each of 200 candidates, totalling 1000 fits\n",
      "Optimal parameter values = {'subsample': 0.5, 'reg_lambda': 0, 'num_leaves': 40, 'n_estimators': 500, 'max_depth': 10, 'learning_rate': 0.05, 'colsample_bylevel': 0.75}\n",
      "Optimal cross validation RMSE =  -4993.129407810791\n",
      "Time taken =  23  minutes\n"
     ]
    }
   ],
   "source": [
    "#K-fold cross validation to find optimal parameters for CatBoost regressor\n",
    "start_time = time.time()\n",
    "param_grid = {'max_depth': [4,6,8, 10],\n",
    "              'num_leaves': [20, 31, 40, 60],\n",
    "              'learning_rate': [0.01, 0.05, 0.1],\n",
    "               'reg_lambda':[0, 10, 100],\n",
    "                'n_estimators':[500, 1000, 1500],\n",
    "                'subsample': [0.5, 0.75, 1.0],\n",
    "             'colsample_bylevel': [0.25, 0.5, 0.75, 1.0]}\n",
    "\n",
    "cv = KFold(n_splits=5,shuffle=True,random_state=1)\n",
    "optimal_params = RandomizedSearchCV(estimator=CatBoostRegressor(random_state=1, verbose=False, \n",
    "                            grow_policy='Lossguide'),                                                       \n",
    "                             param_distributions = param_grid, n_iter = 200,\n",
    "                             verbose = 1,random_state = 1, scoring='neg_root_mean_squared_error',\n",
    "                             n_jobs=-1,\n",
    "                             cv = cv)\n",
    "optimal_params.fit(X,y)\n",
    "print(\"Optimal parameter values =\", optimal_params.best_params_)\n",
    "print(\"Optimal cross validation RMSE = \",optimal_params.best_score_)\n",
    "print(\"Time taken = \", round((time.time()-start_time)/60), \" minutes\")"
   ]
  },
  {
   "cell_type": "code",
   "execution_count": 122,
   "id": "daa32e2f",
   "metadata": {},
   "outputs": [
    {
     "data": {
      "text/plain": [
       "5249.434282204398"
      ]
     },
     "execution_count": 122,
     "metadata": {},
     "output_type": "execute_result"
    }
   ],
   "source": [
    "#RMSE based on the optimal parameter values\n",
    "np.sqrt(mean_squared_error(optimal_params.best_estimator_.predict(Xtest),ytest))"
   ]
  },
  {
   "cell_type": "markdown",
   "id": "77739800",
   "metadata": {},
   "source": [
    "It takes 2 minutes to tune CatBoost, which is higher than LightGBM and lesser than XGBoost. CatBoost falls in between LightGBM and XGBoost in terms of speed. However, it is likely to be more accurate than XGBoost and LighGBM, and likely to require lesser tuning as compared to XGBoost."
   ]
  },
  {
   "cell_type": "code",
   "execution_count": null,
   "id": "dc5c6a7c",
   "metadata": {},
   "outputs": [],
   "source": [
    "model = CatBoostRegressor(grow_policy='Lossguide') \n",
    "\n",
    "grid = {'num_leaves': Integer(4, 64),\n",
    "              'learning_rate': Real(0.0001, 1.0),\n",
    "               'reg_lambda':Real(0, 1e4),\n",
    "                'n_estimators':Integer(2, 2000),\n",
    "                'subsample': Real(0.1,1.0),\n",
    "                'colsample_bylevel': Real(0.1, 1.0)}\n",
    "\n",
    "kfold = KFold(n_splits = 5, shuffle = True, random_state = 1)\n",
    "gcv = BayesSearchCV(model, search_spaces = grid, cv = kfold, n_iter = 200, random_state = 1,\n",
    "                         scoring = 'neg_root_mean_squared_error', n_jobs = -1)\n",
    "paras = list(gcv.search_spaces.keys())\n",
    "paras.sort()\n",
    "\n",
    "def monitor(optim_result):\n",
    "    cv_values = pd.Series(optim_result['func_vals']).cummin()\n",
    "    display.clear_output(wait = True)\n",
    "    min_ind = pd.Series(optim_result['func_vals']).argmin()\n",
    "    print(paras, \"=\", optim_result['x_iters'][min_ind], pd.Series(optim_result['func_vals']).min())\n",
    "    sns.lineplot(cv_values)\n",
    "    plt.show()\n",
    "gcv.fit(X, y, callback = monitor)"
   ]
  },
  {
   "cell_type": "code",
   "execution_count": 130,
   "id": "b1cfe485",
   "metadata": {},
   "outputs": [
    {
     "data": {
      "text/html": [
       "<img src=\"./cat_tune.png\" width=\"1000\" height=\"1000\"/>"
      ],
      "text/plain": [
       "<IPython.core.display.Image object>"
      ]
     },
     "execution_count": 130,
     "metadata": {},
     "output_type": "execute_result"
    }
   ],
   "source": [
    "#| echo: false\n",
    "\n",
    "# import image module\n",
    "from IPython.display import Image\n",
    "\n",
    "# get the image\n",
    "Image(url=\"./cat_tune.png\", height=1000, width = 1000)"
   ]
  },
  {
   "cell_type": "code",
   "execution_count": null,
   "id": "1ea20f31",
   "metadata": {},
   "outputs": [],
   "source": [
    "# Optimal values obtained\n",
    "#['colsample_bylevel', 'learning_rate', 'n_estimators', 'num_leaves', 'reg_lambda', 'subsample'] = \n",
    "#[0.3745508446405472, 0.1000958551500621, 2000, 11, 0.0, 0.3877212027881348] 5132.537839676808\n"
   ]
  },
  {
   "cell_type": "markdown",
   "id": "f55afceb",
   "metadata": {},
   "source": [
    "### Tuning Tips "
   ]
  },
  {
   "cell_type": "markdown",
   "id": "05691257",
   "metadata": {},
   "source": [
    "Check the [documentation](https://catboost.ai/en/docs/references/training-parameters/common) for some tuning tips."
   ]
  },
  {
   "cell_type": "markdown",
   "id": "dc137b70",
   "metadata": {},
   "source": [
    "1. It is not recommended to use values greater than 64 for `num_leaves`, since it can significantly slow down the training process.\n",
    "\n",
    "2. The maximum possible value of `max_depth` is 16."
   ]
  }
 ],
 "metadata": {
  "kernelspec": {
   "display_name": "Python 3 (ipykernel)",
   "language": "python",
   "name": "python3"
  },
  "language_info": {
   "codemirror_mode": {
    "name": "ipython",
    "version": 3
   },
   "file_extension": ".py",
   "mimetype": "text/x-python",
   "name": "python",
   "nbconvert_exporter": "python",
   "pygments_lexer": "ipython3",
   "version": "3.8.17"
  }
 },
 "nbformat": 4,
 "nbformat_minor": 5
}
