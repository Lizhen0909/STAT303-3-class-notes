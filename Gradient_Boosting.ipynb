{
 "cells": [
  {
   "cell_type": "raw",
   "id": "1902cbf7",
   "metadata": {},
   "source": [
    "---\n",
    "title: \"Gradient Boosting\"\n",
    "format: \n",
    "  html:\n",
    "    code-fold: false\n",
    "    toc-depth: 4\n",
    "    jupyter: python3\n",
    "---"
   ]
  },
  {
   "cell_type": "markdown",
   "id": "3cc40179",
   "metadata": {},
   "source": [
    "*Check the gradient boosting algorithm in section 10.10.2 of the book, [Elements of Statistical Learning](https://hastie.su.domains/ElemStatLearn/) before using these notes.*\n",
    "\n",
    "*Note that in this course, lecture notes are not sufficient, you must read the book for better understanding. Lecture notes are just implementing the concepts of the book on a dataset, but not explaining the concepts elaborately.*"
   ]
  },
  {
   "cell_type": "markdown",
   "id": "0b6569ab",
   "metadata": {},
   "source": [
    "## Core Hyperparameters in Gradient Boosting\n",
    "\n",
    "1. **Number of Trees** (`n_estimators`)  \n",
    "   - Use **early stopping** (via `n_iter_no_change` and `validation_fraction` in scikit-learn) to avoid overfitting.  \n",
    "   - Start with a large value (e.g., 500–1000) and let early stopping prune unnecessary trees.\n",
    "\n",
    "2. **Early Stopping**\n",
    "   \n",
    "   - Prevents overfitting by halting training once the validation performance stops improving.  \n",
    "   - Controlled using:\n",
    "     - `n_iter_no_change`: Number of rounds with no improvement before stopping (e.g., 10).\n",
    "     - `validation_fraction`: Fraction of training data reserved as internal validation set (e.g., 0.1).\n",
    "     - `tol`: Minimum improvement to be considered significant (e.g., `1e-4`).\n",
    "   - Set a large `n_estimators`, and let early stopping determine the optimal number of boosting iterations.\n",
    "\n",
    "3. **Learning Rate** (`learning_rate`)  \n",
    "   - Shrinks the contribution of each tree to improve generalization.  \n",
    "   - *Typical range*: 0.01–0.2 (lower values require more trees).\n",
    "\n",
    "4. **Tree Complexity**\n",
    "   - `max_depth`: Depth of individual trees. Start shallow (3–6) to limit overfitting.  \n",
    "   - `min_samples_split`: Minimum samples required to split a node (e.g., 10–50).  \n",
    "   - `min_samples_leaf`: Minimum samples required in a leaf node (e.g., 5–20).\n",
    "\n",
    "5. **Stochastic Gradient Boosting**\n",
    "   - `subsample`: Fraction of training data sampled per tree (e.g., 0.5–1.0).  \n",
    "   - `max_features`: Fraction/absolute number of features used per split (e.g., `sqrt(n_features)` or `0.8`).\n",
    "\n",
    "6. **Loss Function** (`loss`)\n",
    "   \n",
    "   - Matches the problem type:\n",
    "     - Regression: `squared_error`, `absolute_error`\n",
    "     - Classification: `log_loss` (binary/multinomial deviance)\n",
    "\n",
    "\n"
   ]
  },
  {
   "cell_type": "code",
   "execution_count": 12,
   "id": "f819f995",
   "metadata": {},
   "outputs": [],
   "source": [
    "import pandas as pd\n",
    "import numpy as np\n",
    "import seaborn as sns\n",
    "import matplotlib.pyplot as plt\n",
    "from sklearn.metrics import mean_squared_error\n",
    "from sklearn.model_selection import cross_val_score,train_test_split, KFold, cross_val_predict\n",
    "from sklearn.metrics import root_mean_squared_error, mean_squared_error,r2_score,roc_curve,auc,precision_recall_curve, accuracy_score, \\\n",
    "recall_score, precision_score, confusion_matrix\n",
    "from sklearn.tree import DecisionTreeRegressor,DecisionTreeClassifier\n",
    "from sklearn.model_selection import GridSearchCV, ParameterGrid, StratifiedKFold\n",
    "from sklearn.ensemble import GradientBoostingRegressor,GradientBoostingClassifier, BaggingRegressor,BaggingClassifier,RandomForestRegressor,RandomForestClassifier,AdaBoostRegressor,AdaBoostClassifier\n",
    "from sklearn.preprocessing import OneHotEncoder, FunctionTransformer\n",
    "import itertools as it\n",
    "import time as time\n",
    "\n",
    "from skopt import BayesSearchCV\n",
    "from skopt.space import Real, Categorical, Integer\n",
    "from skopt.plots import plot_objective, plot_histogram, plot_convergence\n",
    "import warnings\n",
    "from IPython import display"
   ]
  },
  {
   "cell_type": "markdown",
   "id": "8e7d6aeb",
   "metadata": {},
   "source": [
    "Let’s reuse the car dataset to evaluate how different hyperparameter settings affect the performance of gradient boosting"
   ]
  },
  {
   "cell_type": "code",
   "execution_count": 13,
   "id": "a9036ef3",
   "metadata": {},
   "outputs": [
    {
     "data": {
      "text/html": [
       "<div>\n",
       "<style scoped>\n",
       "    .dataframe tbody tr th:only-of-type {\n",
       "        vertical-align: middle;\n",
       "    }\n",
       "\n",
       "    .dataframe tbody tr th {\n",
       "        vertical-align: top;\n",
       "    }\n",
       "\n",
       "    .dataframe thead th {\n",
       "        text-align: right;\n",
       "    }\n",
       "</style>\n",
       "<table border=\"1\" class=\"dataframe\">\n",
       "  <thead>\n",
       "    <tr style=\"text-align: right;\">\n",
       "      <th></th>\n",
       "      <th>brand</th>\n",
       "      <th>model</th>\n",
       "      <th>year</th>\n",
       "      <th>transmission</th>\n",
       "      <th>mileage</th>\n",
       "      <th>fuelType</th>\n",
       "      <th>tax</th>\n",
       "      <th>mpg</th>\n",
       "      <th>engineSize</th>\n",
       "      <th>price</th>\n",
       "    </tr>\n",
       "  </thead>\n",
       "  <tbody>\n",
       "    <tr>\n",
       "      <th>0</th>\n",
       "      <td>vw</td>\n",
       "      <td>Beetle</td>\n",
       "      <td>2014</td>\n",
       "      <td>Manual</td>\n",
       "      <td>55457</td>\n",
       "      <td>Diesel</td>\n",
       "      <td>30</td>\n",
       "      <td>65.3266</td>\n",
       "      <td>1.6</td>\n",
       "      <td>7490</td>\n",
       "    </tr>\n",
       "    <tr>\n",
       "      <th>1</th>\n",
       "      <td>vauxhall</td>\n",
       "      <td>GTC</td>\n",
       "      <td>2017</td>\n",
       "      <td>Manual</td>\n",
       "      <td>15630</td>\n",
       "      <td>Petrol</td>\n",
       "      <td>145</td>\n",
       "      <td>47.2049</td>\n",
       "      <td>1.4</td>\n",
       "      <td>10998</td>\n",
       "    </tr>\n",
       "    <tr>\n",
       "      <th>2</th>\n",
       "      <td>merc</td>\n",
       "      <td>G Class</td>\n",
       "      <td>2012</td>\n",
       "      <td>Automatic</td>\n",
       "      <td>43000</td>\n",
       "      <td>Diesel</td>\n",
       "      <td>570</td>\n",
       "      <td>25.1172</td>\n",
       "      <td>3.0</td>\n",
       "      <td>44990</td>\n",
       "    </tr>\n",
       "    <tr>\n",
       "      <th>3</th>\n",
       "      <td>audi</td>\n",
       "      <td>RS5</td>\n",
       "      <td>2019</td>\n",
       "      <td>Automatic</td>\n",
       "      <td>10</td>\n",
       "      <td>Petrol</td>\n",
       "      <td>145</td>\n",
       "      <td>30.5593</td>\n",
       "      <td>2.9</td>\n",
       "      <td>51990</td>\n",
       "    </tr>\n",
       "    <tr>\n",
       "      <th>4</th>\n",
       "      <td>merc</td>\n",
       "      <td>X-CLASS</td>\n",
       "      <td>2018</td>\n",
       "      <td>Automatic</td>\n",
       "      <td>14000</td>\n",
       "      <td>Diesel</td>\n",
       "      <td>240</td>\n",
       "      <td>35.7168</td>\n",
       "      <td>2.3</td>\n",
       "      <td>28990</td>\n",
       "    </tr>\n",
       "  </tbody>\n",
       "</table>\n",
       "</div>"
      ],
      "text/plain": [
       "      brand     model  year transmission  ...  tax      mpg  engineSize  price\n",
       "0        vw    Beetle  2014       Manual  ...   30  65.3266         1.6   7490\n",
       "1  vauxhall       GTC  2017       Manual  ...  145  47.2049         1.4  10998\n",
       "2      merc   G Class  2012    Automatic  ...  570  25.1172         3.0  44990\n",
       "3      audi       RS5  2019    Automatic  ...  145  30.5593         2.9  51990\n",
       "4      merc   X-CLASS  2018    Automatic  ...  240  35.7168         2.3  28990\n",
       "\n",
       "[5 rows x 10 columns]"
      ]
     },
     "execution_count": 13,
     "metadata": {},
     "output_type": "execute_result"
    }
   ],
   "source": [
    "# Load the dataset\n",
    "car = pd.read_csv('Datasets/car.csv')\n",
    "car.head()"
   ]
  },
  {
   "cell_type": "code",
   "execution_count": 14,
   "id": "db6b5f99",
   "metadata": {},
   "outputs": [],
   "source": [
    "X = car.drop(columns=['price'])\n",
    "y = car['price']\n",
    "\n",
    "X_train, X_test, y_train, y_test = train_test_split(X, y, test_size=0.2, random_state=42)\n",
    "\n",
    "# extract the categorical columns and put them in a list\n",
    "categorical_feature = X.select_dtypes(include=['object']).columns.tolist()\n",
    "\n",
    "# extract the numerical columns and put them in a list\n",
    "numerical_feature = X.select_dtypes(include=['int64', 'float64']).columns.tolist()"
   ]
  },
  {
   "cell_type": "code",
   "execution_count": 15,
   "id": "c7d5fb7e",
   "metadata": {},
   "outputs": [],
   "source": [
    "encoder = OneHotEncoder(handle_unknown='ignore', sparse_output=False)\n",
    "\n",
    "X_train_encoded = encoder.fit_transform(X_train[categorical_feature])\n",
    "X_test_encoded = encoder.transform(X_test[categorical_feature])\n",
    "\n",
    "# Convert the encoded features back to DataFrame\n",
    "X_train_encoded_df = pd.DataFrame(X_train_encoded, columns=encoder.get_feature_names_out(categorical_feature))\n",
    "X_test_encoded_df = pd.DataFrame(X_test_encoded, columns=encoder.get_feature_names_out(categorical_feature))\n",
    "\n",
    "# Concatenate the encoded features with the original numerical features\n",
    "X_train_final = pd.concat([X_train_encoded_df, X_train[numerical_feature].reset_index(drop=True)], axis=1)\n",
    "X_test_final = pd.concat([X_test_encoded_df, X_test[numerical_feature].reset_index(drop=True)], axis=1)"
   ]
  },
  {
   "cell_type": "markdown",
   "id": "a2e35f1a",
   "metadata": {},
   "source": [
    "### Effect of Number of Trees on Cross-Validation Error\n",
    "\n",
    "Effect of Number of Trees on Cross-Validation Error\n",
    "In Gradient Boosting, the number of trees (`n_estimators`) controls how many boosting rounds the model performs. Adding more trees can reduce bias and improve training accuracy, but it also increases the risk of overfitting, especially with a high learning rate.\n",
    "\n",
    "The optimal number of trees is often found by balancing **model complexity** and **generalization performance** using cross-validation."
   ]
  },
  {
   "cell_type": "code",
   "execution_count": 35,
   "id": "452c9c3a",
   "metadata": {},
   "outputs": [
    {
     "name": "stdout",
     "output_type": "stream",
     "text": [
      ">2 14769.612 (563.444)\n",
      ">5 12572.047 (567.992)\n",
      ">10 10383.351 (555.641)\n",
      ">50 6549.576 (722.462)\n",
      ">100 5232.949 (656.216)\n",
      ">500 3419.467 (262.753)\n",
      ">1000 3106.002 (184.799)\n",
      ">2000 3194.874 (293.134)\n",
      ">5000 3272.374 (380.296)\n"
     ]
    },
    {
     "data": {
      "image/png": "[encoded data removed]",
      "text/plain": [
       "<Figure size 640x480 with 1 Axes>"
      ]
     },
     "metadata": {},
     "output_type": "display_data"
    }
   ],
   "source": [
    "def get_models():\n",
    "    models = dict()\n",
    "    # define number of trees to consider\n",
    "    n_trees = [2, 5, 10, 50, 100, 500, 1000, 2000, 5000]\n",
    "    for n in n_trees:\n",
    "        models[str(n)] = GradientBoostingRegressor(n_estimators=n,random_state=1,loss='huber')\n",
    "    return models\n",
    "\n",
    "# evaluate a given model using cross-validation\n",
    "def evaluate_model(model, X, y):\n",
    "    # define the evaluation procedure\n",
    "    cv = KFold(n_splits=5, shuffle=True, random_state=1)\n",
    "    # evaluate the model and collect the results\n",
    "    scores = np.sqrt(-cross_val_score(model, X, y, scoring='neg_mean_squared_error', cv=cv, n_jobs=-1))\n",
    "    return scores\n",
    "\n",
    "# get the models to evaluate\n",
    "models = get_models()\n",
    "# evaluate the models and store results\n",
    "results, names = list(), list()\n",
    "for name, model in models.items():\n",
    "    # evaluate the model\n",
    "    scores = evaluate_model(model, X_train_final, y_train)\n",
    "    # store the results\n",
    "    results.append(scores)\n",
    "    names.append(name)\n",
    "    # summarize the performance along the way\n",
    "    print('>%s %.3f (%.3f)' % (name, np.mean(scores), np.std(scores)))\n",
    "# plot model performance for comparison\n",
    "plt.boxplot(results, labels=names, showmeans=True)\n",
    "plt.ylabel('Cross validation error',fontsize=15)\n",
    "plt.xlabel('Number of trees',fontsize=15);"
   ]
  },
  {
   "cell_type": "markdown",
   "id": "9d9a4954",
   "metadata": {},
   "source": [
    "### Early stopping in Gradient Boosting \n",
    "\n",
    "**Early stopping** is a regularization technique used to prevent overfitting in boosting models. Instead of specifying a fixed number of trees (`n_estimators`), the algorithm monitors performance on a **validation set** and stops adding new trees once the model's improvement has plateaued.\n",
    "\n",
    "In scikit-learn, early stopping can be enabled using:\n",
    "- `early_stopping=True`\n",
    "- `validation_fraction`: The fraction of training data used as a validation set\n",
    "- `n_iter_no_change`: Number of iterations to wait without improvement before stopping\n",
    "\n",
    "This approach not only improves generalization but also reduces training time by avoiding unnecessary trees."
   ]
  },
  {
   "cell_type": "code",
   "execution_count": null,
   "id": "2231df15",
   "metadata": {},
   "outputs": [],
   "source": [
    "params = dict(n_estimators=2000, max_depth=5, learning_rate=0.1, random_state=42)\n",
    "\n",
    "gbm_full = GradientBoostingRegressor(**params)\n",
    "gbm_early_stopping = GradientBoostingRegressor(\n",
    "    **params,\n",
    "    validation_fraction=0.1,\n",
    "    n_iter_no_change=10,\n",
    ")\n",
    "\n",
    "start_time = time.time()\n",
    "gbm_full.fit(X_train_final, y_train)\n",
    "training_time_full = time.time() - start_time\n",
    "n_estimators_full = gbm_full.n_estimators_\n",
    "\n",
    "start_time = time.time()\n",
    "gbm_early_stopping.fit(X_train_final, y_train)\n",
    "training_time_early_stopping = time.time() - start_time\n",
    "estimators_early_stopping = gbm_early_stopping.n_estimators_"
   ]
  },
  {
   "cell_type": "markdown",
   "id": "2369d371",
   "metadata": {},
   "source": [
    "Let’s calculate the RMSE on both the training and test datasets for each model, which will be used for later visualization."
   ]
  },
  {
   "cell_type": "code",
   "execution_count": null,
   "id": "cabba68f",
   "metadata": {},
   "outputs": [],
   "source": [
    "# import root mean squared error function\n",
    "from sklearn.metrics import root_mean_squared_error\n",
    "\n",
    "train_errors_without = []\n",
    "test_errors_without = []\n",
    "\n",
    "train_errors_with = []\n",
    "test_errors_with = []\n",
    "\n",
    "for i, (train_pred, test_pred) in enumerate(\n",
    "    zip(\n",
    "        gbm_full.staged_predict(X_train_final),\n",
    "        gbm_full.staged_predict(X_test_final),\n",
    "    )\n",
    "):\n",
    "    train_errors_without.append(root_mean_squared_error(y_train, train_pred))\n",
    "    test_errors_without.append(root_mean_squared_error(y_test, test_pred))\n",
    "\n",
    "for i, (train_pred, test_pred) in enumerate(\n",
    "    zip(\n",
    "        gbm_early_stopping.staged_predict(X_train_final),\n",
    "        gbm_early_stopping.staged_predict(X_test_final),\n",
    "    )\n",
    "):\n",
    "    train_errors_with.append(root_mean_squared_error(y_train, train_pred))\n",
    "    test_errors_with.append(root_mean_squared_error(y_test, test_pred))"
   ]
  },
  {
   "cell_type": "markdown",
   "id": "b0a69f21",
   "metadata": {},
   "source": [
    "Let's visulize Comparison. It includes three subplots:\n",
    "\n",
    "1. Plotting training errors of both models over boosting iterations.\n",
    "2. Plotting test errors of both models over boosting iterations.\n",
    "3. Creating a bar chart to compare the training times and the number of estimators used by the models with and without early stopping."
   ]
  },
  {
   "cell_type": "code",
   "execution_count": null,
   "id": "784add04",
   "metadata": {},
   "outputs": [
    {
     "data": {
      "image/png": "[encoded data removed]",
      "text/plain": [
       "<Figure size 1200x400 with 3 Axes>"
      ]
     },
     "metadata": {},
     "output_type": "display_data"
    }
   ],
   "source": [
    "fig, axes = plt.subplots(ncols=3, figsize=(12, 4))\n",
    "\n",
    "axes[0].plot(train_errors_without, label=\"gbm_full\")\n",
    "axes[0].plot(train_errors_with, label=\"gbm_early_stopping\")\n",
    "axes[0].set_xlabel(\"Boosting Iterations\")\n",
    "axes[0].set_ylabel(\"RMSE (Training)\")\n",
    "axes[0].set_yscale(\"log\")\n",
    "axes[0].legend()\n",
    "axes[0].set_title(\"Training Error\")\n",
    "\n",
    "axes[1].plot(test_errors_without, label=\"gbm_full\")\n",
    "axes[1].plot(test_errors_with, label=\"gbm_early_stopping\")\n",
    "axes[1].set_xlabel(\"Boosting Iterations\")\n",
    "axes[1].set_ylabel(\"RMSE (Test)\")\n",
    "axes[1].set_yscale(\"log\")\n",
    "axes[1].legend()\n",
    "axes[1].set_title(\"Test Error\")\n",
    "\n",
    "training_times = [training_time_full, training_time_early_stopping]\n",
    "labels = [\"gbm_full\", \"gbm_early_stopping\"]\n",
    "bars = axes[2].bar(labels, training_times)\n",
    "axes[2].set_ylabel(\"Training Time (s)\")\n",
    "\n",
    "for bar, n_estimators in zip(bars, [n_estimators_full, estimators_early_stopping]):\n",
    "    height = bar.get_height()\n",
    "    axes[2].text(\n",
    "        bar.get_x() + bar.get_width() / 2,\n",
    "        height + 0.001,\n",
    "        f\"Estimators: {n_estimators}\",\n",
    "        ha=\"center\",\n",
    "        va=\"bottom\",\n",
    "    )\n",
    "\n",
    "plt.tight_layout()\n",
    "plt.show()"
   ]
  },
  {
   "cell_type": "markdown",
   "id": "ce10fd94",
   "metadata": {},
   "source": [
    "The difference in training error between the `gbm_full` and the `gbm_early_stopping` stems from the fact that  \n",
    "`gbm_early_stopping` sets aside `validation_fraction` of the training data as an internal validation set.  \n",
    "\n",
    "Early stopping is decided based on this internal validation score.\n"
   ]
  },
  {
   "cell_type": "markdown",
   "id": "9a156dd2",
   "metadata": {},
   "source": [
    "**Benefits of Using Early Stopping in Boosting:**\n",
    "\n",
    "- **Preventing Overfitting**  \n",
    "  Early stopping helps avoid overfitting by monitoring the test error.  \n",
    "  When the error stabilizes or starts increasing, training stops — resulting in better generalization to unseen data.\n",
    "\n",
    "- **Improving Training Efficiency**  \n",
    "  Models with early stopping often require **fewer estimators** while achieving similar accuracy.  \n",
    "  This reduces training time significantly compared to training without early stopping."
   ]
  },
  {
   "cell_type": "markdown",
   "id": "4d832e44",
   "metadata": {},
   "source": [
    "### Effect of Learning Rate on Cross-Validation Error\n",
    "\n",
    "The learning rate (`learning_rate`) determines how much each new tree contributes to the overall model. A **smaller learning rate** results in slower learning and often requires more trees to achieve good performance. A **larger learning rate** speeds up learning but increases the risk of overfitting.\n",
    "\n",
    "Finding the optimal learning rate involves balancing:\n",
    "- **High learning rate** → faster convergence, but higher risk of overfitting  \n",
    "- **Low learning rate** → better generalization, but requires more trees and longer training time\n",
    "\n",
    "Cross-validation helps identify the learning rate that minimizes prediction error while ensuring model stability."
   ]
  },
  {
   "cell_type": "code",
   "execution_count": null,
   "id": "3553d5cc",
   "metadata": {},
   "outputs": [
    {
     "name": "stdout",
     "output_type": "stream",
     "text": [
      ">0.20 4193.7 (301.2)\n",
      ">0.30 3740.3 (306.3)\n",
      ">0.40 3630.0 (212.2)\n",
      ">0.50 3529.6 (181.5)\n",
      ">0.60 3650.2 (169.0)\n",
      ">0.70 3644.7 (142.5)\n",
      ">0.80 3908.9 (260.6)\n",
      ">0.90 3968.7 (201.1)\n",
      ">1.00 4208.3 (368.5)\n"
     ]
    },
    {
     "data": {
      "image/png": "[encoded data removed]",
      "text/plain": [
       "<Figure size 1000x700 with 1 Axes>"
      ]
     },
     "metadata": {},
     "output_type": "display_data"
    },
    {
     "name": "stdout",
     "output_type": "stream",
     "text": [
      "\n",
      "Best model: 0.50 with RMSE: 3529.563\n"
     ]
    }
   ],
   "source": [
    "def get_models():\n",
    "    models = dict()\n",
    "    # create 9 evenly spaced values between 0.2 and 1.0\n",
    "    learning_rates = np.linspace(0.2, 1.0, 9)\n",
    "    for learning_rate in learning_rates:\n",
    "        # Round to 2 decimal places for clean keys\n",
    "        lr_rounded = round(learning_rate, 2)\n",
    "        key = f\"{lr_rounded:.2f}\"\n",
    "        models[key] = GradientBoostingRegressor(learning_rate=lr_rounded, random_state=1, loss='huber')\n",
    "    return models\n",
    "\n",
    "# evaluate a given model using cross-validation\n",
    "def evaluate_model(model, X, y):\n",
    "    # define the evaluation procedure\n",
    "    cv = KFold(n_splits=5, shuffle=True, random_state=1)\n",
    "    # evaluate the model and collect the results\n",
    "    scores = np.sqrt(-cross_val_score(model, X, y, scoring='neg_mean_squared_error', cv=cv, n_jobs=-1))\n",
    "    return scores\n",
    "\n",
    "# get the models to evaluate\n",
    "models = get_models()\n",
    "\n",
    "# evaluate the models and store results\n",
    "results, names = list(), list()\n",
    "mean_scores = []  # Track mean scores separately\n",
    "\n",
    "for name, model in models.items():\n",
    "    # evaluate the model\n",
    "    scores = evaluate_model(model, X_train_final, y_train)\n",
    "    # store the results\n",
    "    results.append(scores)\n",
    "    names.append(name)\n",
    "    # Calculate and store mean score\n",
    "    mean_score = np.mean(scores)\n",
    "    mean_scores.append(mean_score)\n",
    "    # summarize the performance along the way\n",
    "    print('>%s %.1f (%.1f)' % (name, mean_score, np.std(scores)))\n",
    "\n",
    "# plot model performance for comparison\n",
    "plt.figure(figsize=(10, 7))\n",
    "plt.boxplot(results, labels=names, showmeans=True)\n",
    "plt.ylabel('Cross validation error', fontsize=15)\n",
    "plt.xlabel('Learning rate', fontsize=15)\n",
    "plt.title('Model Performance by Learning Rate', fontsize=16)\n",
    "plt.grid(True, linestyle='--', alpha=0.7)\n",
    "\n",
    "# Find the best model using the saved mean scores\n",
    "best_index = np.argmin(mean_scores)\n",
    "best_lr = names[best_index]\n",
    "best_score = mean_scores[best_index]\n",
    "\n",
    "# Highlight the best model on the plot\n",
    "plt.axvline(x=best_index+1, color='red', linestyle='--', alpha=0.7)\n",
    "plt.text(best_index+1.2, min(mean_scores)*0.95, \n",
    "         f'Best: {best_lr} (RMSE: {best_score:.1f})', \n",
    "         color='red', fontweight='bold')\n",
    "\n",
    "plt.show()\n",
    "\n",
    "# Print the best model information\n",
    "print(f\"\\nBest model: {best_lr} with RMSE: {best_score:.3f}\")\n"
   ]
  },
  {
   "cell_type": "markdown",
   "id": "de478d28",
   "metadata": {},
   "source": [
    "###  Learning Rate and Number of Trees Are Closely Linked\n",
    "\n",
    "The **learning rate** and **number of trees** (`n_estimators`) are tightly coupled hyperparameters in gradient boosting. Their balance plays a key role in model performance and overfitting control.\n",
    "\n",
    "- A **lower learning rate** slows the learning process, requiring **more trees** to achieve strong performance.\n",
    "- A **higher learning rate** speeds up training but may cause the model to **overfit** if not regularized properly.\n",
    "\n",
    "⚠️ A high learning rate with too few trees can lead to poor generalization, while a very low learning rate with too many trees may improve accuracy but increase training time significantly.\n",
    "\n",
    "**Best practice:** Use a low to moderate learning rate (e.g., `0.01`–`0.1`) combined with **early stopping** to find the optimal number of trees.\n",
    "\n",
    "\n",
    "\n"
   ]
  },
  {
   "cell_type": "markdown",
   "id": "c5be962e",
   "metadata": {},
   "source": [
    "### Effect of Stochastic Gradient Boosting on Cross-Validation Error\n",
    "\n",
    "**Stochastic Gradient Boosting** enhances generalization by introducing randomness into the model-building process. Two key hyperparameters that control this are `subsample` and `max_features`, and they operate on **different dimensions** of the data:\n",
    "\n",
    "| Parameter      | Applies To            | Purpose                                                                 |\n",
    "|----------------|-----------------------|-------------------------------------------------------------------------|\n",
    "| `subsample`    | Rows (data points)    | Randomly samples a fraction of the training data for each tree          |\n",
    "| `max_features` | Columns (features)    | Randomly samples a fraction of the features for each tree or split      |\n",
    "\n",
    "By tuning these parameters, we can reduce overfitting and increase model robustness. However, setting them too low may lead to underfitting due to insufficient information per tree.\n",
    "\n"
   ]
  },
  {
   "cell_type": "code",
   "execution_count": null,
   "id": "e06e6340",
   "metadata": {},
   "outputs": [
    {
     "name": "stdout",
     "output_type": "stream",
     "text": [
      "Fitting 5 folds for each of 81 candidates, totalling 405 fits\n"
     ]
    }
   ],
   "source": [
    "from sklearn.metrics import make_scorer, mean_squared_error\n",
    "\n",
    "# Define model\n",
    "model = GradientBoostingRegressor(n_estimators=100, max_depth=4, learning_rate=0.1, random_state=1)\n",
    "\n",
    "# Define param grid\n",
    "param_grid = {\n",
    "    'subsample': np.linspace(0.2, 1.0, 9),\n",
    "    'max_features': np.linspace(0.2, 1.0, 9)\n",
    "}\n",
    "\n",
    "# RMSE scoring\n",
    "scorer = make_scorer(mean_squared_error, greater_is_better=False)\n",
    "\n",
    "# Grid search\n",
    "grid = GridSearchCV(estimator=model, param_grid=param_grid,\n",
    "                    scoring=scorer, cv=5, n_jobs=-1, verbose=1)\n",
    "grid.fit(X_train_final, y_train)\n",
    "\n",
    "# Create DataFrame from results\n",
    "results_df = pd.DataFrame(grid.cv_results_)\n",
    "results_df['mean_rmse'] = np.sqrt(-results_df['mean_test_score'])\n"
   ]
  },
  {
   "cell_type": "code",
   "execution_count": null,
   "id": "9cd37cec",
   "metadata": {},
   "outputs": [
    {
     "data": {
      "image/png": "[encoded data removed]",
      "text/plain": [
       "<Figure size 1200x900 with 2 Axes>"
      ]
     },
     "metadata": {},
     "output_type": "display_data"
    }
   ],
   "source": [
    "# Round subsample and max_features to 2 decimal places for display\n",
    "results_df['subsample'] = results_df['param_subsample'].astype(float).round(2)\n",
    "results_df['max_features'] = results_df['param_max_features'].astype(float).round(2)\n",
    "\n",
    "# Then pivot using the rounded values\n",
    "heatmap_data = results_df.pivot(index='subsample', columns='max_features', values='mean_rmse')\n",
    "\n",
    "# Plot heatmap\n",
    "plt.figure(figsize=(12, 9))\n",
    "sns.heatmap(heatmap_data, annot=True, fmt=\".3f\", cmap=\"YlGnBu\", cbar_kws={'label': 'CV RMSE'})\n",
    "plt.title('Grid Search: CV RMSE by Subsample and Max Features')\n",
    "plt.ylabel('Subsample')\n",
    "plt.xlabel('Max Features')\n",
    "plt.tight_layout()\n",
    "plt.show()"
   ]
  },
  {
   "cell_type": "markdown",
   "id": "a7e6a828",
   "metadata": {},
   "source": [
    "### Effect of Tree Complexity on Cross-Validation Error (Not Tuned Here)\n",
    "\n",
    "**Tree complexity** controls how expressive and flexible each individual tree in the gradient boosting ensemble can be. While deeper and more complex trees can capture intricate patterns in the data, they are also more prone to overfitting, especially when combined with many trees.\n",
    "\n",
    "Key parameters include:\n",
    "\n",
    "- `max_depth`: Limits the depth of each tree. Shallower trees (e.g., depth 3–6) are preferred for reducing overfitting.\n",
    "- `min_samples_split`: Specifies the minimum number of samples required to split an internal node. Higher values make the tree more conservative.\n",
    "- `min_samples_leaf`: Sets the minimum number of samples required to be at a leaf node. This also helps smooth the model and avoid capturing noise.\n",
    "\n",
    "These parameters influence the bias-variance trade-off by adjusting how expressive each tree can be.\n",
    "\n",
    "Since we have already discussed and tuned these parameters in earlier lessons (decision trees and random forests), we will **not tune them again here**. "
   ]
  },
  {
   "cell_type": "markdown",
   "id": "8baccae7",
   "metadata": {},
   "source": [
    "### Loss Function (`loss`)\n",
    "\n",
    "In gradient boosting, the loss function determines how the model measures prediction errors and guides the optimization process during training. Here’s a breakdown of common loss functions for regression and classification tasks:\n",
    "\n",
    "- **Regression**:\n",
    "  - `squared_error`: Penalizes larger errors more heavily; sensitive to outliers. *(Default for regression)*\n",
    "  - `absolute_error`: Penalizes all errors equally; more robust to outliers.\n",
    "  - `huber`: Combines squared and absolute error; less sensitive to outliers than `squared_error` and smoother than `absolute_error`.\n",
    "\n",
    "- **Classification**:\n",
    "  - `log_loss`: Also known as logistic loss or deviance; commonly used for binary and multiclass classification.\n",
    "  - `exponential`: Used by AdaBoost; heavily penalizes misclassified points, making it more sensitive to outliers.\n",
    "\n",
    "\n",
    "Choosing an appropriate loss function ensures the model is optimized for the specific structure and goals of the problem."
   ]
  },
  {
   "cell_type": "markdown",
   "id": "fcf3d7a2",
   "metadata": {},
   "source": [
    "## Joint Hyperparameter Tuning in Gradient Boosting for Regression\n",
    "\n",
    "Since the optimal values of hyperparameters are often interdependent, they should be tuned **together** rather than in isolation to achieve the best performance.\n",
    "\n",
    "### Using `BayesSearchCV`\n",
    "\n",
    "We can use `BayesSearchCV` with early stopping to **simultaneously tune multiple hyperparameters** in a more efficient and automated way."
   ]
  },
  {
   "cell_type": "code",
   "execution_count": 27,
   "id": "65054b73",
   "metadata": {},
   "outputs": [
    {
     "name": "stdout",
     "output_type": "stream",
     "text": [
      "Fitting 5 folds for each of 1 candidates, totalling 5 fits\n",
      "Fitting 5 folds for each of 1 candidates, totalling 5 fits\n",
      "Fitting 5 folds for each of 1 candidates, totalling 5 fits\n",
      "Fitting 5 folds for each of 1 candidates, totalling 5 fits\n",
      "Fitting 5 folds for each of 1 candidates, totalling 5 fits\n",
      "Fitting 5 folds for each of 1 candidates, totalling 5 fits\n",
      "Fitting 5 folds for each of 1 candidates, totalling 5 fits\n",
      "Fitting 5 folds for each of 1 candidates, totalling 5 fits\n",
      "Fitting 5 folds for each of 1 candidates, totalling 5 fits\n",
      "Fitting 5 folds for each of 1 candidates, totalling 5 fits\n",
      "Fitting 5 folds for each of 1 candidates, totalling 5 fits\n",
      "Fitting 5 folds for each of 1 candidates, totalling 5 fits\n",
      "Fitting 5 folds for each of 1 candidates, totalling 5 fits\n",
      "Fitting 5 folds for each of 1 candidates, totalling 5 fits\n",
      "Fitting 5 folds for each of 1 candidates, totalling 5 fits\n",
      "Fitting 5 folds for each of 1 candidates, totalling 5 fits\n",
      "Fitting 5 folds for each of 1 candidates, totalling 5 fits\n",
      "Fitting 5 folds for each of 1 candidates, totalling 5 fits\n",
      "Fitting 5 folds for each of 1 candidates, totalling 5 fits\n",
      "Fitting 5 folds for each of 1 candidates, totalling 5 fits\n",
      "Fitting 5 folds for each of 1 candidates, totalling 5 fits\n",
      "Fitting 5 folds for each of 1 candidates, totalling 5 fits\n",
      "Fitting 5 folds for each of 1 candidates, totalling 5 fits\n",
      "Fitting 5 folds for each of 1 candidates, totalling 5 fits\n",
      "Fitting 5 folds for each of 1 candidates, totalling 5 fits\n",
      "Fitting 5 folds for each of 1 candidates, totalling 5 fits\n",
      "Fitting 5 folds for each of 1 candidates, totalling 5 fits\n",
      "Fitting 5 folds for each of 1 candidates, totalling 5 fits\n",
      "Fitting 5 folds for each of 1 candidates, totalling 5 fits\n",
      "Fitting 5 folds for each of 1 candidates, totalling 5 fits\n",
      "Fitting 5 folds for each of 1 candidates, totalling 5 fits\n",
      "Fitting 5 folds for each of 1 candidates, totalling 5 fits\n",
      "Fitting 5 folds for each of 1 candidates, totalling 5 fits\n",
      "Fitting 5 folds for each of 1 candidates, totalling 5 fits\n",
      "Fitting 5 folds for each of 1 candidates, totalling 5 fits\n",
      "Fitting 5 folds for each of 1 candidates, totalling 5 fits\n",
      "Fitting 5 folds for each of 1 candidates, totalling 5 fits\n",
      "Fitting 5 folds for each of 1 candidates, totalling 5 fits\n",
      "Fitting 5 folds for each of 1 candidates, totalling 5 fits\n",
      "Fitting 5 folds for each of 1 candidates, totalling 5 fits\n",
      "Fitting 5 folds for each of 1 candidates, totalling 5 fits\n",
      "Fitting 5 folds for each of 1 candidates, totalling 5 fits\n",
      "Fitting 5 folds for each of 1 candidates, totalling 5 fits\n",
      "Fitting 5 folds for each of 1 candidates, totalling 5 fits\n",
      "Fitting 5 folds for each of 1 candidates, totalling 5 fits\n",
      "Fitting 5 folds for each of 1 candidates, totalling 5 fits\n",
      "Fitting 5 folds for each of 1 candidates, totalling 5 fits\n",
      "Fitting 5 folds for each of 1 candidates, totalling 5 fits\n",
      "Fitting 5 folds for each of 1 candidates, totalling 5 fits\n",
      "Fitting 5 folds for each of 1 candidates, totalling 5 fits\n",
      "Elapsed time for Bayesian optimization with early stopping: 10.24 minutes\n",
      "Best Parameters: OrderedDict({'learning_rate': 0.01, 'max_depth': 32, 'max_features': 0.6, 'min_samples_leaf': 1, 'min_samples_split': 2, 'subsample': 0.302790110221997})\n",
      "Best CV RMSE: 3142.483\n"
     ]
    }
   ],
   "source": [
    "# time the search\n",
    "start = time.time()\n",
    "# Define the search space\n",
    "search_space = {\n",
    "    'learning_rate': Real(0.01, 0.8, prior='log-uniform'),  # Prefer lower rates\n",
    "    'max_depth': Integer(4, 32),          # Shallow trees to prevent overfitting\n",
    "    'min_samples_split': Integer(2, 100), # Regularize splits\n",
    "    'min_samples_leaf': Integer(1, 30),  # Regularize leaves\n",
    "    'subsample': Real(0.1, 1.0),         # Stochastic sampling\n",
    "    'max_features': Categorical([\n",
    "        'sqrt', 'log2', None,  # String options\n",
    "        0.1, 0.2, 0.3, 0.4, 0.5, 0.6, 0.7, 0.8, 0.9  # Fractional options (discrete)\n",
    "    ])  # Feature sampling\n",
    "}\n",
    "\n",
    "# Define the model\n",
    "model_with_early_stopping = GradientBoostingRegressor(\n",
    "    n_estimators=10000,  # Start with a large number of trees\n",
    "    validation_fraction=0.1,  # Reserve 10% of training data for validation\n",
    "    n_iter_no_change=10,      # Stop after 20 rounds of no improvement\n",
    "    tol=0.001,           # Tolerance for early stopping\n",
    "    random_state=42\n",
    ")\n",
    "# Define the search\n",
    "bayes_cv  = BayesSearchCV(\n",
    "    model_with_early_stopping,\n",
    "    search_space,\n",
    "    n_iter=50,  # Number of iterations\n",
    "    scoring='neg_mean_squared_error',\n",
    "    cv=5,  # Cross-validation folds\n",
    "    n_jobs=-1,  # Use all available cores\n",
    "    verbose=1,  # Verbosity level\n",
    "    random_state=42  # For reproducibility\n",
    ")\n",
    "# Fit the model\n",
    "bayes_cv.fit(X_train_final, y_train)\n",
    "# Stop the timer\n",
    "end = time.time()\n",
    "# Calculate elapsed time\n",
    "elapsed_time = (end - start)/60  # Convert to minutes\n",
    "# Print elapsed time\n",
    "print(f\"Elapsed time for Bayesian optimization with early stopping: {elapsed_time:.2f} minutes\")\n",
    "\n",
    "# Extract the best parameters and score\n",
    "best_params = bayes_cv.best_params_\n",
    "best_score = np.sqrt(-bayes_cv.best_score_)\n",
    "\n",
    "print(f\"Best Parameters: {best_params}\")\n",
    "print(f\"Best CV RMSE: {best_score:.3f}\")"
   ]
  },
  {
   "cell_type": "code",
   "execution_count": 28,
   "id": "a7695e37",
   "metadata": {},
   "outputs": [
    {
     "data": {
      "image/png": "[encoded data removed]",
      "text/plain": [
       "<Figure size 640x480 with 1 Axes>"
      ]
     },
     "metadata": {},
     "output_type": "display_data"
    }
   ],
   "source": [
    "# Plot the optimization results\n",
    "plot_convergence(bayes_cv.optimizer_results_);"
   ]
  },
  {
   "cell_type": "code",
   "execution_count": 29,
   "id": "6c1d110e",
   "metadata": {},
   "outputs": [
    {
     "data": {
      "image/png": "[encoded data removed]",
      "text/plain": [
       "<Figure size 1200x1200 with 37 Axes>"
      ]
     },
     "metadata": {},
     "output_type": "display_data"
    }
   ],
   "source": [
    "# Plot the objective function\n",
    "plot_objective(bayes_cv.optimizer_results_[0])\n",
    "plt.title('Bayesian Optimization: Objective Function')\n",
    "plt.xlabel('Parameter Value')\n",
    "plt.ylabel('Objective Value (RMSE)')\n",
    "plt.show()\n"
   ]
  },
  {
   "cell_type": "markdown",
   "id": "b247ab70",
   "metadata": {},
   "source": [
    "### Tuning with Optuna"
   ]
  },
  {
   "cell_type": "code",
   "execution_count": 30,
   "id": "681af397",
   "metadata": {},
   "outputs": [],
   "source": [
    "def objective(trial):\n",
    "    # Define hyperparameters to optimize\n",
    "    params = {\n",
    "        'learning_rate': trial.suggest_float('learning_rate', 0.01, 0.8, log=True),\n",
    "        'max_depth': trial.suggest_int('max_depth', 4, 32),\n",
    "        'min_samples_split': trial.suggest_int('min_samples_split', 2, 100),\n",
    "        'min_samples_leaf': trial.suggest_int('min_samples_leaf', 1, 30),\n",
    "        'subsample': trial.suggest_float('subsample', 0.1, 1.0),\n",
    "        'max_features': trial.suggest_categorical(\n",
    "            'max_features', \n",
    "            ['sqrt', 'log2', None, 0.1, 0.2, 0.3, 0.4, 0.5, 0.6, 0.7, 0.8, 0.9]\n",
    "        ),\n",
    "        'n_iter_no_change': 10,  # Stop if no improvement in 50 rounds\n",
    "        'validation_fraction': 0.1,  # 10% of training data for validation\n",
    "        'tol': 0.001,  # Tolerance for early stopping\n",
    "        'n_estimators': 10000,  # Start with a large number of trees\n",
    "        'random_state': 42\n",
    "    }\n",
    "\n",
    "    # Initialize the model with the parameters, adding early stopping\n",
    "    model = GradientBoostingRegressor(\n",
    "        **params\n",
    "    )\n",
    "    model = GradientBoostingRegressor(**params)\n",
    "    # Define the evaluation procedure\n",
    "    cv = KFold(n_splits=5, shuffle=True, random_state=1)\n",
    "    # Perform cross-validation\n",
    "    scores = cross_val_score(model, X_train_final, y_train, cv=cv, scoring='neg_mean_squared_error', n_jobs=-1)\n",
    "    return np.mean(np.sqrt(-scores)) \n"
   ]
  },
  {
   "cell_type": "code",
   "execution_count": 31,
   "id": "0fb4bec0",
   "metadata": {},
   "outputs": [
    {
     "name": "stderr",
     "output_type": "stream",
     "text": [
      "[I 2025-05-06 17:02:10,428] A new study created in memory with name: no-name-a137b8c9-3b60-46c9-a520-903b610148de\n",
      "[I 2025-05-06 17:02:29,091] Trial 0 finished with value: 3713.7523573640283 and parameters: {'learning_rate': 0.02248358344580717, 'max_depth': 14, 'min_samples_split': 84, 'min_samples_leaf': 10, 'subsample': 0.9198945421607535, 'max_features': 0.8}. Best is trial 0 with value: 3713.7523573640283.\n",
      "[I 2025-05-06 17:02:30,785] Trial 1 finished with value: 4709.295547981693 and parameters: {'learning_rate': 0.021255444625248174, 'max_depth': 12, 'min_samples_split': 44, 'min_samples_leaf': 7, 'subsample': 0.1707682907352387, 'max_features': 0.4}. Best is trial 0 with value: 3713.7523573640283.\n",
      "[I 2025-05-06 17:02:31,180] Trial 2 finished with value: 6213.951571057093 and parameters: {'learning_rate': 0.257260645216299, 'max_depth': 16, 'min_samples_split': 51, 'min_samples_leaf': 28, 'subsample': 0.254712411062096, 'max_features': 'log2'}. Best is trial 0 with value: 3713.7523573640283.\n",
      "[I 2025-05-06 17:02:31,883] Trial 3 finished with value: 6581.2879973994595 and parameters: {'learning_rate': 0.039685822132341286, 'max_depth': 8, 'min_samples_split': 100, 'min_samples_leaf': 23, 'subsample': 0.10645669656397064, 'max_features': 0.7}. Best is trial 0 with value: 3713.7523573640283.\n",
      "[I 2025-05-06 17:02:32,144] Trial 4 finished with value: 5363.950030465088 and parameters: {'learning_rate': 0.3455781519918328, 'max_depth': 17, 'min_samples_split': 77, 'min_samples_leaf': 6, 'subsample': 0.12865977500830594, 'max_features': 0.3}. Best is trial 0 with value: 3713.7523573640283.\n",
      "[I 2025-05-06 17:02:32,430] Trial 5 finished with value: 4845.887213572036 and parameters: {'learning_rate': 0.4565662155241608, 'max_depth': 26, 'min_samples_split': 83, 'min_samples_leaf': 2, 'subsample': 0.15850689303953563, 'max_features': 0.4}. Best is trial 0 with value: 3713.7523573640283.\n",
      "[I 2025-05-06 17:02:33,509] Trial 6 finished with value: 4571.976448159823 and parameters: {'learning_rate': 0.10735415192791704, 'max_depth': 17, 'min_samples_split': 8, 'min_samples_leaf': 14, 'subsample': 0.27035383258765106, 'max_features': 0.6}. Best is trial 0 with value: 3713.7523573640283.\n",
      "[I 2025-05-06 17:02:37,056] Trial 7 finished with value: 3877.957199433686 and parameters: {'learning_rate': 0.02247133609163658, 'max_depth': 16, 'min_samples_split': 56, 'min_samples_leaf': 14, 'subsample': 0.6650860961577256, 'max_features': 'log2'}. Best is trial 0 with value: 3713.7523573640283.\n",
      "[I 2025-05-06 17:02:43,003] Trial 8 finished with value: 4569.273660258111 and parameters: {'learning_rate': 0.06107251708354381, 'max_depth': 31, 'min_samples_split': 25, 'min_samples_leaf': 28, 'subsample': 0.5318799842701212, 'max_features': 0.6}. Best is trial 0 with value: 3713.7523573640283.\n",
      "[I 2025-05-06 17:02:45,166] Trial 9 finished with value: 3698.820690997482 and parameters: {'learning_rate': 0.2976093956967727, 'max_depth': 19, 'min_samples_split': 66, 'min_samples_leaf': 11, 'subsample': 0.684007192168673, 'max_features': 0.4}. Best is trial 9 with value: 3698.820690997482.\n",
      "[I 2025-05-06 17:02:51,446] Trial 10 finished with value: 3732.1319915304725 and parameters: {'learning_rate': 0.14857584264946835, 'max_depth': 23, 'min_samples_split': 65, 'min_samples_leaf': 19, 'subsample': 0.9764359841828532, 'max_features': 0.9}. Best is trial 9 with value: 3698.820690997482.\n",
      "[I 2025-05-06 17:02:58,569] Trial 11 finished with value: 4300.5959486610955 and parameters: {'learning_rate': 0.010202602277738192, 'max_depth': 4, 'min_samples_split': 97, 'min_samples_leaf': 9, 'subsample': 0.8832039167433217, 'max_features': 'sqrt'}. Best is trial 9 with value: 3698.820690997482.\n",
      "[I 2025-05-06 17:02:59,894] Trial 12 finished with value: 4520.923335421491 and parameters: {'learning_rate': 0.7620683026616721, 'max_depth': 22, 'min_samples_split': 79, 'min_samples_leaf': 11, 'subsample': 0.7319044315900822, 'max_features': 0.8}. Best is trial 9 with value: 3698.820690997482.\n",
      "[I 2025-05-06 17:03:01,948] Trial 13 finished with value: 3571.01788037487 and parameters: {'learning_rate': 0.15614029401648188, 'max_depth': 12, 'min_samples_split': 67, 'min_samples_leaf': 1, 'subsample': 0.5111987527158, 'max_features': None}. Best is trial 13 with value: 3571.01788037487.\n",
      "[I 2025-05-06 17:03:04,511] Trial 14 finished with value: 3721.8669565390346 and parameters: {'learning_rate': 0.18254411875454832, 'max_depth': 10, 'min_samples_split': 36, 'min_samples_leaf': 4, 'subsample': 0.4612952455517902, 'max_features': None}. Best is trial 13 with value: 3571.01788037487.\n",
      "[I 2025-05-06 17:03:08,463] Trial 15 finished with value: 4586.350862990998 and parameters: {'learning_rate': 0.07811568693635618, 'max_depth': 21, 'min_samples_split': 66, 'min_samples_leaf': 19, 'subsample': 0.4388461890810313, 'max_features': None}. Best is trial 13 with value: 3571.01788037487.\n",
      "[I 2025-05-06 17:03:09,014] Trial 16 finished with value: 4058.9829855282683 and parameters: {'learning_rate': 0.6182727390711481, 'max_depth': 6, 'min_samples_split': 66, 'min_samples_leaf': 3, 'subsample': 0.7300101814075026, 'max_features': 0.2}. Best is trial 13 with value: 3571.01788037487.\n",
      "[I 2025-05-06 17:03:10,412] Trial 17 finished with value: 3517.5610120729484 and parameters: {'learning_rate': 0.2260987084594416, 'max_depth': 27, 'min_samples_split': 30, 'min_samples_leaf': 1, 'subsample': 0.6220947410623251, 'max_features': 0.5}. Best is trial 17 with value: 3517.5610120729484.\n",
      "[I 2025-05-06 17:03:12,200] Trial 18 finished with value: 3430.5907640777577 and parameters: {'learning_rate': 0.17398353431679398, 'max_depth': 32, 'min_samples_split': 22, 'min_samples_leaf': 1, 'subsample': 0.567921000087246, 'max_features': 0.5}. Best is trial 18 with value: 3430.5907640777577.\n",
      "[I 2025-05-06 17:03:13,771] Trial 19 finished with value: 3799.704577632151 and parameters: {'learning_rate': 0.2113771906877164, 'max_depth': 32, 'min_samples_split': 13, 'min_samples_leaf': 6, 'subsample': 0.35701198752701807, 'max_features': 0.5}. Best is trial 18 with value: 3430.5907640777577.\n",
      "[I 2025-05-06 17:03:16,441] Trial 20 finished with value: 3462.9715057349613 and parameters: {'learning_rate': 0.11859708798761973, 'max_depth': 28, 'min_samples_split': 22, 'min_samples_leaf': 1, 'subsample': 0.6147825598561754, 'max_features': 0.5}. Best is trial 18 with value: 3430.5907640777577.\n",
      "[I 2025-05-06 17:03:19,025] Trial 21 finished with value: 3476.7550517115924 and parameters: {'learning_rate': 0.10420353418823357, 'max_depth': 28, 'min_samples_split': 23, 'min_samples_leaf': 1, 'subsample': 0.6215767359553783, 'max_features': 0.5}. Best is trial 18 with value: 3430.5907640777577.\n",
      "[I 2025-05-06 17:03:21,047] Trial 22 finished with value: 3383.380528420081 and parameters: {'learning_rate': 0.10471285971022815, 'max_depth': 29, 'min_samples_split': 19, 'min_samples_leaf': 4, 'subsample': 0.597377769880787, 'max_features': 0.5}. Best is trial 22 with value: 3383.380528420081.\n",
      "[I 2025-05-06 17:03:23,960] Trial 23 finished with value: 3209.6438264561025 and parameters: {'learning_rate': 0.04575023632986291, 'max_depth': 29, 'min_samples_split': 16, 'min_samples_leaf': 5, 'subsample': 0.8240310872125836, 'max_features': 0.1}. Best is trial 23 with value: 3209.6438264561025.\n",
      "[I 2025-05-06 17:03:26,667] Trial 24 finished with value: 3317.3765168790715 and parameters: {'learning_rate': 0.05301655488320774, 'max_depth': 30, 'min_samples_split': 2, 'min_samples_leaf': 5, 'subsample': 0.8242756561073044, 'max_features': 0.1}. Best is trial 23 with value: 3209.6438264561025.\n",
      "[I 2025-05-06 17:03:28,696] Trial 25 finished with value: 3288.8335695654087 and parameters: {'learning_rate': 0.04830647451540176, 'max_depth': 25, 'min_samples_split': 2, 'min_samples_leaf': 5, 'subsample': 0.7942027280810069, 'max_features': 0.1}. Best is trial 23 with value: 3209.6438264561025.\n",
      "[I 2025-05-06 17:03:32,953] Trial 26 finished with value: 3425.413176428209 and parameters: {'learning_rate': 0.042308997055776246, 'max_depth': 25, 'min_samples_split': 2, 'min_samples_leaf': 8, 'subsample': 0.8278354367709382, 'max_features': 0.1}. Best is trial 23 with value: 3209.6438264561025.\n",
      "[I 2025-05-06 17:03:35,890] Trial 27 finished with value: 3469.518619833793 and parameters: {'learning_rate': 0.0466230123921755, 'max_depth': 24, 'min_samples_split': 2, 'min_samples_leaf': 13, 'subsample': 0.8052277987014741, 'max_features': 0.1}. Best is trial 23 with value: 3209.6438264561025.\n",
      "[I 2025-05-06 17:03:41,256] Trial 28 finished with value: 3555.0715331503548 and parameters: {'learning_rate': 0.031455552094573465, 'max_depth': 30, 'min_samples_split': 12, 'min_samples_leaf': 17, 'subsample': 0.8119650691265342, 'max_features': 0.1}. Best is trial 23 with value: 3209.6438264561025.\n",
      "[I 2025-05-06 17:03:47,727] Trial 29 finished with value: 3257.3393769477807 and parameters: {'learning_rate': 0.01452498187868172, 'max_depth': 20, 'min_samples_split': 10, 'min_samples_leaf': 5, 'subsample': 0.9848024466984958, 'max_features': 0.1}. Best is trial 23 with value: 3209.6438264561025.\n",
      "[I 2025-05-06 17:03:59,875] Trial 30 finished with value: 3455.808400573129 and parameters: {'learning_rate': 0.0141106226105524, 'max_depth': 20, 'min_samples_split': 33, 'min_samples_leaf': 10, 'subsample': 0.9897132424049275, 'max_features': 0.1}. Best is trial 23 with value: 3209.6438264561025.\n",
      "[I 2025-05-06 17:04:01,814] Trial 31 finished with value: 3348.559154847241 and parameters: {'learning_rate': 0.0669987413846962, 'max_depth': 25, 'min_samples_split': 10, 'min_samples_leaf': 5, 'subsample': 0.9162347855034817, 'max_features': 0.1}. Best is trial 23 with value: 3209.6438264561025.\n",
      "[I 2025-05-06 17:04:06,672] Trial 32 finished with value: 3323.7458320560645 and parameters: {'learning_rate': 0.027301254899220292, 'max_depth': 29, 'min_samples_split': 15, 'min_samples_leaf': 7, 'subsample': 0.8815062963541562, 'max_features': 0.1}. Best is trial 23 with value: 3209.6438264561025.\n",
      "[I 2025-05-06 17:04:13,437] Trial 33 finished with value: 3424.053952590986 and parameters: {'learning_rate': 0.01865944524867004, 'max_depth': 23, 'min_samples_split': 6, 'min_samples_leaf': 8, 'subsample': 0.7603406633468363, 'max_features': 0.1}. Best is trial 23 with value: 3209.6438264561025.\n",
      "[I 2025-05-06 17:04:16,575] Trial 34 finished with value: 3247.244108372873 and parameters: {'learning_rate': 0.05328518948332194, 'max_depth': 26, 'min_samples_split': 38, 'min_samples_leaf': 5, 'subsample': 0.933814407713822, 'max_features': 0.1}. Best is trial 23 with value: 3209.6438264561025.\n",
      "[I 2025-05-06 17:04:33,247] Trial 35 finished with value: 3512.98378266172 and parameters: {'learning_rate': 0.032811685881104016, 'max_depth': 27, 'min_samples_split': 43, 'min_samples_leaf': 3, 'subsample': 0.9349199422561425, 'max_features': 0.7}. Best is trial 23 with value: 3209.6438264561025.\n",
      "[I 2025-05-06 17:04:42,133] Trial 36 finished with value: 3273.2818821200813 and parameters: {'learning_rate': 0.014531603935487294, 'max_depth': 21, 'min_samples_split': 41, 'min_samples_leaf': 7, 'subsample': 0.9566273610057331, 'max_features': 0.1}. Best is trial 23 with value: 3209.6438264561025.\n",
      "[I 2025-05-06 17:04:59,100] Trial 37 finished with value: 3478.727227894916 and parameters: {'learning_rate': 0.016111352463965768, 'max_depth': 15, 'min_samples_split': 43, 'min_samples_leaf': 12, 'subsample': 0.9356897625242079, 'max_features': 0.3}. Best is trial 23 with value: 3209.6438264561025.\n",
      "[I 2025-05-06 17:05:09,392] Trial 38 finished with value: 3309.6797560000705 and parameters: {'learning_rate': 0.010128458871148667, 'max_depth': 19, 'min_samples_split': 50, 'min_samples_leaf': 7, 'subsample': 0.8779877712669655, 'max_features': 'sqrt'}. Best is trial 23 with value: 3209.6438264561025.\n",
      "[I 2025-05-06 17:06:01,821] Trial 39 finished with value: 3755.080833012932 and parameters: {'learning_rate': 0.01334752150112578, 'max_depth': 21, 'min_samples_split': 38, 'min_samples_leaf': 9, 'subsample': 0.999021215832478, 'max_features': 0.9}. Best is trial 23 with value: 3209.6438264561025.\n",
      "[I 2025-05-06 17:06:11,332] Trial 40 finished with value: 3733.741397844383 and parameters: {'learning_rate': 0.025229997026387254, 'max_depth': 18, 'min_samples_split': 29, 'min_samples_leaf': 25, 'subsample': 0.9448604828360397, 'max_features': 0.2}. Best is trial 23 with value: 3209.6438264561025.\n",
      "[I 2025-05-06 17:06:15,992] Trial 41 finished with value: 3306.4308993805207 and parameters: {'learning_rate': 0.035797039293280396, 'max_depth': 25, 'min_samples_split': 53, 'min_samples_leaf': 5, 'subsample': 0.8554335326676519, 'max_features': 0.1}. Best is trial 23 with value: 3209.6438264561025.\n",
      "[I 2025-05-06 17:06:19,531] Trial 42 finished with value: 3215.3040996921914 and parameters: {'learning_rate': 0.021059029078340487, 'max_depth': 23, 'min_samples_split': 16, 'min_samples_leaf': 3, 'subsample': 0.7626063576387598, 'max_features': 0.1}. Best is trial 23 with value: 3209.6438264561025.\n",
      "[I 2025-05-06 17:06:23,455] Trial 43 finished with value: 3234.8110020390777 and parameters: {'learning_rate': 0.019500530051685346, 'max_depth': 23, 'min_samples_split': 17, 'min_samples_leaf': 3, 'subsample': 0.9062572351704351, 'max_features': 'log2'}. Best is trial 23 with value: 3209.6438264561025.\n",
      "[I 2025-05-06 17:06:27,847] Trial 44 finished with value: 3249.4922397265354 and parameters: {'learning_rate': 0.019103729427167728, 'max_depth': 23, 'min_samples_split': 18, 'min_samples_leaf': 3, 'subsample': 0.9103498041706436, 'max_features': 'log2'}. Best is trial 23 with value: 3209.6438264561025.\n",
      "[I 2025-05-06 17:06:31,136] Trial 45 finished with value: 3210.997902617934 and parameters: {'learning_rate': 0.02189353173609953, 'max_depth': 23, 'min_samples_split': 17, 'min_samples_leaf': 3, 'subsample': 0.7603822335305171, 'max_features': 'log2'}. Best is trial 23 with value: 3209.6438264561025.\n",
      "[I 2025-05-06 17:06:34,258] Trial 46 finished with value: 3244.661570113128 and parameters: {'learning_rate': 0.023188029126972206, 'max_depth': 26, 'min_samples_split': 27, 'min_samples_leaf': 3, 'subsample': 0.7040659125354018, 'max_features': 'log2'}. Best is trial 23 with value: 3209.6438264561025.\n",
      "[I 2025-05-06 17:06:37,225] Trial 47 finished with value: 3205.3588096764424 and parameters: {'learning_rate': 0.022878117048627775, 'max_depth': 23, 'min_samples_split': 27, 'min_samples_leaf': 3, 'subsample': 0.6772149662412676, 'max_features': 'log2'}. Best is trial 47 with value: 3205.3588096764424.\n",
      "[I 2025-05-06 17:06:40,411] Trial 48 finished with value: 3245.293742974289 and parameters: {'learning_rate': 0.028053242768614584, 'max_depth': 23, 'min_samples_split': 17, 'min_samples_leaf': 2, 'subsample': 0.6651900286813389, 'max_features': 'log2'}. Best is trial 47 with value: 3205.3588096764424.\n",
      "[I 2025-05-06 17:06:43,714] Trial 49 finished with value: 3238.761898699402 and parameters: {'learning_rate': 0.02112270512859443, 'max_depth': 17, 'min_samples_split': 7, 'min_samples_leaf': 3, 'subsample': 0.7755749957927541, 'max_features': 'log2'}. Best is trial 47 with value: 3205.3588096764424.\n"
     ]
    },
    {
     "name": "stdout",
     "output_type": "stream",
     "text": [
      "Elapsed time for Optuna optimization: 4.55 minutes\n",
      "Best Parameters: {'learning_rate': 0.022878117048627775, 'max_depth': 23, 'min_samples_split': 27, 'min_samples_leaf': 3, 'subsample': 0.6772149662412676, 'max_features': 'log2'}\n",
      "Best CV RMSE: 3205.359\n"
     ]
    }
   ],
   "source": [
    "import optuna\n",
    "start = time.time()\n",
    "# Create a study object\n",
    "study = optuna.create_study(direction=\"minimize\")\n",
    "study.optimize(objective, n_trials=50, timeout=600)  # 50 trials or 10 min\n",
    "# Stop the timer\n",
    "end = time.time()\n",
    "# Calculate elapsed time\n",
    "elapsed_time = (end - start)/60  # Convert to minutes\n",
    "print(f\"Elapsed time for Optuna optimization: {elapsed_time:.2f} minutes\")\n",
    "# Extract the best parameters and score\n",
    "best_params_optuna = study.best_params\n",
    "best_score_optuna = study.best_value\n",
    "print(f\"Best Parameters: {best_params_optuna}\")\n",
    "print(f\"Best CV RMSE: {best_score_optuna:.3f}\")"
   ]
  },
  {
   "cell_type": "code",
   "execution_count": 32,
   "id": "e9ad2bb2",
   "metadata": {},
   "outputs": [
    {
     "data": {
      "application/vnd.plotly.v1+json": {
       "config": {
        "plotlyServerURL": "https://plot.ly"
       },
       "data": [
        {
         "mode": "markers",
         "name": "Objective Value",
         "type": "scatter",
         "x": [
          0,
          1,
          2,
          3,
          4,
          5,
          6,
          7,
          8,
          9,
          10,
          11,
          12,
          13,
          14,
          15,
          16,
          17,
          18,
          19,
          20,
          21,
          22,
          23,
          24,
          25,
          26,
          27,
          28,
          29,
          30,
          31,
          32,
          33,
          34,
          35,
          36,
          37,
          38,
          39,
          40,
          41,
          42,
          43,
          44,
          45,
          46,
          47,
          48,
          49
         ],
         "y": [
          3713.7523573640283,
          4709.295547981693,
          6213.951571057093,
          6581.2879973994595,
          5363.950030465088,
          4845.887213572036,
          4571.976448159823,
          3877.957199433686,
          4569.273660258111,
          3698.820690997482,
          3732.1319915304725,
          4300.5959486610955,
          4520.923335421491,
          3571.01788037487,
          3721.8669565390346,
          4586.350862990998,
          4058.9829855282683,
          3517.5610120729484,
          3430.5907640777577,
          3799.704577632151,
          3462.9715057349613,
          3476.7550517115924,
          3383.380528420081,
          3209.6438264561025,
          3317.3765168790715,
          3288.8335695654087,
          3425.413176428209,
          3469.518619833793,
          3555.0715331503548,
          3257.3393769477807,
          3455.808400573129,
          3348.559154847241,
          3323.7458320560645,
          3424.053952590986,
          3247.244108372873,
          3512.98378266172,
          3273.2818821200813,
          3478.727227894916,
          3309.6797560000705,
          3755.080833012932,
          3733.741397844383,
          3306.4308993805207,
          3215.3040996921914,
          3234.8110020390777,
          3249.4922397265354,
          3210.997902617934,
          3244.661570113128,
          3205.3588096764424,
          3245.293742974289,
          3238.761898699402
         ]
        },
        {
         "mode": "lines",
         "name": "Best Value",
         "type": "scatter",
         "x": [
          0,
          1,
          2,
          3,
          4,
          5,
          6,
          7,
          8,
          9,
          10,
          11,
          12,
          13,
          14,
          15,
          16,
          17,
          18,
          19,
          20,
          21,
          22,
          23,
          24,
          25,
          26,
          27,
          28,
          29,
          30,
          31,
          32,
          33,
          34,
          35,
          36,
          37,
          38,
          39,
          40,
          41,
          42,
          43,
          44,
          45,
          46,
          47,
          48,
          49
         ],
         "y": [
          3713.7523573640283,
          3713.7523573640283,
          3713.7523573640283,
          3713.7523573640283,
          3713.7523573640283,
          3713.7523573640283,
          3713.7523573640283,
          3713.7523573640283,
          3713.7523573640283,
          3698.820690997482,
          3698.820690997482,
          3698.820690997482,
          3698.820690997482,
          3571.01788037487,
          3571.01788037487,
          3571.01788037487,
          3571.01788037487,
          3517.5610120729484,
          3430.5907640777577,
          3430.5907640777577,
          3430.5907640777577,
          3430.5907640777577,
          3383.380528420081,
          3209.6438264561025,
          3209.6438264561025,
          3209.6438264561025,
          3209.6438264561025,
          3209.6438264561025,
          3209.6438264561025,
          3209.6438264561025,
          3209.6438264561025,
          3209.6438264561025,
          3209.6438264561025,
          3209.6438264561025,
          3209.6438264561025,
          3209.6438264561025,
          3209.6438264561025,
          3209.6438264561025,
          3209.6438264561025,
          3209.6438264561025,
          3209.6438264561025,
          3209.6438264561025,
          3209.6438264561025,
          3209.6438264561025,
          3209.6438264561025,
          3209.6438264561025,
          3209.6438264561025,
          3205.3588096764424,
          3205.3588096764424,
          3205.3588096764424
         ]
        },
        {
         "marker": {
          "color": "#cccccc"
         },
         "mode": "markers",
         "name": "Infeasible Trial",
         "showlegend": false,
         "type": "scatter",
         "x": [],
         "y": []
        }
       ],
       "layout": {
        "template": {
         "data": {
          "bar": [
           {
            "error_x": {
             "color": "#2a3f5f"
            },
            "error_y": {
             "color": "#2a3f5f"
            },
            "marker": {
             "line": {
              "color": "#E5ECF6",
              "width": 0.5
             },
             "pattern": {
              "fillmode": "overlay",
              "size": 10,
              "solidity": 0.2
             }
            },
            "type": "bar"
           }
          ],
          "barpolar": [
           {
            "marker": {
             "line": {
              "color": "#E5ECF6",
              "width": 0.5
             },
             "pattern": {
              "fillmode": "overlay",
              "size": 10,
              "solidity": 0.2
             }
            },
            "type": "barpolar"
           }
          ],
          "carpet": [
           {
            "aaxis": {
             "endlinecolor": "#2a3f5f",
             "gridcolor": "white",
             "linecolor": "white",
             "minorgridcolor": "white",
             "startlinecolor": "#2a3f5f"
            },
            "baxis": {
             "endlinecolor": "#2a3f5f",
             "gridcolor": "white",
             "linecolor": "white",
             "minorgridcolor": "white",
             "startlinecolor": "#2a3f5f"
            },
            "type": "carpet"
           }
          ],
          "choropleth": [
           {
            "colorbar": {
             "outlinewidth": 0,
             "ticks": ""
            },
            "type": "choropleth"
           }
          ],
          "contour": [
           {
            "colorbar": {
             "outlinewidth": 0,
             "ticks": ""
            },
            "colorscale": [
             [
              0,
              "#0d0887"
             ],
             [
              0.1111111111111111,
              "#46039f"
             ],
             [
              0.2222222222222222,
              "#7201a8"
             ],
             [
              0.3333333333333333,
              "#9c179e"
             ],
             [
              0.4444444444444444,
              "#bd3786"
             ],
             [
              0.5555555555555556,
              "#d8576b"
             ],
             [
              0.6666666666666666,
              "#ed7953"
             ],
             [
              0.7777777777777778,
              "#fb9f3a"
             ],
             [
              0.8888888888888888,
              "#fdca26"
             ],
             [
              1,
              "#f0f921"
             ]
            ],
            "type": "contour"
           }
          ],
          "contourcarpet": [
           {
            "colorbar": {
             "outlinewidth": 0,
             "ticks": ""
            },
            "type": "contourcarpet"
           }
          ],
          "heatmap": [
           {
            "colorbar": {
             "outlinewidth": 0,
             "ticks": ""
            },
            "colorscale": [
             [
              0,
              "#0d0887"
             ],
             [
              0.1111111111111111,
              "#46039f"
             ],
             [
              0.2222222222222222,
              "#7201a8"
             ],
             [
              0.3333333333333333,
              "#9c179e"
             ],
             [
              0.4444444444444444,
              "#bd3786"
             ],
             [
              0.5555555555555556,
              "#d8576b"
             ],
             [
              0.6666666666666666,
              "#ed7953"
             ],
             [
              0.7777777777777778,
              "#fb9f3a"
             ],
             [
              0.8888888888888888,
              "#fdca26"
             ],
             [
              1,
              "#f0f921"
             ]
            ],
            "type": "heatmap"
           }
          ],
          "heatmapgl": [
           {
            "colorbar": {
             "outlinewidth": 0,
             "ticks": ""
            },
            "colorscale": [
             [
              0,
              "#0d0887"
             ],
             [
              0.1111111111111111,
              "#46039f"
             ],
             [
              0.2222222222222222,
              "#7201a8"
             ],
             [
              0.3333333333333333,
              "#9c179e"
             ],
             [
              0.4444444444444444,
              "#bd3786"
             ],
             [
              0.5555555555555556,
              "#d8576b"
             ],
             [
              0.6666666666666666,
              "#ed7953"
             ],
             [
              0.7777777777777778,
              "#fb9f3a"
             ],
             [
              0.8888888888888888,
              "#fdca26"
             ],
             [
              1,
              "#f0f921"
             ]
            ],
            "type": "heatmapgl"
           }
          ],
          "histogram": [
           {
            "marker": {
             "pattern": {
              "fillmode": "overlay",
              "size": 10,
              "solidity": 0.2
             }
            },
            "type": "histogram"
           }
          ],
          "histogram2d": [
           {
            "colorbar": {
             "outlinewidth": 0,
             "ticks": ""
            },
            "colorscale": [
             [
              0,
              "#0d0887"
             ],
             [
              0.1111111111111111,
              "#46039f"
             ],
             [
              0.2222222222222222,
              "#7201a8"
             ],
             [
              0.3333333333333333,
              "#9c179e"
             ],
             [
              0.4444444444444444,
              "#bd3786"
             ],
             [
              0.5555555555555556,
              "#d8576b"
             ],
             [
              0.6666666666666666,
              "#ed7953"
             ],
             [
              0.7777777777777778,
              "#fb9f3a"
             ],
             [
              0.8888888888888888,
              "#fdca26"
             ],
             [
              1,
              "#f0f921"
             ]
            ],
            "type": "histogram2d"
           }
          ],
          "histogram2dcontour": [
           {
            "colorbar": {
             "outlinewidth": 0,
             "ticks": ""
            },
            "colorscale": [
             [
              0,
              "#0d0887"
             ],
             [
              0.1111111111111111,
              "#46039f"
             ],
             [
              0.2222222222222222,
              "#7201a8"
             ],
             [
              0.3333333333333333,
              "#9c179e"
             ],
             [
              0.4444444444444444,
              "#bd3786"
             ],
             [
              0.5555555555555556,
              "#d8576b"
             ],
             [
              0.6666666666666666,
              "#ed7953"
             ],
             [
              0.7777777777777778,
              "#fb9f3a"
             ],
             [
              0.8888888888888888,
              "#fdca26"
             ],
             [
              1,
              "#f0f921"
             ]
            ],
            "type": "histogram2dcontour"
           }
          ],
          "mesh3d": [
           {
            "colorbar": {
             "outlinewidth": 0,
             "ticks": ""
            },
            "type": "mesh3d"
           }
          ],
          "parcoords": [
           {
            "line": {
             "colorbar": {
              "outlinewidth": 0,
              "ticks": ""
             }
            },
            "type": "parcoords"
           }
          ],
          "pie": [
           {
            "automargin": true,
            "type": "pie"
           }
          ],
          "scatter": [
           {
            "fillpattern": {
             "fillmode": "overlay",
             "size": 10,
             "solidity": 0.2
            },
            "type": "scatter"
           }
          ],
          "scatter3d": [
           {
            "line": {
             "colorbar": {
              "outlinewidth": 0,
              "ticks": ""
             }
            },
            "marker": {
             "colorbar": {
              "outlinewidth": 0,
              "ticks": ""
             }
            },
            "type": "scatter3d"
           }
          ],
          "scattercarpet": [
           {
            "marker": {
             "colorbar": {
              "outlinewidth": 0,
              "ticks": ""
             }
            },
            "type": "scattercarpet"
           }
          ],
          "scattergeo": [
           {
            "marker": {
             "colorbar": {
              "outlinewidth": 0,
              "ticks": ""
             }
            },
            "type": "scattergeo"
           }
          ],
          "scattergl": [
           {
            "marker": {
             "colorbar": {
              "outlinewidth": 0,
              "ticks": ""
             }
            },
            "type": "scattergl"
           }
          ],
          "scattermapbox": [
           {
            "marker": {
             "colorbar": {
              "outlinewidth": 0,
              "ticks": ""
             }
            },
            "type": "scattermapbox"
           }
          ],
          "scatterpolar": [
           {
            "marker": {
             "colorbar": {
              "outlinewidth": 0,
              "ticks": ""
             }
            },
            "type": "scatterpolar"
           }
          ],
          "scatterpolargl": [
           {
            "marker": {
             "colorbar": {
              "outlinewidth": 0,
              "ticks": ""
             }
            },
            "type": "scatterpolargl"
           }
          ],
          "scatterternary": [
           {
            "marker": {
             "colorbar": {
              "outlinewidth": 0,
              "ticks": ""
             }
            },
            "type": "scatterternary"
           }
          ],
          "surface": [
           {
            "colorbar": {
             "outlinewidth": 0,
             "ticks": ""
            },
            "colorscale": [
             [
              0,
              "#0d0887"
             ],
             [
              0.1111111111111111,
              "#46039f"
             ],
             [
              0.2222222222222222,
              "#7201a8"
             ],
             [
              0.3333333333333333,
              "#9c179e"
             ],
             [
              0.4444444444444444,
              "#bd3786"
             ],
             [
              0.5555555555555556,
              "#d8576b"
             ],
             [
              0.6666666666666666,
              "#ed7953"
             ],
             [
              0.7777777777777778,
              "#fb9f3a"
             ],
             [
              0.8888888888888888,
              "#fdca26"
             ],
             [
              1,
              "#f0f921"
             ]
            ],
            "type": "surface"
           }
          ],
          "table": [
           {
            "cells": {
             "fill": {
              "color": "#EBF0F8"
             },
             "line": {
              "color": "white"
             }
            },
            "header": {
             "fill": {
              "color": "#C8D4E3"
             },
             "line": {
              "color": "white"
             }
            },
            "type": "table"
           }
          ]
         },
         "layout": {
          "annotationdefaults": {
           "arrowcolor": "#2a3f5f",
           "arrowhead": 0,
           "arrowwidth": 1
          },
          "autotypenumbers": "strict",
          "coloraxis": {
           "colorbar": {
            "outlinewidth": 0,
            "ticks": ""
           }
          },
          "colorscale": {
           "diverging": [
            [
             0,
             "#8e0152"
            ],
            [
             0.1,
             "#c51b7d"
            ],
            [
             0.2,
             "#de77ae"
            ],
            [
             0.3,
             "#f1b6da"
            ],
            [
             0.4,
             "#fde0ef"
            ],
            [
             0.5,
             "#f7f7f7"
            ],
            [
             0.6,
             "#e6f5d0"
            ],
            [
             0.7,
             "#b8e186"
            ],
            [
             0.8,
             "#7fbc41"
            ],
            [
             0.9,
             "#4d9221"
            ],
            [
             1,
             "#276419"
            ]
           ],
           "sequential": [
            [
             0,
             "#0d0887"
            ],
            [
             0.1111111111111111,
             "#46039f"
            ],
            [
             0.2222222222222222,
             "#7201a8"
            ],
            [
             0.3333333333333333,
             "#9c179e"
            ],
            [
             0.4444444444444444,
             "#bd3786"
            ],
            [
             0.5555555555555556,
             "#d8576b"
            ],
            [
             0.6666666666666666,
             "#ed7953"
            ],
            [
             0.7777777777777778,
             "#fb9f3a"
            ],
            [
             0.8888888888888888,
             "#fdca26"
            ],
            [
             1,
             "#f0f921"
            ]
           ],
           "sequentialminus": [
            [
             0,
             "#0d0887"
            ],
            [
             0.1111111111111111,
             "#46039f"
            ],
            [
             0.2222222222222222,
             "#7201a8"
            ],
            [
             0.3333333333333333,
             "#9c179e"
            ],
            [
             0.4444444444444444,
             "#bd3786"
            ],
            [
             0.5555555555555556,
             "#d8576b"
            ],
            [
             0.6666666666666666,
             "#ed7953"
            ],
            [
             0.7777777777777778,
             "#fb9f3a"
            ],
            [
             0.8888888888888888,
             "#fdca26"
            ],
            [
             1,
             "#f0f921"
            ]
           ]
          },
          "colorway": [
           "#636efa",
           "#EF553B",
           "#00cc96",
           "#ab63fa",
           "#FFA15A",
           "#19d3f3",
           "#FF6692",
           "#B6E880",
           "#FF97FF",
           "#FECB52"
          ],
          "font": {
           "color": "#2a3f5f"
          },
          "geo": {
           "bgcolor": "white",
           "lakecolor": "white",
           "landcolor": "#E5ECF6",
           "showlakes": true,
           "showland": true,
           "subunitcolor": "white"
          },
          "hoverlabel": {
           "align": "left"
          },
          "hovermode": "closest",
          "mapbox": {
           "style": "light"
          },
          "paper_bgcolor": "white",
          "plot_bgcolor": "#E5ECF6",
          "polar": {
           "angularaxis": {
            "gridcolor": "white",
            "linecolor": "white",
            "ticks": ""
           },
           "bgcolor": "#E5ECF6",
           "radialaxis": {
            "gridcolor": "white",
            "linecolor": "white",
            "ticks": ""
           }
          },
          "scene": {
           "xaxis": {
            "backgroundcolor": "#E5ECF6",
            "gridcolor": "white",
            "gridwidth": 2,
            "linecolor": "white",
            "showbackground": true,
            "ticks": "",
            "zerolinecolor": "white"
           },
           "yaxis": {
            "backgroundcolor": "#E5ECF6",
            "gridcolor": "white",
            "gridwidth": 2,
            "linecolor": "white",
            "showbackground": true,
            "ticks": "",
            "zerolinecolor": "white"
           },
           "zaxis": {
            "backgroundcolor": "#E5ECF6",
            "gridcolor": "white",
            "gridwidth": 2,
            "linecolor": "white",
            "showbackground": true,
            "ticks": "",
            "zerolinecolor": "white"
           }
          },
          "shapedefaults": {
           "line": {
            "color": "#2a3f5f"
           }
          },
          "ternary": {
           "aaxis": {
            "gridcolor": "white",
            "linecolor": "white",
            "ticks": ""
           },
           "baxis": {
            "gridcolor": "white",
            "linecolor": "white",
            "ticks": ""
           },
           "bgcolor": "#E5ECF6",
           "caxis": {
            "gridcolor": "white",
            "linecolor": "white",
            "ticks": ""
           }
          },
          "title": {
           "x": 0.05
          },
          "xaxis": {
           "automargin": true,
           "gridcolor": "white",
           "linecolor": "white",
           "ticks": "",
           "title": {
            "standoff": 15
           },
           "zerolinecolor": "white",
           "zerolinewidth": 2
          },
          "yaxis": {
           "automargin": true,
           "gridcolor": "white",
           "linecolor": "white",
           "ticks": "",
           "title": {
            "standoff": 15
           },
           "zerolinecolor": "white",
           "zerolinewidth": 2
          }
         }
        },
        "title": {
         "text": "Optimization History Plot"
        },
        "xaxis": {
         "title": {
          "text": "Trial"
         }
        },
        "yaxis": {
         "title": {
          "text": "Objective Value"
         }
        }
       }
      }
     },
     "metadata": {},
     "output_type": "display_data"
    }
   ],
   "source": [
    "optuna.visualization.plot_optimization_history(study).show()"
   ]
  },
  {
   "cell_type": "code",
   "execution_count": 33,
   "id": "567e894a",
   "metadata": {},
   "outputs": [
    {
     "data": {
      "application/vnd.plotly.v1+json": {
       "config": {
        "plotlyServerURL": "https://plot.ly"
       },
       "data": [
        {
         "cliponaxis": false,
         "hovertemplate": [
          "learning_rate (FloatDistribution): 0.01801179638292924<extra></extra>",
          "max_depth (IntDistribution): 0.022402113075340162<extra></extra>",
          "max_features (CategoricalDistribution): 0.05785956504103836<extra></extra>",
          "min_samples_leaf (IntDistribution): 0.05979329220068023<extra></extra>",
          "min_samples_split (IntDistribution): 0.0679338430750996<extra></extra>",
          "subsample (FloatDistribution): 0.7739993902249124<extra></extra>"
         ],
         "name": "Objective Value",
         "orientation": "h",
         "text": [
          "0.02",
          "0.02",
          "0.06",
          "0.06",
          "0.07",
          "0.77"
         ],
         "textposition": "outside",
         "type": "bar",
         "x": [
          0.01801179638292924,
          0.022402113075340162,
          0.05785956504103836,
          0.05979329220068023,
          0.0679338430750996,
          0.7739993902249124
         ],
         "y": [
          "learning_rate",
          "max_depth",
          "max_features",
          "min_samples_leaf",
          "min_samples_split",
          "subsample"
         ]
        }
       ],
       "layout": {
        "template": {
         "data": {
          "bar": [
           {
            "error_x": {
             "color": "#2a3f5f"
            },
            "error_y": {
             "color": "#2a3f5f"
            },
            "marker": {
             "line": {
              "color": "#E5ECF6",
              "width": 0.5
             },
             "pattern": {
              "fillmode": "overlay",
              "size": 10,
              "solidity": 0.2
             }
            },
            "type": "bar"
           }
          ],
          "barpolar": [
           {
            "marker": {
             "line": {
              "color": "#E5ECF6",
              "width": 0.5
             },
             "pattern": {
              "fillmode": "overlay",
              "size": 10,
              "solidity": 0.2
             }
            },
            "type": "barpolar"
           }
          ],
          "carpet": [
           {
            "aaxis": {
             "endlinecolor": "#2a3f5f",
             "gridcolor": "white",
             "linecolor": "white",
             "minorgridcolor": "white",
             "startlinecolor": "#2a3f5f"
            },
            "baxis": {
             "endlinecolor": "#2a3f5f",
             "gridcolor": "white",
             "linecolor": "white",
             "minorgridcolor": "white",
             "startlinecolor": "#2a3f5f"
            },
            "type": "carpet"
           }
          ],
          "choropleth": [
           {
            "colorbar": {
             "outlinewidth": 0,
             "ticks": ""
            },
            "type": "choropleth"
           }
          ],
          "contour": [
           {
            "colorbar": {
             "outlinewidth": 0,
             "ticks": ""
            },
            "colorscale": [
             [
              0,
              "#0d0887"
             ],
             [
              0.1111111111111111,
              "#46039f"
             ],
             [
              0.2222222222222222,
              "#7201a8"
             ],
             [
              0.3333333333333333,
              "#9c179e"
             ],
             [
              0.4444444444444444,
              "#bd3786"
             ],
             [
              0.5555555555555556,
              "#d8576b"
             ],
             [
              0.6666666666666666,
              "#ed7953"
             ],
             [
              0.7777777777777778,
              "#fb9f3a"
             ],
             [
              0.8888888888888888,
              "#fdca26"
             ],
             [
              1,
              "#f0f921"
             ]
            ],
            "type": "contour"
           }
          ],
          "contourcarpet": [
           {
            "colorbar": {
             "outlinewidth": 0,
             "ticks": ""
            },
            "type": "contourcarpet"
           }
          ],
          "heatmap": [
           {
            "colorbar": {
             "outlinewidth": 0,
             "ticks": ""
            },
            "colorscale": [
             [
              0,
              "#0d0887"
             ],
             [
              0.1111111111111111,
              "#46039f"
             ],
             [
              0.2222222222222222,
              "#7201a8"
             ],
             [
              0.3333333333333333,
              "#9c179e"
             ],
             [
              0.4444444444444444,
              "#bd3786"
             ],
             [
              0.5555555555555556,
              "#d8576b"
             ],
             [
              0.6666666666666666,
              "#ed7953"
             ],
             [
              0.7777777777777778,
              "#fb9f3a"
             ],
             [
              0.8888888888888888,
              "#fdca26"
             ],
             [
              1,
              "#f0f921"
             ]
            ],
            "type": "heatmap"
           }
          ],
          "heatmapgl": [
           {
            "colorbar": {
             "outlinewidth": 0,
             "ticks": ""
            },
            "colorscale": [
             [
              0,
              "#0d0887"
             ],
             [
              0.1111111111111111,
              "#46039f"
             ],
             [
              0.2222222222222222,
              "#7201a8"
             ],
             [
              0.3333333333333333,
              "#9c179e"
             ],
             [
              0.4444444444444444,
              "#bd3786"
             ],
             [
              0.5555555555555556,
              "#d8576b"
             ],
             [
              0.6666666666666666,
              "#ed7953"
             ],
             [
              0.7777777777777778,
              "#fb9f3a"
             ],
             [
              0.8888888888888888,
              "#fdca26"
             ],
             [
              1,
              "#f0f921"
             ]
            ],
            "type": "heatmapgl"
           }
          ],
          "histogram": [
           {
            "marker": {
             "pattern": {
              "fillmode": "overlay",
              "size": 10,
              "solidity": 0.2
             }
            },
            "type": "histogram"
           }
          ],
          "histogram2d": [
           {
            "colorbar": {
             "outlinewidth": 0,
             "ticks": ""
            },
            "colorscale": [
             [
              0,
              "#0d0887"
             ],
             [
              0.1111111111111111,
              "#46039f"
             ],
             [
              0.2222222222222222,
              "#7201a8"
             ],
             [
              0.3333333333333333,
              "#9c179e"
             ],
             [
              0.4444444444444444,
              "#bd3786"
             ],
             [
              0.5555555555555556,
              "#d8576b"
             ],
             [
              0.6666666666666666,
              "#ed7953"
             ],
             [
              0.7777777777777778,
              "#fb9f3a"
             ],
             [
              0.8888888888888888,
              "#fdca26"
             ],
             [
              1,
              "#f0f921"
             ]
            ],
            "type": "histogram2d"
           }
          ],
          "histogram2dcontour": [
           {
            "colorbar": {
             "outlinewidth": 0,
             "ticks": ""
            },
            "colorscale": [
             [
              0,
              "#0d0887"
             ],
             [
              0.1111111111111111,
              "#46039f"
             ],
             [
              0.2222222222222222,
              "#7201a8"
             ],
             [
              0.3333333333333333,
              "#9c179e"
             ],
             [
              0.4444444444444444,
              "#bd3786"
             ],
             [
              0.5555555555555556,
              "#d8576b"
             ],
             [
              0.6666666666666666,
              "#ed7953"
             ],
             [
              0.7777777777777778,
              "#fb9f3a"
             ],
             [
              0.8888888888888888,
              "#fdca26"
             ],
             [
              1,
              "#f0f921"
             ]
            ],
            "type": "histogram2dcontour"
           }
          ],
          "mesh3d": [
           {
            "colorbar": {
             "outlinewidth": 0,
             "ticks": ""
            },
            "type": "mesh3d"
           }
          ],
          "parcoords": [
           {
            "line": {
             "colorbar": {
              "outlinewidth": 0,
              "ticks": ""
             }
            },
            "type": "parcoords"
           }
          ],
          "pie": [
           {
            "automargin": true,
            "type": "pie"
           }
          ],
          "scatter": [
           {
            "fillpattern": {
             "fillmode": "overlay",
             "size": 10,
             "solidity": 0.2
            },
            "type": "scatter"
           }
          ],
          "scatter3d": [
           {
            "line": {
             "colorbar": {
              "outlinewidth": 0,
              "ticks": ""
             }
            },
            "marker": {
             "colorbar": {
              "outlinewidth": 0,
              "ticks": ""
             }
            },
            "type": "scatter3d"
           }
          ],
          "scattercarpet": [
           {
            "marker": {
             "colorbar": {
              "outlinewidth": 0,
              "ticks": ""
             }
            },
            "type": "scattercarpet"
           }
          ],
          "scattergeo": [
           {
            "marker": {
             "colorbar": {
              "outlinewidth": 0,
              "ticks": ""
             }
            },
            "type": "scattergeo"
           }
          ],
          "scattergl": [
           {
            "marker": {
             "colorbar": {
              "outlinewidth": 0,
              "ticks": ""
             }
            },
            "type": "scattergl"
           }
          ],
          "scattermapbox": [
           {
            "marker": {
             "colorbar": {
              "outlinewidth": 0,
              "ticks": ""
             }
            },
            "type": "scattermapbox"
           }
          ],
          "scatterpolar": [
           {
            "marker": {
             "colorbar": {
              "outlinewidth": 0,
              "ticks": ""
             }
            },
            "type": "scatterpolar"
           }
          ],
          "scatterpolargl": [
           {
            "marker": {
             "colorbar": {
              "outlinewidth": 0,
              "ticks": ""
             }
            },
            "type": "scatterpolargl"
           }
          ],
          "scatterternary": [
           {
            "marker": {
             "colorbar": {
              "outlinewidth": 0,
              "ticks": ""
             }
            },
            "type": "scatterternary"
           }
          ],
          "surface": [
           {
            "colorbar": {
             "outlinewidth": 0,
             "ticks": ""
            },
            "colorscale": [
             [
              0,
              "#0d0887"
             ],
             [
              0.1111111111111111,
              "#46039f"
             ],
             [
              0.2222222222222222,
              "#7201a8"
             ],
             [
              0.3333333333333333,
              "#9c179e"
             ],
             [
              0.4444444444444444,
              "#bd3786"
             ],
             [
              0.5555555555555556,
              "#d8576b"
             ],
             [
              0.6666666666666666,
              "#ed7953"
             ],
             [
              0.7777777777777778,
              "#fb9f3a"
             ],
             [
              0.8888888888888888,
              "#fdca26"
             ],
             [
              1,
              "#f0f921"
             ]
            ],
            "type": "surface"
           }
          ],
          "table": [
           {
            "cells": {
             "fill": {
              "color": "#EBF0F8"
             },
             "line": {
              "color": "white"
             }
            },
            "header": {
             "fill": {
              "color": "#C8D4E3"
             },
             "line": {
              "color": "white"
             }
            },
            "type": "table"
           }
          ]
         },
         "layout": {
          "annotationdefaults": {
           "arrowcolor": "#2a3f5f",
           "arrowhead": 0,
           "arrowwidth": 1
          },
          "autotypenumbers": "strict",
          "coloraxis": {
           "colorbar": {
            "outlinewidth": 0,
            "ticks": ""
           }
          },
          "colorscale": {
           "diverging": [
            [
             0,
             "#8e0152"
            ],
            [
             0.1,
             "#c51b7d"
            ],
            [
             0.2,
             "#de77ae"
            ],
            [
             0.3,
             "#f1b6da"
            ],
            [
             0.4,
             "#fde0ef"
            ],
            [
             0.5,
             "#f7f7f7"
            ],
            [
             0.6,
             "#e6f5d0"
            ],
            [
             0.7,
             "#b8e186"
            ],
            [
             0.8,
             "#7fbc41"
            ],
            [
             0.9,
             "#4d9221"
            ],
            [
             1,
             "#276419"
            ]
           ],
           "sequential": [
            [
             0,
             "#0d0887"
            ],
            [
             0.1111111111111111,
             "#46039f"
            ],
            [
             0.2222222222222222,
             "#7201a8"
            ],
            [
             0.3333333333333333,
             "#9c179e"
            ],
            [
             0.4444444444444444,
             "#bd3786"
            ],
            [
             0.5555555555555556,
             "#d8576b"
            ],
            [
             0.6666666666666666,
             "#ed7953"
            ],
            [
             0.7777777777777778,
             "#fb9f3a"
            ],
            [
             0.8888888888888888,
             "#fdca26"
            ],
            [
             1,
             "#f0f921"
            ]
           ],
           "sequentialminus": [
            [
             0,
             "#0d0887"
            ],
            [
             0.1111111111111111,
             "#46039f"
            ],
            [
             0.2222222222222222,
             "#7201a8"
            ],
            [
             0.3333333333333333,
             "#9c179e"
            ],
            [
             0.4444444444444444,
             "#bd3786"
            ],
            [
             0.5555555555555556,
             "#d8576b"
            ],
            [
             0.6666666666666666,
             "#ed7953"
            ],
            [
             0.7777777777777778,
             "#fb9f3a"
            ],
            [
             0.8888888888888888,
             "#fdca26"
            ],
            [
             1,
             "#f0f921"
            ]
           ]
          },
          "colorway": [
           "#636efa",
           "#EF553B",
           "#00cc96",
           "#ab63fa",
           "#FFA15A",
           "#19d3f3",
           "#FF6692",
           "#B6E880",
           "#FF97FF",
           "#FECB52"
          ],
          "font": {
           "color": "#2a3f5f"
          },
          "geo": {
           "bgcolor": "white",
           "lakecolor": "white",
           "landcolor": "#E5ECF6",
           "showlakes": true,
           "showland": true,
           "subunitcolor": "white"
          },
          "hoverlabel": {
           "align": "left"
          },
          "hovermode": "closest",
          "mapbox": {
           "style": "light"
          },
          "paper_bgcolor": "white",
          "plot_bgcolor": "#E5ECF6",
          "polar": {
           "angularaxis": {
            "gridcolor": "white",
            "linecolor": "white",
            "ticks": ""
           },
           "bgcolor": "#E5ECF6",
           "radialaxis": {
            "gridcolor": "white",
            "linecolor": "white",
            "ticks": ""
           }
          },
          "scene": {
           "xaxis": {
            "backgroundcolor": "#E5ECF6",
            "gridcolor": "white",
            "gridwidth": 2,
            "linecolor": "white",
            "showbackground": true,
            "ticks": "",
            "zerolinecolor": "white"
           },
           "yaxis": {
            "backgroundcolor": "#E5ECF6",
            "gridcolor": "white",
            "gridwidth": 2,
            "linecolor": "white",
            "showbackground": true,
            "ticks": "",
            "zerolinecolor": "white"
           },
           "zaxis": {
            "backgroundcolor": "#E5ECF6",
            "gridcolor": "white",
            "gridwidth": 2,
            "linecolor": "white",
            "showbackground": true,
            "ticks": "",
            "zerolinecolor": "white"
           }
          },
          "shapedefaults": {
           "line": {
            "color": "#2a3f5f"
           }
          },
          "ternary": {
           "aaxis": {
            "gridcolor": "white",
            "linecolor": "white",
            "ticks": ""
           },
           "baxis": {
            "gridcolor": "white",
            "linecolor": "white",
            "ticks": ""
           },
           "bgcolor": "#E5ECF6",
           "caxis": {
            "gridcolor": "white",
            "linecolor": "white",
            "ticks": ""
           }
          },
          "title": {
           "x": 0.05
          },
          "xaxis": {
           "automargin": true,
           "gridcolor": "white",
           "linecolor": "white",
           "ticks": "",
           "title": {
            "standoff": 15
           },
           "zerolinecolor": "white",
           "zerolinewidth": 2
          },
          "yaxis": {
           "automargin": true,
           "gridcolor": "white",
           "linecolor": "white",
           "ticks": "",
           "title": {
            "standoff": 15
           },
           "zerolinecolor": "white",
           "zerolinewidth": 2
          }
         }
        },
        "title": {
         "text": "Hyperparameter Importances"
        },
        "xaxis": {
         "title": {
          "text": "Hyperparameter Importance"
         }
        },
        "yaxis": {
         "title": {
          "text": "Hyperparameter"
         }
        }
       }
      }
     },
     "metadata": {},
     "output_type": "display_data"
    }
   ],
   "source": [
    "optuna.visualization.plot_param_importances(study).show()"
   ]
  },
  {
   "cell_type": "code",
   "execution_count": 34,
   "id": "d452edcb",
   "metadata": {},
   "outputs": [
    {
     "data": {
      "application/vnd.plotly.v1+json": {
       "config": {
        "plotlyServerURL": "https://plot.ly"
       },
       "data": [
        {
         "dimensions": [
          {
           "label": "Objective Value",
           "range": [
            3205.3588096764424,
            6581.2879973994595
           ],
           "values": [
            3713.7523573640283,
            4709.295547981693,
            6213.951571057093,
            6581.2879973994595,
            5363.950030465088,
            4845.887213572036,
            4571.976448159823,
            3877.957199433686,
            4569.273660258111,
            3698.820690997482,
            3732.1319915304725,
            4300.5959486610955,
            4520.923335421491,
            3571.01788037487,
            3721.8669565390346,
            4586.350862990998,
            4058.9829855282683,
            3517.5610120729484,
            3430.5907640777577,
            3799.704577632151,
            3462.9715057349613,
            3476.7550517115924,
            3383.380528420081,
            3209.6438264561025,
            3317.3765168790715,
            3288.8335695654087,
            3425.413176428209,
            3469.518619833793,
            3555.0715331503548,
            3257.3393769477807,
            3455.808400573129,
            3348.559154847241,
            3323.7458320560645,
            3424.053952590986,
            3247.244108372873,
            3512.98378266172,
            3273.2818821200813,
            3478.727227894916,
            3309.6797560000705,
            3755.080833012932,
            3733.741397844383,
            3306.4308993805207,
            3215.3040996921914,
            3234.8110020390777,
            3249.4922397265354,
            3210.997902617934,
            3244.661570113128,
            3205.3588096764424,
            3245.293742974289,
            3238.761898699402
           ]
          },
          {
           "label": "learning_rate",
           "range": [
            -1.9944566311129186,
            -0.11800610196789948
           ],
           "ticktext": [
            "0.0101",
            "0.1",
            "0.762"
           ],
           "tickvals": [
            -1.9944566311129186,
            -1,
            -0.11800610196789948
           ],
           "values": [
            -1.6481344694947013,
            -1.6725298059510503,
            -0.5896266454749759,
            -1.401364618411366,
            -0.4614537221228881,
            -0.3404962280938648,
            -0.9691811545391946,
            -1.6483711047070664,
            -1.2141541803321803,
            -0.5263533619875517,
            -0.828051797957005,
            -1.9912890428732726,
            -0.11800610196789948,
            -0.8064850071820686,
            -0.7386321546813406,
            -1.1072617437693757,
            -0.20881990202445821,
            -0.6457019184619809,
            -0.7594918511066373,
            -0.6749418783952347,
            -0.9259259744324149,
            -0.982117551166831,
            -0.9799999796560375,
            -1.3396066581769803,
            -1.2755884969692806,
            -1.315994656870274,
            -1.3735672695943653,
            -1.3313996694033097,
            -1.5023026878586427,
            -1.8378844007616209,
            -1.8504538232150516,
            -1.173933355729255,
            -1.5638173902016912,
            -1.7291012721127124,
            -1.27339348552283,
            -1.4839714547693716,
            -1.8376864475129016,
            -1.7928680012950344,
            -1.9944566311129186,
            -1.8745993708774138,
            -1.598082800668461,
            -1.4461528915618023,
            -1.6765616557354963,
            -1.7099535837455087,
            -1.718881841572509,
            -1.6596841749428033,
            -1.6347361627744694,
            -1.6405797224070655,
            -1.5520169299473476,
            -1.675250463638699
           ]
          },
          {
           "label": "max_depth",
           "range": [
            4,
            32
           ],
           "values": [
            14,
            12,
            16,
            8,
            17,
            26,
            17,
            16,
            31,
            19,
            23,
            4,
            22,
            12,
            10,
            21,
            6,
            27,
            32,
            32,
            28,
            28,
            29,
            29,
            30,
            25,
            25,
            24,
            30,
            20,
            20,
            25,
            29,
            23,
            26,
            27,
            21,
            15,
            19,
            21,
            18,
            25,
            23,
            23,
            23,
            23,
            26,
            23,
            23,
            17
           ]
          },
          {
           "label": "max_features",
           "range": [
            0,
            11
           ],
           "ticktext": [
            "0.8",
            "0.4",
            "log2",
            "0.7",
            "0.3",
            "0.6",
            "0.9",
            "sqrt",
            "None",
            "0.2",
            "0.5",
            "0.1"
           ],
           "tickvals": [
            0,
            1,
            2,
            3,
            4,
            5,
            6,
            7,
            8,
            9,
            10,
            11
           ],
           "values": [
            0,
            1,
            2,
            3,
            4,
            1,
            5,
            2,
            5,
            1,
            6,
            7,
            0,
            8,
            8,
            8,
            9,
            10,
            10,
            10,
            10,
            10,
            10,
            11,
            11,
            11,
            11,
            11,
            11,
            11,
            11,
            11,
            11,
            11,
            11,
            3,
            11,
            4,
            7,
            6,
            9,
            11,
            11,
            2,
            2,
            2,
            2,
            2,
            2,
            2
           ]
          },
          {
           "label": "min_samples_leaf",
           "range": [
            1,
            28
           ],
           "values": [
            10,
            7,
            28,
            23,
            6,
            2,
            14,
            14,
            28,
            11,
            19,
            9,
            11,
            1,
            4,
            19,
            3,
            1,
            1,
            6,
            1,
            1,
            4,
            5,
            5,
            5,
            8,
            13,
            17,
            5,
            10,
            5,
            7,
            8,
            5,
            3,
            7,
            12,
            7,
            9,
            25,
            5,
            3,
            3,
            3,
            3,
            3,
            3,
            2,
            3
           ]
          },
          {
           "label": "min_samples_split",
           "range": [
            2,
            100
           ],
           "values": [
            84,
            44,
            51,
            100,
            77,
            83,
            8,
            56,
            25,
            66,
            65,
            97,
            79,
            67,
            36,
            66,
            66,
            30,
            22,
            13,
            22,
            23,
            19,
            16,
            2,
            2,
            2,
            2,
            12,
            10,
            33,
            10,
            15,
            6,
            38,
            43,
            41,
            43,
            50,
            38,
            29,
            53,
            16,
            17,
            18,
            17,
            27,
            27,
            17,
            7
           ]
          },
          {
           "label": "subsample",
           "range": [
            0.10645669656397064,
            0.999021215832478
           ],
           "values": [
            0.9198945421607535,
            0.1707682907352387,
            0.254712411062096,
            0.10645669656397064,
            0.12865977500830594,
            0.15850689303953563,
            0.27035383258765106,
            0.6650860961577256,
            0.5318799842701212,
            0.684007192168673,
            0.9764359841828532,
            0.8832039167433217,
            0.7319044315900822,
            0.5111987527158,
            0.4612952455517902,
            0.4388461890810313,
            0.7300101814075026,
            0.6220947410623251,
            0.567921000087246,
            0.35701198752701807,
            0.6147825598561754,
            0.6215767359553783,
            0.597377769880787,
            0.8240310872125836,
            0.8242756561073044,
            0.7942027280810069,
            0.8278354367709382,
            0.8052277987014741,
            0.8119650691265342,
            0.9848024466984958,
            0.9897132424049275,
            0.9162347855034817,
            0.8815062963541562,
            0.7603406633468363,
            0.933814407713822,
            0.9349199422561425,
            0.9566273610057331,
            0.9356897625242079,
            0.8779877712669655,
            0.999021215832478,
            0.9448604828360397,
            0.8554335326676519,
            0.7626063576387598,
            0.9062572351704351,
            0.9103498041706436,
            0.7603822335305171,
            0.7040659125354018,
            0.6772149662412676,
            0.6651900286813389,
            0.7755749957927541
           ]
          }
         ],
         "labelangle": 30,
         "labelside": "bottom",
         "line": {
          "color": [
           3713.7523573640283,
           4709.295547981693,
           6213.951571057093,
           6581.2879973994595,
           5363.950030465088,
           4845.887213572036,
           4571.976448159823,
           3877.957199433686,
           4569.273660258111,
           3698.820690997482,
           3732.1319915304725,
           4300.5959486610955,
           4520.923335421491,
           3571.01788037487,
           3721.8669565390346,
           4586.350862990998,
           4058.9829855282683,
           3517.5610120729484,
           3430.5907640777577,
           3799.704577632151,
           3462.9715057349613,
           3476.7550517115924,
           3383.380528420081,
           3209.6438264561025,
           3317.3765168790715,
           3288.8335695654087,
           3425.413176428209,
           3469.518619833793,
           3555.0715331503548,
           3257.3393769477807,
           3455.808400573129,
           3348.559154847241,
           3323.7458320560645,
           3424.053952590986,
           3247.244108372873,
           3512.98378266172,
           3273.2818821200813,
           3478.727227894916,
           3309.6797560000705,
           3755.080833012932,
           3733.741397844383,
           3306.4308993805207,
           3215.3040996921914,
           3234.8110020390777,
           3249.4922397265354,
           3210.997902617934,
           3244.661570113128,
           3205.3588096764424,
           3245.293742974289,
           3238.761898699402
          ],
          "colorbar": {
           "title": {
            "text": "Objective Value"
           }
          },
          "colorscale": [
           [
            0,
            "rgb(247,251,255)"
           ],
           [
            0.125,
            "rgb(222,235,247)"
           ],
           [
            0.25,
            "rgb(198,219,239)"
           ],
           [
            0.375,
            "rgb(158,202,225)"
           ],
           [
            0.5,
            "rgb(107,174,214)"
           ],
           [
            0.625,
            "rgb(66,146,198)"
           ],
           [
            0.75,
            "rgb(33,113,181)"
           ],
           [
            0.875,
            "rgb(8,81,156)"
           ],
           [
            1,
            "rgb(8,48,107)"
           ]
          ],
          "reversescale": true,
          "showscale": true
         },
         "type": "parcoords"
        }
       ],
       "layout": {
        "template": {
         "data": {
          "bar": [
           {
            "error_x": {
             "color": "#2a3f5f"
            },
            "error_y": {
             "color": "#2a3f5f"
            },
            "marker": {
             "line": {
              "color": "#E5ECF6",
              "width": 0.5
             },
             "pattern": {
              "fillmode": "overlay",
              "size": 10,
              "solidity": 0.2
             }
            },
            "type": "bar"
           }
          ],
          "barpolar": [
           {
            "marker": {
             "line": {
              "color": "#E5ECF6",
              "width": 0.5
             },
             "pattern": {
              "fillmode": "overlay",
              "size": 10,
              "solidity": 0.2
             }
            },
            "type": "barpolar"
           }
          ],
          "carpet": [
           {
            "aaxis": {
             "endlinecolor": "#2a3f5f",
             "gridcolor": "white",
             "linecolor": "white",
             "minorgridcolor": "white",
             "startlinecolor": "#2a3f5f"
            },
            "baxis": {
             "endlinecolor": "#2a3f5f",
             "gridcolor": "white",
             "linecolor": "white",
             "minorgridcolor": "white",
             "startlinecolor": "#2a3f5f"
            },
            "type": "carpet"
           }
          ],
          "choropleth": [
           {
            "colorbar": {
             "outlinewidth": 0,
             "ticks": ""
            },
            "type": "choropleth"
           }
          ],
          "contour": [
           {
            "colorbar": {
             "outlinewidth": 0,
             "ticks": ""
            },
            "colorscale": [
             [
              0,
              "#0d0887"
             ],
             [
              0.1111111111111111,
              "#46039f"
             ],
             [
              0.2222222222222222,
              "#7201a8"
             ],
             [
              0.3333333333333333,
              "#9c179e"
             ],
             [
              0.4444444444444444,
              "#bd3786"
             ],
             [
              0.5555555555555556,
              "#d8576b"
             ],
             [
              0.6666666666666666,
              "#ed7953"
             ],
             [
              0.7777777777777778,
              "#fb9f3a"
             ],
             [
              0.8888888888888888,
              "#fdca26"
             ],
             [
              1,
              "#f0f921"
             ]
            ],
            "type": "contour"
           }
          ],
          "contourcarpet": [
           {
            "colorbar": {
             "outlinewidth": 0,
             "ticks": ""
            },
            "type": "contourcarpet"
           }
          ],
          "heatmap": [
           {
            "colorbar": {
             "outlinewidth": 0,
             "ticks": ""
            },
            "colorscale": [
             [
              0,
              "#0d0887"
             ],
             [
              0.1111111111111111,
              "#46039f"
             ],
             [
              0.2222222222222222,
              "#7201a8"
             ],
             [
              0.3333333333333333,
              "#9c179e"
             ],
             [
              0.4444444444444444,
              "#bd3786"
             ],
             [
              0.5555555555555556,
              "#d8576b"
             ],
             [
              0.6666666666666666,
              "#ed7953"
             ],
             [
              0.7777777777777778,
              "#fb9f3a"
             ],
             [
              0.8888888888888888,
              "#fdca26"
             ],
             [
              1,
              "#f0f921"
             ]
            ],
            "type": "heatmap"
           }
          ],
          "heatmapgl": [
           {
            "colorbar": {
             "outlinewidth": 0,
             "ticks": ""
            },
            "colorscale": [
             [
              0,
              "#0d0887"
             ],
             [
              0.1111111111111111,
              "#46039f"
             ],
             [
              0.2222222222222222,
              "#7201a8"
             ],
             [
              0.3333333333333333,
              "#9c179e"
             ],
             [
              0.4444444444444444,
              "#bd3786"
             ],
             [
              0.5555555555555556,
              "#d8576b"
             ],
             [
              0.6666666666666666,
              "#ed7953"
             ],
             [
              0.7777777777777778,
              "#fb9f3a"
             ],
             [
              0.8888888888888888,
              "#fdca26"
             ],
             [
              1,
              "#f0f921"
             ]
            ],
            "type": "heatmapgl"
           }
          ],
          "histogram": [
           {
            "marker": {
             "pattern": {
              "fillmode": "overlay",
              "size": 10,
              "solidity": 0.2
             }
            },
            "type": "histogram"
           }
          ],
          "histogram2d": [
           {
            "colorbar": {
             "outlinewidth": 0,
             "ticks": ""
            },
            "colorscale": [
             [
              0,
              "#0d0887"
             ],
             [
              0.1111111111111111,
              "#46039f"
             ],
             [
              0.2222222222222222,
              "#7201a8"
             ],
             [
              0.3333333333333333,
              "#9c179e"
             ],
             [
              0.4444444444444444,
              "#bd3786"
             ],
             [
              0.5555555555555556,
              "#d8576b"
             ],
             [
              0.6666666666666666,
              "#ed7953"
             ],
             [
              0.7777777777777778,
              "#fb9f3a"
             ],
             [
              0.8888888888888888,
              "#fdca26"
             ],
             [
              1,
              "#f0f921"
             ]
            ],
            "type": "histogram2d"
           }
          ],
          "histogram2dcontour": [
           {
            "colorbar": {
             "outlinewidth": 0,
             "ticks": ""
            },
            "colorscale": [
             [
              0,
              "#0d0887"
             ],
             [
              0.1111111111111111,
              "#46039f"
             ],
             [
              0.2222222222222222,
              "#7201a8"
             ],
             [
              0.3333333333333333,
              "#9c179e"
             ],
             [
              0.4444444444444444,
              "#bd3786"
             ],
             [
              0.5555555555555556,
              "#d8576b"
             ],
             [
              0.6666666666666666,
              "#ed7953"
             ],
             [
              0.7777777777777778,
              "#fb9f3a"
             ],
             [
              0.8888888888888888,
              "#fdca26"
             ],
             [
              1,
              "#f0f921"
             ]
            ],
            "type": "histogram2dcontour"
           }
          ],
          "mesh3d": [
           {
            "colorbar": {
             "outlinewidth": 0,
             "ticks": ""
            },
            "type": "mesh3d"
           }
          ],
          "parcoords": [
           {
            "line": {
             "colorbar": {
              "outlinewidth": 0,
              "ticks": ""
             }
            },
            "type": "parcoords"
           }
          ],
          "pie": [
           {
            "automargin": true,
            "type": "pie"
           }
          ],
          "scatter": [
           {
            "fillpattern": {
             "fillmode": "overlay",
             "size": 10,
             "solidity": 0.2
            },
            "type": "scatter"
           }
          ],
          "scatter3d": [
           {
            "line": {
             "colorbar": {
              "outlinewidth": 0,
              "ticks": ""
             }
            },
            "marker": {
             "colorbar": {
              "outlinewidth": 0,
              "ticks": ""
             }
            },
            "type": "scatter3d"
           }
          ],
          "scattercarpet": [
           {
            "marker": {
             "colorbar": {
              "outlinewidth": 0,
              "ticks": ""
             }
            },
            "type": "scattercarpet"
           }
          ],
          "scattergeo": [
           {
            "marker": {
             "colorbar": {
              "outlinewidth": 0,
              "ticks": ""
             }
            },
            "type": "scattergeo"
           }
          ],
          "scattergl": [
           {
            "marker": {
             "colorbar": {
              "outlinewidth": 0,
              "ticks": ""
             }
            },
            "type": "scattergl"
           }
          ],
          "scattermapbox": [
           {
            "marker": {
             "colorbar": {
              "outlinewidth": 0,
              "ticks": ""
             }
            },
            "type": "scattermapbox"
           }
          ],
          "scatterpolar": [
           {
            "marker": {
             "colorbar": {
              "outlinewidth": 0,
              "ticks": ""
             }
            },
            "type": "scatterpolar"
           }
          ],
          "scatterpolargl": [
           {
            "marker": {
             "colorbar": {
              "outlinewidth": 0,
              "ticks": ""
             }
            },
            "type": "scatterpolargl"
           }
          ],
          "scatterternary": [
           {
            "marker": {
             "colorbar": {
              "outlinewidth": 0,
              "ticks": ""
             }
            },
            "type": "scatterternary"
           }
          ],
          "surface": [
           {
            "colorbar": {
             "outlinewidth": 0,
             "ticks": ""
            },
            "colorscale": [
             [
              0,
              "#0d0887"
             ],
             [
              0.1111111111111111,
              "#46039f"
             ],
             [
              0.2222222222222222,
              "#7201a8"
             ],
             [
              0.3333333333333333,
              "#9c179e"
             ],
             [
              0.4444444444444444,
              "#bd3786"
             ],
             [
              0.5555555555555556,
              "#d8576b"
             ],
             [
              0.6666666666666666,
              "#ed7953"
             ],
             [
              0.7777777777777778,
              "#fb9f3a"
             ],
             [
              0.8888888888888888,
              "#fdca26"
             ],
             [
              1,
              "#f0f921"
             ]
            ],
            "type": "surface"
           }
          ],
          "table": [
           {
            "cells": {
             "fill": {
              "color": "#EBF0F8"
             },
             "line": {
              "color": "white"
             }
            },
            "header": {
             "fill": {
              "color": "#C8D4E3"
             },
             "line": {
              "color": "white"
             }
            },
            "type": "table"
           }
          ]
         },
         "layout": {
          "annotationdefaults": {
           "arrowcolor": "#2a3f5f",
           "arrowhead": 0,
           "arrowwidth": 1
          },
          "autotypenumbers": "strict",
          "coloraxis": {
           "colorbar": {
            "outlinewidth": 0,
            "ticks": ""
           }
          },
          "colorscale": {
           "diverging": [
            [
             0,
             "#8e0152"
            ],
            [
             0.1,
             "#c51b7d"
            ],
            [
             0.2,
             "#de77ae"
            ],
            [
             0.3,
             "#f1b6da"
            ],
            [
             0.4,
             "#fde0ef"
            ],
            [
             0.5,
             "#f7f7f7"
            ],
            [
             0.6,
             "#e6f5d0"
            ],
            [
             0.7,
             "#b8e186"
            ],
            [
             0.8,
             "#7fbc41"
            ],
            [
             0.9,
             "#4d9221"
            ],
            [
             1,
             "#276419"
            ]
           ],
           "sequential": [
            [
             0,
             "#0d0887"
            ],
            [
             0.1111111111111111,
             "#46039f"
            ],
            [
             0.2222222222222222,
             "#7201a8"
            ],
            [
             0.3333333333333333,
             "#9c179e"
            ],
            [
             0.4444444444444444,
             "#bd3786"
            ],
            [
             0.5555555555555556,
             "#d8576b"
            ],
            [
             0.6666666666666666,
             "#ed7953"
            ],
            [
             0.7777777777777778,
             "#fb9f3a"
            ],
            [
             0.8888888888888888,
             "#fdca26"
            ],
            [
             1,
             "#f0f921"
            ]
           ],
           "sequentialminus": [
            [
             0,
             "#0d0887"
            ],
            [
             0.1111111111111111,
             "#46039f"
            ],
            [
             0.2222222222222222,
             "#7201a8"
            ],
            [
             0.3333333333333333,
             "#9c179e"
            ],
            [
             0.4444444444444444,
             "#bd3786"
            ],
            [
             0.5555555555555556,
             "#d8576b"
            ],
            [
             0.6666666666666666,
             "#ed7953"
            ],
            [
             0.7777777777777778,
             "#fb9f3a"
            ],
            [
             0.8888888888888888,
             "#fdca26"
            ],
            [
             1,
             "#f0f921"
            ]
           ]
          },
          "colorway": [
           "#636efa",
           "#EF553B",
           "#00cc96",
           "#ab63fa",
           "#FFA15A",
           "#19d3f3",
           "#FF6692",
           "#B6E880",
           "#FF97FF",
           "#FECB52"
          ],
          "font": {
           "color": "#2a3f5f"
          },
          "geo": {
           "bgcolor": "white",
           "lakecolor": "white",
           "landcolor": "#E5ECF6",
           "showlakes": true,
           "showland": true,
           "subunitcolor": "white"
          },
          "hoverlabel": {
           "align": "left"
          },
          "hovermode": "closest",
          "mapbox": {
           "style": "light"
          },
          "paper_bgcolor": "white",
          "plot_bgcolor": "#E5ECF6",
          "polar": {
           "angularaxis": {
            "gridcolor": "white",
            "linecolor": "white",
            "ticks": ""
           },
           "bgcolor": "#E5ECF6",
           "radialaxis": {
            "gridcolor": "white",
            "linecolor": "white",
            "ticks": ""
           }
          },
          "scene": {
           "xaxis": {
            "backgroundcolor": "#E5ECF6",
            "gridcolor": "white",
            "gridwidth": 2,
            "linecolor": "white",
            "showbackground": true,
            "ticks": "",
            "zerolinecolor": "white"
           },
           "yaxis": {
            "backgroundcolor": "#E5ECF6",
            "gridcolor": "white",
            "gridwidth": 2,
            "linecolor": "white",
            "showbackground": true,
            "ticks": "",
            "zerolinecolor": "white"
           },
           "zaxis": {
            "backgroundcolor": "#E5ECF6",
            "gridcolor": "white",
            "gridwidth": 2,
            "linecolor": "white",
            "showbackground": true,
            "ticks": "",
            "zerolinecolor": "white"
           }
          },
          "shapedefaults": {
           "line": {
            "color": "#2a3f5f"
           }
          },
          "ternary": {
           "aaxis": {
            "gridcolor": "white",
            "linecolor": "white",
            "ticks": ""
           },
           "baxis": {
            "gridcolor": "white",
            "linecolor": "white",
            "ticks": ""
           },
           "bgcolor": "#E5ECF6",
           "caxis": {
            "gridcolor": "white",
            "linecolor": "white",
            "ticks": ""
           }
          },
          "title": {
           "x": 0.05
          },
          "xaxis": {
           "automargin": true,
           "gridcolor": "white",
           "linecolor": "white",
           "ticks": "",
           "title": {
            "standoff": 15
           },
           "zerolinecolor": "white",
           "zerolinewidth": 2
          },
          "yaxis": {
           "automargin": true,
           "gridcolor": "white",
           "linecolor": "white",
           "ticks": "",
           "title": {
            "standoff": 15
           },
           "zerolinecolor": "white",
           "zerolinewidth": 2
          }
         }
        },
        "title": {
         "text": "Parallel Coordinate Plot"
        }
       }
      }
     },
     "metadata": {},
     "output_type": "display_data"
    }
   ],
   "source": [
    "optuna.visualization.plot_parallel_coordinate(study).show()"
   ]
  },
  {
   "cell_type": "markdown",
   "id": "4f5bc648",
   "metadata": {},
   "source": [
    "## Scaling Gradient Boosting for Large Datasets and Smarter Tuning\n",
    "\n",
    "Check out [`HistGradientBoostingRegressor()`](https://scikit-learn.org/stable/modules/generated/sklearn.ensemble.HistGradientBoostingRegressor.html) and [`HistGradientBoostingClassifier()`](https://scikit-learn.org/stable/modules/generated/sklearn.ensemble.HistGradientBoostingClassifier.html) for a faster gradient boosting algorithm for big datasets *(more than 10,000 observations)*.\n",
    "\n",
    "Check out tips for faster hyperparameter tuning, such as tuning `max_leaf_nodes` instead of `max_depth` [here](https://scikit-learn.org/stable/modules/ensemble.html#controlling-the-tree-size)."
   ]
  },
  {
   "cell_type": "markdown",
   "id": "62ce483e",
   "metadata": {},
   "source": [
    "##  Independent Study\n",
    "\n",
    "In this notebook, we used the car dataset for a guided regression task to illustrate the core hyperparameters in gradient boosting and how to tune them to balance bias and variance.\n",
    "\n",
    "For your practice, please work with the **diabetes dataset** and complete the following:\n",
    "\n",
    "- Fit a baseline gradient boosting classifier.\n",
    "- Tune key hyperparameters: `learning_rate`, `n_estimators`, `max_depth`, and `subsample`.\n",
    "- Use **early stopping** to determine the optimal number of trees.\n",
    "- Compare training and test `roc_auc` before and after tuning.\n",
    "- Visualize the learning curve (training vs test error across iterations).\n",
    "- Summarize what combination of hyperparameters yielded the best performance and how they impacted bias and variance.\n",
    "\n",
    "Feel free to use `GridSearchCV`, `BayesSearchCV`, or other tuning as you prefer.\n"
   ]
  },
  {
   "cell_type": "code",
   "execution_count": 37,
   "id": "7b50e2fd",
   "metadata": {},
   "outputs": [],
   "source": [
    "train = pd.read_csv('./Datasets/diabetes_train.csv')\n",
    "test = pd.read_csv('./Datasets/diabetes_test.csv')"
   ]
  },
  {
   "cell_type": "code",
   "execution_count": 39,
   "id": "41f5f44f",
   "metadata": {},
   "outputs": [
    {
     "name": "stdout",
     "output_type": "stream",
     "text": [
      "(614, 9) (154, 9)\n"
     ]
    },
    {
     "data": {
      "text/html": [
       "<div>\n",
       "<style scoped>\n",
       "    .dataframe tbody tr th:only-of-type {\n",
       "        vertical-align: middle;\n",
       "    }\n",
       "\n",
       "    .dataframe tbody tr th {\n",
       "        vertical-align: top;\n",
       "    }\n",
       "\n",
       "    .dataframe thead th {\n",
       "        text-align: right;\n",
       "    }\n",
       "</style>\n",
       "<table border=\"1\" class=\"dataframe\">\n",
       "  <thead>\n",
       "    <tr style=\"text-align: right;\">\n",
       "      <th></th>\n",
       "      <th>Pregnancies</th>\n",
       "      <th>Glucose</th>\n",
       "      <th>BloodPressure</th>\n",
       "      <th>SkinThickness</th>\n",
       "      <th>Insulin</th>\n",
       "      <th>BMI</th>\n",
       "      <th>DiabetesPedigreeFunction</th>\n",
       "      <th>Age</th>\n",
       "      <th>Outcome</th>\n",
       "    </tr>\n",
       "  </thead>\n",
       "  <tbody>\n",
       "    <tr>\n",
       "      <th>0</th>\n",
       "      <td>2</td>\n",
       "      <td>88</td>\n",
       "      <td>74</td>\n",
       "      <td>19</td>\n",
       "      <td>53</td>\n",
       "      <td>29.0</td>\n",
       "      <td>0.229</td>\n",
       "      <td>22</td>\n",
       "      <td>0</td>\n",
       "    </tr>\n",
       "    <tr>\n",
       "      <th>1</th>\n",
       "      <td>2</td>\n",
       "      <td>129</td>\n",
       "      <td>84</td>\n",
       "      <td>0</td>\n",
       "      <td>0</td>\n",
       "      <td>28.0</td>\n",
       "      <td>0.284</td>\n",
       "      <td>27</td>\n",
       "      <td>0</td>\n",
       "    </tr>\n",
       "    <tr>\n",
       "      <th>2</th>\n",
       "      <td>0</td>\n",
       "      <td>102</td>\n",
       "      <td>78</td>\n",
       "      <td>40</td>\n",
       "      <td>90</td>\n",
       "      <td>34.5</td>\n",
       "      <td>0.238</td>\n",
       "      <td>24</td>\n",
       "      <td>0</td>\n",
       "    </tr>\n",
       "    <tr>\n",
       "      <th>3</th>\n",
       "      <td>0</td>\n",
       "      <td>123</td>\n",
       "      <td>72</td>\n",
       "      <td>0</td>\n",
       "      <td>0</td>\n",
       "      <td>36.3</td>\n",
       "      <td>0.258</td>\n",
       "      <td>52</td>\n",
       "      <td>1</td>\n",
       "    </tr>\n",
       "    <tr>\n",
       "      <th>4</th>\n",
       "      <td>1</td>\n",
       "      <td>144</td>\n",
       "      <td>82</td>\n",
       "      <td>46</td>\n",
       "      <td>180</td>\n",
       "      <td>46.1</td>\n",
       "      <td>0.335</td>\n",
       "      <td>46</td>\n",
       "      <td>1</td>\n",
       "    </tr>\n",
       "  </tbody>\n",
       "</table>\n",
       "</div>"
      ],
      "text/plain": [
       "   Pregnancies  Glucose  BloodPressure  ...  DiabetesPedigreeFunction  Age  Outcome\n",
       "0            2       88             74  ...                     0.229   22        0\n",
       "1            2      129             84  ...                     0.284   27        0\n",
       "2            0      102             78  ...                     0.238   24        0\n",
       "3            0      123             72  ...                     0.258   52        1\n",
       "4            1      144             82  ...                     0.335   46        1\n",
       "\n",
       "[5 rows x 9 columns]"
      ]
     },
     "execution_count": 39,
     "metadata": {},
     "output_type": "execute_result"
    }
   ],
   "source": [
    "print(train.shape, test.shape)\n",
    "train.head()"
   ]
  },
  {
   "cell_type": "code",
   "execution_count": 41,
   "id": "68b1eac9",
   "metadata": {},
   "outputs": [
    {
     "data": {
      "text/plain": [
       "Outcome\n",
       "0    0.662866\n",
       "1    0.337134\n",
       "Name: proportion, dtype: float64"
      ]
     },
     "execution_count": 41,
     "metadata": {},
     "output_type": "execute_result"
    }
   ],
   "source": [
    "# check the distribution of the target variable\n",
    "train['Outcome'].value_counts(normalize=True)\n"
   ]
  },
  {
   "cell_type": "code",
   "execution_count": null,
   "id": "646083d6",
   "metadata": {},
   "outputs": [],
   "source": []
  }
 ],
 "metadata": {
  "kernelspec": {
   "display_name": "base",
   "language": "python",
   "name": "python3"
  },
  "language_info": {
   "codemirror_mode": {
    "name": "ipython",
    "version": 3
   },
   "file_extension": ".py",
   "mimetype": "text/x-python",
   "name": "python",
   "nbconvert_exporter": "python",
   "pygments_lexer": "ipython3",
   "version": "3.12.4"
  }
 },
 "nbformat": 4,
 "nbformat_minor": 5
}
