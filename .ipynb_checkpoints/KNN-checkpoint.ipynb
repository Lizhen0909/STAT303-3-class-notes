{
 "cells": [
  {
   "cell_type": "raw",
   "id": "c7d162cb",
   "metadata": {},
   "source": [
    "---\n",
    "title: \"KNN\"\n",
    "format: \n",
    "  html:\n",
    "    code-fold: false\n",
    "    toc-depth: 4\n",
    "    jupyter: python3\n",
    "---"
   ]
  },
  {
   "cell_type": "code",
   "execution_count": 1,
   "id": "a6e89272",
   "metadata": {},
   "outputs": [],
   "source": [
    "# Importing necessary libraries\n",
    "import pandas as pd\n",
    "import numpy as np\n",
    "import matplotlib.pyplot as plt\n",
    "import seaborn as sns\n",
    "sns.set(font_scale=1.35)\n",
    "\n",
    "from sklearn.preprocessing import StandardScaler\n",
    "from sklearn.neighbors import KNeighborsRegressor, KNeighborsClassifier\n",
    "from sklearn.metrics import mean_squared_error\n",
    "from sklearn.model_selection import cross_val_score, GridSearchCV, cross_val_predict"
   ]
  },
  {
   "cell_type": "markdown",
   "id": "eae4740a",
   "metadata": {},
   "source": [
    "*Read section 4.7.6 of the book before using these notes.*\n",
    "\n",
    "*Note that in this course, lecture notes are not sufficient, you must read the book for better understanding. Lecture notes are just implementing the concepts of the book on a dataset, but not explaining the concepts elaborately.*"
   ]
  },
  {
   "cell_type": "markdown",
   "id": "548f1c9a",
   "metadata": {},
   "source": [
    "## KNN for regression"
   ]
  },
  {
   "cell_type": "code",
   "execution_count": 2,
   "id": "348ec4f8",
   "metadata": {},
   "outputs": [
    {
     "data": {
      "text/html": [
       "<div>\n",
       "<style scoped>\n",
       "    .dataframe tbody tr th:only-of-type {\n",
       "        vertical-align: middle;\n",
       "    }\n",
       "\n",
       "    .dataframe tbody tr th {\n",
       "        vertical-align: top;\n",
       "    }\n",
       "\n",
       "    .dataframe thead th {\n",
       "        text-align: right;\n",
       "    }\n",
       "</style>\n",
       "<table border=\"1\" class=\"dataframe\">\n",
       "  <thead>\n",
       "    <tr style=\"text-align: right;\">\n",
       "      <th></th>\n",
       "      <th>carID</th>\n",
       "      <th>brand</th>\n",
       "      <th>model</th>\n",
       "      <th>year</th>\n",
       "      <th>transmission</th>\n",
       "      <th>mileage</th>\n",
       "      <th>fuelType</th>\n",
       "      <th>tax</th>\n",
       "      <th>mpg</th>\n",
       "      <th>engineSize</th>\n",
       "      <th>price</th>\n",
       "    </tr>\n",
       "  </thead>\n",
       "  <tbody>\n",
       "    <tr>\n",
       "      <th>0</th>\n",
       "      <td>18473</td>\n",
       "      <td>bmw</td>\n",
       "      <td>6 Series</td>\n",
       "      <td>2020</td>\n",
       "      <td>Semi-Auto</td>\n",
       "      <td>11</td>\n",
       "      <td>Diesel</td>\n",
       "      <td>145</td>\n",
       "      <td>53.3282</td>\n",
       "      <td>3.0</td>\n",
       "      <td>37980</td>\n",
       "    </tr>\n",
       "    <tr>\n",
       "      <th>1</th>\n",
       "      <td>15064</td>\n",
       "      <td>bmw</td>\n",
       "      <td>6 Series</td>\n",
       "      <td>2019</td>\n",
       "      <td>Semi-Auto</td>\n",
       "      <td>10813</td>\n",
       "      <td>Diesel</td>\n",
       "      <td>145</td>\n",
       "      <td>53.0430</td>\n",
       "      <td>3.0</td>\n",
       "      <td>33980</td>\n",
       "    </tr>\n",
       "    <tr>\n",
       "      <th>2</th>\n",
       "      <td>18268</td>\n",
       "      <td>bmw</td>\n",
       "      <td>6 Series</td>\n",
       "      <td>2020</td>\n",
       "      <td>Semi-Auto</td>\n",
       "      <td>6</td>\n",
       "      <td>Diesel</td>\n",
       "      <td>145</td>\n",
       "      <td>53.4379</td>\n",
       "      <td>3.0</td>\n",
       "      <td>36850</td>\n",
       "    </tr>\n",
       "    <tr>\n",
       "      <th>3</th>\n",
       "      <td>18480</td>\n",
       "      <td>bmw</td>\n",
       "      <td>6 Series</td>\n",
       "      <td>2017</td>\n",
       "      <td>Semi-Auto</td>\n",
       "      <td>18895</td>\n",
       "      <td>Diesel</td>\n",
       "      <td>145</td>\n",
       "      <td>51.5140</td>\n",
       "      <td>3.0</td>\n",
       "      <td>25998</td>\n",
       "    </tr>\n",
       "    <tr>\n",
       "      <th>4</th>\n",
       "      <td>18492</td>\n",
       "      <td>bmw</td>\n",
       "      <td>6 Series</td>\n",
       "      <td>2015</td>\n",
       "      <td>Automatic</td>\n",
       "      <td>62953</td>\n",
       "      <td>Diesel</td>\n",
       "      <td>160</td>\n",
       "      <td>51.4903</td>\n",
       "      <td>3.0</td>\n",
       "      <td>18990</td>\n",
       "    </tr>\n",
       "  </tbody>\n",
       "</table>\n",
       "</div>"
      ],
      "text/plain": [
       "   carID brand      model  year transmission  mileage fuelType  tax      mpg  \\\n",
       "0  18473   bmw   6 Series  2020    Semi-Auto       11   Diesel  145  53.3282   \n",
       "1  15064   bmw   6 Series  2019    Semi-Auto    10813   Diesel  145  53.0430   \n",
       "2  18268   bmw   6 Series  2020    Semi-Auto        6   Diesel  145  53.4379   \n",
       "3  18480   bmw   6 Series  2017    Semi-Auto    18895   Diesel  145  51.5140   \n",
       "4  18492   bmw   6 Series  2015    Automatic    62953   Diesel  160  51.4903   \n",
       "\n",
       "   engineSize  price  \n",
       "0         3.0  37980  \n",
       "1         3.0  33980  \n",
       "2         3.0  36850  \n",
       "3         3.0  25998  \n",
       "4         3.0  18990  "
      ]
     },
     "execution_count": 2,
     "metadata": {},
     "output_type": "execute_result"
    }
   ],
   "source": [
    "#Using the same datasets as used for linear regression in STAT303-2, \n",
    "#so that we can compare the non-linear models with linear regression\n",
    "trainf = pd.read_csv('./Datasets/Car_features_train.csv')\n",
    "trainp = pd.read_csv('./Datasets/Car_prices_train.csv')\n",
    "testf = pd.read_csv('./Datasets/Car_features_test.csv')\n",
    "testp = pd.read_csv('./Datasets/Car_prices_test.csv')\n",
    "train = pd.merge(trainf,trainp)\n",
    "test = pd.merge(testf,testp)\n",
    "train.head()"
   ]
  },
  {
   "cell_type": "code",
   "execution_count": 11,
   "id": "767dc3c9",
   "metadata": {},
   "outputs": [],
   "source": [
    "predictors = ['mpg', 'engineSize', 'year', 'mileage']\n",
    "\n",
    "X_train = train[predictors]\n",
    "y_train = train['price']\n",
    "\n",
    "X_test = test[predictors]\n",
    "y_test = test['price']"
   ]
  },
  {
   "cell_type": "markdown",
   "id": "e39048b9",
   "metadata": {},
   "source": [
    "Let us scale data as we are using KNN."
   ]
  },
  {
   "cell_type": "markdown",
   "id": "49b9eb28",
   "metadata": {},
   "source": [
    "### Scaling data"
   ]
  },
  {
   "cell_type": "code",
   "execution_count": 12,
   "id": "ea6db06d",
   "metadata": {},
   "outputs": [],
   "source": [
    "# Scale\n",
    "sc = StandardScaler()\n",
    "\n",
    "sc.fit(X_train)\n",
    "X_train_scaled = sc.transform(X_train)\n",
    "X_test_scaled = sc.transform(X_test)"
   ]
  },
  {
   "cell_type": "markdown",
   "id": "f5c7bbb9",
   "metadata": {},
   "source": [
    "Let fit the model and compute the RMSE on test data. If the number of neighbors is not specified, the default value is taken."
   ]
  },
  {
   "cell_type": "markdown",
   "id": "55ac35c1",
   "metadata": {},
   "source": [
    "### Fitting and validating model"
   ]
  },
  {
   "cell_type": "code",
   "execution_count": 120,
   "id": "2efb806f",
   "metadata": {},
   "outputs": [
    {
     "data": {
      "text/plain": [
       "6329.691192885354"
      ]
     },
     "execution_count": 120,
     "metadata": {},
     "output_type": "execute_result"
    }
   ],
   "source": [
    "knn_model = KNeighborsRegressor() \n",
    "\n",
    "knn_model.fit(X_train_scaled, (y_train))\n",
    "\n",
    "y_pred = knn_model.predict(X_test_scaled)\n",
    "y_pred_train = knn_model.predict(X_train_scaled)\n",
    "\n",
    "mean_squared_error(y_test, (y_pred), squared=False)"
   ]
  },
  {
   "cell_type": "code",
   "execution_count": 121,
   "id": "f090da66",
   "metadata": {},
   "outputs": [
    {
     "data": {
      "text/plain": [
       "6063.327598353961"
      ]
     },
     "execution_count": 121,
     "metadata": {},
     "output_type": "execute_result"
    }
   ],
   "source": [
    "knn_model2 = KNeighborsRegressor(n_neighbors = 5, weights='distance') # Default weights is uniform\n",
    "\n",
    "knn_model2.fit(X_train_scaled, y_train)\n",
    "\n",
    "y_pred = knn_model2.predict(X_test_scaled)\n",
    "\n",
    "mean_squared_error(y_test, y_pred, squared=False)"
   ]
  },
  {
   "cell_type": "markdown",
   "id": "a41d8529",
   "metadata": {},
   "source": [
    "The model seems to fit better than all the linear models in STAT303-2. "
   ]
  },
  {
   "cell_type": "markdown",
   "id": "1b1e38e1",
   "metadata": {},
   "source": [
    "### Hyperparameter tuning"
   ]
  },
  {
   "cell_type": "markdown",
   "id": "cc30284e",
   "metadata": {},
   "source": [
    "We will use cross-validation to find the optimal value of the hyperparameter `n_neighbors`. "
   ]
  },
  {
   "cell_type": "code",
   "execution_count": 115,
   "id": "00cbca8f",
   "metadata": {},
   "outputs": [],
   "source": [
    "Ks = np.arange(1,601)\n",
    "\n",
    "cv_scores = []\n",
    "\n",
    "for K in Ks:\n",
    "    model = KNeighborsRegressor(n_neighbors = K, weights='distance')\n",
    "    score = cross_val_score(model, X_train_scaled, y_train, cv=5, scoring = 'neg_root_mean_squared_error')\n",
    "    cv_scores.append(score)"
   ]
  },
  {
   "cell_type": "code",
   "execution_count": 116,
   "id": "6ae73057",
   "metadata": {},
   "outputs": [
    {
     "data": {
      "text/plain": [
       "(600, 5)"
      ]
     },
     "execution_count": 116,
     "metadata": {},
     "output_type": "execute_result"
    }
   ],
   "source": [
    "np.array(cv_scores).shape\n",
    "# Each row is a K"
   ]
  },
  {
   "cell_type": "code",
   "execution_count": 117,
   "id": "afb3bf8f",
   "metadata": {},
   "outputs": [],
   "source": [
    "cv_scores_array = np.array(cv_scores)\n",
    "\n",
    "avg_cv_scores = -cv_scores_array.mean(axis=1)"
   ]
  },
  {
   "cell_type": "code",
   "execution_count": 119,
   "id": "f8f34a55",
   "metadata": {},
   "outputs": [
    {
     "data": {
      "image/png": "[encoded data removed]",
      "text/plain": [
       "<Figure size 640x480 with 1 Axes>"
      ]
     },
     "metadata": {},
     "output_type": "display_data"
    }
   ],
   "source": [
    "sns.lineplot(x = range(600), y = avg_cv_scores);\n",
    "plt.xlabel('K')\n",
    "plt.ylabel('5-fold Cross-validated RMSE');"
   ]
  },
  {
   "cell_type": "code",
   "execution_count": 118,
   "id": "f1915edf",
   "metadata": {},
   "outputs": [
    {
     "data": {
      "text/plain": [
       "366"
      ]
     },
     "execution_count": 118,
     "metadata": {},
     "output_type": "execute_result"
    }
   ],
   "source": [
    "avg_cv_scores.min() # Best CV score\n",
    " \n",
    "Ks[avg_cv_scores.argmin()] # Best hyperparam value"
   ]
  },
  {
   "cell_type": "markdown",
   "id": "0fc16fcb",
   "metadata": {},
   "source": [
    "The optimal hyperparameter value is 366. Does it seem to be too high?"
   ]
  },
  {
   "cell_type": "code",
   "execution_count": 11,
   "id": "cf33872b",
   "metadata": {},
   "outputs": [
    {
     "data": {
      "text/plain": [
       "7724.452068618346"
      ]
     },
     "execution_count": 11,
     "metadata": {},
     "output_type": "execute_result"
    }
   ],
   "source": [
    "best_model = KNeighborsRegressor(n_neighbors = Ks[avg_cv_scores.argmin()], weights='distance')\n",
    "\n",
    "best_model.fit(X_train_scaled, y_train)\n",
    "\n",
    "y_pred = best_model.predict(X_test_scaled)\n",
    "\n",
    "mean_squared_error(y_test, y_pred, squared=False)"
   ]
  },
  {
   "cell_type": "markdown",
   "id": "3710c843",
   "metadata": {},
   "source": [
    "**The test error with the optimal hyperparameter value based on cross-validation is much higher than that based on the default value of the hyperparameter**. Why is that?"
   ]
  },
  {
   "cell_type": "markdown",
   "id": "e577dbb8",
   "metadata": {},
   "source": [
    "### KNN hyperparameters"
   ]
  },
  {
   "cell_type": "markdown",
   "id": "81c40b9e",
   "metadata": {},
   "source": [
    "The model hyperparameters can be obtained using the `get_params()` method. Note that there are other hyperparameters to tune in addition to number of neighbors. However, the number of neighbours may be the most influential hyperparameter in most cases."
   ]
  },
  {
   "cell_type": "code",
   "execution_count": 12,
   "id": "5d8b82ac",
   "metadata": {},
   "outputs": [
    {
     "data": {
      "text/plain": [
       "{'algorithm': 'auto',\n",
       " 'leaf_size': 30,\n",
       " 'metric': 'minkowski',\n",
       " 'metric_params': None,\n",
       " 'n_jobs': None,\n",
       " 'n_neighbors': 366,\n",
       " 'p': 2,\n",
       " 'weights': 'distance'}"
      ]
     },
     "execution_count": 12,
     "metadata": {},
     "output_type": "execute_result"
    }
   ],
   "source": [
    "best_model.get_params()"
   ]
  },
  {
   "cell_type": "markdown",
   "id": "0c25ae4d",
   "metadata": {},
   "source": [
    "The distances and the indices of the nearest K observations to each test observation can be obtained using the `kneighbors()` method."
   ]
  },
  {
   "cell_type": "code",
   "execution_count": 13,
   "id": "2dd8d2f0",
   "metadata": {},
   "outputs": [
    {
     "data": {
      "text/plain": [
       "(array([[1.92799060e-02, 1.31899013e-01, 1.89662146e-01, ...,\n",
       "         8.38960707e-01, 8.39293053e-01, 8.39947823e-01],\n",
       "        [7.07215830e-02, 1.99916181e-01, 2.85592939e-01, ...,\n",
       "         1.15445056e+00, 1.15450848e+00, 1.15512897e+00],\n",
       "        [1.32608205e-03, 1.43558347e-02, 1.80622215e-02, ...,\n",
       "         5.16758453e-01, 5.17378567e-01, 5.17852312e-01],\n",
       "        ...,\n",
       "        [1.29209535e-02, 1.59187173e-02, 3.67038947e-02, ...,\n",
       "         8.48811744e-01, 8.51235616e-01, 8.55044146e-01],\n",
       "        [1.84971803e-02, 1.67471541e-01, 1.69374312e-01, ...,\n",
       "         7.76743422e-01, 7.76943691e-01, 7.77760930e-01],\n",
       "        [4.63762129e-01, 5.88639393e-01, 7.54718535e-01, ...,\n",
       "         3.16994824e+00, 3.17126663e+00, 3.17294300e+00]]),\n",
       " array([[1639, 1647, 4119, ..., 3175, 2818, 4638],\n",
       "        [ 367, 1655, 1638, ..., 2010, 3600,  268],\n",
       "        [ 393, 4679, 3176, ..., 4663,  357,  293],\n",
       "        ...,\n",
       "        [3116, 3736, 3108, ..., 3841, 2668, 2666],\n",
       "        [4864, 3540, 4852, ..., 3596, 3605, 4271],\n",
       "        [ 435,  729, 4897, ..., 4112, 2401, 2460]], dtype=int64))"
      ]
     },
     "execution_count": 13,
     "metadata": {},
     "output_type": "execute_result"
    }
   ],
   "source": [
    "best_model.kneighbors(X_test_scaled, return_distance=True)\n",
    "\n",
    "# Each row is a test obs\n",
    "# The cols are the indices of the K Nearest Neighbors (in the training data) to the test obs"
   ]
  },
  {
   "cell_type": "markdown",
   "id": "d23aafd1",
   "metadata": {},
   "source": [
    "## KNN for classification"
   ]
  },
  {
   "cell_type": "markdown",
   "id": "44db25e0",
   "metadata": {},
   "source": [
    "KNN model for classification can developed and tuned in a similar manner using the sklearn function `KNeighborsClassifier()`"
   ]
  },
  {
   "cell_type": "markdown",
   "id": "ef7071a2",
   "metadata": {},
   "source": [
    "- For classification, KNeighborsClassifier\n",
    "- Exact same inputs\n",
    "    - One detail: Not common to use even numbers for K in classification because of majority voting\n",
    "    - Ks = np.arange(1,41,2) --> To get the odd numbers"
   ]
  }
 ],
 "metadata": {
  "kernelspec": {
   "display_name": "Python 3 (ipykernel)",
   "language": "python",
   "name": "python3"
  },
  "language_info": {
   "codemirror_mode": {
    "name": "ipython",
    "version": 3
   },
   "file_extension": ".py",
   "mimetype": "text/x-python",
   "name": "python",
   "nbconvert_exporter": "python",
   "pygments_lexer": "ipython3",
   "version": "3.8.17"
  }
 },
 "nbformat": 4,
 "nbformat_minor": 5
}
