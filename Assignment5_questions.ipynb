{
 "cells": [
  {
   "cell_type": "raw",
   "id": "460e2099-f2c5-440a-8ea1-a4f051d41328",
   "metadata": {},
   "source": [
    "---\n",
    "title: \"Assignment 5\"\n",
    "format: \n",
    "  html:\n",
    "    toc: true\n",
    "    toc-title: Contents\n",
    "    toc-depth: 4\n",
    "    code-fold: show\n",
    "    self-contained: true\n",
    "    html-math-method: mathml \n",
    "    number-sections: false\n",
    "jupyter: python3\n",
    "---"
   ]
  },
  {
   "cell_type": "markdown",
   "id": "7d5cc8f6-caf7-4c98-b3c7-b888a8943853",
   "metadata": {},
   "source": [
    "## Instructions {-}\n",
    "\n",
    "1. You may talk to a friend, discuss the questions and potential directions for solving them. However, you need to write your own solutions and code separately, and not as a group activity. \n",
    "\n",
    "2. Write your code in the **Code cells** and your answers in the **Markdown cells** of the Jupyter notebook. Ensure that the solution is written neatly enough to for the graders to understand and follow.\n",
    "\n",
    "3. Use [Quarto](https://quarto.org/docs/output-formats/html-basics.html) to render the **.ipynb** file as HTML. You will need to open the command prompt, navigate to the directory containing the file, and use the command: `quarto render filename.ipynb --to html`. Submit the HTML file.\n",
    "\n",
    "4. The assignment is worth 100 points, and is due on **Tuesday, 4th June 2024 at 11:59 pm**.\n",
    "\n",
    "5. **Five points are properly formatting the assignment**. The breakdown is as follows:\n",
    "    - Must be an HTML file rendered using Quarto **(1 point)**. *If you have a Quarto issue, you must mention the issue & quote the error you get when rendering using Quarto in the comments section of Canvas, and submit the ipynb file.* \n",
    "    - No name can be written on the assignment, nor can there be any indicator of the student’s identity—e.g. printouts of the working directory should not be included in the final submission.  **(1 point)**\n",
    "    - There aren’t excessively long outputs of extraneous information (e.g. no printouts of entire data frames without good reason, there aren’t long printouts of which iteration a loop is on, there aren’t long sections of commented-out code, etc.) **(1 point)**\n",
    "    - Final answers to each question are written in the Markdown cells. **(1 point)**\n",
    "    - There is no piece of unnecessary / redundant code, and no unnecessary / redundant text. **(1 point)**\n",
    "\n",
    "6.  The maximum possible score in the assigment is 95 + 5 = 100 out of 100."
   ]
  },
  {
   "cell_type": "markdown",
   "id": "859b34cb-ddc2-4f66-b114-8eb58b0fc913",
   "metadata": {},
   "source": [
    "## 1) Conceptual (9 points)"
   ]
  },
  {
   "cell_type": "markdown",
   "id": "ced816dc-4399-470d-a410-7e7686199080",
   "metadata": {},
   "source": [
    "### a)\n",
    "\n",
    "Is it possible for an ensemble model (Voting or Stacking) to perform worse than one or more of its base models? **(1 point)** Why or why not? **(4 points)**"
   ]
  },
  {
   "cell_type": "markdown",
   "id": "3a4c0c42-324b-4ff9-ac7a-785a8c697317",
   "metadata": {},
   "source": [
    "### b)\n",
    "\n",
    "If the ensemble model (Voting or Stacking) does perform worse than one or more of its base models, then what should be the course of action? **(4 points)**"
   ]
  },
  {
   "cell_type": "markdown",
   "id": "37e49d31-fb24-48d5-bb7b-a12fb9909dd8",
   "metadata": {},
   "source": [
    "## 2) Regression with Ensembles (45 points)"
   ]
  },
  {
   "cell_type": "markdown",
   "id": "1f75538c-6661-4544-beb3-9dbd5596156f",
   "metadata": {},
   "source": [
    "For this question, you will use the **miami_housing.csv** file. You can find the description for the variables [here](https://www.kaggle.com/datasets/deepcontractor/miami-housing-dataset).\n",
    "\n",
    "The `SALE_PRC` variable is the regression response and the rest of the variables, except `PARCELNO`, are the predictors."
   ]
  },
  {
   "cell_type": "markdown",
   "id": "ceec57ef-e736-4e3a-8ee0-b49aff9c7469",
   "metadata": {},
   "source": [
    "### a)\n",
    "\n",
    "Read the dataset. Create the training and test sets with a 60%-40% split and `random_state = 1`. **(1 point)**"
   ]
  },
  {
   "cell_type": "markdown",
   "id": "524a01fc-3ea5-4284-a9a7-01ea5a0bc407",
   "metadata": {},
   "source": [
    "### b)\n",
    "\n",
    "Recreate and train all the following **tuned** regression models: **(5x0.5 = 2.5 points)** **Set all random_states to 1.**\n",
    "\n",
    "- Bagged Trees from Assignment 3\n",
    "- Random Forest from Assignment 3\n",
    "- AdaBoost from Assignment 4\n",
    "- Gradient Boosting from Assignment 4\n",
    "- XGBoost from Assignment 4\n",
    "\n",
    "Note that there will not be any cross-validation, since the models are already tuned, i.e. created with the best hyperparameters found in the previous assignments.\n",
    "\n",
    "Print the test MAE of all five tuned models. **(5x0.5 = 2.5 points)**"
   ]
  },
  {
   "cell_type": "markdown",
   "id": "ee5d8997-7958-4f5c-b931-590dbb156fee",
   "metadata": {},
   "source": [
    "### c)\n",
    "\n",
    "Train a Voting Ensemble Regressor with all the five models in part b. Note that all the models are separately tuned, which means the Voting Ensemble is tuned (in a greedy way.) Print the test MAE of the Voting Ensemble. **(5 points)** Is it better than all the base models? **(1 point)**"
   ]
  },
  {
   "cell_type": "markdown",
   "id": "404df99b-0622-4504-8234-06413bc46cda",
   "metadata": {},
   "source": [
    "### d) \n",
    "\n",
    "Retrain the Voting Ensemble Regressor with the two models that return the lowest MAE in part b. Print the test MAE and compare with the results in part b and c. **(3 points)**"
   ]
  },
  {
   "cell_type": "markdown",
   "id": "52c9378e",
   "metadata": {},
   "source": [
    "### e) Stacking ensemble with Linear regression\n",
    "\n",
    "Develop a linear regression metamodel based on the models in Q2(b). Report the MAE of the metamodel on test data. Which model has the highest weight in the ensemble?\n",
    "\n",
    "*Note:*\n",
    "\n",
    "1. You may use the `StackingRegressor()` function. However, as the next set of questions ask you to develop different metamodels based on the models in 2(b), using the `StackingRegressor()` will be inefficient as it will involve fitting each of the individual models every time it is called.\n",
    "\n",
    "2. A faster way will be to use the `cross_val_predict()` function to compute th 5-fold cross-validated predictions from each of the models in 2(b), consider these predictions from the 5 models as 5 different predictors, and fit the metamodel. Once computed, these cross-validated predictions can be used with different metamodels without the need of fitting the individual models repeatedlty with `StackingRegressor()`.\n",
    "\n",
    "3. If you are using the faster way (in (2)), use a 5-fold KFold object with `random_state=1` and `shuffle=True` for the base model predictions.\n",
    "\n",
    "*(5 points)*"
   ]
  },
  {
   "cell_type": "markdown",
   "id": "e7ea2492-efbe-4533-a861-df44580b2cc0",
   "metadata": {},
   "source": [
    "### f)\n",
    "\n",
    "Print the weights of the base models of the Stacking Ensemble in 2(e). **(2 points)**"
   ]
  },
  {
   "cell_type": "markdown",
   "id": "db88bd13-0c5c-4ed3-966a-e665c2ed2a4c",
   "metadata": {},
   "source": [
    "### g)\n",
    "\n",
    "Train **and tune** a Stacking Ensemble Regressor with all the five models in 2(b) and Lasso as the meta model. Use a 5-fold KFold object with `random_state=1` and `shuffle=True` both for the base model predictions and the cross-validation of the ensemble model. Try out `[0.001, 0.01, 0.1, 1, 10, 100]` for the Lasso hyperparameter. **(3 points)**\n",
    "\n",
    "Print the best CV and test MAE. **(1 point)**\n",
    "\n",
    "You are optimizing for MAE, will you use LassoCV or grid search, why **(2 points)**?"
   ]
  },
  {
   "cell_type": "markdown",
   "id": "caba590d-bae4-4000-a035-c6d84d04e91c",
   "metadata": {},
   "source": [
    "### h)\n",
    "\n",
    "Print the weights of the base models of the Stacking Ensemble in part g. **(1 point)**"
   ]
  },
  {
   "cell_type": "markdown",
   "id": "6429efe5-4538-4455-b0ca-f9753ee2a3f4",
   "metadata": {},
   "source": [
    "### i)\n",
    "\n",
    "\n",
    "Train **and tune** a Stacking Ensemble Regressor with all the five models in 2(b) and Decision Tree as the meta model. **(random_state=1)** Use a 5-fold KFold object with `random_state=1` and `shuffle=True` both for the base model predictions and the cross-validation of the ensemble model. Try out `max_depth` from 2 to 10 (inclusive) for the tree hyperparameter. **(5 points)**\n",
    "\n",
    "Print the best CV and test MAE. **(1 point)**"
   ]
  },
  {
   "cell_type": "markdown",
   "id": "2a08a2f1-5bac-46f5-a3ce-7b8b8f37e297",
   "metadata": {},
   "source": [
    "### j) \n",
    "\n",
    "Print the importances of the base models of the Stacking Ensemble in part i. **(2 points)**"
   ]
  },
  {
   "cell_type": "markdown",
   "id": "fdf1d975-f039-48f9-90bd-ee9ad013f523",
   "metadata": {},
   "source": [
    "### k)\n",
    "\n",
    "Compare the weights and importances you found in 2(f), 2(h), and 2(j). Considering the base model performances, do they make sense? **(2 points)**"
   ]
  },
  {
   "cell_type": "markdown",
   "id": "7dbdffd0-50bb-4231-9ceb-a99b5546a410",
   "metadata": {},
   "source": [
    "### l)\n",
    "\n",
    "Using the three Stacking Ensemble models you created in parts 2(e), 2(g), and 2(i), create an \"ensemble of ensembles\" which will use the three Stacking Ensemble models as base models to a Voting Ensemble Regressor. **(5 points)** Print the test MAE. **(1 point)**"
   ]
  },
  {
   "cell_type": "markdown",
   "id": "c3200ecd-31be-418b-b9e6-90abe3e2a626",
   "metadata": {},
   "source": [
    "## 3) Classification with Ensembles (41 points)"
   ]
  },
  {
   "cell_type": "markdown",
   "id": "e46b972a-3d31-47a4-ac03-9d6e512432b5",
   "metadata": {},
   "source": [
    "For this question, you will use the **train.csv** and **test.csv** files. Each observation is a marketing call from a banking institution. `y` variable represents if the client subscribed for a term deposit (1) or not (0) and it is the classification response.\n",
    "\n",
    "The predictors are `age`, `day`, `month`, and `education`. (As mentioned last quarter, `duration` cannot be used as a predictor - no credit will be given to models that use it.)"
   ]
  },
  {
   "cell_type": "markdown",
   "id": "1b7f0ae2-23d1-4755-8802-f0bfecd88b88",
   "metadata": {},
   "source": [
    "### a)\n",
    "\n",
    "Preprocess the data:\n",
    "\n",
    "- Read the files.\n",
    "- Create the predictor and response variables. \n",
    "- Convert the response to 1s and 0s. \n",
    "- One-hot-encode the categorical predictors (**Do not use drop_first.**)\n",
    "\n",
    "**(1 point)**"
   ]
  },
  {
   "cell_type": "markdown",
   "id": "cdcc1b7c-5b36-4494-96ea-e9504ea71791",
   "metadata": {},
   "source": [
    "### b)\n",
    "\n",
    "Train a hard Voting Ensemble Classifier with all the following **tuned** models and their **tuned** thresholds:\n",
    "\n",
    "- Random Forest from Assignment 3\n",
    "- LightGBM from Assignment 4\n",
    "- CatBoost from Assignment 4\n",
    "\n",
    "Print the test accuracy and test recall of the ensemble. **(8 points)**"
   ]
  },
  {
   "cell_type": "markdown",
   "id": "2f0d0132-741f-4680-8774-295b1937cf86",
   "metadata": {},
   "source": [
    "### c)\n",
    "\n",
    "Using the base models in part b, train a soft Voting Classifier. Note that you should not use the tuned thresholds for the base models, but tune the threshold by cross-validating the prediction probabilities of the ensemble. **(10 points)**\n",
    "\n",
    "Print the best cross-validation accuracy with a recall above 60%, along with the threshold that returns that combination. **(2 points)**"
   ]
  },
  {
   "cell_type": "markdown",
   "id": "1df5435c-89a0-474f-b53f-fe0c712b167d",
   "metadata": {},
   "source": [
    "### d)\n",
    "\n",
    "Using the trained Soft Voting Classifier in part c and the tuned threshold, print the test accuracy and test recall. **(2 points)**"
   ]
  },
  {
   "cell_type": "markdown",
   "id": "ba52d678-1233-428a-8673-5515f6d8d857",
   "metadata": {},
   "source": [
    "### e)\n",
    "\n",
    "Using the base models in 3(b), train a Stacking Classifier using logistic regression as the metamodel. Tune both the hyperparameter and the threshold to reach **a cross-validation accuracy of 70% and a cross-validation recall of 60%**. Print the optimal value of the regularization parameter and threshold. \n",
    "\n",
    "**(13 points)**"
   ]
  },
  {
   "cell_type": "markdown",
   "id": "ab09fc13-ccc7-4684-9b10-ca3359a17d7f",
   "metadata": {},
   "source": [
    "### f)\n",
    "\n",
    "Using the trained Stacking Classifier in 3(e) and the tuned threshold, print the test accuracy and test recall. **(2 points)**"
   ]
  },
  {
   "cell_type": "markdown",
   "id": "7b875885-318d-4ee7-9688-3a51ba5413d9",
   "metadata": {},
   "source": [
    "### g)\n",
    "\n",
    "Return the weights of the base models in the Stacking Classifier. **(2 points)** Which base model seems to be the most important for the ensemble? **(1 point)**"
   ]
  }
 ],
 "metadata": {
  "kernelspec": {
   "display_name": "Python 3 (ipykernel)",
   "language": "python",
   "name": "python3"
  },
  "language_info": {
   "codemirror_mode": {
    "name": "ipython",
    "version": 3
   },
   "file_extension": ".py",
   "mimetype": "text/x-python",
   "name": "python",
   "nbconvert_exporter": "python",
   "pygments_lexer": "ipython3",
   "version": "3.8.17"
  }
 },
 "nbformat": 4,
 "nbformat_minor": 5
}
