{
 "cells": [
  {
   "cell_type": "raw",
   "id": "4b9feeda",
   "metadata": {},
   "source": [
    "---\n",
    "title: \"LightGBM and CatBoost\"\n",
    "format: \n",
    "  html:\n",
    "    code-fold: false\n",
    "    toc-depth: 4\n",
    "    jupyter: python3\n",
    "---"
   ]
  },
  {
   "cell_type": "markdown",
   "id": "bde96228",
   "metadata": {},
   "source": [
    "Gradient boosting is one of the most powerful techniques for **structured/tabular data**, often serving as the **go-to choice for tabular data tasks in machine learning competitions**.\n",
    "\n",
    "In the previous chapter, we explored **XGBoost** in detail—covering its **optimization objective**, **regularization techniques**, **split finding algorithms**, and its role as a cornerstone in modern **tabular modeling**.\n",
    "\n",
    "While **XGBoost** is highly effective, other libraries have introduced innovations to address challenges like scalability and categorical feature handling. In this chapter, we focus on two **advanced gradient boosting libraries** and their **key innovations**:\n",
    "\n",
    "- **LightGBM**: Developed by Microsoft, **LightGBM** is optimized for **speed and scalability**. It introduces **Gradient-based One-Side Sampling (GOSS)**, which prioritizes instances with larger gradients for faster training, and **Exclusive Feature Bundling (EFB)**, which reduces memory usage by grouping mutually exclusive features. **LightGBM** also supports **categorical features** efficiently, making it ideal for **large datasets and high-dimensional features**.\n",
    "\n",
    "- **CatBoost**: Created by Yandex, **CatBoost** excels in its **optimized support for categorical features** through advanced target-based encoding. It uses **ordered boosting** to prevent prediction shift and reduce overfitting, often performing well with **minimal tuning** on datasets rich in **categorical variables**."
   ]
  },
  {
   "cell_type": "markdown",
   "id": "e3a15a5d",
   "metadata": {},
   "source": [
    "## What They Share with XGBoost\n",
    "\n",
    "While **LightGBM** and **CatBoost** introduce unique innovations, they build on the same foundational principles as **XGBoost**:\n",
    "\n",
    "- They use a **similar objective function structure** (loss plus regularization) to balance model fit and complexity.\n",
    "- They apply a **second-order Taylor approximation** for efficient optimization of the loss function.\n",
    "- They support **histogram-based split-finding algorithms** to speed up training, with **LightGBM** particularly optimized for this approach.\n",
    "- They support **parallel tree building**, significantly accelerating training compared to traditional gradient boosting.\n",
    "- They provide **native support for categorical encoding**, reducing the need for preprocessing (e.g., one-hot encoding), with **XGBoost** introducing this feature starting in version 1.5.0."
   ]
  },
  {
   "cell_type": "markdown",
   "id": "37eba32f",
   "metadata": {},
   "source": [
    "## LightGBM\n",
    "\n",
    "### What is LightGBM?\n",
    "\n",
    "**LightGBM** (Light Gradient Boosting Machine) is a high-performance gradient boosting framework developed by Microsoft in 2017. Designed for **speed and scalability**, it is typically faster than **XGBoost** due to its optimized algorithms, with accuracy that is generally comparable but may require tuning. LightGBM excels in:\n",
    "\n",
    "- **Handling large-scale datasets** with many rows and features\n",
    "- **Achieving high speed and memory efficiency** through innovations like **Gradient-based One-Side Sampling (GOSS)**, **Exclusive Feature Bundling (EFB)**, and **histogram-based splitting**\n",
    "\n",
    "Like **XGBoost** and **CatBoost**, it supports **native categorical encoding** and **parallel tree building**, enhancing its efficiency for tabular data tasks. See the [LightGBM paper](https://proceedings.neurips.cc/paper/2017/file/6449f44a102fde848669bdd9eb6b76fa-Paper.pdf) for details on its algorithmic innovations and performance benchmarks."
   ]
  },
  {
   "cell_type": "markdown",
   "id": "15cab06e",
   "metadata": {},
   "source": [
    "###  What Makes LightGBM Lighting Fast?\n",
    "\n",
    "LightGBM often outperforms XGBoost in **training speed** and **memory efficiency**, thanks to several key innovations:\n",
    "\n",
    "\n",
    "####  Leaf-Wise Tree Growth\n",
    "\n",
    "- LightGBM splits the **leaf with the largest potential loss reduction**, unlike XGBoost’s **level-wise** approach.\n",
    "- This leads to **lower loss per tree**, making learning more efficient — though it may **overfit** without proper regularization.\n",
    "- Main controls:\n",
    "  - `num_leaves`: primary control for tree complexity\n",
    "  - `max_depth`: optional constraint to prevent overfitting\n",
    "\n",
    "\n",
    "####  GOSS (Gradient-based One-Side Sampling)\n",
    "\n",
    "- GOSS improves speed by:\n",
    "  - **Retaining all instances with large gradients** (i.e., high error)\n",
    "  - **Randomly sampling those with small gradients**\n",
    "- This reduces the dataset size while maintaining accurate split decisions.\n",
    "\n",
    "In gradient boosting, the tree is fit to the **negative gradient** of the loss:\n",
    "\n",
    "$$\n",
    "r_m = -\\left[ \\frac{\\partial L(y_i, f(x_i))}{\\partial f(x_i)} \\right]_{f = f_{m-1}}\n",
    "$$\n",
    "\n",
    "Observations with larger gradients have more influence on reducing the loss — GOSS prioritizes those. This approach reduces the number of data points processed per iteration, speeding up training while preserving important information."
   ]
  },
  {
   "cell_type": "markdown",
   "id": "f5f02e40",
   "metadata": {},
   "source": [
    "#### Exclusive Feature Bundling (EFB)\n",
    "\n",
    "- **EFB** reduces memory usage and accelerates training by bundling **mutually exclusive** features (i.e., features that rarely have non-zero values simultaneously) in **high-dimensional sparse feature spaces**.\n",
    "- This is particularly effective for datasets with **many categorical variables** or **one-hot encoded features**, avoiding the memory overhead of one-hot encoding and complementing LightGBM’s **native categorical support**.\n",
    "\n",
    "**Example**:  \n",
    "The table below shows two mutually exclusive features, `feature1` and `feature2`, bundled into a single `feature_bundle` by assigning distinct value ranges (e.g., 1–4 for `feature1`, 5–6 for `feature2`):\n",
    "\n",
    "| `feature1` | `feature2` | `feature_bundle` |\n",
    "|------------|------------|------------------|\n",
    "| 0          | 2          | 6                |\n",
    "| 0          | 1          | 5                |\n",
    "| 0          | 2          | 6                |\n",
    "| 1          | 0          | 1                |\n",
    "| 2          | 0          | 2                |\n",
    "| 3          | 0          | 3                |\n",
    "| 4          | 0          | 4                |\n",
    "\n",
    "- **Hyperparameter for EFB**:\n",
    "  - `enable_bundle`: Enabled by default to activate automatic bundling.\n",
    "  - `max_conflict_rate`: Controls the maximum conflict rate for bundling (default: 0.0, no conflicts allowed); adjust (e.g., 0.1) to allow minor overlaps.\n",
    "\n",
    "This approach reduces the number of features processed per iteration, speeding up training while preserving important information.\n",
    "\n",
    "Combined with **GOSS**, **EFB** makes **LightGBM** especially well-suited for **large-scale, sparse, tabular datasets**, offering **speed and scalability** while maintaining comparable accuracy with proper tuning."
   ]
  },
  {
   "cell_type": "markdown",
   "id": "0774de8f",
   "metadata": {},
   "source": [
    "### Using LightGBM\n",
    "\n",
    "\n",
    "Although **LightGBM is not part of Scikit-learn**, it provides a **Scikit-learn-compatible API** through the `lightgbm.sklearn` module. This allows you to use LightGBM models seamlessly with Scikit-learn tools such as `Pipeline`, `GridSearchCV`, and `cross_val_score`.\n",
    "\n",
    "The main classes are:\n",
    "\n",
    "- [`LGBMRegressor`](https://lightgbm.readthedocs.io/en/latest/pythonapi/lightgbm.LGBMRegressor.html): for regression tasks  \n",
    "- [`LGBMClassifier`](https://lightgbm.readthedocs.io/en/latest/pythonapi/lightgbm.LGBMClassifier.html): for classification tasks\n",
    "\n",
    "To install the package:\n",
    "\n",
    "\n",
    "``` python\n",
    "pip install lightgbm\n",
    "```\n",
    "> **Note:** LightGBM is a separate library, not part of Scikit-learn, but it provides a **Scikit-learn-compatible API** via `LGBMClassifier` and `LGBMRegressor`.  \n",
    "> This makes it easy to integrate LightGBM models into Scikit-learn workflows such as `Pipeline`, `GridSearchCV`, and `cross_val_score`."
   ]
  },
  {
   "cell_type": "markdown",
   "id": "09726b8b",
   "metadata": {},
   "source": [
    "#### Core LightGBM Hyperparameters\n",
    "\n",
    "**Core Tree Structure**:\n",
    "\n",
    "- `num_leaves`: Maximum number of leaves (terminal nodes) per tree.\n",
    "- `min_data_in_leaf`: Minimum number of data points required in a leaf.\n",
    "- `max_depth`: Maximum depth of a tree (used to control overfitting).\n",
    "\n",
    "\n",
    "**Learning Control and Regularization**:\n",
    "\n",
    "- `learning_rate (η)`: Shrinks the contribution of each tree.\n",
    "- `n_estimators`: Number of boosting rounds.\n",
    "- `lambda_l1` / `lambda_l2`: L1 and L2 regularization on leaf weights.\n",
    "- `min_gain_to_split`: Minimum loss reduction required to make a further split (structure regularization).\n",
    "\n",
    "\n",
    "\n",
    "**Data Handling**:\n",
    "\n",
    "- `feature_fraction`: Fraction of features randomly sampled for each tree (a.k.a. `colsample_bytree` in XGBoost).\n",
    "- `bagging_fraction`: Fraction of data randomly sampled for each iteration.\n",
    "- `bagging_freq`: Frequency (in iterations) to perform bagging.\n",
    "- `categorical_feature`: Specifies which features are categorical (enables native handling).\n",
    "\n",
    "\n",
    "**Speed vs. Accuracy Trade-offs**:\n",
    "\n",
    "- `max_bin`: Number of bins used to bucket continuous features.\n",
    "- `data_sample_strategy` : `bagging` or `goss`\n",
    "- `top_rate` *(`goss` only)*: Fraction of instances with the largest gradients to keep.\n",
    "- `other_rate` *(`goss` only)*: Fraction of small-gradient instances to randomly sample.\n",
    "-`enable_bundle`: set this to true to spped up the training for sparse datasets\n",
    "\n",
    "\n",
    "**Optimization Control**:\n",
    "\n",
    "- `boosting`: Type of boosting algorithm (`gbdt`, `dart`, `rf`, etc.).\n",
    "- `early_stopping_rounds`: Stops training if the validation score doesn’t improve over a set number of rounds.\n",
    "\n",
    "\n",
    "**Imbalanced Data**\n",
    "\n",
    "- `scale_pos_weight`: Manually sets the weight for the positive class in binary classification.\n",
    "- `is_unbalance`: Automatically adjusts class weights based on the training data distribution.\n",
    "\n",
    "> ⚠️ These two options are **mutually exclusive** — use **only one**. If both are set, `scale_pos_weight` takes priority.\n",
    "\n",
    "For full details and advanced options, see the [LightGBM Parameters Guide](https://lightgbm.readthedocs.io/en/latest/Parameters.html).\n"
   ]
  },
  {
   "cell_type": "code",
   "execution_count": 1,
   "id": "f819f995",
   "metadata": {},
   "outputs": [],
   "source": [
    "import pandas as pd\n",
    "import numpy as np\n",
    "import matplotlib.pyplot as plt\n",
    "from sklearn.model_selection import train_test_split, GridSearchCV\n",
    "from sklearn.preprocessing import OneHotEncoder, StandardScaler\n",
    "from sklearn.compose import ColumnTransformer\n",
    "from sklearn.pipeline import Pipeline\n",
    "from sklearn.metrics import root_mean_squared_error, r2_score, accuracy_score, precision_score, recall_score, f1_score, precision_recall_curve\n",
    "from xgboost import XGBRegressor, XGBClassifier\n",
    "import lightgbm as lgb\n",
    "import seaborn as sns\n",
    "\n",
    "from skopt import BayesSearchCV\n",
    "from skopt.space import Real, Categorical, Integer\n",
    "from skopt.plots import plot_objective, plot_histogram, plot_convergence\n",
    "import warnings"
   ]
  },
  {
   "cell_type": "markdown",
   "id": "b3c74843",
   "metadata": {},
   "source": [
    "We'll continue to use the same datasets that we have been using throughout the course."
   ]
  },
  {
   "cell_type": "code",
   "execution_count": 2,
   "id": "a9036ef3",
   "metadata": {},
   "outputs": [
    {
     "data": {
      "text/html": [
       "<div>\n",
       "<style scoped>\n",
       "    .dataframe tbody tr th:only-of-type {\n",
       "        vertical-align: middle;\n",
       "    }\n",
       "\n",
       "    .dataframe tbody tr th {\n",
       "        vertical-align: top;\n",
       "    }\n",
       "\n",
       "    .dataframe thead th {\n",
       "        text-align: right;\n",
       "    }\n",
       "</style>\n",
       "<table border=\"1\" class=\"dataframe\">\n",
       "  <thead>\n",
       "    <tr style=\"text-align: right;\">\n",
       "      <th></th>\n",
       "      <th>brand</th>\n",
       "      <th>model</th>\n",
       "      <th>year</th>\n",
       "      <th>transmission</th>\n",
       "      <th>mileage</th>\n",
       "      <th>fuelType</th>\n",
       "      <th>tax</th>\n",
       "      <th>mpg</th>\n",
       "      <th>engineSize</th>\n",
       "      <th>price</th>\n",
       "    </tr>\n",
       "  </thead>\n",
       "  <tbody>\n",
       "    <tr>\n",
       "      <th>0</th>\n",
       "      <td>vw</td>\n",
       "      <td>Beetle</td>\n",
       "      <td>2014</td>\n",
       "      <td>Manual</td>\n",
       "      <td>55457</td>\n",
       "      <td>Diesel</td>\n",
       "      <td>30</td>\n",
       "      <td>65.3266</td>\n",
       "      <td>1.6</td>\n",
       "      <td>7490</td>\n",
       "    </tr>\n",
       "    <tr>\n",
       "      <th>1</th>\n",
       "      <td>vauxhall</td>\n",
       "      <td>GTC</td>\n",
       "      <td>2017</td>\n",
       "      <td>Manual</td>\n",
       "      <td>15630</td>\n",
       "      <td>Petrol</td>\n",
       "      <td>145</td>\n",
       "      <td>47.2049</td>\n",
       "      <td>1.4</td>\n",
       "      <td>10998</td>\n",
       "    </tr>\n",
       "    <tr>\n",
       "      <th>2</th>\n",
       "      <td>merc</td>\n",
       "      <td>G Class</td>\n",
       "      <td>2012</td>\n",
       "      <td>Automatic</td>\n",
       "      <td>43000</td>\n",
       "      <td>Diesel</td>\n",
       "      <td>570</td>\n",
       "      <td>25.1172</td>\n",
       "      <td>3.0</td>\n",
       "      <td>44990</td>\n",
       "    </tr>\n",
       "    <tr>\n",
       "      <th>3</th>\n",
       "      <td>audi</td>\n",
       "      <td>RS5</td>\n",
       "      <td>2019</td>\n",
       "      <td>Automatic</td>\n",
       "      <td>10</td>\n",
       "      <td>Petrol</td>\n",
       "      <td>145</td>\n",
       "      <td>30.5593</td>\n",
       "      <td>2.9</td>\n",
       "      <td>51990</td>\n",
       "    </tr>\n",
       "    <tr>\n",
       "      <th>4</th>\n",
       "      <td>merc</td>\n",
       "      <td>X-CLASS</td>\n",
       "      <td>2018</td>\n",
       "      <td>Automatic</td>\n",
       "      <td>14000</td>\n",
       "      <td>Diesel</td>\n",
       "      <td>240</td>\n",
       "      <td>35.7168</td>\n",
       "      <td>2.3</td>\n",
       "      <td>28990</td>\n",
       "    </tr>\n",
       "  </tbody>\n",
       "</table>\n",
       "</div>"
      ],
      "text/plain": [
       "      brand     model  year transmission  mileage fuelType  tax      mpg  \\\n",
       "0        vw    Beetle  2014       Manual    55457   Diesel   30  65.3266   \n",
       "1  vauxhall       GTC  2017       Manual    15630   Petrol  145  47.2049   \n",
       "2      merc   G Class  2012    Automatic    43000   Diesel  570  25.1172   \n",
       "3      audi       RS5  2019    Automatic       10   Petrol  145  30.5593   \n",
       "4      merc   X-CLASS  2018    Automatic    14000   Diesel  240  35.7168   \n",
       "\n",
       "   engineSize  price  \n",
       "0         1.6   7490  \n",
       "1         1.4  10998  \n",
       "2         3.0  44990  \n",
       "3         2.9  51990  \n",
       "4         2.3  28990  "
      ]
     },
     "execution_count": 2,
     "metadata": {},
     "output_type": "execute_result"
    }
   ],
   "source": [
    "# Load the dataset\n",
    "car = pd.read_csv('Datasets/car.csv')\n",
    "car.head()"
   ]
  },
  {
   "cell_type": "code",
   "execution_count": 3,
   "id": "db6b5f99",
   "metadata": {},
   "outputs": [],
   "source": [
    "X = car.drop(columns=['price'])\n",
    "y = car['price']\n",
    "\n",
    "# extract the categorical columns and put them in a list\n",
    "categorical_feature = X.select_dtypes(include=['object']).columns.tolist()\n",
    "\n",
    "# extract the numerical columns and put them in a list\n",
    "numerical_feature = X.select_dtypes(include=['int64', 'float64']).columns.tolist()\n",
    "\n",
    "# convert the categorical columns to category type\n",
    "for col in categorical_feature:\n",
    "    X[col] = X[col].astype('category')\n",
    "\n",
    "\n",
    "# Split the data into training and testing sets\n",
    "X_train, X_test, y_train, y_test = train_test_split(X, y, test_size=0.2, random_state=42)"
   ]
  },
  {
   "cell_type": "markdown",
   "id": "f9c772c1",
   "metadata": {},
   "source": [
    "####  Building a Baseline Model Using LightGBM’s Native Categorical Feature Support\n",
    "\n",
    "LightGBM provides **built-in support for handling categorical features**, eliminating the need for manual encoding (like one-hot or ordinal encoding). By directly passing categorical column names or indices to the model, LightGBM can internally apply efficient encoding and optimized split finding for categorical variables.\n",
    "\n",
    "In this section, we'll use this native capability to **quickly build a baseline model**, taking advantage of LightGBM’s efficiency with structured data that includes categorical columns.\n",
    "\n",
    "This baseline model serves as a **starting point** for comparison against more advanced tuning\n"
   ]
  },
  {
   "cell_type": "code",
   "execution_count": 15,
   "id": "38736472",
   "metadata": {},
   "outputs": [
    {
     "name": "stdout",
     "output_type": "stream",
     "text": [
      "\n",
      "===== Baseline LightGBM Model =====\n",
      "Test RMSE: 3680.8999\n",
      "Test R²: 0.9538\n",
      "CPU times: total: 875 ms\n",
      "Wall time: 82.6 ms\n"
     ]
    }
   ],
   "source": [
    "%%time\n",
    "# ===== 1. Baseline Model =====\n",
    "print(\"\\n===== Baseline LightGBM Model =====\")\n",
    "# Initialize the LightGBM regressor\n",
    "model = lgb.LGBMRegressor(random_state=42)\n",
    "\n",
    "# Train the model with categorical features specified\n",
    "model.fit(\n",
    "    X_train, \n",
    "    y_train,\n",
    "    categorical_feature=categorical_feature\n",
    ")\n",
    "\n",
    "# Predict on the test set\n",
    "y_pred = model.predict(X_test)\n",
    "\n",
    "# Calculate evaluation metrics\n",
    "rmse = root_mean_squared_error(y_test, y_pred)\n",
    "r2 = r2_score(y_test, y_pred)\n",
    "\n",
    "# Output results\n",
    "print(f\"Test RMSE: {rmse:.4f}\")\n",
    "print(f\"Test R²: {r2:.4f}\")"
   ]
  },
  {
   "cell_type": "markdown",
   "id": "d4c4a044",
   "metadata": {},
   "source": [
    "####  Enabling GOSS and EFB in LightGBM\n",
    "\n",
    "##### GOSS is **not enabled by default**. \n",
    "The default boosting type is `gbdt` (traditional Gradient Boosting Decision Tree), which uses all data instances for each iteration without sampling based on gradients.\n",
    "\n",
    "To use GOSS, you must explicitly set the `boosting_type` parameter to `goss` in the model configuration. When you do this, LightGBM uses GOSS with default values for its specific hyperparameters:\n",
    "\n",
    "* `top_rate`: 0.2 (keeps 20% of instances with large gradients)\n",
    "* `other_rate`: 0.1 (randomly samples 10% of instances with small gradients)\n",
    "  \n",
    "\n",
    "##### EFB is **enabled by default**\n",
    "\n",
    "```python\n",
    "enable_bundle = True\n",
    "```\n",
    "\n",
    "This optimization reduces dimensionality by bundling mutually exclusive sparse features, such as those resulting from one-hot encoding.\n",
    "\n",
    "⚠️ Note: In our car dataset, the data size is small and there are only a few categorical features, so these optimizations may not have a noticeable impact.\n",
    "However, for large-scale datasets with many categorical features, enabling GOSS and EFB is highly recommended to improve training efficiency and reduce memory usage."
   ]
  },
  {
   "cell_type": "code",
   "execution_count": 18,
   "id": "e1677750",
   "metadata": {},
   "outputs": [
    {
     "name": "stdout",
     "output_type": "stream",
     "text": [
      "\n",
      "===== LightGBM with GOSS Sampling =====\n",
      "Test RMSE (GOSS): 3510.7726\n",
      "Test R² (GOSS): 0.9580\n",
      "CPU times: total: 766 ms\n",
      "Wall time: 79.6 ms\n"
     ]
    }
   ],
   "source": [
    "%%time\n",
    "# ===== 2. LightGBM with GOSS Sampling =====\n",
    "print(\"\\n===== LightGBM with GOSS Sampling =====\")\n",
    "\n",
    "# Initialize the LightGBM regressor with GOSS\n",
    "model_goss = lgb.LGBMRegressor(\n",
    "    boosting_type='goss',\n",
    "    random_state=42\n",
    ")\n",
    "\n",
    "# Train the model with categorical features specified\n",
    "model_goss.fit(\n",
    "    X_train,\n",
    "    y_train,\n",
    "    categorical_feature=categorical_feature\n",
    ")\n",
    "\n",
    "# Predict on the test set\n",
    "y_pred_goss = model_goss.predict(X_test)\n",
    "\n",
    "# Calculate evaluation metrics\n",
    "rmse_goss = root_mean_squared_error(y_test, y_pred_goss)\n",
    "r2_goss = r2_score(y_test, y_pred_goss)\n",
    "\n",
    "# Output results\n",
    "print(f\"Test RMSE (GOSS): {rmse_goss:.4f}\")\n",
    "print(f\"Test R² (GOSS): {r2_goss:.4f}\")\n"
   ]
  },
  {
   "cell_type": "markdown",
   "id": "c7f91c63",
   "metadata": {},
   "source": [
    "####  Tuning `top_rate` and `other_rate` in GOSS\n",
    "\n",
    "Even with this small dataset, we observed a **shorter execution time** and a **slight improvement in performance** using GOSS. \n",
    "\n",
    "The default settings are reasonable for many datasets. To leverage **GOSS** more effectively, optimize performance by tuning **top_rate** (e.g., 0.1, 0.2, 0.3, 0.4) and **other_rate** (e.g., 0.05, 0.1, 0.15, 0.2) using cross-validation, especially for large or noisy datasets.\n",
    "\n",
    "> ⚠️ **Note:** When using `boosting_type='goss'`, LightGBM requires that  \n",
    "> **`top_rate + other_rate ≤ 1.0`**  \n",
    "> This constraint ensures that the combined sample used for training does not exceed the size of the full dataset."
   ]
  },
  {
   "cell_type": "code",
   "execution_count": 24,
   "id": "09e449da",
   "metadata": {},
   "outputs": [
    {
     "name": "stdout",
     "output_type": "stream",
     "text": [
      "Best parameters found:  OrderedDict({'other_rate': 0.33986603248215197, 'top_rate': 0.31901459322046166})\n",
      "Test RMSE (GOSS with tuning): 3458.7664\n",
      "Test R² (GOSS with tuning): 0.9592\n"
     ]
    }
   ],
   "source": [
    "# tuning the top_rate and other_rate parameters\n",
    "# Initialize the LightGBM regressor with GOSS\n",
    "model_goss_tune = lgb.LGBMRegressor(\n",
    "    boosting_type='goss',\n",
    "    random_state=42\n",
    ")\n",
    "# Define the parameter grid for tuning\n",
    "param_grid = {\n",
    "    'top_rate': Real(0.1, 0.6, prior='uniform'),\n",
    "    'other_rate': Real(0.1, 0.4, prior='uniform'),\n",
    "}\n",
    "# Initialize the BayesSearchCV object\n",
    "opt = BayesSearchCV(\n",
    "    model_goss_tune,\n",
    "    param_grid,\n",
    "    n_iter=10,\n",
    "    cv=3,\n",
    "    n_jobs=-1,\n",
    "    random_state=42\n",
    ")\n",
    "# Fit the model\n",
    "opt.fit(\n",
    "    X_train,\n",
    "    y_train,\n",
    "    categorical_feature=categorical_feature\n",
    ")\n",
    "# the best parameters\n",
    "print(\"Best parameters found: \", opt.best_params_)\n",
    "\n",
    "# Predict on the test set\n",
    "y_pred_opt = opt.predict(X_test)\n",
    "\n",
    "# Calculate evaluation metrics\n",
    "rmse_opt = root_mean_squared_error(y_test, y_pred_opt)\n",
    "r2_opt = r2_score(y_test, y_pred_opt)\n",
    "# Output results\n",
    "print(f\"Test RMSE (GOSS with tuning): {rmse_opt:.4f}\")\n",
    "print(f\"Test R² (GOSS with tuning): {r2_opt:.4f}\")"
   ]
  },
  {
   "cell_type": "markdown",
   "id": "537963ac",
   "metadata": {},
   "source": [
    "#### Optimizing LightGBM with `BayesSearchCV`\n",
    "\n",
    "`BayesSearchCV` from `scikit-optimize` provides an efficient way to tune hyperparameters. Here's how to set this up:"
   ]
  },
  {
   "cell_type": "code",
   "execution_count": 26,
   "id": "35e60b3b",
   "metadata": {},
   "outputs": [
    {
     "name": "stdout",
     "output_type": "stream",
     "text": [
      "Best Parameters: OrderedDict({'learning_rate': 0.31777940485083805, 'max_depth': 5, 'min_data_in_leaf': 47, 'n_estimators': 369, 'num_leaves': 20, 'other_rate': 0.4, 'top_rate': 0.6})\n",
      "Best Score: -3361.8218393725633\n",
      "RMSE (Bayesian Optimized): 3071.418344800289\n",
      "R2 Score (Bayesian Optimized): 0.9678447743461689\n",
      "CPU times: total: 49.4 s\n",
      "Wall time: 1min 35s\n"
     ]
    }
   ],
   "source": [
    "%%time\n",
    "# ===== 2. Hyperparameter Tuning with Bayesian Optimization =====\n",
    "# Define the parameter space for Bayesian optimization\n",
    "param_space = {\n",
    "    'num_leaves': Integer(20, 100),\n",
    "    'max_depth': Integer(5, 50),\n",
    "    'min_data_in_leaf': Integer(1, 100),\n",
    "    'learning_rate': Real(0.01, 0.5, prior='uniform'),\n",
    "    'n_estimators': Integer(50, 500),\n",
    "    'top_rate': Real(0.1, 0.6, prior='uniform'),\n",
    "    'other_rate': Real(0.1, 0.4, prior='uniform'),\n",
    "}\n",
    "# Create the Bayesian search object\n",
    "bayes_search = BayesSearchCV(\n",
    "    # using verbose=-1 to suppress warnings\n",
    "    # using n_jobs=-1 to use all available cores\n",
    "    # using random_state=42 for reproducibility\n",
    "    estimator=lgb.LGBMRegressor( categorical_feature=categorical_feature, random_state=42, boosting_type='goss', verbose=-1),\n",
    "    # Define the parameter space for Bayesian optimization\n",
    "    search_spaces=param_space,\n",
    "    n_iter=50,\n",
    "    scoring='neg_root_mean_squared_error',\n",
    "    cv=3,\n",
    "    n_jobs=-1,\n",
    "    random_state=42\n",
    ")\n",
    "# Fit the Bayesian search object to the training data\n",
    "bayes_search.fit(X_train, y_train)\n",
    "# Get the best parameters and score\n",
    "best_params = bayes_search.best_params_\n",
    "best_score = bayes_search.best_score_\n",
    "print(f\"Best Parameters: {best_params}\")\n",
    "print(f\"Best Score: {best_score}\")\n",
    "# Get the best model\n",
    "best_model = bayes_search.best_estimator_\n",
    "# Make predictions on the test set\n",
    "y_pred_bayes = best_model.predict(X_test)\n",
    "# Calculate RMSE and R2 score for the best model\n",
    "rmse_bayes = root_mean_squared_error(y_test, y_pred_bayes)\n",
    "r2_bayes = r2_score(y_test, y_pred_bayes)\n",
    "print(f\"RMSE (Bayesian Optimized): {rmse_bayes}\")\n",
    "print(f\"R2 Score (Bayesian Optimized): {r2_bayes}\")"
   ]
  },
  {
   "cell_type": "markdown",
   "id": "cf1830fb",
   "metadata": {},
   "source": [
    "**LightGBM** achieved performance comparable to **XGBoost**. By leveraging **GOSS** (Gradient-based One-Side Sampling) for gradient sampling and **EFB** (Exclusive Feature Bundling) for feature reduction, it improved training speed slightly on large, sparse datasets. These optimizations, along with **native categorical feature support**, can also help reduce cross-validation tuning time by simplifying the feature space and accelerating learning.\n",
    "\n"
   ]
  },
  {
   "cell_type": "markdown",
   "id": "c4b16144",
   "metadata": {},
   "source": [
    "##  CatBoost\n",
    "\n",
    "### What is CatBoost?\n",
    "\n",
    "**CatBoost** (short for *Categorical Boosting*) is a high-performance gradient boosting framework developed by **Yandex**. While several modern boosting frameworks support native categorical features, CatBoost uses **optimized encoding strategies**—such as **ordered target statistics**—that often lead to better performance with less risk of overfitting on **categorical-heavy** data.\n",
    "\n",
    "In addition to its categorical handling, CatBoost includes features like **ordered boosting** and strong **regularization**, which help reduce overfitting. It typically requires **less hyperparameter tuning** than XGBoost or LightGBM, making it more **user-friendly**, especially on datasets with many categorical variables.\n",
    "\n",
    "\n",
    "### What Makes CatBoost Unique?\n",
    "\n",
    "CatBoost introduces several **key innovations** that set it apart from other gradient boosting frameworks:\n",
    "\n",
    "\n",
    "\n",
    "####  Symmetric (Oblivious) Trees\n",
    "\n",
    "CatBoost builds **symmetric (oblivious) decision trees**, where the same feature and split threshold are used at each level of the tree across all nodes. This structure results in:\n",
    "\n",
    "- **Robust to noise**\n",
    "- **Improved regularization**\n",
    "- **Faster inference times**\n",
    "\n",
    "\n",
    "\n",
    "####  Advanced Categorical Feature Handling\n",
    "\n",
    "CatBoost can **natively process categorical features** using an approach based on **ordered target statistics**, which:\n",
    "\n",
    "- Avoids target leakage during training\n",
    "- Typically outperforms traditional encodings like one-hot or label encoding\n",
    "\n",
    "\n",
    "####  Ordered Boosting (vs. Standard Boosting)\n",
    "\n",
    "Traditional gradient boosting algorithms often suffer from **prediction shift**, a form of overfitting that occurs when the model uses the same data to compute residuals and to fit new trees.\n",
    "\n",
    "CatBoost addresses this with **ordered boosting**, a permutation-driven strategy that builds each tree on one subset of data and computes residuals on another (unseen) subset.\n",
    "\n",
    "Recall that gradient boosting fits trees on the gradient of the loss function:\n",
    "\n",
    "$$\n",
    "r_m = -\\left[ \\frac{\\partial L(y_i, f(x_i))}{\\partial f(x_i)} \\right]_{f = f_{m-1}}\n",
    "$$\n",
    "\n",
    "In classic boosting, this gradient is calculated using the same training observations that were used to fit the model, which leads to target leakage.\n",
    "\n",
    "In contrast, CatBoost:\n",
    "\n",
    "- Shuffles the data at each iteration\n",
    "- Computes residuals for an observation **only from prior observations** in the permutation\n",
    "- Ensures that **each gradient estimate is based on unseen data**\n",
    "\n",
    "This significantly improves the model’s **generalizability** and reduces overfitting, especially on **small or noisy datasets**.\n",
    "\n",
    "\n",
    "#### Handling of Text and Embedding Features\n",
    "\n",
    "CatBoost can process text features directly by converting them into numerical representations (e.g., using bag-of-words or embeddings) within the model, reducing the need for external preprocessing.\n",
    "It also supports integration with pre-trained embeddings, which is useful for natural language processing (NLP) tasks.\n",
    "\n",
    "Together, these innovations make CatBoost a strong candidate for modeling **high-dimensional, categorical, and imbalanced tabular data**, even with minimal feature engineering or hyperparameter tuning.\n",
    "\n",
    "#### Ease of Use and Defaults\n",
    "\n",
    "CatBoost’s default hyperparameters are well-tuned for a wide range of problems, reducing the need for extensive tuning. For example, its learning rate, depth, and regularization parameters often yield strong performance out of the box. In the paper, the authors also showed that CatBoost outperforms XGBoost and LightGBM without tuning, i.e., with default hyperparameter settings.\n",
    "\n",
    "Read the [CatBoost paper](https://proceedings.neurips.cc/paper_files/paper/2018/file/14491b756b3a51daac41c24863285549-Paper.pdf) for more details.\n",
    "\n",
    "Here is a good [blog](https://neptune.ai/blog/when-to-choose-catboost-over-xgboost-or-lightgbm) listing the key features of CatBoost."
   ]
  },
  {
   "cell_type": "markdown",
   "id": "46d3a95a",
   "metadata": {},
   "source": [
    "###  Using CatBoost\n",
    "\n",
    "CatBoost provides a **scikit-learn-compatible API** through `CatBoostClassifier` and `CatBoostRegressor`, which makes it easy to integrate into pipelines and use with tools like `GridSearchCV`, `cross_val_score`, and `train_test_split`.\n",
    "\n",
    "###  Installation\n",
    "\n",
    "To install CatBoost, run:\n",
    "\n",
    "``` python\n",
    "pip install catboost\n",
    "```\n",
    "> 💡 GPU users: CatBoost automatically detects and uses GPU if available. You can explicitly enable it with `task_type='GPU'`."
   ]
  },
  {
   "cell_type": "markdown",
   "id": "06c009a2",
   "metadata": {},
   "source": [
    "### CatBoost for Regression"
   ]
  },
  {
   "cell_type": "markdown",
   "id": "5d987907",
   "metadata": {},
   "source": [
    "Let us check the performance of `CatBoostRegressor()` without tuning, i.e., with default hyperparameter settings on our car dataset\n",
    "\n",
    "The parameter `cat_features` will be used to specify the indices of the categorical predictors for target encoding."
   ]
  },
  {
   "cell_type": "code",
   "execution_count": 27,
   "id": "bf0a6c1d",
   "metadata": {},
   "outputs": [
    {
     "name": "stdout",
     "output_type": "stream",
     "text": [
      "Test RMSE (CatBoost): 3307.2604\n",
      "Test R² (CatBoost): 0.9627\n"
     ]
    }
   ],
   "source": [
    "# build a catboostregressor model\n",
    "from catboost import CatBoostRegressor\n",
    "# Initialize the CatBoost regressor\n",
    "model_cat = CatBoostRegressor(\n",
    "    cat_features=categorical_feature,\n",
    "    random_seed=42,\n",
    "    verbose=0\n",
    ")\n",
    "\n",
    "# Train the model\n",
    "model_cat.fit(X_train, y_train)\n",
    "# Predict on the test set\n",
    "y_pred_cat = model_cat.predict(X_test)\n",
    "# Calculate evaluation metrics\n",
    "rmse_cat = root_mean_squared_error(y_test, y_pred_cat)\n",
    "r2_cat = r2_score(y_test, y_pred_cat)\n",
    "# Output results\n",
    "print(f\"Test RMSE (CatBoost): {rmse_cat:.4f}\")\n",
    "print(f\"Test R² (CatBoost): {r2_cat:.4f}\")"
   ]
  },
  {
   "cell_type": "markdown",
   "id": "2895c618",
   "metadata": {},
   "source": [
    "Even with default hyperparameter settings, CatBoost has outperformed both XGBoost and LightGBM in terms of test RMSE and R-squared."
   ]
  },
  {
   "cell_type": "markdown",
   "id": "d06740ea",
   "metadata": {},
   "source": [
    "### Tuning `CatBoostRegressor`\n",
    "\n",
    "You can tune the hyperparameters of `CatBoostRegressor` using **Optuna** or other tuning strategies, just as you would for `XGBoost` or `LightGBM`. However, CatBoost has a **distinct set of hyperparameters**, reflecting its unique design choices.\n",
    "\n",
    "\n",
    "#### ❌ Hyperparameters **not used** in CatBoost:\n",
    "\n",
    "- `reg_alpha`: CatBoost does **not** support L1 regularization on leaf weights; it uses only **L2 regularization** (`l2_leaf_reg`).\n",
    "- `colsample_bytree`: CatBoost **does not** use this parameter; it uses `rsm` and handles feature selection differently.\n",
    "\n",
    "These parameters are common in XGBoost and LightGBM but are **not part of CatBoost's configuration**.\n",
    "\n",
    "\n",
    "\n",
    "#### ✅ Unique Hyperparameters in CatBoost\n",
    "\n",
    "CatBoost introduces several hyperparameters related to **categorical feature handling** and **ordered boosting**:\n",
    "\n",
    "- `one_hot_max_size`: Threshold for switching between **one-hot encoding** and **target encoding** for categorical features.\n",
    "\n",
    "- `boosting_type='Ordered'`: Ordered boosting is **enabled by default** in CatBoost to reduce overfitting and prevent prediction shift.\n",
    "\n",
    "- `bootstrap_type='Bayesian'`: Default bootstrap method. Works well with ordered boosting.\n",
    "\n",
    "- `bagging_temperature`: Works with `bootstrap_type='Bayesian'`.  \n",
    "  Controls how sharply bootstrap weights are distributed:\n",
    "  - **Low values** (e.g., `0`): more uniform sampling (close to deterministic).\n",
    "  - **High values** (e.g., `1`, `5`, `10`): more aggressive sampling—some rows are weighted more heavily.\n",
    "\n",
    "- `random_strength`: Adds randomness to the **split selection score**, especially useful for regularizing categorical splits.\n",
    "\n",
    "- `rsm`: Random selection rate for column sampling.\n",
    "\n",
    "These CatBoost-specific hyperparameters are important when fine-tuning with Cross-Validation, particularly for datasets with many **categorical features** or at risk of **overfitting**.\n"
   ]
  },
  {
   "cell_type": "code",
   "execution_count": 4,
   "id": "a6403528",
   "metadata": {},
   "outputs": [
    {
     "name": "stderr",
     "output_type": "stream",
     "text": [
      "[I 2025-05-16 06:53:24,620] A new study created in memory with name: no-name-2b89c789-86c1-45aa-9511-7e7990a5767a\n",
      "[I 2025-05-16 06:53:36,438] Trial 0 finished with value: -2885.7311361568736 and parameters: {'learning_rate': 0.12726746487613003, 'depth': 10, 'l2_leaf_reg': 0.00172009052841597, 'min_data_in_leaf': 13, 'bagging_temperature': 0.21730485409197553, 'random_strength': 0.0002251704542179119}. Best is trial 0 with value: -2885.7311361568736.\n",
      "[I 2025-05-16 06:54:07,518] Trial 1 finished with value: -2620.171198484414 and parameters: {'learning_rate': 0.05369228812155998, 'depth': 7, 'l2_leaf_reg': 2.5645654686725287e-07, 'min_data_in_leaf': 28, 'bagging_temperature': 0.03449070019194467, 'random_strength': 2.200162833623553}. Best is trial 1 with value: -2620.171198484414.\n",
      "[I 2025-05-16 06:55:01,902] Trial 2 finished with value: -2696.8294539080816 and parameters: {'learning_rate': 0.02548811714993481, 'depth': 8, 'l2_leaf_reg': 0.0023811609906064252, 'min_data_in_leaf': 13, 'bagging_temperature': 0.9288401488970826, 'random_strength': 1.082500115732704}. Best is trial 1 with value: -2620.171198484414.\n",
      "[I 2025-05-16 06:55:22,721] Trial 3 finished with value: -2724.528794214105 and parameters: {'learning_rate': 0.06451150035785631, 'depth': 9, 'l2_leaf_reg': 4.5131464056397556e-08, 'min_data_in_leaf': 30, 'bagging_temperature': 0.5960655866129079, 'random_strength': 9.28215317432208e-07}. Best is trial 1 with value: -2620.171198484414.\n",
      "[I 2025-05-16 06:55:36,587] Trial 4 finished with value: -2878.820243617394 and parameters: {'learning_rate': 0.11527331094852836, 'depth': 4, 'l2_leaf_reg': 0.4475951626701213, 'min_data_in_leaf': 20, 'bagging_temperature': 0.7324000256379442, 'random_strength': 0.4338664457953787}. Best is trial 1 with value: -2620.171198484414.\n",
      "[I 2025-05-16 06:55:49,775] Trial 5 finished with value: -2668.619984949151 and parameters: {'learning_rate': 0.1855528089325658, 'depth': 6, 'l2_leaf_reg': 1.8378952869939127e-05, 'min_data_in_leaf': 24, 'bagging_temperature': 0.5768414336451607, 'random_strength': 0.010522014874970544}. Best is trial 1 with value: -2620.171198484414.\n",
      "[I 2025-05-16 06:55:57,119] Trial 6 finished with value: -2912.272947098299 and parameters: {'learning_rate': 0.2451855882147167, 'depth': 10, 'l2_leaf_reg': 1.7673885188960817e-06, 'min_data_in_leaf': 10, 'bagging_temperature': 0.4334470051053827, 'random_strength': 0.11406026772554442}. Best is trial 1 with value: -2620.171198484414.\n",
      "[I 2025-05-16 06:56:13,622] Trial 7 finished with value: -2695.2648598625924 and parameters: {'learning_rate': 0.09755102190100745, 'depth': 10, 'l2_leaf_reg': 9.566125114415794e-08, 'min_data_in_leaf': 19, 'bagging_temperature': 0.9211592949414568, 'random_strength': 2.436347090461743e-08}. Best is trial 1 with value: -2620.171198484414.\n",
      "[I 2025-05-16 06:56:26,903] Trial 8 finished with value: -2753.084945654914 and parameters: {'learning_rate': 0.18843128663283498, 'depth': 5, 'l2_leaf_reg': 5.835652831494221e-06, 'min_data_in_leaf': 6, 'bagging_temperature': 0.7987698449327993, 'random_strength': 0.06362728767715319}. Best is trial 1 with value: -2620.171198484414.\n",
      "[I 2025-05-16 06:56:34,769] Trial 9 finished with value: -2921.4504143784643 and parameters: {'learning_rate': 0.22960449698497942, 'depth': 10, 'l2_leaf_reg': 1.1782309803914464e-08, 'min_data_in_leaf': 22, 'bagging_temperature': 0.7169193876429558, 'random_strength': 0.023405106337219345}. Best is trial 1 with value: -2620.171198484414.\n",
      "[I 2025-05-16 06:56:45,103] Trial 10 finished with value: -2797.656433395867 and parameters: {'learning_rate': 0.29638954558703867, 'depth': 7, 'l2_leaf_reg': 7.121156648133439, 'min_data_in_leaf': 1, 'bagging_temperature': 0.028555585214749657, 'random_strength': 0.00013397670124843048}. Best is trial 1 with value: -2620.171198484414.\n",
      "[I 2025-05-16 06:57:00,983] Trial 11 finished with value: -2987.804912052353 and parameters: {'learning_rate': 0.17465375823124038, 'depth': 6, 'l2_leaf_reg': 3.169840926062148e-05, 'min_data_in_leaf': 29, 'bagging_temperature': 0.40829527505593155, 'random_strength': 7.361593602808678}. Best is trial 1 with value: -2620.171198484414.\n",
      "[I 2025-05-16 06:58:30,211] Trial 12 finished with value: -2656.269812196844 and parameters: {'learning_rate': 0.017073325011989847, 'depth': 7, 'l2_leaf_reg': 0.00018641156280634486, 'min_data_in_leaf': 25, 'bagging_temperature': 0.2504148253088835, 'random_strength': 0.0036050209677933906}. Best is trial 1 with value: -2620.171198484414.\n",
      "[I 2025-05-16 06:59:27,791] Trial 13 finished with value: -2744.3027101379294 and parameters: {'learning_rate': 0.01817177055582332, 'depth': 7, 'l2_leaf_reg': 0.03706735720453296, 'min_data_in_leaf': 25, 'bagging_temperature': 0.002547331855073512, 'random_strength': 2.0356833250740667e-05}. Best is trial 1 with value: -2620.171198484414.\n",
      "[I 2025-05-16 06:59:53,265] Trial 14 finished with value: -2697.6837955182573 and parameters: {'learning_rate': 0.06236194061749396, 'depth': 8, 'l2_leaf_reg': 5.295910383215519e-07, 'min_data_in_leaf': 27, 'bagging_temperature': 0.20340714193628523, 'random_strength': 0.0018522086502427496}. Best is trial 1 with value: -2620.171198484414.\n",
      "[I 2025-05-16 07:00:21,452] Trial 15 finished with value: -2766.897166940931 and parameters: {'learning_rate': 0.061014851192040906, 'depth': 6, 'l2_leaf_reg': 0.00013014280192782276, 'min_data_in_leaf': 17, 'bagging_temperature': 0.21609021631792624, 'random_strength': 9.66330609620808}. Best is trial 1 with value: -2620.171198484414.\n",
      "[I 2025-05-16 07:01:00,089] Trial 16 finished with value: -2731.9161533728666 and parameters: {'learning_rate': 0.027412623287634285, 'depth': 8, 'l2_leaf_reg': 0.0010697541231850665, 'min_data_in_leaf': 26, 'bagging_temperature': 0.1205465052440132, 'random_strength': 9.050362919853505e-06}. Best is trial 1 with value: -2620.171198484414.\n",
      "[I 2025-05-16 07:01:13,872] Trial 17 finished with value: -2950.387762628911 and parameters: {'learning_rate': 0.06559997537771182, 'depth': 5, 'l2_leaf_reg': 0.03303703827909148, 'min_data_in_leaf': 22, 'bagging_temperature': 0.33823889215394143, 'random_strength': 0.004091235937143242}. Best is trial 1 with value: -2620.171198484414.\n",
      "[I 2025-05-16 07:01:24,805] Trial 18 finished with value: -2799.2851339120025 and parameters: {'learning_rate': 0.08913764405155444, 'depth': 7, 'l2_leaf_reg': 4.0696494316792653e-07, 'min_data_in_leaf': 30, 'bagging_temperature': 0.3238078952128749, 'random_strength': 0.0012282635994702415}. Best is trial 1 with value: -2620.171198484414.\n",
      "[I 2025-05-16 07:01:36,339] Trial 19 finished with value: -2772.5541221320145 and parameters: {'learning_rate': 0.14059069364937926, 'depth': 9, 'l2_leaf_reg': 9.039692246883738e-05, 'min_data_in_leaf': 23, 'bagging_temperature': 0.07579428007376465, 'random_strength': 0.5896255350389338}. Best is trial 1 with value: -2620.171198484414.\n"
     ]
    }
   ],
   "source": [
    "import optuna\n",
    "from optuna import create_study\n",
    "from catboost import CatBoostRegressor, Pool\n",
    "\n",
    "# create a validation set for early stopping\n",
    "X_train, X_valid, y_train, y_valid = train_test_split(X_train, y_train, test_size=0.1, random_state=42)\n",
    "\n",
    "#convert to Catboost pool\n",
    "train_pool = Pool(X_train, y_train, cat_features=categorical_feature)\n",
    "valid_pool = Pool(X_valid, y_valid, cat_features=categorical_feature)\n",
    "\n",
    "# Define the objective function for Optuna\n",
    "def objective(trial):\n",
    "    # Define the hyperparameters to tune\n",
    "    params = {\n",
    "        'learning_rate': trial.suggest_float('learning_rate', 0.01, 0.3),\n",
    "        'depth': trial.suggest_int('depth', 4, 10),\n",
    "        'l2_leaf_reg': trial.suggest_float('l2_leaf_reg', 1e-8, 10.0, log=True),\n",
    "        'min_data_in_leaf': trial.suggest_int('min_data_in_leaf', 1, 30),\n",
    "        'bagging_temperature': trial.suggest_float('bagging_temperature', 0.0, 1.0),\n",
    "        'random_strength': trial.suggest_float('random_strength', 1e-8, 10.0, log=True),\n",
    "\n",
    "        # Fixed parameters\n",
    "        'iterations': 3000,  # Set to a high number, early stopping will determine the actual number\n",
    "        'verbose': False,\n",
    "        'random_seed': 42\n",
    "    }\n",
    "    \n",
    "    # Create and train the model with early stopping\n",
    "    model = CatBoostRegressor(**params)\n",
    "    \n",
    "    # Use early stopping to prevent overfitting\n",
    "    model.fit(\n",
    "        train_pool,\n",
    "        eval_set=valid_pool,\n",
    "        early_stopping_rounds=20,  # Stop if no improvement for 50 rounds\n",
    "        verbose=False,\n",
    "        n_jobs=-1\n",
    "    )\n",
    "    \n",
    "    # Evaluate on validation set\n",
    "    y_pred = model.predict(valid_pool)\n",
    "    val_rmse = root_mean_squared_error(y_valid, y_pred)\n",
    "    \n",
    "    # Return negative RMSE (for maximization)\n",
    "    return -val_rmse\n",
    "\n",
    "# Create and run the study\n",
    "study = optuna.create_study(direction='maximize')\n",
    "study.optimize(objective, n_trials=20)"
   ]
  },
  {
   "cell_type": "code",
   "execution_count": 5,
   "id": "8e347a2b",
   "metadata": {},
   "outputs": [
    {
     "name": "stdout",
     "output_type": "stream",
     "text": [
      "Best parameters: {'learning_rate': 0.05369228812155998, 'depth': 7, 'l2_leaf_reg': 2.5645654686725287e-07, 'min_data_in_leaf': 28, 'bagging_temperature': 0.03449070019194467, 'random_strength': 2.200162833623553}\n",
      "Best trial: FrozenTrial(number=1, state=1, values=[-2620.171198484414], datetime_start=datetime.datetime(2025, 5, 16, 6, 53, 36, 439603), datetime_complete=datetime.datetime(2025, 5, 16, 6, 54, 7, 518257), params={'learning_rate': 0.05369228812155998, 'depth': 7, 'l2_leaf_reg': 2.5645654686725287e-07, 'min_data_in_leaf': 28, 'bagging_temperature': 0.03449070019194467, 'random_strength': 2.200162833623553}, user_attrs={}, system_attrs={}, intermediate_values={}, distributions={'learning_rate': FloatDistribution(high=0.3, log=False, low=0.01, step=None), 'depth': IntDistribution(high=10, log=False, low=4, step=1), 'l2_leaf_reg': FloatDistribution(high=10.0, log=True, low=1e-08, step=None), 'min_data_in_leaf': IntDistribution(high=30, log=False, low=1, step=1), 'bagging_temperature': FloatDistribution(high=1.0, log=False, low=0.0, step=None), 'random_strength': FloatDistribution(high=10.0, log=True, low=1e-08, step=None)}, trial_id=1, value=None)\n"
     ]
    }
   ],
   "source": [
    "# Get best parameters and train final model with early stopping\n",
    "best_params = study.best_params\n",
    "print(\"Best parameters:\", best_params)\n",
    "\n",
    "# Get the best trial\n",
    "best_trial = study.best_trial\n",
    "print(\"Best trial:\", best_trial)"
   ]
  },
  {
   "cell_type": "code",
   "execution_count": 6,
   "id": "700beb75",
   "metadata": {},
   "outputs": [
    {
     "name": "stdout",
     "output_type": "stream",
     "text": [
      "Actual number of trees used: 1021\n",
      "Test RMSE: 3147.8477\n",
      "Test R²: 0.9662\n"
     ]
    }
   ],
   "source": [
    "# Use column indices instead of names\n",
    "cat_feature_indices = [X_train.columns.get_loc(col) for col in categorical_feature]\n",
    "\n",
    "# Add iterations parameter back for final model\n",
    "best_params['iterations'] = 3000  # High number, early stopping will be used\n",
    "\n",
    "# create a train+validation set for final model\n",
    "train_val_pool = Pool(\n",
    "    np.vstack((X_train, X_valid)),\n",
    "    np.concatenate((y_train, y_valid)),\n",
    "    cat_features=cat_feature_indices\n",
    ")\n",
    "\n",
    "# Create a test pool\n",
    "test_pool = Pool(X_test, y_test, cat_features=categorical_feature)\n",
    "\n",
    "# Train final model on combined train+validation data\n",
    "final_model = CatBoostRegressor(**best_params)\n",
    "final_model.fit(\n",
    "    train_val_pool,\n",
    "    eval_set=test_pool,\n",
    "    early_stopping_rounds=50,\n",
    "    verbose=False\n",
    ")\n",
    "\n",
    "# Get actual number of trees used after early stopping\n",
    "actual_iterations = final_model.tree_count_\n",
    "print(f\"Actual number of trees used: {actual_iterations}\")\n",
    "\n",
    "# Evaluate on test set\n",
    "y_pred_test = final_model.predict(X_test)\n",
    "test_rmse = root_mean_squared_error(y_test, y_pred_test)\n",
    "test_r2 = r2_score(y_test, y_pred_test)\n",
    "print(f\"Test RMSE: {test_rmse:.4f}\")\n",
    "print(f\"Test R²: {test_r2:.4f}\")\n"
   ]
  },
  {
   "cell_type": "code",
   "execution_count": 9,
   "id": "c35df952",
   "metadata": {},
   "outputs": [
    {
     "data": {
      "application/vnd.plotly.v1+json": {
       "config": {
        "plotlyServerURL": "https://plot.ly"
       },
       "data": [
        {
         "mode": "markers",
         "name": "Objective Value",
         "type": "scatter",
         "x": [
          0,
          1,
          2,
          3,
          4,
          5,
          6,
          7,
          8,
          9,
          10,
          11,
          12,
          13,
          14,
          15,
          16,
          17,
          18,
          19
         ],
         "y": [
          -2885.7311361568736,
          -2620.171198484414,
          -2696.8294539080816,
          -2724.528794214105,
          -2878.820243617394,
          -2668.619984949151,
          -2912.272947098299,
          -2695.2648598625924,
          -2753.084945654914,
          -2921.4504143784643,
          -2797.656433395867,
          -2987.804912052353,
          -2656.269812196844,
          -2744.3027101379294,
          -2697.6837955182573,
          -2766.897166940931,
          -2731.9161533728666,
          -2950.387762628911,
          -2799.2851339120025,
          -2772.5541221320145
         ]
        },
        {
         "mode": "lines",
         "name": "Best Value",
         "type": "scatter",
         "x": [
          0,
          1,
          2,
          3,
          4,
          5,
          6,
          7,
          8,
          9,
          10,
          11,
          12,
          13,
          14,
          15,
          16,
          17,
          18,
          19
         ],
         "y": [
          -2885.7311361568736,
          -2620.171198484414,
          -2620.171198484414,
          -2620.171198484414,
          -2620.171198484414,
          -2620.171198484414,
          -2620.171198484414,
          -2620.171198484414,
          -2620.171198484414,
          -2620.171198484414,
          -2620.171198484414,
          -2620.171198484414,
          -2620.171198484414,
          -2620.171198484414,
          -2620.171198484414,
          -2620.171198484414,
          -2620.171198484414,
          -2620.171198484414,
          -2620.171198484414,
          -2620.171198484414
         ]
        },
        {
         "marker": {
          "color": "#cccccc"
         },
         "mode": "markers",
         "name": "Infeasible Trial",
         "showlegend": false,
         "type": "scatter",
         "x": [],
         "y": []
        }
       ],
       "layout": {
        "template": {
         "data": {
          "bar": [
           {
            "error_x": {
             "color": "#2a3f5f"
            },
            "error_y": {
             "color": "#2a3f5f"
            },
            "marker": {
             "line": {
              "color": "#E5ECF6",
              "width": 0.5
             },
             "pattern": {
              "fillmode": "overlay",
              "size": 10,
              "solidity": 0.2
             }
            },
            "type": "bar"
           }
          ],
          "barpolar": [
           {
            "marker": {
             "line": {
              "color": "#E5ECF6",
              "width": 0.5
             },
             "pattern": {
              "fillmode": "overlay",
              "size": 10,
              "solidity": 0.2
             }
            },
            "type": "barpolar"
           }
          ],
          "carpet": [
           {
            "aaxis": {
             "endlinecolor": "#2a3f5f",
             "gridcolor": "white",
             "linecolor": "white",
             "minorgridcolor": "white",
             "startlinecolor": "#2a3f5f"
            },
            "baxis": {
             "endlinecolor": "#2a3f5f",
             "gridcolor": "white",
             "linecolor": "white",
             "minorgridcolor": "white",
             "startlinecolor": "#2a3f5f"
            },
            "type": "carpet"
           }
          ],
          "choropleth": [
           {
            "colorbar": {
             "outlinewidth": 0,
             "ticks": ""
            },
            "type": "choropleth"
           }
          ],
          "contour": [
           {
            "colorbar": {
             "outlinewidth": 0,
             "ticks": ""
            },
            "colorscale": [
             [
              0,
              "#0d0887"
             ],
             [
              0.1111111111111111,
              "#46039f"
             ],
             [
              0.2222222222222222,
              "#7201a8"
             ],
             [
              0.3333333333333333,
              "#9c179e"
             ],
             [
              0.4444444444444444,
              "#bd3786"
             ],
             [
              0.5555555555555556,
              "#d8576b"
             ],
             [
              0.6666666666666666,
              "#ed7953"
             ],
             [
              0.7777777777777778,
              "#fb9f3a"
             ],
             [
              0.8888888888888888,
              "#fdca26"
             ],
             [
              1,
              "#f0f921"
             ]
            ],
            "type": "contour"
           }
          ],
          "contourcarpet": [
           {
            "colorbar": {
             "outlinewidth": 0,
             "ticks": ""
            },
            "type": "contourcarpet"
           }
          ],
          "heatmap": [
           {
            "colorbar": {
             "outlinewidth": 0,
             "ticks": ""
            },
            "colorscale": [
             [
              0,
              "#0d0887"
             ],
             [
              0.1111111111111111,
              "#46039f"
             ],
             [
              0.2222222222222222,
              "#7201a8"
             ],
             [
              0.3333333333333333,
              "#9c179e"
             ],
             [
              0.4444444444444444,
              "#bd3786"
             ],
             [
              0.5555555555555556,
              "#d8576b"
             ],
             [
              0.6666666666666666,
              "#ed7953"
             ],
             [
              0.7777777777777778,
              "#fb9f3a"
             ],
             [
              0.8888888888888888,
              "#fdca26"
             ],
             [
              1,
              "#f0f921"
             ]
            ],
            "type": "heatmap"
           }
          ],
          "heatmapgl": [
           {
            "colorbar": {
             "outlinewidth": 0,
             "ticks": ""
            },
            "colorscale": [
             [
              0,
              "#0d0887"
             ],
             [
              0.1111111111111111,
              "#46039f"
             ],
             [
              0.2222222222222222,
              "#7201a8"
             ],
             [
              0.3333333333333333,
              "#9c179e"
             ],
             [
              0.4444444444444444,
              "#bd3786"
             ],
             [
              0.5555555555555556,
              "#d8576b"
             ],
             [
              0.6666666666666666,
              "#ed7953"
             ],
             [
              0.7777777777777778,
              "#fb9f3a"
             ],
             [
              0.8888888888888888,
              "#fdca26"
             ],
             [
              1,
              "#f0f921"
             ]
            ],
            "type": "heatmapgl"
           }
          ],
          "histogram": [
           {
            "marker": {
             "pattern": {
              "fillmode": "overlay",
              "size": 10,
              "solidity": 0.2
             }
            },
            "type": "histogram"
           }
          ],
          "histogram2d": [
           {
            "colorbar": {
             "outlinewidth": 0,
             "ticks": ""
            },
            "colorscale": [
             [
              0,
              "#0d0887"
             ],
             [
              0.1111111111111111,
              "#46039f"
             ],
             [
              0.2222222222222222,
              "#7201a8"
             ],
             [
              0.3333333333333333,
              "#9c179e"
             ],
             [
              0.4444444444444444,
              "#bd3786"
             ],
             [
              0.5555555555555556,
              "#d8576b"
             ],
             [
              0.6666666666666666,
              "#ed7953"
             ],
             [
              0.7777777777777778,
              "#fb9f3a"
             ],
             [
              0.8888888888888888,
              "#fdca26"
             ],
             [
              1,
              "#f0f921"
             ]
            ],
            "type": "histogram2d"
           }
          ],
          "histogram2dcontour": [
           {
            "colorbar": {
             "outlinewidth": 0,
             "ticks": ""
            },
            "colorscale": [
             [
              0,
              "#0d0887"
             ],
             [
              0.1111111111111111,
              "#46039f"
             ],
             [
              0.2222222222222222,
              "#7201a8"
             ],
             [
              0.3333333333333333,
              "#9c179e"
             ],
             [
              0.4444444444444444,
              "#bd3786"
             ],
             [
              0.5555555555555556,
              "#d8576b"
             ],
             [
              0.6666666666666666,
              "#ed7953"
             ],
             [
              0.7777777777777778,
              "#fb9f3a"
             ],
             [
              0.8888888888888888,
              "#fdca26"
             ],
             [
              1,
              "#f0f921"
             ]
            ],
            "type": "histogram2dcontour"
           }
          ],
          "mesh3d": [
           {
            "colorbar": {
             "outlinewidth": 0,
             "ticks": ""
            },
            "type": "mesh3d"
           }
          ],
          "parcoords": [
           {
            "line": {
             "colorbar": {
              "outlinewidth": 0,
              "ticks": ""
             }
            },
            "type": "parcoords"
           }
          ],
          "pie": [
           {
            "automargin": true,
            "type": "pie"
           }
          ],
          "scatter": [
           {
            "fillpattern": {
             "fillmode": "overlay",
             "size": 10,
             "solidity": 0.2
            },
            "type": "scatter"
           }
          ],
          "scatter3d": [
           {
            "line": {
             "colorbar": {
              "outlinewidth": 0,
              "ticks": ""
             }
            },
            "marker": {
             "colorbar": {
              "outlinewidth": 0,
              "ticks": ""
             }
            },
            "type": "scatter3d"
           }
          ],
          "scattercarpet": [
           {
            "marker": {
             "colorbar": {
              "outlinewidth": 0,
              "ticks": ""
             }
            },
            "type": "scattercarpet"
           }
          ],
          "scattergeo": [
           {
            "marker": {
             "colorbar": {
              "outlinewidth": 0,
              "ticks": ""
             }
            },
            "type": "scattergeo"
           }
          ],
          "scattergl": [
           {
            "marker": {
             "colorbar": {
              "outlinewidth": 0,
              "ticks": ""
             }
            },
            "type": "scattergl"
           }
          ],
          "scattermapbox": [
           {
            "marker": {
             "colorbar": {
              "outlinewidth": 0,
              "ticks": ""
             }
            },
            "type": "scattermapbox"
           }
          ],
          "scatterpolar": [
           {
            "marker": {
             "colorbar": {
              "outlinewidth": 0,
              "ticks": ""
             }
            },
            "type": "scatterpolar"
           }
          ],
          "scatterpolargl": [
           {
            "marker": {
             "colorbar": {
              "outlinewidth": 0,
              "ticks": ""
             }
            },
            "type": "scatterpolargl"
           }
          ],
          "scatterternary": [
           {
            "marker": {
             "colorbar": {
              "outlinewidth": 0,
              "ticks": ""
             }
            },
            "type": "scatterternary"
           }
          ],
          "surface": [
           {
            "colorbar": {
             "outlinewidth": 0,
             "ticks": ""
            },
            "colorscale": [
             [
              0,
              "#0d0887"
             ],
             [
              0.1111111111111111,
              "#46039f"
             ],
             [
              0.2222222222222222,
              "#7201a8"
             ],
             [
              0.3333333333333333,
              "#9c179e"
             ],
             [
              0.4444444444444444,
              "#bd3786"
             ],
             [
              0.5555555555555556,
              "#d8576b"
             ],
             [
              0.6666666666666666,
              "#ed7953"
             ],
             [
              0.7777777777777778,
              "#fb9f3a"
             ],
             [
              0.8888888888888888,
              "#fdca26"
             ],
             [
              1,
              "#f0f921"
             ]
            ],
            "type": "surface"
           }
          ],
          "table": [
           {
            "cells": {
             "fill": {
              "color": "#EBF0F8"
             },
             "line": {
              "color": "white"
             }
            },
            "header": {
             "fill": {
              "color": "#C8D4E3"
             },
             "line": {
              "color": "white"
             }
            },
            "type": "table"
           }
          ]
         },
         "layout": {
          "annotationdefaults": {
           "arrowcolor": "#2a3f5f",
           "arrowhead": 0,
           "arrowwidth": 1
          },
          "autotypenumbers": "strict",
          "coloraxis": {
           "colorbar": {
            "outlinewidth": 0,
            "ticks": ""
           }
          },
          "colorscale": {
           "diverging": [
            [
             0,
             "#8e0152"
            ],
            [
             0.1,
             "#c51b7d"
            ],
            [
             0.2,
             "#de77ae"
            ],
            [
             0.3,
             "#f1b6da"
            ],
            [
             0.4,
             "#fde0ef"
            ],
            [
             0.5,
             "#f7f7f7"
            ],
            [
             0.6,
             "#e6f5d0"
            ],
            [
             0.7,
             "#b8e186"
            ],
            [
             0.8,
             "#7fbc41"
            ],
            [
             0.9,
             "#4d9221"
            ],
            [
             1,
             "#276419"
            ]
           ],
           "sequential": [
            [
             0,
             "#0d0887"
            ],
            [
             0.1111111111111111,
             "#46039f"
            ],
            [
             0.2222222222222222,
             "#7201a8"
            ],
            [
             0.3333333333333333,
             "#9c179e"
            ],
            [
             0.4444444444444444,
             "#bd3786"
            ],
            [
             0.5555555555555556,
             "#d8576b"
            ],
            [
             0.6666666666666666,
             "#ed7953"
            ],
            [
             0.7777777777777778,
             "#fb9f3a"
            ],
            [
             0.8888888888888888,
             "#fdca26"
            ],
            [
             1,
             "#f0f921"
            ]
           ],
           "sequentialminus": [
            [
             0,
             "#0d0887"
            ],
            [
             0.1111111111111111,
             "#46039f"
            ],
            [
             0.2222222222222222,
             "#7201a8"
            ],
            [
             0.3333333333333333,
             "#9c179e"
            ],
            [
             0.4444444444444444,
             "#bd3786"
            ],
            [
             0.5555555555555556,
             "#d8576b"
            ],
            [
             0.6666666666666666,
             "#ed7953"
            ],
            [
             0.7777777777777778,
             "#fb9f3a"
            ],
            [
             0.8888888888888888,
             "#fdca26"
            ],
            [
             1,
             "#f0f921"
            ]
           ]
          },
          "colorway": [
           "#636efa",
           "#EF553B",
           "#00cc96",
           "#ab63fa",
           "#FFA15A",
           "#19d3f3",
           "#FF6692",
           "#B6E880",
           "#FF97FF",
           "#FECB52"
          ],
          "font": {
           "color": "#2a3f5f"
          },
          "geo": {
           "bgcolor": "white",
           "lakecolor": "white",
           "landcolor": "#E5ECF6",
           "showlakes": true,
           "showland": true,
           "subunitcolor": "white"
          },
          "hoverlabel": {
           "align": "left"
          },
          "hovermode": "closest",
          "mapbox": {
           "style": "light"
          },
          "paper_bgcolor": "white",
          "plot_bgcolor": "#E5ECF6",
          "polar": {
           "angularaxis": {
            "gridcolor": "white",
            "linecolor": "white",
            "ticks": ""
           },
           "bgcolor": "#E5ECF6",
           "radialaxis": {
            "gridcolor": "white",
            "linecolor": "white",
            "ticks": ""
           }
          },
          "scene": {
           "xaxis": {
            "backgroundcolor": "#E5ECF6",
            "gridcolor": "white",
            "gridwidth": 2,
            "linecolor": "white",
            "showbackground": true,
            "ticks": "",
            "zerolinecolor": "white"
           },
           "yaxis": {
            "backgroundcolor": "#E5ECF6",
            "gridcolor": "white",
            "gridwidth": 2,
            "linecolor": "white",
            "showbackground": true,
            "ticks": "",
            "zerolinecolor": "white"
           },
           "zaxis": {
            "backgroundcolor": "#E5ECF6",
            "gridcolor": "white",
            "gridwidth": 2,
            "linecolor": "white",
            "showbackground": true,
            "ticks": "",
            "zerolinecolor": "white"
           }
          },
          "shapedefaults": {
           "line": {
            "color": "#2a3f5f"
           }
          },
          "ternary": {
           "aaxis": {
            "gridcolor": "white",
            "linecolor": "white",
            "ticks": ""
           },
           "baxis": {
            "gridcolor": "white",
            "linecolor": "white",
            "ticks": ""
           },
           "bgcolor": "#E5ECF6",
           "caxis": {
            "gridcolor": "white",
            "linecolor": "white",
            "ticks": ""
           }
          },
          "title": {
           "x": 0.05
          },
          "xaxis": {
           "automargin": true,
           "gridcolor": "white",
           "linecolor": "white",
           "ticks": "",
           "title": {
            "standoff": 15
           },
           "zerolinecolor": "white",
           "zerolinewidth": 2
          },
          "yaxis": {
           "automargin": true,
           "gridcolor": "white",
           "linecolor": "white",
           "ticks": "",
           "title": {
            "standoff": 15
           },
           "zerolinecolor": "white",
           "zerolinewidth": 2
          }
         }
        },
        "title": {
         "text": "Optimization History Plot"
        },
        "xaxis": {
         "title": {
          "text": "Trial"
         }
        },
        "yaxis": {
         "title": {
          "text": "Objective Value"
         }
        }
       }
      }
     },
     "metadata": {},
     "output_type": "display_data"
    },
    {
     "data": {
      "application/vnd.plotly.v1+json": {
       "config": {
        "plotlyServerURL": "https://plot.ly"
       },
       "data": [
        {
         "cliponaxis": false,
         "hovertemplate": [
          "l2_leaf_reg (FloatDistribution): 0.012425799583815931<extra></extra>",
          "random_strength (FloatDistribution): 0.0731150244069925<extra></extra>",
          "depth (IntDistribution): 0.09900368078284365<extra></extra>",
          "min_data_in_leaf (IntDistribution): 0.16536625562969337<extra></extra>",
          "bagging_temperature (FloatDistribution): 0.1923784406056739<extra></extra>",
          "learning_rate (FloatDistribution): 0.45771079899098055<extra></extra>"
         ],
         "name": "Objective Value",
         "orientation": "h",
         "text": [
          "0.01",
          "0.07",
          "0.10",
          "0.17",
          "0.19",
          "0.46"
         ],
         "textposition": "outside",
         "type": "bar",
         "x": [
          0.012425799583815931,
          0.0731150244069925,
          0.09900368078284365,
          0.16536625562969337,
          0.1923784406056739,
          0.45771079899098055
         ],
         "y": [
          "l2_leaf_reg",
          "random_strength",
          "depth",
          "min_data_in_leaf",
          "bagging_temperature",
          "learning_rate"
         ]
        }
       ],
       "layout": {
        "template": {
         "data": {
          "bar": [
           {
            "error_x": {
             "color": "#2a3f5f"
            },
            "error_y": {
             "color": "#2a3f5f"
            },
            "marker": {
             "line": {
              "color": "#E5ECF6",
              "width": 0.5
             },
             "pattern": {
              "fillmode": "overlay",
              "size": 10,
              "solidity": 0.2
             }
            },
            "type": "bar"
           }
          ],
          "barpolar": [
           {
            "marker": {
             "line": {
              "color": "#E5ECF6",
              "width": 0.5
             },
             "pattern": {
              "fillmode": "overlay",
              "size": 10,
              "solidity": 0.2
             }
            },
            "type": "barpolar"
           }
          ],
          "carpet": [
           {
            "aaxis": {
             "endlinecolor": "#2a3f5f",
             "gridcolor": "white",
             "linecolor": "white",
             "minorgridcolor": "white",
             "startlinecolor": "#2a3f5f"
            },
            "baxis": {
             "endlinecolor": "#2a3f5f",
             "gridcolor": "white",
             "linecolor": "white",
             "minorgridcolor": "white",
             "startlinecolor": "#2a3f5f"
            },
            "type": "carpet"
           }
          ],
          "choropleth": [
           {
            "colorbar": {
             "outlinewidth": 0,
             "ticks": ""
            },
            "type": "choropleth"
           }
          ],
          "contour": [
           {
            "colorbar": {
             "outlinewidth": 0,
             "ticks": ""
            },
            "colorscale": [
             [
              0,
              "#0d0887"
             ],
             [
              0.1111111111111111,
              "#46039f"
             ],
             [
              0.2222222222222222,
              "#7201a8"
             ],
             [
              0.3333333333333333,
              "#9c179e"
             ],
             [
              0.4444444444444444,
              "#bd3786"
             ],
             [
              0.5555555555555556,
              "#d8576b"
             ],
             [
              0.6666666666666666,
              "#ed7953"
             ],
             [
              0.7777777777777778,
              "#fb9f3a"
             ],
             [
              0.8888888888888888,
              "#fdca26"
             ],
             [
              1,
              "#f0f921"
             ]
            ],
            "type": "contour"
           }
          ],
          "contourcarpet": [
           {
            "colorbar": {
             "outlinewidth": 0,
             "ticks": ""
            },
            "type": "contourcarpet"
           }
          ],
          "heatmap": [
           {
            "colorbar": {
             "outlinewidth": 0,
             "ticks": ""
            },
            "colorscale": [
             [
              0,
              "#0d0887"
             ],
             [
              0.1111111111111111,
              "#46039f"
             ],
             [
              0.2222222222222222,
              "#7201a8"
             ],
             [
              0.3333333333333333,
              "#9c179e"
             ],
             [
              0.4444444444444444,
              "#bd3786"
             ],
             [
              0.5555555555555556,
              "#d8576b"
             ],
             [
              0.6666666666666666,
              "#ed7953"
             ],
             [
              0.7777777777777778,
              "#fb9f3a"
             ],
             [
              0.8888888888888888,
              "#fdca26"
             ],
             [
              1,
              "#f0f921"
             ]
            ],
            "type": "heatmap"
           }
          ],
          "heatmapgl": [
           {
            "colorbar": {
             "outlinewidth": 0,
             "ticks": ""
            },
            "colorscale": [
             [
              0,
              "#0d0887"
             ],
             [
              0.1111111111111111,
              "#46039f"
             ],
             [
              0.2222222222222222,
              "#7201a8"
             ],
             [
              0.3333333333333333,
              "#9c179e"
             ],
             [
              0.4444444444444444,
              "#bd3786"
             ],
             [
              0.5555555555555556,
              "#d8576b"
             ],
             [
              0.6666666666666666,
              "#ed7953"
             ],
             [
              0.7777777777777778,
              "#fb9f3a"
             ],
             [
              0.8888888888888888,
              "#fdca26"
             ],
             [
              1,
              "#f0f921"
             ]
            ],
            "type": "heatmapgl"
           }
          ],
          "histogram": [
           {
            "marker": {
             "pattern": {
              "fillmode": "overlay",
              "size": 10,
              "solidity": 0.2
             }
            },
            "type": "histogram"
           }
          ],
          "histogram2d": [
           {
            "colorbar": {
             "outlinewidth": 0,
             "ticks": ""
            },
            "colorscale": [
             [
              0,
              "#0d0887"
             ],
             [
              0.1111111111111111,
              "#46039f"
             ],
             [
              0.2222222222222222,
              "#7201a8"
             ],
             [
              0.3333333333333333,
              "#9c179e"
             ],
             [
              0.4444444444444444,
              "#bd3786"
             ],
             [
              0.5555555555555556,
              "#d8576b"
             ],
             [
              0.6666666666666666,
              "#ed7953"
             ],
             [
              0.7777777777777778,
              "#fb9f3a"
             ],
             [
              0.8888888888888888,
              "#fdca26"
             ],
             [
              1,
              "#f0f921"
             ]
            ],
            "type": "histogram2d"
           }
          ],
          "histogram2dcontour": [
           {
            "colorbar": {
             "outlinewidth": 0,
             "ticks": ""
            },
            "colorscale": [
             [
              0,
              "#0d0887"
             ],
             [
              0.1111111111111111,
              "#46039f"
             ],
             [
              0.2222222222222222,
              "#7201a8"
             ],
             [
              0.3333333333333333,
              "#9c179e"
             ],
             [
              0.4444444444444444,
              "#bd3786"
             ],
             [
              0.5555555555555556,
              "#d8576b"
             ],
             [
              0.6666666666666666,
              "#ed7953"
             ],
             [
              0.7777777777777778,
              "#fb9f3a"
             ],
             [
              0.8888888888888888,
              "#fdca26"
             ],
             [
              1,
              "#f0f921"
             ]
            ],
            "type": "histogram2dcontour"
           }
          ],
          "mesh3d": [
           {
            "colorbar": {
             "outlinewidth": 0,
             "ticks": ""
            },
            "type": "mesh3d"
           }
          ],
          "parcoords": [
           {
            "line": {
             "colorbar": {
              "outlinewidth": 0,
              "ticks": ""
             }
            },
            "type": "parcoords"
           }
          ],
          "pie": [
           {
            "automargin": true,
            "type": "pie"
           }
          ],
          "scatter": [
           {
            "fillpattern": {
             "fillmode": "overlay",
             "size": 10,
             "solidity": 0.2
            },
            "type": "scatter"
           }
          ],
          "scatter3d": [
           {
            "line": {
             "colorbar": {
              "outlinewidth": 0,
              "ticks": ""
             }
            },
            "marker": {
             "colorbar": {
              "outlinewidth": 0,
              "ticks": ""
             }
            },
            "type": "scatter3d"
           }
          ],
          "scattercarpet": [
           {
            "marker": {
             "colorbar": {
              "outlinewidth": 0,
              "ticks": ""
             }
            },
            "type": "scattercarpet"
           }
          ],
          "scattergeo": [
           {
            "marker": {
             "colorbar": {
              "outlinewidth": 0,
              "ticks": ""
             }
            },
            "type": "scattergeo"
           }
          ],
          "scattergl": [
           {
            "marker": {
             "colorbar": {
              "outlinewidth": 0,
              "ticks": ""
             }
            },
            "type": "scattergl"
           }
          ],
          "scattermapbox": [
           {
            "marker": {
             "colorbar": {
              "outlinewidth": 0,
              "ticks": ""
             }
            },
            "type": "scattermapbox"
           }
          ],
          "scatterpolar": [
           {
            "marker": {
             "colorbar": {
              "outlinewidth": 0,
              "ticks": ""
             }
            },
            "type": "scatterpolar"
           }
          ],
          "scatterpolargl": [
           {
            "marker": {
             "colorbar": {
              "outlinewidth": 0,
              "ticks": ""
             }
            },
            "type": "scatterpolargl"
           }
          ],
          "scatterternary": [
           {
            "marker": {
             "colorbar": {
              "outlinewidth": 0,
              "ticks": ""
             }
            },
            "type": "scatterternary"
           }
          ],
          "surface": [
           {
            "colorbar": {
             "outlinewidth": 0,
             "ticks": ""
            },
            "colorscale": [
             [
              0,
              "#0d0887"
             ],
             [
              0.1111111111111111,
              "#46039f"
             ],
             [
              0.2222222222222222,
              "#7201a8"
             ],
             [
              0.3333333333333333,
              "#9c179e"
             ],
             [
              0.4444444444444444,
              "#bd3786"
             ],
             [
              0.5555555555555556,
              "#d8576b"
             ],
             [
              0.6666666666666666,
              "#ed7953"
             ],
             [
              0.7777777777777778,
              "#fb9f3a"
             ],
             [
              0.8888888888888888,
              "#fdca26"
             ],
             [
              1,
              "#f0f921"
             ]
            ],
            "type": "surface"
           }
          ],
          "table": [
           {
            "cells": {
             "fill": {
              "color": "#EBF0F8"
             },
             "line": {
              "color": "white"
             }
            },
            "header": {
             "fill": {
              "color": "#C8D4E3"
             },
             "line": {
              "color": "white"
             }
            },
            "type": "table"
           }
          ]
         },
         "layout": {
          "annotationdefaults": {
           "arrowcolor": "#2a3f5f",
           "arrowhead": 0,
           "arrowwidth": 1
          },
          "autotypenumbers": "strict",
          "coloraxis": {
           "colorbar": {
            "outlinewidth": 0,
            "ticks": ""
           }
          },
          "colorscale": {
           "diverging": [
            [
             0,
             "#8e0152"
            ],
            [
             0.1,
             "#c51b7d"
            ],
            [
             0.2,
             "#de77ae"
            ],
            [
             0.3,
             "#f1b6da"
            ],
            [
             0.4,
             "#fde0ef"
            ],
            [
             0.5,
             "#f7f7f7"
            ],
            [
             0.6,
             "#e6f5d0"
            ],
            [
             0.7,
             "#b8e186"
            ],
            [
             0.8,
             "#7fbc41"
            ],
            [
             0.9,
             "#4d9221"
            ],
            [
             1,
             "#276419"
            ]
           ],
           "sequential": [
            [
             0,
             "#0d0887"
            ],
            [
             0.1111111111111111,
             "#46039f"
            ],
            [
             0.2222222222222222,
             "#7201a8"
            ],
            [
             0.3333333333333333,
             "#9c179e"
            ],
            [
             0.4444444444444444,
             "#bd3786"
            ],
            [
             0.5555555555555556,
             "#d8576b"
            ],
            [
             0.6666666666666666,
             "#ed7953"
            ],
            [
             0.7777777777777778,
             "#fb9f3a"
            ],
            [
             0.8888888888888888,
             "#fdca26"
            ],
            [
             1,
             "#f0f921"
            ]
           ],
           "sequentialminus": [
            [
             0,
             "#0d0887"
            ],
            [
             0.1111111111111111,
             "#46039f"
            ],
            [
             0.2222222222222222,
             "#7201a8"
            ],
            [
             0.3333333333333333,
             "#9c179e"
            ],
            [
             0.4444444444444444,
             "#bd3786"
            ],
            [
             0.5555555555555556,
             "#d8576b"
            ],
            [
             0.6666666666666666,
             "#ed7953"
            ],
            [
             0.7777777777777778,
             "#fb9f3a"
            ],
            [
             0.8888888888888888,
             "#fdca26"
            ],
            [
             1,
             "#f0f921"
            ]
           ]
          },
          "colorway": [
           "#636efa",
           "#EF553B",
           "#00cc96",
           "#ab63fa",
           "#FFA15A",
           "#19d3f3",
           "#FF6692",
           "#B6E880",
           "#FF97FF",
           "#FECB52"
          ],
          "font": {
           "color": "#2a3f5f"
          },
          "geo": {
           "bgcolor": "white",
           "lakecolor": "white",
           "landcolor": "#E5ECF6",
           "showlakes": true,
           "showland": true,
           "subunitcolor": "white"
          },
          "hoverlabel": {
           "align": "left"
          },
          "hovermode": "closest",
          "mapbox": {
           "style": "light"
          },
          "paper_bgcolor": "white",
          "plot_bgcolor": "#E5ECF6",
          "polar": {
           "angularaxis": {
            "gridcolor": "white",
            "linecolor": "white",
            "ticks": ""
           },
           "bgcolor": "#E5ECF6",
           "radialaxis": {
            "gridcolor": "white",
            "linecolor": "white",
            "ticks": ""
           }
          },
          "scene": {
           "xaxis": {
            "backgroundcolor": "#E5ECF6",
            "gridcolor": "white",
            "gridwidth": 2,
            "linecolor": "white",
            "showbackground": true,
            "ticks": "",
            "zerolinecolor": "white"
           },
           "yaxis": {
            "backgroundcolor": "#E5ECF6",
            "gridcolor": "white",
            "gridwidth": 2,
            "linecolor": "white",
            "showbackground": true,
            "ticks": "",
            "zerolinecolor": "white"
           },
           "zaxis": {
            "backgroundcolor": "#E5ECF6",
            "gridcolor": "white",
            "gridwidth": 2,
            "linecolor": "white",
            "showbackground": true,
            "ticks": "",
            "zerolinecolor": "white"
           }
          },
          "shapedefaults": {
           "line": {
            "color": "#2a3f5f"
           }
          },
          "ternary": {
           "aaxis": {
            "gridcolor": "white",
            "linecolor": "white",
            "ticks": ""
           },
           "baxis": {
            "gridcolor": "white",
            "linecolor": "white",
            "ticks": ""
           },
           "bgcolor": "#E5ECF6",
           "caxis": {
            "gridcolor": "white",
            "linecolor": "white",
            "ticks": ""
           }
          },
          "title": {
           "x": 0.05
          },
          "xaxis": {
           "automargin": true,
           "gridcolor": "white",
           "linecolor": "white",
           "ticks": "",
           "title": {
            "standoff": 15
           },
           "zerolinecolor": "white",
           "zerolinewidth": 2
          },
          "yaxis": {
           "automargin": true,
           "gridcolor": "white",
           "linecolor": "white",
           "ticks": "",
           "title": {
            "standoff": 15
           },
           "zerolinecolor": "white",
           "zerolinewidth": 2
          }
         }
        },
        "title": {
         "text": "Hyperparameter Importances"
        },
        "xaxis": {
         "title": {
          "text": "Hyperparameter Importance"
         }
        },
        "yaxis": {
         "title": {
          "text": "Hyperparameter"
         }
        }
       }
      }
     },
     "metadata": {},
     "output_type": "display_data"
    },
    {
     "data": {
      "image/png": "[encoded data removed]",
      "text/plain": [
       "<Figure size 500x700 with 1 Axes>"
      ]
     },
     "metadata": {},
     "output_type": "display_data"
    }
   ],
   "source": [
    "fig1 = optuna.visualization.plot_optimization_history(study)\n",
    "fig1.show()\n",
    "    \n",
    "fig2 = optuna.visualization.plot_param_importances(study)\n",
    "fig2.show()\n",
    "    \n",
    "# Plot feature importance from the final model\n",
    "# Get feature importance values\n",
    "feature_importance = final_model.get_feature_importance()\n",
    "\n",
    "# Get sorted indices\n",
    "sorted_idx = np.argsort(feature_importance)\n",
    "\n",
    "# Plot\n",
    "plt.figure(figsize=(5, 7))\n",
    "plt.barh(range(len(sorted_idx)), feature_importance[sorted_idx])\n",
    "\n",
    "# Use feature names if X is a DataFrame\n",
    "feature_names = X.columns if hasattr(X, 'columns') else np.array(range(X.shape[1]))\n",
    "plt.yticks(range(len(sorted_idx)), feature_names[sorted_idx])\n",
    "\n",
    "plt.title('CatBoost Feature Importance')\n",
    "plt.tight_layout()\n",
    "plt.show()"
   ]
  },
  {
   "cell_type": "markdown",
   "id": "77739800",
   "metadata": {},
   "source": [
    "Check the [documentation](https://catboost.ai/en/docs/references/training-parameters/common) for hyperparameter tuning.\n",
    "\n",
    "With proper hyperparameter tuning, CatBoost can achieve better performance than its default settings. However, even without tuning, CatBoost’s default configuration often outperforms the default settings of XGBoost and LightGBM, particularly on datasets with categorical features."
   ]
  },
  {
   "cell_type": "markdown",
   "id": "9eff1eeb",
   "metadata": {},
   "source": [
    "###  When to Use **CatBoost** Over **XGBoost**\n",
    "\n",
    "- When your dataset is \"categorical-heavy**\n",
    "- **CatBoost** tends to perform well **out of the box** with minimal hyperparameter tuning, making it more user-friendly for quick experimentation or deployment  \n",
    "- CatBoost’s **GPU implementation** is optimized for handling categorical data efficiently, and can **outperform XGBoost** on datasets dominated by categorical variables  \n",
    "  > While both libraries support GPU acceleration, CatBoost's architecture is particularly well-suited for categorical-heavy tasks\n"
   ]
  },
  {
   "cell_type": "markdown",
   "id": "39185a87",
   "metadata": {},
   "source": [
    "##  Handling Imbalanced Classification: XGBoost vs. LightGBM vs. CatBoost\n",
    "\n",
    "Imbalanced classification occurs when one class significantly outnumbers the other (e.g., fraud detection, disease diagnosis). Each boosting library offers tools to address this issue:\n",
    "\n",
    "\n",
    "**XGBoost**:\n",
    "\n",
    "- **Parameter**: `scale_pos_weight`\n",
    "  - Formula:  \n",
    "    $$\n",
    "    \\texttt{scale\\_pos\\_weight} = \\frac{\\text{Number of negative samples}}{\\text{Number of positive samples}}\n",
    "    $$\n",
    "  - Increases the gradient of the positive class during training.\n",
    "- **Additional Strategies**:\n",
    "  - Use custom `eval_metric` (e.g., `\"auc\"`, `\"aucpr\"`, or `\"logloss\"`)\n",
    "  - Apply early stopping on validation AUC\n",
    "\n",
    "\n",
    "\n",
    "**LightGBM**:\n",
    "\n",
    "- **Parameter**: `scale_pos_weight` (same as in XGBoost)\n",
    "- **Alternative**: `is_unbalance = TRUE`\n",
    "  - Automatically adjusts class weights based on distribution\n",
    "- **Other Tips**:\n",
    "  - Use `metric = \"auc\"` or `\"binary_logloss\"` for better guidance during training\n",
    "  - Resampling techniques also compatible\n",
    "\n",
    "\n",
    "\n",
    "**CatBoost**:\n",
    "\n",
    "- **Parameter**: `class_weights`\n",
    "  - Accepts a numeric vector (e.g., `class_weights = c(1, 5)` for [negative, positive])\n",
    "  - Directly modifies the loss function to emphasize minority class\n",
    "- **Advantages**:\n",
    "  - More flexible than `scale_pos_weight`\n",
    "  - Works well with default settings\n",
    "- **Other Tips**:\n",
    "  - Use `loss_function = \"Logloss\"` and `eval_metric = \"AUC\"` for binary classification\n",
    "\n",
    "\n",
    "\n",
    "Below is the summary table:\n",
    "\n",
    "| Library   | Imbalance Handling Parameter          | Default Support        | Recommended Metric         |\n",
    "|-----------|----------------------------------------|-------------------------|-----------------------------|\n",
    "| XGBoost   | `scale_pos_weight`                    | No                      | `auc`, `aucpr`              |\n",
    "| LightGBM  | `scale_pos_weight`, `is_unbalance`    | Yes (with flag)         | `auc`, `binary_logloss`     |\n",
    "| CatBoost  | `class_weights`                       | Yes                     | `Logloss`, `AUC`            |\n",
    "\n",
    "\n",
    "\n"
   ]
  },
  {
   "cell_type": "markdown",
   "id": "7bedc733",
   "metadata": {},
   "source": [
    "##  Summary: XGBoost vs. LightGBM vs. CatBoost\n",
    "\n",
    "Gradient boosting is a powerful ensemble technique, and XGBoost, LightGBM, and CatBoost are three of its most widely used implementations. Each has unique strengths and is well-suited to different use cases.\n",
    "\n",
    "**XGBoost**: \n",
    "\n",
    "- **Strengths**: Robust, well-documented, strong performance on structured/tabular data  \n",
    "- **Split Finding**: Level-wise tree growth  \n",
    "- **Regularization**: Explicit L1 and L2 regularization  \n",
    "- **Flexibility**: Highly customizable with many hyperparameters  \n",
    "- **Best for**: General-purpose tabular data, especially when you have time to tune parameters\n",
    "\n",
    "**LightGBM**: \n",
    "\n",
    "- **Strengths**: Fast training, low memory usage, excellent scalability  \n",
    "- **Split Finding**: Leaf-wise tree growth with depth control  \n",
    "- **Binning**: Uses histogram-based algorithm with `max_bin` to speed up training  \n",
    "- **Best for**: Large-scale datasets, high-dimensional features, and when training speed matters\n",
    "\n",
    "**CatBoost**:\n",
    "\n",
    "- **Strengths**: Handles categorical features natively, works well with minimal tuning  \n",
    "- **Boosting Innovation**: Uses *ordered boosting* to prevent prediction shift  \n",
    "- **Categorical Encoding**: Uses target-based encoding internally  \n",
    "- **Best for**: Datasets with many categorical variables or limited time for tuning\n",
    "\n",
    "\n",
    "\n",
    "**Final Thoughts**\n",
    "\n",
    "All three libraries are powerful and battle-tested. Here's a rough guideline:\n",
    "\n",
    "- **Use XGBoost** if you want control, flexibility, and a well-documented standard\n",
    "- **Use LightGBM** when training speed and large data scalability are your top priorities\n",
    "- **Use CatBoost** when working with many categorical features or seeking strong baseline results with minimal tuning\n"
   ]
  },
  {
   "cell_type": "markdown",
   "id": "8bbd7460",
   "metadata": {},
   "source": [
    "## References\n",
    "\n",
    "* [LightGBM Paper (Original NIPS 2017)](https://papers.nips.cc/paper_files/paper/2017/file/6449f44a102fde848669bdd9eb6b76fa-Paper.pdf)\n",
    "* [LightGBM Official Website](https://lightgbm.readthedocs.io/)\n",
    "* [CatBoost Paper (arXiv)](https://arxiv.org/abs/1810.11363)\n",
    "* [CatBoost Official Website](https://catboost.ai/)\n"
   ]
  }
 ],
 "metadata": {
  "kernelspec": {
   "display_name": "base",
   "language": "python",
   "name": "python3"
  },
  "language_info": {
   "codemirror_mode": {
    "name": "ipython",
    "version": 3
   },
   "file_extension": ".py",
   "mimetype": "text/x-python",
   "name": "python",
   "nbconvert_exporter": "python",
   "pygments_lexer": "ipython3",
   "version": "3.12.4"
  }
 },
 "nbformat": 4,
 "nbformat_minor": 5
}
