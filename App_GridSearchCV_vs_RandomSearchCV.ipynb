{
 "cells": [
  {
   "cell_type": "raw",
   "id": "352c5ee9",
   "metadata": {},
   "source": [
    "---\n",
    "title: \"GridSearchCV vs RandomSearchCV\"\n",
    "format: \n",
    "  html:\n",
    "    code-fold: false\n",
    "    toc-depth: 4\n",
    "    jupyter: python3\n",
    "---"
   ]
  },
  {
   "cell_type": "markdown",
   "id": "c55e65d8",
   "metadata": {},
   "source": [
    "Which is better - `GridSearchCV` or `RandomizedSearchCV`?\n",
    "\n",
    "Let us understand with the help of scenarios."
   ]
  },
  {
   "cell_type": "markdown",
   "id": "e3d62161",
   "metadata": {},
   "source": [
    "## Infinite budget\n",
    "\n",
    "Suppose we have infinite computational budget. This is practically possible if the dataset set size is small, i.e., the number of observations and the number of predictors are small."
   ]
  },
  {
   "cell_type": "markdown",
   "id": "bcab034a",
   "metadata": {},
   "source": [
    "In case of infinite budget, we can evaluate the cross-validated model score on all potential values of hyperparameters. Thus, in this case `GridSearchCV` is the better choice, as it won't leave out any possibility."
   ]
  },
  {
   "cell_type": "markdown",
   "id": "62c4065c",
   "metadata": {},
   "source": [
    "## Finite budget\n",
    "\n",
    "Generally, we always have a finite compuational budget, and can perform a certain maximum number of model evaluations. However, let's consider 2 cases:"
   ]
  },
  {
   "cell_type": "markdown",
   "id": "a3df680f",
   "metadata": {},
   "source": [
    "### Large number of hyperparameters\n",
    "If we have a large number of hyperparameters, say $H$ and want to compute the cross validation score for at least 2 distinct values for each hyperparameter, then the number of models to be fit with `GridSearchCV` will be $2^H$. In this case, we'll certainly need to use `RandomizedSearchCV` for a large $H$."
   ]
  },
  {
   "cell_type": "markdown",
   "id": "222be6ef",
   "metadata": {},
   "source": [
    "### Small number of hyperparameters\n",
    "Let us consider the case when we have a small number of hyperparameters, say 2. In this case which one will be better - `GridSearchCV` or `RandomizedSearchCV`? Let us consider an example."
   ]
  },
  {
   "cell_type": "code",
   "execution_count": 7,
   "id": "a43b7a91",
   "metadata": {},
   "outputs": [],
   "source": [
    "import pandas as pd\n",
    "import numpy as np\n",
    "import seaborn as sns\n",
    "import matplotlib.pyplot as plt\n",
    "from sklearn.metrics import mean_squared_error\n",
    "from sklearn.model_selection import cross_val_score,train_test_split\n",
    "from sklearn.model_selection import KFold\n",
    "from sklearn.tree import DecisionTreeRegressor,DecisionTreeClassifier\n",
    "from sklearn.model_selection import GridSearchCV, ParameterGrid, RandomizedSearchCV\n",
    "from sklearn.ensemble import BaggingRegressor,BaggingClassifier\n",
    "from sklearn.linear_model import LinearRegression,LogisticRegression\n",
    "from sklearn.neighbors import KNeighborsRegressor\n",
    "from sklearn.metrics import roc_curve, precision_recall_curve, auc, make_scorer, recall_score, \\\n",
    "accuracy_score, precision_score, confusion_matrix, mean_squared_error, r2_score\n",
    "\n",
    "#Libraries for visualizing trees\n",
    "from sklearn.tree import export_graphviz \n",
    "from six import StringIO\n",
    "from IPython.display import Image  \n",
    "import pydotplus\n",
    "import time as time"
   ]
  },
  {
   "cell_type": "code",
   "execution_count": 2,
   "id": "08f8eb95",
   "metadata": {},
   "outputs": [
    {
     "data": {
      "text/html": [
       "<div>\n",
       "<style scoped>\n",
       "    .dataframe tbody tr th:only-of-type {\n",
       "        vertical-align: middle;\n",
       "    }\n",
       "\n",
       "    .dataframe tbody tr th {\n",
       "        vertical-align: top;\n",
       "    }\n",
       "\n",
       "    .dataframe thead th {\n",
       "        text-align: right;\n",
       "    }\n",
       "</style>\n",
       "<table border=\"1\" class=\"dataframe\">\n",
       "  <thead>\n",
       "    <tr style=\"text-align: right;\">\n",
       "      <th></th>\n",
       "      <th>carID</th>\n",
       "      <th>brand</th>\n",
       "      <th>model</th>\n",
       "      <th>year</th>\n",
       "      <th>transmission</th>\n",
       "      <th>mileage</th>\n",
       "      <th>fuelType</th>\n",
       "      <th>tax</th>\n",
       "      <th>mpg</th>\n",
       "      <th>engineSize</th>\n",
       "      <th>price</th>\n",
       "    </tr>\n",
       "  </thead>\n",
       "  <tbody>\n",
       "    <tr>\n",
       "      <th>0</th>\n",
       "      <td>18473</td>\n",
       "      <td>bmw</td>\n",
       "      <td>6 Series</td>\n",
       "      <td>2020</td>\n",
       "      <td>Semi-Auto</td>\n",
       "      <td>11</td>\n",
       "      <td>Diesel</td>\n",
       "      <td>145</td>\n",
       "      <td>53.3282</td>\n",
       "      <td>3.0</td>\n",
       "      <td>37980</td>\n",
       "    </tr>\n",
       "    <tr>\n",
       "      <th>1</th>\n",
       "      <td>15064</td>\n",
       "      <td>bmw</td>\n",
       "      <td>6 Series</td>\n",
       "      <td>2019</td>\n",
       "      <td>Semi-Auto</td>\n",
       "      <td>10813</td>\n",
       "      <td>Diesel</td>\n",
       "      <td>145</td>\n",
       "      <td>53.0430</td>\n",
       "      <td>3.0</td>\n",
       "      <td>33980</td>\n",
       "    </tr>\n",
       "    <tr>\n",
       "      <th>2</th>\n",
       "      <td>18268</td>\n",
       "      <td>bmw</td>\n",
       "      <td>6 Series</td>\n",
       "      <td>2020</td>\n",
       "      <td>Semi-Auto</td>\n",
       "      <td>6</td>\n",
       "      <td>Diesel</td>\n",
       "      <td>145</td>\n",
       "      <td>53.4379</td>\n",
       "      <td>3.0</td>\n",
       "      <td>36850</td>\n",
       "    </tr>\n",
       "    <tr>\n",
       "      <th>3</th>\n",
       "      <td>18480</td>\n",
       "      <td>bmw</td>\n",
       "      <td>6 Series</td>\n",
       "      <td>2017</td>\n",
       "      <td>Semi-Auto</td>\n",
       "      <td>18895</td>\n",
       "      <td>Diesel</td>\n",
       "      <td>145</td>\n",
       "      <td>51.5140</td>\n",
       "      <td>3.0</td>\n",
       "      <td>25998</td>\n",
       "    </tr>\n",
       "    <tr>\n",
       "      <th>4</th>\n",
       "      <td>18492</td>\n",
       "      <td>bmw</td>\n",
       "      <td>6 Series</td>\n",
       "      <td>2015</td>\n",
       "      <td>Automatic</td>\n",
       "      <td>62953</td>\n",
       "      <td>Diesel</td>\n",
       "      <td>160</td>\n",
       "      <td>51.4903</td>\n",
       "      <td>3.0</td>\n",
       "      <td>18990</td>\n",
       "    </tr>\n",
       "  </tbody>\n",
       "</table>\n",
       "</div>"
      ],
      "text/plain": [
       "   carID brand      model  year transmission  mileage fuelType  tax      mpg  \\\n",
       "0  18473   bmw   6 Series  2020    Semi-Auto       11   Diesel  145  53.3282   \n",
       "1  15064   bmw   6 Series  2019    Semi-Auto    10813   Diesel  145  53.0430   \n",
       "2  18268   bmw   6 Series  2020    Semi-Auto        6   Diesel  145  53.4379   \n",
       "3  18480   bmw   6 Series  2017    Semi-Auto    18895   Diesel  145  51.5140   \n",
       "4  18492   bmw   6 Series  2015    Automatic    62953   Diesel  160  51.4903   \n",
       "\n",
       "   engineSize  price  \n",
       "0         3.0  37980  \n",
       "1         3.0  33980  \n",
       "2         3.0  36850  \n",
       "3         3.0  25998  \n",
       "4         3.0  18990  "
      ]
     },
     "execution_count": 2,
     "metadata": {},
     "output_type": "execute_result"
    }
   ],
   "source": [
    "#Using the same datasets as in linear regression in STAT303-2, \n",
    "#so that we can compare the non-linear models with linear regression\n",
    "trainf = pd.read_csv('./Datasets/Car_features_train.csv')\n",
    "trainp = pd.read_csv('./Datasets/Car_prices_train.csv')\n",
    "testf = pd.read_csv('./Datasets/Car_features_test.csv')\n",
    "testp = pd.read_csv('./Datasets/Car_prices_test.csv')\n",
    "train = pd.merge(trainf,trainp)\n",
    "test = pd.merge(testf,testp)\n",
    "train.head()"
   ]
  },
  {
   "cell_type": "code",
   "execution_count": 3,
   "id": "67d0ab4e",
   "metadata": {},
   "outputs": [],
   "source": [
    "X = train[['mileage','mpg','year','engineSize']]\n",
    "Xtest = test[['mileage','mpg','year','engineSize']]\n",
    "y = train['price']\n",
    "ytest = test['price']"
   ]
  },
  {
   "cell_type": "markdown",
   "id": "68ef273a",
   "metadata": {},
   "source": [
    "### Example\n",
    "Suppose we wish to optimize 2 hyperparameters - `max_samples` and `max_depth` for a bagged trees model that predicts car price. We wish to consider `max_depth` $\\in \\{2, 4, 6\\}$, and `max_samples` $\\in [0.4, 1.0]$. Suppose we have a computational budget of testing 9 combinations of hyperparameter values.\n",
    "\n",
    "Which approach will be better?"
   ]
  },
  {
   "cell_type": "markdown",
   "id": "d8a373d6",
   "metadata": {},
   "source": [
    "#### `GridSearchCV`\n",
    "With `GridSearchCV`, let us consider `max_samples` $\\in \\{0.4, 0.7, 1.0\\}$ as we have a budget of testing 9 combinations of hyperparameter values, and we are already considering `max_depth` $\\in \\{2, 4, 6\\}$"
   ]
  },
  {
   "cell_type": "code",
   "execution_count": 103,
   "id": "4c82d743",
   "metadata": {},
   "outputs": [
    {
     "name": "stdout",
     "output_type": "stream",
     "text": [
      "Fitting 5 folds for each of 9 candidates, totalling 45 fits\n",
      "Train R^2 Score : 0.886\n",
      "Test R^2 Score : 0.839\n",
      "Best RMSE through Grid Search : 6304.919\n",
      "Best Parameters :  {'base_estimator__max_depth': 6, 'max_samples': 0.7}\n"
     ]
    }
   ],
   "source": [
    "n_samples = train.shape[0]\n",
    "n_features = train.shape[1]\n",
    "\n",
    "params = {'base_estimator__max_depth':[2, 4, 6],\n",
    "          'max_samples': [0.4, 0.7, 1.0]}\n",
    "\n",
    "cv = KFold(n_splits=5,shuffle=True,random_state=1)\n",
    "bagging_regressor_grid = GridSearchCV(BaggingRegressor(base_estimator=DecisionTreeRegressor(random_state=1), \n",
    "                                                       random_state=1, n_jobs=-1, n_estimators = 200,\n",
    "                                                      bootstrap = False), \n",
    "                                      param_grid =params, cv=cv, n_jobs=-1, verbose=1,\n",
    "                                     scoring='neg_root_mean_squared_error')\n",
    "bagging_regressor_grid.fit(X, y)\n",
    "\n",
    "print('Train R^2 Score : %.3f'%bagging_regressor_grid.best_estimator_.score(X, y))\n",
    "print('Test R^2 Score : %.3f'%bagging_regressor_grid.best_estimator_.score(Xtest, ytest))\n",
    "print('Best RMSE through Grid Search : %.3f'%-bagging_regressor_grid.best_score_)\n",
    "print('Best Parameters : ',bagging_regressor_grid.best_params_)"
   ]
  },
  {
   "cell_type": "markdown",
   "id": "26812dcd",
   "metadata": {},
   "source": [
    "We get a cross-validated RMSE of $6304.92 with `GridSearchCV`."
   ]
  },
  {
   "cell_type": "code",
   "execution_count": 106,
   "id": "6b9d8b7e",
   "metadata": {},
   "outputs": [],
   "source": [
    "#GridSearchCV results\n",
    "cv_results = pd.DataFrame(bagging_regressor_grid.cv_results_)"
   ]
  },
  {
   "cell_type": "markdown",
   "id": "cb050521",
   "metadata": {},
   "source": [
    "#### `RandomizedSearchCV`\n",
    "With `RandomizedSearchCV`, we can consider as many distinct values of `max_samples` as we wish, where `max_samples` $\\in [0.4, 1.0]$, since we control the number of combinations of hyperparameter values (`n_iter`) for which the cross validation score will be computed. Let us consider `max_samples` $\\in [0.4 , 0.47, 0.54, 0.61, 0.68, 0.75, 0.82, 0.89, 0.96]$"
   ]
  },
  {
   "cell_type": "code",
   "execution_count": 109,
   "id": "f8ce0df3",
   "metadata": {},
   "outputs": [
    {
     "name": "stdout",
     "output_type": "stream",
     "text": [
      "Fitting 5 folds for each of 9 candidates, totalling 45 fits\n",
      "Train R^2 Score : 0.885\n",
      "Test R^2 Score : 0.840\n",
      "Best RMSE through random Search : 6275.076\n",
      "Best Parameters :  {'max_samples': 0.6100000000000001, 'base_estimator__max_depth': 6}\n"
     ]
    }
   ],
   "source": [
    "n_samples = train.shape[0]\n",
    "n_features = train.shape[1]\n",
    "\n",
    "params = {'base_estimator__max_depth':[2, 4, 6],\n",
    "          'max_samples': np.arange(0.4,1.01,0.07)}\n",
    "\n",
    "cv = KFold(n_splits=5,shuffle=True,random_state=1)\n",
    "bagging_regressor_rgrid = RandomizedSearchCV(BaggingRegressor(base_estimator=DecisionTreeRegressor(random_state=1), \n",
    "                                                             random_state=1, n_jobs=-1, n_estimators = 200,\n",
    "                                                             bootstrap = False), \n",
    "                                      param_distributions =params, cv=cv, n_jobs=-1, verbose=1, n_iter = 9,\n",
    "                                           random_state=1, scoring='neg_root_mean_squared_error')\n",
    "bagging_regressor_rgrid.fit(X, y)\n",
    "\n",
    "print('Train R^2 Score : %.3f'%bagging_regressor_rgrid.best_estimator_.score(X, y))\n",
    "print('Test R^2 Score : %.3f'%bagging_regressor_rgrid.best_estimator_.score(Xtest, ytest))\n",
    "print('Best RMSE through random Search : %.3f'%-bagging_regressor_rgrid.best_score_)\n",
    "print('Best Parameters : ',bagging_regressor_rgrid.best_params_)"
   ]
  },
  {
   "cell_type": "markdown",
   "id": "ff9717fe",
   "metadata": {},
   "source": [
    "We get a cross-validated RMSE of $6275.08 with `RandomizedSearchCV`, which is better than what we got with `GridSearchCV`. Although not gauranteed, `RandomizedSearchCV` is likely to do better than `GridSearchCV` even for a few hyperparameter values.\n",
    "\n",
    "Let us understand this by analyzing the cross validated results of both types of searches."
   ]
  },
  {
   "cell_type": "code",
   "execution_count": 107,
   "id": "d99a56e2",
   "metadata": {},
   "outputs": [],
   "source": [
    "#RandomizedSearchCV results\n",
    "cv_resultsr = pd.DataFrame(bagging_regressor_rgrid.cv_results_)"
   ]
  },
  {
   "cell_type": "code",
   "execution_count": 112,
   "id": "c6353e0a",
   "metadata": {},
   "outputs": [
    {
     "data": {
      "image/png": "[encoded data removed]",
      "text/plain": [
       "<Figure size 1008x720 with 4 Axes>"
      ]
     },
     "metadata": {},
     "output_type": "display_data"
    }
   ],
   "source": [
    "plt.rcParams[\"figure.figsize\"] = (9,6)\n",
    "sns.set(font_scale=1.25)\n",
    "\n",
    "#GridSearchCV\n",
    "fig, axes = plt.subplots(2,2,figsize=(14,10))\n",
    "plt.subplots_adjust(wspace=0.2)\n",
    "axes[0, 0].plot(cv_results.param_base_estimator__max_depth, (-cv_results.mean_test_score), 'o')\n",
    "axes[0, 0].set_xlabel('max_depth (Grid Search)')\n",
    "axes[0, 0].set_ylabel('K-fold RMSE')\n",
    "axes[0, 1].plot(cv_results.param_max_samples, (-cv_results.mean_test_score), 'o')\n",
    "axes[0, 1].set_xlabel('max_samples (Grid Search)')\n",
    "axes[0, 1].set_ylabel('K-fold RMSE')\n",
    "\n",
    "#RandomizedSearchCV\n",
    "axes[1, 0].plot(cv_resultsr.param_base_estimator__max_depth, (-cv_resultsr.mean_test_score), 'o')\n",
    "axes[1, 0].set_xlabel('max_depth (Randomized Search)')\n",
    "axes[1, 0].set_ylabel('K-fold RMSE')\n",
    "axes[1, 1].plot(cv_resultsr.param_max_samples, (-cv_resultsr.mean_test_score), 'o')\n",
    "axes[1, 1].set_xlabel('max_samples (Randomized Search)')\n",
    "axes[1, 1].set_ylabel('K-fold RMSE');"
   ]
  },
  {
   "cell_type": "markdown",
   "id": "18a6933e",
   "metadata": {},
   "source": [
    "Note that the trend for `max_depth` appears to be similar for both the searches regardless of the value of `max_samples`. However, with `RandomizedSearchCV`, we are able to compute the cross validation score for more distinct values of `max_samples`. We are obtaining low cross-validated RMSEs for `max_samples` values of 0.54, 0.61, and 0.75, which we miss out in `GridSearchCV`. \n",
    "\n",
    "`GridSearchCV`, only searches 3 different values of `max_samples` in 9 iterations. However, `RandomizedSearchCV` can search 9 different values for the 9 iterations. As a result, it is much easier for `RandomizedSearchCV` to search for the optimal hyperparameters, and is thus more likely to find more optimal hyperparameter values."
   ]
  },
  {
   "cell_type": "markdown",
   "id": "3454c89e",
   "metadata": {},
   "source": [
    "Let us compute the RMSE on test data for the optimal models obtained with both types of search."
   ]
  },
  {
   "cell_type": "code",
   "execution_count": 101,
   "id": "08234c86",
   "metadata": {},
   "outputs": [
    {
     "data": {
      "text/plain": [
       "6661.573791208074"
      ]
     },
     "execution_count": 101,
     "metadata": {},
     "output_type": "execute_result"
    }
   ],
   "source": [
    "#RMSE for the optimal hyperparameters based on GridSearchCV\n",
    "np.sqrt(mean_squared_error(test.price, bagging_regressor_grid.predict(Xtest)))"
   ]
  },
  {
   "cell_type": "code",
   "execution_count": 102,
   "id": "19deed47",
   "metadata": {},
   "outputs": [
    {
     "data": {
      "text/plain": [
       "6640.462268475577"
      ]
     },
     "execution_count": 102,
     "metadata": {},
     "output_type": "execute_result"
    }
   ],
   "source": [
    "#RMSE for the optimal hyperparameters based on RandomizedSearchCV\n",
    "np.sqrt(mean_squared_error(test.price, bagging_regressor_rgrid.predict(Xtest)))"
   ]
  },
  {
   "cell_type": "markdown",
   "id": "8cd2c231",
   "metadata": {},
   "source": [
    "We oberve that `RandomizedSearchCV` seems to have found slightly better optimal hyperparameter values than `GridSearchCV` for the same number of model fits. Though likely, this is not gauranteed to happen."
   ]
  }
 ],
 "metadata": {
  "kernelspec": {
   "display_name": "Python 3",
   "language": "python",
   "name": "python3"
  },
  "language_info": {
   "codemirror_mode": {
    "name": "ipython",
    "version": 3
   },
   "file_extension": ".py",
   "mimetype": "text/x-python",
   "name": "python",
   "nbconvert_exporter": "python",
   "pygments_lexer": "ipython3",
   "version": "3.8.8"
  }
 },
 "nbformat": 4,
 "nbformat_minor": 5
}
