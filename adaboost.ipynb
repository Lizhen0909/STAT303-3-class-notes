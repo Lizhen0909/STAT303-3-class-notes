{
 "cells": [
  {
   "cell_type": "raw",
   "id": "d3d05243",
   "metadata": {
    "vscode": {
     "languageId": "raw"
    }
   },
   "source": [
    "---\n",
    "title: \"Adaptive Boosting\"\n",
    "format: \n",
    "  html:\n",
    "    code-fold: false\n",
    "    toc-depth: 4\n",
    "    jupyter: python3\n",
    "---"
   ]
  },
  {
   "cell_type": "markdown",
   "id": "0011d327",
   "metadata": {},
   "source": [
    "After learning how Bagging and Random Forest reduce variance by aggregating many trees,  \n",
    "we now turn to a different strategy: **Boosting**.\n",
    "\n",
    "**Boosting** builds trees **sequentially**, with each new tree focusing on correcting the mistakes made by the previous ones.\n",
    "\n",
    "*Read section 8.2.3 of the book before using these notes.*\n",
    "\n",
    "For the exact algorithms underlying the AdaBoost algorithm, check out the papers [`AdaBoostRegressor()`](https://citeseerx.ist.psu.edu/document?repid=rep1&type=pdf&doi=6d8226a52ebc70c8d97ccae10a74e1b0a3908ec1) and [`AdaBoostClassifier()`](https://dept.stat.lsa.umich.edu/~jizhu/pubs/Zhu-SII09.pdf).\n"
   ]
  },
  {
   "cell_type": "code",
   "execution_count": 4,
   "id": "e558a3e0",
   "metadata": {},
   "outputs": [],
   "source": [
    "import pandas as pd\n",
    "import numpy as np\n",
    "import seaborn as sns\n",
    "import matplotlib.pyplot as plt\n",
    "from sklearn.metrics import mean_squared_error\n",
    "from sklearn.model_selection import cross_val_score,train_test_split, KFold, cross_val_predict\n",
    "from sklearn.metrics import root_mean_squared_error,r2_score,roc_curve,auc,precision_recall_curve, accuracy_score, \\\n",
    "recall_score, precision_score, confusion_matrix\n",
    "from sklearn.tree import DecisionTreeRegressor,DecisionTreeClassifier\n",
    "from sklearn.model_selection import GridSearchCV, ParameterGrid, StratifiedKFold\n",
    "from sklearn.ensemble import BaggingRegressor,BaggingClassifier,AdaBoostRegressor,AdaBoostClassifier, \\\n",
    "RandomForestRegressor\n",
    "from sklearn.pipeline import Pipeline\n",
    "from sklearn.compose import ColumnTransformer\n",
    "from sklearn.preprocessing import OneHotEncoder, FunctionTransformer\n",
    "import itertools as it\n",
    "import time as time\n",
    "\n",
    "from skopt import BayesSearchCV\n",
    "from skopt.space import Real, Categorical, Integer\n",
    "from skopt.plots import plot_objective, plot_histogram, plot_convergence\n",
    "import warnings\n",
    "from IPython import display"
   ]
  },
  {
   "cell_type": "markdown",
   "id": "f61d57c8",
   "metadata": {},
   "source": [
    "\n",
    "\n",
    "\n",
    "##  What is AdaBoost?\n",
    "\n",
    "**AdaBoost** stands for **Adaptive Boosting**.  \n",
    "It was one of the first boosting algorithms developed.\n",
    "\n",
    "The core idea behind AdaBoost:\n",
    "\n",
    "- Train a **weak learner** (usually a shallow decision tree) on the original data.\n",
    "- Increase the weights of examples that the learner misclassified.\n",
    "- Train the next learner on this updated, reweighted data.\n",
    "- Repeat this process, focusing more and more on hard-to-predict examples.\n",
    "\n",
    "The final prediction is a **weighted combination** of all the weak learners.\n",
    "\n",
    "\n",
    "\n",
    "##  AdaBoost Intuition\n",
    "\n",
    "- Easy-to-classify points are **de-emphasized**.\n",
    "- Hard-to-classify points are **emphasized**.\n",
    "- Each learner **adapts** to the mistakes made by previous learners — hence \"adaptive\" boosting.\n",
    "- **Better-performing learners** are given **higher weight** in the final prediction.\n",
    "\n",
    ">  Over time, the model becomes better at handling difficult cases.\n",
    "\n",
    "\n",
    "\n",
    "##  How AdaBoost Works (High-Level Steps)\n",
    "\n",
    "1. Initialize equal weights for all training examples.\n",
    "2. Train a weak learner (e.g., decision stump).\n",
    "3. Evaluate its performance:\n",
    "   - Increase weights for misclassified points.\n",
    "   - Decrease weights for correctly classified points.\n",
    "4. Train the next learner using the updated weights.\n",
    "5. Repeat for a set number of learners (`n_estimators`).\n",
    "6. Combine all learners into a final weighted model.\n",
    "\n",
    "\n",
    "\n",
    "##  Key Hyperparameters in AdaBoost\n",
    "\n",
    "| Hyperparameter   | Meaning                                              | Typical Values   |\n",
    "|------------------|------------------------------------------------------|------------------|\n",
    "| `n_estimators`    | Number of weak learners                             | 50–500           |\n",
    "| `learning_rate`   | Shrinks each learner’s contribution                 | 0.01–1.0         |\n",
    "| `estimator`  | Type of weak learner (default: decision stump)      | Shallow trees    |\n",
    "\n",
    "- **Lowering `learning_rate`** typically requires **more estimators** but improves generalization.\n",
    "\n",
    "\n",
    "\n",
    "##  AdaBoost for Regression\n",
    "\n",
    "We will revisit the car dataset we used earlier and evaluate how AdaBoost performs compared to a single decision tree and a bagging ensemble"
   ]
  },
  {
   "cell_type": "code",
   "execution_count": 5,
   "id": "423a0044",
   "metadata": {},
   "outputs": [
    {
     "data": {
      "text/html": [
       "<div>\n",
       "<style scoped>\n",
       "    .dataframe tbody tr th:only-of-type {\n",
       "        vertical-align: middle;\n",
       "    }\n",
       "\n",
       "    .dataframe tbody tr th {\n",
       "        vertical-align: top;\n",
       "    }\n",
       "\n",
       "    .dataframe thead th {\n",
       "        text-align: right;\n",
       "    }\n",
       "</style>\n",
       "<table border=\"1\" class=\"dataframe\">\n",
       "  <thead>\n",
       "    <tr style=\"text-align: right;\">\n",
       "      <th></th>\n",
       "      <th>brand</th>\n",
       "      <th>model</th>\n",
       "      <th>year</th>\n",
       "      <th>transmission</th>\n",
       "      <th>mileage</th>\n",
       "      <th>fuelType</th>\n",
       "      <th>tax</th>\n",
       "      <th>mpg</th>\n",
       "      <th>engineSize</th>\n",
       "      <th>price</th>\n",
       "    </tr>\n",
       "  </thead>\n",
       "  <tbody>\n",
       "    <tr>\n",
       "      <th>0</th>\n",
       "      <td>vw</td>\n",
       "      <td>Beetle</td>\n",
       "      <td>2014</td>\n",
       "      <td>Manual</td>\n",
       "      <td>55457</td>\n",
       "      <td>Diesel</td>\n",
       "      <td>30</td>\n",
       "      <td>65.3266</td>\n",
       "      <td>1.6</td>\n",
       "      <td>7490</td>\n",
       "    </tr>\n",
       "    <tr>\n",
       "      <th>1</th>\n",
       "      <td>vauxhall</td>\n",
       "      <td>GTC</td>\n",
       "      <td>2017</td>\n",
       "      <td>Manual</td>\n",
       "      <td>15630</td>\n",
       "      <td>Petrol</td>\n",
       "      <td>145</td>\n",
       "      <td>47.2049</td>\n",
       "      <td>1.4</td>\n",
       "      <td>10998</td>\n",
       "    </tr>\n",
       "    <tr>\n",
       "      <th>2</th>\n",
       "      <td>merc</td>\n",
       "      <td>G Class</td>\n",
       "      <td>2012</td>\n",
       "      <td>Automatic</td>\n",
       "      <td>43000</td>\n",
       "      <td>Diesel</td>\n",
       "      <td>570</td>\n",
       "      <td>25.1172</td>\n",
       "      <td>3.0</td>\n",
       "      <td>44990</td>\n",
       "    </tr>\n",
       "    <tr>\n",
       "      <th>3</th>\n",
       "      <td>audi</td>\n",
       "      <td>RS5</td>\n",
       "      <td>2019</td>\n",
       "      <td>Automatic</td>\n",
       "      <td>10</td>\n",
       "      <td>Petrol</td>\n",
       "      <td>145</td>\n",
       "      <td>30.5593</td>\n",
       "      <td>2.9</td>\n",
       "      <td>51990</td>\n",
       "    </tr>\n",
       "    <tr>\n",
       "      <th>4</th>\n",
       "      <td>merc</td>\n",
       "      <td>X-CLASS</td>\n",
       "      <td>2018</td>\n",
       "      <td>Automatic</td>\n",
       "      <td>14000</td>\n",
       "      <td>Diesel</td>\n",
       "      <td>240</td>\n",
       "      <td>35.7168</td>\n",
       "      <td>2.3</td>\n",
       "      <td>28990</td>\n",
       "    </tr>\n",
       "  </tbody>\n",
       "</table>\n",
       "</div>"
      ],
      "text/plain": [
       "      brand     model  year transmission  mileage fuelType  tax      mpg  \\\n",
       "0        vw    Beetle  2014       Manual    55457   Diesel   30  65.3266   \n",
       "1  vauxhall       GTC  2017       Manual    15630   Petrol  145  47.2049   \n",
       "2      merc   G Class  2012    Automatic    43000   Diesel  570  25.1172   \n",
       "3      audi       RS5  2019    Automatic       10   Petrol  145  30.5593   \n",
       "4      merc   X-CLASS  2018    Automatic    14000   Diesel  240  35.7168   \n",
       "\n",
       "   engineSize  price  \n",
       "0         1.6   7490  \n",
       "1         1.4  10998  \n",
       "2         3.0  44990  \n",
       "3         2.9  51990  \n",
       "4         2.3  28990  "
      ]
     },
     "execution_count": 5,
     "metadata": {},
     "output_type": "execute_result"
    }
   ],
   "source": [
    "# Load the dataset\n",
    "car = pd.read_csv('Datasets/car.csv')\n",
    "car.head()"
   ]
  },
  {
   "cell_type": "code",
   "execution_count": 7,
   "id": "78af6a38",
   "metadata": {},
   "outputs": [],
   "source": [
    "X = car.drop(columns=['price'])\n",
    "y = car['price']\n",
    "\n",
    "X_train, X_test, y_train, y_test = train_test_split(X, y, test_size=0.2, random_state=42)\n",
    "\n",
    "# extract the categorical columns and put them in a list\n",
    "categorical_feature = X.select_dtypes(include=['object']).columns.tolist()\n",
    "\n",
    "# extract the numerical columns and put them in a list\n",
    "numerical_feature = X.select_dtypes(include=['int64', 'float64']).columns.tolist()"
   ]
  },
  {
   "cell_type": "code",
   "execution_count": 9,
   "id": "eb033ace",
   "metadata": {},
   "outputs": [],
   "source": [
    "encoder = OneHotEncoder(handle_unknown='ignore', sparse_output=False)\n",
    "\n",
    "X_train_encoded = encoder.fit_transform(X_train[categorical_feature])\n",
    "X_test_encoded = encoder.transform(X_test[categorical_feature])\n",
    "\n",
    "# Convert the encoded features back to DataFrame\n",
    "X_train_encoded_df = pd.DataFrame(X_train_encoded, columns=encoder.get_feature_names_out(categorical_feature))\n",
    "X_test_encoded_df = pd.DataFrame(X_test_encoded, columns=encoder.get_feature_names_out(categorical_feature))\n",
    "\n",
    "# Concatenate the encoded features with the original numerical features\n",
    "X_train_final = pd.concat([X_train_encoded_df, X_train[numerical_feature].reset_index(drop=True)], axis=1)\n",
    "X_test_final = pd.concat([X_test_encoded_df, X_test[numerical_feature].reset_index(drop=True)], axis=1)"
   ]
  },
  {
   "cell_type": "markdown",
   "id": "cac4cfd4",
   "metadata": {},
   "source": [
    "### Let's build a adaboost regressor model with default settings"
   ]
  },
  {
   "cell_type": "code",
   "execution_count": null,
   "id": "e532f1fd",
   "metadata": {},
   "outputs": [
    {
     "name": "stdout",
     "output_type": "stream",
     "text": [
      "RMSE: 10239.74\n",
      "R2 Score: 0.6426025126917443\n",
      "Adaboost Train RMSE: 10081.26\n",
      "Adaboost Train R^2: 0.62\n"
     ]
    }
   ],
   "source": [
    "\n",
    "# build a adaboost regressor model with default parameters\n",
    "adaboost_regressor = AdaBoostRegressor(random_state=0)\n",
    "\n",
    "# fit the model\n",
    "adaboost_regressor.fit(X_train_final, y_train)\n",
    "\n",
    "# predict the test set\n",
    "y_pred = adaboost_regressor.predict(X_test_final)\n",
    "\n",
    "# calculate the mean squared error\n",
    "rmse = root_mean_squared_error(y_test, y_pred)\n",
    "print(f'RMSE: {rmse:.2f}')\n",
    "print(f'R2 Score: {r2_score(y_test, y_pred)}')\n",
    "\n",
    "\n",
    "# calculate the RMSE and R^2 score for the training data\n",
    "y_pred_train = adaboost_regressor.predict(X_train_final)\n",
    "rmse_train = root_mean_squared_error(y_train, y_pred_train)\n",
    "r2_train = r2_score(y_train, y_pred_train)\n",
    "print(f'Adaboost Train RMSE: {rmse_train:.2f}')\n",
    "print(f'Adaboost Train R^2: {r2_train:.2f}')\n",
    "\n",
    "# calculate the test score"
   ]
  },
  {
   "cell_type": "markdown",
   "id": "e5197c92",
   "metadata": {},
   "source": [
    "#### ❓ Why AdaBoost Perform Worse Here\n",
    "\n",
    "- **Default base estimator is very weak**:  \n",
    "  By default, AdaBoost uses **Decision Stumps** (`DecisionTreeRegressor(max_depth=1)`), which are extremely shallow and tend to **underfit** the data badly.\n",
    "\n",
    "- **Learning rate (`learning_rate=1.0`) is too aggressive**:  \n",
    "  When using very weak learners, a high learning rate can cause the boosting process to **fail to properly build up model strength**, leading to poor performance.\n",
    "\n",
    "- **Dataset characteristics**:  \n",
    "   This dataset is **small** and **not very noisy**, using very shallow trees combined with a high learning rate can cause **severe underfitting**.\n",
    "\n",
    "\n",
    "What should we do next to reduce bias\n",
    "\n",
    "* Use deeper Trees as Base Learners\n",
    "* Tune Learning Rate\n",
    "* Increase the Number of Estimators\n"
   ]
  },
  {
   "cell_type": "markdown",
   "id": "8b837918",
   "metadata": {},
   "source": [
    "###  Impact of Tree Depth\n",
    "\n",
    "By default, AdaBoost uses shallow decision stumps (`max_depth=1`) as weak learners.  \n",
    "However, slightly increasing the tree depth can make each learner more expressive,  \n",
    "helping the ensemble capture more complex patterns in the data.\n",
    "\n",
    "This often leads to a **reduction in cross-validation RMSE** and improved model performance,  \n",
    "especially when the underlying relationships in the data are non-linear.\n",
    "\n",
    "From our previous exploration, we found that the fully grown decision tree has a depth of 34 on this dataset.  \n",
    "In this section, we'll experiment with limiting the tree depth and observe how it affects the model's RMSE.  \n",
    "The goal is to find a depth that balances **bias and variance**, leading to better generalization.\n"
   ]
  },
  {
   "cell_type": "code",
   "execution_count": null,
   "id": "7bc1ffc4",
   "metadata": {},
   "outputs": [
    {
     "name": "stdout",
     "output_type": "stream",
     "text": [
      ">1 13770.872 (518.361)\n",
      ">2 9673.586 (398.116)\n",
      ">3 7783.875 (393.200)\n",
      ">4 6686.293 (253.234)\n",
      ">5 5575.918 (176.859)\n",
      ">6 5106.235 (342.995)\n",
      ">7 4695.491 (353.584)\n",
      ">8 4395.372 (366.340)\n",
      ">9 4143.296 (422.938)\n",
      ">10 4064.871 (414.840)\n",
      ">11 3880.994 (433.105)\n",
      ">12 3831.714 (396.971)\n",
      ">13 3773.891 (437.190)\n",
      ">14 3771.442 (425.043)\n",
      ">15 3769.082 (388.875)\n",
      ">16 3741.356 (394.563)\n",
      ">17 3740.153 (415.062)\n",
      ">18 3721.954 (444.760)\n",
      ">19 3765.976 (425.594)\n",
      ">20 3777.496 (425.025)\n",
      ">21 3827.491 (434.580)\n",
      ">22 3761.119 (409.760)\n",
      ">23 3773.776 (429.259)\n",
      ">24 3763.150 (408.907)\n",
      ">25 3763.396 (417.512)\n",
      ">26 3782.507 (405.136)\n",
      ">27 3791.885 (446.067)\n",
      ">28 3812.705 (406.567)\n",
      ">29 3792.121 (445.264)\n",
      ">30 3780.123 (429.651)\n",
      ">31 3739.596 (472.987)\n",
      ">32 3797.480 (426.929)\n",
      ">33 3754.727 (417.368)\n"
     ]
    },
    {
     "data": {
      "image/png": "[encoded data removed]",
      "text/plain": [
       "<Figure size 640x480 with 1 Axes>"
      ]
     },
     "metadata": {},
     "output_type": "display_data"
    }
   ],
   "source": [
    "# get a list of models to evaluate\n",
    "def get_models():\n",
    "    models = dict()\n",
    "    # explore depths from 1 to 10\n",
    "    for i in range(1,34):\n",
    "        # define base model\n",
    "        base = DecisionTreeRegressor(max_depth=i)\n",
    "        # define ensemble model\n",
    "        models[str(i)] = AdaBoostRegressor(estimator=base,n_estimators=100, learning_rate=0.1, random_state=0)\n",
    "    return models\n",
    "\n",
    "# evaluate a given model using cross-validation\n",
    "def evaluate_model(model, X, y):\n",
    "    # define the evaluation procedure\n",
    "    cv = KFold(n_splits=10, shuffle=True, random_state=1)\n",
    "    # evaluate the model and collect the results\n",
    "    scores = -cross_val_score(model, X, y, scoring='neg_root_mean_squared_error', cv=cv, n_jobs=-1)\n",
    "    return scores\n",
    "\n",
    "# get the models to evaluate\n",
    "models = get_models()\n",
    "# evaluate the models and store results\n",
    "results, names = list(), list()\n",
    "for name, model in models.items():\n",
    "    # evaluate the model\n",
    "    scores = evaluate_model(model, X_train_final, y_train)\n",
    "    # store the results\n",
    "    results.append(scores)\n",
    "    names.append(name)\n",
    "    # summarize the performance along the way\n",
    "    print('>%s %.3f (%.3f)' % (name, np.mean(scores), np.std(scores)))\n",
    "plt.boxplot(results, labels=names, showmeans=True)\n",
    "plt.ylabel('Cross validation error',fontsize=15)\n",
    "plt.xlabel('Depth of each tree',fontsize=15);"
   ]
  },
  {
   "cell_type": "markdown",
   "id": "c749b3b0",
   "metadata": {},
   "source": [
    "As shown in the plot, very shallow trees (e.g., `max_depth=1` to `3`) result in high cross-validation error due to underfitting.  \n",
    "As tree depth increases, the model becomes more expressive, and the error drops sharply up to around depth 10.  \n",
    "\n",
    "Beyond this point, deeper trees offer diminishing returns, and performance stabilizes.  \n",
    "> 🔍 This suggests that **slightly deeper trees (e.g., depth 5–10)** strike a good balance between model complexity and generalization in AdaBoost.\n"
   ]
  },
  {
   "cell_type": "markdown",
   "id": "20435942",
   "metadata": {},
   "source": [
    "###  Impact of Learning Rate\n",
    "\n",
    "In boosting algorithms such as **AdaBoost** or **Gradient Boosting**, the `learning_rate` controls **how much each new tree contributes** to the overall model.\n",
    "\n",
    "Each new tree makes a correction to the current prediction, and the learning rate scales **how aggressively** that correction is applied.\n",
    "\n",
    "- 🔺 A **high learning rate** takes **large correction steps** — fast learning, but higher risk of overshooting or overfitting.\n",
    "- 🔹 A **low learning rate** takes **small correction steps** — more stable, but may underfit unless paired with enough trees.\n",
    "\n",
    "\n",
    "\n",
    "####  Effect on Performance\n",
    "\n",
    "| Learning Rate              | Behavior                            | Risk                              |\n",
    "|----------------------------|-------------------------------------|-----------------------------------|\n",
    "|  Very Small (e.g., 0.01) | Learns slowly, needs many trees     | Underfitting if not enough trees |\n",
    "|  Moderate (e.g., 0.1–0.2) | Balanced correction, stable learning | Often optimal                    |\n",
    "|  Large (e.g., 0.5–1.0)   | Learns quickly, may overshoot       | Overfitting or unstable learning |\n",
    "\n",
    "\n",
    ">  **Key takeaway**: Small learning rates usually generalize better — especially when combined with more estimators.\n",
    "\n"
   ]
  },
  {
   "cell_type": "code",
   "execution_count": 12,
   "id": "f282dbf3",
   "metadata": {},
   "outputs": [
    {
     "name": "stdout",
     "output_type": "stream",
     "text": [
      ">0.01 8877.6 (725.1)\n",
      ">0.02 8797.2 (656.7)\n",
      ">0.04 8554.4 (540.3)\n",
      ">0.08 7988.1 (479.9)\n",
      ">0.1 7763.7 (345.8)\n",
      ">0.15 7754.0 (380.3)\n",
      ">0.2 7862.9 (368.8)\n",
      ">0.3 8024.6 (345.3)\n",
      ">0.6 9078.9 (205.6)\n",
      ">1.0 10508.4 (507.6)\n"
     ]
    },
    {
     "data": {
      "image/png": "[encoded data removed]",
      "text/plain": [
       "<Figure size 700x700 with 1 Axes>"
      ]
     },
     "metadata": {},
     "output_type": "display_data"
    }
   ],
   "source": [
    "def get_models():\n",
    "    models = dict()\n",
    "    learning_rates = [0.01, 0.02, 0.04, 0.08, 0.1, 0.15, 0.2, 0.3, 0.6, 1.0]\n",
    "    for i in range(len(learning_rates)):\n",
    "        key = learning_rates[i]\n",
    "        models[key] = AdaBoostRegressor(learning_rate=learning_rates[i])\n",
    "    return models\n",
    "\n",
    "# evaluate a given model using cross-validation\n",
    "def evaluate_model(model, X, y):\n",
    "    # define the evaluation procedure\n",
    "    cv = KFold(n_splits=10, shuffle=True, random_state=1)\n",
    "    # evaluate the model and collect the results\n",
    "    scores = -cross_val_score(model, X, y, scoring='neg_root_mean_squared_error', cv=cv, n_jobs=-1)\n",
    "    return scores\n",
    "\n",
    "# get the models to evaluate\n",
    "models = get_models()\n",
    "# evaluate the models and store results\n",
    "results, names = list(), list()\n",
    "for name, model in models.items():\n",
    "    # evaluate the model\n",
    "    scores = evaluate_model(model, X_train_final, y_train)\n",
    "    # store the results\n",
    "    results.append(scores)\n",
    "    names.append(name)\n",
    "    # summarize the performance along the way\n",
    "    print('>%s %.1f (%.1f)' % (name, np.mean(scores), np.std(scores)))\n",
    "# plot model performance for comparison\n",
    "plt.figure(figsize=(7, 7))\n",
    "plt.boxplot(results, labels=names, showmeans=True)\n",
    "plt.ylabel('Cross validation error',fontsize=15)\n",
    "plt.xlabel('Learning rate',fontsize=15);"
   ]
  },
  {
   "cell_type": "markdown",
   "id": "85918769",
   "metadata": {},
   "source": [
    "The plot shows that moderate learning rates (0.1–0.2) yield the best and most stable model performance, while very small or very large values hurt generalization — likely due to underfitting or overfitting."
   ]
  },
  {
   "cell_type": "markdown",
   "id": "62ddd93e",
   "metadata": {},
   "source": [
    "### Impact of Number of Trees in Boosting\n",
    "\n",
    "As the number of trees increases in a boosting model, the **prediction bias tends to decrease**, while the **variance may increase**.  \n",
    "\n",
    "This creates a trade-off:  \n",
    "\n",
    "- Too few trees → underfitting (high bias)  \n",
    "- Too many trees → potential overfitting (high variance)\n",
    "\n",
    ">  There is typically an **optimal number of trees** that minimizes the overall prediction error, which can be identified using cross-validation.\n"
   ]
  },
  {
   "cell_type": "code",
   "execution_count": 13,
   "id": "b6eab4fc",
   "metadata": {},
   "outputs": [
    {
     "name": "stdout",
     "output_type": "stream",
     "text": [
      ">10 8901.126 (529.620)\n",
      ">20 8640.382 (495.164)\n",
      ">30 8328.349 (539.563)\n",
      ">40 7972.809 (387.803)\n",
      ">50 7907.280 (359.779)\n",
      ">60 7927.212 (305.995)\n",
      ">70 7904.131 (281.108)\n",
      ">80 7914.196 (295.777)\n",
      ">90 7917.841 (274.357)\n",
      ">100 7927.393 (260.542)\n",
      ">200 8286.386 (180.913)\n",
      ">300 8884.444 (230.006)\n",
      ">500 10024.047 (421.340)\n"
     ]
    },
    {
     "data": {
      "image/png": "[encoded data removed]",
      "text/plain": [
       "<Figure size 640x480 with 1 Axes>"
      ]
     },
     "metadata": {},
     "output_type": "display_data"
    }
   ],
   "source": [
    "def get_models():\n",
    "    models = dict()\n",
    "    # define number of trees to consider\n",
    "    n_trees = [10, 20, 30, 40,  50, 60, 70,  80, 90, 100,  200, 300, 500]\n",
    "    for n in n_trees:\n",
    "        models[str(n)] = AdaBoostRegressor(n_estimators=n,random_state=1, learning_rate=0.1)\n",
    "    return models\n",
    "\n",
    "# evaluate a given model using cross-validation\n",
    "def evaluate_model(model, X, y):\n",
    "    # define the evaluation procedure\n",
    "    cv = KFold(n_splits=5, shuffle=True, random_state=1)\n",
    "    # evaluate the model and collect the results\n",
    "    scores = -cross_val_score(model, X, y, scoring='neg_root_mean_squared_error', cv=cv, n_jobs=-1)\n",
    "    return scores\n",
    "\n",
    "# get the models to evaluate\n",
    "models = get_models()\n",
    "# evaluate the models and store results\n",
    "results, names = list(), list()\n",
    "for name, model in models.items():\n",
    "    # evaluate the model\n",
    "    scores = evaluate_model(model, X_train_final, y_train)\n",
    "    # store the results\n",
    "    results.append(scores)\n",
    "    names.append(name)\n",
    "    # summarize the performance along the way\n",
    "    print('>%s %.3f (%.3f)' % (name, np.mean(scores), np.std(scores)))\n",
    "# plot model performance for comparison\n",
    "plt.boxplot(results, labels=names, showmeans=True)\n",
    "plt.ylabel('Cross validation error',fontsize=15)\n",
    "plt.xlabel('Number of trees',fontsize=15);"
   ]
  },
  {
   "cell_type": "markdown",
   "id": "4c4da5e0",
   "metadata": {},
   "source": [
    "With a learning rate of 0.1, the validation error initially decreases, then levels off, and eventually starts to increase — indicating that overfitting is beginning to occur"
   ]
  },
  {
   "cell_type": "markdown",
   "id": "e28d1980",
   "metadata": {},
   "source": [
    "### Tuning Hyperparameters Simultaneously\n",
    "\n",
    "In the following section, we will use **BayesSearchCV** instead of `GridSearchCV` to efficiently tune multiple hyperparameters at once.  \n",
    "Unlike grid search, which exhaustively evaluates all combinations, Bayesian optimization intelligently explores the hyperparameter space by learning from previous evaluations.  \n",
    "This allows us to find a high-performing model using **fewer iterations and less computation**."
   ]
  },
  {
   "cell_type": "code",
   "execution_count": 60,
   "id": "e534f75b",
   "metadata": {},
   "outputs": [
    {
     "name": "stdout",
     "output_type": "stream",
     "text": [
      "Fitting 10 folds for each of 1 candidates, totalling 10 fits\n",
      "Fitting 10 folds for each of 1 candidates, totalling 10 fits\n",
      "Fitting 10 folds for each of 1 candidates, totalling 10 fits\n",
      "Fitting 10 folds for each of 1 candidates, totalling 10 fits\n",
      "Fitting 10 folds for each of 1 candidates, totalling 10 fits\n",
      "Fitting 10 folds for each of 1 candidates, totalling 10 fits\n",
      "Fitting 10 folds for each of 1 candidates, totalling 10 fits\n",
      "Fitting 10 folds for each of 1 candidates, totalling 10 fits\n",
      "Fitting 10 folds for each of 1 candidates, totalling 10 fits\n",
      "Fitting 10 folds for each of 1 candidates, totalling 10 fits\n",
      "Fitting 10 folds for each of 1 candidates, totalling 10 fits\n",
      "Fitting 10 folds for each of 1 candidates, totalling 10 fits\n",
      "Fitting 10 folds for each of 1 candidates, totalling 10 fits\n",
      "Fitting 10 folds for each of 1 candidates, totalling 10 fits\n",
      "Fitting 10 folds for each of 1 candidates, totalling 10 fits\n",
      "Fitting 10 folds for each of 1 candidates, totalling 10 fits\n",
      "Fitting 10 folds for each of 1 candidates, totalling 10 fits\n",
      "Fitting 10 folds for each of 1 candidates, totalling 10 fits\n",
      "Fitting 10 folds for each of 1 candidates, totalling 10 fits\n",
      "Fitting 10 folds for each of 1 candidates, totalling 10 fits\n",
      "Fitting 10 folds for each of 1 candidates, totalling 10 fits\n",
      "Fitting 10 folds for each of 1 candidates, totalling 10 fits\n",
      "Fitting 10 folds for each of 1 candidates, totalling 10 fits\n",
      "Fitting 10 folds for each of 1 candidates, totalling 10 fits\n",
      "Fitting 10 folds for each of 1 candidates, totalling 10 fits\n",
      "Fitting 10 folds for each of 1 candidates, totalling 10 fits\n",
      "Fitting 10 folds for each of 1 candidates, totalling 10 fits\n",
      "Fitting 10 folds for each of 1 candidates, totalling 10 fits\n",
      "Fitting 10 folds for each of 1 candidates, totalling 10 fits\n",
      "Fitting 10 folds for each of 1 candidates, totalling 10 fits\n",
      "Fitting 10 folds for each of 1 candidates, totalling 10 fits\n",
      "Fitting 10 folds for each of 1 candidates, totalling 10 fits\n",
      "Fitting 10 folds for each of 1 candidates, totalling 10 fits\n",
      "Fitting 10 folds for each of 1 candidates, totalling 10 fits\n",
      "Fitting 10 folds for each of 1 candidates, totalling 10 fits\n",
      "Fitting 10 folds for each of 1 candidates, totalling 10 fits\n",
      "Fitting 10 folds for each of 1 candidates, totalling 10 fits\n",
      "Fitting 10 folds for each of 1 candidates, totalling 10 fits\n",
      "Fitting 10 folds for each of 1 candidates, totalling 10 fits\n",
      "Fitting 10 folds for each of 1 candidates, totalling 10 fits\n",
      "Fitting 10 folds for each of 1 candidates, totalling 10 fits\n",
      "Fitting 10 folds for each of 1 candidates, totalling 10 fits\n",
      "Fitting 10 folds for each of 1 candidates, totalling 10 fits\n",
      "Fitting 10 folds for each of 1 candidates, totalling 10 fits\n",
      "Fitting 10 folds for each of 1 candidates, totalling 10 fits\n",
      "Fitting 10 folds for each of 1 candidates, totalling 10 fits\n",
      "Fitting 10 folds for each of 1 candidates, totalling 10 fits\n",
      "Fitting 10 folds for each of 1 candidates, totalling 10 fits\n",
      "Fitting 10 folds for each of 1 candidates, totalling 10 fits\n",
      "Fitting 10 folds for each of 1 candidates, totalling 10 fits\n",
      "Best parameters found:\n",
      "OrderedDict({'estimator__max_depth': 16, 'learning_rate': 1.3460276374020355, 'n_estimators': 398})\n"
     ]
    }
   ],
   "source": [
    "from skopt import BayesSearchCV\n",
    "from skopt.space import Real, Integer\n",
    "\n",
    "# Define the base estimator search space (DecisionTreeRegressor)\n",
    "base_estimator = DecisionTreeRegressor()\n",
    "\n",
    "# AdaBoost model (wrapped for BayesSearchCV)\n",
    "adaboost = AdaBoostRegressor(estimator=base_estimator, random_state=42)\n",
    "\n",
    "# Search space for tuning\n",
    "search_space = {\n",
    "    'estimator__max_depth': Integer(5, 25),\n",
    "    'n_estimators': Integer(100, 500),\n",
    "    'learning_rate': Real(0.01, 2.0, prior='log-uniform')\n",
    "}\n",
    "\n",
    "# Set up the BayesSearchCV\n",
    "opt = BayesSearchCV(\n",
    "    estimator=adaboost,\n",
    "    search_spaces=search_space,\n",
    "    n_iter=50,\n",
    "    scoring='neg_root_mean_squared_error',  # or use 'r2'\n",
    "    cv=10,\n",
    "    random_state=42,\n",
    "    n_jobs=-1,\n",
    "    verbose=1\n",
    ")\n",
    "\n",
    "# Fit on training data\n",
    "opt.fit(X_train_final, y_train)\n",
    "\n",
    "# Best parameters\n",
    "print(\"Best parameters found:\")\n",
    "print(opt.best_params_)"
   ]
  },
  {
   "cell_type": "code",
   "execution_count": 61,
   "id": "d80728a4",
   "metadata": {},
   "outputs": [
    {
     "name": "stdout",
     "output_type": "stream",
     "text": [
      "Best score (RMSE):\n",
      "3280.273309604182\n"
     ]
    }
   ],
   "source": [
    "# Best score\n",
    "print(\"Best score (RMSE):\")\n",
    "print(-opt.best_score_)"
   ]
  },
  {
   "cell_type": "code",
   "execution_count": 19,
   "id": "a81b19d9",
   "metadata": {},
   "outputs": [
    {
     "name": "stdout",
     "output_type": "stream",
     "text": [
      "Test RMSE: 3989.52\n",
      "Test R^2: 0.95\n"
     ]
    }
   ],
   "source": [
    "# evaluate the best model on the test set\n",
    "best_model = opt.best_estimator_\n",
    "y_pred_test = best_model.predict(X_test_final)\n",
    "rmse_test = root_mean_squared_error(y_test, y_pred_test)\n",
    "print(f'Test RMSE: {rmse_test:.2f}')\n",
    "print(f'Test R^2: {r2_score(y_test, y_pred_test):.2f}')"
   ]
  },
  {
   "cell_type": "markdown",
   "id": "4baeca70",
   "metadata": {},
   "source": [
    "Below is the plot showing the minimum cross-validated score computed obtained until 'n' hyperparameter values are considered for cross-validation."
   ]
  },
  {
   "cell_type": "code",
   "execution_count": 63,
   "id": "c99efb3e",
   "metadata": {},
   "outputs": [
    {
     "data": {
      "image/png": "[encoded data removed]",
      "text/plain": [
       "<Figure size 640x480 with 1 Axes>"
      ]
     },
     "metadata": {},
     "output_type": "display_data"
    }
   ],
   "source": [
    "# import plot_convergence from skopt\n",
    "from skopt.plots import plot_convergence\n",
    "\n",
    "plot_convergence(opt.optimizer_results_)\n",
    "plt.show()"
   ]
  },
  {
   "cell_type": "code",
   "execution_count": 78,
   "id": "040591cb",
   "metadata": {},
   "outputs": [
    {
     "data": {
      "text/html": [
       "<div>\n",
       "<style scoped>\n",
       "    .dataframe tbody tr th:only-of-type {\n",
       "        vertical-align: middle;\n",
       "    }\n",
       "\n",
       "    .dataframe tbody tr th {\n",
       "        vertical-align: top;\n",
       "    }\n",
       "\n",
       "    .dataframe thead th {\n",
       "        text-align: right;\n",
       "    }\n",
       "</style>\n",
       "<table border=\"1\" class=\"dataframe\">\n",
       "  <thead>\n",
       "    <tr style=\"text-align: right;\">\n",
       "      <th></th>\n",
       "      <th>mean_fit_time</th>\n",
       "      <th>std_fit_time</th>\n",
       "      <th>mean_score_time</th>\n",
       "      <th>std_score_time</th>\n",
       "      <th>param_estimator__max_depth</th>\n",
       "      <th>param_learning_rate</th>\n",
       "      <th>param_n_estimators</th>\n",
       "      <th>params</th>\n",
       "      <th>split0_test_score</th>\n",
       "      <th>split1_test_score</th>\n",
       "      <th>...</th>\n",
       "      <th>split3_test_score</th>\n",
       "      <th>split4_test_score</th>\n",
       "      <th>split5_test_score</th>\n",
       "      <th>split6_test_score</th>\n",
       "      <th>split7_test_score</th>\n",
       "      <th>split8_test_score</th>\n",
       "      <th>split9_test_score</th>\n",
       "      <th>mean_test_score</th>\n",
       "      <th>std_test_score</th>\n",
       "      <th>rank_test_score</th>\n",
       "    </tr>\n",
       "  </thead>\n",
       "  <tbody>\n",
       "    <tr>\n",
       "      <th>0</th>\n",
       "      <td>27.288841</td>\n",
       "      <td>0.743828</td>\n",
       "      <td>0.243362</td>\n",
       "      <td>0.085644</td>\n",
       "      <td>13</td>\n",
       "      <td>0.472627</td>\n",
       "      <td>473</td>\n",
       "      <td>{'estimator__max_depth': 13, 'learning_rate': ...</td>\n",
       "      <td>-3294.069041</td>\n",
       "      <td>-3813.012426</td>\n",
       "      <td>...</td>\n",
       "      <td>-2756.999972</td>\n",
       "      <td>-2932.996457</td>\n",
       "      <td>-3575.875394</td>\n",
       "      <td>-3939.806709</td>\n",
       "      <td>-3177.591857</td>\n",
       "      <td>-3766.324137</td>\n",
       "      <td>-3573.518290</td>\n",
       "      <td>3424.096527</td>\n",
       "      <td>366.570915</td>\n",
       "      <td>19</td>\n",
       "    </tr>\n",
       "    <tr>\n",
       "      <th>1</th>\n",
       "      <td>17.667935</td>\n",
       "      <td>0.272929</td>\n",
       "      <td>0.097709</td>\n",
       "      <td>0.037637</td>\n",
       "      <td>22</td>\n",
       "      <td>1.077792</td>\n",
       "      <td>221</td>\n",
       "      <td>{'estimator__max_depth': 22, 'learning_rate': ...</td>\n",
       "      <td>-3425.092032</td>\n",
       "      <td>-3911.963174</td>\n",
       "      <td>...</td>\n",
       "      <td>-2779.928592</td>\n",
       "      <td>-2983.762090</td>\n",
       "      <td>-2930.152797</td>\n",
       "      <td>-3924.408565</td>\n",
       "      <td>-3440.000215</td>\n",
       "      <td>-3206.956114</td>\n",
       "      <td>-3554.256617</td>\n",
       "      <td>3353.027977</td>\n",
       "      <td>368.446075</td>\n",
       "      <td>14</td>\n",
       "    </tr>\n",
       "    <tr>\n",
       "      <th>2</th>\n",
       "      <td>8.346380</td>\n",
       "      <td>0.144302</td>\n",
       "      <td>0.054507</td>\n",
       "      <td>0.011088</td>\n",
       "      <td>14</td>\n",
       "      <td>1.300194</td>\n",
       "      <td>142</td>\n",
       "      <td>{'estimator__max_depth': 14, 'learning_rate': ...</td>\n",
       "      <td>-3321.981911</td>\n",
       "      <td>-4164.975787</td>\n",
       "      <td>...</td>\n",
       "      <td>-2725.368888</td>\n",
       "      <td>-2880.655623</td>\n",
       "      <td>-3542.504943</td>\n",
       "      <td>-3951.995509</td>\n",
       "      <td>-3251.140610</td>\n",
       "      <td>-3233.160256</td>\n",
       "      <td>-3651.305989</td>\n",
       "      <td>3403.423338</td>\n",
       "      <td>419.768357</td>\n",
       "      <td>17</td>\n",
       "    </tr>\n",
       "    <tr>\n",
       "      <th>3</th>\n",
       "      <td>30.282255</td>\n",
       "      <td>0.495589</td>\n",
       "      <td>0.178685</td>\n",
       "      <td>0.054628</td>\n",
       "      <td>21</td>\n",
       "      <td>0.024859</td>\n",
       "      <td>339</td>\n",
       "      <td>{'estimator__max_depth': 21, 'learning_rate': ...</td>\n",
       "      <td>-3409.024380</td>\n",
       "      <td>-5096.657461</td>\n",
       "      <td>...</td>\n",
       "      <td>-2763.126306</td>\n",
       "      <td>-3056.556831</td>\n",
       "      <td>-3554.147448</td>\n",
       "      <td>-4526.278591</td>\n",
       "      <td>-3471.156642</td>\n",
       "      <td>-3489.118289</td>\n",
       "      <td>-3832.937027</td>\n",
       "      <td>3671.805682</td>\n",
       "      <td>645.785144</td>\n",
       "      <td>29</td>\n",
       "    </tr>\n",
       "    <tr>\n",
       "      <th>4</th>\n",
       "      <td>27.381998</td>\n",
       "      <td>0.592005</td>\n",
       "      <td>0.195445</td>\n",
       "      <td>0.069875</td>\n",
       "      <td>21</td>\n",
       "      <td>0.101840</td>\n",
       "      <td>311</td>\n",
       "      <td>{'estimator__max_depth': 21, 'learning_rate': ...</td>\n",
       "      <td>-3554.834507</td>\n",
       "      <td>-5030.730461</td>\n",
       "      <td>...</td>\n",
       "      <td>-2786.992358</td>\n",
       "      <td>-3032.669232</td>\n",
       "      <td>-3554.205187</td>\n",
       "      <td>-4512.125597</td>\n",
       "      <td>-3486.494604</td>\n",
       "      <td>-3709.185433</td>\n",
       "      <td>-3678.304514</td>\n",
       "      <td>3702.954168</td>\n",
       "      <td>616.274481</td>\n",
       "      <td>35</td>\n",
       "    </tr>\n",
       "  </tbody>\n",
       "</table>\n",
       "<p>5 rows × 21 columns</p>\n",
       "</div>"
      ],
      "text/plain": [
       "   mean_fit_time  std_fit_time  mean_score_time  std_score_time  \\\n",
       "0      27.288841      0.743828         0.243362        0.085644   \n",
       "1      17.667935      0.272929         0.097709        0.037637   \n",
       "2       8.346380      0.144302         0.054507        0.011088   \n",
       "3      30.282255      0.495589         0.178685        0.054628   \n",
       "4      27.381998      0.592005         0.195445        0.069875   \n",
       "\n",
       "   param_estimator__max_depth  param_learning_rate  param_n_estimators  \\\n",
       "0                          13             0.472627                 473   \n",
       "1                          22             1.077792                 221   \n",
       "2                          14             1.300194                 142   \n",
       "3                          21             0.024859                 339   \n",
       "4                          21             0.101840                 311   \n",
       "\n",
       "                                              params  split0_test_score  \\\n",
       "0  {'estimator__max_depth': 13, 'learning_rate': ...       -3294.069041   \n",
       "1  {'estimator__max_depth': 22, 'learning_rate': ...       -3425.092032   \n",
       "2  {'estimator__max_depth': 14, 'learning_rate': ...       -3321.981911   \n",
       "3  {'estimator__max_depth': 21, 'learning_rate': ...       -3409.024380   \n",
       "4  {'estimator__max_depth': 21, 'learning_rate': ...       -3554.834507   \n",
       "\n",
       "   split1_test_score  ...  split3_test_score  split4_test_score  \\\n",
       "0       -3813.012426  ...       -2756.999972       -2932.996457   \n",
       "1       -3911.963174  ...       -2779.928592       -2983.762090   \n",
       "2       -4164.975787  ...       -2725.368888       -2880.655623   \n",
       "3       -5096.657461  ...       -2763.126306       -3056.556831   \n",
       "4       -5030.730461  ...       -2786.992358       -3032.669232   \n",
       "\n",
       "   split5_test_score  split6_test_score  split7_test_score  split8_test_score  \\\n",
       "0       -3575.875394       -3939.806709       -3177.591857       -3766.324137   \n",
       "1       -2930.152797       -3924.408565       -3440.000215       -3206.956114   \n",
       "2       -3542.504943       -3951.995509       -3251.140610       -3233.160256   \n",
       "3       -3554.147448       -4526.278591       -3471.156642       -3489.118289   \n",
       "4       -3554.205187       -4512.125597       -3486.494604       -3709.185433   \n",
       "\n",
       "   split9_test_score  mean_test_score  std_test_score  rank_test_score  \n",
       "0       -3573.518290      3424.096527      366.570915               19  \n",
       "1       -3554.256617      3353.027977      368.446075               14  \n",
       "2       -3651.305989      3403.423338      419.768357               17  \n",
       "3       -3832.937027      3671.805682      645.785144               29  \n",
       "4       -3678.304514      3702.954168      616.274481               35  \n",
       "\n",
       "[5 rows x 21 columns]"
      ]
     },
     "execution_count": 78,
     "metadata": {},
     "output_type": "execute_result"
    }
   ],
   "source": [
    "# access the full results\n",
    "results_df = pd.DataFrame(opt.cv_results_)\n",
    "results_df['mean_test_score'] = -results_df['mean_test_score'] \n",
    "results_df.head()"
   ]
  },
  {
   "cell_type": "markdown",
   "id": "dacc95c2",
   "metadata": {},
   "source": [
    "#### Analyzing `BayesSearchCV` Results"
   ]
  },
  {
   "cell_type": "code",
   "execution_count": 79,
   "id": "1ccd8976",
   "metadata": {},
   "outputs": [
    {
     "data": {
      "image/png": "[encoded data removed]",
      "text/plain": [
       "<Figure size 1800x500 with 4 Axes>"
      ]
     },
     "metadata": {},
     "output_type": "display_data"
    }
   ],
   "source": [
    "# Create 1x3 subplots\n",
    "fig, axes = plt.subplots(1, 3, figsize=(18, 5), sharey=True)\n",
    "\n",
    "# List of hyperparameters and axis labels\n",
    "params = ['param_learning_rate', 'param_estimator__max_depth', 'param_n_estimators']\n",
    "labels = ['Learning Rate', 'Max Depth', 'Number of Estimators']\n",
    "\n",
    "# Plot each subplot\n",
    "for ax, param, label in zip(axes, params, labels):\n",
    "    sc = ax.scatter(\n",
    "        results_df[param],\n",
    "        results_df['mean_test_score'],\n",
    "        c=results_df['rank_test_score'],\n",
    "        cmap='viridis',\n",
    "        s=100,\n",
    "        alpha=0.7\n",
    "    )\n",
    "    ax.set_xlabel(label, fontsize=13)\n",
    "    ax.grid(True)\n",
    "\n",
    "# Set shared y-axis label and title\n",
    "axes[0].set_ylabel('Mean Test Score (CV)', fontsize=13)\n",
    "fig.suptitle('Hyperparameter Tuning Results', fontsize=16)\n",
    "\n",
    "# Add shared colorbar\n",
    "cbar = fig.colorbar(sc, ax=axes.ravel().tolist(), label='Rank Test Score');"
   ]
  },
  {
   "cell_type": "markdown",
   "id": "77374aa0",
   "metadata": {},
   "source": [
    "3D scatterplot\n",
    "\n",
    "* Each point is a combination of the 3 hyperparameters.\n",
    "\n",
    "* Color indicates performance (darker = better).\n",
    "\n",
    "* You can rotate the 3D plot in Jupyter interactively!"
   ]
  },
  {
   "cell_type": "code",
   "execution_count": 80,
   "id": "aaa2a7b1",
   "metadata": {},
   "outputs": [
    {
     "data": {
      "image/png": "[encoded data removed]",
      "text/plain": [
       "<Figure size 1000x700 with 2 Axes>"
      ]
     },
     "metadata": {},
     "output_type": "display_data"
    }
   ],
   "source": [
    "from mpl_toolkits.mplot3d import Axes3D\n",
    "import matplotlib.pyplot as plt\n",
    "\n",
    "fig = plt.figure(figsize=(10, 7))\n",
    "ax = fig.add_subplot(111, projection='3d')\n",
    "\n",
    "p = ax.scatter(\n",
    "    results_df['param_learning_rate'],\n",
    "    results_df['param_estimator__max_depth'],\n",
    "    results_df['param_n_estimators'],\n",
    "    c=results_df['mean_test_score'],\n",
    "    cmap='viridis',\n",
    "    s=60,\n",
    "    alpha=0.8\n",
    ")\n",
    "\n",
    "ax.set_xlabel('Learning Rate')\n",
    "ax.set_ylabel('Max Depth')\n",
    "ax.set_zlabel('N Estimators')\n",
    "fig.colorbar(p, label='Mean Test Score')\n",
    "plt.title('3D Interaction of Hyperparameters')\n",
    "plt.tight_layout()\n",
    "plt.show()\n"
   ]
  },
  {
   "cell_type": "code",
   "execution_count": 81,
   "id": "73409000",
   "metadata": {},
   "outputs": [
    {
     "data": {
      "text/html": [
       "<div>\n",
       "<style scoped>\n",
       "    .dataframe tbody tr th:only-of-type {\n",
       "        vertical-align: middle;\n",
       "    }\n",
       "\n",
       "    .dataframe tbody tr th {\n",
       "        vertical-align: top;\n",
       "    }\n",
       "\n",
       "    .dataframe thead th {\n",
       "        text-align: right;\n",
       "    }\n",
       "</style>\n",
       "<table border=\"1\" class=\"dataframe\">\n",
       "  <thead>\n",
       "    <tr style=\"text-align: right;\">\n",
       "      <th></th>\n",
       "      <th>param_learning_rate</th>\n",
       "      <th>param_estimator__max_depth</th>\n",
       "      <th>param_n_estimators</th>\n",
       "      <th>mean_test_score</th>\n",
       "      <th>std_test_score</th>\n",
       "      <th>rank_test_score</th>\n",
       "    </tr>\n",
       "  </thead>\n",
       "  <tbody>\n",
       "    <tr>\n",
       "      <th>0</th>\n",
       "      <td>1.346028</td>\n",
       "      <td>16</td>\n",
       "      <td>398</td>\n",
       "      <td>3280.273310</td>\n",
       "      <td>368.679254</td>\n",
       "      <td>1</td>\n",
       "    </tr>\n",
       "    <tr>\n",
       "      <th>1</th>\n",
       "      <td>1.339271</td>\n",
       "      <td>17</td>\n",
       "      <td>436</td>\n",
       "      <td>3285.379694</td>\n",
       "      <td>347.295833</td>\n",
       "      <td>2</td>\n",
       "    </tr>\n",
       "    <tr>\n",
       "      <th>2</th>\n",
       "      <td>1.318424</td>\n",
       "      <td>17</td>\n",
       "      <td>399</td>\n",
       "      <td>3286.757311</td>\n",
       "      <td>349.655468</td>\n",
       "      <td>3</td>\n",
       "    </tr>\n",
       "    <tr>\n",
       "      <th>3</th>\n",
       "      <td>1.386113</td>\n",
       "      <td>18</td>\n",
       "      <td>478</td>\n",
       "      <td>3289.156528</td>\n",
       "      <td>363.813811</td>\n",
       "      <td>4</td>\n",
       "    </tr>\n",
       "    <tr>\n",
       "      <th>4</th>\n",
       "      <td>1.342019</td>\n",
       "      <td>17</td>\n",
       "      <td>434</td>\n",
       "      <td>3291.786531</td>\n",
       "      <td>354.169181</td>\n",
       "      <td>5</td>\n",
       "    </tr>\n",
       "    <tr>\n",
       "      <th>5</th>\n",
       "      <td>1.340962</td>\n",
       "      <td>17</td>\n",
       "      <td>100</td>\n",
       "      <td>3300.807523</td>\n",
       "      <td>343.109325</td>\n",
       "      <td>6</td>\n",
       "    </tr>\n",
       "    <tr>\n",
       "      <th>6</th>\n",
       "      <td>1.313334</td>\n",
       "      <td>16</td>\n",
       "      <td>297</td>\n",
       "      <td>3304.849191</td>\n",
       "      <td>342.465107</td>\n",
       "      <td>7</td>\n",
       "    </tr>\n",
       "    <tr>\n",
       "      <th>7</th>\n",
       "      <td>1.401063</td>\n",
       "      <td>20</td>\n",
       "      <td>100</td>\n",
       "      <td>3309.832144</td>\n",
       "      <td>341.978057</td>\n",
       "      <td>8</td>\n",
       "    </tr>\n",
       "    <tr>\n",
       "      <th>8</th>\n",
       "      <td>1.309088</td>\n",
       "      <td>16</td>\n",
       "      <td>299</td>\n",
       "      <td>3312.005185</td>\n",
       "      <td>332.872216</td>\n",
       "      <td>9</td>\n",
       "    </tr>\n",
       "    <tr>\n",
       "      <th>9</th>\n",
       "      <td>1.396356</td>\n",
       "      <td>18</td>\n",
       "      <td>500</td>\n",
       "      <td>3317.350680</td>\n",
       "      <td>334.036525</td>\n",
       "      <td>10</td>\n",
       "    </tr>\n",
       "  </tbody>\n",
       "</table>\n",
       "</div>"
      ],
      "text/plain": [
       "   param_learning_rate  param_estimator__max_depth  param_n_estimators  \\\n",
       "0             1.346028                          16                 398   \n",
       "1             1.339271                          17                 436   \n",
       "2             1.318424                          17                 399   \n",
       "3             1.386113                          18                 478   \n",
       "4             1.342019                          17                 434   \n",
       "5             1.340962                          17                 100   \n",
       "6             1.313334                          16                 297   \n",
       "7             1.401063                          20                 100   \n",
       "8             1.309088                          16                 299   \n",
       "9             1.396356                          18                 500   \n",
       "\n",
       "   mean_test_score  std_test_score  rank_test_score  \n",
       "0      3280.273310      368.679254                1  \n",
       "1      3285.379694      347.295833                2  \n",
       "2      3286.757311      349.655468                3  \n",
       "3      3289.156528      363.813811                4  \n",
       "4      3291.786531      354.169181                5  \n",
       "5      3300.807523      343.109325                6  \n",
       "6      3304.849191      342.465107                7  \n",
       "7      3309.832144      341.978057                8  \n",
       "8      3312.005185      332.872216                9  \n",
       "9      3317.350680      334.036525               10  "
      ]
     },
     "execution_count": 81,
     "metadata": {},
     "output_type": "execute_result"
    }
   ],
   "source": [
    "sorted_results = results_df.copy()\n",
    "sorted_results = sorted_results[['param_learning_rate', 'param_estimator__max_depth', 'param_n_estimators', 'mean_test_score', 'std_test_score', 'rank_test_score']]  # Convert to RMSE\n",
    "sorted_results = sorted_results.sort_values(by='rank_test_score')\n",
    "sorted_results.reset_index(drop=True, inplace=True)\n",
    "sorted_results[:10] # Display the top 10 results"
   ]
  },
  {
   "cell_type": "markdown",
   "id": "0d7486d7",
   "metadata": {},
   "source": [
    "Let's analyze radeoffs/interactions"
   ]
  },
  {
   "cell_type": "code",
   "execution_count": 69,
   "id": "bd644504",
   "metadata": {},
   "outputs": [
    {
     "data": {
      "image/png": "[encoded data removed]",
      "text/plain": [
       "<Figure size 870.236x750 with 12 Axes>"
      ]
     },
     "metadata": {},
     "output_type": "display_data"
    }
   ],
   "source": [
    "sns.pairplot(\n",
    "    results_df,\n",
    "    vars=[\n",
    "        'param_learning_rate',\n",
    "        'param_estimator__max_depth',\n",
    "        'param_n_estimators'\n",
    "    ],\n",
    "    hue='rank_test_score',\n",
    "    palette='viridis'\n",
    ");\n"
   ]
  },
  {
   "cell_type": "code",
   "execution_count": 70,
   "id": "5ebab981",
   "metadata": {},
   "outputs": [
    {
     "data": {
      "image/png": "[encoded data removed]",
      "text/plain": [
       "<Figure size 900x900 with 10 Axes>"
      ]
     },
     "metadata": {},
     "output_type": "display_data"
    }
   ],
   "source": [
    "from skopt.plots import plot_objective\n",
    "\n",
    "plot_objective(opt.optimizer_results_[0], dimensions=None, size = 3)\n",
    "plt.tight_layout()\n",
    "plt.show()"
   ]
  },
  {
   "cell_type": "markdown",
   "id": "ad2325d1",
   "metadata": {},
   "source": [
    "### Using Optuna for Hyperparameter Tuning"
   ]
  },
  {
   "cell_type": "code",
   "execution_count": 43,
   "id": "ecfefcf7",
   "metadata": {},
   "outputs": [
    {
     "name": "stdout",
     "output_type": "stream",
     "text": [
      "Collecting optuna\n",
      "  Downloading optuna-4.3.0-py3-none-any.whl.metadata (17 kB)\n",
      "Collecting alembic>=1.5.0 (from optuna)\n",
      "  Downloading alembic-1.15.2-py3-none-any.whl.metadata (7.3 kB)\n",
      "Collecting colorlog (from optuna)\n",
      "  Downloading colorlog-6.9.0-py3-none-any.whl.metadata (10 kB)\n",
      "Requirement already satisfied: numpy in c:\\users\\lsi8012\\appdata\\local\\anaconda3\\lib\\site-packages (from optuna) (1.26.4)\n",
      "Requirement already satisfied: packaging>=20.0 in c:\\users\\lsi8012\\appdata\\roaming\\python\\python312\\site-packages (from optuna) (24.2)\n",
      "Requirement already satisfied: sqlalchemy>=1.4.2 in c:\\users\\lsi8012\\appdata\\local\\anaconda3\\lib\\site-packages (from optuna) (2.0.30)\n",
      "Requirement already satisfied: tqdm in c:\\users\\lsi8012\\appdata\\local\\anaconda3\\lib\\site-packages (from optuna) (4.66.4)\n",
      "Requirement already satisfied: PyYAML in c:\\users\\lsi8012\\appdata\\local\\anaconda3\\lib\\site-packages (from optuna) (6.0.1)\n",
      "Collecting Mako (from alembic>=1.5.0->optuna)\n",
      "  Downloading mako-1.3.10-py3-none-any.whl.metadata (2.9 kB)\n",
      "Collecting typing-extensions>=4.12 (from alembic>=1.5.0->optuna)\n",
      "  Downloading typing_extensions-4.13.2-py3-none-any.whl.metadata (3.0 kB)\n",
      "Requirement already satisfied: greenlet!=0.4.17 in c:\\users\\lsi8012\\appdata\\local\\anaconda3\\lib\\site-packages (from sqlalchemy>=1.4.2->optuna) (3.0.1)\n",
      "Requirement already satisfied: colorama in c:\\users\\lsi8012\\appdata\\roaming\\python\\python312\\site-packages (from colorlog->optuna) (0.4.6)\n",
      "Requirement already satisfied: MarkupSafe>=0.9.2 in c:\\users\\lsi8012\\appdata\\local\\anaconda3\\lib\\site-packages (from Mako->alembic>=1.5.0->optuna) (2.1.3)\n",
      "Downloading optuna-4.3.0-py3-none-any.whl (386 kB)\n",
      "   ---------------------------------------- 0.0/386.6 kB ? eta -:--:--\n",
      "   ------------------ --------------------- 174.1/386.6 kB 3.5 MB/s eta 0:00:01\n",
      "   ---------------------------------------- 386.6/386.6 kB 4.8 MB/s eta 0:00:00\n",
      "Downloading alembic-1.15.2-py3-none-any.whl (231 kB)\n",
      "   ---------------------------------------- 0.0/231.9 kB ? eta -:--:--\n",
      "   ---------------------------------------- 231.9/231.9 kB 7.2 MB/s eta 0:00:00\n",
      "Downloading colorlog-6.9.0-py3-none-any.whl (11 kB)\n",
      "Downloading typing_extensions-4.13.2-py3-none-any.whl (45 kB)\n",
      "   ---------------------------------------- 0.0/45.8 kB ? eta -:--:--\n",
      "   ---------------------------------------- 45.8/45.8 kB 2.4 MB/s eta 0:00:00\n",
      "Downloading mako-1.3.10-py3-none-any.whl (78 kB)\n",
      "   ---------------------------------------- 0.0/78.5 kB ? eta -:--:--\n",
      "   ---------------------------------------- 78.5/78.5 kB 4.6 MB/s eta 0:00:00\n",
      "Installing collected packages: typing-extensions, Mako, colorlog, alembic, optuna\n",
      "  Attempting uninstall: typing-extensions\n",
      "    Found existing installation: typing_extensions 4.11.0\n",
      "    Uninstalling typing_extensions-4.11.0:\n",
      "      Successfully uninstalled typing_extensions-4.11.0\n",
      "Successfully installed Mako-1.3.10 alembic-1.15.2 colorlog-6.9.0 optuna-4.3.0 typing-extensions-4.13.2\n",
      "Note: you may need to restart the kernel to use updated packages.\n"
     ]
    },
    {
     "name": "stderr",
     "output_type": "stream",
     "text": [
      "ERROR: pip's dependency resolver does not currently take into account all the packages that are installed. This behaviour is the source of the following dependency conflicts.\n",
      "streamlit 1.32.0 requires packaging<24,>=16.8, but you have packaging 24.2 which is incompatible.\n"
     ]
    }
   ],
   "source": [
    "pip install optuna"
   ]
  },
  {
   "cell_type": "markdown",
   "id": "cbc3b5ee",
   "metadata": {},
   "source": [
    "Step 1: Import"
   ]
  },
  {
   "cell_type": "code",
   "execution_count": 44,
   "id": "171c3a74",
   "metadata": {},
   "outputs": [],
   "source": [
    "# import optuna\n",
    "import optuna"
   ]
  },
  {
   "cell_type": "markdown",
   "id": "88acfd57",
   "metadata": {},
   "source": [
    "Step 2: Define the Objective Function"
   ]
  },
  {
   "cell_type": "code",
   "execution_count": 72,
   "id": "c8f81d90",
   "metadata": {},
   "outputs": [],
   "source": [
    "def objective(trial):\n",
    "    # Suggest hyperparameters\n",
    "    learning_rate = trial.suggest_float(\"learning_rate\", 0.01, 2.0)\n",
    "    max_depth = trial.suggest_int(\"max_depth\", 5, 25)\n",
    "    n_estimators = trial.suggest_int(\"n_estimators\", 100, 500)\n",
    "\n",
    "    # Define model with trial parameters\n",
    "    base_estimator = DecisionTreeRegressor(max_depth=max_depth)\n",
    "    model = AdaBoostRegressor(\n",
    "        estimator=base_estimator,\n",
    "        learning_rate=learning_rate,\n",
    "        n_estimators=n_estimators,\n",
    "        random_state=42\n",
    "    )\n",
    "\n",
    "    # Cross-validation score (negative RMSE)\n",
    "    score = cross_val_score(model, X_train_final, y_train, scoring=\"neg_root_mean_squared_error\", cv=5)\n",
    "    return -np.mean(score)\n"
   ]
  },
  {
   "cell_type": "markdown",
   "id": "1d1a91c0",
   "metadata": {},
   "source": [
    "Step 3: Run the study"
   ]
  },
  {
   "cell_type": "code",
   "execution_count": 73,
   "id": "88292df9",
   "metadata": {},
   "outputs": [
    {
     "name": "stderr",
     "output_type": "stream",
     "text": [
      "[I 2025-04-29 18:13:37,366] A new study created in memory with name: no-name-8c1fd49f-a877-442b-99b1-047e129cf2d6\n",
      "[I 2025-04-29 18:13:55,695] Trial 0 finished with value: 3604.108244895723 and parameters: {'learning_rate': 0.2657114590825371, 'max_depth': 16, 'n_estimators': 118}. Best is trial 0 with value: 3604.108244895723.\n",
      "[I 2025-04-29 18:14:39,369] Trial 1 finished with value: 3418.989299711666 and parameters: {'learning_rate': 1.3034198280227978, 'max_depth': 19, 'n_estimators': 299}. Best is trial 1 with value: 3418.989299711666.\n",
      "[I 2025-04-29 18:15:01,876] Trial 2 finished with value: 6675.343723783454 and parameters: {'learning_rate': 1.8424651045294824, 'max_depth': 19, 'n_estimators': 422}. Best is trial 1 with value: 3418.989299711666.\n",
      "[I 2025-04-29 18:15:51,382] Trial 3 finished with value: 3534.3761450527854 and parameters: {'learning_rate': 0.5334103211344221, 'max_depth': 12, 'n_estimators': 454}. Best is trial 1 with value: 3418.989299711666.\n",
      "[I 2025-04-29 18:16:17,255] Trial 4 finished with value: 4146.601971284103 and parameters: {'learning_rate': 0.3024670447553495, 'max_depth': 8, 'n_estimators': 291}. Best is trial 1 with value: 3418.989299711666.\n",
      "[I 2025-04-29 18:16:51,329] Trial 5 finished with value: 3373.6473210617305 and parameters: {'learning_rate': 1.5257826326174242, 'max_depth': 16, 'n_estimators': 256}. Best is trial 5 with value: 3373.6473210617305.\n",
      "[I 2025-04-29 18:17:22,661] Trial 6 finished with value: 4645.349739417665 and parameters: {'learning_rate': 0.5297828519634237, 'max_depth': 7, 'n_estimators': 367}. Best is trial 5 with value: 3373.6473210617305.\n",
      "[I 2025-04-29 18:17:48,173] Trial 7 finished with value: 3783.098791065398 and parameters: {'learning_rate': 1.4149558081471842, 'max_depth': 10, 'n_estimators': 263}. Best is trial 5 with value: 3373.6473210617305.\n",
      "[I 2025-04-29 18:18:07,203] Trial 8 finished with value: 3642.6233815254373 and parameters: {'learning_rate': 1.9601482801398697, 'max_depth': 11, 'n_estimators': 188}. Best is trial 5 with value: 3373.6473210617305.\n",
      "[I 2025-04-29 18:19:28,631] Trial 9 finished with value: 3815.355472103091 and parameters: {'learning_rate': 0.259029718590615, 'max_depth': 25, 'n_estimators': 452}. Best is trial 5 with value: 3373.6473210617305.\n",
      "[I 2025-04-29 18:19:52,259] Trial 10 finished with value: 3460.264767659689 and parameters: {'learning_rate': 1.0867872885809007, 'max_depth': 23, 'n_estimators': 145}. Best is trial 5 with value: 3373.6473210617305.\n",
      "[I 2025-04-29 18:20:24,557] Trial 11 finished with value: 3354.0174995460206 and parameters: {'learning_rate': 1.4283231452601248, 'max_depth': 17, 'n_estimators': 232}. Best is trial 11 with value: 3354.0174995460206.\n",
      "[I 2025-04-29 18:20:51,602] Trial 12 finished with value: 3424.5702876072514 and parameters: {'learning_rate': 1.5895892175714832, 'max_depth': 15, 'n_estimators': 217}. Best is trial 11 with value: 3354.0174995460206.\n",
      "[I 2025-04-29 18:21:42,335] Trial 13 finished with value: 3428.9633976083956 and parameters: {'learning_rate': 0.9643138493113337, 'max_depth': 17, 'n_estimators': 364}. Best is trial 11 with value: 3354.0174995460206.\n",
      "[I 2025-04-29 18:22:07,861] Trial 14 finished with value: 3363.7031695680153 and parameters: {'learning_rate': 1.62982211920311, 'max_depth': 20, 'n_estimators': 234}. Best is trial 11 with value: 3354.0174995460206.\n",
      "[I 2025-04-29 18:22:38,820] Trial 15 finished with value: 3467.0742139036493 and parameters: {'learning_rate': 1.0494403165070592, 'max_depth': 21, 'n_estimators': 195}. Best is trial 11 with value: 3354.0174995460206.\n",
      "[I 2025-04-29 18:23:03,761] Trial 16 finished with value: 4339.523251732014 and parameters: {'learning_rate': 1.7528718262914982, 'max_depth': 21, 'n_estimators': 347}. Best is trial 11 with value: 3354.0174995460206.\n",
      "[I 2025-04-29 18:23:32,216] Trial 17 finished with value: 3429.3383627414196 and parameters: {'learning_rate': 1.2930834352035752, 'max_depth': 14, 'n_estimators': 235}. Best is trial 11 with value: 3354.0174995460206.\n",
      "[I 2025-04-29 18:23:46,880] Trial 18 finished with value: 3432.187531277779 and parameters: {'learning_rate': 1.6679028063369739, 'max_depth': 19, 'n_estimators': 145}. Best is trial 11 with value: 3354.0174995460206.\n"
     ]
    }
   ],
   "source": [
    "study = optuna.create_study(direction=\"minimize\")\n",
    "study.optimize(objective, n_trials=20, timeout=600)  # 50 trials or 10 min\n"
   ]
  },
  {
   "cell_type": "markdown",
   "id": "91a0c5c9",
   "metadata": {},
   "source": [
    "Step 4: Review Best Result"
   ]
  },
  {
   "cell_type": "code",
   "execution_count": 74,
   "id": "ecd90b51",
   "metadata": {},
   "outputs": [
    {
     "name": "stdout",
     "output_type": "stream",
     "text": [
      "Best RMSE: 3354.0174995460206\n",
      "Best hyperparameters: {'learning_rate': 1.4283231452601248, 'max_depth': 17, 'n_estimators': 232}\n"
     ]
    }
   ],
   "source": [
    "print(\"Best RMSE:\", study.best_value)\n",
    "print(\"Best hyperparameters:\", study.best_params)"
   ]
  },
  {
   "cell_type": "code",
   "execution_count": 75,
   "id": "f35056fe",
   "metadata": {},
   "outputs": [
    {
     "name": "stdout",
     "output_type": "stream",
     "text": [
      "RMSE: 3524.38\n",
      "R2 Score: 0.9576611696103872\n"
     ]
    }
   ],
   "source": [
    "# make a prediction using the best hyperparameters\n",
    "best_params = study.best_params\n",
    "base_estimator = DecisionTreeRegressor(max_depth=best_params['max_depth'])\n",
    "model = AdaBoostRegressor(\n",
    "    estimator=base_estimator,\n",
    "    learning_rate=best_params['learning_rate'],\n",
    "    n_estimators=best_params['n_estimators'],\n",
    "    random_state=42\n",
    ")\n",
    "# fit the model\n",
    "model.fit(X_train_final, y_train)\n",
    "# predict the test set\n",
    "y_pred = model.predict(X_test_final)\n",
    "# calculate the mean squared error\n",
    "rmse = root_mean_squared_error(y_test, y_pred)\n",
    "print(f'RMSE: {rmse:.2f}')\n",
    "print(f'R2 Score: {r2_score(y_test, y_pred)}')"
   ]
  },
  {
   "cell_type": "markdown",
   "id": "74c56359",
   "metadata": {},
   "source": [
    "Step 5: Visualize the Search"
   ]
  },
  {
   "cell_type": "code",
   "execution_count": 82,
   "id": "0d05dc37",
   "metadata": {},
   "outputs": [
    {
     "data": {
      "application/vnd.plotly.v1+json": {
       "config": {
        "plotlyServerURL": "https://plot.ly"
       },
       "data": [
        {
         "mode": "markers",
         "name": "Objective Value",
         "type": "scatter",
         "x": [
          0,
          1,
          2,
          3,
          4,
          5,
          6,
          7,
          8,
          9,
          10,
          11,
          12,
          13,
          14,
          15,
          16,
          17,
          18
         ],
         "y": [
          3604.108244895723,
          3418.989299711666,
          6675.343723783454,
          3534.3761450527854,
          4146.601971284103,
          3373.6473210617305,
          4645.349739417665,
          3783.098791065398,
          3642.6233815254373,
          3815.355472103091,
          3460.264767659689,
          3354.0174995460206,
          3424.5702876072514,
          3428.9633976083956,
          3363.7031695680153,
          3467.0742139036493,
          4339.523251732014,
          3429.3383627414196,
          3432.187531277779
         ]
        },
        {
         "mode": "lines",
         "name": "Best Value",
         "type": "scatter",
         "x": [
          0,
          1,
          2,
          3,
          4,
          5,
          6,
          7,
          8,
          9,
          10,
          11,
          12,
          13,
          14,
          15,
          16,
          17,
          18
         ],
         "y": [
          3604.108244895723,
          3418.989299711666,
          3418.989299711666,
          3418.989299711666,
          3418.989299711666,
          3373.6473210617305,
          3373.6473210617305,
          3373.6473210617305,
          3373.6473210617305,
          3373.6473210617305,
          3373.6473210617305,
          3354.0174995460206,
          3354.0174995460206,
          3354.0174995460206,
          3354.0174995460206,
          3354.0174995460206,
          3354.0174995460206,
          3354.0174995460206,
          3354.0174995460206
         ]
        },
        {
         "marker": {
          "color": "#cccccc"
         },
         "mode": "markers",
         "name": "Infeasible Trial",
         "showlegend": false,
         "type": "scatter",
         "x": [],
         "y": []
        }
       ],
       "layout": {
        "template": {
         "data": {
          "bar": [
           {
            "error_x": {
             "color": "#2a3f5f"
            },
            "error_y": {
             "color": "#2a3f5f"
            },
            "marker": {
             "line": {
              "color": "#E5ECF6",
              "width": 0.5
             },
             "pattern": {
              "fillmode": "overlay",
              "size": 10,
              "solidity": 0.2
             }
            },
            "type": "bar"
           }
          ],
          "barpolar": [
           {
            "marker": {
             "line": {
              "color": "#E5ECF6",
              "width": 0.5
             },
             "pattern": {
              "fillmode": "overlay",
              "size": 10,
              "solidity": 0.2
             }
            },
            "type": "barpolar"
           }
          ],
          "carpet": [
           {
            "aaxis": {
             "endlinecolor": "#2a3f5f",
             "gridcolor": "white",
             "linecolor": "white",
             "minorgridcolor": "white",
             "startlinecolor": "#2a3f5f"
            },
            "baxis": {
             "endlinecolor": "#2a3f5f",
             "gridcolor": "white",
             "linecolor": "white",
             "minorgridcolor": "white",
             "startlinecolor": "#2a3f5f"
            },
            "type": "carpet"
           }
          ],
          "choropleth": [
           {
            "colorbar": {
             "outlinewidth": 0,
             "ticks": ""
            },
            "type": "choropleth"
           }
          ],
          "contour": [
           {
            "colorbar": {
             "outlinewidth": 0,
             "ticks": ""
            },
            "colorscale": [
             [
              0,
              "#0d0887"
             ],
             [
              0.1111111111111111,
              "#46039f"
             ],
             [
              0.2222222222222222,
              "#7201a8"
             ],
             [
              0.3333333333333333,
              "#9c179e"
             ],
             [
              0.4444444444444444,
              "#bd3786"
             ],
             [
              0.5555555555555556,
              "#d8576b"
             ],
             [
              0.6666666666666666,
              "#ed7953"
             ],
             [
              0.7777777777777778,
              "#fb9f3a"
             ],
             [
              0.8888888888888888,
              "#fdca26"
             ],
             [
              1,
              "#f0f921"
             ]
            ],
            "type": "contour"
           }
          ],
          "contourcarpet": [
           {
            "colorbar": {
             "outlinewidth": 0,
             "ticks": ""
            },
            "type": "contourcarpet"
           }
          ],
          "heatmap": [
           {
            "colorbar": {
             "outlinewidth": 0,
             "ticks": ""
            },
            "colorscale": [
             [
              0,
              "#0d0887"
             ],
             [
              0.1111111111111111,
              "#46039f"
             ],
             [
              0.2222222222222222,
              "#7201a8"
             ],
             [
              0.3333333333333333,
              "#9c179e"
             ],
             [
              0.4444444444444444,
              "#bd3786"
             ],
             [
              0.5555555555555556,
              "#d8576b"
             ],
             [
              0.6666666666666666,
              "#ed7953"
             ],
             [
              0.7777777777777778,
              "#fb9f3a"
             ],
             [
              0.8888888888888888,
              "#fdca26"
             ],
             [
              1,
              "#f0f921"
             ]
            ],
            "type": "heatmap"
           }
          ],
          "heatmapgl": [
           {
            "colorbar": {
             "outlinewidth": 0,
             "ticks": ""
            },
            "colorscale": [
             [
              0,
              "#0d0887"
             ],
             [
              0.1111111111111111,
              "#46039f"
             ],
             [
              0.2222222222222222,
              "#7201a8"
             ],
             [
              0.3333333333333333,
              "#9c179e"
             ],
             [
              0.4444444444444444,
              "#bd3786"
             ],
             [
              0.5555555555555556,
              "#d8576b"
             ],
             [
              0.6666666666666666,
              "#ed7953"
             ],
             [
              0.7777777777777778,
              "#fb9f3a"
             ],
             [
              0.8888888888888888,
              "#fdca26"
             ],
             [
              1,
              "#f0f921"
             ]
            ],
            "type": "heatmapgl"
           }
          ],
          "histogram": [
           {
            "marker": {
             "pattern": {
              "fillmode": "overlay",
              "size": 10,
              "solidity": 0.2
             }
            },
            "type": "histogram"
           }
          ],
          "histogram2d": [
           {
            "colorbar": {
             "outlinewidth": 0,
             "ticks": ""
            },
            "colorscale": [
             [
              0,
              "#0d0887"
             ],
             [
              0.1111111111111111,
              "#46039f"
             ],
             [
              0.2222222222222222,
              "#7201a8"
             ],
             [
              0.3333333333333333,
              "#9c179e"
             ],
             [
              0.4444444444444444,
              "#bd3786"
             ],
             [
              0.5555555555555556,
              "#d8576b"
             ],
             [
              0.6666666666666666,
              "#ed7953"
             ],
             [
              0.7777777777777778,
              "#fb9f3a"
             ],
             [
              0.8888888888888888,
              "#fdca26"
             ],
             [
              1,
              "#f0f921"
             ]
            ],
            "type": "histogram2d"
           }
          ],
          "histogram2dcontour": [
           {
            "colorbar": {
             "outlinewidth": 0,
             "ticks": ""
            },
            "colorscale": [
             [
              0,
              "#0d0887"
             ],
             [
              0.1111111111111111,
              "#46039f"
             ],
             [
              0.2222222222222222,
              "#7201a8"
             ],
             [
              0.3333333333333333,
              "#9c179e"
             ],
             [
              0.4444444444444444,
              "#bd3786"
             ],
             [
              0.5555555555555556,
              "#d8576b"
             ],
             [
              0.6666666666666666,
              "#ed7953"
             ],
             [
              0.7777777777777778,
              "#fb9f3a"
             ],
             [
              0.8888888888888888,
              "#fdca26"
             ],
             [
              1,
              "#f0f921"
             ]
            ],
            "type": "histogram2dcontour"
           }
          ],
          "mesh3d": [
           {
            "colorbar": {
             "outlinewidth": 0,
             "ticks": ""
            },
            "type": "mesh3d"
           }
          ],
          "parcoords": [
           {
            "line": {
             "colorbar": {
              "outlinewidth": 0,
              "ticks": ""
             }
            },
            "type": "parcoords"
           }
          ],
          "pie": [
           {
            "automargin": true,
            "type": "pie"
           }
          ],
          "scatter": [
           {
            "fillpattern": {
             "fillmode": "overlay",
             "size": 10,
             "solidity": 0.2
            },
            "type": "scatter"
           }
          ],
          "scatter3d": [
           {
            "line": {
             "colorbar": {
              "outlinewidth": 0,
              "ticks": ""
             }
            },
            "marker": {
             "colorbar": {
              "outlinewidth": 0,
              "ticks": ""
             }
            },
            "type": "scatter3d"
           }
          ],
          "scattercarpet": [
           {
            "marker": {
             "colorbar": {
              "outlinewidth": 0,
              "ticks": ""
             }
            },
            "type": "scattercarpet"
           }
          ],
          "scattergeo": [
           {
            "marker": {
             "colorbar": {
              "outlinewidth": 0,
              "ticks": ""
             }
            },
            "type": "scattergeo"
           }
          ],
          "scattergl": [
           {
            "marker": {
             "colorbar": {
              "outlinewidth": 0,
              "ticks": ""
             }
            },
            "type": "scattergl"
           }
          ],
          "scattermapbox": [
           {
            "marker": {
             "colorbar": {
              "outlinewidth": 0,
              "ticks": ""
             }
            },
            "type": "scattermapbox"
           }
          ],
          "scatterpolar": [
           {
            "marker": {
             "colorbar": {
              "outlinewidth": 0,
              "ticks": ""
             }
            },
            "type": "scatterpolar"
           }
          ],
          "scatterpolargl": [
           {
            "marker": {
             "colorbar": {
              "outlinewidth": 0,
              "ticks": ""
             }
            },
            "type": "scatterpolargl"
           }
          ],
          "scatterternary": [
           {
            "marker": {
             "colorbar": {
              "outlinewidth": 0,
              "ticks": ""
             }
            },
            "type": "scatterternary"
           }
          ],
          "surface": [
           {
            "colorbar": {
             "outlinewidth": 0,
             "ticks": ""
            },
            "colorscale": [
             [
              0,
              "#0d0887"
             ],
             [
              0.1111111111111111,
              "#46039f"
             ],
             [
              0.2222222222222222,
              "#7201a8"
             ],
             [
              0.3333333333333333,
              "#9c179e"
             ],
             [
              0.4444444444444444,
              "#bd3786"
             ],
             [
              0.5555555555555556,
              "#d8576b"
             ],
             [
              0.6666666666666666,
              "#ed7953"
             ],
             [
              0.7777777777777778,
              "#fb9f3a"
             ],
             [
              0.8888888888888888,
              "#fdca26"
             ],
             [
              1,
              "#f0f921"
             ]
            ],
            "type": "surface"
           }
          ],
          "table": [
           {
            "cells": {
             "fill": {
              "color": "#EBF0F8"
             },
             "line": {
              "color": "white"
             }
            },
            "header": {
             "fill": {
              "color": "#C8D4E3"
             },
             "line": {
              "color": "white"
             }
            },
            "type": "table"
           }
          ]
         },
         "layout": {
          "annotationdefaults": {
           "arrowcolor": "#2a3f5f",
           "arrowhead": 0,
           "arrowwidth": 1
          },
          "autotypenumbers": "strict",
          "coloraxis": {
           "colorbar": {
            "outlinewidth": 0,
            "ticks": ""
           }
          },
          "colorscale": {
           "diverging": [
            [
             0,
             "#8e0152"
            ],
            [
             0.1,
             "#c51b7d"
            ],
            [
             0.2,
             "#de77ae"
            ],
            [
             0.3,
             "#f1b6da"
            ],
            [
             0.4,
             "#fde0ef"
            ],
            [
             0.5,
             "#f7f7f7"
            ],
            [
             0.6,
             "#e6f5d0"
            ],
            [
             0.7,
             "#b8e186"
            ],
            [
             0.8,
             "#7fbc41"
            ],
            [
             0.9,
             "#4d9221"
            ],
            [
             1,
             "#276419"
            ]
           ],
           "sequential": [
            [
             0,
             "#0d0887"
            ],
            [
             0.1111111111111111,
             "#46039f"
            ],
            [
             0.2222222222222222,
             "#7201a8"
            ],
            [
             0.3333333333333333,
             "#9c179e"
            ],
            [
             0.4444444444444444,
             "#bd3786"
            ],
            [
             0.5555555555555556,
             "#d8576b"
            ],
            [
             0.6666666666666666,
             "#ed7953"
            ],
            [
             0.7777777777777778,
             "#fb9f3a"
            ],
            [
             0.8888888888888888,
             "#fdca26"
            ],
            [
             1,
             "#f0f921"
            ]
           ],
           "sequentialminus": [
            [
             0,
             "#0d0887"
            ],
            [
             0.1111111111111111,
             "#46039f"
            ],
            [
             0.2222222222222222,
             "#7201a8"
            ],
            [
             0.3333333333333333,
             "#9c179e"
            ],
            [
             0.4444444444444444,
             "#bd3786"
            ],
            [
             0.5555555555555556,
             "#d8576b"
            ],
            [
             0.6666666666666666,
             "#ed7953"
            ],
            [
             0.7777777777777778,
             "#fb9f3a"
            ],
            [
             0.8888888888888888,
             "#fdca26"
            ],
            [
             1,
             "#f0f921"
            ]
           ]
          },
          "colorway": [
           "#636efa",
           "#EF553B",
           "#00cc96",
           "#ab63fa",
           "#FFA15A",
           "#19d3f3",
           "#FF6692",
           "#B6E880",
           "#FF97FF",
           "#FECB52"
          ],
          "font": {
           "color": "#2a3f5f"
          },
          "geo": {
           "bgcolor": "white",
           "lakecolor": "white",
           "landcolor": "#E5ECF6",
           "showlakes": true,
           "showland": true,
           "subunitcolor": "white"
          },
          "hoverlabel": {
           "align": "left"
          },
          "hovermode": "closest",
          "mapbox": {
           "style": "light"
          },
          "paper_bgcolor": "white",
          "plot_bgcolor": "#E5ECF6",
          "polar": {
           "angularaxis": {
            "gridcolor": "white",
            "linecolor": "white",
            "ticks": ""
           },
           "bgcolor": "#E5ECF6",
           "radialaxis": {
            "gridcolor": "white",
            "linecolor": "white",
            "ticks": ""
           }
          },
          "scene": {
           "xaxis": {
            "backgroundcolor": "#E5ECF6",
            "gridcolor": "white",
            "gridwidth": 2,
            "linecolor": "white",
            "showbackground": true,
            "ticks": "",
            "zerolinecolor": "white"
           },
           "yaxis": {
            "backgroundcolor": "#E5ECF6",
            "gridcolor": "white",
            "gridwidth": 2,
            "linecolor": "white",
            "showbackground": true,
            "ticks": "",
            "zerolinecolor": "white"
           },
           "zaxis": {
            "backgroundcolor": "#E5ECF6",
            "gridcolor": "white",
            "gridwidth": 2,
            "linecolor": "white",
            "showbackground": true,
            "ticks": "",
            "zerolinecolor": "white"
           }
          },
          "shapedefaults": {
           "line": {
            "color": "#2a3f5f"
           }
          },
          "ternary": {
           "aaxis": {
            "gridcolor": "white",
            "linecolor": "white",
            "ticks": ""
           },
           "baxis": {
            "gridcolor": "white",
            "linecolor": "white",
            "ticks": ""
           },
           "bgcolor": "#E5ECF6",
           "caxis": {
            "gridcolor": "white",
            "linecolor": "white",
            "ticks": ""
           }
          },
          "title": {
           "x": 0.05
          },
          "xaxis": {
           "automargin": true,
           "gridcolor": "white",
           "linecolor": "white",
           "ticks": "",
           "title": {
            "standoff": 15
           },
           "zerolinecolor": "white",
           "zerolinewidth": 2
          },
          "yaxis": {
           "automargin": true,
           "gridcolor": "white",
           "linecolor": "white",
           "ticks": "",
           "title": {
            "standoff": 15
           },
           "zerolinecolor": "white",
           "zerolinewidth": 2
          }
         }
        },
        "title": {
         "text": "Optimization History Plot"
        },
        "xaxis": {
         "title": {
          "text": "Trial"
         }
        },
        "yaxis": {
         "title": {
          "text": "Objective Value"
         }
        }
       }
      }
     },
     "metadata": {},
     "output_type": "display_data"
    }
   ],
   "source": [
    "optuna.visualization.plot_optimization_history(study).show()"
   ]
  },
  {
   "cell_type": "code",
   "execution_count": 83,
   "id": "2fb00f13",
   "metadata": {},
   "outputs": [
    {
     "data": {
      "application/vnd.plotly.v1+json": {
       "config": {
        "plotlyServerURL": "https://plot.ly"
       },
       "data": [
        {
         "cliponaxis": false,
         "hovertemplate": [
          "max_depth (IntDistribution): 0.2851936293467183<extra></extra>",
          "n_estimators (IntDistribution): 0.28587595790191855<extra></extra>",
          "learning_rate (FloatDistribution): 0.4289304127513631<extra></extra>"
         ],
         "name": "Objective Value",
         "orientation": "h",
         "text": [
          "0.29",
          "0.29",
          "0.43"
         ],
         "textposition": "outside",
         "type": "bar",
         "x": [
          0.2851936293467183,
          0.28587595790191855,
          0.4289304127513631
         ],
         "y": [
          "max_depth",
          "n_estimators",
          "learning_rate"
         ]
        }
       ],
       "layout": {
        "template": {
         "data": {
          "bar": [
           {
            "error_x": {
             "color": "#2a3f5f"
            },
            "error_y": {
             "color": "#2a3f5f"
            },
            "marker": {
             "line": {
              "color": "#E5ECF6",
              "width": 0.5
             },
             "pattern": {
              "fillmode": "overlay",
              "size": 10,
              "solidity": 0.2
             }
            },
            "type": "bar"
           }
          ],
          "barpolar": [
           {
            "marker": {
             "line": {
              "color": "#E5ECF6",
              "width": 0.5
             },
             "pattern": {
              "fillmode": "overlay",
              "size": 10,
              "solidity": 0.2
             }
            },
            "type": "barpolar"
           }
          ],
          "carpet": [
           {
            "aaxis": {
             "endlinecolor": "#2a3f5f",
             "gridcolor": "white",
             "linecolor": "white",
             "minorgridcolor": "white",
             "startlinecolor": "#2a3f5f"
            },
            "baxis": {
             "endlinecolor": "#2a3f5f",
             "gridcolor": "white",
             "linecolor": "white",
             "minorgridcolor": "white",
             "startlinecolor": "#2a3f5f"
            },
            "type": "carpet"
           }
          ],
          "choropleth": [
           {
            "colorbar": {
             "outlinewidth": 0,
             "ticks": ""
            },
            "type": "choropleth"
           }
          ],
          "contour": [
           {
            "colorbar": {
             "outlinewidth": 0,
             "ticks": ""
            },
            "colorscale": [
             [
              0,
              "#0d0887"
             ],
             [
              0.1111111111111111,
              "#46039f"
             ],
             [
              0.2222222222222222,
              "#7201a8"
             ],
             [
              0.3333333333333333,
              "#9c179e"
             ],
             [
              0.4444444444444444,
              "#bd3786"
             ],
             [
              0.5555555555555556,
              "#d8576b"
             ],
             [
              0.6666666666666666,
              "#ed7953"
             ],
             [
              0.7777777777777778,
              "#fb9f3a"
             ],
             [
              0.8888888888888888,
              "#fdca26"
             ],
             [
              1,
              "#f0f921"
             ]
            ],
            "type": "contour"
           }
          ],
          "contourcarpet": [
           {
            "colorbar": {
             "outlinewidth": 0,
             "ticks": ""
            },
            "type": "contourcarpet"
           }
          ],
          "heatmap": [
           {
            "colorbar": {
             "outlinewidth": 0,
             "ticks": ""
            },
            "colorscale": [
             [
              0,
              "#0d0887"
             ],
             [
              0.1111111111111111,
              "#46039f"
             ],
             [
              0.2222222222222222,
              "#7201a8"
             ],
             [
              0.3333333333333333,
              "#9c179e"
             ],
             [
              0.4444444444444444,
              "#bd3786"
             ],
             [
              0.5555555555555556,
              "#d8576b"
             ],
             [
              0.6666666666666666,
              "#ed7953"
             ],
             [
              0.7777777777777778,
              "#fb9f3a"
             ],
             [
              0.8888888888888888,
              "#fdca26"
             ],
             [
              1,
              "#f0f921"
             ]
            ],
            "type": "heatmap"
           }
          ],
          "heatmapgl": [
           {
            "colorbar": {
             "outlinewidth": 0,
             "ticks": ""
            },
            "colorscale": [
             [
              0,
              "#0d0887"
             ],
             [
              0.1111111111111111,
              "#46039f"
             ],
             [
              0.2222222222222222,
              "#7201a8"
             ],
             [
              0.3333333333333333,
              "#9c179e"
             ],
             [
              0.4444444444444444,
              "#bd3786"
             ],
             [
              0.5555555555555556,
              "#d8576b"
             ],
             [
              0.6666666666666666,
              "#ed7953"
             ],
             [
              0.7777777777777778,
              "#fb9f3a"
             ],
             [
              0.8888888888888888,
              "#fdca26"
             ],
             [
              1,
              "#f0f921"
             ]
            ],
            "type": "heatmapgl"
           }
          ],
          "histogram": [
           {
            "marker": {
             "pattern": {
              "fillmode": "overlay",
              "size": 10,
              "solidity": 0.2
             }
            },
            "type": "histogram"
           }
          ],
          "histogram2d": [
           {
            "colorbar": {
             "outlinewidth": 0,
             "ticks": ""
            },
            "colorscale": [
             [
              0,
              "#0d0887"
             ],
             [
              0.1111111111111111,
              "#46039f"
             ],
             [
              0.2222222222222222,
              "#7201a8"
             ],
             [
              0.3333333333333333,
              "#9c179e"
             ],
             [
              0.4444444444444444,
              "#bd3786"
             ],
             [
              0.5555555555555556,
              "#d8576b"
             ],
             [
              0.6666666666666666,
              "#ed7953"
             ],
             [
              0.7777777777777778,
              "#fb9f3a"
             ],
             [
              0.8888888888888888,
              "#fdca26"
             ],
             [
              1,
              "#f0f921"
             ]
            ],
            "type": "histogram2d"
           }
          ],
          "histogram2dcontour": [
           {
            "colorbar": {
             "outlinewidth": 0,
             "ticks": ""
            },
            "colorscale": [
             [
              0,
              "#0d0887"
             ],
             [
              0.1111111111111111,
              "#46039f"
             ],
             [
              0.2222222222222222,
              "#7201a8"
             ],
             [
              0.3333333333333333,
              "#9c179e"
             ],
             [
              0.4444444444444444,
              "#bd3786"
             ],
             [
              0.5555555555555556,
              "#d8576b"
             ],
             [
              0.6666666666666666,
              "#ed7953"
             ],
             [
              0.7777777777777778,
              "#fb9f3a"
             ],
             [
              0.8888888888888888,
              "#fdca26"
             ],
             [
              1,
              "#f0f921"
             ]
            ],
            "type": "histogram2dcontour"
           }
          ],
          "mesh3d": [
           {
            "colorbar": {
             "outlinewidth": 0,
             "ticks": ""
            },
            "type": "mesh3d"
           }
          ],
          "parcoords": [
           {
            "line": {
             "colorbar": {
              "outlinewidth": 0,
              "ticks": ""
             }
            },
            "type": "parcoords"
           }
          ],
          "pie": [
           {
            "automargin": true,
            "type": "pie"
           }
          ],
          "scatter": [
           {
            "fillpattern": {
             "fillmode": "overlay",
             "size": 10,
             "solidity": 0.2
            },
            "type": "scatter"
           }
          ],
          "scatter3d": [
           {
            "line": {
             "colorbar": {
              "outlinewidth": 0,
              "ticks": ""
             }
            },
            "marker": {
             "colorbar": {
              "outlinewidth": 0,
              "ticks": ""
             }
            },
            "type": "scatter3d"
           }
          ],
          "scattercarpet": [
           {
            "marker": {
             "colorbar": {
              "outlinewidth": 0,
              "ticks": ""
             }
            },
            "type": "scattercarpet"
           }
          ],
          "scattergeo": [
           {
            "marker": {
             "colorbar": {
              "outlinewidth": 0,
              "ticks": ""
             }
            },
            "type": "scattergeo"
           }
          ],
          "scattergl": [
           {
            "marker": {
             "colorbar": {
              "outlinewidth": 0,
              "ticks": ""
             }
            },
            "type": "scattergl"
           }
          ],
          "scattermapbox": [
           {
            "marker": {
             "colorbar": {
              "outlinewidth": 0,
              "ticks": ""
             }
            },
            "type": "scattermapbox"
           }
          ],
          "scatterpolar": [
           {
            "marker": {
             "colorbar": {
              "outlinewidth": 0,
              "ticks": ""
             }
            },
            "type": "scatterpolar"
           }
          ],
          "scatterpolargl": [
           {
            "marker": {
             "colorbar": {
              "outlinewidth": 0,
              "ticks": ""
             }
            },
            "type": "scatterpolargl"
           }
          ],
          "scatterternary": [
           {
            "marker": {
             "colorbar": {
              "outlinewidth": 0,
              "ticks": ""
             }
            },
            "type": "scatterternary"
           }
          ],
          "surface": [
           {
            "colorbar": {
             "outlinewidth": 0,
             "ticks": ""
            },
            "colorscale": [
             [
              0,
              "#0d0887"
             ],
             [
              0.1111111111111111,
              "#46039f"
             ],
             [
              0.2222222222222222,
              "#7201a8"
             ],
             [
              0.3333333333333333,
              "#9c179e"
             ],
             [
              0.4444444444444444,
              "#bd3786"
             ],
             [
              0.5555555555555556,
              "#d8576b"
             ],
             [
              0.6666666666666666,
              "#ed7953"
             ],
             [
              0.7777777777777778,
              "#fb9f3a"
             ],
             [
              0.8888888888888888,
              "#fdca26"
             ],
             [
              1,
              "#f0f921"
             ]
            ],
            "type": "surface"
           }
          ],
          "table": [
           {
            "cells": {
             "fill": {
              "color": "#EBF0F8"
             },
             "line": {
              "color": "white"
             }
            },
            "header": {
             "fill": {
              "color": "#C8D4E3"
             },
             "line": {
              "color": "white"
             }
            },
            "type": "table"
           }
          ]
         },
         "layout": {
          "annotationdefaults": {
           "arrowcolor": "#2a3f5f",
           "arrowhead": 0,
           "arrowwidth": 1
          },
          "autotypenumbers": "strict",
          "coloraxis": {
           "colorbar": {
            "outlinewidth": 0,
            "ticks": ""
           }
          },
          "colorscale": {
           "diverging": [
            [
             0,
             "#8e0152"
            ],
            [
             0.1,
             "#c51b7d"
            ],
            [
             0.2,
             "#de77ae"
            ],
            [
             0.3,
             "#f1b6da"
            ],
            [
             0.4,
             "#fde0ef"
            ],
            [
             0.5,
             "#f7f7f7"
            ],
            [
             0.6,
             "#e6f5d0"
            ],
            [
             0.7,
             "#b8e186"
            ],
            [
             0.8,
             "#7fbc41"
            ],
            [
             0.9,
             "#4d9221"
            ],
            [
             1,
             "#276419"
            ]
           ],
           "sequential": [
            [
             0,
             "#0d0887"
            ],
            [
             0.1111111111111111,
             "#46039f"
            ],
            [
             0.2222222222222222,
             "#7201a8"
            ],
            [
             0.3333333333333333,
             "#9c179e"
            ],
            [
             0.4444444444444444,
             "#bd3786"
            ],
            [
             0.5555555555555556,
             "#d8576b"
            ],
            [
             0.6666666666666666,
             "#ed7953"
            ],
            [
             0.7777777777777778,
             "#fb9f3a"
            ],
            [
             0.8888888888888888,
             "#fdca26"
            ],
            [
             1,
             "#f0f921"
            ]
           ],
           "sequentialminus": [
            [
             0,
             "#0d0887"
            ],
            [
             0.1111111111111111,
             "#46039f"
            ],
            [
             0.2222222222222222,
             "#7201a8"
            ],
            [
             0.3333333333333333,
             "#9c179e"
            ],
            [
             0.4444444444444444,
             "#bd3786"
            ],
            [
             0.5555555555555556,
             "#d8576b"
            ],
            [
             0.6666666666666666,
             "#ed7953"
            ],
            [
             0.7777777777777778,
             "#fb9f3a"
            ],
            [
             0.8888888888888888,
             "#fdca26"
            ],
            [
             1,
             "#f0f921"
            ]
           ]
          },
          "colorway": [
           "#636efa",
           "#EF553B",
           "#00cc96",
           "#ab63fa",
           "#FFA15A",
           "#19d3f3",
           "#FF6692",
           "#B6E880",
           "#FF97FF",
           "#FECB52"
          ],
          "font": {
           "color": "#2a3f5f"
          },
          "geo": {
           "bgcolor": "white",
           "lakecolor": "white",
           "landcolor": "#E5ECF6",
           "showlakes": true,
           "showland": true,
           "subunitcolor": "white"
          },
          "hoverlabel": {
           "align": "left"
          },
          "hovermode": "closest",
          "mapbox": {
           "style": "light"
          },
          "paper_bgcolor": "white",
          "plot_bgcolor": "#E5ECF6",
          "polar": {
           "angularaxis": {
            "gridcolor": "white",
            "linecolor": "white",
            "ticks": ""
           },
           "bgcolor": "#E5ECF6",
           "radialaxis": {
            "gridcolor": "white",
            "linecolor": "white",
            "ticks": ""
           }
          },
          "scene": {
           "xaxis": {
            "backgroundcolor": "#E5ECF6",
            "gridcolor": "white",
            "gridwidth": 2,
            "linecolor": "white",
            "showbackground": true,
            "ticks": "",
            "zerolinecolor": "white"
           },
           "yaxis": {
            "backgroundcolor": "#E5ECF6",
            "gridcolor": "white",
            "gridwidth": 2,
            "linecolor": "white",
            "showbackground": true,
            "ticks": "",
            "zerolinecolor": "white"
           },
           "zaxis": {
            "backgroundcolor": "#E5ECF6",
            "gridcolor": "white",
            "gridwidth": 2,
            "linecolor": "white",
            "showbackground": true,
            "ticks": "",
            "zerolinecolor": "white"
           }
          },
          "shapedefaults": {
           "line": {
            "color": "#2a3f5f"
           }
          },
          "ternary": {
           "aaxis": {
            "gridcolor": "white",
            "linecolor": "white",
            "ticks": ""
           },
           "baxis": {
            "gridcolor": "white",
            "linecolor": "white",
            "ticks": ""
           },
           "bgcolor": "#E5ECF6",
           "caxis": {
            "gridcolor": "white",
            "linecolor": "white",
            "ticks": ""
           }
          },
          "title": {
           "x": 0.05
          },
          "xaxis": {
           "automargin": true,
           "gridcolor": "white",
           "linecolor": "white",
           "ticks": "",
           "title": {
            "standoff": 15
           },
           "zerolinecolor": "white",
           "zerolinewidth": 2
          },
          "yaxis": {
           "automargin": true,
           "gridcolor": "white",
           "linecolor": "white",
           "ticks": "",
           "title": {
            "standoff": 15
           },
           "zerolinecolor": "white",
           "zerolinewidth": 2
          }
         }
        },
        "title": {
         "text": "Hyperparameter Importances"
        },
        "xaxis": {
         "title": {
          "text": "Hyperparameter Importance"
         }
        },
        "yaxis": {
         "title": {
          "text": "Hyperparameter"
         }
        }
       }
      }
     },
     "metadata": {},
     "output_type": "display_data"
    }
   ],
   "source": [
    "optuna.visualization.plot_param_importances(study).show()\n"
   ]
  },
  {
   "cell_type": "code",
   "execution_count": 84,
   "id": "59065009",
   "metadata": {},
   "outputs": [
    {
     "data": {
      "application/vnd.plotly.v1+json": {
       "config": {
        "plotlyServerURL": "https://plot.ly"
       },
       "data": [
        {
         "dimensions": [
          {
           "label": "Objective Value",
           "range": [
            3354.0174995460206,
            6675.343723783454
           ],
           "values": [
            3604.108244895723,
            3418.989299711666,
            6675.343723783454,
            3534.3761450527854,
            4146.601971284103,
            3373.6473210617305,
            4645.349739417665,
            3783.098791065398,
            3642.6233815254373,
            3815.355472103091,
            3460.264767659689,
            3354.0174995460206,
            3424.5702876072514,
            3428.9633976083956,
            3363.7031695680153,
            3467.0742139036493,
            4339.523251732014,
            3429.3383627414196,
            3432.187531277779
           ]
          },
          {
           "label": "learning_rate",
           "range": [
            0.259029718590615,
            1.9601482801398697
           ],
           "values": [
            0.2657114590825371,
            1.3034198280227978,
            1.8424651045294824,
            0.5334103211344221,
            0.3024670447553495,
            1.5257826326174242,
            0.5297828519634237,
            1.4149558081471842,
            1.9601482801398697,
            0.259029718590615,
            1.0867872885809007,
            1.4283231452601248,
            1.5895892175714832,
            0.9643138493113337,
            1.62982211920311,
            1.0494403165070592,
            1.7528718262914982,
            1.2930834352035752,
            1.6679028063369739
           ]
          },
          {
           "label": "max_depth",
           "range": [
            7,
            25
           ],
           "values": [
            16,
            19,
            19,
            12,
            8,
            16,
            7,
            10,
            11,
            25,
            23,
            17,
            15,
            17,
            20,
            21,
            21,
            14,
            19
           ]
          },
          {
           "label": "n_estimators",
           "range": [
            118,
            454
           ],
           "values": [
            118,
            299,
            422,
            454,
            291,
            256,
            367,
            263,
            188,
            452,
            145,
            232,
            217,
            364,
            234,
            195,
            347,
            235,
            145
           ]
          }
         ],
         "labelangle": 30,
         "labelside": "bottom",
         "line": {
          "color": [
           3604.108244895723,
           3418.989299711666,
           6675.343723783454,
           3534.3761450527854,
           4146.601971284103,
           3373.6473210617305,
           4645.349739417665,
           3783.098791065398,
           3642.6233815254373,
           3815.355472103091,
           3460.264767659689,
           3354.0174995460206,
           3424.5702876072514,
           3428.9633976083956,
           3363.7031695680153,
           3467.0742139036493,
           4339.523251732014,
           3429.3383627414196,
           3432.187531277779
          ],
          "colorbar": {
           "title": {
            "text": "Objective Value"
           }
          },
          "colorscale": [
           [
            0,
            "rgb(247,251,255)"
           ],
           [
            0.125,
            "rgb(222,235,247)"
           ],
           [
            0.25,
            "rgb(198,219,239)"
           ],
           [
            0.375,
            "rgb(158,202,225)"
           ],
           [
            0.5,
            "rgb(107,174,214)"
           ],
           [
            0.625,
            "rgb(66,146,198)"
           ],
           [
            0.75,
            "rgb(33,113,181)"
           ],
           [
            0.875,
            "rgb(8,81,156)"
           ],
           [
            1,
            "rgb(8,48,107)"
           ]
          ],
          "reversescale": true,
          "showscale": true
         },
         "type": "parcoords"
        }
       ],
       "layout": {
        "template": {
         "data": {
          "bar": [
           {
            "error_x": {
             "color": "#2a3f5f"
            },
            "error_y": {
             "color": "#2a3f5f"
            },
            "marker": {
             "line": {
              "color": "#E5ECF6",
              "width": 0.5
             },
             "pattern": {
              "fillmode": "overlay",
              "size": 10,
              "solidity": 0.2
             }
            },
            "type": "bar"
           }
          ],
          "barpolar": [
           {
            "marker": {
             "line": {
              "color": "#E5ECF6",
              "width": 0.5
             },
             "pattern": {
              "fillmode": "overlay",
              "size": 10,
              "solidity": 0.2
             }
            },
            "type": "barpolar"
           }
          ],
          "carpet": [
           {
            "aaxis": {
             "endlinecolor": "#2a3f5f",
             "gridcolor": "white",
             "linecolor": "white",
             "minorgridcolor": "white",
             "startlinecolor": "#2a3f5f"
            },
            "baxis": {
             "endlinecolor": "#2a3f5f",
             "gridcolor": "white",
             "linecolor": "white",
             "minorgridcolor": "white",
             "startlinecolor": "#2a3f5f"
            },
            "type": "carpet"
           }
          ],
          "choropleth": [
           {
            "colorbar": {
             "outlinewidth": 0,
             "ticks": ""
            },
            "type": "choropleth"
           }
          ],
          "contour": [
           {
            "colorbar": {
             "outlinewidth": 0,
             "ticks": ""
            },
            "colorscale": [
             [
              0,
              "#0d0887"
             ],
             [
              0.1111111111111111,
              "#46039f"
             ],
             [
              0.2222222222222222,
              "#7201a8"
             ],
             [
              0.3333333333333333,
              "#9c179e"
             ],
             [
              0.4444444444444444,
              "#bd3786"
             ],
             [
              0.5555555555555556,
              "#d8576b"
             ],
             [
              0.6666666666666666,
              "#ed7953"
             ],
             [
              0.7777777777777778,
              "#fb9f3a"
             ],
             [
              0.8888888888888888,
              "#fdca26"
             ],
             [
              1,
              "#f0f921"
             ]
            ],
            "type": "contour"
           }
          ],
          "contourcarpet": [
           {
            "colorbar": {
             "outlinewidth": 0,
             "ticks": ""
            },
            "type": "contourcarpet"
           }
          ],
          "heatmap": [
           {
            "colorbar": {
             "outlinewidth": 0,
             "ticks": ""
            },
            "colorscale": [
             [
              0,
              "#0d0887"
             ],
             [
              0.1111111111111111,
              "#46039f"
             ],
             [
              0.2222222222222222,
              "#7201a8"
             ],
             [
              0.3333333333333333,
              "#9c179e"
             ],
             [
              0.4444444444444444,
              "#bd3786"
             ],
             [
              0.5555555555555556,
              "#d8576b"
             ],
             [
              0.6666666666666666,
              "#ed7953"
             ],
             [
              0.7777777777777778,
              "#fb9f3a"
             ],
             [
              0.8888888888888888,
              "#fdca26"
             ],
             [
              1,
              "#f0f921"
             ]
            ],
            "type": "heatmap"
           }
          ],
          "heatmapgl": [
           {
            "colorbar": {
             "outlinewidth": 0,
             "ticks": ""
            },
            "colorscale": [
             [
              0,
              "#0d0887"
             ],
             [
              0.1111111111111111,
              "#46039f"
             ],
             [
              0.2222222222222222,
              "#7201a8"
             ],
             [
              0.3333333333333333,
              "#9c179e"
             ],
             [
              0.4444444444444444,
              "#bd3786"
             ],
             [
              0.5555555555555556,
              "#d8576b"
             ],
             [
              0.6666666666666666,
              "#ed7953"
             ],
             [
              0.7777777777777778,
              "#fb9f3a"
             ],
             [
              0.8888888888888888,
              "#fdca26"
             ],
             [
              1,
              "#f0f921"
             ]
            ],
            "type": "heatmapgl"
           }
          ],
          "histogram": [
           {
            "marker": {
             "pattern": {
              "fillmode": "overlay",
              "size": 10,
              "solidity": 0.2
             }
            },
            "type": "histogram"
           }
          ],
          "histogram2d": [
           {
            "colorbar": {
             "outlinewidth": 0,
             "ticks": ""
            },
            "colorscale": [
             [
              0,
              "#0d0887"
             ],
             [
              0.1111111111111111,
              "#46039f"
             ],
             [
              0.2222222222222222,
              "#7201a8"
             ],
             [
              0.3333333333333333,
              "#9c179e"
             ],
             [
              0.4444444444444444,
              "#bd3786"
             ],
             [
              0.5555555555555556,
              "#d8576b"
             ],
             [
              0.6666666666666666,
              "#ed7953"
             ],
             [
              0.7777777777777778,
              "#fb9f3a"
             ],
             [
              0.8888888888888888,
              "#fdca26"
             ],
             [
              1,
              "#f0f921"
             ]
            ],
            "type": "histogram2d"
           }
          ],
          "histogram2dcontour": [
           {
            "colorbar": {
             "outlinewidth": 0,
             "ticks": ""
            },
            "colorscale": [
             [
              0,
              "#0d0887"
             ],
             [
              0.1111111111111111,
              "#46039f"
             ],
             [
              0.2222222222222222,
              "#7201a8"
             ],
             [
              0.3333333333333333,
              "#9c179e"
             ],
             [
              0.4444444444444444,
              "#bd3786"
             ],
             [
              0.5555555555555556,
              "#d8576b"
             ],
             [
              0.6666666666666666,
              "#ed7953"
             ],
             [
              0.7777777777777778,
              "#fb9f3a"
             ],
             [
              0.8888888888888888,
              "#fdca26"
             ],
             [
              1,
              "#f0f921"
             ]
            ],
            "type": "histogram2dcontour"
           }
          ],
          "mesh3d": [
           {
            "colorbar": {
             "outlinewidth": 0,
             "ticks": ""
            },
            "type": "mesh3d"
           }
          ],
          "parcoords": [
           {
            "line": {
             "colorbar": {
              "outlinewidth": 0,
              "ticks": ""
             }
            },
            "type": "parcoords"
           }
          ],
          "pie": [
           {
            "automargin": true,
            "type": "pie"
           }
          ],
          "scatter": [
           {
            "fillpattern": {
             "fillmode": "overlay",
             "size": 10,
             "solidity": 0.2
            },
            "type": "scatter"
           }
          ],
          "scatter3d": [
           {
            "line": {
             "colorbar": {
              "outlinewidth": 0,
              "ticks": ""
             }
            },
            "marker": {
             "colorbar": {
              "outlinewidth": 0,
              "ticks": ""
             }
            },
            "type": "scatter3d"
           }
          ],
          "scattercarpet": [
           {
            "marker": {
             "colorbar": {
              "outlinewidth": 0,
              "ticks": ""
             }
            },
            "type": "scattercarpet"
           }
          ],
          "scattergeo": [
           {
            "marker": {
             "colorbar": {
              "outlinewidth": 0,
              "ticks": ""
             }
            },
            "type": "scattergeo"
           }
          ],
          "scattergl": [
           {
            "marker": {
             "colorbar": {
              "outlinewidth": 0,
              "ticks": ""
             }
            },
            "type": "scattergl"
           }
          ],
          "scattermapbox": [
           {
            "marker": {
             "colorbar": {
              "outlinewidth": 0,
              "ticks": ""
             }
            },
            "type": "scattermapbox"
           }
          ],
          "scatterpolar": [
           {
            "marker": {
             "colorbar": {
              "outlinewidth": 0,
              "ticks": ""
             }
            },
            "type": "scatterpolar"
           }
          ],
          "scatterpolargl": [
           {
            "marker": {
             "colorbar": {
              "outlinewidth": 0,
              "ticks": ""
             }
            },
            "type": "scatterpolargl"
           }
          ],
          "scatterternary": [
           {
            "marker": {
             "colorbar": {
              "outlinewidth": 0,
              "ticks": ""
             }
            },
            "type": "scatterternary"
           }
          ],
          "surface": [
           {
            "colorbar": {
             "outlinewidth": 0,
             "ticks": ""
            },
            "colorscale": [
             [
              0,
              "#0d0887"
             ],
             [
              0.1111111111111111,
              "#46039f"
             ],
             [
              0.2222222222222222,
              "#7201a8"
             ],
             [
              0.3333333333333333,
              "#9c179e"
             ],
             [
              0.4444444444444444,
              "#bd3786"
             ],
             [
              0.5555555555555556,
              "#d8576b"
             ],
             [
              0.6666666666666666,
              "#ed7953"
             ],
             [
              0.7777777777777778,
              "#fb9f3a"
             ],
             [
              0.8888888888888888,
              "#fdca26"
             ],
             [
              1,
              "#f0f921"
             ]
            ],
            "type": "surface"
           }
          ],
          "table": [
           {
            "cells": {
             "fill": {
              "color": "#EBF0F8"
             },
             "line": {
              "color": "white"
             }
            },
            "header": {
             "fill": {
              "color": "#C8D4E3"
             },
             "line": {
              "color": "white"
             }
            },
            "type": "table"
           }
          ]
         },
         "layout": {
          "annotationdefaults": {
           "arrowcolor": "#2a3f5f",
           "arrowhead": 0,
           "arrowwidth": 1
          },
          "autotypenumbers": "strict",
          "coloraxis": {
           "colorbar": {
            "outlinewidth": 0,
            "ticks": ""
           }
          },
          "colorscale": {
           "diverging": [
            [
             0,
             "#8e0152"
            ],
            [
             0.1,
             "#c51b7d"
            ],
            [
             0.2,
             "#de77ae"
            ],
            [
             0.3,
             "#f1b6da"
            ],
            [
             0.4,
             "#fde0ef"
            ],
            [
             0.5,
             "#f7f7f7"
            ],
            [
             0.6,
             "#e6f5d0"
            ],
            [
             0.7,
             "#b8e186"
            ],
            [
             0.8,
             "#7fbc41"
            ],
            [
             0.9,
             "#4d9221"
            ],
            [
             1,
             "#276419"
            ]
           ],
           "sequential": [
            [
             0,
             "#0d0887"
            ],
            [
             0.1111111111111111,
             "#46039f"
            ],
            [
             0.2222222222222222,
             "#7201a8"
            ],
            [
             0.3333333333333333,
             "#9c179e"
            ],
            [
             0.4444444444444444,
             "#bd3786"
            ],
            [
             0.5555555555555556,
             "#d8576b"
            ],
            [
             0.6666666666666666,
             "#ed7953"
            ],
            [
             0.7777777777777778,
             "#fb9f3a"
            ],
            [
             0.8888888888888888,
             "#fdca26"
            ],
            [
             1,
             "#f0f921"
            ]
           ],
           "sequentialminus": [
            [
             0,
             "#0d0887"
            ],
            [
             0.1111111111111111,
             "#46039f"
            ],
            [
             0.2222222222222222,
             "#7201a8"
            ],
            [
             0.3333333333333333,
             "#9c179e"
            ],
            [
             0.4444444444444444,
             "#bd3786"
            ],
            [
             0.5555555555555556,
             "#d8576b"
            ],
            [
             0.6666666666666666,
             "#ed7953"
            ],
            [
             0.7777777777777778,
             "#fb9f3a"
            ],
            [
             0.8888888888888888,
             "#fdca26"
            ],
            [
             1,
             "#f0f921"
            ]
           ]
          },
          "colorway": [
           "#636efa",
           "#EF553B",
           "#00cc96",
           "#ab63fa",
           "#FFA15A",
           "#19d3f3",
           "#FF6692",
           "#B6E880",
           "#FF97FF",
           "#FECB52"
          ],
          "font": {
           "color": "#2a3f5f"
          },
          "geo": {
           "bgcolor": "white",
           "lakecolor": "white",
           "landcolor": "#E5ECF6",
           "showlakes": true,
           "showland": true,
           "subunitcolor": "white"
          },
          "hoverlabel": {
           "align": "left"
          },
          "hovermode": "closest",
          "mapbox": {
           "style": "light"
          },
          "paper_bgcolor": "white",
          "plot_bgcolor": "#E5ECF6",
          "polar": {
           "angularaxis": {
            "gridcolor": "white",
            "linecolor": "white",
            "ticks": ""
           },
           "bgcolor": "#E5ECF6",
           "radialaxis": {
            "gridcolor": "white",
            "linecolor": "white",
            "ticks": ""
           }
          },
          "scene": {
           "xaxis": {
            "backgroundcolor": "#E5ECF6",
            "gridcolor": "white",
            "gridwidth": 2,
            "linecolor": "white",
            "showbackground": true,
            "ticks": "",
            "zerolinecolor": "white"
           },
           "yaxis": {
            "backgroundcolor": "#E5ECF6",
            "gridcolor": "white",
            "gridwidth": 2,
            "linecolor": "white",
            "showbackground": true,
            "ticks": "",
            "zerolinecolor": "white"
           },
           "zaxis": {
            "backgroundcolor": "#E5ECF6",
            "gridcolor": "white",
            "gridwidth": 2,
            "linecolor": "white",
            "showbackground": true,
            "ticks": "",
            "zerolinecolor": "white"
           }
          },
          "shapedefaults": {
           "line": {
            "color": "#2a3f5f"
           }
          },
          "ternary": {
           "aaxis": {
            "gridcolor": "white",
            "linecolor": "white",
            "ticks": ""
           },
           "baxis": {
            "gridcolor": "white",
            "linecolor": "white",
            "ticks": ""
           },
           "bgcolor": "#E5ECF6",
           "caxis": {
            "gridcolor": "white",
            "linecolor": "white",
            "ticks": ""
           }
          },
          "title": {
           "x": 0.05
          },
          "xaxis": {
           "automargin": true,
           "gridcolor": "white",
           "linecolor": "white",
           "ticks": "",
           "title": {
            "standoff": 15
           },
           "zerolinecolor": "white",
           "zerolinewidth": 2
          },
          "yaxis": {
           "automargin": true,
           "gridcolor": "white",
           "linecolor": "white",
           "ticks": "",
           "title": {
            "standoff": 15
           },
           "zerolinecolor": "white",
           "zerolinewidth": 2
          }
         }
        },
        "title": {
         "text": "Parallel Coordinate Plot"
        }
       }
      }
     },
     "metadata": {},
     "output_type": "display_data"
    }
   ],
   "source": [
    "optuna.visualization.plot_parallel_coordinate(study).show()"
   ]
  },
  {
   "cell_type": "markdown",
   "id": "1db5b226",
   "metadata": {},
   "source": [
    "**Insights:**\n",
    "\n",
    "* Best Hyperparameter Region:\n",
    "\n",
    "   * `learning_rate`: ~0.2–0.5\n",
    "   * `max_depth`: ~7–10\n",
    "   * `n_estimators`: ~300–450\n",
    "\n",
    "* Trade-offs:\n",
    "\n",
    "   * Increasing `n_estimators` improves performance but increases computation time.\n",
    "   * Lower `learning_rate` values require more estimators to achieve good performance.\n",
    "\n",
    "* Next Steps:\n",
    "\n",
    "   * Focus on fine-tuning within the identified ranges for `learning_rate`, `max_depth`, and `n_estimators`.\n",
    "   * Use these insights to narrow the search space for further optimization."
   ]
  },
  {
   "cell_type": "markdown",
   "id": "6eba4cc6",
   "metadata": {},
   "source": []
  }
 ],
 "metadata": {
  "kernelspec": {
   "display_name": "base",
   "language": "python",
   "name": "python3"
  },
  "language_info": {
   "codemirror_mode": {
    "name": "ipython",
    "version": 3
   },
   "file_extension": ".py",
   "mimetype": "text/x-python",
   "name": "python",
   "nbconvert_exporter": "python",
   "pygments_lexer": "ipython3",
   "version": "3.12.4"
  }
 },
 "nbformat": 4,
 "nbformat_minor": 5
}
