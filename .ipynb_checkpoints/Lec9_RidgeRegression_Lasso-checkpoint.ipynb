{
 "cells": [
  {
   "cell_type": "raw",
   "id": "860a9aa2",
   "metadata": {},
   "source": [
    "---\n",
    "title: \"Ridge regression and Lasso\"\n",
    "format: \n",
    "  html:\n",
    "    code-fold: false\n",
    "    toc-depth: 4\n",
    "    jupyter: python3\n",
    "---"
   ]
  },
  {
   "cell_type": "markdown",
   "id": "bcc0802c",
   "metadata": {},
   "source": [
    "*Read section 6.2 of the book before using these notes.*\n",
    "\n",
    "*Note that in this course, lecture notes are not sufficient, you must read the book for better understanding. Lecture notes are just implementing the concepts of the book on a dataset, but not explaining the concepts elaborately.*"
   ]
  },
  {
   "cell_type": "code",
   "execution_count": 1,
   "id": "f6e2c78c",
   "metadata": {},
   "outputs": [],
   "source": [
    "import pandas as pd\n",
    "import numpy as np\n",
    "import seaborn as sns\n",
    "import matplotlib.pyplot as plt\n",
    "from sklearn.linear_model import Ridge, RidgeCV, Lasso, LassoCV\n",
    "from sklearn.preprocessing import StandardScaler \n",
    "from sklearn.metrics import r2_score"
   ]
  },
  {
   "cell_type": "code",
   "execution_count": 2,
   "id": "32903b17",
   "metadata": {},
   "outputs": [
    {
     "data": {
      "text/html": [
       "<div>\n",
       "<style scoped>\n",
       "    .dataframe tbody tr th:only-of-type {\n",
       "        vertical-align: middle;\n",
       "    }\n",
       "\n",
       "    .dataframe tbody tr th {\n",
       "        vertical-align: top;\n",
       "    }\n",
       "\n",
       "    .dataframe thead th {\n",
       "        text-align: right;\n",
       "    }\n",
       "</style>\n",
       "<table border=\"1\" class=\"dataframe\">\n",
       "  <thead>\n",
       "    <tr style=\"text-align: right;\">\n",
       "      <th></th>\n",
       "      <th>house_id</th>\n",
       "      <th>house_age</th>\n",
       "      <th>distance_MRT</th>\n",
       "      <th>number_convenience_stores</th>\n",
       "      <th>latitude</th>\n",
       "      <th>longitude</th>\n",
       "      <th>house_price</th>\n",
       "    </tr>\n",
       "  </thead>\n",
       "  <tbody>\n",
       "    <tr>\n",
       "      <th>0</th>\n",
       "      <td>210</td>\n",
       "      <td>5.2</td>\n",
       "      <td>390.5684</td>\n",
       "      <td>5</td>\n",
       "      <td>24.97937</td>\n",
       "      <td>121.54245</td>\n",
       "      <td>2724.84</td>\n",
       "    </tr>\n",
       "    <tr>\n",
       "      <th>1</th>\n",
       "      <td>190</td>\n",
       "      <td>35.3</td>\n",
       "      <td>616.5735</td>\n",
       "      <td>8</td>\n",
       "      <td>24.97945</td>\n",
       "      <td>121.53642</td>\n",
       "      <td>1789.29</td>\n",
       "    </tr>\n",
       "    <tr>\n",
       "      <th>2</th>\n",
       "      <td>328</td>\n",
       "      <td>15.9</td>\n",
       "      <td>1497.7130</td>\n",
       "      <td>3</td>\n",
       "      <td>24.97003</td>\n",
       "      <td>121.51696</td>\n",
       "      <td>556.96</td>\n",
       "    </tr>\n",
       "    <tr>\n",
       "      <th>3</th>\n",
       "      <td>5</td>\n",
       "      <td>7.1</td>\n",
       "      <td>2175.0300</td>\n",
       "      <td>3</td>\n",
       "      <td>24.96305</td>\n",
       "      <td>121.51254</td>\n",
       "      <td>1030.41</td>\n",
       "    </tr>\n",
       "    <tr>\n",
       "      <th>4</th>\n",
       "      <td>412</td>\n",
       "      <td>8.1</td>\n",
       "      <td>104.8101</td>\n",
       "      <td>5</td>\n",
       "      <td>24.96674</td>\n",
       "      <td>121.54067</td>\n",
       "      <td>2756.25</td>\n",
       "    </tr>\n",
       "  </tbody>\n",
       "</table>\n",
       "</div>"
      ],
      "text/plain": [
       "   house_id  house_age  distance_MRT  number_convenience_stores  latitude  \\\n",
       "0       210        5.2      390.5684                          5  24.97937   \n",
       "1       190       35.3      616.5735                          8  24.97945   \n",
       "2       328       15.9     1497.7130                          3  24.97003   \n",
       "3         5        7.1     2175.0300                          3  24.96305   \n",
       "4       412        8.1      104.8101                          5  24.96674   \n",
       "\n",
       "   longitude  house_price  \n",
       "0  121.54245      2724.84  \n",
       "1  121.53642      1789.29  \n",
       "2  121.51696       556.96  \n",
       "3  121.51254      1030.41  \n",
       "4  121.54067      2756.25  "
      ]
     },
     "execution_count": 2,
     "metadata": {},
     "output_type": "execute_result"
    }
   ],
   "source": [
    "trainf = pd.read_csv('./Datasets/house_feature_train.csv')\n",
    "trainp = pd.read_csv('./Datasets/house_price_train.csv')\n",
    "testf = pd.read_csv('./Datasets/house_feature_test.csv')\n",
    "testp = pd.read_csv('./Datasets/house_price_test.csv')\n",
    "train = pd.merge(trainf,trainp)\n",
    "test = pd.merge(testf,testp)\n",
    "train.head()"
   ]
  },
  {
   "cell_type": "markdown",
   "id": "fbed87ae",
   "metadata": {},
   "source": [
    "## Ridge regression\n",
    "Let us develop a ridge regression model to predict house price based on the five house features."
   ]
  },
  {
   "cell_type": "code",
   "execution_count": 3,
   "id": "1597f122",
   "metadata": {},
   "outputs": [],
   "source": [
    "#Taking the log transform of house_price as house prices have a right-skewed distribution\n",
    "y = np.log(train.house_price)"
   ]
  },
  {
   "cell_type": "markdown",
   "id": "dac00ddf",
   "metadata": {},
   "source": [
    "### Standardizing the predictors"
   ]
  },
  {
   "cell_type": "code",
   "execution_count": 4,
   "id": "fca5dcf9",
   "metadata": {},
   "outputs": [],
   "source": [
    "#Standardizing predictors so that each of them have zero mean and unit variance\n",
    "\n",
    "#Filtering all predictors\n",
    "X = train.iloc[:,1:6]; \n",
    "\n",
    "#Defining a scaler object\n",
    "scaler = StandardScaler()\n",
    "\n",
    "#The scaler object will contain the mean and variance of each column (predictor) of X. \n",
    "#These values will be useful to scale test data based on the same mean and variance as obtained on train data\n",
    "scaler.fit(X)\n",
    "\n",
    "#Using the scaler object (or the values of mean and variance stored in it) to standardize X (or train data)\n",
    "Xstd = scaler.transform(X)"
   ]
  },
  {
   "cell_type": "markdown",
   "id": "578ac921",
   "metadata": {},
   "source": [
    "### Optimizing the tuning parameter `λ`"
   ]
  },
  {
   "cell_type": "code",
   "execution_count": 5,
   "id": "1160b21c",
   "metadata": {},
   "outputs": [],
   "source": [
    "#The tuning parameter lambda is referred as alpha in sklearn\n",
    "\n",
    "#Creating a range of values of the tuning parameter to visualize the ridge regression coefficients\n",
    "#for different values of the tuning parameter\n",
    "alphas = 10**np.linspace(10,-2,200)*0.5"
   ]
  },
  {
   "cell_type": "code",
   "execution_count": 6,
   "id": "258a888c",
   "metadata": {},
   "outputs": [],
   "source": [
    "#Finding the ridge regression coefficients for increasing values of the tuning parameter\n",
    "coefs = []\n",
    "for a in alphas:        \n",
    "    ridge = Ridge(alpha = a)\n",
    "    ridge.fit(Xstd, y)\n",
    "    coefs.append(ridge.coef_)"
   ]
  },
  {
   "cell_type": "code",
   "execution_count": 7,
   "id": "b07c0c66",
   "metadata": {},
   "outputs": [
    {
     "data": {
      "image/png": "[encoded data removed]",
      "text/plain": [
       "<Figure size 432x288 with 1 Axes>"
      ]
     },
     "metadata": {
      "needs_background": "light"
     },
     "output_type": "display_data"
    }
   ],
   "source": [
    "#Visualizing the shrinkage in ridge regression coefficients with increasing values of the tuning parameter lambda\n",
    "plt.xlabel('xlabel', fontsize=18)\n",
    "plt.ylabel('ylabel', fontsize=18)\n",
    "plt.plot(alphas, coefs)\n",
    "plt.xscale('log')\n",
    "plt.xlabel('$\\lambda$')\n",
    "plt.ylabel('Standardized coefficient')\n",
    "plt.legend(train.columns[1:6]);"
   ]
  },
  {
   "cell_type": "code",
   "execution_count": 13,
   "id": "81d62cdd",
   "metadata": {},
   "outputs": [
    {
     "data": {
      "text/plain": [
       "3.87629874431473"
      ]
     },
     "execution_count": 13,
     "metadata": {},
     "output_type": "execute_result"
    }
   ],
   "source": [
    "#Let us use cross validation to find the optimal value of the tuning parameter - lambda\n",
    "#For the optimal lambda, the cross validation error will be the least\n",
    "\n",
    "#Note that we are reducing the range of alpha so as to better visualize the minimum\n",
    "alphas = 10**np.linspace(1.5,-3,200)*0.5\n",
    "ridgecv = RidgeCV(alphas = alphas,store_cv_values=True)\n",
    "ridgecv.fit(Xstd, y)\n",
    "\n",
    "#Optimal value of the tuning parameter - lambda\n",
    "ridgecv.alpha_"
   ]
  },
  {
   "cell_type": "code",
   "execution_count": 14,
   "id": "8839eaf2",
   "metadata": {},
   "outputs": [
    {
     "data": {
      "text/plain": [
       "Text(0, 0.5, 'Cross-validation error')"
      ]
     },
     "execution_count": 14,
     "metadata": {},
     "output_type": "execute_result"
    },
    {
     "data": {
      "image/png": "[encoded data removed]",
      "text/plain": [
       "<Figure size 432x288 with 1 Axes>"
      ]
     },
     "metadata": {
      "needs_background": "light"
     },
     "output_type": "display_data"
    }
   ],
   "source": [
    "#Visualizing the LOOCV (leave one out cross validatation error vs lambda)\n",
    "plt.xlabel('xlabel', fontsize=18)\n",
    "plt.ylabel('ylabel', fontsize=18)\n",
    "plt.plot(ridgecv.alphas,ridgecv.cv_values_.sum(axis=0))\n",
    "plt.plot([ridgecv.alpha_,ridgecv.alpha_],[40,40.2],':')\n",
    "plt.xlabel('$\\lambda$')\n",
    "plt.ylabel('Cross-validation error')"
   ]
  },
  {
   "cell_type": "markdown",
   "id": "23a3e499",
   "metadata": {},
   "source": [
    "Note that the cross validation error is minimum at the optimal value of the tuning parameter."
   ]
  },
  {
   "cell_type": "code",
   "execution_count": 127,
   "id": "9ca0800f",
   "metadata": {},
   "outputs": [
    {
     "data": {
      "image/png": "[encoded data removed]",
      "text/plain": [
       "<Figure size 432x288 with 1 Axes>"
      ]
     },
     "metadata": {
      "needs_background": "light"
     },
     "output_type": "display_data"
    }
   ],
   "source": [
    "#Visualizing the shrinkage in ridge regression coefficients with increasing values of the tuning parameter lambda\n",
    "alphas = 10**np.linspace(10,-2,200)*0.5\n",
    "plt.xlabel('xlabel', fontsize=18)\n",
    "plt.ylabel('ylabel', fontsize=18)\n",
    "plt.plot(alphas, coefs)\n",
    "plt.plot([ridgecv.alpha_,ridgecv.alpha_],[-0.4,0.2],':')\n",
    "plt.xscale('log')\n",
    "plt.xlabel('$\\lambda$')\n",
    "plt.ylabel('Standardized coefficient')\n",
    "plt.legend(train.columns[1:6]);"
   ]
  },
  {
   "cell_type": "markdown",
   "id": "7574bdc9",
   "metadata": {},
   "source": [
    "### RMSE on test data"
   ]
  },
  {
   "cell_type": "code",
   "execution_count": 15,
   "id": "879ba225",
   "metadata": {},
   "outputs": [],
   "source": [
    "#Test dataset\n",
    "Xtest = test.iloc[:,1:6]\n",
    "\n",
    "#Standardizing test data\n",
    "Xtest_std = scaler.transform(Xtest)"
   ]
  },
  {
   "cell_type": "code",
   "execution_count": 162,
   "id": "bf05cc91",
   "metadata": {},
   "outputs": [],
   "source": [
    "#Using the developed ridge regression model to predict on test data\n",
    "ridge = Ridge(alpha = ridgecv.alpha_)\n",
    "ridge.fit(Xstd, y)\n",
    "pred=ridge.predict(Xtest_std)"
   ]
  },
  {
   "cell_type": "code",
   "execution_count": 163,
   "id": "f7ec09ae",
   "metadata": {},
   "outputs": [
    {
     "data": {
      "text/plain": [
       "405.6227485138042"
      ]
     },
     "execution_count": 163,
     "metadata": {},
     "output_type": "execute_result"
    }
   ],
   "source": [
    "#RMSE on test data\n",
    "np.sqrt(((np.exp(pred)-test.house_price)**2).mean())"
   ]
  },
  {
   "cell_type": "markdown",
   "id": "1f528c9c",
   "metadata": {},
   "source": [
    "Note that the RMSE is similar to the one obtained using least squares regression on all the five predictors. This is because the coefficients were required to shrink very slightly for the best ridge regression fit. This may happen when we have a low number of predictors, where most of them are significant. Ridge regression is likely to perform better than least squares in case of a large number of predictors, where an OLS model will be prone to overfitting."
   ]
  },
  {
   "cell_type": "markdown",
   "id": "8baad7b1",
   "metadata": {},
   "source": [
    "### Model coefficients & $R$-squared"
   ]
  },
  {
   "cell_type": "code",
   "execution_count": 165,
   "id": "69c11a71",
   "metadata": {},
   "outputs": [
    {
     "data": {
      "text/plain": [
       "array([-0.1444778 , -0.36856553,  0.17986479,  0.22566444,  0.01413125])"
      ]
     },
     "execution_count": 165,
     "metadata": {},
     "output_type": "execute_result"
    }
   ],
   "source": [
    "#Checking the coefficients of the ridge regression model\n",
    "ridge.coef_"
   ]
  },
  {
   "cell_type": "markdown",
   "id": "6744cb0a",
   "metadata": {},
   "source": [
    "Note that none of the coefficients are shrunk to zero. The coefficient of `longitude` is smaller than the rest, but not zero."
   ]
  },
  {
   "cell_type": "code",
   "execution_count": 168,
   "id": "a06018a5",
   "metadata": {},
   "outputs": [
    {
     "data": {
      "text/plain": [
       "0.6994484432136066"
      ]
     },
     "execution_count": 168,
     "metadata": {},
     "output_type": "execute_result"
    }
   ],
   "source": [
    "#R-squared on train data for the ridge regression model\n",
    "r2_score(ridge.predict(Xstd),y)"
   ]
  },
  {
   "cell_type": "code",
   "execution_count": 169,
   "id": "c3733053",
   "metadata": {},
   "outputs": [
    {
     "data": {
      "text/plain": [
       "0.7573027646359806"
      ]
     },
     "execution_count": 169,
     "metadata": {},
     "output_type": "execute_result"
    }
   ],
   "source": [
    "#R-squared on test data for the ridge regression model\n",
    "r2_score(pred,np.log(test.house_price))"
   ]
  },
  {
   "cell_type": "markdown",
   "id": "0b3d6e7f",
   "metadata": {},
   "source": [
    "## Lasso\n",
    "Let us develop a lasso model to predict house price based on the five house features."
   ]
  },
  {
   "cell_type": "markdown",
   "id": "5d213909",
   "metadata": {},
   "source": [
    "### Standardizing the predictors"
   ]
  },
  {
   "cell_type": "markdown",
   "id": "3e07f4f5",
   "metadata": {},
   "source": [
    "We have already standardized the predictors in the previous section. The standardized predictors are the NumPy array object `Xstd`."
   ]
  },
  {
   "cell_type": "markdown",
   "id": "5eb0fbd3",
   "metadata": {},
   "source": [
    "### Optimizing the tuning parameter `λ`"
   ]
  },
  {
   "cell_type": "code",
   "execution_count": 6,
   "id": "5285292f",
   "metadata": {},
   "outputs": [],
   "source": [
    "#Creating a range of values of the tuning parameter to visualize the lasso coefficients\n",
    "#for different values of the tuning parameter\n",
    "alphas = 10**np.linspace(10,-2,100)*0.1"
   ]
  },
  {
   "cell_type": "code",
   "execution_count": 7,
   "id": "f961d1af",
   "metadata": {},
   "outputs": [],
   "source": [
    "#Finding the lasso coefficients for increasing values of the tuning parameter\n",
    "lasso = Lasso(max_iter = 10000)\n",
    "coefs = []\n",
    "\n",
    "for a in alphas:\n",
    "    lasso.set_params(alpha=a)\n",
    "    lasso.fit(Xstd, y)\n",
    "    coefs.append(lasso.coef_)"
   ]
  },
  {
   "cell_type": "code",
   "execution_count": 8,
   "id": "d9732305",
   "metadata": {},
   "outputs": [
    {
     "data": {
      "image/png": "[encoded data removed]",
      "text/plain": [
       "<Figure size 432x288 with 1 Axes>"
      ]
     },
     "metadata": {
      "needs_background": "light"
     },
     "output_type": "display_data"
    }
   ],
   "source": [
    "#Visualizing the shrinkage in lasso coefficients with increasing values of the tuning parameter lambda\n",
    "plt.xlabel('xlabel', fontsize=18)\n",
    "plt.ylabel('ylabel', fontsize=18)\n",
    "plt.plot(alphas, coefs)\n",
    "plt.xscale('log')\n",
    "plt.xlabel('$\\lambda$')\n",
    "plt.ylabel('Standardized coefficient')\n",
    "plt.legend(train.columns[1:6]);"
   ]
  },
  {
   "cell_type": "markdown",
   "id": "55321381",
   "metadata": {},
   "source": [
    "Note that lasso performs variable selection. For certain values of lambda, some of the predictor coefficients are zero, while others are non-zero. This is different than ridge regression, which only shrinks the coefficients, but doesn't do variable selection."
   ]
  },
  {
   "cell_type": "code",
   "execution_count": 9,
   "id": "79ecfe2f",
   "metadata": {},
   "outputs": [
    {
     "data": {
      "text/plain": [
       "0.009020932046960358"
      ]
     },
     "execution_count": 9,
     "metadata": {},
     "output_type": "execute_result"
    }
   ],
   "source": [
    "#Let us use cross validation to find the optimal value of the tuning parameter - lambda\n",
    "#For the optimal lambda, the cross validation error will be the least\n",
    "\n",
    "#Note that we are reducing the range of alpha so as to better visualize the minimum\n",
    "alphas = 10**np.linspace(-1,-5,200)*0.5\n",
    "lassocv = LassoCV(alphas = alphas, cv = 10, max_iter = 100000)\n",
    "lassocv.fit(Xstd, y)\n",
    "\n",
    "#Optimal value of the tuning parameter - lamda\n",
    "lassocv.alpha_"
   ]
  },
  {
   "cell_type": "code",
   "execution_count": 10,
   "id": "1f477d9f",
   "metadata": {},
   "outputs": [
    {
     "data": {
      "text/plain": [
       "Text(0, 0.5, 'Cross-validation error')"
      ]
     },
     "execution_count": 10,
     "metadata": {},
     "output_type": "execute_result"
    },
    {
     "data": {
      "image/png": "[encoded data removed]",
      "text/plain": [
       "<Figure size 432x288 with 1 Axes>"
      ]
     },
     "metadata": {
      "needs_background": "light"
     },
     "output_type": "display_data"
    }
   ],
   "source": [
    "#Visualizing the LOOCV (leave one out cross validatation error vs lambda)\n",
    "plt.xlabel('xlabel', fontsize=18)\n",
    "plt.ylabel('ylabel', fontsize=18)\n",
    "plt.plot(lassocv.alphas_,lassocv.mse_path_.mean(axis=1))\n",
    "plt.plot([lassocv.alpha_,lassocv.alpha_],[0.145,0.151],':')\n",
    "plt.xlabel('$\\lambda$')\n",
    "plt.ylabel('Cross-validation error')"
   ]
  },
  {
   "cell_type": "markdown",
   "id": "9f98176b",
   "metadata": {},
   "source": [
    "The 10-fold cross validation error minimizes at lambda = 0.009."
   ]
  },
  {
   "cell_type": "code",
   "execution_count": 12,
   "id": "ae7c0e33",
   "metadata": {},
   "outputs": [
    {
     "data": {
      "image/png": "[encoded data removed]",
      "text/plain": [
       "<Figure size 432x288 with 1 Axes>"
      ]
     },
     "metadata": {
      "needs_background": "light"
     },
     "output_type": "display_data"
    }
   ],
   "source": [
    "#Visualizing the shrinkage in lasso coefficients with increasing values of the tuning parameter lambda\n",
    "alphas = 10**np.linspace(10,-2,100)*0.1\n",
    "plt.xlabel('xlabel', fontsize=18)\n",
    "plt.ylabel('ylabel', fontsize=18)\n",
    "plt.plot(alphas, coefs)\n",
    "plt.xscale('log')\n",
    "plt.xlabel('$\\lambda$')\n",
    "plt.ylabel('Standardized coefficient')\n",
    "plt.legend(train.columns[1:6]);"
   ]
  },
  {
   "cell_type": "markdown",
   "id": "42a47b51",
   "metadata": {},
   "source": [
    "### RMSE on test data"
   ]
  },
  {
   "cell_type": "code",
   "execution_count": 16,
   "id": "bbdcd03b",
   "metadata": {},
   "outputs": [],
   "source": [
    "#Using the developed lasso model to predict on test data\n",
    "lasso = Lasso(alpha = lassocv.alpha_)\n",
    "lasso.fit(Xstd, y)\n",
    "pred=lasso.predict(Xtest_std)"
   ]
  },
  {
   "cell_type": "code",
   "execution_count": 17,
   "id": "aeb46364",
   "metadata": {},
   "outputs": [
    {
     "data": {
      "text/plain": [
       "400.77289943396534"
      ]
     },
     "execution_count": 17,
     "metadata": {},
     "output_type": "execute_result"
    }
   ],
   "source": [
    "#RMSE on test data\n",
    "np.sqrt(((np.exp(pred)-test.house_price)**2).mean())"
   ]
  },
  {
   "cell_type": "markdown",
   "id": "a1c5e366",
   "metadata": {},
   "source": [
    "### Model coefficients & $R$-squared"
   ]
  },
  {
   "cell_type": "code",
   "execution_count": 18,
   "id": "9e280614",
   "metadata": {},
   "outputs": [
    {
     "data": {
      "text/plain": [
       "array([-0.13720237, -0.38405197,  0.17252859,  0.21949239,  0.        ])"
      ]
     },
     "execution_count": 18,
     "metadata": {},
     "output_type": "execute_result"
    }
   ],
   "source": [
    "#Checking the coefficients of the lasso model\n",
    "lasso.coef_"
   ]
  },
  {
   "cell_type": "markdown",
   "id": "119fd8f0",
   "metadata": {},
   "source": [
    "Note that the coefficient of `longitude` is shrunk to zero. Lasso performs variable selection."
   ]
  },
  {
   "cell_type": "code",
   "execution_count": 19,
   "id": "b7e0143b",
   "metadata": {},
   "outputs": [
    {
     "data": {
      "text/plain": [
       "0.692606850601813"
      ]
     },
     "execution_count": 19,
     "metadata": {},
     "output_type": "execute_result"
    }
   ],
   "source": [
    "#R-squared on train data for the lasso model\n",
    "r2_score(lasso.predict(Xstd),y)"
   ]
  },
  {
   "cell_type": "code",
   "execution_count": 20,
   "id": "979570d1",
   "metadata": {},
   "outputs": [
    {
     "data": {
      "text/plain": [
       "0.7524177148260849"
      ]
     },
     "execution_count": 20,
     "metadata": {},
     "output_type": "execute_result"
    }
   ],
   "source": [
    "#R-squared on test data for the lasso model\n",
    "r2_score(pred,np.log(test.house_price))"
   ]
  }
 ],
 "metadata": {
  "kernelspec": {
   "display_name": "Python 3",
   "language": "python",
   "name": "python3"
  },
  "language_info": {
   "codemirror_mode": {
    "name": "ipython",
    "version": 3
   },
   "file_extension": ".py",
   "mimetype": "text/x-python",
   "name": "python",
   "nbconvert_exporter": "python",
   "pygments_lexer": "ipython3",
   "version": "3.8.8"
  }
 },
 "nbformat": 4,
 "nbformat_minor": 5
}
