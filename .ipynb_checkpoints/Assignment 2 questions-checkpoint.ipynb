{
 "cells": [
  {
   "cell_type": "raw",
   "id": "c7e736f1",
   "metadata": {},
   "source": [
    "---\n",
    "title: \"Assignment 2\"\n",
    "format: \n",
    "  html:\n",
    "    toc: true\n",
    "    toc-title: Contents\n",
    "    toc-depth: 4\n",
    "    code-fold: show\n",
    "    self-contained: true\n",
    "    html-math-method: mathml \n",
    "    number-sections: false\n",
    "jupyter: python3\n",
    "---"
   ]
  },
  {
   "cell_type": "markdown",
   "id": "dbb9490a",
   "metadata": {},
   "source": [
    "## Instructions {-}\n",
    "\n",
    "1. You may talk to a friend, discuss the questions and potential directions for solving them. However, you need to write your own solutions and code separately, and not as a group activity. \n",
    "\n",
    "2. Write your code in the **Code cells** and your answers in the **Markdown cells** of the Jupyter notebook. Ensure that the solution is written neatly enough to for the graders to understand and follow.\n",
    "\n",
    "3. Use [Quarto](https://quarto.org/docs/output-formats/html-basics.html) to render the **.ipynb** file as HTML. You will need to open the command prompt, navigate to the directory containing the file, and use the command: `quarto render filename.ipynb --to html`. Submit the HTML file.\n",
    "\n",
    "4. The assignment is worth 100 points, and is due on **Monday, 22nd April 2024 at 11:59 pm**. \n",
    "\n",
    "5. **Five points are properly formatting the assignment**. The breakdown is as follows:\n",
    "    - Must be an HTML file rendered using Quarto **(2 points)**. *If you have a Quarto issue, you must mention the issue & quote the error you get when rendering using Quarto in the comments section of Canvas, and submit the ipynb file.* \n",
    "    - There aren’t excessively long outputs of extraneous information (e.g. no printouts of entire data frames without good reason, there aren’t long printouts of which iteration a loop is on, there aren’t long sections of commented-out code, etc.) **(1 point)**\n",
    "    - Final answers to each question are written in the Markdown cells. **(1 point)**\n",
    "    - There is no piece of unnecessary / redundant code, and no unnecessary / redundant text. **(1 point)**"
   ]
  },
  {
   "cell_type": "markdown",
   "id": "5605f510",
   "metadata": {},
   "source": [
    "## 1) Tuning a KNN Classifier with Sklearn Tools (45 points)"
   ]
  },
  {
   "cell_type": "markdown",
   "id": "f8239aaf",
   "metadata": {},
   "source": [
    "In this question, you will use **classification_data.csv**. Each row is a loan and the each column represents some financial information as follows:\n",
    "\n",
    "- `hi_int_prncp_pd`: Indicates if a high percentage of the repayments went to interest rather than principal. **This is the classification response.**\n",
    "\n",
    "- `out_prncp_inv`: Remaining outstanding principal for portion of total amount funded by investors\n",
    "\n",
    "- `loan_amnt`: The listed amount of the loan applied for by the borrower. If at some point in time, the credit department reduces the loan amount, then it will be reflected in this value.\n",
    "\n",
    "- `int_rate`: Interest Rate on the loan\n",
    "\n",
    "- `term`: The number of payments on the loan. Values are in months and can be either 36 or 60.\n",
    "\n",
    "- `mort_acc`: The number of mortgage accounts\n",
    "\n",
    "- `application_type_Individual`: 1 if the loan is an individual application or a joint application with two co-borrowers\n",
    "\n",
    "- `tot_cur_bal`: Total current balance of all accounts\n",
    "\n",
    "- `pub_rec`: Number of derogatory public records\n",
    "\n",
    "As indicated above, `hi_int_prncp_pd` is the response and all the remaining columns are predictors. You will tune and train a K-Nearest Neighbors (KNN) classifier throughout this question."
   ]
  },
  {
   "cell_type": "markdown",
   "id": "ca7f09d5",
   "metadata": {},
   "source": [
    "### 1a)\n",
    "\n",
    "Read the dataset. Create the predictor and the response variables.\n",
    "\n",
    "Create the training and the test data with the following specifications:\n",
    "- The split should be 75%-25%.\n",
    "- You need to ensure that the class ratio is preserved in the training and the test datasets. i.e. **the data is stratified.**\n",
    "- Use `random_state=45`.\n",
    "\n",
    "Print the class ratios of the entire dataset, the training set and the test set to check if the ratio is kept the same.\n",
    "\n",
    "*(1 point)*"
   ]
  },
  {
   "cell_type": "markdown",
   "id": "8f010475",
   "metadata": {},
   "source": [
    "### 1b)\n",
    "\n",
    "Scale the datasets. The data is ready for modeling at this point.\n",
    "\n",
    "Before creating and tuning a model, you need to create a sklearn cross-validation object to ensure the most accurate representation of the data among all the folds.\n",
    "\n",
    "Use the following specifications for your cross-validation settings:\n",
    "- Make sure the data is stratified in all the folds *(Use `StratifiedKFold()`)*.\n",
    "- Use 5 folds.\n",
    "- Shuffle the data for more randomness.\n",
    "- Use `random_state=14`.\n",
    "\n",
    "*(1 point)*\n",
    "\n",
    "**Note that you need to use these settings for the rest of this question (Q1) for consistency.**\n",
    "\n",
    "Cross-validate a KNN Classifier with the following specifications:\n",
    "- Use every odd K value between 1 and 50. (including 1)\n",
    "- Fix the weights at \"uniform\", which is default.\n",
    "- Use the cv object you created in part 1(c).\n",
    "- Use accuracy as metric.\n",
    "\n",
    "*(4 points)*\n",
    "\n",
    "Print the best average cross-validation accuracy and the K value that corresponds to it. *(2 points)*"
   ]
  },
  {
   "cell_type": "markdown",
   "id": "57138757",
   "metadata": {},
   "source": [
    "### 1c)\n",
    "\n",
    "Using the optimal K value you found in part 1(b), find the threshold that maximizes the cross-validation accuracy with the following specifications:\n",
    "\n",
    "- Use all the possible threshold values with a stepsize of 0.01.\n",
    "- Use the cross-validation settings you created in part f.\n",
    "- Use accuracy as metric, which is default.\n",
    "\n",
    "*(4 points)*\n",
    "\n",
    "Print the best cross-validation accuracy *(1 point)* and the threshold value that corresponds to it. *(1 points)*"
   ]
  },
  {
   "cell_type": "markdown",
   "id": "6750e84a",
   "metadata": {},
   "source": [
    "### 1d) \n",
    "\n",
    "Is the method we used in parts 1(b) and 1(c) guaranteed to find the best K & threshold combination, i.e. tune the classifier to its best values? *(1 point)* Why or why not? *(1 point)*"
   ]
  },
  {
   "cell_type": "markdown",
   "id": "c0b129db",
   "metadata": {},
   "source": [
    "### 1e)\n",
    "\n",
    "Use the tuned classifier and threshold to find the test accuracy. *(2 points)* .\n",
    "\n",
    "How does it compare to the cross-validation accuracy, i.e. is the model generalizing well? *(1 point)*"
   ]
  },
  {
   "cell_type": "markdown",
   "id": "f20462f7",
   "metadata": {},
   "source": [
    "### 1f)\n",
    "\n",
    "Now, you need to tune K and the threshold **at the same time**. Use the following specifications:\n",
    "- Use every odd K value between 1 and 50. (including 1)\n",
    "- Fix the weights at \"uniform\".\n",
    "- Use all the possible threshold values with a stepsize of 0.01.\n",
    "- Use accuracy as metric.\n",
    "\n",
    "*(6 points)*\n",
    "\n",
    "Print the best cross-validation accuracy, and the K and threshold values that correspond to it. *(1 point)*"
   ]
  },
  {
   "cell_type": "markdown",
   "id": "8994b0f3",
   "metadata": {},
   "source": [
    "### 1g)\n",
    "\n",
    "How does the best cross-validation accuracy in part 1(f) compare to parts 1(b) and 1(c)? *(1 point)* Did the K and threshold value change? *(1 point)* Explain why or why not. *(2 points)*"
   ]
  },
  {
   "cell_type": "markdown",
   "id": "9ddaab37",
   "metadata": {},
   "source": [
    "### 1h)\n",
    "\n",
    "Use the tuned classifier and threshold from part 1(f) to find the test accuracy. *(1 point)*"
   ]
  },
  {
   "cell_type": "markdown",
   "id": "c6979960",
   "metadata": {},
   "source": [
    "### 1i)\n",
    "\n",
    "Create a heatmap to visualize the cross-validation results *(from 1(f))* in two-dimensions. **The x-axis should be the K values and the y-axis should be the threshold values.**\n",
    "\n",
    "**Note:** This question is only one line of code - you need to remember a data visualization function and a data wrangling method from 303-1.\n",
    "\n",
    "*(3 points)*"
   ]
  },
  {
   "cell_type": "markdown",
   "id": "09c3f5a3",
   "metadata": {},
   "source": [
    "### 1j)\n",
    "\n",
    "Compare the methods you used in parts 1(b) & 1(c) with the method you used in part 1(f) in terms of computational power. How many K & threshold pairs did you try in both? *(2 points)* Combining your answer with the answer in part 1(i), explain the main trade-off while tuning a model. *(2 points)*"
   ]
  },
  {
   "cell_type": "markdown",
   "id": "30b370f1",
   "metadata": {},
   "source": [
    "### 1k)\n",
    "\n",
    "Cross-validate a KNN classifier with the following specifications:\n",
    "- Use every odd K value between 1 and 50. (including 1)\n",
    "- Fix the weights at \"uniform\"\n",
    "- Use accuracy, precision and recall as three metrics **at the same time.**\n",
    "\n",
    "Save all your results to a DataFrame and find the average cross-validation metrics.\n",
    "\n",
    "*(6 points)*"
   ]
  },
  {
   "cell_type": "markdown",
   "id": "0ee32f6c",
   "metadata": {},
   "source": [
    "### 1l)\n",
    "\n",
    "Find the K value that maximizes precision **while having a recall above 60%.** *(1 point)* Print the average cross-validation results of that K value. *(1 point)*"
   ]
  },
  {
   "cell_type": "markdown",
   "id": "a82924b9-f181-43a7-8243-d3202f1a1b3e",
   "metadata": {},
   "source": [
    "## 2) Tuning a KNN Regressor with Sklearn Tools (50 points)"
   ]
  },
  {
   "cell_type": "markdown",
   "id": "7bd00165-069a-4454-a508-372ff4496972",
   "metadata": {},
   "source": [
    "In this question, you will use **bank_loan_train_data.csv** to tune *(the model hyperparameters)* and train the model. Each row is a loan and the each column represents some financial information as follows:\n",
    "\n",
    "- `money_made_inv`: Indicates the amount of money made by the bank on the loan. **This is the regression response.**\n",
    "\n",
    "- `out_prncp_inv`: Remaining outstanding principal for portion of total amount funded by investors\n",
    "\n",
    "- `loan_amnt`: The listed amount of the loan applied for by the borrower. If at some point in time, the credit department reduces the loan amount, then it will be reflected in this value.\n",
    "\n",
    "- `int_rate`: Interest Rate on the loan\n",
    "\n",
    "- `term`: The number of payments on the loan. Values are in months and can be either 36 or 60\n",
    "\n",
    "- `mort_acc`: The number of mortgage accounts\n",
    "\n",
    "- `application_type_Individual`: 1 if the loan is an individual application or a joint application with two co-borrowers\n",
    "\n",
    "- `tot_cur_bal`: Total current balance of all accounts\n",
    "\n",
    "- `pub_rec`: Number of derogatory public records\n",
    "\n",
    "As indicated above, `money_made_inv` is the response and all the remaining columns are predictors. You will tune and train a K-Nearest Neighbors (KNN) regressor throughout this question."
   ]
  },
  {
   "cell_type": "markdown",
   "id": "19d786a2-c3cd-40f9-b402-3cb3a1ef74dd",
   "metadata": {},
   "source": [
    "### 2a)\n",
    "\n",
    "Find the optimal hyperparameter values and the corresponging optimal cross-validated RMSE. The hyperparameters that you must consider are \n",
    "\n",
    "1. Number of nearest neighbors, \n",
    "\n",
    "2. Weight of the neighbor, and \n",
    "\n",
    "3. the power `p` of the Minkowski distance. \n",
    "\n",
    "For the `weights` hyperparameter, in addition to `uniform` and `distance`, consider 3 custom weights as well. The custom weights to consider are weight inversely proportional to distance squared, weight inversely proportional to distance cube, and weight inversely proportional to distance raised to the power of 4. Mathematically, these weights can be written as:\n",
    "\n",
    "$weight \\propto 1$,\n",
    "\n",
    "$weight \\propto \\frac{1}{distance}$,\n",
    "\n",
    "$weight \\propto \\frac{1}{distance^2}$\n",
    "\n",
    "$weight \\propto \\frac{1}{distance^3}$\n",
    "\n",
    "$weight \\propto \\frac{1}{distance^4}$\n",
    "\n",
    "Show all the 3 search approaches - grid search, random search, and Bayes search. As this is a simple problem, all the 3 approaches should yield the same result.\n",
    "\n",
    "For Bayes search, show the implementation of real-time monitoring of cross-validation error.\n",
    "\n",
    "None of the cross-validation approaches should take more than a minute as this is a simlpe problem.\n",
    "\n",
    "**Hint:**\n",
    "\n",
    "Create three different user-defined functions. The functions should take **one input**, named **distance** and return `1/(1e-10+distance**n)`, where n is 2, 3, and 4, respectively. Note that the `1e-10` is to avoid computational overflow.\n",
    "\n",
    "Name your functions, `dist_power_n`, where n is 2, 3, and 4, respectively. You can use these function names as the weights input to a KNN model.\n",
    "\n",
    "*(15 points)*"
   ]
  },
  {
   "cell_type": "markdown",
   "id": "f6becc95",
   "metadata": {},
   "source": [
    "### 2b)\n",
    "Based on the optimal model in 2(a), find the RMSE on test data *(bank_loan_test_data.csv)*. It must be less than \\$1400.\n",
    "\n",
    "*Note*: You will achieve the test RMSE if you tuned the hyperparameters well in 2(a). If you did not, redo 2(a). You are not allowed to use test data for tuning the hyperparameter values.\n",
    "\n",
    "*(2 points)*"
   ]
  },
  {
   "cell_type": "markdown",
   "id": "043e5790",
   "metadata": {},
   "source": [
    "### 2c)\n",
    "KNN performance may deteriorate significantly if irrelevant predictors are included. We'll add variable selection as well in the cross-validation procedure along with tuning of the hyperparameters for those variables.\n",
    "\n",
    "Use a variable selection method to consider the best '*r*' predictors, optimize the hyperparameters specified in 2(a), and compute the cross-validation error for those '*r*' predictors. Note that '*r*' will vary from 1 to 7, thus you will need to do 7 cross-validations - one for each '*r*'.\n",
    "\n",
    "Report the optimal value of '*r*', the '*r*' predictors, the optimal hyperparameter values, and the optimal cross-validated RMSE. \n",
    "\n",
    "You are free to use any search method.\n",
    "\n",
    "**Hint:** You may use Lasso to consider the best '*r*' predictors as that is the only variable selection you have learned so far. \n",
    "\n",
    "*(15 points)*"
   ]
  },
  {
   "cell_type": "markdown",
   "id": "44e748c6",
   "metadata": {},
   "source": [
    "### 2d)\n",
    "Find the RMSE on test data based on the optimal model in 2(c). Your test RMSE must be less than \\$800.\n",
    "\n",
    "*Note*: You will achieve the test RMSE if you tuned the hyperparameters well in 2(c). If you did not, redo 2(c). You are not allowed to use test data for tuning the hyperparameter values.\n",
    "\n",
    "*(2 points)*"
   ]
  },
  {
   "cell_type": "markdown",
   "id": "a8c455b3",
   "metadata": {},
   "source": [
    "### 2e)\n",
    "How did you decide the range of hyperparameter values to consider in this question? Discuss for `p` and `n_neighbors`.\n",
    "\n",
    "*(4 points)*"
   ]
  },
  {
   "cell_type": "markdown",
   "id": "479a6da4",
   "metadata": {},
   "source": [
    "### 2f)\n",
    "Is it possible to futher improve the results if we also optimize the `metric` hyperparameter along with the hyperparameters specified in 2(a)? Why or why not?"
   ]
  },
  {
   "cell_type": "markdown",
   "id": "e05408ff",
   "metadata": {},
   "source": [
    "*(4 points)*"
   ]
  },
  {
   "cell_type": "markdown",
   "id": "306fe30c-b8a8-414f-9771-0fd02e8892cd",
   "metadata": {},
   "source": [
    "### 2g)\n",
    "\n",
    "What is the benefit of using the `RepeatedKFold()` function over the `KFold()` function of the `model_selection` module of the `sklearn` library? Explain in terms of bias-variance of test error. Did you observe any benefit of using `RepeatedKFold()` over `KFold()` in Q2? Why or why not? \n",
    "\n",
    "*(4 + 4 points)*"
   ]
  }
 ],
 "metadata": {
  "kernelspec": {
   "display_name": "Python 3 (ipykernel)",
   "language": "python",
   "name": "python3"
  },
  "language_info": {
   "codemirror_mode": {
    "name": "ipython",
    "version": 3
   },
   "file_extension": ".py",
   "mimetype": "text/x-python",
   "name": "python",
   "nbconvert_exporter": "python",
   "pygments_lexer": "ipython3",
   "version": "3.8.17"
  }
 },
 "nbformat": 4,
 "nbformat_minor": 5
}
