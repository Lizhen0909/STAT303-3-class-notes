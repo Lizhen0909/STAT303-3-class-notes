{
 "cells": [
  {
   "cell_type": "raw",
   "id": "a6e11667",
   "metadata": {
    "vscode": {
     "languageId": "raw"
    }
   },
   "source": [
    "---\n",
    "title: \"Random Forests\"\n",
    "format: \n",
    "  html:\n",
    "    code-fold: false\n",
    "    toc-depth: 4\n",
    "    jupyter: python3\n",
    "---"
   ]
  },
  {
   "cell_type": "markdown",
   "id": "29f0e336",
   "metadata": {},
   "source": [
    "*Read section 8.2.2 of the book before using these notes.*\n",
    "\n",
    "*Note that in this course, lecture notes are not sufficient, you must read the book for better understanding. Lecture notes are just implementing the concepts of the book on a dataset, but not explaining the concepts elaborately.*"
   ]
  },
  {
   "cell_type": "code",
   "execution_count": 38,
   "id": "6b0ef3c3",
   "metadata": {},
   "outputs": [],
   "source": [
    "# Importing necessary libraries\n",
    "import pandas as pd\n",
    "import numpy as np\n",
    "import matplotlib.pyplot as plt\n",
    "import seaborn as sns\n",
    "sns.set(font_scale=1.35)\n",
    "\n",
    "# import the decision tree regressor\n",
    "from sklearn.tree import DecisionTreeRegressor, DecisionTreeClassifier, plot_tree, export_graphviz\n",
    "from sklearn.ensemble import BaggingRegressor,BaggingClassifier\n",
    "\n",
    "# split the dataset into training and testing sets\n",
    "from sklearn.model_selection import train_test_split\n",
    "\n",
    "\n",
    "from sklearn.model_selection import cross_val_score, GridSearchCV, cross_val_predict, KFold\n",
    "\n",
    "from sklearn.pipeline import Pipeline\n",
    "from sklearn.compose import ColumnTransformer\n",
    "from sklearn.preprocessing import OneHotEncoder, FunctionTransformer\n",
    "from sklearn.metrics import root_mean_squared_error, r2_score, make_scorer, accuracy_score"
   ]
  },
  {
   "cell_type": "markdown",
   "id": "300b4c07",
   "metadata": {},
   "source": [
    "## Motivation: Bagging Revisited\n",
    "\n",
    "In Bagging (Bootstrap Aggregating), we:\n",
    "\n",
    "* Train many trees on different bootstrap samples of the training data.\n",
    "\n",
    "* Aggregate their predictions by averaging (regression) or voting (classification).\n",
    "\n",
    ">✅ Bagging helps reduce variance <br>\n",
    ">⚠️ But if the trees are too similar (i.e., highly correlated), averaging won't help as much.\n"
   ]
  },
  {
   "cell_type": "code",
   "execution_count": 39,
   "id": "ce58777f",
   "metadata": {},
   "outputs": [
    {
     "data": {
      "text/html": [
       "<div>\n",
       "<style scoped>\n",
       "    .dataframe tbody tr th:only-of-type {\n",
       "        vertical-align: middle;\n",
       "    }\n",
       "\n",
       "    .dataframe tbody tr th {\n",
       "        vertical-align: top;\n",
       "    }\n",
       "\n",
       "    .dataframe thead th {\n",
       "        text-align: right;\n",
       "    }\n",
       "</style>\n",
       "<table border=\"1\" class=\"dataframe\">\n",
       "  <thead>\n",
       "    <tr style=\"text-align: right;\">\n",
       "      <th></th>\n",
       "      <th>brand</th>\n",
       "      <th>model</th>\n",
       "      <th>year</th>\n",
       "      <th>transmission</th>\n",
       "      <th>mileage</th>\n",
       "      <th>fuelType</th>\n",
       "      <th>tax</th>\n",
       "      <th>mpg</th>\n",
       "      <th>engineSize</th>\n",
       "      <th>price</th>\n",
       "    </tr>\n",
       "  </thead>\n",
       "  <tbody>\n",
       "    <tr>\n",
       "      <th>0</th>\n",
       "      <td>vw</td>\n",
       "      <td>Beetle</td>\n",
       "      <td>2014</td>\n",
       "      <td>Manual</td>\n",
       "      <td>55457</td>\n",
       "      <td>Diesel</td>\n",
       "      <td>30</td>\n",
       "      <td>65.3266</td>\n",
       "      <td>1.6</td>\n",
       "      <td>7490</td>\n",
       "    </tr>\n",
       "    <tr>\n",
       "      <th>1</th>\n",
       "      <td>vauxhall</td>\n",
       "      <td>GTC</td>\n",
       "      <td>2017</td>\n",
       "      <td>Manual</td>\n",
       "      <td>15630</td>\n",
       "      <td>Petrol</td>\n",
       "      <td>145</td>\n",
       "      <td>47.2049</td>\n",
       "      <td>1.4</td>\n",
       "      <td>10998</td>\n",
       "    </tr>\n",
       "    <tr>\n",
       "      <th>2</th>\n",
       "      <td>merc</td>\n",
       "      <td>G Class</td>\n",
       "      <td>2012</td>\n",
       "      <td>Automatic</td>\n",
       "      <td>43000</td>\n",
       "      <td>Diesel</td>\n",
       "      <td>570</td>\n",
       "      <td>25.1172</td>\n",
       "      <td>3.0</td>\n",
       "      <td>44990</td>\n",
       "    </tr>\n",
       "    <tr>\n",
       "      <th>3</th>\n",
       "      <td>audi</td>\n",
       "      <td>RS5</td>\n",
       "      <td>2019</td>\n",
       "      <td>Automatic</td>\n",
       "      <td>10</td>\n",
       "      <td>Petrol</td>\n",
       "      <td>145</td>\n",
       "      <td>30.5593</td>\n",
       "      <td>2.9</td>\n",
       "      <td>51990</td>\n",
       "    </tr>\n",
       "    <tr>\n",
       "      <th>4</th>\n",
       "      <td>merc</td>\n",
       "      <td>X-CLASS</td>\n",
       "      <td>2018</td>\n",
       "      <td>Automatic</td>\n",
       "      <td>14000</td>\n",
       "      <td>Diesel</td>\n",
       "      <td>240</td>\n",
       "      <td>35.7168</td>\n",
       "      <td>2.3</td>\n",
       "      <td>28990</td>\n",
       "    </tr>\n",
       "  </tbody>\n",
       "</table>\n",
       "</div>"
      ],
      "text/plain": [
       "      brand     model  year transmission  mileage fuelType  tax      mpg  \\\n",
       "0        vw    Beetle  2014       Manual    55457   Diesel   30  65.3266   \n",
       "1  vauxhall       GTC  2017       Manual    15630   Petrol  145  47.2049   \n",
       "2      merc   G Class  2012    Automatic    43000   Diesel  570  25.1172   \n",
       "3      audi       RS5  2019    Automatic       10   Petrol  145  30.5593   \n",
       "4      merc   X-CLASS  2018    Automatic    14000   Diesel  240  35.7168   \n",
       "\n",
       "   engineSize  price  \n",
       "0         1.6   7490  \n",
       "1         1.4  10998  \n",
       "2         3.0  44990  \n",
       "3         2.9  51990  \n",
       "4         2.3  28990  "
      ]
     },
     "execution_count": 39,
     "metadata": {},
     "output_type": "execute_result"
    }
   ],
   "source": [
    "# Load the dataset\n",
    "car = pd.read_csv('Datasets/car.csv')\n",
    "car.head()"
   ]
  },
  {
   "cell_type": "code",
   "execution_count": 40,
   "id": "f24414ac",
   "metadata": {},
   "outputs": [],
   "source": [
    "X = car.drop(columns=['price'])\n",
    "y = car['price']\n",
    "\n",
    "X_train, X_test, y_train, y_test = train_test_split(X, y, test_size=0.2, random_state=42)\n",
    "\n",
    "# extract the categorical columns and put them in a list\n",
    "categorical_feature = X.select_dtypes(include=['object']).columns.tolist()\n",
    "\n",
    "# extract the numerical columns and put them in a list\n",
    "numerical_feature = X.select_dtypes(include=['int64', 'float64']).columns.tolist()"
   ]
  },
  {
   "cell_type": "code",
   "execution_count": 41,
   "id": "fb76d5c3",
   "metadata": {},
   "outputs": [],
   "source": [
    "preprocessor = ColumnTransformer(\n",
    "    transformers=[\n",
    "        ('num', FunctionTransformer(), numerical_feature),\n",
    "        ('cat', OneHotEncoder(handle_unknown='ignore'), categorical_feature)\n",
    "    ],\n",
    "    remainder='passthrough'\n",
    ")"
   ]
  },
  {
   "cell_type": "markdown",
   "id": "c0477ca6",
   "metadata": {},
   "source": [
    "### Let's build a single decision tree and output its performance"
   ]
  },
  {
   "cell_type": "code",
   "execution_count": 42,
   "id": "9fb71c44",
   "metadata": {},
   "outputs": [
    {
     "name": "stdout",
     "output_type": "stream",
     "text": [
      "Single Tree RMSE: 5073.81\n",
      "Single Tree R^2: 0.91\n",
      "Single Tree Train RMSE: 0.00\n",
      "Single Tree Train R^2: 1.00\n"
     ]
    }
   ],
   "source": [
    "# build a single decsision tree regressor\n",
    "single_tree_regressor = DecisionTreeRegressor(random_state=0)\n",
    "\n",
    "# pipeline for the single decision tree regressor\n",
    "pipeline_single_tree = Pipeline(steps=[\n",
    "    ('preprocessor', preprocessor),\n",
    "    ('tree', single_tree_regressor)\n",
    "])\n",
    "# fit the pipeline to the training data\n",
    "pipeline_single_tree.fit(X_train, y_train)\n",
    "# make predictions on the test data\n",
    "y_pred_single_tree = pipeline_single_tree.predict(X_test)\n",
    "# calculate the RMSE and R^2 score\n",
    "rmse_single_tree = root_mean_squared_error(y_test, y_pred_single_tree)\n",
    "r2_single_tree = r2_score(y_test, y_pred_single_tree)\n",
    "print(f'Single Tree RMSE: {rmse_single_tree:.2f}')\n",
    "print(f'Single Tree R^2: {r2_single_tree:.2f}')\n",
    "\n",
    "# calculate the RMSE and R^2 score for the training data\n",
    "y_pred_train_single_tree = pipeline_single_tree.predict(X_train)\n",
    "rmse_train_single_tree = root_mean_squared_error(y_train, y_pred_train_single_tree)\n",
    "r2_train_single_tree = r2_score(y_train, y_pred_train_single_tree)\n",
    "print(f'Single Tree Train RMSE: {rmse_train_single_tree:.2f}')\n",
    "print(f'Single Tree Train R^2: {r2_train_single_tree:.2f}')"
   ]
  },
  {
   "cell_type": "code",
   "execution_count": 43,
   "id": "2a0cc13e",
   "metadata": {},
   "outputs": [
    {
     "name": "stdout",
     "output_type": "stream",
     "text": [
      "Depth of the single decision tree: 34\n"
     ]
    }
   ],
   "source": [
    "# single tree depth\n",
    "tree_depth = pipeline_single_tree.named_steps['tree'].get_depth()\n",
    "print(f\"Depth of the single decision tree: {tree_depth}\")"
   ]
  },
  {
   "cell_type": "markdown",
   "id": "380a3184",
   "metadata": {},
   "source": [
    "### Let's build a bagging tree to reduce the variance"
   ]
  },
  {
   "cell_type": "code",
   "execution_count": 44,
   "id": "58f4b972",
   "metadata": {},
   "outputs": [
    {
     "name": "stdout",
     "output_type": "stream",
     "text": [
      "RMSE using bootstraping: 3756.85\n",
      "R^2 using bootstraping: 0.95\n",
      "Training RMSE using bootstraping: 1395.75\n",
      "Training R^2 using bootstraping: 0.99\n"
     ]
    }
   ],
   "source": [
    "# bagging with bootstrap\n",
    "bagging_with_bootstrap_regressor = BaggingRegressor(\n",
    "    estimator=DecisionTreeRegressor(random_state=0),\n",
    "    n_estimators=50,\n",
    "    random_state=42\n",
    ")\n",
    "\n",
    "# create a pipeline with the preprocessor and the bagging regressor\n",
    "pipeline = Pipeline(steps=[\n",
    "    ('preprocessor', preprocessor),\n",
    "    ('bagging', bagging_with_bootstrap_regressor)\n",
    "])\n",
    "\n",
    "# fit the pipeline to the training data\n",
    "pipeline.fit(X_train, y_train)\n",
    "# make predictions on the test data\n",
    "y_pred = pipeline.predict(X_test)\n",
    "# calculate the RMSE and R^2 score\n",
    "rmse = root_mean_squared_error(y_test, y_pred)\n",
    "r2 = r2_score(y_test, y_pred)\n",
    "print(f'RMSE using bootstraping: {rmse:.2f}')\n",
    "print(f'R^2 using bootstraping: {r2:.2f}')\n",
    "# calculate the training rmse and r^2 score\n",
    "y_train_pred = pipeline.predict(X_train)\n",
    "train_rmse = root_mean_squared_error(y_train, y_train_pred)\n",
    "train_r2 = r2_score(y_train, y_train_pred)\n",
    "print(f'Training RMSE using bootstraping: {train_rmse:.2f}')\n",
    "print(f'Training R^2 using bootstraping: {train_r2:.2f}')"
   ]
  },
  {
   "cell_type": "markdown",
   "id": "342d1e8f",
   "metadata": {},
   "source": [
    "The test RMSE and R squared was improved a lot using bagging, by default, bootstrape=True, meaning each training set is created using smapling with replacement. let's turn off the bootstrape and see how it affect the bagging performance"
   ]
  },
  {
   "cell_type": "code",
   "execution_count": 45,
   "id": "b930d061",
   "metadata": {},
   "outputs": [
    {
     "name": "stdout",
     "output_type": "stream",
     "text": [
      "RMSE: 4667.43\n",
      "R^2: 0.93\n",
      "Training RMSE: 0.00\n",
      "Training R^2: 1.00\n"
     ]
    }
   ],
   "source": [
    "bagging_without_bootstrap_regressor = BaggingRegressor(\n",
    "    estimator=DecisionTreeRegressor(random_state=0),\n",
    "    bootstrap=False,\n",
    "    n_estimators=50,\n",
    "    random_state=42\n",
    ")\n",
    "\n",
    "# create a pipeline with the preprocessor and the bagging regressor\n",
    "pipeline = Pipeline(steps=[\n",
    "    ('preprocessor', preprocessor),\n",
    "    ('bagging', bagging_without_bootstrap_regressor)\n",
    "])\n",
    "\n",
    "# fit the pipeline to the training data\n",
    "pipeline.fit(X_train, y_train)\n",
    "# make predictions on the test data\n",
    "y_pred = pipeline.predict(X_test)\n",
    "\n",
    "# calculate the RMSE and R^2 score\n",
    "rmse = root_mean_squared_error(y_test, y_pred)\n",
    "r2 = r2_score(y_test, y_pred)\n",
    "print(f'RMSE: {rmse:.2f}')\n",
    "print(f'R^2: {r2:.2f}')\n",
    "\n",
    "# calculate the training rmse and r^2 score\n",
    "y_train_pred = pipeline.predict(X_train)\n",
    "train_rmse = root_mean_squared_error(y_train, y_train_pred)\n",
    "train_r2 = r2_score(y_train, y_train_pred)\n",
    "print(f'Training RMSE: {train_rmse:.2f}')\n",
    "print(f'Training R^2: {train_r2:.2f}')"
   ]
  },
  {
   "cell_type": "markdown",
   "id": "9141d853",
   "metadata": {},
   "source": [
    "As can be observed from the results, the performance of bagging without bootstrap sampling is worse compared to using bootstrap sampling\n",
    "\n",
    "**Why Bagging Without Bootstrap Performs Worse?**\n",
    "\n",
    "When `bootstrap=True`, each tree in the ensemble is trained on a different bootstrap sample (random sample with replacement) of the training data. This has two key effects:\n",
    "\n",
    "* It introduces diversity among the individual trees.\n",
    "\n",
    "* It reduces correlation between trees.\n",
    "\n",
    "This diversity is the **core strength** of bagging — while individual trees may be weak or overfit, their errors cancel out when averaged.\n",
    "\n",
    "**Why Can Bagging Without Bootstrap Still Show Slight Improvement?**\n",
    "\n",
    "When `bootstrap=False`, you're instructing `BaggingRegressor` to train each tree on the **exact same dataset**. This removes the key source of diversity in bagging — random sampling — and **reduces the variance reduction benefits** typically gained from averaging diverse models.\n",
    "\n",
    "However, even when all trees are trained on the same data, implementations like `sklearn.tree.DecisionTreeRegressor` may still introduce **internal randomness**. For example:\n",
    "- When multiple split points result in equal information gain, one may be chosen **randomly**.\n",
    "- **Ties** in data splits may be broken differently.\n",
    "- Other **subtle numerical differences** can emerge, especially during floating-point operations.\n",
    "\n",
    "These small sources of randomness can cause **slight variations** in the resulting trees. When such trees are averaged, the ensemble may still achieve **some variance reduction**, helping to smooth out localized overfitting and **slightly improve generalization**.\n",
    "\n",
    "> ⚠️ This improvement is typically **much smaller** than what you’d observe with full bootstrap sampling (`bootstrap=True`).\n",
    "\n",
    "\n"
   ]
  },
  {
   "cell_type": "markdown",
   "id": "2dc819d1",
   "metadata": {},
   "source": [
    "## Random Forest \n",
    "\n",
    "\n",
    "**This diversity is the **core strength** of bagging**\n",
    "\n",
    "Random Forest is an ensemble learning method that builds upon **Bagging** by introducing **more diversity among individual trees**. The goal is to **further decorrelate the trees**, which helps improve generalization and predictive performance.\n",
    "\n",
    "### Idea Behind Random Forest\n",
    "\n",
    "Random Forest introduces an additional source of randomness:\n",
    "\n",
    "* At each split in a tree, instead of considering **all predictors**, Random Forest considers a **random subset** of predictors.\n",
    "\n",
    "This way:\n",
    "\n",
    "* Trees become more diverse.\n",
    "\n",
    "* The correlation between trees decreases.\n",
    "\n",
    "* The variance of the aggregated model is further reduced.\n",
    "  \n",
    "###  Key Hyperparameter Comparison\n",
    "\n",
    "| Hyperparameter | **Bagging** | **Random Forest** |\n",
    "|----------------|-------------|-------------------|\n",
    "| `bootstrap`    | ✅ Yes      | ✅ Yes            |\n",
    "| `max_features` | 🧩 All features (by default) | 🧩 Random subset at each split |\n",
    "| `oob_score`    | ✅ Often used for evaluation | ✅ Often used for evaluation |\n",
    "| `n_estimators` | ✅ Number of trees | ✅ Number of trees |\n"
   ]
  },
  {
   "cell_type": "markdown",
   "id": "f89cd555",
   "metadata": {},
   "source": [
    "### Build a Random Forest"
   ]
  },
  {
   "cell_type": "code",
   "execution_count": 46,
   "id": "bbfe8753",
   "metadata": {},
   "outputs": [
    {
     "name": "stdout",
     "output_type": "stream",
     "text": [
      "RMSE: 3747.58\n",
      "R^2: 0.95\n",
      "Training RMSE: 1395.03\n",
      "Training R^2: 0.99\n"
     ]
    }
   ],
   "source": [
    "from sklearn.ensemble import RandomForestRegressor\n",
    "\n",
    "random_forest_regressor = RandomForestRegressor(\n",
    "    n_estimators=50,\n",
    "    random_state=42\n",
    ")\n",
    "\n",
    "# create a pipeline with the preprocessor and the bagging regressor\n",
    "randome_forest_pipeline = Pipeline(steps=[\n",
    "    ('preprocessor', preprocessor),\n",
    "    ('bagging', random_forest_regressor)\n",
    "])\n",
    "\n",
    "# fit the pipeline to the training data\n",
    "randome_forest_pipeline.fit(X_train, y_train)\n",
    "# make predictions on the test data\n",
    "y_pred = randome_forest_pipeline.predict(X_test)\n",
    "\n",
    "# calculate the RMSE and R^2 score\n",
    "rmse = root_mean_squared_error(y_test, y_pred)\n",
    "r2 = r2_score(y_test, y_pred)\n",
    "print(f'RMSE: {rmse:.2f}')\n",
    "print(f'R^2: {r2:.2f}')\n",
    "\n",
    "# calculate the training rmse and r^2 score\n",
    "y_train_pred = randome_forest_pipeline.predict(X_train)\n",
    "train_rmse = root_mean_squared_error(y_train, y_train_pred)\n",
    "train_r2 = r2_score(y_train, y_train_pred)\n",
    "print(f'Training RMSE: {train_rmse:.2f}')\n",
    "print(f'Training R^2: {train_r2:.2f}')"
   ]
  },
  {
   "cell_type": "markdown",
   "id": "f544ec14",
   "metadata": {},
   "source": [
    "This result is close to that of the bagging model with bootstrap sampling. To further decorrelate the trees, we can adjust the `max_features` parameter. By default, `max_features=1.0`, meaning all features are considered at each split. Setting it to a lower value allows only a proportion of features to be used per split, which increases diversity among the trees"
   ]
  },
  {
   "cell_type": "code",
   "execution_count": 47,
   "id": "783efe68",
   "metadata": {},
   "outputs": [
    {
     "name": "stdout",
     "output_type": "stream",
     "text": [
      "RMSE: 3424.28\n",
      "R^2: 0.96\n",
      "Training RMSE: 1279.85\n",
      "Training R^2: 0.99\n"
     ]
    }
   ],
   "source": [
    "random_forest_regressor = RandomForestRegressor(\n",
    "    n_estimators=50,\n",
    "    max_features='sqrt',\n",
    "    random_state=42\n",
    ")\n",
    "\n",
    "# create a pipeline with the preprocessor and the bagging regressor\n",
    "rf_pipeline = Pipeline(steps=[\n",
    "    ('preprocessor', preprocessor),\n",
    "    ('bagging', random_forest_regressor)\n",
    "])\n",
    "\n",
    "# fit the pipeline to the training data\n",
    "rf_pipeline.fit(X_train, y_train)\n",
    "# make predictions on the test data\n",
    "y_pred = rf_pipeline.predict(X_test)\n",
    "\n",
    "# calculate the RMSE and R^2 score\n",
    "rmse = root_mean_squared_error(y_test, y_pred)\n",
    "r2 = r2_score(y_test, y_pred)\n",
    "print(f'RMSE: {rmse:.2f}')\n",
    "print(f'R^2: {r2:.2f}')\n",
    "\n",
    "# calculate the training rmse and r^2 score\n",
    "y_train_pred = rf_pipeline.predict(X_train)\n",
    "train_rmse = root_mean_squared_error(y_train, y_train_pred)\n",
    "train_r2 = r2_score(y_train, y_train_pred)\n",
    "print(f'Training RMSE: {train_rmse:.2f}')\n",
    "print(f'Training R^2: {train_r2:.2f}')\n",
    "\n"
   ]
  },
  {
   "cell_type": "markdown",
   "id": "513788b0",
   "metadata": {},
   "source": [
    "## Explore how the `max_features` affect the performance"
   ]
  },
  {
   "cell_type": "code",
   "execution_count": 48,
   "id": "2eef8722",
   "metadata": {},
   "outputs": [],
   "source": [
    "# explore how the max_features parameter affects the model performance\n",
    "max_features = ['sqrt', 'log2', 0.1, 0.2, 0.3, 0.4, 0.5, 0.6, 0.7, 0.8, 0.9, 1.0]\n",
    "rmse_list = []\n",
    "r2_list = []\n",
    "for max_feature in max_features:\n",
    "    random_forest_regressor = RandomForestRegressor(\n",
    "        n_estimators=50,\n",
    "        max_features=max_feature,\n",
    "        random_state=42\n",
    "    )\n",
    "\n",
    "    # create a pipeline with the preprocessor and the bagging regressor\n",
    "    rf_pipeline = Pipeline(steps=[\n",
    "        ('preprocessor', preprocessor),\n",
    "        ('bagging', random_forest_regressor)\n",
    "    ])\n",
    "\n",
    "    # fit the pipeline to the training data\n",
    "    rf_pipeline.fit(X_train, y_train)\n",
    "    # make predictions on the test data\n",
    "    y_pred = rf_pipeline.predict(X_test)\n",
    "\n",
    "    # calculate the RMSE and R^2 score\n",
    "    rmse = root_mean_squared_error(y_test, y_pred)\n",
    "    r2 = r2_score(y_test, y_pred)\n",
    "    rmse_list.append(rmse)\n",
    "    r2_list.append(r2)\n"
   ]
  },
  {
   "cell_type": "code",
   "execution_count": 49,
   "id": "02d40a0f",
   "metadata": {},
   "outputs": [
    {
     "data": {
      "image/png": "[encoded data removed]",
      "text/plain": [
       "<Figure size 1200x600 with 2 Axes>"
      ]
     },
     "metadata": {},
     "output_type": "display_data"
    }
   ],
   "source": [
    "# plot the RMSE and R^2 score against the max_features parameter\n",
    "plt.figure(figsize=(12, 6))\n",
    "plt.subplot(1, 2, 1)\n",
    "plt.plot(max_features, rmse_list, marker='o')\n",
    "plt.xlabel('max_features')\n",
    "plt.ylabel('RMSE')\n",
    "plt.title('RMSE vs max_features')\n",
    "plt.grid(True)\n",
    "plt.subplot(1, 2, 2)\n",
    "plt.plot(max_features, r2_list, marker='o')\n",
    "plt.xlabel('max_features')\n",
    "plt.ylabel('R^2')\n",
    "plt.title('R^2 vs max_features')\n",
    "plt.grid(True)\n",
    "plt.tight_layout()\n",
    "plt.show()"
   ]
  },
  {
   "cell_type": "markdown",
   "id": "c42cc515",
   "metadata": {},
   "source": [
    "Random Forest performs best when decorrelation is balanced. Setting max_features too low or too high both hurt model generalization.\n",
    "\n",
    "R² peaks when max_features is around 0.5 to 0.6, in agreement with the RMSE plot.\n",
    "\n",
    "R² drops at both ends:\n",
    "\n",
    "* When using too few features → underfitting.\n",
    "\n",
    "* When using all features (1.0) → overfitting from highly correlated trees."
   ]
  },
  {
   "cell_type": "code",
   "execution_count": 50,
   "id": "51963639",
   "metadata": {},
   "outputs": [
    {
     "name": "stdout",
     "output_type": "stream",
     "text": [
      "Minimum RMSE: 3338.02\n",
      "Best max_features: 0.5\n",
      "Maximum R^2: 0.96\n",
      "Best max_features: 0.5\n"
     ]
    }
   ],
   "source": [
    "# get the minimum RMSE and the corresponding max_features parameter\n",
    "min_rmse = min(rmse_list)\n",
    "min_rmse_index = rmse_list.index(min_rmse)\n",
    "best_max_feature = max_features[min_rmse_index]\n",
    "print(f'Minimum RMSE: {min_rmse:.2f}')\n",
    "print(f'Best max_features: {best_max_feature}')\n",
    "# get the maximum R^2 and the corresponding max_features parameter\n",
    "max_r2 = max(r2_list)\n",
    "max_r2_index = r2_list.index(max_r2)\n",
    "best_max_feature_r2 = max_features[max_r2_index]\n",
    "print(f'Maximum R^2: {max_r2:.2f}')\n",
    "print(f'Best max_features: {best_max_feature_r2}')"
   ]
  },
  {
   "cell_type": "markdown",
   "id": "332528b2",
   "metadata": {},
   "source": [
    "## Other Hyperparameters\n",
    "\n",
    "### Why bagging Uses Unpruned Trees\n",
    "\n",
    "* Bagging’s strength is in reducing variance, not bias.\n",
    "\n",
    "* Since deep, unpruned decision trees tend to overfit (high variance), bagging them averages out this variance effectively.\n",
    "\n",
    "* Using pruned trees reduces variance and increases bias — but bagging is not good at correcting bias, so this would weaken performance.\n",
    "\n",
    ">🔁 So in bagging, it's common to let each tree grow fully to preserve low bias, and rely on bagging to handle the variance.\n",
    "\n",
    "### Hyperparameters that controls the complexity of tree in Random Forest\n",
    "\n",
    "| Setting                    | Effect                             | Applies to       |\n",
    "|---------------------------|-------------------------------------|------------------|\n",
    "| `max_depth=None`          | Full trees, low bias, high variance | Bagging, RF      |\n",
    "| `max_depth=some int`      | Pruned trees, more bias, less variance | Especially helpful in RF |\n",
    "| `min_samples_split/leaves`| Prevents small branches             | Both             |\n",
    "\n",
    "### Why randome forest often limits tree depth\n",
    "\n",
    "Because only a subset of features is used at each split, fully grown Random Forest trees tend to overfit more than bagged trees that use all features. So limiting tree complexity in Random Forest:\n",
    "\n",
    "* Prevents deep trees from chasing noise in sparse feature subsets.\n",
    "\n",
    "* Improves generalization, especially on high-dimensional or noisy data."
   ]
  },
  {
   "cell_type": "markdown",
   "id": "c611dc69",
   "metadata": {},
   "source": [
    "###  Tuning Multiple Hyperparameters Simultaneously Using Cross-Validation\n",
    "\n",
    "Given the number of hyperparameters involved, to reduce computational cost, we will use `BayesSearchCV` for tuning.\n"
   ]
  },
  {
   "cell_type": "code",
   "execution_count": 37,
   "id": "36494c1c",
   "metadata": {},
   "outputs": [
    {
     "name": "stdout",
     "output_type": "stream",
     "text": [
      "RMSE: 3278.42\n",
      "R^2: 0.96\n",
      "Training RMSE: 1220.88\n",
      "Training R^2: 0.99\n"
     ]
    }
   ],
   "source": [
    "# hyperparameter tuning for the random forest regressor\n",
    "\n",
    "from skopt.space import Integer, Categorical, Real\n",
    "from skopt import BayesSearchCV\n",
    "\n",
    "# Rename the pipeline step for clarity (recommended)\n",
    "random_forest_regressor = RandomForestRegressor(\n",
    "    random_state=42\n",
    ")\n",
    "\n",
    "randome_forest_pipeline = Pipeline(steps=[\n",
    "    ('preprocessor', preprocessor),\n",
    "    ('rf', random_forest_regressor)  # Renamed from 'bagging' to 'rf'\n",
    "])\n",
    "\n",
    "param_space = {\n",
    "    # Tree structure (control complexity)\n",
    "    \"rf__max_depth\": Integer(5, 35),  \n",
    "    \"rf__min_samples_split\": Integer(2, 20),\n",
    "    \"rf__min_samples_leaf\": Integer(1, 10),\n",
    "    \"rf__max_features\": Real(0.1, 1.0),\n",
    "    \n",
    "    # Ensemble settings\n",
    "    \"rf__n_estimators\": Integer(20, 60),\n",
    "    \n",
    "    # Advanced\n",
    "    \"rf__max_samples\": Real(0.1, 1.0),\n",
    "}\n",
    "\n",
    "opt = BayesSearchCV(\n",
    "    randome_forest_pipeline,\n",
    "    param_space,\n",
    "    n_iter=50,  # Adjust based on computational resources\n",
    "    cv=5,\n",
    "    n_jobs=-1,\n",
    "    random_state=42\n",
    ")\n",
    "opt.fit(X_train, y_train)  \n",
    "\n",
    "# make predictions on the test data\n",
    "y_pred = opt.predict(X_test)\n",
    "# calculate the RMSE and R^2 score\n",
    "rmse = root_mean_squared_error(y_test, y_pred)\n",
    "r2 = r2_score(y_test, y_pred)\n",
    "print(f'RMSE: {rmse:.2f}')\n",
    "print(f'R^2: {r2:.2f}')\n",
    "# calculate the training rmse and r^2 score\n",
    "y_train_pred = opt.predict(X_train)\n",
    "train_rmse = root_mean_squared_error(y_train, y_train_pred)\n",
    "train_r2 = r2_score(y_train, y_train_pred)\n",
    "print(f'Training RMSE: {train_rmse:.2f}')\n",
    "print(f'Training R^2: {train_r2:.2f}')"
   ]
  },
  {
   "cell_type": "markdown",
   "id": "2dc3d75c",
   "metadata": {},
   "source": [
    "As observed in the results, RMSE was further reduced after simultaneously tuning multiple hyperparameters. However, due to the small and simple nature of the dataset, the performance improvement is marginal. On larger and more complex datasets, the difference in performance would likely be more substantial"
   ]
  },
  {
   "cell_type": "markdown",
   "id": "99446b31",
   "metadata": {},
   "source": [
    "## Feature Important"
   ]
  },
  {
   "cell_type": "code",
   "execution_count": 57,
   "id": "77f9f712",
   "metadata": {},
   "outputs": [],
   "source": [
    "# assume numerical_feature and categorical_feature are the original lists\n",
    "num_features = numerical_feature\n",
    "cat_transformer = opt.best_estimator_.named_steps['preprocessor'].named_transformers_['cat']\n",
    "cat_features = cat_transformer.get_feature_names_out(categorical_feature)\n",
    "\n",
    "# concatenate all feature names\n",
    "feature_names = np.concatenate([num_features, cat_features])\n"
   ]
  },
  {
   "cell_type": "code",
   "execution_count": 59,
   "id": "b3396f0b",
   "metadata": {},
   "outputs": [
    {
     "data": {
      "image/png": "[encoded data removed]",
      "text/plain": [
       "<Figure size 1200x600 with 1 Axes>"
      ]
     },
     "metadata": {},
     "output_type": "display_data"
    }
   ],
   "source": [
    "# output feature importances\n",
    "\n",
    "importances = opt.best_estimator_.named_steps['rf'].feature_importances_\n",
    "feature_importances = pd.DataFrame(importances, index=feature_names, columns=['importance']).sort_values('importance', ascending=False)\n",
    "\n",
    "# select top 10 features\n",
    "top_10 = feature_importances.head(10)\n",
    "\n",
    "# plot the top 10 feature importances\n",
    "plt.figure(figsize=(12, 6))\n",
    "plt.barh(top_10.index[::-1], top_10['importance'][::-1])  # reverse for top-to-bottom order\n",
    "plt.xlabel('Importance')\n",
    "plt.title('Top 10 Feature Importances')\n",
    "plt.grid(axis='x')\n",
    "plt.tight_layout()\n",
    "plt.show()\n"
   ]
  },
  {
   "cell_type": "markdown",
   "id": "d58911c9",
   "metadata": {},
   "source": [
    "**In Summary**\n",
    "\n",
    "Random Forest is a special case of bagging. The `n_estimators` and `oob_score` hyperparameters function similarly in both methods. In this notebook, we focused on the key differences between Random Forest and standard bagging.  \n",
    "Random Forest generally outperforms bagging because it **decorrelates** the individual decision trees by randomly selecting a subset of features at each split, which **increases diversity** among the trees and **further reduces variance**.\n"
   ]
  }
 ],
 "metadata": {
  "kernelspec": {
   "display_name": "base",
   "language": "python",
   "name": "python3"
  },
  "language_info": {
   "codemirror_mode": {
    "name": "ipython",
    "version": 3
   },
   "file_extension": ".py",
   "mimetype": "text/x-python",
   "name": "python",
   "nbconvert_exporter": "python",
   "pygments_lexer": "ipython3",
   "version": "3.12.4"
  }
 },
 "nbformat": 4,
 "nbformat_minor": 5
}
