{
 "cells": [
  {
   "cell_type": "raw",
   "id": "38e2e510",
   "metadata": {},
   "source": [
    "---\n",
    "title: \"Miscellaneous questions\"\n",
    "format: \n",
    "  html:\n",
    "    toc: true\n",
    "    toc-title: Contents\n",
    "    toc-depth: 4\n",
    "    self-contained: true\n",
    "    html-math-method: mathml \n",
    "    number-sections: false\n",
    "jupyter: python3\n",
    "---"
   ]
  },
  {
   "cell_type": "markdown",
   "id": "2f079f51",
   "metadata": {},
   "source": [
    "## Q1\n",
    "**Why is boosting inappropriate for linear Regression, but appropriate for decision trees?**"
   ]
  },
  {
   "cell_type": "markdown",
   "id": "79c2c163",
   "metadata": {},
   "source": [
    "The question has been well answered in the [post](https://stats.stackexchange.com/questions/186966/gradient-boosting-for-linear-regression-why-does-it-not-work). The intuitive explanation is that the weighted average of a sequence of linear regression models will also be a single linear regression model. However, if the weighted average of the sequence of linear regression models results in a linear regression model (say 'boosted_linear_regression') that is different from the linear regression model that is obtained by fitting directly to the data (say 'regular_linear_regression'), then the boosted_linear_regression model will have a higher bias than the regular_linear_regression model as the regular_linear_regression model minimizes the sum of squared errors (SSE). Thus, the boosted_linear_regression model should be the same as regular_linear_regression model for the optimal hyperparameter values of the boosting algorithm. Thus, all the hard-work of tuning the boosting model will at best lead to the linear regression model that can be obtained by fitting it directly to the train data!\n",
    "\n",
    "However, a sequence of shallow regression trees will not lead to the same regression tree that can be developed directly. A sequence of shallow trees will continuously reduce bias with relative less increase in variance. A single decision tree is likely to have a relatively high variance, and thus boosting with shallow trees may provide a better performance, as it aims to reduce bias by controlling the increase in variance, while a single decision tree has almost zero bias at the cost of having a high variance.\n",
    "\n",
    "The second response in the post provides a mathematical explanation, which is more convincing."
   ]
  }
 ],
 "metadata": {
  "kernelspec": {
   "display_name": "Python 3 (ipykernel)",
   "language": "python",
   "name": "python3"
  },
  "language_info": {
   "codemirror_mode": {
    "name": "ipython",
    "version": 3
   },
   "file_extension": ".py",
   "mimetype": "text/x-python",
   "name": "python",
   "nbconvert_exporter": "python",
   "pygments_lexer": "ipython3",
   "version": "3.8.17"
  }
 },
 "nbformat": 4,
 "nbformat_minor": 5
}
