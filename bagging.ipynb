{
 "cells": [
  {
   "cell_type": "raw",
   "id": "9926b90f",
   "metadata": {
    "vscode": {
     "languageId": "raw"
    }
   },
   "source": [
    "---\n",
    "title: \"Bagging\"\n",
    "format: \n",
    "  html:\n",
    "    code-fold: false\n",
    "    toc-depth: 4\n",
    "    jupyter: python3\n",
    "---"
   ]
  },
  {
   "cell_type": "markdown",
   "id": "e4a5e0cf",
   "metadata": {},
   "source": [
    "*Read section 8.2.1 of the book before using these notes.*\n",
    "\n",
    "*Note that in this course, lecture notes are not sufficient, you must read the book for better understanding. Lecture notes are just implementing the concepts of the book on a dataset, but not explaining the concepts elaborately.*\n",
    "\n",
    "## Bagging\n",
    "\n",
    "Bagging, short for **Bootstrap Aggregating**, is an effective way to reduce overfitting in decision trees. It works by training multiple decision trees—each on a different bootstrap sample of the data—and then aggregating their predictions.\n",
    "\n",
    "Each individual decision tree is a **weak learner** and prone to overfitting, but by combining many such trees, bagging produces a **strong learner** with **lower variance** and improved generalization performance.\n",
    "\n",
    "The number of trees to include in the ensemble is specified by the `n_estimators` hyperparameter."
   ]
  },
  {
   "cell_type": "code",
   "execution_count": 20,
   "id": "fdb21e54",
   "metadata": {},
   "outputs": [],
   "source": [
    "# Importing necessary libraries\n",
    "import pandas as pd\n",
    "import numpy as np\n",
    "import matplotlib.pyplot as plt\n",
    "import seaborn as sns\n",
    "sns.set(font_scale=1.35)\n",
    "\n",
    "# import the decision tree regressor\n",
    "from sklearn.tree import DecisionTreeRegressor, DecisionTreeClassifier, plot_tree, export_graphviz\n",
    "from sklearn.ensemble import BaggingRegressor,BaggingClassifier\n",
    "\n",
    "# split the dataset into training and testing sets\n",
    "from sklearn.model_selection import train_test_split\n",
    "\n",
    "\n",
    "from sklearn.model_selection import cross_val_score, GridSearchCV, cross_val_predict, KFold\n",
    "\n",
    "from sklearn.pipeline import Pipeline\n",
    "from sklearn.compose import ColumnTransformer\n",
    "from sklearn.preprocessing import OneHotEncoder, FunctionTransformer\n",
    "from sklearn.metrics import root_mean_squared_error, r2_score, make_scorer, accuracy_score"
   ]
  },
  {
   "cell_type": "markdown",
   "id": "06ba5c57",
   "metadata": {},
   "source": [
    "## Bagging regression trees\n",
    "\n",
    "\n",
    "Let's revisit the same dataset used for building a single regression tree and explore whether we can further improve its performance using bagging"
   ]
  },
  {
   "cell_type": "code",
   "execution_count": 25,
   "id": "8b55fc2f",
   "metadata": {},
   "outputs": [
    {
     "data": {
      "text/html": [
       "<div>\n",
       "<style scoped>\n",
       "    .dataframe tbody tr th:only-of-type {\n",
       "        vertical-align: middle;\n",
       "    }\n",
       "\n",
       "    .dataframe tbody tr th {\n",
       "        vertical-align: top;\n",
       "    }\n",
       "\n",
       "    .dataframe thead th {\n",
       "        text-align: right;\n",
       "    }\n",
       "</style>\n",
       "<table border=\"1\" class=\"dataframe\">\n",
       "  <thead>\n",
       "    <tr style=\"text-align: right;\">\n",
       "      <th></th>\n",
       "      <th>brand</th>\n",
       "      <th>model</th>\n",
       "      <th>year</th>\n",
       "      <th>transmission</th>\n",
       "      <th>mileage</th>\n",
       "      <th>fuelType</th>\n",
       "      <th>tax</th>\n",
       "      <th>mpg</th>\n",
       "      <th>engineSize</th>\n",
       "      <th>price</th>\n",
       "    </tr>\n",
       "  </thead>\n",
       "  <tbody>\n",
       "    <tr>\n",
       "      <th>0</th>\n",
       "      <td>vw</td>\n",
       "      <td>Beetle</td>\n",
       "      <td>2014</td>\n",
       "      <td>Manual</td>\n",
       "      <td>55457</td>\n",
       "      <td>Diesel</td>\n",
       "      <td>30</td>\n",
       "      <td>65.3266</td>\n",
       "      <td>1.6</td>\n",
       "      <td>7490</td>\n",
       "    </tr>\n",
       "    <tr>\n",
       "      <th>1</th>\n",
       "      <td>vauxhall</td>\n",
       "      <td>GTC</td>\n",
       "      <td>2017</td>\n",
       "      <td>Manual</td>\n",
       "      <td>15630</td>\n",
       "      <td>Petrol</td>\n",
       "      <td>145</td>\n",
       "      <td>47.2049</td>\n",
       "      <td>1.4</td>\n",
       "      <td>10998</td>\n",
       "    </tr>\n",
       "    <tr>\n",
       "      <th>2</th>\n",
       "      <td>merc</td>\n",
       "      <td>G Class</td>\n",
       "      <td>2012</td>\n",
       "      <td>Automatic</td>\n",
       "      <td>43000</td>\n",
       "      <td>Diesel</td>\n",
       "      <td>570</td>\n",
       "      <td>25.1172</td>\n",
       "      <td>3.0</td>\n",
       "      <td>44990</td>\n",
       "    </tr>\n",
       "    <tr>\n",
       "      <th>3</th>\n",
       "      <td>audi</td>\n",
       "      <td>RS5</td>\n",
       "      <td>2019</td>\n",
       "      <td>Automatic</td>\n",
       "      <td>10</td>\n",
       "      <td>Petrol</td>\n",
       "      <td>145</td>\n",
       "      <td>30.5593</td>\n",
       "      <td>2.9</td>\n",
       "      <td>51990</td>\n",
       "    </tr>\n",
       "    <tr>\n",
       "      <th>4</th>\n",
       "      <td>merc</td>\n",
       "      <td>X-CLASS</td>\n",
       "      <td>2018</td>\n",
       "      <td>Automatic</td>\n",
       "      <td>14000</td>\n",
       "      <td>Diesel</td>\n",
       "      <td>240</td>\n",
       "      <td>35.7168</td>\n",
       "      <td>2.3</td>\n",
       "      <td>28990</td>\n",
       "    </tr>\n",
       "  </tbody>\n",
       "</table>\n",
       "</div>"
      ],
      "text/plain": [
       "      brand     model  year transmission  mileage fuelType  tax      mpg  \\\n",
       "0        vw    Beetle  2014       Manual    55457   Diesel   30  65.3266   \n",
       "1  vauxhall       GTC  2017       Manual    15630   Petrol  145  47.2049   \n",
       "2      merc   G Class  2012    Automatic    43000   Diesel  570  25.1172   \n",
       "3      audi       RS5  2019    Automatic       10   Petrol  145  30.5593   \n",
       "4      merc   X-CLASS  2018    Automatic    14000   Diesel  240  35.7168   \n",
       "\n",
       "   engineSize  price  \n",
       "0         1.6   7490  \n",
       "1         1.4  10998  \n",
       "2         3.0  44990  \n",
       "3         2.9  51990  \n",
       "4         2.3  28990  "
      ]
     },
     "execution_count": 25,
     "metadata": {},
     "output_type": "execute_result"
    }
   ],
   "source": [
    "# Load the dataset\n",
    "car = pd.read_csv('Datasets/car.csv')\n",
    "car.head()"
   ]
  },
  {
   "cell_type": "code",
   "execution_count": 26,
   "id": "33afa09a",
   "metadata": {},
   "outputs": [],
   "source": [
    "X = car.drop(columns=['price'])\n",
    "y = car['price']\n",
    "\n",
    "X_train, X_test, y_train, y_test = train_test_split(X, y, test_size=0.2, random_state=42)\n",
    "\n",
    "# extract the categorical columns and put them in a list\n",
    "categorical_feature = X.select_dtypes(include=['object']).columns.tolist()\n",
    "\n",
    "# extract the numerical columns and put them in a list\n",
    "numerical_feature = X.select_dtypes(include=['int64', 'float64']).columns.tolist()"
   ]
  },
  {
   "cell_type": "code",
   "execution_count": 27,
   "id": "dfdeaae9",
   "metadata": {},
   "outputs": [],
   "source": [
    "encoder = OneHotEncoder(handle_unknown='ignore', sparse_output=False)\n",
    "\n",
    "X_train_encoded = encoder.fit_transform(X_train[categorical_feature])\n",
    "X_test_encoded = encoder.transform(X_test[categorical_feature])\n",
    "\n",
    "# Convert the encoded features back to DataFrame\n",
    "X_train_encoded_df = pd.DataFrame(X_train_encoded, columns=encoder.get_feature_names_out(categorical_feature))\n",
    "X_test_encoded_df = pd.DataFrame(X_test_encoded, columns=encoder.get_feature_names_out(categorical_feature))\n",
    "\n",
    "# Concatenate the encoded features with the original numerical features\n",
    "X_train_final = pd.concat([X_train_encoded_df, X_train[numerical_feature].reset_index(drop=True)], axis=1)\n",
    "X_test_final = pd.concat([X_test_encoded_df, X_test[numerical_feature].reset_index(drop=True)], axis=1)"
   ]
  },
  {
   "cell_type": "markdown",
   "id": "e0cffbe0",
   "metadata": {},
   "source": [
    "Below is the [best model](https://lizhen0909.github.io/STAT303-3-class-notes/regression_tree_sp25.html#key-hyperparameters-in-decision-tree) obtained by tuning the hyperparameters of a single decision tree."
   ]
  },
  {
   "cell_type": "code",
   "execution_count": 13,
   "id": "d3292e5a",
   "metadata": {},
   "outputs": [
    {
     "name": "stdout",
     "output_type": "stream",
     "text": [
      "Test RMSE: 4726.17\n",
      "Test R^2 score: 0.92\n"
     ]
    }
   ],
   "source": [
    "# fit the decision tree regressor\n",
    "tree_reg = DecisionTreeRegressor(max_depth=None, min_samples_leaf=1, min_samples_split=5, random_state=42)\n",
    "tree_reg.fit(X_train_final, y_train)\n",
    "\n",
    "# make predictions on the test set\n",
    "y_pred = tree_reg.predict(X_test_final)\n",
    "# calculate the RMSE and R^2 score\n",
    "rmse = root_mean_squared_error(y_test, y_pred)\n",
    "r2 = r2_score(y_test, y_pred)\n",
    "\n",
    "# print the RMSE and R^2 score, keep the decimal points to 2\n",
    "print(\"Test RMSE:\", round(rmse, 2))\n",
    "print(\"Test R^2 score:\", round(r2, 2))"
   ]
  },
  {
   "cell_type": "markdown",
   "id": "c71cfb78",
   "metadata": {},
   "source": [
    "Next, let's apply bagging to the optimized decision tree using 10 base estimators (default setting) and evaluate whether the performance improves."
   ]
  },
  {
   "cell_type": "code",
   "execution_count": 28,
   "id": "1a64c3a1",
   "metadata": {},
   "outputs": [
    {
     "name": "stdout",
     "output_type": "stream",
     "text": [
      "Test RMSE with Bagging pruned trees: 3806.7\n",
      "Test R^2 score with Bagging pruned trees: 0.95\n",
      "Train RMSE with Bagging pruned trees: 1868.7\n",
      "Train R^2 score with Bagging pruned trees: 0.99\n"
     ]
    }
   ],
   "source": [
    "#Bagging the results of 10 decision trees to predict car price\n",
    "bagging_reg = BaggingRegressor(estimator=tree_reg, random_state=1,\n",
    "                        n_jobs=-1).fit(X_train_final, y_train)\n",
    "\n",
    "# make predictions on the test set\n",
    "y_pred_bagging = bagging_reg.predict(X_test_final)\n",
    "\n",
    "# calculate the RMSE and R^2 score\n",
    "rmse_bagging = root_mean_squared_error(y_test, y_pred_bagging)\n",
    "r2_bagging = r2_score(y_test, y_pred_bagging)\n",
    "\n",
    "print(\"Test RMSE with Bagging pruned trees:\", round(rmse_bagging, 2))\n",
    "print(\"Test R^2 score with Bagging pruned trees:\", round(r2_bagging, 2))\n",
    "\n",
    "\n",
    "# training RMSE and R^2 score\n",
    "y_pred_train_bagging = bagging_reg.predict(X_train_final)\n",
    "\n",
    "# calculate the RMSE and R^2 score\n",
    "rmse_train_bagging = root_mean_squared_error(y_train, y_pred_train_bagging)\n",
    "r2_train_bagging = r2_score(y_train, y_pred_train_bagging)\n",
    "\n",
    "print(\"Train RMSE with Bagging pruned trees:\", round(rmse_train_bagging, 2))\n",
    "print(\"Train R^2 score with Bagging pruned trees:\", round(r2_train_bagging, 2))"
   ]
  },
  {
   "cell_type": "markdown",
   "id": "2fb6695c",
   "metadata": {},
   "source": [
    "Compared to the optimized single decision tree, bagging with pruned trees significantly improves performance—reducing the RMSE from 4726.17 to 3806.7 and increasing the R² score from 0.92 to 0.95."
   ]
  },
  {
   "cell_type": "markdown",
   "id": "ce56ab7d",
   "metadata": {},
   "source": [
    "Since bagging helps reduce variance, and the default setting for a single decision tree allows it to grow to full depth—often overfitting the training data—can we simply use the default tree as the base estimator for bagging?"
   ]
  },
  {
   "cell_type": "code",
   "execution_count": 30,
   "id": "eeb8d6fb",
   "metadata": {},
   "outputs": [
    {
     "name": "stdout",
     "output_type": "stream",
     "text": [
      "Test RMSE with Bagging unpruned trees: 3758.1\n",
      "Test R^2 score with Bagging unpruned trees: 0.95\n",
      "Train RMSE with Bagging unpruned trees: 1501.04\n",
      "Train R^2 score with Bagging unpruned trees: 0.99\n"
     ]
    }
   ],
   "source": [
    "#Bagging the results of 10 decision trees with the default parameters to predict car price\n",
    "bagging_reg = BaggingRegressor(random_state=1, \n",
    "                        n_jobs=-1).fit(X_train_final, y_train)\n",
    "\n",
    "# make predictions on the test set\n",
    "y_pred_bagging = bagging_reg.predict(X_test_final)\n",
    "\n",
    "# calculate the RMSE and R^2 score\n",
    "rmse_bagging = root_mean_squared_error(y_test, y_pred_bagging)\n",
    "r2_bagging = r2_score(y_test, y_pred_bagging)\n",
    "\n",
    "print(\"Test RMSE with Bagging unpruned trees:\", round(rmse_bagging, 2))\n",
    "print(\"Test R^2 score with Bagging unpruned trees:\", round(r2_bagging, 2))\n",
    "\n",
    "# training RMSE and R^2 score\n",
    "y_pred_train_bagging = bagging_reg.predict(X_train_final)\n",
    "\n",
    "# calculate the RMSE and R^2 score\n",
    "rmse_train_bagging = root_mean_squared_error(y_train, y_pred_train_bagging)\n",
    "r2_train_bagging = r2_score(y_train, y_pred_train_bagging)\n",
    "\n",
    "print(\"Train RMSE with Bagging unpruned trees:\", round(rmse_train_bagging, 2))\n",
    "print(\"Train R^2 score with Bagging unpruned trees:\", round(r2_train_bagging, 2))"
   ]
  },
  {
   "cell_type": "markdown",
   "id": "95e8911e",
   "metadata": {},
   "source": [
    "With the default setting, bagging using unpruned trees achieves an even lower RMSE of 3758.1 while maintaining the same R² score of 0.95.  \n",
    "This suggests that when using bagging, we don’t necessarily need to tune the hyperparameters of the base decision tree—bagging itself effectively combats overfitting by reducing variance, much like hyperparameter tuning does."
   ]
  },
  {
   "cell_type": "markdown",
   "id": "bbea6bc5",
   "metadata": {},
   "source": [
    "## Model Performance vs. Number of Trees\n",
    "\n",
    "To better understand how the number of base estimators affects the performance of a bagging model, we evaluate the test RMSE and R² score across different numbers of trees.  \n",
    "This analysis helps us determine whether adding more trees continues to improve performance or if the model reaches a performance plateau."
   ]
  },
  {
   "cell_type": "code",
   "execution_count": 16,
   "id": "ee5ba1f7",
   "metadata": {},
   "outputs": [
    {
     "name": "stderr",
     "output_type": "stream",
     "text": [
      "c:\\Users\\lsi8012\\AppData\\Local\\anaconda3\\Lib\\site-packages\\sklearn\\ensemble\\_bagging.py:1315: UserWarning: Some inputs do not have OOB scores. This probably means too few estimators were used to compute any reliable oob estimates.\n",
      "  warn(\n",
      "c:\\Users\\lsi8012\\AppData\\Local\\anaconda3\\Lib\\site-packages\\sklearn\\ensemble\\_bagging.py:1315: UserWarning: Some inputs do not have OOB scores. This probably means too few estimators were used to compute any reliable oob estimates.\n",
      "  warn(\n",
      "c:\\Users\\lsi8012\\AppData\\Local\\anaconda3\\Lib\\site-packages\\sklearn\\ensemble\\_bagging.py:1315: UserWarning: Some inputs do not have OOB scores. This probably means too few estimators were used to compute any reliable oob estimates.\n",
      "  warn(\n"
     ]
    },
    {
     "data": {
      "image/png": "[encoded data removed]",
      "text/plain": [
       "<Figure size 1200x600 with 2 Axes>"
      ]
     },
     "metadata": {},
     "output_type": "display_data"
    }
   ],
   "source": [
    "# explore how the number of estimators affects the performance of the model, output both oob and test scores\n",
    "n_estimators = [ 10, 15, 20, 25,30, 35, 40, 45, 50, 55]\n",
    "rmse_scores = []\n",
    "r2_scores = []\n",
    "oob_scores = []\n",
    "oob_rmse_scores = []\n",
    "# iterate through the number of estimators and fit the model\n",
    "for n in n_estimators:\n",
    "    bagging_reg = BaggingRegressor(estimator=tree_reg, n_estimators=n, oob_score=True, random_state=1,\n",
    "                        n_jobs=-1).fit(X_train_final, y_train)\n",
    "    y_pred_bagging = bagging_reg.predict(X_test_final)\n",
    "    rmse_scores.append(np.sqrt(np.mean((y_test - y_pred_bagging) ** 2)))\n",
    "    r2_scores.append(r2_score(y_test, y_pred_bagging))\n",
    "    oob_scores.append(bagging_reg.oob_score_)\n",
    "    oob_rmse_scores.append(np.sqrt(np.mean((y_train - bagging_reg.oob_prediction_) ** 2)))\n",
    "\n",
    "# plot the RMSE and R^2 scores against the number of estimators\n",
    "plt.figure(figsize=(12, 6))\n",
    "plt.subplot(1, 2, 1)\n",
    "plt.plot(n_estimators, rmse_scores, marker='o')\n",
    "plt.plot(n_estimators, oob_rmse_scores, marker='o')\n",
    "plt.legend(['RMSE', 'OOB RMSE'])\n",
    "plt.title('RMSE vs Number of Estimators')\n",
    "plt.xlabel('Number of Estimators')\n",
    "plt.ylabel('RMSE')\n",
    "plt.xticks(n_estimators)\n",
    "plt.grid()\n",
    "plt.subplot(1, 2, 2)\n",
    "plt.plot(n_estimators, r2_scores, marker='o')\n",
    "plt.plot(n_estimators, oob_scores, marker='o')\n",
    "plt.legend(['R^2 Score', 'OOB R^2 Score'])\n",
    "plt.title('R^2 Score vs Number of Estimators')\n",
    "plt.xlabel('Number of Estimators')\n",
    "plt.ylabel('R^2 Score')\n",
    "plt.xticks(n_estimators)\n",
    "plt.grid()\n",
    "plt.tight_layout()\n",
    "plt.show()\n"
   ]
  },
  {
   "cell_type": "markdown",
   "id": "a9778952",
   "metadata": {},
   "source": [
    "**Quick Takeaway**\n",
    "\n",
    "- **Increasing the number of estimators improves performance initially**, as shown by the decreasing RMSE and increasing R² scores on both the test set and OOB estimates.\n",
    "- **Performance stabilizes around 30–35 estimators**, beyond which further increases lead to minimal gains.\n",
    "- **OOB estimates become more reliable** as the number of trees grows, with OOB scores closely tracking the test performance after around 30 estimators.\n",
    "- **OOB RMSE is consistently higher** and **OOB R² is consistently lower** than their test counterparts when the ensemble is small, highlighting the **instability of OOB estimates with few trees**.\n",
    "- Choosing `n_estimators` in the range of **30 to 40** offers a good trade-off between model accuracy and computational cost."
   ]
  },
  {
   "cell_type": "code",
   "execution_count": 17,
   "id": "74b240e0",
   "metadata": {},
   "outputs": [
    {
     "name": "stdout",
     "output_type": "stream",
     "text": [
      "Best number of estimators for RMSE: 30\n",
      "Best RMSE value: 3508.31\n",
      "Best number of estimators for R^2 score: 30\n",
      "Best R^2 score: 0.96\n",
      "Best number of estimators for OOB RMSE: 45\n",
      "Best OOB RMSE value: 3565.29\n"
     ]
    }
   ],
   "source": [
    "# get the number of estimators that gives the best RMSE score\n",
    "best_rmse_index = np.argmin(rmse_scores)\n",
    "best_rmse_n_estimators = n_estimators[best_rmse_index]\n",
    "best_rmse_value = rmse_scores[best_rmse_index]\n",
    "print(\"Best number of estimators for RMSE:\", best_rmse_n_estimators)\n",
    "print(\"Best RMSE value:\", round(best_rmse_value, 2))\n",
    "\n",
    "# get the number of estimators that gives the best R^2 score\n",
    "best_r2_index = np.argmax(r2_scores)\n",
    "best_r2_n_estimators = n_estimators[best_r2_index]\n",
    "best_r2_value = r2_scores[best_r2_index]\n",
    "print(\"Best number of estimators for R^2 score:\", best_r2_n_estimators)\n",
    "print(\"Best R^2 score:\", round(best_r2_value, 2))\n",
    "\n",
    "# get the number of estimators that gives the best OOB RMSE score\n",
    "best_oob_rmse_index = np.argmin(oob_rmse_scores)\n",
    "best_oob_rmse_n_estimators = n_estimators[best_oob_rmse_index]\n",
    "best_oob_rmse_value = oob_rmse_scores[best_oob_rmse_index]\n",
    "print(\"Best number of estimators for OOB RMSE:\", best_oob_rmse_n_estimators)\n",
    "print(\"Best OOB RMSE value:\", round(best_oob_rmse_value, 2))"
   ]
  },
  {
   "cell_type": "markdown",
   "id": "dbe3039d",
   "metadata": {},
   "source": [
    "## Bagging Hyperparameter Tuning\n",
    "\n",
    "To further improve the performance of our bagging model, we can tune key hyperparameters such as the number of base estimators (`n_estimators`), the maximum number of features considered at each split (`max_features`), and the size of each bootstrap sample (`max_samples`).  \n",
    "By systematically exploring different combinations of these parameters, we aim to find the optimal settings that enhance the model's predictive accuracy while maintaining generalizability.\n"
   ]
  },
  {
   "cell_type": "code",
   "execution_count": null,
   "id": "501b61fe",
   "metadata": {},
   "outputs": [
    {
     "name": "stdout",
     "output_type": "stream",
     "text": [
      "Best parameters: {'bootstrap': True, 'bootstrap_features': False, 'max_features': 0.75, 'max_samples': 1.0, 'n_estimators': 50}\n",
      "Best RMSE cv score: 3288.03\n",
      "Test RMSE with best Bagging model: 3348.45\n",
      "Test R^2 score with best Bagging model: 0.96\n",
      "Train RMSE with best Bagging model: 1411.13\n",
      "Train R^2 score with best Bagging model: 0.99\n"
     ]
    }
   ],
   "source": [
    "# hyperparameter tuning using GridSearchCV\n",
    "param_grid = {\n",
    "    'n_estimators': [10, 20, 30, 40, 50],\n",
    "    'max_samples': [0.5, 0.75, 1.0],\n",
    "    'max_features': [0.5, 0.75, 1.0],\n",
    "    'bootstrap': [True, False],\n",
    "    'bootstrap_features': [True, False]\n",
    "}\n",
    "\n",
    "bagging_reg_grid = BaggingRegressor(random_state=42, n_jobs=-1)\n",
    "grid_search = GridSearchCV(bagging_reg_grid, param_grid, cv=5, scoring='neg_mean_squared_error', n_jobs=-1)\n",
    "grid_search.fit(X_train_final, y_train)\n",
    "\n",
    "# get the best parameters and the best score\n",
    "best_params = grid_search.best_params_\n",
    "best_score = np.sqrt(-grid_search.best_score_)\n",
    "print(\"Best parameters:\", best_params)\n",
    "print(\"Best RMSE cv score:\", round(best_score, 2))\n",
    "\n",
    "# make predictions on the test set using the best parameters\n",
    "best_bagging_reg = grid_search.best_estimator_\n",
    "y_pred_best_bagging = best_bagging_reg.predict(X_test_final)\n",
    "\n",
    "# calculate the RMSE and R^2 score\n",
    "rmse_best_bagging = root_mean_squared_error(y_test, y_pred_best_bagging)\n",
    "r2_best_bagging = r2_score(y_test, y_pred_best_bagging)\n",
    "print(\"Test RMSE with best Bagging model:\", round(rmse_best_bagging, 2))\n",
    "print(\"Test R^2 score with best Bagging model:\", round(r2_best_bagging, 2))\n",
    "\n",
    "# training RMSE and R^2 score\n",
    "y_pred_train_best_bagging = best_bagging_reg.predict(X_train_final)\n",
    "\n",
    "# calculate the RMSE and R^2 score\n",
    "rmse_train_best_bagging = root_mean_squared_error(y_train, y_pred_train_best_bagging)\n",
    "r2_train_best_bagging = r2_score(y_train, y_pred_train_best_bagging)\n",
    "print(\"Train RMSE with best Bagging model:\", round(rmse_train_best_bagging, 2))\n",
    "print(\"Train R^2 score with best Bagging model:\", round(r2_train_best_bagging, 2))"
   ]
  },
  {
   "cell_type": "markdown",
   "id": "3824864b",
   "metadata": {},
   "source": [
    "After simultaneously tuning multiple hyperparameters of the bagging model, including `n_estimators`, `max_features`, and `max_samples`, we achieved the best performance:\n",
    "\n",
    "- **Test RMSE with best Bagging model:** 3348.45  \n",
    "- **Test R² score with best Bagging model:** 0.96\n",
    "\n",
    "This demonstrates that careful tuning of bagging-specific parameters can lead to further improvements beyond using default or even optimized single decision trees.\n"
   ]
  },
  {
   "cell_type": "markdown",
   "id": "19ab8376",
   "metadata": {},
   "source": [
    "## Bagging Doesn’t Reduce Bias\n",
    "\n",
    "Bagging is an effective ensemble method for reducing **variance**, especially when using high-variance models like deep decision trees. However, it does **not reduce bias**.\n",
    "\n",
    "To demonstrate this, we first fit a **shallow decision tree** with `max_depth=2`, which severely underfits the data due to its limited capacity. Then, we apply **bagging** using 10 such shallow trees (default setting) as base estimators.\n",
    "\n",
    "Since each tree has high bias, the aggregated predictions from bagging still inherit that bias. In our results, both the single shallow tree and the bagged version yield similar (and poor) performance in terms of RMSE and R² on both the training and test sets.\n",
    "\n",
    "This experiment shows that if your base model is too simple to capture the underlying patterns in the data, bagging will not help. To improve performance in such cases, we need to use more expressive base models or consider methods like **boosting**, which are better suited to reducing both bias and variance. "
   ]
  },
  {
   "cell_type": "code",
   "execution_count": null,
   "id": "49b8cddb",
   "metadata": {},
   "outputs": [
    {
     "name": "stdout",
     "output_type": "stream",
     "text": [
      "Single Shallow Tree - Test RMSE: 11084.97\n",
      "Single Shallow Tree - Test R^2: 0.58\n",
      "Single Shallow Tree - Train RMSE: 10314.42\n",
      "Single Shallow Tree - Train R^2: 0.6\n",
      "Bagged Shallow Trees - Test RMSE: 10894.92\n",
      "Bagged Shallow Trees - Test R^2: 0.6\n",
      "Bagged Shallow Trees - Train RMSE: 10114.07\n",
      "Bagged Shallow Trees - Train R^2: 0.62\n"
     ]
    }
   ],
   "source": [
    "# Single shallow decision tree (underfitting)\n",
    "shallow_tree = DecisionTreeRegressor(max_depth=2, random_state=1)\n",
    "shallow_tree.fit(X_train_final, y_train)\n",
    "\n",
    "# Predict and evaluate on test set\n",
    "y_pred_single = shallow_tree.predict(X_test_final)\n",
    "rmse_single = root_mean_squared_error(y_test, y_pred_single)\n",
    "r2_single = r2_score(y_test, y_pred_single)\n",
    "\n",
    "# Predict and evaluate on training set\n",
    "y_pred_train_single = shallow_tree.predict(X_train_final)\n",
    "rmse_train_single = root_mean_squared_error(y_train, y_pred_train_single)\n",
    "r2_train_single = r2_score(y_train, y_pred_train_single)\n",
    "\n",
    "print(\"Single Shallow Tree - Test RMSE:\", round(rmse_single, 2))\n",
    "print(\"Single Shallow Tree - Test R^2:\", round(r2_single, 2))\n",
    "print(\"Single Shallow Tree - Train RMSE:\", round(rmse_train_single, 2))\n",
    "print(\"Single Shallow Tree - Train R^2:\", round(r2_train_single, 2))\n",
    "\n",
    "\n",
    "# Bagging with 10 shallow trees\n",
    "bagging_shallow = BaggingRegressor(estimator=DecisionTreeRegressor(max_depth=2, random_state=1),\n",
    "                                    random_state=1,\n",
    "                                    n_jobs=-1)\n",
    "bagging_shallow.fit(X_train_final, y_train)\n",
    "\n",
    "# Predict and evaluate on test set\n",
    "y_pred_bagging = bagging_shallow.predict(X_test_final)\n",
    "rmse_bagging = root_mean_squared_error(y_test, y_pred_bagging)\n",
    "r2_bagging = r2_score(y_test, y_pred_bagging)\n",
    "\n",
    "# Predict and evaluate on training set\n",
    "y_pred_train_bagging = bagging_shallow.predict(X_train_final)\n",
    "rmse_train_bagging = root_mean_squared_error(y_train, y_pred_train_bagging)\n",
    "r2_train_bagging = r2_score(y_train, y_pred_train_bagging)\n",
    "\n",
    "print(\"Bagged Shallow Trees - Test RMSE:\", round(rmse_bagging, 2))\n",
    "print(\"Bagged Shallow Trees - Test R^2:\", round(r2_bagging, 2))\n",
    "print(\"Bagged Shallow Trees - Train RMSE:\", round(rmse_train_bagging, 2))\n",
    "print(\"Bagged Shallow Trees - Train R^2:\", round(r2_train_bagging, 2))"
   ]
  },
  {
   "cell_type": "markdown",
   "id": "aad70eef",
   "metadata": {},
   "source": [
    "✅ What you should observe:\n",
    "\n",
    "* Both models will likely have low R² and high RMSE.\n",
    "\n",
    "* Bagging may slightly reduce variance (narrower spread) but won’t fix the high bias from using a shallow model."
   ]
  },
  {
   "cell_type": "markdown",
   "id": "bec1608d",
   "metadata": {},
   "source": [
    "## Bagging classification trees\n",
    "\n",
    "Let's revisit the same dataset used for building a single classification tree.  \n",
    "When using the default settings, the tree tends to **overfit** the data, as shown [here](https://lizhen0909.github.io/STAT303-3-class-notes/Classification%20_Tree.html#building-a-classification-tree).\n",
    "\n",
    "In that notebook, we addressed the overfitting issue using both **pre-pruning** and **post-pruning** techniques.  \n",
    "Now, we'll explore an alternative approach—**bagging**—to reduce overfitting and improve model performance."
   ]
  },
  {
   "cell_type": "code",
   "execution_count": 21,
   "id": "de6e7881",
   "metadata": {},
   "outputs": [
    {
     "name": "stdout",
     "output_type": "stream",
     "text": [
      "(303, 14)\n"
     ]
    },
    {
     "data": {
      "text/html": [
       "<div>\n",
       "<style scoped>\n",
       "    .dataframe tbody tr th:only-of-type {\n",
       "        vertical-align: middle;\n",
       "    }\n",
       "\n",
       "    .dataframe tbody tr th {\n",
       "        vertical-align: top;\n",
       "    }\n",
       "\n",
       "    .dataframe thead th {\n",
       "        text-align: right;\n",
       "    }\n",
       "</style>\n",
       "<table border=\"1\" class=\"dataframe\">\n",
       "  <thead>\n",
       "    <tr style=\"text-align: right;\">\n",
       "      <th></th>\n",
       "      <th>age</th>\n",
       "      <th>sex</th>\n",
       "      <th>cp</th>\n",
       "      <th>trestbps</th>\n",
       "      <th>chol</th>\n",
       "      <th>fbs</th>\n",
       "      <th>restecg</th>\n",
       "      <th>thalach</th>\n",
       "      <th>exang</th>\n",
       "      <th>oldpeak</th>\n",
       "      <th>slope</th>\n",
       "      <th>ca</th>\n",
       "      <th>thal</th>\n",
       "      <th>target</th>\n",
       "    </tr>\n",
       "  </thead>\n",
       "  <tbody>\n",
       "    <tr>\n",
       "      <th>0</th>\n",
       "      <td>63</td>\n",
       "      <td>1</td>\n",
       "      <td>3</td>\n",
       "      <td>145</td>\n",
       "      <td>233</td>\n",
       "      <td>1</td>\n",
       "      <td>0</td>\n",
       "      <td>150</td>\n",
       "      <td>0</td>\n",
       "      <td>2.3</td>\n",
       "      <td>0</td>\n",
       "      <td>0</td>\n",
       "      <td>1</td>\n",
       "      <td>1</td>\n",
       "    </tr>\n",
       "    <tr>\n",
       "      <th>1</th>\n",
       "      <td>37</td>\n",
       "      <td>1</td>\n",
       "      <td>2</td>\n",
       "      <td>130</td>\n",
       "      <td>250</td>\n",
       "      <td>0</td>\n",
       "      <td>1</td>\n",
       "      <td>187</td>\n",
       "      <td>0</td>\n",
       "      <td>3.5</td>\n",
       "      <td>0</td>\n",
       "      <td>0</td>\n",
       "      <td>2</td>\n",
       "      <td>1</td>\n",
       "    </tr>\n",
       "    <tr>\n",
       "      <th>2</th>\n",
       "      <td>41</td>\n",
       "      <td>0</td>\n",
       "      <td>1</td>\n",
       "      <td>130</td>\n",
       "      <td>204</td>\n",
       "      <td>0</td>\n",
       "      <td>0</td>\n",
       "      <td>172</td>\n",
       "      <td>0</td>\n",
       "      <td>1.4</td>\n",
       "      <td>2</td>\n",
       "      <td>0</td>\n",
       "      <td>2</td>\n",
       "      <td>1</td>\n",
       "    </tr>\n",
       "    <tr>\n",
       "      <th>3</th>\n",
       "      <td>56</td>\n",
       "      <td>1</td>\n",
       "      <td>1</td>\n",
       "      <td>120</td>\n",
       "      <td>236</td>\n",
       "      <td>0</td>\n",
       "      <td>1</td>\n",
       "      <td>178</td>\n",
       "      <td>0</td>\n",
       "      <td>0.8</td>\n",
       "      <td>2</td>\n",
       "      <td>0</td>\n",
       "      <td>2</td>\n",
       "      <td>1</td>\n",
       "    </tr>\n",
       "    <tr>\n",
       "      <th>4</th>\n",
       "      <td>57</td>\n",
       "      <td>0</td>\n",
       "      <td>0</td>\n",
       "      <td>120</td>\n",
       "      <td>354</td>\n",
       "      <td>0</td>\n",
       "      <td>1</td>\n",
       "      <td>163</td>\n",
       "      <td>1</td>\n",
       "      <td>0.6</td>\n",
       "      <td>2</td>\n",
       "      <td>0</td>\n",
       "      <td>2</td>\n",
       "      <td>1</td>\n",
       "    </tr>\n",
       "  </tbody>\n",
       "</table>\n",
       "</div>"
      ],
      "text/plain": [
       "   age  sex  cp  trestbps  chol  fbs  restecg  thalach  exang  oldpeak  slope  \\\n",
       "0   63    1   3       145   233    1        0      150      0      2.3      0   \n",
       "1   37    1   2       130   250    0        1      187      0      3.5      0   \n",
       "2   41    0   1       130   204    0        0      172      0      1.4      2   \n",
       "3   56    1   1       120   236    0        1      178      0      0.8      2   \n",
       "4   57    0   0       120   354    0        1      163      1      0.6      2   \n",
       "\n",
       "   ca  thal  target  \n",
       "0   0     1       1  \n",
       "1   0     2       1  \n",
       "2   0     2       1  \n",
       "3   0     2       1  \n",
       "4   0     2       1  "
      ]
     },
     "execution_count": 21,
     "metadata": {},
     "output_type": "execute_result"
    }
   ],
   "source": [
    "# load the dataset\n",
    "heart_df  = pd.read_csv('datasets/heart_disease_classification.csv')\n",
    "print(heart_df .shape)\n",
    "heart_df .head()"
   ]
  },
  {
   "cell_type": "code",
   "execution_count": 22,
   "id": "810784fe",
   "metadata": {},
   "outputs": [],
   "source": [
    "# split the x and y data\n",
    "X_cls = heart_df.drop(columns=['target'])\n",
    "y_cls = heart_df.target\n",
    "\n",
    "# split the data into train and test sets, add _cls to the variable names\n",
    "X_train_cls, X_test_cls, y_train_cls, y_test_cls = train_test_split(X_cls, y_cls, test_size=0.2, random_state=42)\n"
   ]
  },
  {
   "cell_type": "code",
   "execution_count": null,
   "id": "4b6439ef",
   "metadata": {},
   "outputs": [
    {
     "name": "stdout",
     "output_type": "stream",
     "text": [
      "Train Accuracy is  100.0\n",
      "Test Accuracy is  85.24590163934425\n"
     ]
    }
   ],
   "source": [
    "# using tree bagging to fit the data\n",
    "\n",
    "bagging = BaggingClassifier(DecisionTreeClassifier(), n_estimators=100, random_state=0)\n",
    "bagging.fit(X_train_cls, y_train_cls)\n",
    "\n",
    "y_pred_train_cls = bagging.predict(X_train_cls)\n",
    "y_pred_cls = bagging.predict(X_test_cls)\n",
    "\n",
    "\n",
    "#print out the accuracy on test set and training set\n",
    "print(\"Train Accuracy is \", accuracy_score(y_train_cls,y_pred_train_cls)*100)\n",
    "print(\"Test Accuracy is \", accuracy_score(y_test_cls,y_pred_cls)*100)"
   ]
  }
 ],
 "metadata": {
  "kernelspec": {
   "display_name": "base",
   "language": "python",
   "name": "python3"
  },
  "language_info": {
   "codemirror_mode": {
    "name": "ipython",
    "version": 3
   },
   "file_extension": ".py",
   "mimetype": "text/x-python",
   "name": "python",
   "nbconvert_exporter": "python",
   "pygments_lexer": "ipython3",
   "version": "3.12.4"
  }
 },
 "nbformat": 4,
 "nbformat_minor": 5
}
