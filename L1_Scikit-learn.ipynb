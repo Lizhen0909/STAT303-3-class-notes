{
 "cells": [
  {
   "cell_type": "raw",
   "id": "577166cb",
   "metadata": {},
   "source": [
    "---\n",
    "title: \"Introduction to scikit-learn\"\n",
    "format: \n",
    "  html:\n",
    "    code-fold: false\n",
    "    toc-depth: 4\n",
    "    jupyter: python3\n",
    "---"
   ]
  },
  {
   "cell_type": "markdown",
   "id": "9b6cf4f1",
   "metadata": {},
   "source": [
    "In this chapter, we'll learn some functions from the library `sklearn` that will be useful in:\n",
    "\n",
    "1. Splitting the data into `train` and `test`\n",
    "\n",
    "2. Scaling data\n",
    "\n",
    "3. Fitting a model\n",
    "\n",
    "4. Computing model performance metrics\n",
    "\n",
    "4. Tuning model hyperparameters* to optimize the desired performance metric\n",
    "\n",
    "\\**In machine learning, a model hyperparameter is a parameter that cannot be learned from training data and must be set before training the model. Hyperparameters control aspects of the model's behavior and can greatly impact its performance. For example, the regularization parameter $\\lambda$, in linear regression is a hyperparameter. You need to specify it before fitting the model. On the other hand, the beta coefficients in linear regression are parameters, as you learn them while training the model, and don't need to specify their values beforehand.*\n",
    "\n",
    "\n",
    "We'll use a classfication problem to illustrate the functions. However, similar functions can be used for regression problems, i.e., prediction problems with a continuous response."
   ]
  },
  {
   "cell_type": "code",
   "execution_count": 296,
   "id": "bdb5a335",
   "metadata": {},
   "outputs": [],
   "source": [
    "# Importing necessary libraries\n",
    "import pandas as pd\n",
    "import numpy as np\n",
    "import matplotlib.pyplot as plt\n",
    "import seaborn as sns\n",
    "sns.set(font_scale=1.35)"
   ]
  },
  {
   "cell_type": "markdown",
   "id": "a140a379",
   "metadata": {},
   "source": [
    "Let us import the `sklearn` modules useful in developing statistical models."
   ]
  },
  {
   "cell_type": "code",
   "execution_count": 263,
   "id": "b3ebb681",
   "metadata": {},
   "outputs": [],
   "source": [
    "# sklearn has 100s of models - grouped in sublibraries, such as linear_model\n",
    "from sklearn.linear_model import LogisticRegression, LinearRegression\n",
    "\n",
    "# sklearn also has many tools for cleaning/processing data, also grouped in sublibraries\n",
    "# splitting one dataset into train and test\n",
    "from sklearn.model_selection import train_test_split \n",
    "\n",
    "#sklearn module for scaling data\n",
    "from sklearn.preprocessing import StandardScaler\n",
    "\n",
    "#sklearn modules for comuting the performance metrics\n",
    "from sklearn.metrics import accuracy_score, mean_absolute_error, mean_squared_error, r2_score, \\\n",
    "roc_curve, auc, precision_score, recall_score, confusion_matrix"
   ]
  },
  {
   "cell_type": "code",
   "execution_count": 29,
   "id": "c1312e1a",
   "metadata": {},
   "outputs": [],
   "source": [
    "#Reading data\n",
    "data = pd.read_csv('./Datasets/diabetes.csv')"
   ]
  },
  {
   "cell_type": "markdown",
   "id": "7ed0c385",
   "metadata": {},
   "source": [
    "Scikit-learn doesn't support the formula-like syntax of specifying the response and the predictors as in the `statsmodels` library. We need to create separate objects for predictors and response, which should be *array-like*. A Pandas DataFrame / Series or a Numpy array are *array-like* objects."
   ]
  },
  {
   "cell_type": "markdown",
   "id": "1f23a2f1",
   "metadata": {},
   "source": [
    "Let us reference our predictors as object `X`, and the response as object `y`."
   ]
  },
  {
   "cell_type": "code",
   "execution_count": 56,
   "id": "54976ef7",
   "metadata": {},
   "outputs": [],
   "source": [
    "# Separating the predictors and response - THIS IS HOW ALL SKLEARN OBJECTS ACCEPT DATA (different from statsmodels)\n",
    "y = data.Outcome\n",
    "X = data.drop(\"Outcome\", axis = 1)"
   ]
  },
  {
   "cell_type": "markdown",
   "id": "92eb734f",
   "metadata": {},
   "source": [
    "## Splitting data into `train` and `test`"
   ]
  },
  {
   "cell_type": "markdown",
   "id": "80c286fd",
   "metadata": {},
   "source": [
    "Let us create train and test datasets for developing a model to predict if a person has diabetes."
   ]
  },
  {
   "cell_type": "code",
   "execution_count": 235,
   "id": "37f52dd1",
   "metadata": {},
   "outputs": [],
   "source": [
    "# Creating training and test data\n",
    "    # 80-20 split, which is usual - 70-30 split is also fine, 90-10 is fine if the dataset is large\n",
    "    # random_state to set a random seed for the splitting - reproducible results\n",
    "X_train, X_test, y_train, y_test = train_test_split(X, y, test_size = 0.2, random_state = 45)"
   ]
  },
  {
   "cell_type": "markdown",
   "id": "6069e810",
   "metadata": {},
   "source": [
    "Let us find the proportion of classes (*'having diabetes' ($y = 1$) or 'not having diabetes' ($y = 0$)*) in the complete dataset."
   ]
  },
  {
   "cell_type": "code",
   "execution_count": 25,
   "id": "7cd96abd",
   "metadata": {},
   "outputs": [
    {
     "data": {
      "text/plain": [
       "0    0.651042\n",
       "1    0.348958\n",
       "Name: Outcome, dtype: float64"
      ]
     },
     "execution_count": 25,
     "metadata": {},
     "output_type": "execute_result"
    }
   ],
   "source": [
    "#Proportion of 0s and 1s in the complete data\n",
    "y.value_counts()/y.shape"
   ]
  },
  {
   "cell_type": "markdown",
   "id": "7f04cead",
   "metadata": {},
   "source": [
    "Let us find the proportion of classes (*'having diabetes' ($y = 1$) or 'not having diabetes' ($y = 0$)*) in the train dataset."
   ]
  },
  {
   "cell_type": "code",
   "execution_count": 16,
   "id": "d4af748b",
   "metadata": {},
   "outputs": [
    {
     "data": {
      "text/plain": [
       "0    0.644951\n",
       "1    0.355049\n",
       "Name: Outcome, dtype: float64"
      ]
     },
     "execution_count": 16,
     "metadata": {},
     "output_type": "execute_result"
    }
   ],
   "source": [
    "#Proportion of 0s and 1s in train data\n",
    "y_train.value_counts()/y_train.shape"
   ]
  },
  {
   "cell_type": "code",
   "execution_count": 225,
   "id": "0afa1067",
   "metadata": {},
   "outputs": [
    {
     "data": {
      "text/plain": [
       "0    0.675325\n",
       "1    0.324675\n",
       "Name: Outcome, dtype: float64"
      ]
     },
     "execution_count": 225,
     "metadata": {},
     "output_type": "execute_result"
    }
   ],
   "source": [
    "#Proportion of 0s and 1s in test data\n",
    "y_test.value_counts()/y_test.shape"
   ]
  },
  {
   "cell_type": "markdown",
   "id": "c0e7a56f",
   "metadata": {},
   "source": [
    "We observe that the proportion of 0s and 1s in the `train` and `test` dataset are slightly different from that in the complete `data`. In order for these datasets to be more representative of the population, they should have a proportion of 0s and 1s similar to that in the complete dataset. This is especially critical in case of imbalanced datasets, where one class is represented by a significantly smaller number of instances than the other(s).\n",
    "\n",
    "When training a classification model on an imbalanced dataset, the model might not learn enough about the minority class, which can lead to poor generalization performance on new data. This happens because the model is biased towards the majority class, and it might even predict all instances as belonging to the majority class."
   ]
  },
  {
   "cell_type": "markdown",
   "id": "d7621a5e",
   "metadata": {},
   "source": [
    "### Stratified splitting"
   ]
  },
  {
   "cell_type": "markdown",
   "id": "3272b7be",
   "metadata": {},
   "source": [
    "We will use the argument `stratify` to obtain a proportion of 0s and 1s in the `train` and `test` datasets that is similar to the proportion in the complete `data."
   ]
  },
  {
   "cell_type": "code",
   "execution_count": 257,
   "id": "88282768",
   "metadata": {},
   "outputs": [],
   "source": [
    "#Stratified train-test split\n",
    "X_train_stratified, X_test_stratified, y_train_stratified,\\\n",
    "y_test_stratified = train_test_split(X, y, test_size = 0.2, random_state = 45, stratify=y)"
   ]
  },
  {
   "cell_type": "code",
   "execution_count": 223,
   "id": "e71841f4",
   "metadata": {},
   "outputs": [
    {
     "data": {
      "text/plain": [
       "0    0.651466\n",
       "1    0.348534\n",
       "Name: Outcome, dtype: float64"
      ]
     },
     "execution_count": 223,
     "metadata": {},
     "output_type": "execute_result"
    }
   ],
   "source": [
    "#Proportion of 0s and 1s in train data with stratified split\n",
    "y_train_stratified.value_counts()/y_train.shape"
   ]
  },
  {
   "cell_type": "code",
   "execution_count": 224,
   "id": "292b8b95",
   "metadata": {},
   "outputs": [
    {
     "data": {
      "text/plain": [
       "0    0.649351\n",
       "1    0.350649\n",
       "Name: Outcome, dtype: float64"
      ]
     },
     "execution_count": 224,
     "metadata": {},
     "output_type": "execute_result"
    }
   ],
   "source": [
    "#Proportion of 0s and 1s in test data with stratified split\n",
    "y_test_stratified.value_counts()/y_test.shape"
   ]
  },
  {
   "cell_type": "markdown",
   "id": "6e00c3c9",
   "metadata": {},
   "source": [
    "The proportion of the classes in the stratified split mimics the proportion in the complete dataset more closely."
   ]
  },
  {
   "cell_type": "markdown",
   "id": "b2498f6b",
   "metadata": {},
   "source": [
    "By using stratified splitting, we ensure that both the `train` and `test` data sets have the same proportion of instances from each class, which means that the model will see enough instances from the minority class during training. This, in turn, helps the model learn to distinguish between the classes better, leading to better performance on new data.\n",
    "\n",
    "Thus, stratified splitting helps to ensure that the model sees enough instances from each class during training, which can improve the model's ability to generalize to new data, particularly in cases where one class is underrepresented in the dataset."
   ]
  },
  {
   "cell_type": "markdown",
   "id": "385f8602",
   "metadata": {},
   "source": [
    "Let us develop a logistic regression model for predicting if a person has diabetes."
   ]
  },
  {
   "cell_type": "markdown",
   "id": "c5f99ee0",
   "metadata": {},
   "source": [
    "## Scaling data"
   ]
  },
  {
   "cell_type": "markdown",
   "id": "cb84626c",
   "metadata": {},
   "source": [
    "In certain models, it may be important to scale data for various reasons. In a logistic regression model, scaling can help with model convergence. Scikit-learn uses a method known as gradient-descent *(not in scope of the syllabus of this course)* to obtain a solution. In case the predictors have different orders of magnitude, the alogrithm may fail to converge. In such cases, it is useful to standaridize the predictors so that all of them are at the same scale."
   ]
  },
  {
   "cell_type": "code",
   "execution_count": 236,
   "id": "608e8269",
   "metadata": {},
   "outputs": [],
   "source": [
    "# With linear/logistic regression in scikit-learn, especially when the predictors have different orders \n",
    "# of magn., scaling is necessary. This is to enable the training algo. which we did not cover. (Gradient Descent)\n",
    "scaler = StandardScaler().fit(X_train)\n",
    "X_train_scaled = scaler.transform(X_train)\n",
    "X_test_scaled = scaler.transform(X_test) # Do NOT refit the scaler with the test data, just transform it."
   ]
  },
  {
   "cell_type": "markdown",
   "id": "5bfd5718",
   "metadata": {},
   "source": [
    "## Fitting a model"
   ]
  },
  {
   "cell_type": "markdown",
   "id": "c7f62a15",
   "metadata": {},
   "source": [
    "Let us fit a logistic regression model for predicting if a person has diabetes. Let us try fitting a model with the un-scaled data."
   ]
  },
  {
   "cell_type": "code",
   "execution_count": 237,
   "id": "33a0c14f",
   "metadata": {},
   "outputs": [
    {
     "name": "stderr",
     "output_type": "stream",
     "text": [
      "C:\\Users\\akl0407\\Anaconda3\\lib\\site-packages\\sklearn\\linear_model\\_logistic.py:763: ConvergenceWarning: lbfgs failed to converge (status=1):\n",
      "STOP: TOTAL NO. of ITERATIONS REACHED LIMIT.\n",
      "\n",
      "Increase the number of iterations (max_iter) or scale the data as shown in:\n",
      "    https://scikit-learn.org/stable/modules/preprocessing.html\n",
      "Please also refer to the documentation for alternative solver options:\n",
      "    https://scikit-learn.org/stable/modules/linear_model.html#logistic-regression\n",
      "  n_iter_i = _check_optimize_result(\n"
     ]
    },
    {
     "data": {
      "text/plain": [
       "LogisticRegression()"
      ]
     },
     "execution_count": 237,
     "metadata": {},
     "output_type": "execute_result"
    }
   ],
   "source": [
    "# Create a model object - not trained yet\n",
    "logreg = LogisticRegression()\n",
    "\n",
    "# Train the model\n",
    "logreg.fit(X_train, y_train)"
   ]
  },
  {
   "cell_type": "markdown",
   "id": "e5f2a761",
   "metadata": {},
   "source": [
    "Note that the model with the un-scaled predictors fails to converge. Check out the data `X_train` to see that this may be probably due to the predictors have different orders of magnitude. For example, the predictor `DiabetesPedigreeFunction` has values in \\[0.078, 2.42\\], while the predictor `Insulin` has values in \\[0, 800\\]."
   ]
  },
  {
   "cell_type": "markdown",
   "id": "a80d8ac4",
   "metadata": {},
   "source": [
    "Let us fit the model to the scaled data."
   ]
  },
  {
   "cell_type": "code",
   "execution_count": 265,
   "id": "2009fdf1",
   "metadata": {},
   "outputs": [
    {
     "data": {
      "text/plain": [
       "LogisticRegression()"
      ]
     },
     "execution_count": 265,
     "metadata": {},
     "output_type": "execute_result"
    }
   ],
   "source": [
    "# Create a model - not trained yet\n",
    "logreg = LogisticRegression()\n",
    "\n",
    "# Train the model\n",
    "logreg.fit(X_train_scaled, y_train)"
   ]
  },
  {
   "cell_type": "markdown",
   "id": "e944b4c2",
   "metadata": {},
   "source": [
    "The model converges to a solution with the scaled data!"
   ]
  },
  {
   "cell_type": "markdown",
   "id": "183e7142",
   "metadata": {},
   "source": [
    "The coefficients of the model can be returned with the `coef_` attribute of the `LogisticRegression()` object. However, the output is not as well formatted as in the case of the `statsmodels` library since `sklearn` is developed primarily for the purpose of prediction, and not inference."
   ]
  },
  {
   "cell_type": "code",
   "execution_count": 266,
   "id": "01b596d1",
   "metadata": {},
   "outputs": [
    {
     "name": "stdout",
     "output_type": "stream",
     "text": [
      "[[ 0.32572891  1.20110566 -0.32046591  0.06849882 -0.21727131  0.72619528\n",
      "   0.40088897  0.29698818]]\n"
     ]
    }
   ],
   "source": [
    "# Use coef_ to return the coefficients - only log reg inference you can do with sklearn\n",
    "print(logreg.coef_) "
   ]
  },
  {
   "cell_type": "markdown",
   "id": "d1bbd29b",
   "metadata": {},
   "source": [
    "## Computing performance metrics"
   ]
  },
  {
   "cell_type": "markdown",
   "id": "ee602021",
   "metadata": {},
   "source": [
    "Let us test the model prediction accuracy on the test data. We'll demonstrate two different functions that can be used to compute model accuracy - `accurace_score()`, and `score()`.\n",
    "\n",
    "The `accuracy_score()` function from the `metrics` module of the `sklearn` library is general, and can be used for any classification model."
   ]
  },
  {
   "cell_type": "code",
   "execution_count": 268,
   "id": "1c320d27",
   "metadata": {},
   "outputs": [
    {
     "name": "stdout",
     "output_type": "stream",
     "text": [
      "73.37662337662337\n"
     ]
    }
   ],
   "source": [
    "# Get the predicted classes first\n",
    "y_pred = logreg.predict(X_test_scaled)\n",
    "\n",
    "# Use the predicted and true classes for accuracy\n",
    "print(accuracy_score(y_pred, y_test)*100) "
   ]
  },
  {
   "cell_type": "markdown",
   "id": "c32f92b4",
   "metadata": {},
   "source": [
    "The `score()` method of the `LogisticRegression()` object can be used to compute the accuracy only for a logistic regression model. Note that for a `LinearRegression()` object, the `score()` method will return the model $R$-squared."
   ]
  },
  {
   "cell_type": "code",
   "execution_count": 247,
   "id": "fac6e6d0",
   "metadata": {},
   "outputs": [
    {
     "name": "stdout",
     "output_type": "stream",
     "text": [
      "73.37662337662337\n"
     ]
    }
   ],
   "source": [
    "# Use .score with test predictors and response to get the accuracy\n",
    "# Implements the same thing under the hood\n",
    "print(logreg.score(X_test_scaled, y_test)*100)  "
   ]
  },
  {
   "cell_type": "markdown",
   "id": "db66c8b7",
   "metadata": {},
   "source": [
    "The `roc_curve()` and `auc()` functions from the `metrics` module of the `sklearn` library can be used to compute the ROC-AUC, or the area under the ROC curve."
   ]
  },
  {
   "cell_type": "code",
   "execution_count": 250,
   "id": "26b4d9d4",
   "metadata": {},
   "outputs": [
    {
     "name": "stdout",
     "output_type": "stream",
     "text": [
      "0.6782692307692307\n"
     ]
    }
   ],
   "source": [
    "fpr, tpr, auc_thresholds = roc_curve(y_test, y_pred)\n",
    "print(auc(fpr, tpr))# AUC of ROC"
   ]
  },
  {
   "cell_type": "markdown",
   "id": "3dfd5e8e",
   "metadata": {},
   "source": [
    "The `confusion_matrix()`, `precision_score()`, and `recall_score()` functions from the `metrics` module of the `sklearn` library can be used to compute the confusion matrix, precision, and recall respectively."
   ]
  },
  {
   "cell_type": "code",
   "execution_count": 300,
   "id": "dd2353e9",
   "metadata": {},
   "outputs": [
    {
     "data": {
      "image/png": "[encoded data removed]",
      "text/plain": [
       "<Figure size 432x288 with 2 Axes>"
      ]
     },
     "metadata": {},
     "output_type": "display_data"
    }
   ],
   "source": [
    "#Confusion matrix\n",
    "cm = pd.DataFrame(confusion_matrix(y_test, y_pred), columns=['Predicted 0', 'Predicted 1'], \n",
    "            index = ['Actual 0', 'Actual 1'])\n",
    "sns.heatmap(cm, annot=True, cmap='Blues', fmt='g');"
   ]
  },
  {
   "cell_type": "code",
   "execution_count": 301,
   "id": "2388d87a",
   "metadata": {},
   "outputs": [
    {
     "name": "stdout",
     "output_type": "stream",
     "text": [
      "Precision:  0.6046511627906976\n",
      "Recall:  0.52\n"
     ]
    }
   ],
   "source": [
    "print(\"Precision: \", precision_score(y_test, y_pred))\n",
    "print(\"Recall: \", recall_score(y_test, y_pred))"
   ]
  },
  {
   "cell_type": "markdown",
   "id": "1a747431",
   "metadata": {},
   "source": [
    "Let us compute the performance metrics if we develop the model using stratified splitting."
   ]
  },
  {
   "cell_type": "code",
   "execution_count": 303,
   "id": "2ce44cc1",
   "metadata": {},
   "outputs": [
    {
     "name": "stdout",
     "output_type": "stream",
     "text": [
      "Accuracy:  78.57142857142857\n",
      "ROC-AUC:  0.7327777777777779\n",
      "Precision:  0.7692307692307693\n",
      "Recall:  0.5555555555555556\n"
     ]
    },
    {
     "data": {
      "image/png": "[encoded data removed]",
      "text/plain": [
       "<Figure size 432x288 with 2 Axes>"
      ]
     },
     "metadata": {},
     "output_type": "display_data"
    }
   ],
   "source": [
    "# Developing the model with stratified splitting\n",
    "\n",
    "#Scaling data\n",
    "scaler = StandardScaler().fit(X_train_stratified)\n",
    "X_train_stratified_scaled = scaler.transform(X_train_stratified)\n",
    "X_test_stratified_scaled = scaler.transform(X_test_stratified) \n",
    "\n",
    "# Training the model\n",
    "logreg.fit(X_train_stratified_scaled, y_train_stratified)\n",
    "\n",
    "#Computing the accuracy\n",
    "y_pred_stratified = logreg.predict(X_test_stratified_scaled)\n",
    "print(\"Accuracy: \",accuracy_score(y_pred_stratified, y_test_stratified)*100)  \n",
    "\n",
    "#Computing the ROC-AUC\n",
    "fpr, tpr, auc_thresholds = roc_curve(y_test_stratified, y_pred_stratified)\n",
    "print(\"ROC-AUC: \",auc(fpr, tpr))# AUC of ROC\n",
    "\n",
    "#Computing the precision and recall\n",
    "print(\"Precision: \", precision_score(y_test_stratified, y_pred_stratified))\n",
    "print(\"Recall: \", recall_score(y_test_stratified, y_pred_stratified))\n",
    "\n",
    "#Confusion matrix\n",
    "cm = pd.DataFrame(confusion_matrix(y_test_stratified, y_pred_stratified), columns=['Predicted 0', 'Predicted 1'], \n",
    "            index = ['Actual 0', 'Actual 1'])\n",
    "sns.heatmap(cm, annot=True, cmap='Blues', fmt='g');"
   ]
  },
  {
   "cell_type": "markdown",
   "id": "21d9e639",
   "metadata": {},
   "source": [
    "The model with the stratified train-test split has a better performance as compared to the other model on all the performance metrics!"
   ]
  },
  {
   "cell_type": "markdown",
   "id": "ff2c375f",
   "metadata": {},
   "source": [
    "## Tuning the model hyperparameters"
   ]
  },
  {
   "cell_type": "code",
   "execution_count": 12,
   "id": "35b92389",
   "metadata": {},
   "outputs": [
    {
     "name": "stdout",
     "output_type": "stream",
     "text": [
      "[[78 26]\n",
      " [15 35]]\n",
      "0.5737704918032787\n",
      "0.7\n"
     ]
    }
   ],
   "source": [
    "# More details on the LogisticRegression model:\n",
    "    # Inputs - for regularization and \n",
    "    # prediction prob.s instead of classes - so we can change the thresholds\n",
    "    \n",
    "# .predict_proba returns the prob.s for both classes\n",
    "    # Two cols for two classes\n",
    "    # Apply your threshold to y_pred_probs[1] (second col)\n",
    "y_pred_probs = logreg.predict_proba(X_test)    \n",
    "\n",
    "cutoff = 0.3\n",
    "\n",
    "y_pred2 = y_pred_probs[:,1] > cutoff\n",
    "y_pred2 = y_pred2.astype(int)\n",
    "\n",
    "print(confusion_matrix(y_test, y_pred2))\n",
    "print(precision_score(y_test, y_pred2))\n",
    "print(recall_score(y_test, y_pred2))\n"
   ]
  },
  {
   "cell_type": "code",
   "execution_count": 13,
   "id": "2ab2d2b5",
   "metadata": {},
   "outputs": [
    {
     "name": "stdout",
     "output_type": "stream",
     "text": [
      "73.37662337662337\n"
     ]
    }
   ],
   "source": [
    "# Throughout the course, we will create many different models in sklearn, all of them will have\n",
    "    # .fit\n",
    "    # .predict\n",
    "    # .score\n",
    "    # .predict_proba\n",
    "# methods, among others that are specific to them. Make sure how to use there 4 basic ones.\n",
    "\n",
    "# Let's take a look at the documentation - always do this for the other models we will see\n",
    "# Log Reg model has default regularization\n",
    "    # Default (regularization) penalty is \"l2\" - this means Ridge \n",
    "    # C is 1/lambda - remember that lambda is the hyperparameter that is multiplied with the ridge penalty\n",
    "        # C is 1 by default\n",
    "        \n",
    "# Let's take away the regularization\n",
    "logreg2 = LogisticRegression(C=1e10)\n",
    "logreg2.fit(X_train, y_train)\n",
    "y_pred = logreg2.predict(X_test) # Get the predicted classes first\n",
    "print(accuracy_score(y_pred, y_test)*100)"
   ]
  },
  {
   "cell_type": "code",
   "execution_count": 14,
   "id": "057a53b5",
   "metadata": {},
   "outputs": [
    {
     "name": "stdout",
     "output_type": "stream",
     "text": [
      "67.53246753246754\n"
     ]
    }
   ],
   "source": [
    "# Test accuracy stayed the same - reg was not very necessary\n",
    "\n",
    "# Too much reg\n",
    "logreg2 = LogisticRegression(C=1e-10)\n",
    "logreg2.fit(X_train, y_train)\n",
    "y_pred = logreg2.predict(X_test) # Get the predicted classes first\n",
    "print(accuracy_score(y_pred, y_test)*100)\n",
    "\n",
    "# Test accuracy is even lower - too much reg caused underfitting\n"
   ]
  },
  {
   "cell_type": "code",
   "execution_count": 16,
   "id": "1fea0c5e",
   "metadata": {},
   "outputs": [
    {
     "data": {
      "image/png": "[encoded data removed]",
      "text/plain": [
       "<Figure size 432x288 with 1 Axes>"
      ]
     },
     "metadata": {
      "needs_background": "light"
     },
     "output_type": "display_data"
    }
   ],
   "source": [
    "# The key to take full advantage of sklearn models is their inputs\n",
    "    # Always read the doc\n",
    "    # In Log Reg, you can switch to Lasso with penalty = 'l1' - for variable selection\n",
    "    # For no regression, besides what we did above, you can use penalty = None\n",
    "    \n",
    "# Recall that C, or lambda, is a hyperparameter, which is optimized with cross-validation\n",
    "    # There is LogisticRegressionCV, just like LassoCV and RidgeCV\n",
    "    # Works the exact same way - check LassoCV and RidgeCV notes\n",
    "    \n",
    "# For all the sklearn models we will create in this course, there will be hyperparameters.\n",
    "    # Mostly more than one for each model\n",
    "    # These hyperparameters will determine how much regularization the model will have\n",
    "    # These models will not have a CV version\n",
    "    # So, we need to use two sklearn tools that implement cross-validation\n",
    "        # cross_val_score - now\n",
    "        # GridSearchCV - later when we get to trees and tree-based models\n",
    "\n",
    "from sklearn.model_selection import cross_val_score\n",
    "\n",
    "val_scores = []\n",
    "\n",
    "hyperparam_vals = 10**np.linspace(-5, 10)\n",
    "\n",
    "for c_val in hyperparam_vals: # For each possible C value in your grid\n",
    "    logreg_model = LogisticRegression(C=c_val) # Create a model with the C value\n",
    "    \n",
    "    val_scores.append(cross_val_score(logreg_model, X_train, y_train, scoring='accuracy', cv=5)) # Find the cv results\n",
    "    \n",
    "    \n",
    "import matplotlib.pyplot as plt\n",
    "\n",
    "plt.plot(hyperparam_vals, np.mean(np.array(val_scores), axis=1))\n",
    "plt.xlabel('possible C value')\n",
    "plt.ylabel('avg 5-fold CV value')\n",
    "plt.xscale('log')\n",
    "plt.show()\n",
    "\n",
    "\n",
    "# Train the best model with the hyperparam val that returns the highest average accuracy\n",
    "logreg_model_best = LogisticRegression(C=hyperparam_vals[np.argmax(np.mean(np.array(val_scores), axis=1))])\n",
    "\n",
    "# .fit\n",
    "# .predict & .predict_proba\n",
    "# .score\n",
    "# ...\n",
    "\n",
    "# Log. reg. has one hyperparameter - C.\n",
    "# More complex models will have more\n",
    "# If we have two hyperparams - we can use a nested loop and cross_val_score\n",
    "    # or we can use GridSearchCV - more on that when we get to trees and tree-based models. "
   ]
  }
 ],
 "metadata": {
  "kernelspec": {
   "display_name": "Python 3",
   "language": "python",
   "name": "python3"
  },
  "language_info": {
   "codemirror_mode": {
    "name": "ipython",
    "version": 3
   },
   "file_extension": ".py",
   "mimetype": "text/x-python",
   "name": "python",
   "nbconvert_exporter": "python",
   "pygments_lexer": "ipython3",
   "version": "3.8.8"
  }
 },
 "nbformat": 4,
 "nbformat_minor": 5
}
