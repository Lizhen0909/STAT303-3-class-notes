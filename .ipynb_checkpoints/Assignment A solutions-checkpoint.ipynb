{
 "cells": [
  {
   "cell_type": "raw",
   "id": "2d08f12d",
   "metadata": {},
   "source": [
    "---\n",
    "title: \"Assignment A\"\n",
    "format: \n",
    "  html:\n",
    "    toc: true\n",
    "    toc-title: Contents\n",
    "    toc-depth: 4\n",
    "    code-fold: show\n",
    "    self-contained: true\n",
    "jupyter: python3\n",
    "---"
   ]
  },
  {
   "cell_type": "markdown",
   "id": "6efe6ec7",
   "metadata": {},
   "source": [
    "## Instructions {-}\n",
    "\n",
    "1. You may talk to a friend, discuss the questions and potential directions for solving them. However, you need to write your own solutions and code separately, and not as a group activity. \n",
    "\n",
    "2. Do not write your name on the assignment.\n",
    "\n",
    "3. Write your code in the *Code* cells and your answer in the *Markdown* cells of the Jupyter notebook. Ensure that the solution is written neatly enough to understand and grade.\n",
    "\n",
    "4. Use [Quarto](https://quarto.org/docs/output-formats/html-basics.html) to print the *.ipynb* file as HTML. You will need to open the command prompt, navigate to the directory containing the file, and use the command: `quarto render filename.ipynb --to html`. Submit the HTML file.\n",
    "\n",
    "5. The assignment is worth 100 points, and is due on **Tuesday, 17th January 2023 at 11:59 pm**. \n",
    "\n",
    "6. There is a **bonus** question worth 5 points.\n",
    "\n",
    "7.  The maximum possible score in the assigment is 100 + 5 (bonus question) = 105 out of 100. There is no partial credit for bonus question.\n",
    "\n",
    "8. **Five points are properly formatting the assignment**. The breakdown is as follows:\n",
    "- Must be an HTML file rendered using Quarto (1 pt). *If you have a Quarto issue, you must mention the issue & quote the error you get when rendering using Quarto in the comments section of Canvas, and submit the ipynb file.* \n",
    "- No name can be written on the assignment, nor can there be any indicator of the student’s identity—e.g. printouts of the working directory should not be included in the final submission  (1 pt)\n",
    "- There aren’t excessively long outputs of extraneous information (e.g. no printouts of entire data frames without good reason, there aren’t long printouts of which iteration a loop is on, there aren’t long sections of commented-out code, etc.) (1 pt)\n",
    "- Final answers of each question are written in Markdown cells (1 pt).\n",
    "- There is no piece of unnecessary / redundant code, and no unnecessary / redundant text (1 pt)"
   ]
  },
  {
   "cell_type": "markdown",
   "id": "93d691ac",
   "metadata": {},
   "source": [
    "## Regression vs Classification; Prediction vs Inference"
   ]
  },
  {
   "cell_type": "markdown",
   "id": "76ef6e03",
   "metadata": {},
   "source": [
    "Explain (1) whether each scenario is a classification or regression problem, and (2) whether we are most interested in inference or prediction. Answers to both parts must be supported by a justification."
   ]
  },
  {
   "cell_type": "markdown",
   "id": "659b081f",
   "metadata": {},
   "source": [
    "### \n",
    "Consider a company that is interested in conducting a marketing campaign. The goal is to identify individuals who are likely to respond positively to a marketing campaign, based on observations of demographic variables *(such as age, gender, income, etc.)* measured on each individual. \n",
    "\n",
    "*(2+2 points)*"
   ]
  },
  {
   "cell_type": "markdown",
   "id": "54f3f0e1",
   "metadata": {},
   "source": [
    "As some individuals respond positively, and the rest respond negatively, we have a binary response variable. Thus, this is a classification problem with two classes - positive response and negative response. \n",
    "\n",
    "This is a prediction problem as it is required to predict the individuals who belong to a particular class, i.e., respond positively."
   ]
  },
  {
   "cell_type": "markdown",
   "id": "87243d10",
   "metadata": {},
   "source": [
    "### \n",
    "Consider that the company mentioned in the previous question is interested in understanding the impact of advertising promotions in different media types on the company sales. For example, the company is interested in the question, *'how large of an increase in sales is associated with a given increase in radio vis-a-vis TV advertising?'*\n",
    "\n",
    "*(2+2 points)*"
   ]
  },
  {
   "cell_type": "markdown",
   "id": "62a80873",
   "metadata": {},
   "source": [
    "The response variable, sales, is a continuous variable. Thus, this is a regression problem.\n",
    "\n",
    "Since we are trying to infer the relationship between the response (sales), and two of the predictors (advertising via radio and TV), this is an inference problem. "
   ]
  },
  {
   "cell_type": "markdown",
   "id": "daea437c",
   "metadata": {},
   "source": [
    "### \n",
    "Consider a company selling furniture is interested in the finding the association between demographic characterisitcs of customers (such as age, gender, income, etc.) and their probability of purchase of a particular company product.\n",
    "\n",
    "*(2+2 points)*"
   ]
  },
  {
   "cell_type": "markdown",
   "id": "f1f24390",
   "metadata": {},
   "source": [
    "As the probability of purchase is to be predicted, this is a classfication problem. Even though probablity is a continuous quantity in [0, 1], classification models predict the probabilty of the observation belonging to each of the classes *(and then use that probability to classify an observation to one of the classes)*. Here, we have two classes - customer purchasing the product, and customer not purchasing the product, and we need to find the probability of the customer belonging to one of these classes.\n",
    "\n",
    "Since the relationship between demographic characteristics (or the predictors) and the response (probability of customer purchasing the product) is to be inferred, this is an inference problem."
   ]
  },
  {
   "cell_type": "markdown",
   "id": "30aee047",
   "metadata": {},
   "source": [
    "### \n",
    "We are interested in predicting the % change in the USD/Euro exchange rate in relation to the weekly changes in the world\n",
    "stock markets. Hence we collect weekly data for all of 2022. For each week we record the % change in the USD/Euro, the %\n",
    "change in the US market, the % change in the British market, and the % change in the German market.\n",
    "\n",
    "*(2+2 points)*"
   ]
  },
  {
   "cell_type": "markdown",
   "id": "db1ed886",
   "metadata": {},
   "source": [
    "As % change in USD/Euro exchange rate is a continuous quantity, this is a regression problem. As we need to predict this continuous quantity, this is a prediction problem."
   ]
  },
  {
   "cell_type": "markdown",
   "id": "fc077572",
   "metadata": {},
   "source": [
    "## RMSE vs MAE"
   ]
  },
  {
   "cell_type": "markdown",
   "id": "d93c431a",
   "metadata": {},
   "source": [
    "### \n",
    "Describe a regression problem, where it will be more appropriate to assess the model accuracy using the root mean squared error (RMSE) metric as compared to the mean absolute error (MAE) metric.\n",
    "\n",
    "**Note:** Don't use the examples presented in class\n",
    "\n",
    "*(4 points)*"
   ]
  },
  {
   "cell_type": "markdown",
   "id": "541a43e9",
   "metadata": {},
   "source": [
    "### \n",
    "Describe a regression problem, where it will be more appropriate to assess the model accuracy using the mean absolute error (MAE) metric as compared to the root mean squared error (RMSE) metric.\n",
    "\n",
    "**Note:** Don't use the examples presented in class\n",
    "\n",
    "*(4 points)*"
   ]
  },
  {
   "cell_type": "markdown",
   "id": "5bea5b7d",
   "metadata": {},
   "source": [
    "## FNR vs FPR"
   ]
  },
  {
   "cell_type": "markdown",
   "id": "eeae1d75",
   "metadata": {},
   "source": [
    "### \n",
    "A classification model is developed to predict those customers who will respond positively to a company's tele-marketing campaign. All those customers that are predicted to respond positively to the campaign will be called by phone to buy the product being marketed. If the customer being called purchases the product ($y = 1$), the company will get a profit of \\\\$100. On the other hand, if they are called and they don't purchase ($y = 0$), the company will have a loss of \\\\$1. Among FPR (False positive rate) and FNR (False negative rate), which metric is more important to be minimized to reduce the loss associated with misclassification? Justify your answer. \n",
    "\n",
    "In your justification, you must clearly interpret False Negatives (FN) and False Postives (FP) first, and the continue with your justification.\n",
    "\n",
    "**Assumption:** Assume that based on the past marketing campaigns, around 50% of the customers will actually respond positively to the campaign.\n",
    "\n",
    "*(4 points)*"
   ]
  },
  {
   "cell_type": "markdown",
   "id": "98148c4b",
   "metadata": {},
   "source": [
    "In this problem, False Negative is when the customer is predicted to not buy the product, but actually buys the product, while False Positive is when the customer is predicted to buy the product, but actually doesn't buy it.\n",
    "\n",
    "In this case, minimizing FNR will be more important that minimizing FPR. This is because for each False Negative (FN), the company loses a potential profit of \\\\$100, while for each False Positive (FP), the company loses only \\\\$1. Thus, minimizing FNR will lead to more profit as compared to minimizing FPR."
   ]
  },
  {
   "cell_type": "markdown",
   "id": "eabe8f27",
   "metadata": {},
   "source": [
    "### \n",
    "Can the answer to the previous question change if the assumption stated in the question is false? Justify your answer.\n",
    "\n",
    "*(6 points)*"
   ]
  },
  {
   "cell_type": "markdown",
   "id": "9932b58b",
   "metadata": {},
   "source": [
    "Yes, it may change if there is a lot of difference in the number of customers actually buying the product as compared to those that are not buying the product. If say, among 10,000 customers, only 5 customers actually buy the product, then minimizing FPR may be more important than minimizing FNR. This is because, when computing the overall losses of the company, FNR will be multiplied by the number of customers actually buying the product, while FPR will be multiplied by the number of customers actually not buying the product. Thus, if the number of customers not buying the product is too large, the losses due to False Positives may be higher than the losses due False Negatives. Thus, it may be more important to minimize FPR as compared to FNR."
   ]
  },
  {
   "cell_type": "markdown",
   "id": "4393cced-a26a-47a9-a23d-cba029eeaf27",
   "metadata": {},
   "source": [
    "## Petrol consumption\n",
    "\n",
    "Read the dataset *petrol_consumption_train.csv*. It contains the following five columns: \n",
    "\n",
    "`Petrol_tax`: Petrol tax (cents per gallon) \n",
    "\n",
    "`Per_capita_income`: Average income (dollars) \n",
    "\n",
    "`Paved_highways`: Paved Highways (miles) \n",
    "\n",
    "`Prop_license`: Proportion of population with driver's licenses \n",
    "\n",
    "`Petrol_consumption`: Consumption of petrol (millions of gallons)"
   ]
  },
  {
   "cell_type": "markdown",
   "id": "2270390b-eb12-458d-a5fd-68a0b13be9bc",
   "metadata": {},
   "source": [
    "### \n",
    "Make a pairwise plot of all the variables in the dataset. Which variable seems to have the highest linear correlation with `Petrol_consumption`? Let this variable be predictor *P*. *Note: If you cannot figure out P by looking at the visualization, you may find the pairwise linear correlation coefficient to identify P.*\n",
    "\n",
    "*(4 points)*"
   ]
  },
  {
   "cell_type": "code",
   "execution_count": 1,
   "id": "cbe8542c",
   "metadata": {},
   "outputs": [],
   "source": [
    "import pandas as pd\n",
    "import seaborn as sns\n",
    "import statsmodels.formula.api as smf\n",
    "import numpy as np\n",
    "import matplotlib.pyplot as plt"
   ]
  },
  {
   "cell_type": "code",
   "execution_count": 2,
   "id": "3a5d184a",
   "metadata": {},
   "outputs": [
    {
     "data": {
      "text/plain": [
       "<seaborn.axisgrid.PairGrid at 0x2273b4da850>"
      ]
     },
     "execution_count": 2,
     "metadata": {},
     "output_type": "execute_result"
    },
    {
     "data": {
      "image/png": "[encoded data removed]",
      "text/plain": [
       "<Figure size 900x900 with 30 Axes>"
      ]
     },
     "metadata": {
      "needs_background": "light"
     },
     "output_type": "display_data"
    }
   ],
   "source": [
    "train = pd.read_csv('./Datasets/petrol_consumption_train.csv')\n",
    "sns.pairplot(train)"
   ]
  },
  {
   "cell_type": "code",
   "execution_count": 3,
   "id": "6c7e8187",
   "metadata": {},
   "outputs": [
    {
     "data": {
      "text/html": [
       "<div>\n",
       "<style scoped>\n",
       "    .dataframe tbody tr th:only-of-type {\n",
       "        vertical-align: middle;\n",
       "    }\n",
       "\n",
       "    .dataframe tbody tr th {\n",
       "        vertical-align: top;\n",
       "    }\n",
       "\n",
       "    .dataframe thead th {\n",
       "        text-align: right;\n",
       "    }\n",
       "</style>\n",
       "<table border=\"1\" class=\"dataframe\">\n",
       "  <thead>\n",
       "    <tr style=\"text-align: right;\">\n",
       "      <th></th>\n",
       "      <th>Petrol_tax</th>\n",
       "      <th>Per_capita_income</th>\n",
       "      <th>Paved_highways</th>\n",
       "      <th>Prop_license</th>\n",
       "      <th>Petrol_consumption</th>\n",
       "    </tr>\n",
       "  </thead>\n",
       "  <tbody>\n",
       "    <tr>\n",
       "      <th>Petrol_tax</th>\n",
       "      <td>1.000000</td>\n",
       "      <td>0.082359</td>\n",
       "      <td>-0.660022</td>\n",
       "      <td>-0.223920</td>\n",
       "      <td>-0.393415</td>\n",
       "    </tr>\n",
       "    <tr>\n",
       "      <th>Per_capita_income</th>\n",
       "      <td>0.082359</td>\n",
       "      <td>1.000000</td>\n",
       "      <td>0.040256</td>\n",
       "      <td>0.048153</td>\n",
       "      <td>-0.314039</td>\n",
       "    </tr>\n",
       "    <tr>\n",
       "      <th>Paved_highways</th>\n",
       "      <td>-0.660022</td>\n",
       "      <td>0.040256</td>\n",
       "      <td>1.000000</td>\n",
       "      <td>-0.037998</td>\n",
       "      <td>0.098117</td>\n",
       "    </tr>\n",
       "    <tr>\n",
       "      <th>Prop_license</th>\n",
       "      <td>-0.223920</td>\n",
       "      <td>0.048153</td>\n",
       "      <td>-0.037998</td>\n",
       "      <td>1.000000</td>\n",
       "      <td>0.718303</td>\n",
       "    </tr>\n",
       "    <tr>\n",
       "      <th>Petrol_consumption</th>\n",
       "      <td>-0.393415</td>\n",
       "      <td>-0.314039</td>\n",
       "      <td>0.098117</td>\n",
       "      <td>0.718303</td>\n",
       "      <td>1.000000</td>\n",
       "    </tr>\n",
       "  </tbody>\n",
       "</table>\n",
       "</div>"
      ],
      "text/plain": [
       "                    Petrol_tax  Per_capita_income  Paved_highways  \\\n",
       "Petrol_tax            1.000000           0.082359       -0.660022   \n",
       "Per_capita_income     0.082359           1.000000        0.040256   \n",
       "Paved_highways       -0.660022           0.040256        1.000000   \n",
       "Prop_license         -0.223920           0.048153       -0.037998   \n",
       "Petrol_consumption   -0.393415          -0.314039        0.098117   \n",
       "\n",
       "                    Prop_license  Petrol_consumption  \n",
       "Petrol_tax             -0.223920           -0.393415  \n",
       "Per_capita_income       0.048153           -0.314039  \n",
       "Paved_highways         -0.037998            0.098117  \n",
       "Prop_license            1.000000            0.718303  \n",
       "Petrol_consumption      0.718303            1.000000  "
      ]
     },
     "execution_count": 3,
     "metadata": {},
     "output_type": "execute_result"
    }
   ],
   "source": [
    "train.corr()"
   ]
  },
  {
   "cell_type": "markdown",
   "id": "d9a01ec9",
   "metadata": {},
   "source": [
    "### \n",
    "Fit a simple linear regression model to predict `Petrol_consumption` based on predictor *P* (identified in the previous part). Print the model summary.\n",
    "\n",
    "*(4 points)*"
   ]
  },
  {
   "cell_type": "code",
   "execution_count": 4,
   "id": "39fc2fe3",
   "metadata": {},
   "outputs": [
    {
     "data": {
      "text/html": [
       "<table class=\"simpletable\">\n",
       "<caption>OLS Regression Results</caption>\n",
       "<tr>\n",
       "  <th>Dep. Variable:</th>    <td>Petrol_consumption</td> <th>  R-squared:         </th> <td>   0.516</td>\n",
       "</tr>\n",
       "<tr>\n",
       "  <th>Model:</th>                    <td>OLS</td>        <th>  Adj. R-squared:    </th> <td>   0.503</td>\n",
       "</tr>\n",
       "<tr>\n",
       "  <th>Method:</th>              <td>Least Squares</td>   <th>  F-statistic:       </th> <td>   40.51</td>\n",
       "</tr>\n",
       "<tr>\n",
       "  <th>Date:</th>              <td>Sat, 14 Jan 2023</td>  <th>  Prob (F-statistic):</th> <td>1.80e-07</td>\n",
       "</tr>\n",
       "<tr>\n",
       "  <th>Time:</th>                  <td>16:37:55</td>      <th>  Log-Likelihood:    </th> <td> -231.59</td>\n",
       "</tr>\n",
       "<tr>\n",
       "  <th>No. Observations:</th>       <td>    40</td>       <th>  AIC:               </th> <td>   467.2</td>\n",
       "</tr>\n",
       "<tr>\n",
       "  <th>Df Residuals:</th>           <td>    38</td>       <th>  BIC:               </th> <td>   470.5</td>\n",
       "</tr>\n",
       "<tr>\n",
       "  <th>Df Model:</th>               <td>     1</td>       <th>                     </th>     <td> </td>   \n",
       "</tr>\n",
       "<tr>\n",
       "  <th>Covariance Type:</th>       <td>nonrobust</td>     <th>                     </th>     <td> </td>   \n",
       "</tr>\n",
       "</table>\n",
       "<table class=\"simpletable\">\n",
       "<tr>\n",
       "        <td></td>          <th>coef</th>     <th>std err</th>      <th>t</th>      <th>P>|t|</th>  <th>[0.025</th>    <th>0.975]</th>  \n",
       "</tr>\n",
       "<tr>\n",
       "  <th>Intercept</th>    <td> -267.6155</td> <td>  132.038</td> <td>   -2.027</td> <td> 0.050</td> <td> -534.912</td> <td>   -0.319</td>\n",
       "</tr>\n",
       "<tr>\n",
       "  <th>Prop_license</th> <td> 1479.1803</td> <td>  232.414</td> <td>    6.364</td> <td> 0.000</td> <td> 1008.682</td> <td> 1949.678</td>\n",
       "</tr>\n",
       "</table>\n",
       "<table class=\"simpletable\">\n",
       "<tr>\n",
       "  <th>Omnibus:</th>       <td> 5.963</td> <th>  Durbin-Watson:     </th> <td>   1.280</td>\n",
       "</tr>\n",
       "<tr>\n",
       "  <th>Prob(Omnibus):</th> <td> 0.051</td> <th>  Jarque-Bera (JB):  </th> <td>   4.620</td>\n",
       "</tr>\n",
       "<tr>\n",
       "  <th>Skew:</th>          <td> 0.762</td> <th>  Prob(JB):          </th> <td>  0.0993</td>\n",
       "</tr>\n",
       "<tr>\n",
       "  <th>Kurtosis:</th>      <td> 3.670</td> <th>  Cond. No.          </th> <td>    23.9</td>\n",
       "</tr>\n",
       "</table><br/><br/>Notes:<br/>[1] Standard Errors assume that the covariance matrix of the errors is correctly specified."
      ],
      "text/plain": [
       "<class 'statsmodels.iolib.summary.Summary'>\n",
       "\"\"\"\n",
       "                            OLS Regression Results                            \n",
       "==============================================================================\n",
       "Dep. Variable:     Petrol_consumption   R-squared:                       0.516\n",
       "Model:                            OLS   Adj. R-squared:                  0.503\n",
       "Method:                 Least Squares   F-statistic:                     40.51\n",
       "Date:                Sat, 14 Jan 2023   Prob (F-statistic):           1.80e-07\n",
       "Time:                        16:37:55   Log-Likelihood:                -231.59\n",
       "No. Observations:                  40   AIC:                             467.2\n",
       "Df Residuals:                      38   BIC:                             470.5\n",
       "Df Model:                           1                                         \n",
       "Covariance Type:            nonrobust                                         \n",
       "================================================================================\n",
       "                   coef    std err          t      P>|t|      [0.025      0.975]\n",
       "--------------------------------------------------------------------------------\n",
       "Intercept     -267.6155    132.038     -2.027      0.050    -534.912      -0.319\n",
       "Prop_license  1479.1803    232.414      6.364      0.000    1008.682    1949.678\n",
       "==============================================================================\n",
       "Omnibus:                        5.963   Durbin-Watson:                   1.280\n",
       "Prob(Omnibus):                  0.051   Jarque-Bera (JB):                4.620\n",
       "Skew:                           0.762   Prob(JB):                       0.0993\n",
       "Kurtosis:                       3.670   Cond. No.                         23.9\n",
       "==============================================================================\n",
       "\n",
       "Notes:\n",
       "[1] Standard Errors assume that the covariance matrix of the errors is correctly specified.\n",
       "\"\"\""
      ]
     },
     "execution_count": 4,
     "metadata": {},
     "output_type": "execute_result"
    }
   ],
   "source": [
    "model = smf.ols(formula='Petrol_consumption~Prop_license',data = train).fit()\n",
    "model.summary()"
   ]
  },
  {
   "cell_type": "markdown",
   "id": "619bdc1b",
   "metadata": {},
   "source": [
    "### \n",
    "Interpret the coefficient of `Prop_license`. What is the increase in petrol consumption for an increase of 0.05 in *P*?\n",
    "\n",
    "*(2+2 points)*"
   ]
  },
  {
   "cell_type": "markdown",
   "id": "ef3dd04c",
   "metadata": {},
   "source": [
    "For a 1% increase in proportion of population having license, the petrol consumption increases by 14.79 million gallons."
   ]
  },
  {
   "cell_type": "code",
   "execution_count": 5,
   "id": "281d46fd",
   "metadata": {},
   "outputs": [
    {
     "data": {
      "text/plain": [
       "73.95901500000001"
      ]
     },
     "execution_count": 5,
     "metadata": {},
     "output_type": "execute_result"
    }
   ],
   "source": [
    "1479.1803*0.05"
   ]
  },
  {
   "cell_type": "markdown",
   "id": "338e26e6",
   "metadata": {},
   "source": [
    "For an increase in 0.05 in proportion of people with driving license, the consumption of petrol increase by 74 million gallons."
   ]
  },
  {
   "cell_type": "markdown",
   "id": "aa369a53",
   "metadata": {},
   "source": [
    "### \n",
    "Does petrol consumption have a statistically significant relationship with the predictor *P*? Justify your answer.\n",
    "\n",
    "*(4 points)*"
   ]
  },
  {
   "cell_type": "markdown",
   "id": "3e66f99e",
   "metadata": {},
   "source": [
    "Yes, as the p-value of the coeffecient of *Prop_license* is very small (<<0.05), petrol, we conclude that `Prop_license` has a statistically significant relationship with `Petrol_consumption`."
   ]
  },
  {
   "cell_type": "markdown",
   "id": "e224b584",
   "metadata": {},
   "source": [
    "### \n",
    "What is the R-squared? Interpret its value.\n",
    "\n",
    "*(4 points)*"
   ]
  },
  {
   "cell_type": "markdown",
   "id": "8e5e20af",
   "metadata": {},
   "source": [
    "The R-squared = 51.6%. This means that 51.6% of variation in petrol consumption can be explained using the linear relationship with the proportion of people having driving license."
   ]
  },
  {
   "cell_type": "markdown",
   "id": "571380f8",
   "metadata": {},
   "source": [
    "### \n",
    "Estimate the petrol consumption for a state in which 50% of the population has a driver’s license. What are the confidence and prediction intervals for your estimate? Which interval includes the irreducible error?\n",
    "\n",
    "*(4+3+3+2 = 12 points)*"
   ]
  },
  {
   "cell_type": "code",
   "execution_count": 6,
   "id": "34631a1e",
   "metadata": {},
   "outputs": [
    {
     "data": {
      "text/html": [
       "<div>\n",
       "<style scoped>\n",
       "    .dataframe tbody tr th:only-of-type {\n",
       "        vertical-align: middle;\n",
       "    }\n",
       "\n",
       "    .dataframe tbody tr th {\n",
       "        vertical-align: top;\n",
       "    }\n",
       "\n",
       "    .dataframe thead th {\n",
       "        text-align: right;\n",
       "    }\n",
       "</style>\n",
       "<table border=\"1\" class=\"dataframe\">\n",
       "  <thead>\n",
       "    <tr style=\"text-align: right;\">\n",
       "      <th></th>\n",
       "      <th>mean</th>\n",
       "      <th>mean_se</th>\n",
       "      <th>mean_ci_lower</th>\n",
       "      <th>mean_ci_upper</th>\n",
       "      <th>obs_ci_lower</th>\n",
       "      <th>obs_ci_upper</th>\n",
       "    </tr>\n",
       "  </thead>\n",
       "  <tbody>\n",
       "    <tr>\n",
       "      <th>0</th>\n",
       "      <td>471.974627</td>\n",
       "      <td>19.896237</td>\n",
       "      <td>431.6968</td>\n",
       "      <td>512.252454</td>\n",
       "      <td>302.822725</td>\n",
       "      <td>641.126528</td>\n",
       "    </tr>\n",
       "  </tbody>\n",
       "</table>\n",
       "</div>"
      ],
      "text/plain": [
       "         mean    mean_se  mean_ci_lower  mean_ci_upper  obs_ci_lower  \\\n",
       "0  471.974627  19.896237       431.6968     512.252454    302.822725   \n",
       "\n",
       "   obs_ci_upper  \n",
       "0    641.126528  "
      ]
     },
     "execution_count": 6,
     "metadata": {},
     "output_type": "execute_result"
    }
   ],
   "source": [
    "intervals = model.get_prediction(pd.DataFrame({'Prop_license':[0.5]}))\n",
    "intervals.summary_frame(alpha=0.05)"
   ]
  },
  {
   "cell_type": "markdown",
   "id": "53994784",
   "metadata": {},
   "source": [
    "The estimate of the petrol consumption is 472 million gallons. The confidence interval of the estimate is \\[432,512\\]. The prediction interval of the estimate is \\[303,641\\]. The prediction interval includes the irreducible error."
   ]
  },
  {
   "cell_type": "markdown",
   "id": "786b15d3",
   "metadata": {},
   "source": [
    "### \n",
    "Estimate the petrol consumption for a state in which 10% of the population has a driver’s license. Are you getting a reasonable estimate? Why or why not?\n",
    "\n",
    "*(5 points)*"
   ]
  },
  {
   "cell_type": "code",
   "execution_count": 7,
   "id": "0485ed77",
   "metadata": {},
   "outputs": [
    {
     "data": {
      "text/plain": [
       "0   -119.697506\n",
       "dtype: float64"
      ]
     },
     "execution_count": 7,
     "metadata": {},
     "output_type": "execute_result"
    }
   ],
   "source": [
    "model.predict(pd.DataFrame({'Prop_license':[0.10]}))"
   ]
  },
  {
   "cell_type": "code",
   "execution_count": 8,
   "id": "fbb3b92b",
   "metadata": {},
   "outputs": [
    {
     "name": "stdout",
     "output_type": "stream",
     "text": [
      "0.451 0.724\n"
     ]
    }
   ],
   "source": [
    "print(train.Prop_license.min(), train.Prop_license.max())"
   ]
  },
  {
   "cell_type": "markdown",
   "id": "63aef6fd",
   "metadata": {},
   "source": [
    "The estimate obtained is -119.7 million gallons. This is not a reasonable estimate as petrol consumption cannot be negative. The model has been trained for `Prop_license` in \\[0.45, 0.72\\]. `Prop_license = 0.1` is far away from the domain space on which the model has been trained. The model cannot be trusted to predict accurately at a point far away from its training domain space."
   ]
  },
  {
   "cell_type": "markdown",
   "id": "112c3de4",
   "metadata": {},
   "source": [
    "### \n",
    "What is the residual standard error of the model?\n",
    "\n",
    "*(4 points)*"
   ]
  },
  {
   "cell_type": "code",
   "execution_count": 9,
   "id": "fa9c573e",
   "metadata": {},
   "outputs": [
    {
     "data": {
      "text/plain": [
       "81.15342760294635"
      ]
     },
     "execution_count": 9,
     "metadata": {},
     "output_type": "execute_result"
    }
   ],
   "source": [
    "np.sqrt(model.mse_resid)"
   ]
  },
  {
   "cell_type": "markdown",
   "id": "7f4ee6cd",
   "metadata": {},
   "source": [
    "### \n",
    "Using the model trained above, predict the petrol consumption for the observations in *petrol_consumption_test.csv*. Find the RMSE (Root mean squared error). Inculde the units of RMSE in your answer.\n",
    "\n",
    "*(5 points)*"
   ]
  },
  {
   "cell_type": "code",
   "execution_count": 10,
   "id": "64ae29b7",
   "metadata": {},
   "outputs": [
    {
     "data": {
      "text/plain": [
       "80.13903941152401"
      ]
     },
     "execution_count": 10,
     "metadata": {},
     "output_type": "execute_result"
    }
   ],
   "source": [
    "test = pd.read_csv('./Datasets/petrol_consumption_test.csv')\n",
    "pred = model.predict(test)\n",
    "np.sqrt(((pred-test.Petrol_consumption)**2).mean())"
   ]
  },
  {
   "cell_type": "markdown",
   "id": "5a41588f",
   "metadata": {},
   "source": [
    "The RMSE is around 80 million gallons."
   ]
  },
  {
   "cell_type": "markdown",
   "id": "28011b87",
   "metadata": {},
   "source": [
    "### \n",
    "Based on the answers to the previous two questions, do you think the model is overfitting? Justify your answer.\n",
    "\n",
    "*(4 points)*"
   ]
  },
  {
   "cell_type": "markdown",
   "id": "62749443",
   "metadata": {},
   "source": [
    "As the residual standard error is close to the RMSE, the model doesn't seem to be overfitting. If the model was overfitting, then the residual standard error, which is computed on the training data, will be much lower than the RMSE, which is computed on unknown test data."
   ]
  },
  {
   "cell_type": "markdown",
   "id": "77139d9b",
   "metadata": {},
   "source": [
    "Make a scatterplot of `Petrol_consumption` vs `Prop_license` using *petrol_consumption_test.csv*. Over the scatterplot, plot the regression line, the prediction interval, and the confidence interval. Distinguish the regression line, prediction interval lines, and confidence interval lines with the following colors. Put the legend as well.\n",
    "\n",
    "- Regression line: red\n",
    "- Confidence interval: blue\n",
    "- Prediction interval: green\n",
    "\n",
    "*(4 points)*"
   ]
  },
  {
   "cell_type": "code",
   "execution_count": 14,
   "id": "8f66cfdf",
   "metadata": {},
   "outputs": [
    {
     "data": {
      "text/plain": [
       "<matplotlib.legend.Legend at 0x22741f9fb50>"
      ]
     },
     "execution_count": 14,
     "metadata": {},
     "output_type": "execute_result"
    },
    {
     "data": {
      "image/png": "[encoded data removed]",
      "text/plain": [
       "<Figure size 432x288 with 1 Axes>"
      ]
     },
     "metadata": {
      "needs_background": "light"
     },
     "output_type": "display_data"
    }
   ],
   "source": [
    "intervals = model.get_prediction(test)\n",
    "interval_table = intervals.summary_frame(alpha=0.05)\n",
    "\n",
    "sns.scatterplot(data = test,y = 'Petrol_consumption', x = 'Prop_license',color = 'orange')\n",
    "sns.lineplot(data = test, x = 'Prop_license', y = pred,color = 'red')\n",
    "\n",
    "sns.lineplot(x = test.Prop_license, y = interval_table.mean_ci_lower, color = 'blue')\n",
    "sns.lineplot(x = test.Prop_license, y = interval_table.mean_ci_upper, color = 'blue',label='_nolegend_')\n",
    "\n",
    "sns.lineplot(x = test.Prop_license, y = interval_table.obs_ci_lower, color = 'green')\n",
    "sns.lineplot(x = test.Prop_license, y = interval_table.obs_ci_upper, color = 'green')\n",
    "\n",
    "plt.legend(labels=[\"Regression line\",\"Confidence interval\", \"Prediction interval\"])"
   ]
  },
  {
   "cell_type": "markdown",
   "id": "166d5339",
   "metadata": {},
   "source": [
    "Among the confidence and prediction intervals, which interval is wider, and why?\n",
    "\n",
    "*(1+2 points)*"
   ]
  },
  {
   "cell_type": "markdown",
   "id": "abe65f38",
   "metadata": {},
   "source": [
    "The prediction interval is wider than the confidence interval because it includes the irreducible error, unlike the confidence interval."
   ]
  },
  {
   "cell_type": "markdown",
   "id": "f6a1a96c",
   "metadata": {},
   "source": [
    "### \n",
    "Find the correlation between `Petrol_consumption` and the rest of the variables in *petrol_consumption_train.csv*. Based on the correlations, a simple linear regression model with which predictor will have the least R-squared value for predicting `Petrol_consumption`. Don't develop any linear regression models.\n",
    "\n",
    "*(4 points)*"
   ]
  },
  {
   "cell_type": "code",
   "execution_count": 15,
   "id": "c0cfe38e",
   "metadata": {},
   "outputs": [
    {
     "data": {
      "text/plain": [
       "Petrol_tax           -0.393415\n",
       "Per_capita_income    -0.314039\n",
       "Paved_highways        0.098117\n",
       "Prop_license          0.718303\n",
       "Petrol_consumption    1.000000\n",
       "dtype: float64"
      ]
     },
     "execution_count": 15,
     "metadata": {},
     "output_type": "execute_result"
    }
   ],
   "source": [
    "train.corrwith(train.Petrol_consumption)"
   ]
  },
  {
   "cell_type": "markdown",
   "id": "87b63467",
   "metadata": {},
   "source": [
    "A simple linear regression model with `Paved_highways` as the predictor will have the least R-squared."
   ]
  },
  {
   "cell_type": "markdown",
   "id": "28c213fd",
   "metadata": {},
   "source": [
    "**Bonus point question**\n",
    "\n",
    "*(5 points - no partial credit)*"
   ]
  },
  {
   "cell_type": "markdown",
   "id": "450a9c7f",
   "metadata": {},
   "source": [
    "### \n",
    "Fit a simple linear regression model to predict `Petrol_consumption` based on predictor *P*, but without an intercept term.\n",
    "\n",
    "*(you must answer this correctly to qualify for earning bonus points)*"
   ]
  },
  {
   "cell_type": "code",
   "execution_count": 16,
   "id": "f0813fb0",
   "metadata": {},
   "outputs": [],
   "source": [
    "model = smf.ols(formula='Petrol_consumption~Prop_license-1',data = train).fit()"
   ]
  },
  {
   "cell_type": "markdown",
   "id": "be041d59",
   "metadata": {},
   "source": [
    "### \n",
    "Estimate the petrol consumption for the observations in *petrol_consumption_test.csv* using the model in developed in the previous question. Find the RMSE.\n",
    "\n",
    "*(you must answer this correctly to qualify for earning bonus points)*"
   ]
  },
  {
   "cell_type": "code",
   "execution_count": 17,
   "id": "6ce8c6fe",
   "metadata": {},
   "outputs": [
    {
     "data": {
      "text/plain": [
       "76.398744492552"
      ]
     },
     "execution_count": 17,
     "metadata": {},
     "output_type": "execute_result"
    }
   ],
   "source": [
    "pred = model.predict(test)\n",
    "np.sqrt(((pred-test.Petrol_consumption)**2).mean())"
   ]
  },
  {
   "cell_type": "markdown",
   "id": "d7fccf4f",
   "metadata": {},
   "source": [
    "The RMSE is around 76 million gallons."
   ]
  },
  {
   "cell_type": "markdown",
   "id": "461fac34",
   "metadata": {},
   "source": [
    "### \n",
    "The RMSE for the models with and without the intercept are similar, which indicates that both models are almost equally good. However, the R-squared for the model without intercept is much higher than the R-squared for the model with the intercept. Why? Justify your answer.\n",
    "\n",
    "*(5 points)*"
   ]
  },
  {
   "cell_type": "markdown",
   "id": "a5a74e96",
   "metadata": {},
   "source": [
    "Both models are equally good. However, their R-squared values cannot be compared. This is because the presence or absence of intercept changes the formulation of R-squared.\n",
    "\n",
    "For the model with intercept, the developed model is compared against an only-intercept model. For an only-intercept model, $\\hat \\beta_0 = \\bar y$ and so the R-squared is given by:\n",
    "\n",
    "\\begin{equation}\n",
    "R^2 = 1 - \\frac{\\Sigma_{i} (y_i - \\hat y_i)^2}{\\Sigma_{i} (y_i - \\bar y)^2}\n",
    "\\end{equation}\n",
    " \n",
    "For the model with no intercept, the developed model is compared against the model with only noise, and the so R-squared is given by:\n",
    "\n",
    "\\begin{equation}\n",
    "R_0^2 = 1 - \\frac{\\Sigma_{i} (y_i - \\hat y_i)^2}{\\Sigma_{i} y_i^2}\n",
    "\\end{equation}\n",
    "\n",
    "As $\\bar y$ in our dataset is actually not equal to zero, the denominator in the latter equation is much larger than the former one, which leads to a much higher value of $R_0^2$ as compared to $R^2$."
   ]
  }
 ],
 "metadata": {
  "kernelspec": {
   "display_name": "Python 3",
   "language": "python",
   "name": "python3"
  },
  "language_info": {
   "codemirror_mode": {
    "name": "ipython",
    "version": 3
   },
   "file_extension": ".py",
   "mimetype": "text/x-python",
   "name": "python",
   "nbconvert_exporter": "python",
   "pygments_lexer": "ipython3",
   "version": "3.8.8"
  }
 },
 "nbformat": 4,
 "nbformat_minor": 5
}
