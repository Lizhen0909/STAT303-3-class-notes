{
 "cells": [
  {
   "cell_type": "raw",
   "id": "6c947150",
   "metadata": {},
   "source": [
    "---\n",
    "title: \"Best Kaggle submission (Spring 2023)\"\n",
    "author: Jack O' Keefe\n",
    "format: \n",
    "  html:\n",
    "    toc: true\n",
    "    toc-title: Contents\n",
    "    toc-depth: 4\n",
    "    self-contained: true\n",
    "    html-math-method: mathml \n",
    "jupyter: python3\n",
    "---"
   ]
  },
  {
   "cell_type": "code",
   "execution_count": 2,
   "id": "9e36d282",
   "metadata": {},
   "outputs": [],
   "source": [
    "import pandas as pd\n",
    "import numpy as np\n",
    "import statsmodels.formula.api as smf\n",
    "import statsmodels.api as sm\n",
    "import seaborn as sns\n",
    "import matplotlib.pyplot as plt\n",
    "from patsy import dmatrix\n",
    "from sklearn.metrics import mean_squared_error\n",
    "from sklearn.linear_model import LinearRegression\n",
    "from sklearn.model_selection import train_test_split, cross_val_predict, cross_val_score\n",
    "from sklearn.impute import KNNImputer\n",
    "from sklearn.model_selection import KFold, train_test_split\n",
    "from sklearn.tree import DecisionTreeRegressor\n",
    "from sklearn.tree import export_graphviz \n",
    "from six import StringIO\n",
    "from IPython.display import Image  \n",
    "import pydotplus\n",
    "import time as tm\n",
    "from sklearn.metrics import mean_absolute_error\n",
    "from sklearn.model_selection import KFold\n",
    "from sklearn.model_selection import GridSearchCV, ParameterGrid\n",
    "from sklearn.ensemble import BaggingRegressor,BaggingClassifier\n",
    "import warnings\n",
    "from sklearn.ensemble import RandomForestRegressor\n",
    "from sklearn.tree import DecisionTreeClassifier\n",
    "from sklearn.metrics import roc_curve, precision_recall_curve, auc, make_scorer, \\\n",
    "recall_score, accuracy_score, precision_score, confusion_matrix\n",
    "from sklearn.ensemble import BaggingRegressor,BaggingClassifier,RandomForestRegressor,RandomForestClassifier\n",
    "from sklearn.ensemble import RandomForestRegressor, GradientBoostingRegressor, StackingRegressor\n",
    "from sklearn.linear_model import Ridge\n",
    "from xgboost import XGBRegressor\n",
    "from sklearn.model_selection import KFold, GridSearchCV\n",
    "from sklearn.neighbors import KNeighborsRegressor\n",
    "from sklearn.experimental import enable_iterative_imputer  \n",
    "from sklearn.impute import IterativeImputer"
   ]
  },
  {
   "cell_type": "markdown",
   "id": "2afcc92d",
   "metadata": {},
   "source": [
    "## How this model works"
   ]
  },
  {
   "cell_type": "markdown",
   "id": "f16ad31b",
   "metadata": {},
   "source": [
    "This model was created in order to introduce bias to the base models of the stacked model. Each of these models individually will not offer a great solution, but a stacked model with these as the base will allow the overall model to work off the strengths of the individual models. \n",
    "\n",
    "Four feature sets were used: \n",
    "The top predictors from a random forest model, with the number of features being decided by a forward step-wise 5-fold cv process (not in this code), where the most significant model was added first and the RMSE on the train data was calculated from there. \n",
    "\n",
    "The top predictors from a MARS model:\n",
    "These were the significant predictors in a MARS model where X predicts log_y (no cv and the code is not present as I could only get it to work on Google Collab). \n",
    "\n",
    "Top 40 predictors from kbest:\n",
    "I wanted to add another predictor subset, but was sttuggling to think of other ways. K-best is a function from sklearn, and provided different features from the MARS and RF best predictors so I decided to use it. \n",
    "\n",
    "The entire predictor set:\n",
    "This was used to train a catboost regressor on the entire dataset, which is relatively quick and provided higher accuracy for the meta model to learn from. \n",
    "\n",
    "## How to use the pipeline "
   ]
  },
  {
   "cell_type": "code",
   "execution_count": 166,
   "id": "2906d0e8",
   "metadata": {},
   "outputs": [],
   "source": [
    "#| eval: false\n",
    "\n",
    "rf_pipe = Pipeline([\n",
    "    ('column_transformer', ColumnTransformer([('rf_transform', 'passthrough', X_top_kbest.columns)], remainder='drop')),\n",
    "    ('rf', rf_model)\n",
    "])"
   ]
  },
  {
   "cell_type": "markdown",
   "id": "9fee770c",
   "metadata": {},
   "source": [
    "The above code is used in the actual model, and is used as an example here. Pipeline is also a feature from sklearn that allows multiple functions to be executed in order. This can be used to streamline many processes. \n",
    "\n",
    "In this case, there are two functions. The first is the 'column_transformer,' which looking back, I probably should have created a unique name for every transformation. This works by using ColumnTransformer, which takes the subset of columns specified, in this case X_top_kbest.columns. The 'passthrough' indicates that these are the columns to be worked on, with the remainder being dropped. 'rf' is the name in the pipeline I gave the rf_model. I gave unique names to every model depending on what subset they were working on. e.g. 'rf1' corresponds with the MARS predictors. "
   ]
  },
  {
   "cell_type": "markdown",
   "id": "8895a285",
   "metadata": {},
   "source": [
    "## What the model does overall"
   ]
  },
  {
   "cell_type": "markdown",
   "id": "9fcd96f3",
   "metadata": {},
   "source": [
    "As mentioned, the purpose of the model is to introduce bias to the base models, which will be overcome by the meta model. A good way to introduct bias is by using different predictors, and different models, which is what I did. I suspect that using other, more different models could work well, but I was not succesful in my attempts. This is a stacking regressor, which is different from a voting one. The difference is that there is a 'meta model' that corrects the error for the base models, by learning from the RMSE (or another specified loss function) on the base models. The meta model regressor I used was catboost, as it is the most accurate (I tried many other ways, and I thought that maybe ridge regression would work well, but it did not). \n",
    "\n",
    "The specifics of the model are as follows: (Note, I have lightboost set up to be used in the model, but removing it actually made the model better. I suspect this is because catboost is a very similar model, but provides a lower RMSE)\n",
    "\n",
    "The same, untuned models are run on each predictor subset. The models are random forest, catboost, and adaboost. These are all ran on the MARS subset, the rf subset, and the kbest subset. The catboost model is the only model ran on the entire dataset. 15 fold cross validation is used, which takes around 20-30 minutes to run. This model is not too slow because most of the models are run only on 20-40 predictors. It seems that the higher the k-fold, the better the models, but this is not true as the model gets worse after 15-fold cv. I suspect this is because the model will be testing on very little data for each split, which will not help RMSE, after a point. \n",
    "\n",
    "The exact same model was also ran on a 13-fold cv. The purpose of this was to once again introduce bias. This introduces bias because this will create two different models, each with innacuracies of their own. By themselves, these models are still extremely useful. \n",
    "\n",
    "These models were then combined by simply averaging the output, giving a low RMSE. "
   ]
  },
  {
   "cell_type": "markdown",
   "id": "3fe39ac5",
   "metadata": {},
   "source": [
    "## These models are not precisely reproducable "
   ]
  },
  {
   "cell_type": "markdown",
   "id": "e60ca216",
   "metadata": {},
   "source": [
    "Because these models are untuned, they will give slightly different output every time they are run. To combat this, the models could be tuned for reproducibility, but that could take a very long time. On my first try I got my best RMSE, so it does not take very long. In my case, I saved the model by using pickle, a library to save models. The exact model I used can be uploaded at the very bottom of this under the 'upload' section. "
   ]
  },
  {
   "cell_type": "markdown",
   "id": "a557257b",
   "metadata": {},
   "source": [
    "## Train Data Cleaning"
   ]
  },
  {
   "cell_type": "code",
   "execution_count": null,
   "id": "11c8dda2",
   "metadata": {},
   "outputs": [],
   "source": [
    "#| eval: false\n",
    "train = pd.read_csv('train.csv')\n",
    "\n",
    "y = train.y\n",
    "x = train.drop(\"y\", axis=1)\n",
    "x = x.drop(\"id\", axis=1)\n",
    "\n",
    "x = x.apply(pd.to_numeric, errors='coerce')\n",
    "\n",
    "y = y.apply(pd.to_numeric, errors='coerce')\n",
    "\n",
    "from sklearn.preprocessing import StandardScaler\n",
    "scaler = StandardScaler()\n",
    "X_scaled = pd.DataFrame(scaler.fit_transform(x), columns=x.columns)\n",
    "\n",
    "imputer = KNNImputer(n_neighbors=7)\n",
    "\n",
    "X = pd.DataFrame(imputer.fit_transform(X_scaled), columns=x.columns)\n",
    "\n",
    "log_y = np.log(y)"
   ]
  }
 ],
 "metadata": {
  "kernelspec": {
   "display_name": "Python 3 (ipykernel)",
   "language": "python",
   "name": "python3"
  },
  "language_info": {
   "codemirror_mode": {
    "name": "ipython",
    "version": 3
   },
   "file_extension": ".py",
   "mimetype": "text/x-python",
   "name": "python",
   "nbconvert_exporter": "python",
   "pygments_lexer": "ipython3",
   "version": "3.8.17"
  }
 },
 "nbformat": 4,
 "nbformat_minor": 5
}
