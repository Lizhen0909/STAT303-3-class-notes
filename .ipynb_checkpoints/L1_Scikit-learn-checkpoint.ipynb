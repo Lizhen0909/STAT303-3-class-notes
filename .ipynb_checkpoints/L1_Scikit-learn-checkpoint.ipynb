{
 "cells": [
  {
   "cell_type": "raw",
   "id": "577166cb",
   "metadata": {},
   "source": [
    "---\n",
    "title: \"Introduction to Scikit-learn\"\n",
    "format: \n",
    "  html:\n",
    "    code-fold: false\n",
    "    toc-depth: 4\n",
    "    jupyter: python3\n",
    "---"
   ]
  },
  {
   "cell_type": "code",
   "execution_count": 1,
   "id": "bdb5a335",
   "metadata": {},
   "outputs": [],
   "source": [
    "# Importing necessary libraries\n",
    "import pandas as pd\n",
    "import numpy as np\n",
    "import matplotlib.pyplot as plt\n",
    "import seaborn as sns"
   ]
  },
  {
   "cell_type": "code",
   "execution_count": 2,
   "id": "b3ebb681",
   "metadata": {},
   "outputs": [],
   "source": [
    "# sklearn has 100s of models - grouped in sublibraries, such as linear_model\n",
    "from sklearn.linear_model import LogisticRegression, LinearRegression\n",
    "# sklearn also has many tools for cleaning/processing data, also grouped in sublibraries\n",
    "from sklearn.model_selection import train_test_split # splitting one dataset into train and test\n",
    "from sklearn.metrics import accuracy_score, mean_absolute_error, mean_squared_error, r2_score\n",
    "from sklearn.preprocessing import StandardScaler"
   ]
  },
  {
   "cell_type": "code",
   "execution_count": 4,
   "id": "c1312e1a",
   "metadata": {},
   "outputs": [],
   "source": [
    "data = pd.read_csv('./Datasets/diabetes.csv')"
   ]
  },
  {
   "cell_type": "code",
   "execution_count": 5,
   "id": "54976ef7",
   "metadata": {},
   "outputs": [],
   "source": [
    "# Separating the predictors and response - THIS IS HOW ALL SKLEARN OBJECTS ACCEPT DATA (different from statsmodels)\n",
    "y = data.Outcome\n",
    "X = data.drop(\"Outcome\", axis = 1)"
   ]
  },
  {
   "cell_type": "code",
   "execution_count": 6,
   "id": "37f52dd1",
   "metadata": {},
   "outputs": [],
   "source": [
    "# Creating training and test data\n",
    "    # 80-20 split, which is usual - 70-30 split is also fine, 90-10 is fine if the dataset is large\n",
    "    # random_state to set a random seed for the splitting - reproducible results\n",
    "X_train, X_test, y_train, y_test = train_test_split(X, y, test_size = 0.2, random_state = 45)\n",
    "# stratify"
   ]
  },
  {
   "cell_type": "code",
   "execution_count": 7,
   "id": "608e8269",
   "metadata": {},
   "outputs": [],
   "source": [
    "# With linear/logistic regression in scikit-learn, especially when the predictors have different orders \n",
    "# of magn., scaling is necessary. This is to enable the training algo. which we did not cover. (Gradient Descent)\n",
    "scaler = StandardScaler().fit(X_train)\n",
    "X_train_scaled = scaler.transform(X_train)\n",
    "X_test_scaled = scaler.transform(X_test) # Do NOT refit the scaler with the test data, just transform it.\n",
    "\n",
    "X_train = X_train_scaled \n",
    "X_test = X_test_scaled"
   ]
  },
  {
   "cell_type": "code",
   "execution_count": 8,
   "id": "33a0c14f",
   "metadata": {},
   "outputs": [
    {
     "name": "stdout",
     "output_type": "stream",
     "text": [
      "73.37662337662337\n"
     ]
    }
   ],
   "source": [
    "# Create a model - not trained yet\n",
    "logreg = LogisticRegression()\n",
    "\n",
    "# Train the model\n",
    "logreg.fit(X_train, y_train)\n",
    "\n",
    "# Test the model - prediction - two ways to go\n",
    "y_pred = logreg.predict(X_test) # Get the predicted classes first\n",
    "print(accuracy_score(y_pred, y_test)*100) # Use the predicted and true classes for accuracy"
   ]
  },
  {
   "cell_type": "code",
   "execution_count": 9,
   "id": "fac6e6d0",
   "metadata": {},
   "outputs": [
    {
     "name": "stdout",
     "output_type": "stream",
     "text": [
      "73.37662337662337\n"
     ]
    }
   ],
   "source": [
    "print(logreg.score(X_test, y_test)*100) # Use .score with test predictors and response to get the accuracy\n",
    "                                            # Implements the same thing under the hood"
   ]
  },
  {
   "cell_type": "code",
   "execution_count": 10,
   "id": "4f9b8266",
   "metadata": {},
   "outputs": [
    {
     "name": "stdout",
     "output_type": "stream",
     "text": [
      "[[ 0.32572891  1.20110566 -0.32046591  0.06849882 -0.21727131  0.72619528\n",
      "   0.40088897  0.29698818]]\n"
     ]
    }
   ],
   "source": [
    "print(logreg.coef_) # Use coef_ to return the coefficients - only log reg inference you can do with sklearn"
   ]
  },
  {
   "cell_type": "code",
   "execution_count": 11,
   "id": "0ee3c53a",
   "metadata": {},
   "outputs": [
    {
     "name": "stdout",
     "output_type": "stream",
     "text": [
      "[[87 17]\n",
      " [24 26]]\n",
      "0.6046511627906976\n",
      "0.52\n"
     ]
    }
   ],
   "source": [
    "# all metrics exist in sklearn\n",
    "from sklearn.metrics import precision_score, recall_score, confusion_matrix\n",
    "\n",
    "print(confusion_matrix(y_test, y_pred))\n",
    "print(precision_score(y_test, y_pred))\n",
    "print(recall_score(y_test, y_pred))\n",
    "\n",
    "# What we covered today:\n",
    "    # A recap of Log. Reg. with sklearn\n",
    "        # Separate the predictors and response (if necessary)\n",
    "        # Split the data into train and test (if necessary)\n",
    "        \n",
    "        # Create a model\n",
    "        # Train with .fit\n",
    "        # Predict with .predict or get the accuracy with .score\n",
    "        # Use sklearn metrics with y_pred and y_test\n",
    "\n",
    "\n",
    "        # Same idea with LinearRegression()\n",
    "        # .score returns r-squared by default\n",
    "        # use the appropriate metrics!\n",
    "\n",
    "\n",
    "###################################################################################################"
   ]
  },
  {
   "cell_type": "code",
   "execution_count": 12,
   "id": "35b92389",
   "metadata": {},
   "outputs": [
    {
     "name": "stdout",
     "output_type": "stream",
     "text": [
      "[[78 26]\n",
      " [15 35]]\n",
      "0.5737704918032787\n",
      "0.7\n"
     ]
    }
   ],
   "source": [
    "# More details on the LogisticRegression model:\n",
    "    # Inputs - for regularization and \n",
    "    # prediction prob.s instead of classes - so we can change the thresholds\n",
    "    \n",
    "# .predict_proba returns the prob.s for both classes\n",
    "    # Two cols for two classes\n",
    "    # Apply your threshold to y_pred_probs[1] (second col)\n",
    "y_pred_probs = logreg.predict_proba(X_test)    \n",
    "\n",
    "cutoff = 0.3\n",
    "\n",
    "y_pred2 = y_pred_probs[:,1] > cutoff\n",
    "y_pred2 = y_pred2.astype(int)\n",
    "\n",
    "print(confusion_matrix(y_test, y_pred2))\n",
    "print(precision_score(y_test, y_pred2))\n",
    "print(recall_score(y_test, y_pred2))\n"
   ]
  },
  {
   "cell_type": "code",
   "execution_count": 13,
   "id": "2ab2d2b5",
   "metadata": {},
   "outputs": [
    {
     "name": "stdout",
     "output_type": "stream",
     "text": [
      "73.37662337662337\n"
     ]
    }
   ],
   "source": [
    "# Throughout the course, we will create many different models in sklearn, all of them will have\n",
    "    # .fit\n",
    "    # .predict\n",
    "    # .score\n",
    "    # .predict_proba\n",
    "# methods, among others that are specific to them. Make sure how to use there 4 basic ones.\n",
    "\n",
    "# Let's take a look at the documentation - always do this for the other models we will see\n",
    "# Log Reg model has default regularization\n",
    "    # Default (regularization) penalty is \"l2\" - this means Ridge \n",
    "    # C is 1/lambda - remember that lambda is the hyperparameter that is multiplied with the ridge penalty\n",
    "        # C is 1 by default\n",
    "        \n",
    "# Let's take away the regularization\n",
    "logreg2 = LogisticRegression(C=1e10)\n",
    "logreg2.fit(X_train, y_train)\n",
    "y_pred = logreg2.predict(X_test) # Get the predicted classes first\n",
    "print(accuracy_score(y_pred, y_test)*100)"
   ]
  },
  {
   "cell_type": "code",
   "execution_count": 14,
   "id": "057a53b5",
   "metadata": {},
   "outputs": [
    {
     "name": "stdout",
     "output_type": "stream",
     "text": [
      "67.53246753246754\n"
     ]
    }
   ],
   "source": [
    "# Test accuracy stayed the same - reg was not very necessary\n",
    "\n",
    "# Too much reg\n",
    "logreg2 = LogisticRegression(C=1e-10)\n",
    "logreg2.fit(X_train, y_train)\n",
    "y_pred = logreg2.predict(X_test) # Get the predicted classes first\n",
    "print(accuracy_score(y_pred, y_test)*100)\n",
    "\n",
    "# Test accuracy is even lower - too much reg caused underfitting\n"
   ]
  },
  {
   "cell_type": "code",
   "execution_count": 16,
   "id": "1fea0c5e",
   "metadata": {},
   "outputs": [
    {
     "data": {
      "image/png": "[encoded data removed]",
      "text/plain": [
       "<Figure size 432x288 with 1 Axes>"
      ]
     },
     "metadata": {
      "needs_background": "light"
     },
     "output_type": "display_data"
    }
   ],
   "source": [
    "# The key to take full advantage of sklearn models is their inputs\n",
    "    # Always read the doc\n",
    "    # In Log Reg, you can switch to Lasso with penalty = 'l1' - for variable selection\n",
    "    # For no regression, besides what we did above, you can use penalty = None\n",
    "    \n",
    "# Recall that C, or lambda, is a hyperparameter, which is optimized with cross-validation\n",
    "    # There is LogisticRegressionCV, just like LassoCV and RidgeCV\n",
    "    # Works the exact same way - check LassoCV and RidgeCV notes\n",
    "    \n",
    "# For all the sklearn models we will create in this course, there will be hyperparameters.\n",
    "    # Mostly more than one for each model\n",
    "    # These hyperparameters will determine how much regularization the model will have\n",
    "    # These models will not have a CV version\n",
    "    # So, we need to use two sklearn tools that implement cross-validation\n",
    "        # cross_val_score - now\n",
    "        # GridSearchCV - later when we get to trees and tree-based models\n",
    "\n",
    "from sklearn.model_selection import cross_val_score\n",
    "\n",
    "val_scores = []\n",
    "\n",
    "hyperparam_vals = 10**np.linspace(-5, 10)\n",
    "\n",
    "for c_val in hyperparam_vals: # For each possible C value in your grid\n",
    "    logreg_model = LogisticRegression(C=c_val) # Create a model with the C value\n",
    "    \n",
    "    val_scores.append(cross_val_score(logreg_model, X_train, y_train, scoring='accuracy', cv=5)) # Find the cv results\n",
    "    \n",
    "    \n",
    "import matplotlib.pyplot as plt\n",
    "\n",
    "plt.plot(hyperparam_vals, np.mean(np.array(val_scores), axis=1))\n",
    "plt.xlabel('possible C value')\n",
    "plt.ylabel('avg 5-fold CV value')\n",
    "plt.xscale('log')\n",
    "plt.show()\n",
    "\n",
    "\n",
    "# Train the best model with the hyperparam val that returns the highest average accuracy\n",
    "logreg_model_best = LogisticRegression(C=hyperparam_vals[np.argmax(np.mean(np.array(val_scores), axis=1))])\n",
    "\n",
    "# .fit\n",
    "# .predict & .predict_proba\n",
    "# .score\n",
    "# ...\n",
    "\n",
    "# Log. reg. has one hyperparameter - C.\n",
    "# More complex models will have more\n",
    "# If we have two hyperparams - we can use a nested loop and cross_val_score\n",
    "    # or we can use GridSearchCV - more on that when we get to trees and tree-based models. "
   ]
  }
 ],
 "metadata": {
  "kernelspec": {
   "display_name": "Python 3",
   "language": "python",
   "name": "python3"
  },
  "language_info": {
   "codemirror_mode": {
    "name": "ipython",
    "version": 3
   },
   "file_extension": ".py",
   "mimetype": "text/x-python",
   "name": "python",
   "nbconvert_exporter": "python",
   "pygments_lexer": "ipython3",
   "version": "3.8.8"
  }
 },
 "nbformat": 4,
 "nbformat_minor": 5
}
