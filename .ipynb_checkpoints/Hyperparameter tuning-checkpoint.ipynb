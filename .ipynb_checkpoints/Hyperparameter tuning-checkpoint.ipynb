{
 "cells": [
  {
   "cell_type": "raw",
   "id": "1e00c4da-1ec9-4402-a28b-6ad4b241b3a8",
   "metadata": {},
   "source": [
    "---\n",
    "title: \"Hyperparameter tuning\"\n",
    "format: \n",
    "  html:\n",
    "    code-fold: false\n",
    "    toc-depth: 4\n",
    "    jupyter: python3\n",
    "---"
   ]
  },
  {
   "cell_type": "markdown",
   "id": "cb0ab307",
   "metadata": {},
   "source": [
    "In this chapter we'll introduce several functions that help with tuning hyperparameters of a machine learning model."
   ]
  },
  {
   "cell_type": "code",
   "execution_count": 158,
   "id": "cae4e49e",
   "metadata": {},
   "outputs": [],
   "source": [
    "import numpy as np\n",
    "import pandas as pd\n",
    "from sklearn.model_selection import train_test_split, cross_val_score, cross_val_predict, \\\n",
    "cross_validate, GridSearchCV, RandomizedSearchCV, KFold, StratifiedKFold, RepeatedKFold, RepeatedStratifiedKFold\n",
    "from sklearn.neighbors import KNeighborsClassifier, KNeighborsRegressor\n",
    "from sklearn.preprocessing import StandardScaler\n",
    "from sklearn.metrics import accuracy_score, recall_score, mean_squared_error\n",
    "from scipy.stats import uniform\n",
    "from skopt import BayesSearchCV\n",
    "from skopt.space import Real, Categorical, Integer\n",
    "import seaborn as sns\n",
    "from skopt.plots import plot_objective\n",
    "import matplotlib.pyplot as plt\n",
    "import warnings"
   ]
  },
  {
   "cell_type": "markdown",
   "id": "6b989380",
   "metadata": {},
   "source": [
    "Let us read and pre-process data first. Then we'll be ready to tune the model hyperparameters. We'll use KNN as the model. Note that KNN has multiple hyperparameters to tune, such as number of neighbors, distance metric, weights of neighbours, etc."
   ]
  },
  {
   "cell_type": "code",
   "execution_count": 62,
   "id": "ee908a2b",
   "metadata": {},
   "outputs": [
    {
     "data": {
      "text/html": [
       "<div>\n",
       "<style scoped>\n",
       "    .dataframe tbody tr th:only-of-type {\n",
       "        vertical-align: middle;\n",
       "    }\n",
       "\n",
       "    .dataframe tbody tr th {\n",
       "        vertical-align: top;\n",
       "    }\n",
       "\n",
       "    .dataframe thead th {\n",
       "        text-align: right;\n",
       "    }\n",
       "</style>\n",
       "<table border=\"1\" class=\"dataframe\">\n",
       "  <thead>\n",
       "    <tr style=\"text-align: right;\">\n",
       "      <th></th>\n",
       "      <th>carID</th>\n",
       "      <th>brand</th>\n",
       "      <th>model</th>\n",
       "      <th>year</th>\n",
       "      <th>transmission</th>\n",
       "      <th>mileage</th>\n",
       "      <th>fuelType</th>\n",
       "      <th>tax</th>\n",
       "      <th>mpg</th>\n",
       "      <th>engineSize</th>\n",
       "      <th>price</th>\n",
       "    </tr>\n",
       "  </thead>\n",
       "  <tbody>\n",
       "    <tr>\n",
       "      <th>0</th>\n",
       "      <td>18473</td>\n",
       "      <td>bmw</td>\n",
       "      <td>6 Series</td>\n",
       "      <td>2020</td>\n",
       "      <td>Semi-Auto</td>\n",
       "      <td>11</td>\n",
       "      <td>Diesel</td>\n",
       "      <td>145</td>\n",
       "      <td>53.3282</td>\n",
       "      <td>3.0</td>\n",
       "      <td>37980</td>\n",
       "    </tr>\n",
       "    <tr>\n",
       "      <th>1</th>\n",
       "      <td>15064</td>\n",
       "      <td>bmw</td>\n",
       "      <td>6 Series</td>\n",
       "      <td>2019</td>\n",
       "      <td>Semi-Auto</td>\n",
       "      <td>10813</td>\n",
       "      <td>Diesel</td>\n",
       "      <td>145</td>\n",
       "      <td>53.0430</td>\n",
       "      <td>3.0</td>\n",
       "      <td>33980</td>\n",
       "    </tr>\n",
       "    <tr>\n",
       "      <th>2</th>\n",
       "      <td>18268</td>\n",
       "      <td>bmw</td>\n",
       "      <td>6 Series</td>\n",
       "      <td>2020</td>\n",
       "      <td>Semi-Auto</td>\n",
       "      <td>6</td>\n",
       "      <td>Diesel</td>\n",
       "      <td>145</td>\n",
       "      <td>53.4379</td>\n",
       "      <td>3.0</td>\n",
       "      <td>36850</td>\n",
       "    </tr>\n",
       "    <tr>\n",
       "      <th>3</th>\n",
       "      <td>18480</td>\n",
       "      <td>bmw</td>\n",
       "      <td>6 Series</td>\n",
       "      <td>2017</td>\n",
       "      <td>Semi-Auto</td>\n",
       "      <td>18895</td>\n",
       "      <td>Diesel</td>\n",
       "      <td>145</td>\n",
       "      <td>51.5140</td>\n",
       "      <td>3.0</td>\n",
       "      <td>25998</td>\n",
       "    </tr>\n",
       "    <tr>\n",
       "      <th>4</th>\n",
       "      <td>18492</td>\n",
       "      <td>bmw</td>\n",
       "      <td>6 Series</td>\n",
       "      <td>2015</td>\n",
       "      <td>Automatic</td>\n",
       "      <td>62953</td>\n",
       "      <td>Diesel</td>\n",
       "      <td>160</td>\n",
       "      <td>51.4903</td>\n",
       "      <td>3.0</td>\n",
       "      <td>18990</td>\n",
       "    </tr>\n",
       "  </tbody>\n",
       "</table>\n",
       "</div>"
      ],
      "text/plain": [
       "   carID brand      model  year transmission  mileage fuelType  tax      mpg  \\\n",
       "0  18473   bmw   6 Series  2020    Semi-Auto       11   Diesel  145  53.3282   \n",
       "1  15064   bmw   6 Series  2019    Semi-Auto    10813   Diesel  145  53.0430   \n",
       "2  18268   bmw   6 Series  2020    Semi-Auto        6   Diesel  145  53.4379   \n",
       "3  18480   bmw   6 Series  2017    Semi-Auto    18895   Diesel  145  51.5140   \n",
       "4  18492   bmw   6 Series  2015    Automatic    62953   Diesel  160  51.4903   \n",
       "\n",
       "   engineSize  price  \n",
       "0         3.0  37980  \n",
       "1         3.0  33980  \n",
       "2         3.0  36850  \n",
       "3         3.0  25998  \n",
       "4         3.0  18990  "
      ]
     },
     "execution_count": 62,
     "metadata": {},
     "output_type": "execute_result"
    }
   ],
   "source": [
    "#Using the same datasets as used for linear regression in STAT303-2, \n",
    "#so that we can compare the non-linear models with linear regression\n",
    "trainf = pd.read_csv('./Datasets/Car_features_train.csv')\n",
    "trainp = pd.read_csv('./Datasets/Car_prices_train.csv')\n",
    "testf = pd.read_csv('./Datasets/Car_features_test.csv')\n",
    "testp = pd.read_csv('./Datasets/Car_prices_test.csv')\n",
    "train = pd.merge(trainf,trainp)\n",
    "test = pd.merge(testf,testp)\n",
    "train.head()"
   ]
  },
  {
   "cell_type": "code",
   "execution_count": 63,
   "id": "7cb7914e",
   "metadata": {},
   "outputs": [],
   "source": [
    "predictors = ['mpg', 'engineSize', 'year', 'mileage']\n",
    "X_train = train[predictors]\n",
    "y_train = train['price']\n",
    "X_test = test[predictors]\n",
    "y_test = test['price']\n",
    "\n",
    "# Scale\n",
    "sc = StandardScaler()\n",
    "\n",
    "sc.fit(X_train)\n",
    "X_train_scaled = sc.transform(X_train)\n",
    "X_test_scaled = sc.transform(X_test)"
   ]
  },
  {
   "cell_type": "markdown",
   "id": "8776c2d1-722b-4e14-8b78-4b3f50f45bd4",
   "metadata": {},
   "source": [
    "## [`GridSearchCV`](https://scikit-learn.org/stable/modules/generated/sklearn.model_selection.GridSearchCV.html)\n",
    "\n",
    "The function is used to compute the cross-validated score *(MSE, RMSE, accuracy, etc.)* over a grid of hyperparameter values. This helps avoid nested `for()` loops if multiple hyperparameter values need to be tuned."
   ]
  },
  {
   "cell_type": "code",
   "execution_count": 64,
   "id": "84e92cbb",
   "metadata": {},
   "outputs": [
    {
     "name": "stdout",
     "output_type": "stream",
     "text": [
      "Fitting 5 folds for each of 180 candidates, totalling 900 fits\n"
     ]
    },
    {
     "data": {
      "text/html": [
       "<style>#sk-container-id-14 {color: black;background-color: white;}#sk-container-id-14 pre{padding: 0;}#sk-container-id-14 div.sk-toggleable {background-color: white;}#sk-container-id-14 label.sk-toggleable__label {cursor: pointer;display: block;width: 100%;margin-bottom: 0;padding: 0.3em;box-sizing: border-box;text-align: center;}#sk-container-id-14 label.sk-toggleable__label-arrow:before {content: \"▸\";float: left;margin-right: 0.25em;color: #696969;}#sk-container-id-14 label.sk-toggleable__label-arrow:hover:before {color: black;}#sk-container-id-14 div.sk-estimator:hover label.sk-toggleable__label-arrow:before {color: black;}#sk-container-id-14 div.sk-toggleable__content {max-height: 0;max-width: 0;overflow: hidden;text-align: left;background-color: #f0f8ff;}#sk-container-id-14 div.sk-toggleable__content pre {margin: 0.2em;color: black;border-radius: 0.25em;background-color: #f0f8ff;}#sk-container-id-14 input.sk-toggleable__control:checked~div.sk-toggleable__content {max-height: 200px;max-width: 100%;overflow: auto;}#sk-container-id-14 input.sk-toggleable__control:checked~label.sk-toggleable__label-arrow:before {content: \"▾\";}#sk-container-id-14 div.sk-estimator input.sk-toggleable__control:checked~label.sk-toggleable__label {background-color: #d4ebff;}#sk-container-id-14 div.sk-label input.sk-toggleable__control:checked~label.sk-toggleable__label {background-color: #d4ebff;}#sk-container-id-14 input.sk-hidden--visually {border: 0;clip: rect(1px 1px 1px 1px);clip: rect(1px, 1px, 1px, 1px);height: 1px;margin: -1px;overflow: hidden;padding: 0;position: absolute;width: 1px;}#sk-container-id-14 div.sk-estimator {font-family: monospace;background-color: #f0f8ff;border: 1px dotted black;border-radius: 0.25em;box-sizing: border-box;margin-bottom: 0.5em;}#sk-container-id-14 div.sk-estimator:hover {background-color: #d4ebff;}#sk-container-id-14 div.sk-parallel-item::after {content: \"\";width: 100%;border-bottom: 1px solid gray;flex-grow: 1;}#sk-container-id-14 div.sk-label:hover label.sk-toggleable__label {background-color: #d4ebff;}#sk-container-id-14 div.sk-serial::before {content: \"\";position: absolute;border-left: 1px solid gray;box-sizing: border-box;top: 0;bottom: 0;left: 50%;z-index: 0;}#sk-container-id-14 div.sk-serial {display: flex;flex-direction: column;align-items: center;background-color: white;padding-right: 0.2em;padding-left: 0.2em;position: relative;}#sk-container-id-14 div.sk-item {position: relative;z-index: 1;}#sk-container-id-14 div.sk-parallel {display: flex;align-items: stretch;justify-content: center;background-color: white;position: relative;}#sk-container-id-14 div.sk-item::before, #sk-container-id-14 div.sk-parallel-item::before {content: \"\";position: absolute;border-left: 1px solid gray;box-sizing: border-box;top: 0;bottom: 0;left: 50%;z-index: -1;}#sk-container-id-14 div.sk-parallel-item {display: flex;flex-direction: column;z-index: 1;position: relative;background-color: white;}#sk-container-id-14 div.sk-parallel-item:first-child::after {align-self: flex-end;width: 50%;}#sk-container-id-14 div.sk-parallel-item:last-child::after {align-self: flex-start;width: 50%;}#sk-container-id-14 div.sk-parallel-item:only-child::after {width: 0;}#sk-container-id-14 div.sk-dashed-wrapped {border: 1px dashed gray;margin: 0 0.4em 0.5em 0.4em;box-sizing: border-box;padding-bottom: 0.4em;background-color: white;}#sk-container-id-14 div.sk-label label {font-family: monospace;font-weight: bold;display: inline-block;line-height: 1.2em;}#sk-container-id-14 div.sk-label-container {text-align: center;}#sk-container-id-14 div.sk-container {/* jupyter's `normalize.less` sets `[hidden] { display: none; }` but bootstrap.min.css set `[hidden] { display: none !important; }` so we also need the `!important` here to be able to override the default hidden behavior on the sphinx rendered scikit-learn.org. See: https://github.com/scikit-learn/scikit-learn/issues/21755 */display: inline-block !important;position: relative;}#sk-container-id-14 div.sk-text-repr-fallback {display: none;}</style><div id=\"sk-container-id-14\" class=\"sk-top-container\"><div class=\"sk-text-repr-fallback\"><pre>GridSearchCV(cv=KFold(n_splits=5, random_state=1, shuffle=True),\n",
       "             estimator=KNeighborsRegressor(), n_jobs=-1,\n",
       "             param_grid={&#x27;metric&#x27;: [&#x27;manhattan&#x27;, &#x27;euclidean&#x27;, &#x27;chebyshev&#x27;],\n",
       "                         &#x27;n_neighbors&#x27;: array([  5,  10,  15,  20,  25,  30,  35,  40,  45,  50,  55,  60,  65,\n",
       "        70,  75,  80,  85,  90,  95, 100, 105, 110, 115, 120, 125, 130,\n",
       "       135, 140, 145, 150]),\n",
       "                         &#x27;weights&#x27;: [&#x27;uniform&#x27;, &#x27;distance&#x27;]},\n",
       "             scoring=&#x27;neg_root_mean_squared_error&#x27;, verbose=10)</pre><b>In a Jupyter environment, please rerun this cell to show the HTML representation or trust the notebook. <br />On GitHub, the HTML representation is unable to render, please try loading this page with nbviewer.org.</b></div><div class=\"sk-container\" hidden><div class=\"sk-item sk-dashed-wrapped\"><div class=\"sk-label-container\"><div class=\"sk-label sk-toggleable\"><input class=\"sk-toggleable__control sk-hidden--visually\" id=\"sk-estimator-id-38\" type=\"checkbox\" ><label for=\"sk-estimator-id-38\" class=\"sk-toggleable__label sk-toggleable__label-arrow\">GridSearchCV</label><div class=\"sk-toggleable__content\"><pre>GridSearchCV(cv=KFold(n_splits=5, random_state=1, shuffle=True),\n",
       "             estimator=KNeighborsRegressor(), n_jobs=-1,\n",
       "             param_grid={&#x27;metric&#x27;: [&#x27;manhattan&#x27;, &#x27;euclidean&#x27;, &#x27;chebyshev&#x27;],\n",
       "                         &#x27;n_neighbors&#x27;: array([  5,  10,  15,  20,  25,  30,  35,  40,  45,  50,  55,  60,  65,\n",
       "        70,  75,  80,  85,  90,  95, 100, 105, 110, 115, 120, 125, 130,\n",
       "       135, 140, 145, 150]),\n",
       "                         &#x27;weights&#x27;: [&#x27;uniform&#x27;, &#x27;distance&#x27;]},\n",
       "             scoring=&#x27;neg_root_mean_squared_error&#x27;, verbose=10)</pre></div></div></div><div class=\"sk-parallel\"><div class=\"sk-parallel-item\"><div class=\"sk-item\"><div class=\"sk-label-container\"><div class=\"sk-label sk-toggleable\"><input class=\"sk-toggleable__control sk-hidden--visually\" id=\"sk-estimator-id-39\" type=\"checkbox\" ><label for=\"sk-estimator-id-39\" class=\"sk-toggleable__label sk-toggleable__label-arrow\">estimator: KNeighborsRegressor</label><div class=\"sk-toggleable__content\"><pre>KNeighborsRegressor()</pre></div></div></div><div class=\"sk-serial\"><div class=\"sk-item\"><div class=\"sk-estimator sk-toggleable\"><input class=\"sk-toggleable__control sk-hidden--visually\" id=\"sk-estimator-id-40\" type=\"checkbox\" ><label for=\"sk-estimator-id-40\" class=\"sk-toggleable__label sk-toggleable__label-arrow\">KNeighborsRegressor</label><div class=\"sk-toggleable__content\"><pre>KNeighborsRegressor()</pre></div></div></div></div></div></div></div></div></div></div>"
      ],
      "text/plain": [
       "GridSearchCV(cv=KFold(n_splits=5, random_state=1, shuffle=True),\n",
       "             estimator=KNeighborsRegressor(), n_jobs=-1,\n",
       "             param_grid={'metric': ['manhattan', 'euclidean', 'chebyshev'],\n",
       "                         'n_neighbors': array([  5,  10,  15,  20,  25,  30,  35,  40,  45,  50,  55,  60,  65,\n",
       "        70,  75,  80,  85,  90,  95, 100, 105, 110, 115, 120, 125, 130,\n",
       "       135, 140, 145, 150]),\n",
       "                         'weights': ['uniform', 'distance']},\n",
       "             scoring='neg_root_mean_squared_error', verbose=10)"
      ]
     },
     "execution_count": 64,
     "metadata": {},
     "output_type": "execute_result"
    }
   ],
   "source": [
    "# GridSearchCV works in three steps:\n",
    "\n",
    "# 1) Create the model\n",
    "model = KNeighborsRegressor() # No inputs defined inside the model\n",
    "\n",
    "# 2) Create a hyperparameter grid (as a dict)\n",
    "    # the keys should be EXACTLY the same as the names of the model inputs\n",
    "    # the values should be an array or list of hyperparam values you want to try out\n",
    "    \n",
    "# 30 K values x 2 weight settings x 3 metric settings = 180 different combinations in this grid\n",
    "grid = {'n_neighbors': np.arange(5, 151, 5), 'weights':['uniform', 'distance'], \n",
    "        'metric': ['manhattan', 'euclidean', 'chebyshev']}\n",
    "# 3) Create the Kfold object (Using RepeatedKFold will be more robust, but more expensive, use it if you \n",
    "# have the budget)\n",
    "kfold = KFold(n_splits = 5, shuffle = True, random_state = 1)\n",
    "\n",
    "# 4) Create the CV object\n",
    "# Look at the documentation to see the order in which the objects must be specified within the function\n",
    "gcv = GridSearchCV(model, grid, cv = kfold, scoring = 'neg_root_mean_squared_error', n_jobs = -1, verbose = 10)\n",
    "\n",
    "# Fit the models, and cross-validate\n",
    "gcv.fit(X_train_scaled, y_train)"
   ]
  },
  {
   "cell_type": "markdown",
   "id": "a59ef06e",
   "metadata": {},
   "source": [
    "The optimal estimator based on cross-validation is:"
   ]
  },
  {
   "cell_type": "code",
   "execution_count": 65,
   "id": "87e4d3bc",
   "metadata": {},
   "outputs": [
    {
     "data": {
      "text/html": [
       "<style>#sk-container-id-15 {color: black;background-color: white;}#sk-container-id-15 pre{padding: 0;}#sk-container-id-15 div.sk-toggleable {background-color: white;}#sk-container-id-15 label.sk-toggleable__label {cursor: pointer;display: block;width: 100%;margin-bottom: 0;padding: 0.3em;box-sizing: border-box;text-align: center;}#sk-container-id-15 label.sk-toggleable__label-arrow:before {content: \"▸\";float: left;margin-right: 0.25em;color: #696969;}#sk-container-id-15 label.sk-toggleable__label-arrow:hover:before {color: black;}#sk-container-id-15 div.sk-estimator:hover label.sk-toggleable__label-arrow:before {color: black;}#sk-container-id-15 div.sk-toggleable__content {max-height: 0;max-width: 0;overflow: hidden;text-align: left;background-color: #f0f8ff;}#sk-container-id-15 div.sk-toggleable__content pre {margin: 0.2em;color: black;border-radius: 0.25em;background-color: #f0f8ff;}#sk-container-id-15 input.sk-toggleable__control:checked~div.sk-toggleable__content {max-height: 200px;max-width: 100%;overflow: auto;}#sk-container-id-15 input.sk-toggleable__control:checked~label.sk-toggleable__label-arrow:before {content: \"▾\";}#sk-container-id-15 div.sk-estimator input.sk-toggleable__control:checked~label.sk-toggleable__label {background-color: #d4ebff;}#sk-container-id-15 div.sk-label input.sk-toggleable__control:checked~label.sk-toggleable__label {background-color: #d4ebff;}#sk-container-id-15 input.sk-hidden--visually {border: 0;clip: rect(1px 1px 1px 1px);clip: rect(1px, 1px, 1px, 1px);height: 1px;margin: -1px;overflow: hidden;padding: 0;position: absolute;width: 1px;}#sk-container-id-15 div.sk-estimator {font-family: monospace;background-color: #f0f8ff;border: 1px dotted black;border-radius: 0.25em;box-sizing: border-box;margin-bottom: 0.5em;}#sk-container-id-15 div.sk-estimator:hover {background-color: #d4ebff;}#sk-container-id-15 div.sk-parallel-item::after {content: \"\";width: 100%;border-bottom: 1px solid gray;flex-grow: 1;}#sk-container-id-15 div.sk-label:hover label.sk-toggleable__label {background-color: #d4ebff;}#sk-container-id-15 div.sk-serial::before {content: \"\";position: absolute;border-left: 1px solid gray;box-sizing: border-box;top: 0;bottom: 0;left: 50%;z-index: 0;}#sk-container-id-15 div.sk-serial {display: flex;flex-direction: column;align-items: center;background-color: white;padding-right: 0.2em;padding-left: 0.2em;position: relative;}#sk-container-id-15 div.sk-item {position: relative;z-index: 1;}#sk-container-id-15 div.sk-parallel {display: flex;align-items: stretch;justify-content: center;background-color: white;position: relative;}#sk-container-id-15 div.sk-item::before, #sk-container-id-15 div.sk-parallel-item::before {content: \"\";position: absolute;border-left: 1px solid gray;box-sizing: border-box;top: 0;bottom: 0;left: 50%;z-index: -1;}#sk-container-id-15 div.sk-parallel-item {display: flex;flex-direction: column;z-index: 1;position: relative;background-color: white;}#sk-container-id-15 div.sk-parallel-item:first-child::after {align-self: flex-end;width: 50%;}#sk-container-id-15 div.sk-parallel-item:last-child::after {align-self: flex-start;width: 50%;}#sk-container-id-15 div.sk-parallel-item:only-child::after {width: 0;}#sk-container-id-15 div.sk-dashed-wrapped {border: 1px dashed gray;margin: 0 0.4em 0.5em 0.4em;box-sizing: border-box;padding-bottom: 0.4em;background-color: white;}#sk-container-id-15 div.sk-label label {font-family: monospace;font-weight: bold;display: inline-block;line-height: 1.2em;}#sk-container-id-15 div.sk-label-container {text-align: center;}#sk-container-id-15 div.sk-container {/* jupyter's `normalize.less` sets `[hidden] { display: none; }` but bootstrap.min.css set `[hidden] { display: none !important; }` so we also need the `!important` here to be able to override the default hidden behavior on the sphinx rendered scikit-learn.org. See: https://github.com/scikit-learn/scikit-learn/issues/21755 */display: inline-block !important;position: relative;}#sk-container-id-15 div.sk-text-repr-fallback {display: none;}</style><div id=\"sk-container-id-15\" class=\"sk-top-container\"><div class=\"sk-text-repr-fallback\"><pre>KNeighborsRegressor(metric=&#x27;manhattan&#x27;, n_neighbors=10, weights=&#x27;distance&#x27;)</pre><b>In a Jupyter environment, please rerun this cell to show the HTML representation or trust the notebook. <br />On GitHub, the HTML representation is unable to render, please try loading this page with nbviewer.org.</b></div><div class=\"sk-container\" hidden><div class=\"sk-item\"><div class=\"sk-estimator sk-toggleable\"><input class=\"sk-toggleable__control sk-hidden--visually\" id=\"sk-estimator-id-41\" type=\"checkbox\" checked><label for=\"sk-estimator-id-41\" class=\"sk-toggleable__label sk-toggleable__label-arrow\">KNeighborsRegressor</label><div class=\"sk-toggleable__content\"><pre>KNeighborsRegressor(metric=&#x27;manhattan&#x27;, n_neighbors=10, weights=&#x27;distance&#x27;)</pre></div></div></div></div></div>"
      ],
      "text/plain": [
       "KNeighborsRegressor(metric='manhattan', n_neighbors=10, weights='distance')"
      ]
     },
     "execution_count": 65,
     "metadata": {},
     "output_type": "execute_result"
    }
   ],
   "source": [
    "gcv.best_estimator_"
   ]
  },
  {
   "cell_type": "markdown",
   "id": "67e09b69",
   "metadata": {},
   "source": [
    "The optimal hyperparameter values *(based on those considered in the grid search)* are:"
   ]
  },
  {
   "cell_type": "code",
   "execution_count": 66,
   "id": "63b28c61",
   "metadata": {},
   "outputs": [
    {
     "data": {
      "text/plain": [
       "{'metric': 'manhattan', 'n_neighbors': 10, 'weights': 'distance'}"
      ]
     },
     "execution_count": 66,
     "metadata": {},
     "output_type": "execute_result"
    }
   ],
   "source": [
    "gcv.best_params_"
   ]
  },
  {
   "cell_type": "markdown",
   "id": "e5c747a8",
   "metadata": {},
   "source": [
    "The cross-validated root mean squared error for the optimal hyperparameter values is:"
   ]
  },
  {
   "cell_type": "code",
   "execution_count": 67,
   "id": "a4d8b252",
   "metadata": {},
   "outputs": [
    {
     "data": {
      "text/plain": [
       "5740.928686723918"
      ]
     },
     "execution_count": 67,
     "metadata": {},
     "output_type": "execute_result"
    }
   ],
   "source": [
    "-gcv.best_score_"
   ]
  },
  {
   "cell_type": "markdown",
   "id": "2ba1bc39",
   "metadata": {},
   "source": [
    "The RMSE on test data for the optimal hyperparameter values is:"
   ]
  },
  {
   "cell_type": "code",
   "execution_count": 68,
   "id": "5aab6c66",
   "metadata": {},
   "outputs": [
    {
     "data": {
      "text/plain": [
       "5747.466851437544"
      ]
     },
     "execution_count": 68,
     "metadata": {},
     "output_type": "execute_result"
    }
   ],
   "source": [
    "y_pred = gcv.predict(X_test_scaled)\n",
    "mean_squared_error(y_test, y_pred, squared=False)"
   ]
  },
  {
   "cell_type": "markdown",
   "id": "5bb438f7",
   "metadata": {},
   "source": [
    "Note that the error is further reduced as compared to the case when we tuned only one hyperparameter in the [previous chatper](https://nustat.github.io/STAT303-3-class-notes/KNN.html#repeatedkfold). We must tune all the hyperparameters that can effect prediction accuracy, in order to get the most accurate model."
   ]
  },
  {
   "cell_type": "markdown",
   "id": "f63f161d",
   "metadata": {},
   "source": [
    "The results for each cross-validation are stored in the `cv_results_` attribute. "
   ]
  },
  {
   "cell_type": "code",
   "execution_count": 15,
   "id": "bcc5903f",
   "metadata": {},
   "outputs": [
    {
     "data": {
      "text/html": [
       "<div>\n",
       "<style scoped>\n",
       "    .dataframe tbody tr th:only-of-type {\n",
       "        vertical-align: middle;\n",
       "    }\n",
       "\n",
       "    .dataframe tbody tr th {\n",
       "        vertical-align: top;\n",
       "    }\n",
       "\n",
       "    .dataframe thead th {\n",
       "        text-align: right;\n",
       "    }\n",
       "</style>\n",
       "<table border=\"1\" class=\"dataframe\">\n",
       "  <thead>\n",
       "    <tr style=\"text-align: right;\">\n",
       "      <th></th>\n",
       "      <th>mean_fit_time</th>\n",
       "      <th>std_fit_time</th>\n",
       "      <th>mean_score_time</th>\n",
       "      <th>std_score_time</th>\n",
       "      <th>param_metric</th>\n",
       "      <th>param_n_neighbors</th>\n",
       "      <th>param_weights</th>\n",
       "      <th>params</th>\n",
       "      <th>split0_test_score</th>\n",
       "      <th>split1_test_score</th>\n",
       "      <th>split2_test_score</th>\n",
       "      <th>split3_test_score</th>\n",
       "      <th>split4_test_score</th>\n",
       "      <th>mean_test_score</th>\n",
       "      <th>std_test_score</th>\n",
       "      <th>rank_test_score</th>\n",
       "    </tr>\n",
       "  </thead>\n",
       "  <tbody>\n",
       "    <tr>\n",
       "      <th>0</th>\n",
       "      <td>0.011169</td>\n",
       "      <td>0.005060</td>\n",
       "      <td>0.011768</td>\n",
       "      <td>0.001716</td>\n",
       "      <td>manhattan</td>\n",
       "      <td>5</td>\n",
       "      <td>uniform</td>\n",
       "      <td>{'metric': 'manhattan', 'n_neighbors': 5, 'wei...</td>\n",
       "      <td>-6781.316742</td>\n",
       "      <td>-5997.969637</td>\n",
       "      <td>-6726.786770</td>\n",
       "      <td>-6488.191029</td>\n",
       "      <td>-6168.502006</td>\n",
       "      <td>-6432.553237</td>\n",
       "      <td>306.558600</td>\n",
       "      <td>19</td>\n",
       "    </tr>\n",
       "    <tr>\n",
       "      <th>1</th>\n",
       "      <td>0.009175</td>\n",
       "      <td>0.001934</td>\n",
       "      <td>0.009973</td>\n",
       "      <td>0.000631</td>\n",
       "      <td>manhattan</td>\n",
       "      <td>5</td>\n",
       "      <td>distance</td>\n",
       "      <td>{'metric': 'manhattan', 'n_neighbors': 5, 'wei...</td>\n",
       "      <td>-6449.449369</td>\n",
       "      <td>-5502.975790</td>\n",
       "      <td>-6306.888303</td>\n",
       "      <td>-5780.902979</td>\n",
       "      <td>-5365.980081</td>\n",
       "      <td>-5881.239304</td>\n",
       "      <td>429.577113</td>\n",
       "      <td>3</td>\n",
       "    </tr>\n",
       "    <tr>\n",
       "      <th>2</th>\n",
       "      <td>0.008976</td>\n",
       "      <td>0.001092</td>\n",
       "      <td>0.012168</td>\n",
       "      <td>0.001323</td>\n",
       "      <td>manhattan</td>\n",
       "      <td>10</td>\n",
       "      <td>uniform</td>\n",
       "      <td>{'metric': 'manhattan', 'n_neighbors': 10, 'we...</td>\n",
       "      <td>-6668.299079</td>\n",
       "      <td>-6116.693116</td>\n",
       "      <td>-6387.505084</td>\n",
       "      <td>-6564.727623</td>\n",
       "      <td>-6219.094608</td>\n",
       "      <td>-6391.263902</td>\n",
       "      <td>205.856097</td>\n",
       "      <td>16</td>\n",
       "    </tr>\n",
       "    <tr>\n",
       "      <th>3</th>\n",
       "      <td>0.007979</td>\n",
       "      <td>0.000001</td>\n",
       "      <td>0.011970</td>\n",
       "      <td>0.000892</td>\n",
       "      <td>manhattan</td>\n",
       "      <td>10</td>\n",
       "      <td>distance</td>\n",
       "      <td>{'metric': 'manhattan', 'n_neighbors': 10, 'we...</td>\n",
       "      <td>-6331.374493</td>\n",
       "      <td>-5326.304310</td>\n",
       "      <td>-5787.179591</td>\n",
       "      <td>-5809.777811</td>\n",
       "      <td>-5450.007229</td>\n",
       "      <td>-5740.928687</td>\n",
       "      <td>349.872624</td>\n",
       "      <td>1</td>\n",
       "    </tr>\n",
       "    <tr>\n",
       "      <th>4</th>\n",
       "      <td>0.006781</td>\n",
       "      <td>0.000748</td>\n",
       "      <td>0.012367</td>\n",
       "      <td>0.001017</td>\n",
       "      <td>manhattan</td>\n",
       "      <td>15</td>\n",
       "      <td>uniform</td>\n",
       "      <td>{'metric': 'manhattan', 'n_neighbors': 15, 'we...</td>\n",
       "      <td>-6871.063499</td>\n",
       "      <td>-6412.214411</td>\n",
       "      <td>-6544.343677</td>\n",
       "      <td>-7008.348770</td>\n",
       "      <td>-6488.345118</td>\n",
       "      <td>-6664.863095</td>\n",
       "      <td>232.385843</td>\n",
       "      <td>33</td>\n",
       "    </tr>\n",
       "  </tbody>\n",
       "</table>\n",
       "</div>"
      ],
      "text/plain": [
       "   mean_fit_time  std_fit_time  mean_score_time  std_score_time param_metric  \\\n",
       "0       0.011169      0.005060         0.011768        0.001716    manhattan   \n",
       "1       0.009175      0.001934         0.009973        0.000631    manhattan   \n",
       "2       0.008976      0.001092         0.012168        0.001323    manhattan   \n",
       "3       0.007979      0.000001         0.011970        0.000892    manhattan   \n",
       "4       0.006781      0.000748         0.012367        0.001017    manhattan   \n",
       "\n",
       "  param_n_neighbors param_weights  \\\n",
       "0                 5       uniform   \n",
       "1                 5      distance   \n",
       "2                10       uniform   \n",
       "3                10      distance   \n",
       "4                15       uniform   \n",
       "\n",
       "                                              params  split0_test_score  \\\n",
       "0  {'metric': 'manhattan', 'n_neighbors': 5, 'wei...       -6781.316742   \n",
       "1  {'metric': 'manhattan', 'n_neighbors': 5, 'wei...       -6449.449369   \n",
       "2  {'metric': 'manhattan', 'n_neighbors': 10, 'we...       -6668.299079   \n",
       "3  {'metric': 'manhattan', 'n_neighbors': 10, 'we...       -6331.374493   \n",
       "4  {'metric': 'manhattan', 'n_neighbors': 15, 'we...       -6871.063499   \n",
       "\n",
       "   split1_test_score  split2_test_score  split3_test_score  split4_test_score  \\\n",
       "0       -5997.969637       -6726.786770       -6488.191029       -6168.502006   \n",
       "1       -5502.975790       -6306.888303       -5780.902979       -5365.980081   \n",
       "2       -6116.693116       -6387.505084       -6564.727623       -6219.094608   \n",
       "3       -5326.304310       -5787.179591       -5809.777811       -5450.007229   \n",
       "4       -6412.214411       -6544.343677       -7008.348770       -6488.345118   \n",
       "\n",
       "   mean_test_score  std_test_score  rank_test_score  \n",
       "0     -6432.553237      306.558600               19  \n",
       "1     -5881.239304      429.577113                3  \n",
       "2     -6391.263902      205.856097               16  \n",
       "3     -5740.928687      349.872624                1  \n",
       "4     -6664.863095      232.385843               33  "
      ]
     },
     "execution_count": 15,
     "metadata": {},
     "output_type": "execute_result"
    }
   ],
   "source": [
    "pd.DataFrame(gcv.cv_results_).head()"
   ]
  },
  {
   "cell_type": "markdown",
   "id": "e3f53d41",
   "metadata": {},
   "source": [
    "These results can be useful to see if other hyperparameter values are almost equally good.\n",
    "\n",
    "For example, the next two best optimal values of the hyperparameter correspond to neighbors being 15 and 5 respectively. As the test error has a high variance, the best hyperparameter values need not necessarily be actually optimal."
   ]
  },
  {
   "cell_type": "code",
   "execution_count": 16,
   "id": "bdd82539",
   "metadata": {},
   "outputs": [
    {
     "data": {
      "text/html": [
       "<div>\n",
       "<style scoped>\n",
       "    .dataframe tbody tr th:only-of-type {\n",
       "        vertical-align: middle;\n",
       "    }\n",
       "\n",
       "    .dataframe tbody tr th {\n",
       "        vertical-align: top;\n",
       "    }\n",
       "\n",
       "    .dataframe thead th {\n",
       "        text-align: right;\n",
       "    }\n",
       "</style>\n",
       "<table border=\"1\" class=\"dataframe\">\n",
       "  <thead>\n",
       "    <tr style=\"text-align: right;\">\n",
       "      <th></th>\n",
       "      <th>mean_fit_time</th>\n",
       "      <th>std_fit_time</th>\n",
       "      <th>mean_score_time</th>\n",
       "      <th>std_score_time</th>\n",
       "      <th>param_metric</th>\n",
       "      <th>param_n_neighbors</th>\n",
       "      <th>param_weights</th>\n",
       "      <th>params</th>\n",
       "      <th>split0_test_score</th>\n",
       "      <th>split1_test_score</th>\n",
       "      <th>split2_test_score</th>\n",
       "      <th>split3_test_score</th>\n",
       "      <th>split4_test_score</th>\n",
       "      <th>mean_test_score</th>\n",
       "      <th>std_test_score</th>\n",
       "      <th>rank_test_score</th>\n",
       "    </tr>\n",
       "  </thead>\n",
       "  <tbody>\n",
       "    <tr>\n",
       "      <th>3</th>\n",
       "      <td>0.007979</td>\n",
       "      <td>0.000001</td>\n",
       "      <td>0.011970</td>\n",
       "      <td>0.000892</td>\n",
       "      <td>manhattan</td>\n",
       "      <td>10</td>\n",
       "      <td>distance</td>\n",
       "      <td>{'metric': 'manhattan', 'n_neighbors': 10, 'we...</td>\n",
       "      <td>-6331.374493</td>\n",
       "      <td>-5326.304310</td>\n",
       "      <td>-5787.179591</td>\n",
       "      <td>-5809.777811</td>\n",
       "      <td>-5450.007229</td>\n",
       "      <td>-5740.928687</td>\n",
       "      <td>349.872624</td>\n",
       "      <td>1</td>\n",
       "    </tr>\n",
       "    <tr>\n",
       "      <th>5</th>\n",
       "      <td>0.009374</td>\n",
       "      <td>0.004829</td>\n",
       "      <td>0.013564</td>\n",
       "      <td>0.001850</td>\n",
       "      <td>manhattan</td>\n",
       "      <td>15</td>\n",
       "      <td>distance</td>\n",
       "      <td>{'metric': 'manhattan', 'n_neighbors': 15, 'we...</td>\n",
       "      <td>-6384.403268</td>\n",
       "      <td>-5427.978762</td>\n",
       "      <td>-5742.606651</td>\n",
       "      <td>-6041.135255</td>\n",
       "      <td>-5563.240077</td>\n",
       "      <td>-5831.872803</td>\n",
       "      <td>344.192700</td>\n",
       "      <td>2</td>\n",
       "    </tr>\n",
       "    <tr>\n",
       "      <th>1</th>\n",
       "      <td>0.009175</td>\n",
       "      <td>0.001934</td>\n",
       "      <td>0.009973</td>\n",
       "      <td>0.000631</td>\n",
       "      <td>manhattan</td>\n",
       "      <td>5</td>\n",
       "      <td>distance</td>\n",
       "      <td>{'metric': 'manhattan', 'n_neighbors': 5, 'wei...</td>\n",
       "      <td>-6449.449369</td>\n",
       "      <td>-5502.975790</td>\n",
       "      <td>-6306.888303</td>\n",
       "      <td>-5780.902979</td>\n",
       "      <td>-5365.980081</td>\n",
       "      <td>-5881.239304</td>\n",
       "      <td>429.577113</td>\n",
       "      <td>3</td>\n",
       "    </tr>\n",
       "    <tr>\n",
       "      <th>7</th>\n",
       "      <td>0.007977</td>\n",
       "      <td>0.001092</td>\n",
       "      <td>0.017553</td>\n",
       "      <td>0.002054</td>\n",
       "      <td>manhattan</td>\n",
       "      <td>20</td>\n",
       "      <td>distance</td>\n",
       "      <td>{'metric': 'manhattan', 'n_neighbors': 20, 'we...</td>\n",
       "      <td>-6527.825519</td>\n",
       "      <td>-5534.609170</td>\n",
       "      <td>-5860.837805</td>\n",
       "      <td>-6100.919269</td>\n",
       "      <td>-5679.403544</td>\n",
       "      <td>-5940.719061</td>\n",
       "      <td>349.270714</td>\n",
       "      <td>4</td>\n",
       "    </tr>\n",
       "    <tr>\n",
       "      <th>9</th>\n",
       "      <td>0.007777</td>\n",
       "      <td>0.000748</td>\n",
       "      <td>0.019349</td>\n",
       "      <td>0.003374</td>\n",
       "      <td>manhattan</td>\n",
       "      <td>25</td>\n",
       "      <td>distance</td>\n",
       "      <td>{'metric': 'manhattan', 'n_neighbors': 25, 'we...</td>\n",
       "      <td>-6620.272336</td>\n",
       "      <td>-5620.462675</td>\n",
       "      <td>-5976.406911</td>\n",
       "      <td>-6181.847891</td>\n",
       "      <td>-5786.081991</td>\n",
       "      <td>-6037.014361</td>\n",
       "      <td>346.791650</td>\n",
       "      <td>5</td>\n",
       "    </tr>\n",
       "  </tbody>\n",
       "</table>\n",
       "</div>"
      ],
      "text/plain": [
       "   mean_fit_time  std_fit_time  mean_score_time  std_score_time param_metric  \\\n",
       "3       0.007979      0.000001         0.011970        0.000892    manhattan   \n",
       "5       0.009374      0.004829         0.013564        0.001850    manhattan   \n",
       "1       0.009175      0.001934         0.009973        0.000631    manhattan   \n",
       "7       0.007977      0.001092         0.017553        0.002054    manhattan   \n",
       "9       0.007777      0.000748         0.019349        0.003374    manhattan   \n",
       "\n",
       "  param_n_neighbors param_weights  \\\n",
       "3                10      distance   \n",
       "5                15      distance   \n",
       "1                 5      distance   \n",
       "7                20      distance   \n",
       "9                25      distance   \n",
       "\n",
       "                                              params  split0_test_score  \\\n",
       "3  {'metric': 'manhattan', 'n_neighbors': 10, 'we...       -6331.374493   \n",
       "5  {'metric': 'manhattan', 'n_neighbors': 15, 'we...       -6384.403268   \n",
       "1  {'metric': 'manhattan', 'n_neighbors': 5, 'wei...       -6449.449369   \n",
       "7  {'metric': 'manhattan', 'n_neighbors': 20, 'we...       -6527.825519   \n",
       "9  {'metric': 'manhattan', 'n_neighbors': 25, 'we...       -6620.272336   \n",
       "\n",
       "   split1_test_score  split2_test_score  split3_test_score  split4_test_score  \\\n",
       "3       -5326.304310       -5787.179591       -5809.777811       -5450.007229   \n",
       "5       -5427.978762       -5742.606651       -6041.135255       -5563.240077   \n",
       "1       -5502.975790       -6306.888303       -5780.902979       -5365.980081   \n",
       "7       -5534.609170       -5860.837805       -6100.919269       -5679.403544   \n",
       "9       -5620.462675       -5976.406911       -6181.847891       -5786.081991   \n",
       "\n",
       "   mean_test_score  std_test_score  rank_test_score  \n",
       "3     -5740.928687      349.872624                1  \n",
       "5     -5831.872803      344.192700                2  \n",
       "1     -5881.239304      429.577113                3  \n",
       "7     -5940.719061      349.270714                4  \n",
       "9     -6037.014361      346.791650                5  "
      ]
     },
     "execution_count": 16,
     "metadata": {},
     "output_type": "execute_result"
    }
   ],
   "source": [
    "pd.DataFrame(gcv.cv_results_).sort_values(by = 'rank_test_score').head()"
   ]
  },
  {
   "cell_type": "markdown",
   "id": "ee11c9c3",
   "metadata": {},
   "source": [
    "Let us compute the RMSE on test data based on the 2nd and 3rd best hyperparameter values."
   ]
  },
  {
   "cell_type": "code",
   "execution_count": 17,
   "id": "1a782828",
   "metadata": {},
   "outputs": [
    {
     "data": {
      "text/plain": [
       "5800.418957612656"
      ]
     },
     "execution_count": 17,
     "metadata": {},
     "output_type": "execute_result"
    }
   ],
   "source": [
    "model = KNeighborsRegressor(n_neighbors=15, metric='manhattan', weights='distance').fit(X_train_scaled, y_train)\n",
    "mean_squared_error(model.predict(X_test_scaled), y_test, squared = False)"
   ]
  },
  {
   "cell_type": "code",
   "execution_count": 18,
   "id": "7cafc2b6",
   "metadata": {},
   "outputs": [
    {
     "data": {
      "text/plain": [
       "5722.4859230146685"
      ]
     },
     "execution_count": 18,
     "metadata": {},
     "output_type": "execute_result"
    }
   ],
   "source": [
    "model = KNeighborsRegressor(n_neighbors=5, metric='manhattan', weights='distance').fit(X_train_scaled, y_train)\n",
    "mean_squared_error(model.predict(X_test_scaled), y_test, squared = False)"
   ]
  },
  {
   "cell_type": "markdown",
   "id": "1a2781d2",
   "metadata": {},
   "source": [
    "We can see that the RMSE corresponding to the 3rd best hyperparameter value is the least. Due to variance in test errors, it may be a good idea to consider the set of top few best hyperparameter values, instead of just considering the best one. "
   ]
  },
  {
   "cell_type": "markdown",
   "id": "ebb1567b",
   "metadata": {},
   "source": [
    "## [`RandomizedSearchCV()`](https://scikit-learn.org/stable/modules/generated/sklearn.model_selection.RandomizedSearchCV.html)\n",
    "\n",
    "In case of many possible values of hyperparameters, it may be comptaionally very expensive to use `GridSearchCV()`. In such cases, `RandomizedSearchCV()` can be used to compute the cross-validated score on a randomly selected subset of hyperparameter values from the specified grid. The number of values can be fixed by the user, as per the available budget. "
   ]
  },
  {
   "cell_type": "code",
   "execution_count": 73,
   "id": "b8b04ca4",
   "metadata": {},
   "outputs": [
    {
     "name": "stdout",
     "output_type": "stream",
     "text": [
      "Fitting 5 folds for each of 180 candidates, totalling 900 fits\n"
     ]
    },
    {
     "data": {
      "text/html": [
       "<style>#sk-container-id-16 {color: black;background-color: white;}#sk-container-id-16 pre{padding: 0;}#sk-container-id-16 div.sk-toggleable {background-color: white;}#sk-container-id-16 label.sk-toggleable__label {cursor: pointer;display: block;width: 100%;margin-bottom: 0;padding: 0.3em;box-sizing: border-box;text-align: center;}#sk-container-id-16 label.sk-toggleable__label-arrow:before {content: \"▸\";float: left;margin-right: 0.25em;color: #696969;}#sk-container-id-16 label.sk-toggleable__label-arrow:hover:before {color: black;}#sk-container-id-16 div.sk-estimator:hover label.sk-toggleable__label-arrow:before {color: black;}#sk-container-id-16 div.sk-toggleable__content {max-height: 0;max-width: 0;overflow: hidden;text-align: left;background-color: #f0f8ff;}#sk-container-id-16 div.sk-toggleable__content pre {margin: 0.2em;color: black;border-radius: 0.25em;background-color: #f0f8ff;}#sk-container-id-16 input.sk-toggleable__control:checked~div.sk-toggleable__content {max-height: 200px;max-width: 100%;overflow: auto;}#sk-container-id-16 input.sk-toggleable__control:checked~label.sk-toggleable__label-arrow:before {content: \"▾\";}#sk-container-id-16 div.sk-estimator input.sk-toggleable__control:checked~label.sk-toggleable__label {background-color: #d4ebff;}#sk-container-id-16 div.sk-label input.sk-toggleable__control:checked~label.sk-toggleable__label {background-color: #d4ebff;}#sk-container-id-16 input.sk-hidden--visually {border: 0;clip: rect(1px 1px 1px 1px);clip: rect(1px, 1px, 1px, 1px);height: 1px;margin: -1px;overflow: hidden;padding: 0;position: absolute;width: 1px;}#sk-container-id-16 div.sk-estimator {font-family: monospace;background-color: #f0f8ff;border: 1px dotted black;border-radius: 0.25em;box-sizing: border-box;margin-bottom: 0.5em;}#sk-container-id-16 div.sk-estimator:hover {background-color: #d4ebff;}#sk-container-id-16 div.sk-parallel-item::after {content: \"\";width: 100%;border-bottom: 1px solid gray;flex-grow: 1;}#sk-container-id-16 div.sk-label:hover label.sk-toggleable__label {background-color: #d4ebff;}#sk-container-id-16 div.sk-serial::before {content: \"\";position: absolute;border-left: 1px solid gray;box-sizing: border-box;top: 0;bottom: 0;left: 50%;z-index: 0;}#sk-container-id-16 div.sk-serial {display: flex;flex-direction: column;align-items: center;background-color: white;padding-right: 0.2em;padding-left: 0.2em;position: relative;}#sk-container-id-16 div.sk-item {position: relative;z-index: 1;}#sk-container-id-16 div.sk-parallel {display: flex;align-items: stretch;justify-content: center;background-color: white;position: relative;}#sk-container-id-16 div.sk-item::before, #sk-container-id-16 div.sk-parallel-item::before {content: \"\";position: absolute;border-left: 1px solid gray;box-sizing: border-box;top: 0;bottom: 0;left: 50%;z-index: -1;}#sk-container-id-16 div.sk-parallel-item {display: flex;flex-direction: column;z-index: 1;position: relative;background-color: white;}#sk-container-id-16 div.sk-parallel-item:first-child::after {align-self: flex-end;width: 50%;}#sk-container-id-16 div.sk-parallel-item:last-child::after {align-self: flex-start;width: 50%;}#sk-container-id-16 div.sk-parallel-item:only-child::after {width: 0;}#sk-container-id-16 div.sk-dashed-wrapped {border: 1px dashed gray;margin: 0 0.4em 0.5em 0.4em;box-sizing: border-box;padding-bottom: 0.4em;background-color: white;}#sk-container-id-16 div.sk-label label {font-family: monospace;font-weight: bold;display: inline-block;line-height: 1.2em;}#sk-container-id-16 div.sk-label-container {text-align: center;}#sk-container-id-16 div.sk-container {/* jupyter's `normalize.less` sets `[hidden] { display: none; }` but bootstrap.min.css set `[hidden] { display: none !important; }` so we also need the `!important` here to be able to override the default hidden behavior on the sphinx rendered scikit-learn.org. See: https://github.com/scikit-learn/scikit-learn/issues/21755 */display: inline-block !important;position: relative;}#sk-container-id-16 div.sk-text-repr-fallback {display: none;}</style><div id=\"sk-container-id-16\" class=\"sk-top-container\"><div class=\"sk-text-repr-fallback\"><pre>RandomizedSearchCV(cv=KFold(n_splits=5, random_state=1, shuffle=True),\n",
       "                   estimator=KNeighborsRegressor(), n_iter=180, n_jobs=-1,\n",
       "                   param_distributions={&#x27;metric&#x27;: [&#x27;minkowski&#x27;],\n",
       "                                        &#x27;n_neighbors&#x27;: range(1, 500),\n",
       "                                        &#x27;p&#x27;: &lt;scipy.stats._distn_infrastructure.rv_continuous_frozen object at 0x00000226D6E70700&gt;,\n",
       "                                        &#x27;weights&#x27;: [&#x27;uniform&#x27;, &#x27;distance&#x27;]},\n",
       "                   random_state=10, scoring=&#x27;neg_root_mean_squared_error&#x27;,\n",
       "                   verbose=10)</pre><b>In a Jupyter environment, please rerun this cell to show the HTML representation or trust the notebook. <br />On GitHub, the HTML representation is unable to render, please try loading this page with nbviewer.org.</b></div><div class=\"sk-container\" hidden><div class=\"sk-item sk-dashed-wrapped\"><div class=\"sk-label-container\"><div class=\"sk-label sk-toggleable\"><input class=\"sk-toggleable__control sk-hidden--visually\" id=\"sk-estimator-id-42\" type=\"checkbox\" ><label for=\"sk-estimator-id-42\" class=\"sk-toggleable__label sk-toggleable__label-arrow\">RandomizedSearchCV</label><div class=\"sk-toggleable__content\"><pre>RandomizedSearchCV(cv=KFold(n_splits=5, random_state=1, shuffle=True),\n",
       "                   estimator=KNeighborsRegressor(), n_iter=180, n_jobs=-1,\n",
       "                   param_distributions={&#x27;metric&#x27;: [&#x27;minkowski&#x27;],\n",
       "                                        &#x27;n_neighbors&#x27;: range(1, 500),\n",
       "                                        &#x27;p&#x27;: &lt;scipy.stats._distn_infrastructure.rv_continuous_frozen object at 0x00000226D6E70700&gt;,\n",
       "                                        &#x27;weights&#x27;: [&#x27;uniform&#x27;, &#x27;distance&#x27;]},\n",
       "                   random_state=10, scoring=&#x27;neg_root_mean_squared_error&#x27;,\n",
       "                   verbose=10)</pre></div></div></div><div class=\"sk-parallel\"><div class=\"sk-parallel-item\"><div class=\"sk-item\"><div class=\"sk-label-container\"><div class=\"sk-label sk-toggleable\"><input class=\"sk-toggleable__control sk-hidden--visually\" id=\"sk-estimator-id-43\" type=\"checkbox\" ><label for=\"sk-estimator-id-43\" class=\"sk-toggleable__label sk-toggleable__label-arrow\">estimator: KNeighborsRegressor</label><div class=\"sk-toggleable__content\"><pre>KNeighborsRegressor()</pre></div></div></div><div class=\"sk-serial\"><div class=\"sk-item\"><div class=\"sk-estimator sk-toggleable\"><input class=\"sk-toggleable__control sk-hidden--visually\" id=\"sk-estimator-id-44\" type=\"checkbox\" ><label for=\"sk-estimator-id-44\" class=\"sk-toggleable__label sk-toggleable__label-arrow\">KNeighborsRegressor</label><div class=\"sk-toggleable__content\"><pre>KNeighborsRegressor()</pre></div></div></div></div></div></div></div></div></div></div>"
      ],
      "text/plain": [
       "RandomizedSearchCV(cv=KFold(n_splits=5, random_state=1, shuffle=True),\n",
       "                   estimator=KNeighborsRegressor(), n_iter=180, n_jobs=-1,\n",
       "                   param_distributions={'metric': ['minkowski'],\n",
       "                                        'n_neighbors': range(1, 500),\n",
       "                                        'p': <scipy.stats._distn_infrastructure.rv_continuous_frozen object at 0x00000226D6E70700>,\n",
       "                                        'weights': ['uniform', 'distance']},\n",
       "                   random_state=10, scoring='neg_root_mean_squared_error',\n",
       "                   verbose=10)"
      ]
     },
     "execution_count": 73,
     "metadata": {},
     "output_type": "execute_result"
    }
   ],
   "source": [
    "# RandomizedSearchCV works in three steps:\n",
    "\n",
    "# 1) Create the model\n",
    "model = KNeighborsRegressor() # No inputs defined inside the model\n",
    "\n",
    "# 2) Create a hyperparameter grid (as a dict)\n",
    "    # the keys should be EXACTLY the same as the names of the model inputs\n",
    "    # the values should be an array or list of hyperparam values, or distribution of hyperparameter values\n",
    "    \n",
    "    \n",
    "grid = {'n_neighbors': range(1, 500), 'weights':['uniform', 'distance'], \n",
    "        'metric': ['minkowski'], 'p': uniform(loc=1, scale=10)} #We can specify a distribution \n",
    "                                                                #for continuous hyperparameter values\n",
    "\n",
    "# 3) Create the Kfold object (Using RepeatedKFold will be more robust, but more expensive, use it if you \n",
    "# have the budget)\n",
    "kfold = KFold(n_splits = 5, shuffle = True, random_state = 1)\n",
    "\n",
    "# 4) Create the CV object\n",
    "# Look at the documentation to see the order in which the objects must be specified within the function\n",
    "gcv = RandomizedSearchCV(model, param_distributions = grid, cv = kfold, n_iter = 180, random_state = 10,\n",
    "                         scoring = 'neg_root_mean_squared_error', n_jobs = -1, verbose = 10)\n",
    "\n",
    "# Fit the models, and cross-validate\n",
    "gcv.fit(X_train_scaled, y_train)"
   ]
  },
  {
   "cell_type": "code",
   "execution_count": 52,
   "id": "0b19c128",
   "metadata": {},
   "outputs": [
    {
     "data": {
      "text/plain": [
       "{'metric': 'minkowski',\n",
       " 'n_neighbors': 3,\n",
       " 'p': 1.252639454318171,\n",
       " 'weights': 'uniform'}"
      ]
     },
     "execution_count": 52,
     "metadata": {},
     "output_type": "execute_result"
    }
   ],
   "source": [
    "gcv.best_params_"
   ]
  },
  {
   "cell_type": "code",
   "execution_count": 53,
   "id": "ed927306",
   "metadata": {},
   "outputs": [
    {
     "data": {
      "text/plain": [
       "-6239.171627183809"
      ]
     },
     "execution_count": 53,
     "metadata": {},
     "output_type": "execute_result"
    }
   ],
   "source": [
    "gcv.best_score_"
   ]
  },
  {
   "cell_type": "code",
   "execution_count": 54,
   "id": "79e08dd5",
   "metadata": {},
   "outputs": [
    {
     "data": {
      "text/plain": [
       "6176.533397589911"
      ]
     },
     "execution_count": 54,
     "metadata": {},
     "output_type": "execute_result"
    }
   ],
   "source": [
    "y_pred = gcv.predict(X_test_scaled)\n",
    "mean_squared_error(y_test, y_pred, squared=False)"
   ]
  },
  {
   "cell_type": "markdown",
   "id": "11c20393",
   "metadata": {},
   "source": [
    "Note that in this example, `RandomizedSearchCV()` helps search for optimal values of the hyperparameter $p$ over a continuous domain space. In this dataset, $p = 1$ seems to be the optimal value. However, if the optimal value was somewhere in the middle of a larger continuous domain space *(instead of the boundary of the domain space)*, and there were several other hyperparameters, some of which were not influencing the response *(effect sparsity)*, `RandomizedSearchCV()` is likely to be more effective in estimating the optimal value of the continuous hyperparameter."
   ]
  },
  {
   "cell_type": "markdown",
   "id": "85cfade1",
   "metadata": {},
   "source": [
    "The advantages of `RandomizedSearchCV()` over `GridSearchCV()` are:\n",
    "\n",
    "1. `RandomizedSearchCV()` fixes the computational cost in case of large number of hyperparameters / large number of levels of individual hyperparameters. If there are $n$ hyper parameters, each with 3 levels, the number of all possible hyperparameter values will be $3^n$. The computational cost increase exponentially with increase in number of hyperparameters.\n",
    "\n",
    "2. In case of a hyperparameter having continuous values, the distribution of the hyperparameter can be specified in `RandomizedSearchCV()`.\n",
    " \n",
    "3. In case of effect sparsity of hyperparameters, i.e., if only a few hyperparameters significantly effect prediction accuracy, `RandomizedSearchCV()` is likely to consider more unique values of the influential hyperparameters as compared to `GridSearchCV()`, and is thus likely to provide more optimal hyperparameter values as compared to `GridSearchCV()`."
   ]
  },
  {
   "cell_type": "markdown",
   "id": "abf2ec52",
   "metadata": {},
   "source": [
    "## [`BayesSearchCV()`](https://scikit-optimize.github.io/stable/modules/generated/skopt.BayesSearchCV.html)"
   ]
  },
  {
   "cell_type": "markdown",
   "id": "403798ed",
   "metadata": {},
   "source": [
    "Unlike the grid search and random search, which treat hyperparameter sets independently, the Bayesian optimization is an informed search method, meaning that it learns from previous iterations. The number of trials in this approach is determined by the user.\n",
    "\n",
    "- The function begins by computing the cross-validated score by randomly selecting a few hyperparameter values from the specified disttribution of hyperparameter values. \n",
    "- Based on the data of hyperparameter values tested *(predictors)*, and the cross-validated score *(the response)*, a Gaussian process model is developed to estimate the cross-validated score & the uncertainty in the estimate in the entire space of the hyperparameter values\n",
    "- A criterion that \"explores\" uncertain regions of the space of hyperparameter values *(where it is difficult to predict cross-validated score)*, and \"exploits\" promising regions of the space are of hyperparameter values *(where the cross-validated score is predicted to minimize)* is used to suggest the next hyperparameter value that will potentially minimize the cross-validated score\n",
    "- Cross-validated score is computed at the suggested hyperparameter value, the Gaussian process model is updated, and the previous step is repeated, until a certain number of iterations specified by the user.\n",
    "\n",
    "To summarize, instead of blindly testing the model for the specified hyperparameter values *(as in `GridSearchCV()`)*, or randomly testing the model on certain hyperparameter values *(as in `RandomizedSearchCV()`)*, `BayesSearchCV()` smartly tests the model for those hyperparameter values that are likely to reduce the cross-validated score. The algorithm becomes \"smarter\" as it \"learns\" more with increasing iterations.\n",
    "\n",
    "Here is a nice [blog](https://towardsdatascience.com/a-conceptual-explanation-of-bayesian-model-based-hyperparameter-optimization-for-machine-learning-b8172278050f), if you wish to understand more about the Bayesian optimization procedure."
   ]
  },
  {
   "cell_type": "code",
   "execution_count": null,
   "id": "69448eef",
   "metadata": {},
   "outputs": [],
   "source": [
    "# BayesSearchCV works in three steps:\n",
    "\n",
    "# 1) Create the model\n",
    "model = KNeighborsRegressor(metric = 'minkowski') # No inputs defined inside the model\n",
    "\n",
    "# 2) Create a hyperparameter grid (as a dict)\n",
    "    # the keys should be EXACTLY the same as the names of the model inputs\n",
    "    # the values should be an array or list of hyperparam values, or distribution of hyperparameter values\n",
    "    \n",
    "grid = {'n_neighbors': Integer(1, 500), 'weights': Categorical(['uniform', 'distance']), \n",
    "       'p': Real(1, 10, prior = 'uniform')} #We can specify a distribution \n",
    "                                                #for continuous hyperparameter values\n",
    "\n",
    "# 3) Create the Kfold object (Using RepeatedKFold will be more robust, but more expensive, use it if you \n",
    "# have the budget)\n",
    "kfold = KFold(n_splits = 5, shuffle = True, random_state = 1)\n",
    "\n",
    "# 4) Create the CV object\n",
    "# Look at the documentation to see the order in which the objects must be specified within the function\n",
    "gcv = BayesSearchCV(model, search_spaces = grid, cv = kfold, n_iter = 180, random_state = 10,\n",
    "                         scoring = 'neg_root_mean_squared_error', n_jobs = -1)\n",
    "\n",
    "# Fit the models, and cross-validate\n",
    "\n",
    "# Sometimes the Gaussian process model predicting the cross-validated score is unstable, particularly\n",
    "# at the beginning of the iterations as there are less data points. In that case it throws warnings.\n",
    "# However, in general, those warnings can be ignored as the model becomes stable after a few iterations.\n",
    "warnings.filterwarnings(\"ignore\")\n",
    "gcv.fit(X_train_scaled, y_train)\n",
    "warnings.resetwarnings()"
   ]
  },
  {
   "cell_type": "markdown",
   "id": "7cbee88c",
   "metadata": {},
   "source": [
    "The optimal hyperparameter values *(based on Bayesian search)* on the provided distribution of hyperparameter values are:"
   ]
  },
  {
   "cell_type": "code",
   "execution_count": 141,
   "id": "b00d1249",
   "metadata": {},
   "outputs": [
    {
     "data": {
      "text/plain": [
       "OrderedDict([('n_neighbors', 9),\n",
       "             ('p', 1.0008321732366932),\n",
       "             ('weights', 'distance')])"
      ]
     },
     "execution_count": 141,
     "metadata": {},
     "output_type": "execute_result"
    }
   ],
   "source": [
    "gcv.best_params_"
   ]
  },
  {
   "cell_type": "markdown",
   "id": "ffd9ce74",
   "metadata": {},
   "source": [
    "The cross-validated root mean squared error for the optimal hyperparameter values is:"
   ]
  },
  {
   "cell_type": "code",
   "execution_count": 143,
   "id": "92c36e33",
   "metadata": {},
   "outputs": [
    {
     "data": {
      "text/plain": [
       "5756.172382596493"
      ]
     },
     "execution_count": 143,
     "metadata": {},
     "output_type": "execute_result"
    }
   ],
   "source": [
    "-gcv.best_score_"
   ]
  },
  {
   "cell_type": "markdown",
   "id": "56d9e35f",
   "metadata": {},
   "source": [
    "The RMSE on test data for the optimal hyperparameter values is:"
   ]
  },
  {
   "cell_type": "code",
   "execution_count": 77,
   "id": "b62ed292",
   "metadata": {},
   "outputs": [
    {
     "data": {
      "text/plain": [
       "5740.432278861367"
      ]
     },
     "execution_count": 77,
     "metadata": {},
     "output_type": "execute_result"
    }
   ],
   "source": [
    "y_pred = gcv.predict(X_test_scaled)\n",
    "mean_squared_error(y_test, y_pred, squared=False)"
   ]
  },
  {
   "cell_type": "markdown",
   "id": "f69abb72",
   "metadata": {},
   "source": [
    "Below are the partial dependence plots of the objective function *(i.e., the cross-validated score)*. The cross-validated score predictions are based on the most recently updated model *(i.e., the updated Gaussian Process model at the end of `n_iter` iterations specified by the user)* that predicts the cross-validated score.\n",
    "\n",
    "Check the [`plot_objective()`](https://scikit-optimize.github.io/stable/modules/generated/skopt.plots.plot_objective.html) documentation to interpret the plots."
   ]
  },
  {
   "cell_type": "code",
   "execution_count": 139,
   "id": "554efb5f",
   "metadata": {},
   "outputs": [
    {
     "data": {
      "image/png": "[encoded data removed]",
      "text/plain": [
       "<Figure size 900x900 with 10 Axes>"
      ]
     },
     "metadata": {},
     "output_type": "display_data"
    }
   ],
   "source": [
    "plot_objective(gcv.optimizer_results_[0],\n",
    "                   dimensions=[\"n_neighbors\", \"p\", \"weights\"], size = 3)\n",
    "plt.show();"
   ]
  },
  {
   "cell_type": "markdown",
   "id": "f6069ff1",
   "metadata": {},
   "source": [
    "Below is the plot showing the cross-validated score computed at each of the 180 hyperparameter values considered for cross-validation."
   ]
  },
  {
   "cell_type": "code",
   "execution_count": 155,
   "id": "243731de",
   "metadata": {},
   "outputs": [
    {
     "data": {
      "image/png": "[encoded data removed]",
      "text/plain": [
       "<Figure size 640x480 with 1 Axes>"
      ]
     },
     "metadata": {},
     "output_type": "display_data"
    }
   ],
   "source": [
    "sns.lineplot(x = range(1, 181), y = gcv.optimizer_results_[0]['func_vals'])\n",
    "plt.xlabel('Iteration')\n",
    "plt.ylabel('Cross-validated score')\n",
    "plt.show();"
   ]
  },
  {
   "cell_type": "markdown",
   "id": "a45fddbc",
   "metadata": {},
   "source": [
    "Note that the cross-validated error is close to the optmial value in the 53rd iteration itself. "
   ]
  },
  {
   "cell_type": "markdown",
   "id": "552d8f52",
   "metadata": {},
   "source": [
    "The cross-validated error at the 53rd iteration is:"
   ]
  },
  {
   "cell_type": "code",
   "execution_count": 149,
   "id": "77077bff",
   "metadata": {},
   "outputs": [
    {
     "data": {
      "text/plain": [
       "5831.87280274334"
      ]
     },
     "execution_count": 149,
     "metadata": {},
     "output_type": "execute_result"
    }
   ],
   "source": [
    "gcv.optimizer_results_[0]['func_vals'][53]"
   ]
  },
  {
   "cell_type": "markdown",
   "id": "b549904e",
   "metadata": {},
   "source": [
    "The hyperparameter values at the 53rd iterations are:"
   ]
  },
  {
   "cell_type": "code",
   "execution_count": 156,
   "id": "931998d2",
   "metadata": {},
   "outputs": [
    {
     "data": {
      "text/plain": [
       "[15, 1.0, 'distance']"
      ]
     },
     "execution_count": 156,
     "metadata": {},
     "output_type": "execute_result"
    }
   ],
   "source": [
    "gcv.optimizer_results_[0]['x_iters'][53]"
   ]
  },
  {
   "cell_type": "markdown",
   "id": "63ff3115",
   "metadata": {},
   "source": [
    "Note that this is the 2nd most optimal hyperparameter value based on `GridSearchCV()`."
   ]
  },
  {
   "cell_type": "markdown",
   "id": "53bcd177",
   "metadata": {},
   "source": [
    "The advantages of `BayesSearchCV()` over `GridSearchCV()` and `RandomizedSearchCV()` are:\n",
    "\n",
    "1. The Bayesian Optimization approach gives the benefit that we can give a much larger range of possible values, since over time we identify and exploit the most promising regions and discard the not so promising ones. Plain grid-search would burn computational resources to explore all regions of the domain space with the same granularity, even the not promising ones. Since we search much more effectively in Bayesian search, we can search over a larger domain space.\n",
    "\n",
    "2. BayesSearch CV may help us identify the optimal hyperparameter value in fewer iterations if the Gaussian process model estimating the cross-validated score is relatively accurate. However, this is not certain. Grid and random search are completely uninformed by past evaluations, and as a result, often spend a significant amount of time evaluating \"bad\" hyperparameters.\n",
    "\n",
    "3. BayesSearch CV is more reliable in cases of a large search space, where random selection may miss sampling values from optimal regions of the search space."
   ]
  },
  {
   "cell_type": "markdown",
   "id": "e16af150",
   "metadata": {},
   "source": [
    "The disadvantages of `BayesSearchCV()` over `GridSearchCV()` and `RandomizedSearchCV()` are:\n",
    "\n",
    "1. `BayesSearchCV()` has a cost of learning from past data, i.e., updating the model that predicts the cross-validated score after every iteration of evaluating the cross-validated score on a new hyperparameter value. This cost will continue to increase as more and more data is collected. There is no such cost in `GridSearchCV()` and `RandomizedSearchCV()` as there is no learning. This implies that each iteration of `BayesSearchCV()` will take a longer time than each iteration of `GridSearchCV()` / `RandomizedSearchCV()`. Thus, even if `BayesSearchCV()` finds the optimal hyperparameter value in fewer iterations, it may take more time than `GridSearchCV()` / `RandomizedSearchCV()` for the same.\n",
    "\n",
    "2. The success of `BayesSearchCV()` depends on the predictions and associated uncertainty estimated by the Gaussian process (GP) model that predicts the cross-validated score. The GP model, although works well in general, may not be suitable for certain datasets, or may take a relatively large number of iterations to learn for certain datasets."
   ]
  }
 ],
 "metadata": {
  "kernelspec": {
   "display_name": "Python 3 (ipykernel)",
   "language": "python",
   "name": "python3"
  },
  "language_info": {
   "codemirror_mode": {
    "name": "ipython",
    "version": 3
   },
   "file_extension": ".py",
   "mimetype": "text/x-python",
   "name": "python",
   "nbconvert_exporter": "python",
   "pygments_lexer": "ipython3",
   "version": "3.8.17"
  }
 },
 "nbformat": 4,
 "nbformat_minor": 5
}
