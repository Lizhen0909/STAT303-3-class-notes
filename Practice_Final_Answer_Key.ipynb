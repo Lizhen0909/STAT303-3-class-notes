{
 "cells": [
  {
   "cell_type": "raw",
   "id": "041bef59",
   "metadata": {},
   "source": [
    "---\n",
    "title: \"Practice Final Solutions\"\n",
    "subtitle: STAT303-2 (Winter2023)\n",
    "author: Angelica Wang, Naoki Ito, Yida Hao, Victoria Shi, Nayada Tantichirasakul, Radhika Todi, Ally Bardas, Mingyi Gong, Yuyan Zhang, Annabel Skubisz, Karrine Denisova, Hoda Fakhari, Catherine Erickson, Anjali Patel, Elena Cantu and Arvind Krishna.\n",
    "date: 03/09/2023\n",
    "number-sections: true\n",
    "abstract: _These solutions are composed by students of the course STAT303-2 (Winter 2023)_.\n",
    "format: \n",
    "  html:\n",
    "    toc: true\n",
    "    toc-title: Contents\n",
    "    self-contained: true\n",
    "    font-size: 100%\n",
    "    toc-depth: 4\n",
    "    mainfont: serif\n",
    "jupyter: python3\n",
    "---"
   ]
  },
  {
   "cell_type": "markdown",
   "id": "6c21bb76",
   "metadata": {},
   "source": [
    "# Multiple choice questions {-}"
   ]
  },
  {
   "cell_type": "markdown",
   "id": "24773937",
   "metadata": {},
   "source": [
    "## Potential problems\n",
    "\n",
    "Presence of which of the following potential problems in a linear regression model may lead to statistically significant variables appearing insignificant? \n",
    "\n",
    "A) Multicollinearity\n",
    "\n",
    "B) Outliers\n",
    "\n",
    "C) Overfitting"
   ]
  },
  {
   "cell_type": "markdown",
   "id": "fbd1e051",
   "metadata": {},
   "source": [
    "<span style='color:Blue'>**Answer**: A and B</span>\n",
    "\n",
    "<span style='color:Blue'>**Explanation**:</span>\n",
    "\n",
    "<span style='color:Blue'>**A) Multicollinearity:**</span>\n",
    "\n",
    "<span style='color:Blue'>Recall, the estimated variance of the coefficient $\\beta_j$, of the $j^{th}$ predictor $X_j$, can be expressed as:</span>\n",
    "\n",
    "<span style='color:Blue'>$$\\hat{var}(\\hat{\\beta_j}) = \\frac{(\\hat{\\sigma})^2}{(n-1)\\hat{var}({X_j})}.\\frac{1}{1-R^2_{X_j|X_{-j}}}         \\hspace{5cm} (1)$$ </span>"
   ]
  },
  {
   "cell_type": "markdown",
   "id": "5d4dbc99",
   "metadata": {},
   "source": [
    "<span style='color:Blue'>If the predictor $X_j$ is collinear with other predictors, $R^2_{X_j|X_{-j}}$ will be large, which in turn will inflate $\\hat{var}(\\hat{\\beta_j})$. In other words, multicollinearity inflates the standard errors of the coefficients for which the variables are collinear. Since $t$-statistic is calculated by dividing the estimated coefficient by its standard error, the $t$-statistics shrinks, and the corresponding $p$-value increases. Therefore, the hypothesis test loses the power to reject the null hypotheses, and thus statistically significant variables appearing insignificant. </span>"
   ]
  },
  {
   "cell_type": "markdown",
   "id": "f43cf6f9",
   "metadata": {},
   "source": [
    "<span style='color:Blue'>Another way to think about this can be that if some predictors are collinear, it can be difficult to separate out the individual effects of these variables in the response and significant variables may appear insignificant. </span>"
   ]
  },
  {
   "cell_type": "markdown",
   "id": "304efc86",
   "metadata": {},
   "source": [
    "<span style='color:Blue'>**B) Outliers**</span>\n",
    "\n",
    "<span style='color:Blue'>Recall, the estimate of error variance is given by:</span>\n",
    "    \n",
    "<span style='color:Blue'>$$\\hat{\\sigma}^2 = {\\frac{RSS}{n-2}},$$</span>\n",
    "<span style='color:Blue'>where RSS is the residual sum of squared errors. Outliers result in an increase in $RSS$, leading to an increase in the estimated error variance $\\hat{\\sigma}^2$, which in turn inflates $\\hat{var}(\\hat{\\beta_j})$. The rest of the explanation follows from the previous explanation on multicollinearity.</span>"
   ]
  },
  {
   "cell_type": "markdown",
   "id": "376feb5f",
   "metadata": {},
   "source": [
    "<span style='color:Blue'>\n",
    "\n",
    "<span style='color:Blue'>**C) Overfitting**</span>\n",
    "    \n",
    "<span style='color:Blue'>Overfitting shrinks $RSS$, which in turn shrinks $\\hat{\\sigma}^2$, thereby shrinking $\\hat{var}(\\hat{\\beta_j})$. Thus overfitting will act in way opposite to what we observe in (A) and (B). </span>"
   ]
  },
  {
   "cell_type": "markdown",
   "id": "d04cd158",
   "metadata": {},
   "source": [
    "## Potential problems\n",
    "Classify a data point as influential / outlier / high leverage in a linear regression model, based on the description.\n",
    "\n",
    "A) The data point is likely to have a large effect on the model in terms of prediction: <span style='color:Blue'>**Influential point**</span>\n",
    "\n",
    "B) The data point has the potential to have a large effect on the model in terms of prediction: <span style='color:Blue'>**High leverage point**</span>\n",
    "\n",
    "C) The data point is likely to inflate the model R-squared: <span style='color:Blue'>**High leverage point that is not influencial** </span>\n",
    "\n",
    "D) The data point is unlikely to have a large effect on the model in terms of prediction: <span style='color:Blue'>**outlier**</span>\n",
    "\n",
    "<span style='color:Blue'>\n",
    "\n",
    "   \n",
    "<span style='color:Blue'>**Explanation:**</span>\n",
    "    \n",
    "<span style='color:Blue'>See the graphics in class presentation on *Chapter3_Outliers_high_leverage_influential_points*. Think of influential points / high leverage points / outliers as a force (proportional to the residual corresponding to the point) pulling a canteliver beam. Depending on the position from where you pull the cantilever beam, you may move it too much or too little.</span>\n",
    "    \n",
    "<span style='color:Blue'>A) **Inluential point** (high leverage & outlier): an outlier with the respect to both the predictor and the response. It has a large effect on the regression line. As shown in the graphics, influence is higher for more extreme outliers with same leverage and for points with higher leverage & similar outlying distance.</span>\n",
    "    \n",
    "<span style='color:Blue'>B) **High leverage point**: Observations with high leverage have an unusual value for the predictor (ie. lie outside the domain of most points). High leverage point has the potential to have a large affect on the regression line. It is cause for concern if the least squares line is heavily affected by just a couple of observations, because any problems with these points may invalidate the entire fit.</span>\n",
    "\n",
    "<span style='color:Blue'>C) If you have a **high leverage point that is not influencial**: The variance of the response may increase in the presence of high leverage points, since an unusual set of predictor values may correspond to an unusual response, which may increase the total variation. However, as the point is not inluential, the increase in the unexplained variation *(the squared residual)* will not be proportionate to the increase in total variation. As $R^2$ is one minus the ratio of unexplained variation to total variation, it is likely to increase.</span>\n",
    "\n",
    "<span style='color:Blue'>D) **Outliers:** As shown in the graphics, outliers very small effect on prediction.</span>"
   ]
  },
  {
   "cell_type": "markdown",
   "id": "16ab9cf8",
   "metadata": {},
   "source": [
    "## Autocorrelation\n",
    "\n",
    "A linear regression model was developed to predict the number of passengers taking a flight per month. The data consists of number of passengers flying each month from January 1949 to December 1960. The autocorrelation plot below shows the correlation of the residuals with the lagged residuals of the model. Choose the most appropriate option."
   ]
  },
  {
   "cell_type": "code",
   "execution_count": 16,
   "id": "d30c1b43",
   "metadata": {},
   "outputs": [
    {
     "data": {
      "text/html": [
       "<img src=\"./Datasets/autocorr2.jpg\" width=\"700\"/>"
      ],
      "text/plain": [
       "<IPython.core.display.Image object>"
      ]
     },
     "execution_count": 16,
     "metadata": {},
     "output_type": "execute_result"
    }
   ],
   "source": [
    "#| echo: false\n",
    "\n",
    "# import image module\n",
    "from IPython.display import Image\n",
    "\n",
    "# get the image\n",
    "Image(url=\"./Datasets/autocorr2.jpg\", width=700)"
   ]
  },
  {
   "cell_type": "markdown",
   "id": "6693d5ee",
   "metadata": {},
   "source": [
    "A) The above plot shows the presence of autocorrelation. The 6-month lagged response is the most appropriate lag to be added as a predictor in the model to address autocorrelation\n",
    "\n",
    "B) The above plot shows the presence of autocorrelation. The 12-month lagged response is the most appropriate lag to be added as a predictor in the model to address autocorrelation\n",
    "\n",
    "C) The above plot shows the presence of autocorrelation. The 1-month lagged response is the most appropriate lag to be added as a predictor in the model to address autocorrelation \n",
    " \n",
    " D) The above plot shows the absence of autocorrelation as the plot must have a cyclical pattern in the presence of autocorrelation \n",
    " \n",
    " E) The above plot shows the absence of autocorrelation as the one month lagged residual must have the highest correlation with the residual in the presence of autocorrelation \n",
    " \n",
    "<span style='color:Blue'>**Answer**: B</span>\n",
    " \n",
    "<span style='color:Blue'>**Explanation**: As seen in the plot, the residuals are highly correlated (correlation of more than 60%) with lagged residuals of 12 months. This shows the presence of autocorrelation. To address autocorrelation, the 12-month laggged response will be the most appropriate as it has the highest correlation with the response. Thus, it will explain the variation in the respone the most. </span>\n",
    "\n",
    "<span style='color:Blue'>There is no need for there to be a cyclical pattern for autocorrelation. Even if one of the lagged residuals are highly correlated with the residual, it shows the presence of autocorrelation.</span>"
   ]
  },
  {
   "cell_type": "markdown",
   "id": "f4c31c98",
   "metadata": {},
   "source": [
    "## Logistic regression (goodness-of-fit)\n",
    " \n",
    "Which of the following metrics can be used to assess the goodness-of-fit of a logistic regression model?\n",
    "\n",
    "A) All of these \n",
    "\n",
    "B) LL-Null \n",
    "\n",
    "C) Log-Likelihood \n",
    "\n",
    "D) Df Model \n",
    "\n",
    "E) R-squared \n",
    "\n",
    "<span style='color:Blue'>**Answer**: Log-Likelihood</span> \n",
    "\n",
    "<span style='color:Blue'>**Explanation**</span>\n",
    "<span style='color:Blue'>In logistic regression, the response is assumed to follow a Bernoulli distribution, where the probability of success is a function of the predictors and its coefficients *(the model parameters)*. With this assumption, one can compute the the joint probability density of the observed data as a function of the model parameters. This creates a set of probability distributions *(based on different values of model parameters)* that could have generated the data. The algorithm finds the values of the model parameters *(the beta coefficients)* such that the probability of observing the data maximizes. This probability is the likelihood, and its logarithm is the log-likelihood. The higher the log-likelihood, the more probable it is to observe the data. Thus, log-likelihood is a way to measure the goodness-of-fit of the model.</span>\n",
    "\n",
    "<span style='color:Blue'>LL-NULL is the log-likelihood of the model with no parameters. This is compared with the log-likelihood of the model with predictors to test if the regression is statistically significant. </span>\n",
    "\n",
    "<span style='color:Blue'>Df Model is the number of predictors in the model.</span>\n",
    "\n",
    "<span style='color:Blue'>R-squared cannot be used for logistic regression as there are no residuals.</span>"
   ]
  },
  {
   "cell_type": "markdown",
   "id": "12cd81cc",
   "metadata": {},
   "source": [
    "## Logistic regression (threshold probability)\n",
    " \n",
    "For a logistic regression model, as we increase the decision threshold probability, \n",
    "\n",
    "A) None of these \n",
    "\n",
    "B) the recall will reduce or stay the same \n",
    "\n",
    "C) the ROC-AUC will increase or stay the same \n",
    "\n",
    "D) the precision will increase or stay the same \n",
    "\n",
    "E) the classification accuracy will increase or stay the same \n",
    "\n",
    "<span style='color:Blue'>**Answer**: B</span>\n",
    "\n",
    "<span style='color:Blue'>**Explanation**: See class slide on the confusion matrix below. </span> "
   ]
  },
  {
   "cell_type": "code",
   "execution_count": 20,
   "id": "aeb35d0d",
   "metadata": {},
   "outputs": [
    {
     "data": {
      "text/html": [
       "<img src=\"./Datasets/cm.jpg\" width=\"600\"/>"
      ],
      "text/plain": [
       "<IPython.core.display.Image object>"
      ]
     },
     "execution_count": 20,
     "metadata": {},
     "output_type": "execute_result"
    }
   ],
   "source": [
    "#| echo: false\n",
    "\n",
    "# import image module\n",
    "from IPython.display import Image\n",
    "\n",
    "# get the image\n",
    "Image(url=\"./Datasets/cm.jpg\", width=600)"
   ]
  },
  {
   "cell_type": "markdown",
   "id": "b82ff168",
   "metadata": {},
   "source": [
    "<span style='color:Blue'>Increasing threshold probability means that less observations are predicted to be positive. Hence, some TP could turn into FN, reducing the recall. (this might not happen if there is no observations of actual positives between the thresholds). ROC-AUC is independent of the threshold probability. Both precision and classification accuracy might decrease if the number of FP among actual negatives increase more than the increase of TP among actual positives by the shift in the threshold.</span> "
   ]
  },
  {
   "cell_type": "markdown",
   "id": "27e3f73f",
   "metadata": {},
   "source": [
    "## Decision threshold probability\n",
    "\n",
    "Which of the following metrics is independent of the decision threshold probability?\n",
    "\n",
    "A) None of these\n",
    "\n",
    "B) ROC-AUC \n",
    "\n",
    "C) All of these (except the \"None of these\" option) \n",
    "\n",
    "D) Precision \n",
    "\n",
    "E) Recall \n",
    "\n",
    "<span style='color:Blue'>**Answer**: ROC-AUC </span>\n",
    "\n",
    "<span style='color:Blue'>**Explanation**</span>\n",
    "<span style='color:Blue'>By changing the threshold, the number of points classified as negative and positive may change, and so TP, FP, TN and FN may change. Recall and precision may change as they are based on these metrics *(TP ,FP, TN, and FN)*. However, the ROC-AUC specifically analyzes different thresholds. The ROC curve is a plot of TPR against FPR for all possible thresholds, and ROC-AUC is the area under the ROC curve, so the value itself is independent from the decision threshold probability. </span>"
   ]
  },
  {
   "cell_type": "markdown",
   "id": "730ff944",
   "metadata": {},
   "source": [
    "## Odds\n",
    "\n",
    "Consider the following logistic regression model:\n",
    "\n",
    "$$p(x) =\\frac{1}{1+e^{-(\\beta_0+\\beta_1x)}}$$.\n",
    "\n",
    "Which of the following metrics will depend on the value of x?\n",
    "\n",
    "A) Odds ratio when x increases by 2 units\n",
    "\n",
    "B) increase in log odds when x increases by 10 units\n",
    "\n",
    "C) All of these \n",
    "\n",
    "D) Increase in predicted probability when x increases by 1 unit\n",
    "\n",
    "E)none of these\n",
    "\n",
    "<span style='color:Blue'>**Answer**: D</span>\n",
    "\n",
    "<span style='color:Blue'>**Explanation**: </span>\n",
    "\n",
    "<span style='color:Blue'>$$p(x) =\\frac{1}{1+e^{-(\\beta_0+\\beta_1x)}}$$</span>\n",
    "\n",
    "<span style='color:Blue'>$$\\implies \\log\\bigg(\\frac{p(x)}{1-p(x)}\\bigg) = \\beta_0 + \\beta_1x$$</span>\n",
    "\n",
    "<span style='color:Blue'>$$\\implies \\log\\big(Odds(x)\\big) = \\beta_0 + \\beta_1x$$</span>\n",
    "\n",
    "<span style='color:Blue'>When $x$ increases by 'c' units,</span>\n",
    "\n",
    "<span style='color:Blue'>$$p(x+c) - p(x) =\\frac{1}{1+e^{-(\\beta_0+\\beta_1(x+c))}}-\\frac{1}{1+e^{-(\\beta_0+\\beta_1(x))}}$$</span>\n",
    "\n",
    "<span style='color:Blue'>$$log({Odds(x+c)}) - log({Odds(x)}) = \\beta_1 c$$</span>\n",
    "\n",
    "<span style='color:Blue'>$$\\frac{Odds(x+c))}{Odds(x)} = e^{\\beta_1 c}$$</span>\n",
    "\n",
    "<span style='color:Blue'>We can see that only the increase in predicted probability when $x$ increases by 1 unit is dependent on $x$.</span>"
   ]
  },
  {
   "cell_type": "markdown",
   "id": "5e5f4750",
   "metadata": {},
   "source": [
    "## Precision-recall\n",
    "\n",
    "We develop a logistic regression model to predict whether someone will pay a loan back or not. Loans are \"approved\" by us only for those borrowers who are predicted to pay back. The positive class is the borrowers that pay back the loans. What would a recall of 81% mean?\n",
    "\n",
    "A) 81% of the borrowers that would pay back the loan are approved by us: <span style='color:Blue'>Recall = TP/(TP + FN). TP here are those who are [approved by us] who [pay back the loan], while FN are those who were [not approved by us] but actually [pay back the loans]. The denominator is [all who pay back the loan]. Thus, Recall here means: among [all who pay back the loan], 81% are [approved by us].</span>\n",
    "\n",
    "B) Of all the loans we approve, 81% pay us back: <span style='color:Blue'>This is Precision = TP/(TP + FP)</span>\n",
    "\n",
    "C) Of all the loans we don't approve, 81% would not have paid us back if they were given the loan: <span style='color:Blue'>This is the proportion of negatives correctly predicted - like precision for the negative class</span>\n",
    "\n",
    "D) Of all the loans we don't approve, 19% would not have paid us back if they were given the loan: <span style='color:Blue'>This is the proportion of negatives incorrectly predicted.</span>\n",
    "\n",
    "<span style='color:Blue'>**Answer**:</span>\n",
    "<span style='color:Blue'>81% of the borrowers that would pay back the loan are approved by us.</span>\n",
    "\n",
    "<span style='color:Blue'>**Explanation**:</span>\n",
    "<span style='color:Blue'>Recall = True Positives/(True Positives + False Negatives).</span> \n",
    "\n",
    "<span style='color:Blue'>In this case, True positives are those who got approved and would pay back. False Negatives are those we didn't approve, but would pay back. Therefore, 81% Recall means 81% of the borrowers that would pay back the loan are approved by us.</span>"
   ]
  },
  {
   "cell_type": "markdown",
   "id": "f3579bfa",
   "metadata": {},
   "source": [
    "## Variable selection\n",
    "\n",
    "Which of the following algorithms can be used for variable selection?\n",
    "\n",
    "A) Lasso\n",
    "\n",
    "B) Ridge regression\n",
    "\n",
    "C) Forward stepwise selection\n",
    "\n",
    "D) Best subset selection\n",
    "\n",
    "<span style='color:Blue'>**Answer**: A,C,D</span>\n",
    "\n",
    "<span style='color:Blue'>**Explanation**: Both lasso and ridge regression are regularized least squares model, where the a shrinkage penalty is added to the ordinary least squares cost function. The shrinkage penalty in ridge regression shrinks the regression coefficients estimate towards zero, but not exactly zero, while the shrinkage penalty in lasso tends to give a set of zero regression coefficients and leads to a sparse model. Therefore, lasso can be used for variable selection, but not ridge regression.</span>\n",
    "\n",
    "<span style='color:Blue'>Forward stepwise and best subset selection are variable selection algorithms by fitting multiple models having different combinations/number of predictors and choosing the best model.</span>"
   ]
  },
  {
   "cell_type": "markdown",
   "id": "5574c668",
   "metadata": {},
   "source": [
    "## Precision-recall\n",
    "\n",
    "You are building a facial recognition model to allow people to unlock their phone. If the phone recognizes the person as the authorized user, it will unlock the phone. If it doesn't recognize the user, it will prompt them to try again or try an alternative method (such as a passphrase). The facial recognition model is a classification model that identifies if the person unlocking the phone is the authorized user (positive response) or not (negative response).\n",
    "\n",
    " Assume that letting a stranger (unauthorized user) unlock the phone is more risky (or more expensive) than not letting the authorized user unlock the phone.\n",
    "\n",
    "Which of the following metric is the most important to optimize in the model?\n",
    "\n",
    "A) Precision \n",
    "  \n",
    "B) Classification accuracy \n",
    "  \n",
    "C) Recall \n",
    "  \n",
    "D) ROC-AUC \n",
    "\n",
    "<span style='color:Blue'>**Answer**:</span>\n",
    "<span style='color:Blue'>Precision</span>\n",
    "\n",
    "<span style='color:Blue'>**Explanation**:</span>\n",
    "\n",
    "<span style='color:Blue'>A) Precision: Precision = TP/(TP + FN). Here, FN are those who are falsely assigned as an unauthorized user when they are actually the authorized user. FP are those who are assigned as the authorized user and are actually an unauthorized user. In this case, it’s important to optimize precision because it is more important to reduce the number of FP (strangers being recognized as the authorized user) than to reduce the number of FN (authorized user not being recognized).</span>\n",
    "\n",
    "<span style='color:Blue'>B) Classification accuracy: This is incorrect because a model with high accuracy but a high FPR would be unacceptable since it would increase the risk of a stranger unlocking the phone. </span>\n",
    "\n",
    "<span style='color:Blue'>C) Recall: This is incorrect because a high recall indicates that many of the positive cases are being detected. However, it does not measure the fraction of unauthorized users that the model identifies as authorized. A high FPR could lead to an unauthorized user unlocking the phone, which is a more expensive mistake than an FN.</span>\n",
    "\n",
    "<span style='color:Blue'>D) ROC-AUC: This is incorrect because ROC-AUC does not take into account the cost of the positive and negative classes. It only measures how well the model can distinguish between authorized users and unauthorized users. </span>"
   ]
  },
  {
   "cell_type": "markdown",
   "id": "3d52ef71",
   "metadata": {},
   "source": [
    "## Logistic regression\n",
    "Consider the following logistic regression model:\n",
    "\n",
    "$$p(x) = \\frac{1}{1 + e^{-(\\beta_0 + \\beta_1  x_1 + \\beta_2 x_2)}}$$\n",
    "\n",
    "where assuming the threshold probability for classifying observations is 0.5. All observation with predicted probability greater than 0.5 are classified as belonging to class $y=1$, while others are classified as belonging to class $y=0$. \n",
    "\n",
    "Which of the following plots correctly visualizes the predicted class based on $x_1$ and $x_2$?"
   ]
  },
  {
   "cell_type": "code",
   "execution_count": 21,
   "id": "60eb9380",
   "metadata": {},
   "outputs": [
    {
     "data": {
      "text/html": [
       "<img src=\"./Datasets/logit.jpg\" width=\"600\"/>"
      ],
      "text/plain": [
       "<IPython.core.display.Image object>"
      ]
     },
     "execution_count": 21,
     "metadata": {},
     "output_type": "execute_result"
    }
   ],
   "source": [
    "#| echo: false\n",
    "\n",
    "# import image module\n",
    "from IPython.display import Image\n",
    "\n",
    "# get the image\n",
    "Image(url=\"./Datasets/logit.jpg\", width=600)"
   ]
  },
  {
   "cell_type": "markdown",
   "id": "6985b451",
   "metadata": {},
   "source": [
    "<span style='color:Blue'>**Answer**:</span>\n",
    "<span style='color:Blue'>D</span>\n",
    "\n",
    "<span style='color:Blue'>**Explanation**:</span>\n",
    "\n",
    "\n",
    "<span style='color:Blue'>$x_1$ will not have an impact on the outcome because its coefficient is 0. When $x_2>5, p(x)$ will be less than $0.5$ and $y$ will equal 0, as the decisions threshold probability ois 0.5. When $x_2<5, p(x)$ will be greater than $0.5$ and $y$ will equal $1$. </span>"
   ]
  },
  {
   "cell_type": "markdown",
   "id": "5562eaf1",
   "metadata": {},
   "source": [
    "## ROC-AUC\n",
    "\n",
    "In which of the following cases will ROC-AUC be the most appropriate metric to optimize among the all the performance metrics we have seen in this course.\n",
    "\n",
    "A) There are wide disparities in the cost of false negatives vs. false positives, for example, predicting if the person has a serious disease.\n",
    "\n",
    "B) The predicted probabilities will be used to rank observations, instead of classifying them, for example, the Google search engine using the predicted probabilities to rank pages in the decreasing order of relevance to the search query, instead of classifying the observations as 'relevant' and 'not relevant'.\n",
    "\n",
    "C) We wish to maximize the overall classification accuracy, for example, predicting if a person will vote for the Democrat or the Republican candidate in the US Presidential elections. Here, you may assume that the cost of false positives is similar to the cost of false negatives.\n",
    "\n",
    "<span style='color:Blue'>**Answer**:</span>\n",
    "<span style='color:Blue'>(B) only </span>\n",
    "\n",
    "<span style='color:Blue'>**Explanation**:</span>\n",
    "\n",
    "<span style='color:Blue'>(A) is incorrect because in cases where there are wide disparities in the cost of false negatives vs. false positives, it may be critical to minimize the performance metric associated with a higher loss. For example when predicting if the person has a serious disease, a false positive could lead to expensive and unnecessary medical treatment. Conversely, a false negative could result in a delay in diagnosis and treatment, potentially leading to a worse outcome. Thus, we want to prioritize minimizing false negatives. Since ROC-AUC is decision-threshold invariant, it's not a useful metric for this type of optimization.</span>\n",
    "\n",
    "<span style='color:Blue'>(B) is correct. ROC-AUC is scale-invariant. It measures how well predictions are ranked, rather than the absolute values of the predicted probabilities. Check the [link](https://developers.google.com/machine-learning/crash-course/classification/roc-and-auc). </span>\n",
    "\n",
    "<span style='color:Blue'>(C) is incorrect because AUC is classification-threshold-invariant. It measures the quality of the model's predictions irrespective of what classification threshold is chosen. However, the overall accuracy changes with change in decision threshold probability. To maximize overall accuracy, we need to find the optimal decision threshold probability.</span>"
   ]
  },
  {
   "cell_type": "markdown",
   "id": "2847e87b",
   "metadata": {},
   "source": [
    "## Model selection\n",
    "\n",
    "Which of the following linear model selection methods can be used when number of predictors is greater than the number of observations in linear regression?\n",
    "\n",
    "A) Lasso\n",
    "\n",
    "B) Ridge regression\n",
    "\n",
    "C) Forward stepwise selection\n",
    "\n",
    "D) Backward stepwise selection\n",
    "\n",
    "E) Best subset selection\n",
    "\n",
    "<span style='color:Blue'>**Answer**: A, B, C</span>\n",
    "\n",
    "<span style='color:Blue'>**Expanation**:</span>\n",
    "\n",
    "<span style='color:Blue'>When number of predictors is greater than the number of observations, then, in case of ordinary least squares regression, the number of parameters are greater than the number of equations available to estimate those parameters. Thus, there is no unique solution. Also, in equation (1), $R^2_{X_j|X_{-j}}$ is 1, and so $\\hat{var}(\\hat{\\beta_j})$ tends to infinity. Thus, it is not possible to fit an ordinary least squares model in this case. As backward stepwise selection begins with a model considering all predictors, it cannot be used as it is not possible to develop a model with all predictors in this case. </span>\n",
    "\n",
    "<span style='color:Blue'>The best subset selection must consider models with all possible combination/number of predictors. Howvever, as number of predictors cannot be greater than the number of observations, we cannot develop all possible models, and thus we cannot use best subset selection.</span>\n",
    "\n",
    "<span style='color:Blue'>Forward stepwise starts with no predictors and adds one predictor at a time. It is possible to keep adding predictors until the number of predictors *(excluding the intercept)* is one less than the number of observations. From this set of models, the best model can be chosen based on AIC, BIC, or any goodness-of-fit criteria that accounts for the number of predictors. Thus, it is possible to use forward stepwise selection.</span>\n",
    "\n",
    "<span style='color:Blue'>The shrinkage penalty in lasso and ridge regression reduces the variance of the coefficents. The variance is infinity without any penalty when the number of predictors is greater than the number of observations. However, as lasso and ridge regression shrink the penalty, it is possible to obtain a unique solution.</span>\n",
    "\n",
    "<span style='color:Blue'>The following is just for your information, but beyond the scope of this course: With lasso, there will be at most as many non-zero predictors as the number of observations. With ridge regression, there may be more non-zero predictors as compared to the number of observations.</span>"
   ]
  },
  {
   "cell_type": "markdown",
   "id": "dc389966",
   "metadata": {},
   "source": [
    "## Goodness-of-fit\n",
    "\n",
    "Which of the following metrics can be used to compare the goodness-of-fit of models with different number of predictors?\n",
    "\n",
    "A) AIC (Akaike Information criterion)\n",
    "\n",
    "B) R-squared\n",
    "\n",
    "C) Log-Likelihood\n",
    "\n",
    "D) Pseudo R-squared\n",
    "\n",
    "E) LLR p-value\n",
    "\n",
    "<span style='color:Blue'>**Answer**:</span>\n",
    "<span style='color:Blue'>AIC</span>\n",
    "\n",
    "<span style='color:Blue'>**Explanation**:</span>\n",
    "<span style='color:Blue'>AIC is correct because it takes into account both the goodness-of-fit of the model and the complexity of the model (number of predictors). </span>\n",
    "\n",
    "<span style='color:Blue'>$$AIC = -2logL + 2d,$$</span>\n",
    "\n",
    "<span style='color:Blue'>where $L$ is the maximized value of the likelihood function for the estimated model, and $d$ is the number of predictors. From the above equation, we can see that $AIC$ penalizes models with more parameters. Therefore, AIC allows for comparison between models with different numbers of predictors and helps to determine which model is the best fit.</span>\n",
    "\n",
    "<span style='color:Blue'>All the other metrics will increase, while the LLR p-value will decrease with increase in number of predictors, and thus cannot be used to compare models with different number of predictors.</span>"
   ]
  },
  {
   "cell_type": "markdown",
   "id": "359d6915",
   "metadata": {},
   "source": [
    "## Model selection\n",
    "\n",
    "Given a set of predictors, which of the following model selection methods guarantees to provide the best 'least squares' linear regression model, based on adjusted R-squared?\n",
    "\n",
    "A) Best subset selection\n",
    "\n",
    "B) Forward stepwise selection\n",
    "\n",
    "C) Backward stepwise selection\n",
    "\n",
    "D) Linear regression with all the statistically insignificant predictors removed\n",
    "\n",
    "<span style='color:Blue'>**Answer**: A</span>\n",
    "\n",
    "<span style='color:Blue'>**Explanation**: Best subset selection considers every single model possible, while forward and backward selection don't. Therefore, best subset selection necessarily gives the best model, while stepwise selection methods do not. For example, if a model consisting of predictors $x_2$ and $x_3$ is the best possible model, with regards to adjusted $R$-squared, while the model consisting of $x_1$ is the best one predictor model, then forward stepwise selection will fail to identify the best possible model.</span>\n",
    "\n",
    "<span style='color:Blue'>Adjusted $R$-squared depends on the residuals, among other things. However, the residuals don't relate directly to statistical significance of predictors. Statistical significance of a predictor implies that the predictor is significantly linearly associated with the response, but it does not determine the variation in response explained by the predictor.</span>"
   ]
  },
  {
   "cell_type": "markdown",
   "id": "15afe3ae",
   "metadata": {},
   "source": [
    "## MSE estimate\n",
    "\n",
    "Which of the following metrics gives the least biased estimate of MSE (mean squared error) on test data?\n",
    "\n",
    "- Leave-one-out cross validation error \n",
    "- MSE (mean squared error) on a test dataset (or validation set) \n",
    "- K-fold cross validation error, where 1<k<n, where n is the number of observations \n",
    "- All of these\n",
    "\n",
    "<span style='color:Blue'>**Answer**:</span>\n",
    "<span style='color:Blue'>Leave-one-out cross validation error </span>\n",
    "\n",
    "<span style='color:Blue'>**Explanation**:</span>\n",
    "<span style='color:Blue'>Leave-one-out cross-validation offers two advantages:</span>\n",
    "\n",
    "<span style='color:Blue'>- It provides a much less biased measure of test MSE compared to using a single test set because we repeatedly fit a model to a dataset that contains n-1 observations.</span>\n",
    "<span style='color:Blue'>- It tends not to overestimate the test MSE compared to using a single test set.</span>\n",
    "\n",
    "<span style='color:Blue'>**Textbook p200** Details: The test MSE gives us an idea of how well a model will perform on data it hasn’t previously seen, i.e. data that wasn’t used to “train” the model.</span>\n",
    "\n",
    "<span style='color:Blue'>However, the drawback of using only one testing set is that the test MSE can vary greatly depending on which observations were used in the training and testing sets.</span>\n",
    "\n",
    "<span style='color:Blue'>One way to avoid this problem is to fit a model several times using a different training and testing set each time, then calculating the test MSE to be the average of all of the test MSE’s.</span>\n",
    "\n",
    "<span style='color:Blue'>Like the validation set approach, LOOCV involves splitting the set of observations into two parts (test \\& train). However, instead of creating two subsets of comparable size, LOOCV uses a single observation $(x_1,y_1)$ for the validation set, and the remaining observations ${(x_2, y_2), . . . , (x_n, y_n)}$ for the training set.</span>\n",
    "\n",
    "<span style='color:Blue'>The statistical learning method is fit on the $n − 1$ training observations, and a prediction $\\hat{y_1}$ is made for the excluded observation using its value $x_1$. Since $(x_1,y_1)$ was not used in the fitting process, $MSE_1 = (y_1 − \\hat{y_1})^2$ provides an approximately unbiased estimate for the test error."
   ]
  },
  {
   "cell_type": "markdown",
   "id": "0aaff3cd",
   "metadata": {},
   "source": [
    "## Stepwise with categorical variable\n",
    "\n",
    "Suppose you have a categorical predictor `gender` in the dataset with 3 distinct values - 'male', 'female', and 'other'. Following are three ways to transform this predictor to make it suitable for forward stepwise selection. Which method is likely to provide the best model and which method is likely to provide the worst model, with regard to prediction accuracy on unknown (test) data?\n",
    "\n",
    "A) Use the predictor `gender` as it is for forward stepwise selection.\n",
    "\n",
    "B) Convert the predictor to 3 dummy variables - 'male', 'female', and 'other', where each dummy variable has 0s and 1s, depending on the 'gender', and use the dummy variables for forward stepwise selection, instead of `gender`\n",
    "\n",
    "C) Replace the values of 'male' to 0, 'female' to 1, and 'other' to 2 in 'gender', and then use `gender` in forward stepwise selection\n",
    "\n",
    "A) B is likely to provide the best model and, A or C are likely to provide the worst model\n",
    "\n",
    "B) C is likely to provide the best model and A is likely to provide the worst model\n",
    "\n",
    "C) C is likely to provide the best model and B is likely to provide the worst model\n",
    "\n",
    "D) B is likely to provide the best model and A is likely to provide the worst model\n",
    "\n",
    "E) None of these\n",
    "\n",
    "<span style='color:Blue'>**Answer**: </span>\n",
    "<span style='color:Blue'>B is likely to provide the best model, and A or C are likely to provide the worst model.</span>\n",
    "\n",
    "<span style='color:Blue'>**Explanation**:</span>\n",
    "\n",
    "<span style='color:Blue'>B is likely to provide the best model because breaking down a categorical variable into dummy variables allows us to perform stepwise selection for each class in `gender`. So it gives the algorithm the option to choose among more models than using the predictor `gender` as it is in the selection.</span>\n",
    "\n",
    "<span style='color:Blue'>C is likely to provide a worse model as compared to B since it introduces an unreasonable constraint in the model that holding all other predictors constant, the difference in response between *female* and *male* is the same as the difference in response between *other* and *female*. In other words, we are converting categorical variables into ordinals which is constraining the model to find the relationship of the predictor in the order of male-female-other even though that may not be the case.</span>\n",
    "\n",
    "<span style='color:Blue'>A is likely to provide a worse model as compared to B because it introuces a constraint in the model to either include all genders, or no gender. If only the *female* gender explains some variation in response, while there is no distinction between *male* and *other*, then the model should not be forced to keep the *male* and *other* categories. Suppose the *other* category happens to have a very few observations leading to an unstable coefficient *(high standard error)*, then it may reduce the prediction accuracy.</span>"
   ]
  },
  {
   "cell_type": "markdown",
   "id": "fdeab7d5",
   "metadata": {},
   "source": [
    "## ROC-AUC\n",
    "\n",
    "Which of the following statements regarding ROC-AUC (area under the ROC curve) are true, with regard to a binary classification problem where the classes are named as 'positive' and 'negative'?\n",
    "\n",
    "A) ROC-AUC is zero if the model makes random predictions\n",
    "\n",
    "B) The larger the ROC-AUC the better the performance of a logistic regression model\n",
    "\n",
    "C) ROC-AUC is as the probability that the model ranks a random positive observation more highly than a random negative observation, where a higher rank corresponds to a higher predicted probability\n",
    "\n",
    "D) The ROC-AUC can never be negative\n",
    "\n",
    "<span style='color:Blue'>**Answer**:</span>\n",
    "<span style='color:Blue'>B, C, D</span>\n",
    "\n",
    "<span style='color:Blue'>**Explanation**:</span>\n",
    "\n",
    "<span style='color:Blue'>A) is incorrect because ROC-AUC is 50% if the model makes random predictions.</span>\n",
    "\n",
    "<span style='color:Blue'>B) is correct because AUC ranges from 0-1. The larger the ROC-AUC, the better the model is distinguishing between the classes. ROC-AUC is 1.0 when there is perfect seperation of classes based on the predicted probability.</span>\n",
    "\n",
    "<span style='color:Blue'>C) is correct because AUC is the probability that a randomly selected positive observation has a higher predicted probability as compared to a randomly selected negative observation.</span>\n",
    "\n",
    "<span style='color:Blue'>D) is correct because ROC-AUC is a probability.</span>"
   ]
  },
  {
   "cell_type": "markdown",
   "id": "c209ec74",
   "metadata": {},
   "source": [
    "## Lasso\n",
    "\n",
    "The lasso, relative to least squares, is:\n",
    "\n",
    "A) More flexible and hence will give improved prediction accuracy when its increase in bias is less than its decrease in variance \n",
    "\n",
    "B) Less flexible and hence will give improved prediction accuracy when its increase in bias is less than its decrease in variance \n",
    "\n",
    "C) Less flexible and hence will give improved prediction accuracy when its increase in variance is less than its decrease in bias\n",
    "\n",
    "D) More flexible and hence will give improved prediction accuracy when its increase in variance is less than its decrease in bias \n",
    "\n",
    "<span style='color:Blue'>**Answer**: B </span>\n",
    "\n",
    "<span style='color:Blue'>**Explanation**: </span>\n",
    "\n",
    "<span style='color:Blue'>The cost function for lasso consists of the sum of absolute value of coefficients called the shrinkage penalty or the  regularization term. This term helps to reduce the complexity of the model by shrinking the regression coefficients towards zero. Because of this penalty, lasso is less flexible *(compared to the least squares)*, as it restricts the range of possible coefficient values, whereas least squares can assign any value to the coefficients. The decreased flexibility means that lasso has less variance in its predictions and more bias. </span>\n",
    "\n",
    "<span style='color:Blue'>The penalty terms in the optimization will lead to bias in estimates, leading to less accuracy in prediction. At the same time, reducing the size of coefficients gives them less variance, increasing the accuracy of prediction. Thus, when the increase in bias is less than the decrease in variance, it can lead to improved prediction accuracy. This is a bias-variance trade-off.</span>"
   ]
  },
  {
   "cell_type": "markdown",
   "id": "ebc9f97e",
   "metadata": {},
   "source": [
    "## Computational complexity\n",
    "\n",
    "Arrange the following model selection methods in increasing order of computational complexity:\n",
    "\n",
    "Ridge regression, best subset selection, forward stepwise selection\n",
    "\n",
    "<span style='color:Blue'>**Answer**:</span>\n",
    "<span style='color:Blue'>Ridge regression, forward stepwise selection, best subset selection </span>\n",
    "\n",
    "\n",
    "<span style='color:Blue'>**Explanation**:\n",
    "<span style='color:Blue'>Best subset selection requires the most computation complexity because it considers all $2^p$ possible models containing subsets of the $p$ predictors. It cannot be used in case of even a slightly large number of predictors. For example, in case of 30 predictors, more than a billion models will need to be developed to find the best subset model.</span>\n",
    "\n",
    "<span style='color:Blue'>In forward stepwise selection, the total number of models with $p$ predictors is $\\frac{p(p+1)}{2}$. In case of 30 predictors, this will 435 models.</span>\n",
    "\n",
    "<span style='color:Blue'>In ridge regression, we need to fit only one model.</span>"
   ]
  },
  {
   "cell_type": "markdown",
   "id": "145aadad",
   "metadata": {},
   "source": [
    "## K-fold CV\n",
    "\n",
    "For optimizing parameters of a model, $K$-fold cross validation is preferred over the validation set approach (computing error on a test dataset) because:\n",
    "\n",
    "A) Validation dataset may have observations overlapping with the training dataset\n",
    "\n",
    "B) Error on validation dataset is likely to be similar to the error on training data, leading to less value addition\n",
    "\n",
    "C) $K$-fold cross validation is computationally less expensive \n",
    "\n",
    "D) Error on the validation dataset can be highly variable \n",
    "\n",
    "<span style='color:Blue'>**Answer**: D</span>\n",
    "\n",
    "<span style='color:Blue'>**Explanation**: </span>\n",
    "\n",
    "<span style='color:Blue'>Testing on one validation set is unreliable because the result is highly dependent on the distribution of the data in the test set. By testing on several validation sets, this concern is alleviated to some extent. </span>\n",
    "\n",
    "<span style='color:Blue'>$K$-fold cross validation is computationally more expensive because $K$-fold requires multiple training/testing iterations in order to generate reliable results. This means that the entire dataset must be split into subsets, trained on each subset, and tested. This process must be repeated $K$ times.</span>\n",
    "\n",
    "<span style='color:Blue'>Error on validation dataset is not likely to be similar to the error on training data in scenarios such as overfitting.</span>\n",
    "\n",
    "<span style='color:Blue'>The validation dataset approach assigns each observation to either train or test data, but not both.</span>"
   ]
  },
  {
   "cell_type": "markdown",
   "id": "48c01c18",
   "metadata": {},
   "source": [
    "## Binning\n",
    "\n",
    "Binning of a continuous predictor, and then using the bins as predictors in logistic regression is likely to be useful when:\n",
    "\n",
    "A) The proportion of observations belonging to a class have a non-monotonic relationship with the predictor\n",
    "\n",
    "B) The proportion of observations belonging to a class have a monotonic relationship with the predictor\n",
    "\n",
    "C) The proportion of observations belonging to a class are almost constant for each bin of the predictor \n",
    "\n",
    "D) The predictor has low variance: \n",
    "\n",
    "<span style='color:Blue'>**Answer**:</span>\n",
    "<span style='color:Blue'>A</span>\n",
    "\n",
    "<span style='color:Blue'>**Explanation**:\n",
    "<span style='color:Blue'>A single coefficient for a predictor will only provide predicted probabilities that are either continuously increasing or continuously decreasing with increasing predictor values. Thus, it will model only a monotonic (non-decreasing / non-increasing) relationship with the response. In case of a non-monotonic relationship, binning provides the required flexibility to have predicted probabilites that may increase or decrease with increase in predictor values.</span>\n",
    "\n",
    "<span style='color:Blue'>If the proportion of observations belonging to a class are almost constant for each bin of the predictor, then the bins do not explain the variation in the response, and thus are not useful.</span>\n",
    "\n",
    "<span style='color:Blue'>If the predictor itself is not varying, then it is unlikely to explain the variation in response, and binning cannot help increase the predictor variance.</span>"
   ]
  },
  {
   "cell_type": "markdown",
   "id": "1acebbf0",
   "metadata": {},
   "source": [
    "# Coding questions {-}"
   ]
  },
  {
   "cell_type": "markdown",
   "id": "199f1e62",
   "metadata": {},
   "source": [
    "## Inference - Logistic regression\n",
    "\n",
    "Develop a logistic regression model to predict if a patient has a risk of a 10 year coronary heart disease. TenYearCHD = 1 means 'Yes' and TenYearCHD = 0 means 'No'. Use all the available predictors plus only one relevant interaction to answer the question below.\n",
    "\n",
    "Assuming all other predictors are constant, how much percent higher are the odds of male smokers getting diagnosed with heart disease as compared to female smokers. Round up the answer to the nearest integer greater than the answer. For example, if the odds of male smokers getting diagnosed with heart disease are 50.1% higher than that of female smokers, then enter 51 in the box."
   ]
  },
  {
   "cell_type": "code",
   "execution_count": 70,
   "id": "edf47ff8",
   "metadata": {},
   "outputs": [],
   "source": [
    "import pandas as pd\n",
    "import numpy as np\n",
    "import seaborn as sns\n",
    "import matplotlib.pyplot as plt\n",
    "from sklearn.linear_model import Ridge, RidgeCV, Lasso, LassoCV\n",
    "from sklearn.preprocessing import StandardScaler \n",
    "from sklearn.metrics import r2_score\n",
    "import statsmodels.formula.api as sm\n",
    "import itertools\n",
    "import time"
   ]
  },
  {
   "cell_type": "code",
   "execution_count": 71,
   "id": "5ba08461",
   "metadata": {},
   "outputs": [],
   "source": [
    "train = pd.read_csv('./Datasets/train_heart.csv')\n",
    "test = pd.read_csv('./Datasets/test_heart.csv')"
   ]
  },
  {
   "cell_type": "code",
   "execution_count": 72,
   "id": "c3b0d31b",
   "metadata": {},
   "outputs": [],
   "source": [
    "predictors = list(train.columns)[0:train.shape[1]-1]"
   ]
  },
  {
   "cell_type": "code",
   "execution_count": 73,
   "id": "ddb6013d",
   "metadata": {},
   "outputs": [
    {
     "data": {
      "text/html": [
       "<table class=\"simpletable\">\n",
       "<caption>Logit Regression Results</caption>\n",
       "<tr>\n",
       "  <th>Dep. Variable:</th>      <td>TenYearCHD</td>    <th>  No. Observations:  </th>  <td>  2742</td>  \n",
       "</tr>\n",
       "<tr>\n",
       "  <th>Model:</th>                 <td>Logit</td>      <th>  Df Residuals:      </th>  <td>  2725</td>  \n",
       "</tr>\n",
       "<tr>\n",
       "  <th>Method:</th>                 <td>MLE</td>       <th>  Df Model:          </th>  <td>    16</td>  \n",
       "</tr>\n",
       "<tr>\n",
       "  <th>Date:</th>            <td>Fri, 10 Mar 2023</td> <th>  Pseudo R-squ.:     </th>  <td>0.1085</td>  \n",
       "</tr>\n",
       "<tr>\n",
       "  <th>Time:</th>                <td>02:35:34</td>     <th>  Log-Likelihood:    </th> <td> -1031.3</td> \n",
       "</tr>\n",
       "<tr>\n",
       "  <th>converged:</th>             <td>True</td>       <th>  LL-Null:           </th> <td> -1156.8</td> \n",
       "</tr>\n",
       "<tr>\n",
       "  <th>Covariance Type:</th>     <td>nonrobust</td>    <th>  LLR p-value:       </th> <td>3.307e-44</td>\n",
       "</tr>\n",
       "</table>\n",
       "<table class=\"simpletable\">\n",
       "<tr>\n",
       "           <td></td>             <th>coef</th>     <th>std err</th>      <th>z</th>      <th>P>|z|</th>  <th>[0.025</th>    <th>0.975]</th>  \n",
       "</tr>\n",
       "<tr>\n",
       "  <th>Intercept</th>          <td>   -7.7337</td> <td>    0.835</td> <td>   -9.266</td> <td> 0.000</td> <td>   -9.369</td> <td>   -6.098</td>\n",
       "</tr>\n",
       "<tr>\n",
       "  <th>male</th>               <td>    0.4546</td> <td>    0.173</td> <td>    2.634</td> <td> 0.008</td> <td>    0.116</td> <td>    0.793</td>\n",
       "</tr>\n",
       "<tr>\n",
       "  <th>currentSmoker</th>      <td>    0.0353</td> <td>    0.203</td> <td>    0.174</td> <td> 0.862</td> <td>   -0.362</td> <td>    0.433</td>\n",
       "</tr>\n",
       "<tr>\n",
       "  <th>male:currentSmoker</th> <td>    0.0149</td> <td>    0.247</td> <td>    0.060</td> <td> 0.952</td> <td>   -0.469</td> <td>    0.499</td>\n",
       "</tr>\n",
       "<tr>\n",
       "  <th>age</th>                <td>    0.0563</td> <td>    0.008</td> <td>    7.242</td> <td> 0.000</td> <td>    0.041</td> <td>    0.071</td>\n",
       "</tr>\n",
       "<tr>\n",
       "  <th>education</th>          <td>   -0.1069</td> <td>    0.058</td> <td>   -1.835</td> <td> 0.067</td> <td>   -0.221</td> <td>    0.007</td>\n",
       "</tr>\n",
       "<tr>\n",
       "  <th>cigsPerDay</th>         <td>    0.0189</td> <td>    0.007</td> <td>    2.586</td> <td> 0.010</td> <td>    0.005</td> <td>    0.033</td>\n",
       "</tr>\n",
       "<tr>\n",
       "  <th>BPMeds</th>             <td>    0.0595</td> <td>    0.284</td> <td>    0.209</td> <td> 0.834</td> <td>   -0.498</td> <td>    0.617</td>\n",
       "</tr>\n",
       "<tr>\n",
       "  <th>prevalentStroke</th>    <td>    0.6269</td> <td>    0.552</td> <td>    1.135</td> <td> 0.256</td> <td>   -0.456</td> <td>    1.709</td>\n",
       "</tr>\n",
       "<tr>\n",
       "  <th>prevalentHyp</th>       <td>    0.2067</td> <td>    0.161</td> <td>    1.281</td> <td> 0.200</td> <td>   -0.109</td> <td>    0.523</td>\n",
       "</tr>\n",
       "<tr>\n",
       "  <th>diabetes</th>           <td>   -0.1072</td> <td>    0.386</td> <td>   -0.278</td> <td> 0.781</td> <td>   -0.863</td> <td>    0.649</td>\n",
       "</tr>\n",
       "<tr>\n",
       "  <th>totChol</th>            <td>    0.0014</td> <td>    0.001</td> <td>    1.061</td> <td> 0.288</td> <td>   -0.001</td> <td>    0.004</td>\n",
       "</tr>\n",
       "<tr>\n",
       "  <th>sysBP</th>              <td>    0.0174</td> <td>    0.004</td> <td>    3.904</td> <td> 0.000</td> <td>    0.009</td> <td>    0.026</td>\n",
       "</tr>\n",
       "<tr>\n",
       "  <th>diaBP</th>              <td>   -0.0050</td> <td>    0.007</td> <td>   -0.678</td> <td> 0.498</td> <td>   -0.020</td> <td>    0.010</td>\n",
       "</tr>\n",
       "<tr>\n",
       "  <th>BMI</th>                <td>    0.0036</td> <td>    0.015</td> <td>    0.238</td> <td> 0.812</td> <td>   -0.026</td> <td>    0.033</td>\n",
       "</tr>\n",
       "<tr>\n",
       "  <th>heartRate</th>          <td>   -0.0030</td> <td>    0.005</td> <td>   -0.608</td> <td> 0.543</td> <td>   -0.013</td> <td>    0.007</td>\n",
       "</tr>\n",
       "<tr>\n",
       "  <th>glucose</th>            <td>    0.0076</td> <td>    0.003</td> <td>    2.974</td> <td> 0.003</td> <td>    0.003</td> <td>    0.013</td>\n",
       "</tr>\n",
       "</table>"
      ],
      "text/plain": [
       "<class 'statsmodels.iolib.summary.Summary'>\n",
       "\"\"\"\n",
       "                           Logit Regression Results                           \n",
       "==============================================================================\n",
       "Dep. Variable:             TenYearCHD   No. Observations:                 2742\n",
       "Model:                          Logit   Df Residuals:                     2725\n",
       "Method:                           MLE   Df Model:                           16\n",
       "Date:                Fri, 10 Mar 2023   Pseudo R-squ.:                  0.1085\n",
       "Time:                        02:35:34   Log-Likelihood:                -1031.3\n",
       "converged:                       True   LL-Null:                       -1156.8\n",
       "Covariance Type:            nonrobust   LLR p-value:                 3.307e-44\n",
       "======================================================================================\n",
       "                         coef    std err          z      P>|z|      [0.025      0.975]\n",
       "--------------------------------------------------------------------------------------\n",
       "Intercept             -7.7337      0.835     -9.266      0.000      -9.369      -6.098\n",
       "male                   0.4546      0.173      2.634      0.008       0.116       0.793\n",
       "currentSmoker          0.0353      0.203      0.174      0.862      -0.362       0.433\n",
       "male:currentSmoker     0.0149      0.247      0.060      0.952      -0.469       0.499\n",
       "age                    0.0563      0.008      7.242      0.000       0.041       0.071\n",
       "education             -0.1069      0.058     -1.835      0.067      -0.221       0.007\n",
       "cigsPerDay             0.0189      0.007      2.586      0.010       0.005       0.033\n",
       "BPMeds                 0.0595      0.284      0.209      0.834      -0.498       0.617\n",
       "prevalentStroke        0.6269      0.552      1.135      0.256      -0.456       1.709\n",
       "prevalentHyp           0.2067      0.161      1.281      0.200      -0.109       0.523\n",
       "diabetes              -0.1072      0.386     -0.278      0.781      -0.863       0.649\n",
       "totChol                0.0014      0.001      1.061      0.288      -0.001       0.004\n",
       "sysBP                  0.0174      0.004      3.904      0.000       0.009       0.026\n",
       "diaBP                 -0.0050      0.007     -0.678      0.498      -0.020       0.010\n",
       "BMI                    0.0036      0.015      0.238      0.812      -0.026       0.033\n",
       "heartRate             -0.0030      0.005     -0.608      0.543      -0.013       0.007\n",
       "glucose                0.0076      0.003      2.974      0.003       0.003       0.013\n",
       "======================================================================================\n",
       "\"\"\""
      ]
     },
     "execution_count": 73,
     "metadata": {},
     "output_type": "execute_result"
    }
   ],
   "source": [
    "#logistic model with all predictors and interaction of \"male\"&\"currentSmoker\"\n",
    "model = sm.logit('TenYearCHD~male*currentSmoker+' + '+'.join(predictors), data = train).fit(disp=0)\n",
    "model.summary()"
   ]
  },
  {
   "cell_type": "code",
   "execution_count": 74,
   "id": "6cee30c5",
   "metadata": {},
   "outputs": [
    {
     "data": {
      "text/plain": [
       "1.5992822263126012"
      ]
     },
     "execution_count": 74,
     "metadata": {},
     "output_type": "execute_result"
    }
   ],
   "source": [
    "#Ratio of odds (of having a heart disease) of a male smoker to a female smoker\n",
    "np.exp(model.params['male']+model.params['male:currentSmoker'])"
   ]
  },
  {
   "cell_type": "markdown",
   "id": "9b259c18",
   "metadata": {},
   "source": [
    "## Odds\n",
    "Are the odds of male non-smokers being diagnosed with heart disease even higher than female smokers, based on the model developed in the previous question?"
   ]
  },
  {
   "cell_type": "code",
   "execution_count": 75,
   "id": "73ca7d04",
   "metadata": {},
   "outputs": [
    {
     "data": {
      "text/plain": [
       "1.5209571795703307"
      ]
     },
     "execution_count": 75,
     "metadata": {},
     "output_type": "execute_result"
    }
   ],
   "source": [
    "#Ratio of odds (of having a heart disease) of a male non-smoker to a female smoker\n",
    "np.exp(model.params['male']-model.params['currentSmoker'])"
   ]
  },
  {
   "cell_type": "markdown",
   "id": "a024396b",
   "metadata": {},
   "source": [
    "## Tuning threshold probability\n",
    "Among the options below, which is the maximum threshold probability of classifying observations into classes (TenYearCHD = 1 and TenYearCHD = 0), such that the false negative rate less than 20% on both the test and train datasets?"
   ]
  },
  {
   "cell_type": "code",
   "execution_count": 76,
   "id": "ac02af4f",
   "metadata": {},
   "outputs": [],
   "source": [
    "#Function to compute confusion matrix and prediction accuracy on training data\n",
    "def confusion_matrix_train(model,cutoff=0.5):\n",
    "    # Confusion matrix\n",
    "    cm_df = pd.DataFrame(model.pred_table(threshold = cutoff))\n",
    "    #Formatting the confusion matrix\n",
    "    cm_df.columns = ['Predicted 0', 'Predicted 1'] \n",
    "    cm_df = cm_df.rename(index={0: 'Actual 0',1: 'Actual 1'})\n",
    "    cm = np.array(cm_df)\n",
    "    # Calculate the accuracy\n",
    "    accuracy = 100*(cm[0,0]+cm[1,1])/cm.sum()\n",
    "    fnr = 100*cm[1,0]/(cm[1,0]+cm[1,1])\n",
    "    return cm_df, accuracy, fnr\n",
    "\n",
    "#Function to compute confusion matrix and prediction accuracy on test data\n",
    "def confusion_matrix_test(data,actual_values,model,cutoff=0.5):\n",
    "#Predict the values using the Logit model\n",
    "    pred_values = model.predict(data)\n",
    "# Specify the bins\n",
    "    bins=np.array([0,cutoff,1])\n",
    "#Confusion matrix\n",
    "    cm = np.histogram2d(actual_values, pred_values, bins=bins)[0]\n",
    "    cm_df = pd.DataFrame(cm)\n",
    "    cm_df.columns = ['Predicted 0','Predicted 1']\n",
    "    cm_df = cm_df.rename(index={0: 'Actual 0',1:'Actual 1'})\n",
    "# Calculate the accuracy\n",
    "    accuracy = 100*(cm[0,0]+cm[1,1])/cm.sum()\n",
    "    fnr = 100*cm[1,0]/(cm[1,0]+cm[1,1])\n",
    "# Return the confusion matrix and the accuracy\n",
    "    return cm_df, accuracy, fnr"
   ]
  },
  {
   "cell_type": "code",
   "execution_count": 77,
   "id": "ef9f250e",
   "metadata": {},
   "outputs": [
    {
     "name": "stdout",
     "output_type": "stream",
     "text": [
      "(          Predicted 0  Predicted 1\n",
      "Actual 0        388.0        379.0\n",
      "Actual 1         18.0        129.0, 56.564551422319475, 12.244897959183673)\n"
     ]
    },
    {
     "data": {
      "text/plain": [
       "(          Predicted 0  Predicted 1\n",
       " Actual 0       1091.0       1241.0\n",
       " Actual 1         67.0        343.0,\n",
       " 52.29759299781182,\n",
       " 16.341463414634145)"
      ]
     },
     "execution_count": 77,
     "metadata": {},
     "output_type": "execute_result"
    }
   ],
   "source": [
    "print(confusion_matrix_test(test,test.TenYearCHD,model,0.1))\n",
    "confusion_matrix_train(model,0.1)"
   ]
  },
  {
   "cell_type": "code",
   "execution_count": 78,
   "id": "021ed537",
   "metadata": {},
   "outputs": [
    {
     "name": "stdout",
     "output_type": "stream",
     "text": [
      "(          Predicted 0  Predicted 1\n",
      "Actual 0        388.0        379.0\n",
      "Actual 1         18.0        129.0, 56.564551422319475, 12.244897959183673)\n"
     ]
    },
    {
     "data": {
      "text/plain": [
       "(          Predicted 0  Predicted 1\n",
       " Actual 0       1091.0       1241.0\n",
       " Actual 1         67.0        343.0,\n",
       " 52.29759299781182,\n",
       " 16.341463414634145)"
      ]
     },
     "execution_count": 78,
     "metadata": {},
     "output_type": "execute_result"
    }
   ],
   "source": [
    "print(confusion_matrix_test(test,test.TenYearCHD,model,0.1))\n",
    "confusion_matrix_train(model,0.1)"
   ]
  },
  {
   "cell_type": "markdown",
   "id": "78f5c2b6",
   "metadata": {},
   "source": [
    "## Forward stepwise\n",
    "Use forward stepwise selection to select a logistic regression model for predicting if a patient has a risk of a 10 year coronary heart disease. How many predictors are there in the best model as per the BIC criterion?"
   ]
  },
  {
   "cell_type": "code",
   "execution_count": 37,
   "id": "6fec5980",
   "metadata": {},
   "outputs": [],
   "source": [
    "def best_sub_plots():\n",
    "    plt.figure(figsize=(20,10))\n",
    "    plt.rcParams.update({'font.size': 18, 'lines.markersize': 10})\n",
    "\n",
    "    # Set up a 2x2 grid so we can look at 4 plots at once\n",
    "    plt.subplot(1, 2, 1)\n",
    "\n",
    "    # We will now plot a red dot to indicate the model with the largest adjusted R^2 statistic.\n",
    "    # The argmax() function can be used to identify the location of the maximum point of a vector\n",
    "    plt.plot(models_best[\"Rsquared\"])\n",
    "    plt.xlabel('# Predictors')\n",
    "    plt.ylabel('Log likelihood')\n",
    "\n",
    "    bic = models_best.apply(lambda row: row[1].bic, axis=1)\n",
    "\n",
    "    plt.subplot(1, 2, 2)\n",
    "    plt.plot(bic)\n",
    "    plt.plot(1+bic.argmin(), bic.min(), \"or\")\n",
    "    plt.xlabel('# Predictors')\n",
    "    plt.ylabel('BIC')"
   ]
  },
  {
   "cell_type": "code",
   "execution_count": 38,
   "id": "3dac3c1d",
   "metadata": {},
   "outputs": [],
   "source": [
    "#Function to develop a model based on all predictors in predictor_subset\n",
    "def processSubset(predictor_subset):\n",
    "    # Fit model on feature_set and calculate R-squared\n",
    "    model = sm.logit('TenYearCHD~' + '+'.join(predictor_subset),data = train).fit(disp=0)\n",
    "    Rsquared = model.llf\n",
    "    return {\"model\":model, \"Rsquared\":Rsquared}"
   ]
  },
  {
   "cell_type": "code",
   "execution_count": 39,
   "id": "27ac1908",
   "metadata": {},
   "outputs": [],
   "source": [
    "#Function to find the best predictor out of p-k predictors and add it to the model containing the k predictors\n",
    "def forward(predictors):\n",
    "\n",
    "    # Pull out predictors we still need to process\n",
    "    remaining_predictors = [p for p in X.columns if p not in predictors]\n",
    "    \n",
    "    tic = time.time()\n",
    "    \n",
    "    results = []\n",
    "    \n",
    "    for p in remaining_predictors:        \n",
    "        results.append(processSubset(predictors+[p]))\n",
    "    \n",
    "    # Wrap everything up in a nice dataframe\n",
    "    models = pd.DataFrame(results)\n",
    "    \n",
    "    # Choose the model with the highest RSS\n",
    "    best_model = models.loc[models['Rsquared'].argmax()]\n",
    "    \n",
    "    toc = time.time()\n",
    "    print(\"Processed \", models.shape[0], \"models on\", len(predictors)+1, \"predictors in\", (toc-tic), \"seconds.\")\n",
    "    \n",
    "    # Return the best model, along with some other useful information about the model\n",
    "    return best_model"
   ]
  },
  {
   "cell_type": "code",
   "execution_count": 40,
   "id": "9d541649",
   "metadata": {},
   "outputs": [],
   "source": [
    "def forward_selection():\n",
    "    models_best = pd.DataFrame(columns=[\"Rsquared\", \"model\"])\n",
    "\n",
    "    tic = time.time()\n",
    "    predictors = []\n",
    "\n",
    "    for i in range(1,len(X.columns)+1):    \n",
    "        models_best.loc[i] = forward(predictors)\n",
    "        predictors = list(models_best.loc[i][\"model\"].params.index[1:])\n",
    "\n",
    "    toc = time.time()\n",
    "    print(\"Total elapsed time:\", (toc-tic), \"seconds.\")\n",
    "    return models_best"
   ]
  },
  {
   "cell_type": "code",
   "execution_count": 41,
   "id": "deed70ee",
   "metadata": {},
   "outputs": [],
   "source": [
    "X=train.iloc[:,0:train.shape[1]-1]"
   ]
  },
  {
   "cell_type": "code",
   "execution_count": 42,
   "id": "8a8f88c1",
   "metadata": {},
   "outputs": [
    {
     "name": "stdout",
     "output_type": "stream",
     "text": [
      "Processed  15 models on 1 predictors in 0.10073018074035645 seconds.\n",
      "Processed  14 models on 2 predictors in 0.08876228332519531 seconds.\n",
      "Processed  13 models on 3 predictors in 0.09574484825134277 seconds.\n",
      "Processed  12 models on 4 predictors in 0.10770988464355469 seconds.\n",
      "Processed  11 models on 5 predictors in 0.1107032299041748 seconds.\n",
      "Processed  10 models on 6 predictors in 0.10970640182495117 seconds.\n",
      "Processed  9 models on 7 predictors in 0.10073137283325195 seconds.\n",
      "Processed  8 models on 8 predictors in 0.10275673866271973 seconds.\n",
      "Processed  7 models on 9 predictors in 0.09374809265136719 seconds.\n",
      "Processed  6 models on 10 predictors in 0.14561104774475098 seconds.\n",
      "Processed  5 models on 11 predictors in 0.08178091049194336 seconds.\n",
      "Processed  4 models on 12 predictors in 0.06682133674621582 seconds.\n",
      "Processed  3 models on 13 predictors in 0.07779192924499512 seconds.\n",
      "Processed  2 models on 14 predictors in 0.04288506507873535 seconds.\n",
      "Processed  1 models on 15 predictors in 0.020943880081176758 seconds.\n",
      "Total elapsed time: 1.3882873058319092 seconds.\n"
     ]
    }
   ],
   "source": [
    "models_best = forward_selection()"
   ]
  },
  {
   "cell_type": "code",
   "execution_count": 43,
   "id": "9ffb18a9",
   "metadata": {},
   "outputs": [
    {
     "data": {
      "image/png": "[encoded data removed]",
      "text/plain": [
       "<Figure size 1440x720 with 2 Axes>"
      ]
     },
     "metadata": {
      "needs_background": "light"
     },
     "output_type": "display_data"
    }
   ],
   "source": [
    "best_sub_plots()"
   ]
  },
  {
   "cell_type": "markdown",
   "id": "a28ea401",
   "metadata": {},
   "source": [
    "## Multicollinearity\n",
    "\n",
    "You are developing a linear regression model to predict 'SalePrice'. Assume all columns except 'Id' and 'SalePrice' to be predictors.\n",
    "\n",
    "What is the minimum number of predictors to be removed from the model so that there is no multicollinearity?\n",
    "\n",
    "*Assume a VIF of less than 15 indicates absence of multicollinearity.*"
   ]
  },
  {
   "cell_type": "code",
   "execution_count": 52,
   "id": "de0e0552",
   "metadata": {},
   "outputs": [],
   "source": [
    "train = pd.read_csv('./Datasets/housing_train.csv')\n",
    "test = pd.read_csv('./Datasets/housing_test.csv')"
   ]
  },
  {
   "cell_type": "code",
   "execution_count": 53,
   "id": "b3335459",
   "metadata": {},
   "outputs": [],
   "source": [
    "predictors = list(train.columns)[1:train.shape[1]-1]\n",
    "X = train[predictors]"
   ]
  },
  {
   "cell_type": "code",
   "execution_count": 54,
   "id": "c49e47c7",
   "metadata": {},
   "outputs": [
    {
     "name": "stdout",
     "output_type": "stream",
     "text": [
      "          feature           VIF\n",
      "0           const  2.419858e+06\n",
      "1      MSSubClass  1.480034e+00\n",
      "2         LotArea  1.342832e+00\n",
      "3     OverallQual  3.438243e+00\n",
      "4     OverallCond  1.601301e+00\n",
      "5       YearBuilt  3.965491e+00\n",
      "6    YearRemodAdd  2.223979e+00\n",
      "7      BsmtFinSF1           inf\n",
      "8      BsmtFinSF2           inf\n",
      "9       BsmtUnfSF           inf\n",
      "10    TotalBsmtSF           inf\n",
      "11     FirstFlrSF           inf\n",
      "12    SecondFlrSF           inf\n",
      "13   LowQualFinSF           inf\n",
      "14      GrLivArea           inf\n",
      "15   BsmtFullBath  2.242659e+00\n",
      "16   BsmtHalfBath  1.140692e+00\n",
      "17       FullBath  2.911473e+00\n",
      "18       HalfBath  2.190673e+00\n",
      "19   BedroomAbvGr  2.199007e+00\n",
      "20   KitchenAbvGr  1.624357e+00\n",
      "21   TotRmsAbvGrd  4.917930e+00\n",
      "22     Fireplaces  1.556896e+00\n",
      "23     GarageCars  5.565460e+00\n",
      "24     GarageArea  5.397997e+00\n",
      "25     WoodDeckSF  1.253248e+00\n",
      "26    OpenPorchSF  1.219440e+00\n",
      "27  EnclosedPorch  1.242530e+00\n",
      "28       SsnPorch  1.032740e+00\n",
      "29    ScreenPorch  1.127507e+00\n",
      "30       PoolArea  1.095423e+00\n",
      "31        MiscVal  1.032655e+00\n",
      "32         MoSold  1.058330e+00\n",
      "33         YrSold  1.048841e+00\n"
     ]
    },
    {
     "name": "stderr",
     "output_type": "stream",
     "text": [
      "C:\\Users\\akl0407\\Anaconda3\\lib\\site-packages\\statsmodels\\stats\\outliers_influence.py:193: RuntimeWarning: divide by zero encountered in double_scalars\n",
      "  vif = 1. / (1. - r_squared_i)\n"
     ]
    }
   ],
   "source": [
    "from statsmodels.stats.outliers_influence import variance_inflation_factor\n",
    "from statsmodels.tools.tools import add_constant\n",
    "def vif(X):\n",
    "    X = add_constant(X)\n",
    "    vif_data = pd.DataFrame()\n",
    "    vif_data[\"feature\"] = X.columns\n",
    "\n",
    "    for i in range(len(X.columns)):\n",
    "        vif_data.loc[i,'VIF'] = variance_inflation_factor(X.values, i)\n",
    "\n",
    "    print(vif_data)\n",
    "vif(X)"
   ]
  },
  {
   "cell_type": "code",
   "execution_count": 55,
   "id": "a0decf64",
   "metadata": {},
   "outputs": [
    {
     "name": "stdout",
     "output_type": "stream",
     "text": [
      "          feature           VIF\n",
      "0           const  2.419858e+06\n",
      "1      MSSubClass  1.480034e+00\n",
      "2         LotArea  1.342832e+00\n",
      "3     OverallQual  3.438243e+00\n",
      "4     OverallCond  1.601301e+00\n",
      "5       YearBuilt  3.965491e+00\n",
      "6    YearRemodAdd  2.223979e+00\n",
      "7      BsmtFinSF2  1.131439e+00\n",
      "8       BsmtUnfSF  2.577553e+00\n",
      "9     TotalBsmtSF  5.130743e+00\n",
      "10     FirstFlrSF           inf\n",
      "11    SecondFlrSF           inf\n",
      "12   LowQualFinSF           inf\n",
      "13      GrLivArea           inf\n",
      "14   BsmtFullBath  2.242659e+00\n",
      "15   BsmtHalfBath  1.140692e+00\n",
      "16       FullBath  2.911473e+00\n",
      "17       HalfBath  2.190673e+00\n",
      "18   BedroomAbvGr  2.199007e+00\n",
      "19   KitchenAbvGr  1.624357e+00\n",
      "20   TotRmsAbvGrd  4.917930e+00\n",
      "21     Fireplaces  1.556896e+00\n",
      "22     GarageCars  5.565460e+00\n",
      "23     GarageArea  5.397997e+00\n",
      "24     WoodDeckSF  1.253248e+00\n",
      "25    OpenPorchSF  1.219440e+00\n",
      "26  EnclosedPorch  1.242530e+00\n",
      "27       SsnPorch  1.032740e+00\n",
      "28    ScreenPorch  1.127507e+00\n",
      "29       PoolArea  1.095423e+00\n",
      "30        MiscVal  1.032655e+00\n",
      "31         MoSold  1.058330e+00\n",
      "32         YrSold  1.048841e+00\n"
     ]
    },
    {
     "name": "stderr",
     "output_type": "stream",
     "text": [
      "C:\\Users\\akl0407\\Anaconda3\\lib\\site-packages\\statsmodels\\stats\\outliers_influence.py:193: RuntimeWarning: divide by zero encountered in double_scalars\n",
      "  vif = 1. / (1. - r_squared_i)\n"
     ]
    }
   ],
   "source": [
    "#Remove collinear predictors one at a time\n",
    "remove = ['BsmtFinSF1']\n",
    "pred_filter = [x for x in predictors if x not in remove]\n",
    "X = train[pred_filter]\n",
    "\n",
    "#Recompute VIF\n",
    "vif(X)"
   ]
  },
  {
   "cell_type": "code",
   "execution_count": 56,
   "id": "448d2e9e",
   "metadata": {},
   "outputs": [
    {
     "name": "stdout",
     "output_type": "stream",
     "text": [
      "          feature           VIF\n",
      "0           const  2.419858e+06\n",
      "1      MSSubClass  1.480034e+00\n",
      "2         LotArea  1.342832e+00\n",
      "3     OverallQual  3.438243e+00\n",
      "4     OverallCond  1.601301e+00\n",
      "5       YearBuilt  3.965491e+00\n",
      "6    YearRemodAdd  2.223979e+00\n",
      "7      BsmtFinSF2  1.131439e+00\n",
      "8       BsmtUnfSF  2.577553e+00\n",
      "9     TotalBsmtSF  5.130743e+00\n",
      "10    SecondFlrSF  6.338090e+00\n",
      "11   LowQualFinSF  1.145700e+00\n",
      "12      GrLivArea  1.085217e+01\n",
      "13   BsmtFullBath  2.242659e+00\n",
      "14   BsmtHalfBath  1.140692e+00\n",
      "15       FullBath  2.911473e+00\n",
      "16       HalfBath  2.190673e+00\n",
      "17   BedroomAbvGr  2.199007e+00\n",
      "18   KitchenAbvGr  1.624357e+00\n",
      "19   TotRmsAbvGrd  4.917930e+00\n",
      "20     Fireplaces  1.556896e+00\n",
      "21     GarageCars  5.565460e+00\n",
      "22     GarageArea  5.397997e+00\n",
      "23     WoodDeckSF  1.253248e+00\n",
      "24    OpenPorchSF  1.219440e+00\n",
      "25  EnclosedPorch  1.242530e+00\n",
      "26       SsnPorch  1.032740e+00\n",
      "27    ScreenPorch  1.127507e+00\n",
      "28       PoolArea  1.095423e+00\n",
      "29        MiscVal  1.032655e+00\n",
      "30         MoSold  1.058330e+00\n",
      "31         YrSold  1.048841e+00\n"
     ]
    }
   ],
   "source": [
    "#Remove another collinear predictor\n",
    "remove = ['BsmtFinSF1','FirstFlrSF']\n",
    "pred_filter = [x for x in predictors if x not in remove]\n",
    "X = train[pred_filter]\n",
    "\n",
    "#Recompute VIF\n",
    "vif(X)"
   ]
  },
  {
   "cell_type": "markdown",
   "id": "a1cd74b4",
   "metadata": {},
   "source": [
    "There is no more multicollinearity."
   ]
  },
  {
   "cell_type": "markdown",
   "id": "da08212b",
   "metadata": {},
   "source": [
    "## Lasso\n",
    "Develop a lasso regression model to predict sale price based on all the predictors (except Id) in housing_train.csv. Find the RMSE (root mean squared error) of the developed model on housing_test.csv. Round up your answer to the nearest 100 greater than the answer. For example is the RMSE is 1001, enter 1100 in the box.\n",
    "\n",
    "Note: Use this range of tuning parameter to find its optimal value:\n",
    "\n",
    "`alphas = 10**np.linspace(0,-4,200)*0.5`"
   ]
  },
  {
   "cell_type": "code",
   "execution_count": 57,
   "id": "67df4155",
   "metadata": {},
   "outputs": [],
   "source": [
    "X = train[predictors]\n",
    "#Test dataset\n",
    "Xtest = test[predictors]"
   ]
  },
  {
   "cell_type": "code",
   "execution_count": 58,
   "id": "1b3c1976",
   "metadata": {},
   "outputs": [],
   "source": [
    "#Standardizing test data\n",
    "y = np.log(train.SalePrice)\n",
    "scaler = StandardScaler()\n",
    "scaler.fit(X)\n",
    "Xstd = scaler.transform(X)\n",
    "Xtest_std = scaler.transform(Xtest)"
   ]
  },
  {
   "cell_type": "code",
   "execution_count": 59,
   "id": "db0c2fde",
   "metadata": {},
   "outputs": [
    {
     "data": {
      "text/plain": [
       "0.005359456596025638"
      ]
     },
     "execution_count": 59,
     "metadata": {},
     "output_type": "execute_result"
    }
   ],
   "source": [
    "alphas = 10**np.linspace(0,-4,200)*0.5\n",
    "\n",
    "lassocv = LassoCV(alphas = alphas, cv = 10, max_iter = 100000)\n",
    "lassocv.fit(Xstd, y)\n",
    "\n",
    "#Optimal value of the tuning parameter - lamda\n",
    "lassocv.alpha_"
   ]
  },
  {
   "cell_type": "code",
   "execution_count": 60,
   "id": "853cda71",
   "metadata": {},
   "outputs": [
    {
     "data": {
      "text/plain": [
       "Lasso(alpha=0.005359456596025638)"
      ]
     },
     "execution_count": 60,
     "metadata": {},
     "output_type": "execute_result"
    }
   ],
   "source": [
    "#Using the developed lasso model to predict on test data\n",
    "lasso = Lasso(alpha = lassocv.alpha_)\n",
    "lasso.fit(Xstd, y)"
   ]
  },
  {
   "cell_type": "code",
   "execution_count": 61,
   "id": "16143937",
   "metadata": {},
   "outputs": [
    {
     "data": {
      "text/plain": [
       "25296.540649657465"
      ]
     },
     "execution_count": 61,
     "metadata": {},
     "output_type": "execute_result"
    }
   ],
   "source": [
    "pred=np.exp(lasso.predict(Xtest_std))\n",
    "np.sqrt(((pred-test.SalePrice)**2).mean())"
   ]
  },
  {
   "cell_type": "markdown",
   "id": "8b1b3f73",
   "metadata": {},
   "source": [
    "## Predictor importance\n",
    "Which predictor is the most important in predicting sale price based on the lasso regression model (developed in Q28)?\n",
    "\n",
    "*Hint: Find the predictor with the highest magnitude of coefficient.*"
   ]
  },
  {
   "cell_type": "code",
   "execution_count": 28,
   "id": "37fd0d1d",
   "metadata": {},
   "outputs": [
    {
     "data": {
      "text/plain": [
       "'OverallQual'"
      ]
     },
     "execution_count": 28,
     "metadata": {},
     "output_type": "execute_result"
    }
   ],
   "source": [
    "X.columns[np.argmax(np.abs(lasso.coef_))]"
   ]
  },
  {
   "cell_type": "markdown",
   "id": "f458661c",
   "metadata": {},
   "source": [
    "## Improving model fit\n",
    "Remove the influential points from the train data housing_train.csv. Re-develop the lasso regression model, and compute the RMSE (root mean squared error) of the developed model on housing_test.csv. Round up your answer to the nearest 100 greater than the answer. For example is the RMSE is 1001, enter 1100 in the box.\n",
    "\n",
    "Note: Assume that a data point having a leverage more than 4 times the average leverage and a studentized residual with a magnitude of more than 3 is an influential point."
   ]
  },
  {
   "cell_type": "code",
   "execution_count": 62,
   "id": "6ead756f",
   "metadata": {},
   "outputs": [
    {
     "data": {
      "text/plain": [
       "15"
      ]
     },
     "execution_count": 62,
     "metadata": {},
     "output_type": "execute_result"
    }
   ],
   "source": [
    "model_log = sm.ols('np.log(SalePrice)~' + '+'.join(predictors), data = train).fit()\n",
    "out = model_log.outlier_test()\n",
    "\n",
    "#Average leverage of points\n",
    "average_leverage = (model_log.df_model+1)/model_log.nobs\n",
    "average_leverage\n",
    "\n",
    "#Computing the leverage statistic for each observation\n",
    "influence = model_log.get_influence()\n",
    "leverage = influence.hat_matrix_diag\n",
    "\n",
    "#We will remove all observations that have leverage higher than the threshold value.\n",
    "high_leverage_threshold = 4*average_leverage\n",
    "\n",
    "#Number of high leverage points in the dataset\n",
    "np.sum(leverage>high_leverage_threshold)"
   ]
  },
  {
   "cell_type": "code",
   "execution_count": 63,
   "id": "e5617bb6",
   "metadata": {},
   "outputs": [],
   "source": [
    "#Dropping influential points from data\n",
    "train_filtered = train.drop(np.intersect1d(np.where(np.abs(out.student_resid)>3)[0],\n",
    "                                           (np.where(leverage>high_leverage_threshold)[0])))"
   ]
  },
  {
   "cell_type": "code",
   "execution_count": 64,
   "id": "7c98083a",
   "metadata": {},
   "outputs": [],
   "source": [
    "X = train_filtered[predictors]"
   ]
  },
  {
   "cell_type": "code",
   "execution_count": 65,
   "id": "ad200cd7",
   "metadata": {},
   "outputs": [],
   "source": [
    "#Standardizing test data\n",
    "y = np.log(train_filtered.SalePrice)\n",
    "scaler = StandardScaler()\n",
    "scaler.fit(X)\n",
    "Xstd = scaler.transform(X)\n",
    "Xtest_std = scaler.transform(Xtest)"
   ]
  },
  {
   "cell_type": "code",
   "execution_count": 66,
   "id": "d4196e9b",
   "metadata": {},
   "outputs": [
    {
     "data": {
      "text/plain": [
       "0.005117057010527266"
      ]
     },
     "execution_count": 66,
     "metadata": {},
     "output_type": "execute_result"
    }
   ],
   "source": [
    "alphas = 10**np.linspace(0,-4,200)*0.5\n",
    "\n",
    "lassocv = LassoCV(alphas = alphas, cv = 10, max_iter = 100000)\n",
    "lassocv.fit(Xstd, y)\n",
    "\n",
    "#Optimal value of the tuning parameter - lamda\n",
    "lassocv.alpha_"
   ]
  },
  {
   "cell_type": "code",
   "execution_count": 67,
   "id": "42b075f5",
   "metadata": {},
   "outputs": [
    {
     "data": {
      "text/plain": [
       "Lasso(alpha=0.005117057010527266)"
      ]
     },
     "execution_count": 67,
     "metadata": {},
     "output_type": "execute_result"
    }
   ],
   "source": [
    "#Using the developed lasso model to predict on test data\n",
    "lasso = Lasso(alpha = lassocv.alpha_)\n",
    "lasso.fit(Xstd, y)"
   ]
  },
  {
   "cell_type": "code",
   "execution_count": 68,
   "id": "b9f35945",
   "metadata": {},
   "outputs": [
    {
     "data": {
      "text/plain": [
       "22684.858174164117"
      ]
     },
     "execution_count": 68,
     "metadata": {},
     "output_type": "execute_result"
    }
   ],
   "source": [
    "pred=np.exp(lasso.predict(Xtest_std))\n",
    "np.sqrt(((pred-test.SalePrice)**2).mean())"
   ]
  }
 ],
 "metadata": {
  "kernelspec": {
   "display_name": "Python 3",
   "language": "python",
   "name": "python3"
  },
  "language_info": {
   "codemirror_mode": {
    "name": "ipython",
    "version": 3
   },
   "file_extension": ".py",
   "mimetype": "text/x-python",
   "name": "python",
   "nbconvert_exporter": "python",
   "pygments_lexer": "ipython3",
   "version": "3.8.8"
  }
 },
 "nbformat": 4,
 "nbformat_minor": 5
}
