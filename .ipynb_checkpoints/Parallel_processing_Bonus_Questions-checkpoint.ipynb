{
 "cells": [
  {
   "cell_type": "raw",
   "id": "38e2e510",
   "metadata": {},
   "source": [
    "---\n",
    "title: \"Parallel processing bonus Q\"\n",
    "format: \n",
    "  html:\n",
    "    toc: true\n",
    "    toc-title: Contents\n",
    "    toc-depth: 4\n",
    "    self-contained: true\n",
    "    html-math-method: mathml \n",
    "    number-sections: false\n",
    "jupyter: python3\n",
    "---"
   ]
  },
  {
   "cell_type": "code",
   "execution_count": 23,
   "id": "c92cae19",
   "metadata": {},
   "outputs": [],
   "source": [
    "import numpy as np\n",
    "import pandas as pd\n",
    "from sklearn.model_selection import train_test_split, cross_val_score, cross_val_predict, \\\n",
    "cross_validate, GridSearchCV, RandomizedSearchCV, KFold, StratifiedKFold, RepeatedKFold, RepeatedStratifiedKFold\n",
    "from sklearn.neighbors import KNeighborsClassifier, KNeighborsRegressor\n",
    "from sklearn.preprocessing import StandardScaler\n",
    "from sklearn.metrics import accuracy_score, recall_score, mean_squared_error\n",
    "from scipy.stats import uniform\n",
    "from skopt import BayesSearchCV\n",
    "from skopt.space import Real, Categorical, Integer\n",
    "import seaborn as sns\n",
    "from skopt.plots import plot_objective\n",
    "import matplotlib.pyplot as plt\n",
    "import warnings\n",
    "import time as tm"
   ]
  },
  {
   "cell_type": "code",
   "execution_count": 112,
   "id": "74b0ee0c",
   "metadata": {},
   "outputs": [],
   "source": [
    "#Using the same datasets as used for linear regression in STAT303-2, \n",
    "#so that we can compare the non-linear models with linear regression\n",
    "trainf = pd.read_csv('./Datasets/Car_features_train.csv')\n",
    "trainp = pd.read_csv('./Datasets/Car_prices_train.csv')\n",
    "testf = pd.read_csv('./Datasets/Car_features_test.csv')\n",
    "testp = pd.read_csv('./Datasets/Car_prices_test.csv')\n",
    "train = pd.merge(trainf,trainp)\n",
    "test = pd.merge(testf,testp)\n",
    "train.head()\n",
    "predictors = ['mpg', 'engineSize', 'year', 'mileage']\n",
    "X_train = train[predictors]\n",
    "y_train = train['price']\n",
    "X_test = test[predictors]\n",
    "y_test = test['price']\n",
    "\n",
    "# Scale\n",
    "sc = StandardScaler()\n",
    "\n",
    "sc.fit(X_train)\n",
    "X_train_scaled = sc.transform(X_train)\n",
    "X_test_scaled = sc.transform(X_test)"
   ]
  },
  {
   "cell_type": "markdown",
   "id": "55a3df00",
   "metadata": {},
   "source": [
    "# Case 1: No parallelization"
   ]
  },
  {
   "cell_type": "code",
   "execution_count": 113,
   "id": "834924d8",
   "metadata": {},
   "outputs": [],
   "source": [
    "time_taken_case1 = []\n",
    "for i in range(50):\n",
    "    start_time = tm.time()\n",
    "    Ks = range(1, 20)\n",
    "    kfold = KFold(n_splits=5, shuffle=True, random_state=1)\n",
    "    cross_val_error = []\n",
    "    for k in Ks:\n",
    "        cross_val_error.append(-cross_val_score(KNeighborsRegressor(n_neighbors=k), \n",
    "                          X_train_scaled, y_train, cv = kfold,\n",
    "                           scoring=\"neg_root_mean_squared_error\").mean())\n",
    "    time_taken_case1.append(tm.time() - start_time)"
   ]
  },
  {
   "cell_type": "markdown",
   "id": "4b0cdf93",
   "metadata": {},
   "source": [
    "# Case 2: Parallelization in `cross_val_score()`"
   ]
  },
  {
   "cell_type": "code",
   "execution_count": 114,
   "id": "5e6b16ad",
   "metadata": {},
   "outputs": [],
   "source": [
    "time_taken_case2 = []\n",
    "for i in range(50):\n",
    "    start_time = tm.time()\n",
    "    Ks = range(1, 20)\n",
    "    kfold = KFold(n_splits=5, shuffle=True, random_state=1)\n",
    "    cross_val_error = []\n",
    "    for k in Ks:\n",
    "        cross_val_error.append(-cross_val_score(KNeighborsRegressor(n_neighbors=k), \n",
    "                         X_train_scaled, y_train, cv = kfold, n_jobs = -1,\n",
    "                                  scoring=\"neg_root_mean_squared_error\").mean())\n",
    "    time_taken_case2.append(tm.time() - start_time)"
   ]
  },
  {
   "cell_type": "markdown",
   "id": "e9edb77b",
   "metadata": {},
   "source": [
    "# Case 3: Parallelization in `KNeighborsRegressor()`"
   ]
  },
  {
   "cell_type": "code",
   "execution_count": 115,
   "id": "1507bd00",
   "metadata": {},
   "outputs": [],
   "source": [
    "time_taken_case3 = []\n",
    "for i in range(50):\n",
    "    start_time = tm.time()\n",
    "    Ks = range(1, 20)\n",
    "    kfold = KFold(n_splits=5, shuffle=True, random_state=1)\n",
    "    cross_val_error = []\n",
    "    for k in Ks:\n",
    "        cross_val_error.append(-cross_val_score(KNeighborsRegressor(n_neighbors=k, \n",
    "                n_jobs= -1), X_train_scaled, y_train, cv = kfold, \n",
    "                                  scoring=\"neg_root_mean_squared_error\").mean())\n",
    "    time_taken_case3.append(tm.time() - start_time)"
   ]
  },
  {
   "cell_type": "markdown",
   "id": "6a7e93e9",
   "metadata": {},
   "source": [
    "# Case 4: Nested parallelization: Both `cross_val_score()` and `KNeighborsRegressor()`"
   ]
  },
  {
   "cell_type": "code",
   "execution_count": 116,
   "id": "8fe53b0c",
   "metadata": {},
   "outputs": [],
   "source": [
    "time_taken_case4 = []\n",
    "for i in range(50):\n",
    "    start_time = tm.time()\n",
    "    Ks = range(1, 20)\n",
    "    kfold = KFold(n_splits=5, shuffle=True, random_state=1)\n",
    "    cross_val_error = []\n",
    "    for k in Ks:\n",
    "        cross_val_error.append(-cross_val_score(KNeighborsRegressor(n_neighbors=k, \n",
    "                n_jobs= -1), X_train_scaled, y_train, cv = kfold, n_jobs = -1,\n",
    "                scoring=\"neg_root_mean_squared_error\").mean())\n",
    "    time_taken_case4.append(tm.time() - start_time)"
   ]
  },
  {
   "cell_type": "code",
   "execution_count": null,
   "id": "3dcd6f1f",
   "metadata": {},
   "outputs": [],
   "source": [
    "#| eval: false\n",
    "sns.boxplot([time_taken_case1, time_taken_case2, time_taken_case3, time_taken_case4])\n",
    "plt.xticks([0, 1, 2, 3], ['Case 1', 'Case 2', 'Case 3', 'Case 4']);\n",
    "plt.ylabel('Time');"
   ]
  },
  {
   "cell_type": "code",
   "execution_count": 29,
   "id": "c65f4a5d",
   "metadata": {},
   "outputs": [
    {
     "data": {
      "text/html": [
       "<img src=\"./Datasets/parallel.jpg\" width=\"500\" height=\"400\"/>"
      ],
      "text/plain": [
       "<IPython.core.display.Image object>"
      ]
     },
     "execution_count": 29,
     "metadata": {},
     "output_type": "execute_result"
    }
   ],
   "source": [
    "#| echo: false\n",
    "\n",
    "# import image module\n",
    "from IPython.display import Image\n",
    "\n",
    "# get the image\n",
    "Image(url=\"./Datasets/parallel.jpg\", width=500, height=400)"
   ]
  },
  {
   "cell_type": "markdown",
   "id": "95e240b2",
   "metadata": {},
   "source": [
    "# Q1\n",
    "**Case 1 is without parallelization. Why is Case 3 with parallelization of `KNeighborsRegressor()` taking more time than case 1?**"
   ]
  },
  {
   "cell_type": "markdown",
   "id": "bf76c0e9",
   "metadata": {},
   "source": [
    "# Q2\n",
    "**If nested parallelization is worse than parallelization, why is case 4 with nested parallelization taking less time than case 3 with parallelization of KNeighborsRegressor()?**"
   ]
  },
  {
   "cell_type": "markdown",
   "id": "303f7b71",
   "metadata": {},
   "source": [
    "# Q3\n",
    "**If nested parallelization is worse than no parallelization, why is case 4 with nested parallelization taking less time than case 1 with no parallelization?**"
   ]
  },
  {
   "cell_type": "markdown",
   "id": "524e5219",
   "metadata": {},
   "source": [
    "# Q4\n",
    "**If nested parallelization is the best scenario, why is case 4 with nested parallelization taking more time than case 1 with with parallelization in `cross_val_score()`?**"
   ]
  }
 ],
 "metadata": {
  "kernelspec": {
   "display_name": "Python 3 (ipykernel)",
   "language": "python",
   "name": "python3"
  },
  "language_info": {
   "codemirror_mode": {
    "name": "ipython",
    "version": 3
   },
   "file_extension": ".py",
   "mimetype": "text/x-python",
   "name": "python",
   "nbconvert_exporter": "python",
   "pygments_lexer": "ipython3",
   "version": "3.8.17"
  }
 },
 "nbformat": 4,
 "nbformat_minor": 5
}
