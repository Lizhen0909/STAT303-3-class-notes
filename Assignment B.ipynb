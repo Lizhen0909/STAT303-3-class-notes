{
 "cells": [
  {
   "cell_type": "raw",
   "id": "2d08f12d",
   "metadata": {},
   "source": [
    "---\n",
    "title: \"Assignment B\"\n",
    "format: \n",
    "  html:\n",
    "    toc: true\n",
    "    toc-title: Contents\n",
    "    toc-depth: 4\n",
    "    code-fold: show\n",
    "    self-contained: true\n",
    "jupyter: python3\n",
    "---"
   ]
  },
  {
   "cell_type": "markdown",
   "id": "6efe6ec7",
   "metadata": {},
   "source": [
    "## Instructions {-}\n",
    "\n",
    "1. You may talk to a friend, discuss the questions and potential directions for solving them. However, you need to write your own solutions and code separately, and not as a group activity. \n",
    "\n",
    "2. Do not write your name on the assignment.\n",
    "\n",
    "3. Write your code in the *Code* cells and your answer in the *Markdown* cells of the Jupyter notebook. Ensure that the solution is written neatly enough to understand and grade.\n",
    "\n",
    "4. Use [Quarto](https://quarto.org/docs/output-formats/html-basics.html) to print the *.ipynb* file as HTML. You will need to open the command prompt, navigate to the directory containing the file, and use the command: `quarto render filename.ipynb --to html`. Submit the HTML file.\n",
    "\n",
    "5. The assignment is worth 100 points, and is due on **Thursday, 26th January 2023 at 11:59 pm**. \n",
    "\n",
    "6. **Five points are properly formatting the assignment**. The breakdown is as follows:\n",
    "- Must be an HTML file rendered using Quarto (1 pt). *If you have a Quarto issue, you must mention the issue & quote the error you get when rendering using Quarto in the comments section of Canvas, and submit the ipynb file.* \n",
    "- No name can be written on the assignment, nor can there be any indicator of the student’s identity—e.g. printouts of the working directory should not be included in the final submission  (1 pt)\n",
    "- There aren’t excessively long outputs of extraneous information (e.g. no printouts of entire data frames without good reason, there aren’t long printouts of which iteration a loop is on, there aren’t long sections of commented-out code, etc.) (1 pt)\n",
    "- Final answers of each question are written in Markdown cells (1 pt).\n",
    "- There is no piece of unnecessary / redundant code, and no unnecessary / redundant text (1 pt)"
   ]
  },
  {
   "cell_type": "markdown",
   "id": "93d691ac",
   "metadata": {},
   "source": [
    "## Multiple linear regression"
   ]
  },
  {
   "cell_type": "markdown",
   "id": "76ef6e03",
   "metadata": {},
   "source": [
    "A study was conducted on 97 men with prostate cancer who were due to receive a radical prostatectomy. The dataset *prostate.csv* contains data on 9 measurements made on these 97 men. The description of variables can be found [here](https://rafalab.github.io/pages/649/prostate.html):"
   ]
  },
  {
   "cell_type": "markdown",
   "id": "659b081f",
   "metadata": {},
   "source": [
    "### Training MLR\n",
    "Fit a linear regression model with `lpsa` as the response and all the other variables as predictors. Write down the equation to predict `lpsa` based on the other eight variables.\n",
    "\n",
    "*(2+2 points)*"
   ]
  },
  {
   "cell_type": "markdown",
   "id": "0275c2f6",
   "metadata": {},
   "source": [
    "### Model significance\n",
    "Is the overall regression significant at 5% level? Justify your answer.\n",
    "\n",
    "*(2 points)*"
   ]
  },
  {
   "cell_type": "markdown",
   "id": "77b92cbc",
   "metadata": {},
   "source": [
    "### Coefficient interpretation\n",
    "Interpret the coefficient of `svi`.\n",
    "\n",
    "*(2 points)*"
   ]
  },
  {
   "cell_type": "markdown",
   "id": "457b732c",
   "metadata": {},
   "source": [
    "### Variable significance\n",
    "Report the $p$-values for `gleason` and `age`. What do you conclude about the significance of these variables?\n",
    "\n",
    "*(2+2 points)*"
   ]
  },
  {
   "cell_type": "markdown",
   "id": "018d7f02",
   "metadata": {},
   "source": [
    "### Variable significance from confidence interval\n",
    "What is the 95% confidence interval for the coefficient of `age`? Can you conclude anything about its significance based on the confidence interval?\n",
    "\n",
    "*(2+2 points)*"
   ]
  },
  {
   "cell_type": "markdown",
   "id": "9da0f731",
   "metadata": {},
   "source": [
    "### $p$-value\n",
    "Fit a simple linear regression on `lpsa` against `gleason`. What is the $p$-value for `gleason`?\n",
    "\n",
    "*(1+1 points)*"
   ]
  },
  {
   "cell_type": "markdown",
   "id": "c53ae811",
   "metadata": {},
   "source": [
    "### Predictor significance in presence / absence of other predictors\n",
    "Is the predictor `gleason` statistically significant in the model developed in the previous question *(B.1.6)*? \n",
    "\n",
    "Was `gleason` statistically significant in the model developed in the first question *(B.1.1)* with multiple predictors?\n",
    "\n",
    "Did the statistical significance of `gleason` change in the absence of other predictors? Why or why not?\n",
    "\n",
    "*(1+1+4 points)*"
   ]
  },
  {
   "cell_type": "markdown",
   "id": "2e88fb07",
   "metadata": {},
   "source": [
    "### Prediction\n",
    "Predict `lpsa` of a 65-year old man with `lcavol` = 1.35, `lweight` = 3.65, `lbph` = 0.1, `svi` = 0.22, `lcp` = -0.18, `gleason` = 6.75, and `pgg45` = 25 and find 95% prediction intervals.\n",
    "\n",
    "*(2 points)*"
   ]
  },
  {
   "cell_type": "markdown",
   "id": "63b55c67",
   "metadata": {},
   "source": [
    "### Variable selection\n",
    "Find the largest subset of predictors in the model developed in the first question *(B.1.1)*, such that their coefficients are zero, i.e., none of the predictors in the subset are statistically significant. \n",
    "\n",
    "Does the model $R$-squared change a lot if you remove the set of predictors identifed above from the model in the first question *(B.1.1)*?\n",
    "\n",
    "**Hint:** You may use the `f_test()` method to test hypotheses.\n",
    "\n",
    "*(4+1 points)*"
   ]
  },
  {
   "cell_type": "markdown",
   "id": "4393cced-a26a-47a9-a23d-cba029eeaf27",
   "metadata": {},
   "source": [
    "## Using MLR coefficients and variable transformation\n",
    "\n",
    "The dataset *infmort.csv* gives the infant mortality of different countries in the world. The column `mortality` contains the infant mortality in deaths per 1000 births."
   ]
  },
  {
   "cell_type": "markdown",
   "id": "a2d1b785",
   "metadata": {},
   "source": [
    "###  Data visualisation\n",
    "Make the following plots:\n",
    "\n",
    "1. a boxplot of log(`mortality`) against `region` *(note that a plot of log(`mortality`) against `region` better distinguishes the mortality among regions as compared to a plot of `mortality` against `region`*, \n",
    "\n",
    "2. a boxplot of `income` against `region`, and \n",
    "\n",
    "3. a scatter plot of `mortality` against `income`. \n",
    "\n",
    "What trends do you see in these plots? *Mention the trend separately for each plot.*\n",
    "\n",
    "*(3+2 points)*"
   ]
  },
  {
   "cell_type": "markdown",
   "id": "585590f4",
   "metadata": {},
   "source": [
    "### Removing effect of predictor from response\n",
    "Europe seems to have the lowest infant mortality, but it also has the highest per capita annual income. We want to see if  Europe still has the lowest mortality if we remove the effect of income from the mortality. We will answer this question with the following steps."
   ]
  },
  {
   "cell_type": "markdown",
   "id": "432df7d1",
   "metadata": {},
   "source": [
    "#### Variable transformation\n",
    "Plot: \n",
    "\n",
    "1. `mortality` against `income`, \n",
    "\n",
    "2. log(`mortality`) against `income`,\n",
    "\n",
    "3. `mortality` against log(`income`), and \n",
    "\n",
    "4. log(`mortality`) against log(`income`). \n",
    "\n",
    "Based on the plots, postulate an appropriate model to predict mortality as a function of income. *Print the model summary.*\n",
    "\n",
    "*(2+4 points)*"
   ]
  },
  {
   "cell_type": "markdown",
   "id": "c1cba785",
   "metadata": {},
   "source": [
    "#### Model update\n",
    "Update the model developed in the previous question by adding `region` as a predictor. Print the model summary.\n",
    "\n",
    "*(2 points)*"
   ]
  },
  {
   "cell_type": "markdown",
   "id": "215fcb33",
   "metadata": {},
   "source": [
    "Use the model developed in the previous question to compute `adjusted_mortality` for each observation in the data, where adjusted mortality is the mortality after removing the estimated effect of income. Make a boxplot of log(`adjusted_mortality`) against `region`.\n",
    "\n",
    "*(4+2 points)*"
   ]
  },
  {
   "cell_type": "markdown",
   "id": "b8e7e78f",
   "metadata": {},
   "source": [
    "### Data visualisation after removing effect of predictor from response\n",
    "From the plot in the previous question: \n",
    "\n",
    "1. Does Europe still seem to have the lowest mortality as compared to other regions after removing the effect of income from mortality? \n",
    "\n",
    "2. After adjusting for income, is there any change in the mortality comparison among different regions. Compare the plot developed in the previous question to the plot of `log(mortality)` against `region` developed earlier *(B.2.1)* to answer this question.\n",
    "\n",
    "**Hint:** Do any African / Asian / American countries seem to do better than all the European countries with regard to mortality after adjusting for income? \n",
    "\n",
    "*(1+3 points)*"
   ]
  },
  {
   "cell_type": "markdown",
   "id": "c483d04f",
   "metadata": {},
   "source": [
    "## Variable transformations and interactions"
   ]
  },
  {
   "cell_type": "markdown",
   "id": "f0521e92",
   "metadata": {},
   "source": [
    "The dataset *soc_ind.csv* contains the GDP per capita of some countries along with several social indicators."
   ]
  },
  {
   "cell_type": "markdown",
   "id": "e8cc4d46",
   "metadata": {},
   "source": [
    "### Training SLR\n",
    "For a simple linear regression model predicting `gdpPerCapita`. Which predictor will provide the best model fit *(ignore categorical predictors)*? Let that predictor be $P$.\n",
    "\n",
    "*(2 points)*"
   ]
  },
  {
   "cell_type": "markdown",
   "id": "14cceb6d",
   "metadata": {},
   "source": [
    "### Linearity in relationship\n",
    "Make a scatterplot of `gdpPerCapita` vs $P$. Does the relationship between `gdpPerCapita` and $P$ seem linear or non-linear?\n",
    "\n",
    "*(1 + 2 points)*"
   ]
  },
  {
   "cell_type": "markdown",
   "id": "d86a5991",
   "metadata": {},
   "source": [
    "### Variable transformation\n",
    "If the relationship identified in the previous question is non-linear, identify and include transformation(s) of the predictor $P$ in the model to improve the model fit. \n",
    "\n",
    "Mention the predictors of the transformed model, and report the change in the $R$-squared value of the transformed model as compared to the simple linear regression model with only $P$.\n",
    "\n",
    "*(4+4 points)*"
   ]
  },
  {
   "cell_type": "markdown",
   "id": "5c77722a",
   "metadata": {},
   "source": [
    "### Model visualisation with transformed predictor\n",
    "Plot the regression curve of the transformed model *(developed in the previous question)* over the scatterplot in (b) to visualize model fit. Also make the regression line of the simple linear regression model with only $P$ on the same plot.\n",
    "\n",
    "*(3 + 1 points)*"
   ]
  },
  {
   "cell_type": "markdown",
   "id": "77fae611",
   "metadata": {},
   "source": [
    "### Training MLR with qualitative predictor\n",
    "Develop a model to predict `gdpPerCapita` with $P$ and `continent` as predictors. \n",
    "\n",
    "1. Interpert the intercept term. \n",
    "\n",
    "2. For a given value of $P$, are there any continents that **do not** have a signficant difference between their mean `gdpPerCapita` and that of Africa? If yes, then which ones, and why? If no, then why not? Consider a significance level of 5%.\n",
    "\n",
    "*(4 + 4 points)*"
   ]
  },
  {
   "cell_type": "markdown",
   "id": "4f3a1954",
   "metadata": {},
   "source": [
    "### Variable interaction\n",
    "The model developed in the previous question has a limitation. It assumes that the increase in mean `gdpPerCapita` with a unit increase in $P$ does not depend on the `continent`. \n",
    "\n",
    "1. Eliminate this limitation by including interaction of `continent` with $P$ in the model developed in the previous question. Print the model summary of the model with interactions.\n",
    "\n",
    "2. Interpret the coefficient of any one of the interaction terms.\n",
    "\n",
    "*(4 + 4 points)*"
   ]
  },
  {
   "cell_type": "markdown",
   "id": "329e4e69",
   "metadata": {},
   "source": [
    "### Model visualisation with qualitative predictor\n",
    "Use the model developed in the previous question to plot the regression lines for Africa, Asia, and Europe. Put `gdpPerCapita` on the vertical axis and $P$ on the horizontal axis. Use a legend to distinguish among the regression lines of the three continents.\n",
    "\n",
    "*(4 points)*"
   ]
  },
  {
   "cell_type": "markdown",
   "id": "1f33bca2",
   "metadata": {},
   "source": [
    "### Model interpretation\n",
    "Based on the plot develop in the previous question, which continent has the highest increase in mean `gdpPerCapita` for a unit increase in $P$, and which one has the least? Justify your answer.\n",
    "\n",
    "*(2+2 points)*"
   ]
  }
 ],
 "metadata": {
  "kernelspec": {
   "display_name": "Python 3",
   "language": "python",
   "name": "python3"
  },
  "language_info": {
   "codemirror_mode": {
    "name": "ipython",
    "version": 3
   },
   "file_extension": ".py",
   "mimetype": "text/x-python",
   "name": "python",
   "nbconvert_exporter": "python",
   "pygments_lexer": "ipython3",
   "version": "3.8.8"
  }
 },
 "nbformat": 4,
 "nbformat_minor": 5
}
